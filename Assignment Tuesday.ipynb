{
 "cells": [
  {
   "cell_type": "code",
   "execution_count": 1,
   "metadata": {},
   "outputs": [
    {
     "ename": "IndentationError",
     "evalue": "unexpected indent (1718646833.py, line 2)",
     "output_type": "error",
     "traceback": [
      "\u001b[1;36m  Cell \u001b[1;32mIn[1], line 2\u001b[1;36m\u001b[0m\n\u001b[1;33m    Submitted by: Humara Zardad\u001b[0m\n\u001b[1;37m    ^\u001b[0m\n\u001b[1;31mIndentationError\u001b[0m\u001b[1;31m:\u001b[0m unexpected indent\n"
     ]
    }
   ],
   "source": [
    "                       Assignment#2\n",
    "                    Submitted by: Humara Zardad"
   ]
  },
  {
   "cell_type": "code",
   "execution_count": null,
   "metadata": {},
   "outputs": [],
   "source": [
    "Problem 01: “Understanding NumPy Arrays and Operations” "
   ]
  },
  {
   "cell_type": "code",
   "execution_count": 4,
   "metadata": {},
   "outputs": [
    {
     "name": "stdout",
     "output_type": "stream",
     "text": [
      "Requirement already satisfied: pandas in c:\\users\\admin\\appdata\\local\\programs\\python\\python312\\lib\\site-packages (2.2.3)\n",
      "Requirement already satisfied: numpy>=1.26.0 in c:\\users\\admin\\appdata\\local\\programs\\python\\python312\\lib\\site-packages (from pandas) (2.1.1)\n",
      "Requirement already satisfied: python-dateutil>=2.8.2 in c:\\users\\admin\\appdata\\roaming\\python\\python312\\site-packages (from pandas) (2.9.0.post0)\n",
      "Requirement already satisfied: pytz>=2020.1 in c:\\users\\admin\\appdata\\local\\programs\\python\\python312\\lib\\site-packages (from pandas) (2024.2)\n",
      "Requirement already satisfied: tzdata>=2022.7 in c:\\users\\admin\\appdata\\local\\programs\\python\\python312\\lib\\site-packages (from pandas) (2024.1)\n",
      "Requirement already satisfied: six>=1.5 in c:\\users\\admin\\appdata\\roaming\\python\\python312\\site-packages (from python-dateutil>=2.8.2->pandas) (1.16.0)\n",
      "Note: you may need to restart the kernel to use updated packages.\n",
      "Requirement already satisfied: numpy in c:\\users\\admin\\appdata\\local\\programs\\python\\python312\\lib\\site-packages (2.1.1)\n",
      "Note: you may need to restart the kernel to use updated packages.\n"
     ]
    },
    {
     "data": {
      "text/plain": [
       "array([[46, 29, 49, 13, 48],\n",
       "       [31, 15, 26, 29, 33],\n",
       "       [80, 19, 56, 40, 40],\n",
       "       [53, 25, 32, 66, 79]], dtype=int32)"
      ]
     },
     "execution_count": 4,
     "metadata": {},
     "output_type": "execute_result"
    }
   ],
   "source": [
    "#Create a NumPy array of shape (4, 5) filled with random integers between 1 and 100.\n",
    "\n",
    "%pip install pandas\n",
    "%pip install numpy\n",
    "import pandas as pd\n",
    "import numpy as np\n",
    "\n",
    "array_4_5=np.random.randint(1,101, size=(4,5))\n",
    "array_4_5"
   ]
  },
  {
   "cell_type": "code",
   "execution_count": 5,
   "metadata": {},
   "outputs": [
    {
     "data": {
      "text/plain": [
       "array([[46, 29, 49, 13, 48, 31, 15, 26, 29, 33],\n",
       "       [80, 19, 56, 40, 40, 53, 25, 32, 66, 79]], dtype=int32)"
      ]
     },
     "execution_count": 5,
     "metadata": {},
     "output_type": "execute_result"
    }
   ],
   "source": [
    "#Reshape the array into a shape of (2, 10) and explain how reshaping works in NumPy.\n",
    "#Reshaping allows us to change the dimensions of an array without changing its data. The total number of elements must remain the same. \n",
    "array_2_10= array_4_5.reshape(2,10)\n",
    "array_2_10\n"
   ]
  },
  {
   "cell_type": "code",
   "execution_count": 8,
   "metadata": {},
   "outputs": [
    {
     "data": {
      "text/plain": [
       "array([[ 98,  80,  56,  59, 145, 128,  83,  77,  82,  85],\n",
       "       [137,  21,  88,  94,  55, 122,  65,  35,  68, 135]], dtype=int32)"
      ]
     },
     "execution_count": 8,
     "metadata": {},
     "output_type": "execute_result"
    }
   ],
   "source": [
    "# Perform element-wise addition with another array of shape (2, 10) and discuss broadcasting rules.\n",
    "\n",
    "new_array_210=np.random.randint(1,101, size=(2,10))\n",
    "\n",
    "result_array=array_2_10+new_array_210\n",
    "result_array\n",
    "\n"
   ]
  },
  {
   "cell_type": "code",
   "execution_count": 9,
   "metadata": {},
   "outputs": [
    {
     "data": {
      "text/plain": [
       "array([[18074, 10393],\n",
       "       [27320, 18459]], dtype=int32)"
      ]
     },
     "execution_count": 9,
     "metadata": {},
     "output_type": "execute_result"
    }
   ],
   "source": [
    "#Calculate the dot product of two compatible arrays and explain the significance of dot product in linear algebra.\n",
    "\n",
    "dot_product=np.dot(array_2_10, new_array_210.T) #transpose the second array for  compatible shape\n",
    "dot_product"
   ]
  },
  {
   "cell_type": "code",
   "execution_count": 10,
   "metadata": {},
   "outputs": [
    {
     "data": {
      "text/plain": [
       "masked_array(\n",
       "  data=[[46, --, 49, --, 48],\n",
       "        [--, --, --, --, --],\n",
       "        [80, --, 56, 40, 40],\n",
       "        [53, --, --, 66, 79]],\n",
       "  mask=[[False,  True, False,  True, False],\n",
       "        [ True,  True,  True,  True,  True],\n",
       "        [False,  True, False, False, False],\n",
       "        [False,  True,  True, False, False]],\n",
       "  fill_value=np.int64(999999),\n",
       "  dtype=int32)"
      ]
     },
     "execution_count": 10,
     "metadata": {},
     "output_type": "execute_result"
    }
   ],
   "source": [
    "#Create a masked array from the original array, masking all values below the median; explain the concept and use cases of masked arrays.\n",
    "\n",
    "median_value=np.median(array_4_5)\n",
    "\n",
    "masked_array=np.ma.masked_less(array_4_5, median_value)\n",
    "masked_array\n",
    "\n"
   ]
  },
  {
   "cell_type": "code",
   "execution_count": null,
   "metadata": {},
   "outputs": [],
   "source": [
    "#Problem 02: “Exploring NumPy Broadcasting and Strides”\n",
    "#Explain the concept of broadcasting in NumPy and provide an example involving arrays of different \n",
    "#shapes.\n",
    "\n",
    "Broadcasting allows NumPy to perform operations on arrays with different shapes by aligning and replicating elements. It enables:\n",
    "\n",
    "- Scalar-array operations\n",
    "- Array-array operations with different shapes "
   ]
  },
  {
   "cell_type": "code",
   "execution_count": 13,
   "metadata": {},
   "outputs": [
    {
     "name": "stdout",
     "output_type": "stream",
     "text": [
      "Result of broadcasting addition= [[13 15  9 13]\n",
      " [16 19 13 17]\n",
      " [21 23 17 21]]\n"
     ]
    }
   ],
   "source": [
    "#Examples\n",
    "#Array(3*4)\n",
    "\n",
    "array_2D=np.array([[2,3,4,5],\n",
    "                   [5,7,8,9],\n",
    "                   [10,11,12,13]])\n",
    "\n",
    "array_1D=np.array([11,12,5,8])\n",
    "\n",
    "result= array_2D + array_1D\n",
    "\n",
    "print(\"Result of broadcasting addition=\", result)\n"
   ]
  },
  {
   "cell_type": "code",
   "execution_count": 15,
   "metadata": {},
   "outputs": [
    {
     "data": {
      "text/plain": [
       "array([[452, 757, 480, 901],\n",
       "       [455, 760, 483, 904],\n",
       "       [457, 762, 485, 906]])"
      ]
     },
     "execution_count": 15,
     "metadata": {},
     "output_type": "execute_result"
    }
   ],
   "source": [
    "#b.Create Two Arrays with Different Shapes for Broadcasting\n",
    "\n",
    "array_3_2= np.array([[2],\n",
    "                     [5],\n",
    "                     [7]])\n",
    "\n",
    "array_1_4=np.array([450,755,478,899])\n",
    "\n",
    "result_2=array_3_2 + array_1_4\n",
    "\n",
    "result_2"
   ]
  },
  {
   "cell_type": "code",
   "execution_count": null,
   "metadata": {},
   "outputs": [],
   "source": [
    "#c. Discuss how strides in NumPy arrays affect memory access patterns when slicing an array.\n",
    "Strides represent the number of bytes to move in memory to access the next element in each dimension. Strides affect memory access patterns when slicing an array.\n",
    "\n",
    "- Row-major (C-style) ordering: stride[0] = number of columns\n",
    "- Column-major (F-style) ordering: stride[0] = 1"
   ]
  },
  {
   "cell_type": "code",
   "execution_count": 21,
   "metadata": {},
   "outputs": [
    {
     "name": "stdout",
     "output_type": "stream",
     "text": [
      "\n",
      "Original 2D Array:\n",
      "[[ 2  3  4  5]\n",
      " [ 5  7  8  9]\n",
      " [10 11 12 13]]\n",
      "\n",
      "Sliced Array (every second row):\n",
      "[[ 2  3  4  5]\n",
      " [10 11 12 13]]\n",
      "\n",
      "Strides:\n",
      "Original Array Strides: (32, 8)\n",
      "Sliced Array Strides: (64, 8)\n"
     ]
    }
   ],
   "source": [
    "#d. Demonstrating the Impact of Strides on Array Slicing and Performance\n",
    "## Create a 2D array (3x4)\n",
    "array_2d=np.arange(12).reshape(3,4)\n",
    "print(\"\\nOriginal 2D Array:\")\n",
    "print(array_2D)\n",
    "\n",
    "# Slice the array to get every second row (shape will be (2, 4))\n",
    "sliced_array= array_2D[::2]\n",
    "print(\"\\nSliced Array (every second row):\")\n",
    "print(sliced_array)\n",
    "\n",
    "# Show the strides of both arrays\n",
    "print(\"\\nStrides:\")\n",
    "print(\"Original Array Strides:\", array_2d.strides)\n",
    "print(\"Sliced Array Strides:\", sliced_array.strides)\n",
    "\n"
   ]
  },
  {
   "cell_type": "code",
   "execution_count": 25,
   "metadata": {},
   "outputs": [
    {
     "name": "stdout",
     "output_type": "stream",
     "text": [
      "result1:\n",
      "[[ 5  7  9 11]\n",
      " [ 9 11 13 15]\n",
      " [13 15 17 19]]\n",
      "result2:\n",
      "[[ 5  9 13]\n",
      " [ 7 11 15]\n",
      " [ 9 13 17]\n",
      " [11 15 19]]\n"
     ]
    }
   ],
   "source": [
    "# Array shapes: (3, 4) and (4, 1)\n",
    "arr1 = np.array([[1, 2, 3, 4],\n",
    "                 [5, 6, 7, 8],\n",
    "                 [9, 10, 11, 12]])\n",
    "\n",
    "arr2 = np.array([[4],\n",
    "                 [5],\n",
    "                 [6],\n",
    "                 [7]])\n",
    "# Broadcasting adds corresponding elements\n",
    "result1 = arr1 + arr2.T  # Transpose arr2 for broadcasting1\n",
    "print(\"result1:\")\n",
    "print(result1)\n",
    "\n",
    "# Change dimension order and broadcast again\n",
    "arr1_reshaped = np.transpose(arr1)\n",
    "result2 = arr1_reshaped + arr2\n",
    "\n",
    "print(\"result2:\")\n",
    "print(result2)"
   ]
  },
  {
   "cell_type": "code",
   "execution_count": 34,
   "metadata": {},
   "outputs": [
    {
     "data": {
      "text/plain": [
       "(100, 100, 3)"
      ]
     },
     "execution_count": 34,
     "metadata": {},
     "output_type": "execute_result"
    }
   ],
   "source": [
    "#Problem 03: “Advanced Array Manipulation with NumPy”\n",
    "#Create a 3D NumPy array representing \n",
    "\n",
    "height, width=100,100\n",
    "rgb_image=np.random.randint(0, 256, size=(height, width, 3), dtype= np.uint8)\n",
    "\n",
    "rgb_image.shape\n",
    " "
   ]
  },
  {
   "cell_type": "code",
   "execution_count": 45,
   "metadata": {},
   "outputs": [
    {
     "name": "stdout",
     "output_type": "stream",
     "text": [
      "\n",
      "red_channel:\n"
     ]
    },
    {
     "data": {
      "text/plain": [
       "array([[134,  75, 161, ..., 115, 129,   9],\n",
       "       [243, 255, 244, ..., 105,  17,  76],\n",
       "       [170, 125, 134, ...,  42,  82,  91],\n",
       "       ...,\n",
       "       [ 18, 127,  60, ..., 247,  56,  27],\n",
       "       [  8, 253, 202, ...,  79,  88, 120],\n",
       "       [155,  27,  28, ..., 224,  71, 234]], dtype=uint8)"
      ]
     },
     "execution_count": 45,
     "metadata": {},
     "output_type": "execute_result"
    }
   ],
   "source": [
    "# Access individual color channels\n",
    "red_channel = rgb_image[:, :, 0]\n",
    "print('\\nred_channel:')\n",
    "red_channel\n"
   ]
  },
  {
   "cell_type": "code",
   "execution_count": 44,
   "metadata": {},
   "outputs": [
    {
     "name": "stdout",
     "output_type": "stream",
     "text": [
      "\n",
      "green_channel1:\n"
     ]
    },
    {
     "data": {
      "text/plain": [
       "array([[174,   2,  61, ..., 162,  22, 211],\n",
       "       [236, 243, 235, ...,  78, 187,  64],\n",
       "       [ 69, 145,  73, ..., 180,  13,   1],\n",
       "       ...,\n",
       "       [223, 158, 253, ...,  35,  24,  64],\n",
       "       [145, 133,  85, ..., 135,  97, 217],\n",
       "       [119, 255, 209, ..., 162,  54, 237]], dtype=uint8)"
      ]
     },
     "execution_count": 44,
     "metadata": {},
     "output_type": "execute_result"
    }
   ],
   "source": [
    "green_channel = rgb_image[:, :, 1]\n",
    "print('\\ngreen_channel1:')\n",
    "green_channel"
   ]
  },
  {
   "cell_type": "code",
   "execution_count": 46,
   "metadata": {},
   "outputs": [
    {
     "name": "stdout",
     "output_type": "stream",
     "text": [
      "blue_channel1:\n"
     ]
    },
    {
     "data": {
      "text/plain": [
       "array([[237,   9, 144, ..., 102, 227,  40],\n",
       "       [ 12, 177,  84, ..., 144,  20,  40],\n",
       "       [167, 255, 152, ...,  98, 125, 190],\n",
       "       ...,\n",
       "       [ 77,  56,  65, ..., 186, 186, 174],\n",
       "       [146,  53,  82, ...,  55, 187, 136],\n",
       "       [183,  18,  89, ...,  10, 243,   8]], dtype=uint8)"
      ]
     },
     "execution_count": 46,
     "metadata": {},
     "output_type": "execute_result"
    }
   ],
   "source": [
    "blue_channel = rgb_image[:, :, 2]\n",
    "print('blue_channel1:')\n",
    "blue_channel"
   ]
  },
  {
   "cell_type": "code",
   "execution_count": 47,
   "metadata": {},
   "outputs": [
    {
     "data": {
      "text/plain": [
       "array([134, 174, 237, ..., 234, 237,   8], dtype=uint8)"
      ]
     },
     "execution_count": 47,
     "metadata": {},
     "output_type": "execute_result"
    }
   ],
   "source": [
    "#Demonstrate how to flatten this 3D array into a 1D array and discuss the implications for image processing.\n",
    "\n",
    "flatten_image= rgb_image.flatten()\n",
    "flatten_image\n",
    "\n",
    "#Implications for Image Processing:\n",
    "# Flattening is useful for tasks like feeding image data into machine learning models.\n",
    "# However,it loses the spatial structure of the image, which is often important for tasks like object detection or image segmentation."
   ]
  },
  {
   "cell_type": "code",
   "execution_count": 51,
   "metadata": {},
   "outputs": [
    {
     "data": {
      "text/plain": [
       "array([[[134, 174, 237],\n",
       "        [ 75,   2,   9],\n",
       "        [161,  61, 144],\n",
       "        ...,\n",
       "        [115, 162, 102],\n",
       "        [129,  22, 227],\n",
       "        [  9, 211,  40]],\n",
       "\n",
       "       [[243, 236,  12],\n",
       "        [255, 243, 177],\n",
       "        [244, 235,  84],\n",
       "        ...,\n",
       "        [105,  78, 144],\n",
       "        [ 17, 187,  20],\n",
       "        [ 76,  64,  40]],\n",
       "\n",
       "       [[170,  69, 167],\n",
       "        [125, 145, 255],\n",
       "        [134,  73, 152],\n",
       "        ...,\n",
       "        [ 42, 180,  98],\n",
       "        [ 82,  13, 125],\n",
       "        [ 91,   1, 190]],\n",
       "\n",
       "       ...,\n",
       "\n",
       "       [[ 18, 223,  77],\n",
       "        [127, 158,  56],\n",
       "        [ 60, 253,  65],\n",
       "        ...,\n",
       "        [247,  35, 186],\n",
       "        [ 56,  24, 186],\n",
       "        [ 27,  64, 174]],\n",
       "\n",
       "       [[  8, 145, 146],\n",
       "        [253, 133,  53],\n",
       "        [202,  85,  82],\n",
       "        ...,\n",
       "        [ 79, 135,  55],\n",
       "        [ 88,  97, 187],\n",
       "        [120, 217, 136]],\n",
       "\n",
       "       [[155, 119, 183],\n",
       "        [ 27, 255,  18],\n",
       "        [ 28, 209,  89],\n",
       "        ...,\n",
       "        [224, 162,  10],\n",
       "        [ 71,  54, 243],\n",
       "        [234, 237,   8]]], dtype=uint8)"
      ]
     },
     "execution_count": 51,
     "metadata": {},
     "output_type": "execute_result"
    }
   ],
   "source": [
    "#Array Slicing to Extract a Sub-array\n",
    "# Extract a sub-array using array slicing (view)\n",
    "sub_array_view = rgb_image[:256, :256, :]\n",
    "sub_array_view\n",
    "\n"
   ]
  },
  {
   "cell_type": "code",
   "execution_count": 52,
   "metadata": {},
   "outputs": [
    {
     "data": {
      "text/plain": [
       "array([[[134, 174, 237],\n",
       "        [ 75,   2,   9],\n",
       "        [161,  61, 144],\n",
       "        ...,\n",
       "        [115, 162, 102],\n",
       "        [129,  22, 227],\n",
       "        [  9, 211,  40]],\n",
       "\n",
       "       [[243, 236,  12],\n",
       "        [255, 243, 177],\n",
       "        [244, 235,  84],\n",
       "        ...,\n",
       "        [105,  78, 144],\n",
       "        [ 17, 187,  20],\n",
       "        [ 76,  64,  40]],\n",
       "\n",
       "       [[170,  69, 167],\n",
       "        [125, 145, 255],\n",
       "        [134,  73, 152],\n",
       "        ...,\n",
       "        [ 42, 180,  98],\n",
       "        [ 82,  13, 125],\n",
       "        [ 91,   1, 190]],\n",
       "\n",
       "       ...,\n",
       "\n",
       "       [[ 18, 223,  77],\n",
       "        [127, 158,  56],\n",
       "        [ 60, 253,  65],\n",
       "        ...,\n",
       "        [247,  35, 186],\n",
       "        [ 56,  24, 186],\n",
       "        [ 27,  64, 174]],\n",
       "\n",
       "       [[  8, 145, 146],\n",
       "        [253, 133,  53],\n",
       "        [202,  85,  82],\n",
       "        ...,\n",
       "        [ 79, 135,  55],\n",
       "        [ 88,  97, 187],\n",
       "        [120, 217, 136]],\n",
       "\n",
       "       [[155, 119, 183],\n",
       "        [ 27, 255,  18],\n",
       "        [ 28, 209,  89],\n",
       "        ...,\n",
       "        [224, 162,  10],\n",
       "        [ 71,  54, 243],\n",
       "        [234, 237,   8]]], dtype=uint8)"
      ]
     },
     "execution_count": 52,
     "metadata": {},
     "output_type": "execute_result"
    }
   ],
   "source": [
    "# Extract a sub-array using array slicing (copy)\n",
    "# If you need a copy that does not affect the original data, you can use the copy() method:\n",
    "sub_array_copy = rgb_image[:256, :256, :].copy()\n",
    "sub_array_copy"
   ]
  },
  {
   "cell_type": "code",
   "execution_count": null,
   "metadata": {},
   "outputs": [],
   "source": [
    "#d. Advantages of NumPy arrays over Python lists\n",
    "\n",
    "\n",
    "# Advantages:\n",
    "# - Faster computation and memory access\n",
    "# - Efficient storage (contiguous memory)\n",
    "# - Vectorized operations\n",
    "# - Broadcasting and array slicing capabilities"
   ]
  },
  {
   "cell_type": "code",
   "execution_count": 56,
   "metadata": {},
   "outputs": [
    {
     "data": {
      "text/plain": [
       "array([[[0.5254902 , 0.68235294, 0.92941176],\n",
       "        [0.29411765, 0.00784314, 0.03529412],\n",
       "        [0.63137255, 0.23921569, 0.56470588],\n",
       "        ...,\n",
       "        [0.45098039, 0.63529412, 0.4       ],\n",
       "        [0.50588235, 0.08627451, 0.89019608],\n",
       "        [0.03529412, 0.82745098, 0.15686275]],\n",
       "\n",
       "       [[0.95294118, 0.9254902 , 0.04705882],\n",
       "        [1.        , 0.95294118, 0.69411765],\n",
       "        [0.95686275, 0.92156863, 0.32941176],\n",
       "        ...,\n",
       "        [0.41176471, 0.30588235, 0.56470588],\n",
       "        [0.06666667, 0.73333333, 0.07843137],\n",
       "        [0.29803922, 0.25098039, 0.15686275]],\n",
       "\n",
       "       [[0.66666667, 0.27058824, 0.65490196],\n",
       "        [0.49019608, 0.56862745, 1.        ],\n",
       "        [0.5254902 , 0.28627451, 0.59607843],\n",
       "        ...,\n",
       "        [0.16470588, 0.70588235, 0.38431373],\n",
       "        [0.32156863, 0.05098039, 0.49019608],\n",
       "        [0.35686275, 0.00392157, 0.74509804]],\n",
       "\n",
       "       ...,\n",
       "\n",
       "       [[0.07058824, 0.8745098 , 0.30196078],\n",
       "        [0.49803922, 0.61960784, 0.21960784],\n",
       "        [0.23529412, 0.99215686, 0.25490196],\n",
       "        ...,\n",
       "        [0.96862745, 0.1372549 , 0.72941176],\n",
       "        [0.21960784, 0.09411765, 0.72941176],\n",
       "        [0.10588235, 0.25098039, 0.68235294]],\n",
       "\n",
       "       [[0.03137255, 0.56862745, 0.57254902],\n",
       "        [0.99215686, 0.52156863, 0.20784314],\n",
       "        [0.79215686, 0.33333333, 0.32156863],\n",
       "        ...,\n",
       "        [0.30980392, 0.52941176, 0.21568627],\n",
       "        [0.34509804, 0.38039216, 0.73333333],\n",
       "        [0.47058824, 0.85098039, 0.53333333]],\n",
       "\n",
       "       [[0.60784314, 0.46666667, 0.71764706],\n",
       "        [0.10588235, 1.        , 0.07058824],\n",
       "        [0.10980392, 0.81960784, 0.34901961],\n",
       "        ...,\n",
       "        [0.87843137, 0.63529412, 0.03921569],\n",
       "        [0.27843137, 0.21176471, 0.95294118],\n",
       "        [0.91764706, 0.92941176, 0.03137255]]])"
      ]
     },
     "execution_count": 56,
     "metadata": {},
     "output_type": "execute_result"
    }
   ],
   "source": [
    "#e. Normalizing pixel values\n",
    "\n",
    "def normalize_image(image):\n",
    "    \"\"\"Normalize pixel values to [0, 1]\"\"\"\n",
    "    return image / 255.0\n",
    "normalize_image\n",
    "\n",
    "\n",
    "\n",
    "# Normalize the RGB image array\n",
    "normalized_image = normalize_image(rgb_image)\n",
    "normalized_image"
   ]
  },
  {
   "cell_type": "code",
   "execution_count": null,
   "metadata": {},
   "outputs": [],
   "source": [
    "# Importance of normalization in machine learning:\n",
    "# - Reduces feature scaling issues\n",
    "# - Improves model convergence and stability\n",
    "# - Enhances data visualization and interpretation"
   ]
  },
  {
   "cell_type": "code",
   "execution_count": 59,
   "metadata": {},
   "outputs": [
    {
     "name": "stdout",
     "output_type": "stream",
     "text": [
      "Mean: 0.499\n",
      "Median: 0.494\n",
      "Variance: 0.085\n"
     ]
    }
   ],
   "source": [
    "#Problem 04: “NumPy for Statistical Analysis”\n",
    "#Generate a NumPy array of 1000 random numbers and calculate basic statistics (mean, median, variance).\n",
    "\n",
    "random_number=np.random.rand(1000)\n",
    "\n",
    "mean=np.mean(random_number)\n",
    "median=np.median(random_number)\n",
    "variance=np.var(random_number)\n",
    " \n",
    "print(f\"Mean: {mean:.3f}\")\n",
    "print(f\"Median: {median:.3f}\")\n",
    "print(f\"Variance: {variance:.3f}\")"
   ]
  },
  {
   "cell_type": "code",
   "execution_count": null,
   "metadata": {},
   "outputs": [],
   "source": [
    "#Discuss the differences between population and sample statistics. \n",
    "Population Statistics: \n",
    "Refers to calculations made using every member of a given population. It uses 𝑁\n",
    "N (the total number of data points).\n",
    "\n",
    "Sample Statistics: \n",
    "Refers to calculations made using a subset (sample) of the population. It uses 𝑛\n",
    "n (the number of data points in the sample) and typically applies Bessel's correction by using  n-1\n",
    "n−1 in the denominator for variance to reduce bias."
   ]
  },
  {
   "cell_type": "code",
   "execution_count": 64,
   "metadata": {},
   "outputs": [
    {
     "name": "stdout",
     "output_type": "stream",
     "text": [
      "Population Mean: 0.4990, Sample Mean: 0.5703\n",
      "Population Variance: 0.0853, Sample Variance: 0.0715\n"
     ]
    }
   ],
   "source": [
    "population_mean = np.mean(random_number)\n",
    "\n",
    "sample_mean = np.mean(np.random.choice(random_number, size=100))\n",
    "\n",
    "population_variance = np.var(random_number)\n",
    "\n",
    "sample_variance = np.var(np.random.choice(random_number, size=100))\n",
    "\n",
    "print(f\"Population Mean: {population_mean:.4f}, Sample Mean: {sample_mean:.4f}\")\n",
    "print(f\"Population Variance: {population_variance:.4f}, Sample Variance: {sample_variance:.4f}\")"
   ]
  },
  {
   "cell_type": "code",
   "execution_count": 1,
   "metadata": {},
   "outputs": [
    {
     "name": "stdout",
     "output_type": "stream",
     "text": [
      "Requirement already satisfied: matplotlib in c:\\users\\admin\\appdata\\local\\programs\\python\\python312\\lib\\site-packages (3.9.2)\n",
      "Requirement already satisfied: contourpy>=1.0.1 in c:\\users\\admin\\appdata\\local\\programs\\python\\python312\\lib\\site-packages (from matplotlib) (1.3.0)\n",
      "Requirement already satisfied: cycler>=0.10 in c:\\users\\admin\\appdata\\local\\programs\\python\\python312\\lib\\site-packages (from matplotlib) (0.12.1)\n",
      "Requirement already satisfied: fonttools>=4.22.0 in c:\\users\\admin\\appdata\\local\\programs\\python\\python312\\lib\\site-packages (from matplotlib) (4.54.1)\n",
      "Requirement already satisfied: kiwisolver>=1.3.1 in c:\\users\\admin\\appdata\\local\\programs\\python\\python312\\lib\\site-packages (from matplotlib) (1.4.7)\n",
      "Requirement already satisfied: numpy>=1.23 in c:\\users\\admin\\appdata\\local\\programs\\python\\python312\\lib\\site-packages (from matplotlib) (2.1.1)\n",
      "Requirement already satisfied: packaging>=20.0 in c:\\users\\admin\\appdata\\roaming\\python\\python312\\site-packages (from matplotlib) (24.1)\n",
      "Requirement already satisfied: pillow>=8 in c:\\users\\admin\\appdata\\local\\programs\\python\\python312\\lib\\site-packages (from matplotlib) (10.4.0)\n",
      "Requirement already satisfied: pyparsing>=2.3.1 in c:\\users\\admin\\appdata\\local\\programs\\python\\python312\\lib\\site-packages (from matplotlib) (3.2.0)\n",
      "Requirement already satisfied: python-dateutil>=2.7 in c:\\users\\admin\\appdata\\roaming\\python\\python312\\site-packages (from matplotlib) (2.9.0.post0)\n",
      "Requirement already satisfied: six>=1.5 in c:\\users\\admin\\appdata\\roaming\\python\\python312\\site-packages (from python-dateutil>=2.7->matplotlib) (1.16.0)\n",
      "Note: you may need to restart the kernel to use updated packages.\n"
     ]
    }
   ],
   "source": [
    "%pip install matplotlib\n",
    "import pandas as pd\n",
    "import numpy as np\n",
    "import matplotlib.pyplot as plt"
   ]
  },
  {
   "cell_type": "code",
   "execution_count": 2,
   "metadata": {},
   "outputs": [
    {
     "data": {
      "image/png": "[encoded data removed]",
      "text/plain": [
       "<Figure size 640x480 with 1 Axes>"
      ]
     },
     "metadata": {},
     "output_type": "display_data"
    }
   ],
   "source": [
    "# c. Create histogram\n",
    "\n",
    "random_number=np.random.rand(1000)\n",
    "\n",
    "plt.hist(random_number, bins=30, density=True)\n",
    "\n",
    "plt.xlabel('Value')\n",
    "\n",
    "plt.ylabel('Frequency')\n",
    "\n",
    "plt.title('Histogram of Random Numbers')\n",
    "\n",
    "plt.show()"
   ]
  },
  {
   "cell_type": "code",
   "execution_count": 4,
   "metadata": {},
   "outputs": [
    {
     "name": "stdout",
     "output_type": "stream",
     "text": [
      "Number of Outliers: 0\n",
      "Outliers: []\n"
     ]
    }
   ],
   "source": [
    "# Calculate Q1 (25th percentile) and Q3 (75th percentile)\n",
    "\n",
    "q1=np.percentile(random_number, 25)\n",
    "q3=np.percentile(random_number, 75)\n",
    "\n",
    "IQR= q3-q1\n",
    "\n",
    "# Define outlier bounds\n",
    "lower_bound = q1 - 1.5 * IQR\n",
    "upper_bound = q3 + 1.5 * IQR\n",
    "\n",
    "# Identify outliers\n",
    "outliers = random_number[(random_number < lower_bound) | (random_number > upper_bound)]\n",
    "\n",
    "\n",
    "print(f\"Number of Outliers: {len(outliers)}\")\n",
    "print(f\"Outliers: {outliers}\")\n",
    "\n"
   ]
  },
  {
   "cell_type": "code",
   "execution_count": null,
   "metadata": {},
   "outputs": [],
   "source": [
    "#Explain how NumPy’s statistical functions can be utilized for data analysis in scientific research.\n",
    "\n",
    "NumPy’s statistical functions are essential in scientific research for several reasons:\n",
    "\n",
    "Efficiency: NumPy operations are optimized and can handle large datasets efficiently due to its underlying C implementation.\n",
    "\n",
    "Versatility: Functions like mean, median, std, var, percentile, etc., cover a broad range of statistical calculations needed for data analysis.\n",
    "\n",
    "Ease of Use: The simple syntax and the ability to work directly with arrays make it easy to compute complex statistics with minimal code.\n",
    "\n",
    "Integration: NumPy integrates well with other libraries (e.g., SciPy, Pandas) for advanced data analysis, making it a cornerstone of the scientific Python ecosystem.\n",
    "Conclusion"
   ]
  },
  {
   "cell_type": "code",
   "execution_count": 7,
   "metadata": {},
   "outputs": [
    {
     "name": "stdout",
     "output_type": "stream",
     "text": [
      "shape of distance matrix D: (100, 80)\n"
     ]
    }
   ],
   "source": [
    "#Problem 05: “Advanced NumPy Operations Challenge”\n",
    "\n",
    "# Generate random 2D arrays X and Y\n",
    "n,m,d=100,80,50\n",
    "X=np.random.rand(n,d)\n",
    "Y=np.random.rand(m,d)\n",
    "\n",
    "#compute pairwise Eucledian Distance\n",
    "\n",
    "D=np.sqrt(np.sum(X**2, axis=1, keepdims=True) + np.sum(Y**2, axis=1) -2 * np.dot(X,Y.T))\n",
    "print(\"shape of distance matrix D:\", D.shape)\n",
    "\n"
   ]
  },
  {
   "cell_type": "code",
   "execution_count": 9,
   "metadata": {},
   "outputs": [
    {
     "name": "stdout",
     "output_type": "stream",
     "text": [
      "Frobenius Norm between original D and reconstructed D: 17.20312991048689\n"
     ]
    }
   ],
   "source": [
    "# Perform SVD\n",
    "U,s, Vt= np.linalg.svd(D, full_matrices=False)\n",
    "\n",
    "#reconstruct D using only the top 2 singular values\n",
    "\n",
    "S=np.zeros((U.shape[0], Vt.shape[0]))\n",
    "np.fill_diagonal(S,s)\n",
    "D_reconstructed= np.dot(U[:, :2], S[:2, :2]) @ Vt[:2,:]\n",
    "\n",
    "# Compute the Frobenius norm\n",
    "frobenius_norm = np.linalg.norm(D - D_reconstructed, 'fro')\n",
    "\n",
    "print(\"Frobenius Norm between original D and reconstructed D:\", frobenius_norm)"
   ]
  },
  {
   "cell_type": "code",
   "execution_count": null,
   "metadata": {},
   "outputs": [],
   "source": []
  }
 ],
 "metadata": {
  "kernelspec": {
   "display_name": "Python 3",
   "language": "python",
   "name": "python3"
  },
  "language_info": {
   "codemirror_mode": {
    "name": "ipython",
    "version": 3
   },
   "file_extension": ".py",
   "mimetype": "text/x-python",
   "name": "python",
   "nbconvert_exporter": "python",
   "pygments_lexer": "ipython3",
   "version": "3.12.6"
  }
 },
 "nbformat": 4,
 "nbformat_minor": 2
}
