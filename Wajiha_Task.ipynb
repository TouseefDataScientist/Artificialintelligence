{
 "cells": [
  {
   "cell_type": "markdown",
   "metadata": {},
   "source": [
    "<!-- Headings Practise --> \n",
    "## Headings Practise\n",
    "# Faculty of Computing\n",
    "## BS Bioinformatics\n",
    "### Total No of Students\n",
    "#### Grades\n",
    "##### Pass Students\n",
    "###### Fail Students"
   ]
  },
  {
   "cell_type": "markdown",
   "metadata": {},
   "source": [
    "<!-- Line Breaks Practise -->\n",
    "## Line Break Practise\n",
    "In bioinformatics, AI can be used to examine molecular structures.<br>\n",
    "Also protein-protein interactions.\n"
   ]
  },
  {
   "cell_type": "markdown",
   "metadata": {},
   "source": [
    "## Bold & Italic Text Practise\n",
    "<!-- Bold Text Practise -->\n",
    "My name is **Wajiha.**\n",
    "<!-- Italic Text Practise -->\n",
    "Artificial Intelligenge is very *interesting* field.\n",
    "<!-- Bold & Italic Text Practise -->\n",
    "ML is a subfiled of ***AI***"
   ]
  },
  {
   "cell_type": "markdown",
   "metadata": {},
   "source": [
    "## Blockquotes Text Practise\n",
    "<!-- Blockquotes Text Practise -->\n",
    "> Artificial intelligence is the simulation of human intelligence processes by machines.\n",
    ">> Examples of AI applications include expert systems, natural language processing (NLP), speech recognition and machine vision."
   ]
  },
  {
   "cell_type": "markdown",
   "metadata": {},
   "source": [
    "<!-- List Practise -->\n",
    "## Ordered List Practise\n",
    "1. Apple\n",
    "2. Orange\n",
    "3. Mango\n",
    "    1. Large \n",
    "    2. Small\n",
    "4. Stawberry\n",
    "## Unordered List Practise\n",
    "* Vinegar\n",
    "* Salt\n",
    "* Spices"
   ]
  },
  {
   "cell_type": "markdown",
   "metadata": {},
   "source": [
    "<!-- Link Creation Practise -->\n",
    "## Link Creation Practise\n",
    "You can see the detail of deep learning in this link [Deep Learning](https://deeplearning.com)."
   ]
  },
  {
   "cell_type": "markdown",
   "metadata": {},
   "source": [
    "<!-- Adding Title for a Link -->\n",
    "## Adding Title for a Link\n",
    "You can see the detail of deep learning in this link [Deep Learning](https://deeplearning.com \"The best website of DL\")."
   ]
  },
  {
   "cell_type": "markdown",
   "metadata": {},
   "source": [
    "<!-- URL and Email Address Practise -->\n",
    "## URL and Email Address Practise\n",
    "<wajihachangez@gmail.com><br>\n",
    "<https://www.google.com.pk/>"
   ]
  },
  {
   "cell_type": "markdown",
   "metadata": {},
   "source": [
    "## Image Practise\n",
    "<!-- Image Practise -->\n",
    "![Artificial intelligence is the ability of a computer or computer-controlled robot to perform tasks that are commonly associated with the intellectual processes characteristic of humans.](https://www.google.com/url?sa=i&url=https%3A%2F%2Fwww.simplilearn.com%2Ftutorials%2Fartificial-intelligence-tutorial%2Fwhat-is-artificial-intelligence&psig=AOvVaw2hQMB8nrKCxZmQT92d_2C6&ust=1726230939292000&source=images&cd=vfe&opi=89978449&ved=0CBQQjRxqFwoTCJi82Y-2vYgDFQAAAAAdAAAAABAR)"
   ]
  }
 ],
 "metadata": {
  "language_info": {
   "name": "python"
  }
 },
 "nbformat": 4,
 "nbformat_minor": 2
}
