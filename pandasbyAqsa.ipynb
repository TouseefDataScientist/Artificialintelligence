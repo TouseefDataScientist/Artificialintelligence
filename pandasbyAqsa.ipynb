{
 "cells": [
  {
   "cell_type": "code",
   "execution_count": 4,
   "metadata": {},
   "outputs": [
    {
     "name": "stdout",
     "output_type": "stream",
     "text": [
      "Requirement already satisfied: pandas in c:\\users\\dit\\appdata\\local\\programs\\python\\python312\\lib\\site-packages (2.2.2)\n",
      "Requirement already satisfied: numpy>=1.26.0 in c:\\users\\dit\\appdata\\local\\programs\\python\\python312\\lib\\site-packages (from pandas) (2.1.1)\n",
      "Requirement already satisfied: python-dateutil>=2.8.2 in c:\\users\\dit\\appdata\\roaming\\python\\python312\\site-packages (from pandas) (2.9.0.post0)\n",
      "Requirement already satisfied: pytz>=2020.1 in c:\\users\\dit\\appdata\\local\\programs\\python\\python312\\lib\\site-packages (from pandas) (2024.2)\n",
      "Requirement already satisfied: tzdata>=2022.7 in c:\\users\\dit\\appdata\\local\\programs\\python\\python312\\lib\\site-packages (from pandas) (2024.1)\n",
      "Requirement already satisfied: six>=1.5 in c:\\users\\dit\\appdata\\roaming\\python\\python312\\site-packages (from python-dateutil>=2.8.2->pandas) (1.16.0)\n",
      "Note: you may need to restart the kernel to use updated packages.\n"
     ]
    }
   ],
   "source": [
    "%pip install pandas"
   ]
  },
  {
   "cell_type": "code",
   "execution_count": 2,
   "metadata": {},
   "outputs": [
    {
     "name": "stdout",
     "output_type": "stream",
     "text": [
      "Requirement already satisfied: numpy in c:\\users\\dit\\appdata\\local\\programs\\python\\python312\\lib\\site-packages (2.1.1)\n",
      "Note: you may need to restart the kernel to use updated packages.\n"
     ]
    }
   ],
   "source": [
    "%pip install numpy"
   ]
  },
  {
   "cell_type": "code",
   "execution_count": 3,
   "metadata": {},
   "outputs": [],
   "source": [
    "import pandas as pd\n",
    "import numpy as np\n"
   ]
  },
  {
   "cell_type": "code",
   "execution_count": 5,
   "metadata": {},
   "outputs": [
    {
     "name": "stdout",
     "output_type": "stream",
     "text": [
      "Requirement already satisfied: openpyxl in c:\\users\\dit\\appdata\\local\\programs\\python\\python312\\lib\\site-packages (3.1.5)\n",
      "Requirement already satisfied: et-xmlfile in c:\\users\\dit\\appdata\\local\\programs\\python\\python312\\lib\\site-packages (from openpyxl) (1.1.0)\n",
      "Note: you may need to restart the kernel to use updated packages.\n"
     ]
    }
   ],
   "source": [
    "%pip install openpyxl"
   ]
  },
  {
   "cell_type": "code",
   "execution_count": 6,
   "metadata": {},
   "outputs": [
    {
     "data": {
      "text/html": [
       "<div>\n",
       "<style scoped>\n",
       "    .dataframe tbody tr th:only-of-type {\n",
       "        vertical-align: middle;\n",
       "    }\n",
       "\n",
       "    .dataframe tbody tr th {\n",
       "        vertical-align: top;\n",
       "    }\n",
       "\n",
       "    .dataframe thead th {\n",
       "        text-align: right;\n",
       "    }\n",
       "</style>\n",
       "<table border=\"1\" class=\"dataframe\">\n",
       "  <thead>\n",
       "    <tr style=\"text-align: right;\">\n",
       "      <th></th>\n",
       "      <th>Name</th>\n",
       "      <th>Salary</th>\n",
       "      <th>Department</th>\n",
       "    </tr>\n",
       "  </thead>\n",
       "  <tbody>\n",
       "    <tr>\n",
       "      <th>0</th>\n",
       "      <td>Aqsa</td>\n",
       "      <td>56788</td>\n",
       "      <td>IT</td>\n",
       "    </tr>\n",
       "    <tr>\n",
       "      <th>1</th>\n",
       "      <td>Laiba</td>\n",
       "      <td>56788</td>\n",
       "      <td>Physics</td>\n",
       "    </tr>\n",
       "    <tr>\n",
       "      <th>2</th>\n",
       "      <td>Maryam</td>\n",
       "      <td>67899</td>\n",
       "      <td>Chemistry</td>\n",
       "    </tr>\n",
       "    <tr>\n",
       "      <th>3</th>\n",
       "      <td>Ayesha</td>\n",
       "      <td>80000</td>\n",
       "      <td>CS</td>\n",
       "    </tr>\n",
       "    <tr>\n",
       "      <th>4</th>\n",
       "      <td>Rimsha</td>\n",
       "      <td>67788</td>\n",
       "      <td>Botony</td>\n",
       "    </tr>\n",
       "    <tr>\n",
       "      <th>...</th>\n",
       "      <td>...</td>\n",
       "      <td>...</td>\n",
       "      <td>...</td>\n",
       "    </tr>\n",
       "    <tr>\n",
       "      <th>194</th>\n",
       "      <td>Remi</td>\n",
       "      <td>33345</td>\n",
       "      <td>Physics</td>\n",
       "    </tr>\n",
       "    <tr>\n",
       "      <th>195</th>\n",
       "      <td>Charlie</td>\n",
       "      <td>46678</td>\n",
       "      <td>AI</td>\n",
       "    </tr>\n",
       "    <tr>\n",
       "      <th>196</th>\n",
       "      <td>Adalynn</td>\n",
       "      <td>45567</td>\n",
       "      <td>ML</td>\n",
       "    </tr>\n",
       "    <tr>\n",
       "      <th>197</th>\n",
       "      <td>Ashley</td>\n",
       "      <td>45677</td>\n",
       "      <td>Physics</td>\n",
       "    </tr>\n",
       "    <tr>\n",
       "      <th>198</th>\n",
       "      <td>Georgia</td>\n",
       "      <td>46778</td>\n",
       "      <td>Chemistry</td>\n",
       "    </tr>\n",
       "  </tbody>\n",
       "</table>\n",
       "<p>199 rows × 3 columns</p>\n",
       "</div>"
      ],
      "text/plain": [
       "        Name  Salary Department\n",
       "0       Aqsa   56788         IT\n",
       "1      Laiba   56788    Physics\n",
       "2     Maryam   67899  Chemistry\n",
       "3     Ayesha   80000         CS\n",
       "4    Rimsha    67788     Botony\n",
       "..       ...     ...        ...\n",
       "194     Remi   33345    Physics\n",
       "195  Charlie   46678         AI\n",
       "196  Adalynn   45567         ML\n",
       "197   Ashley   45677    Physics\n",
       "198  Georgia   46778  Chemistry\n",
       "\n",
       "[199 rows x 3 columns]"
      ]
     },
     "execution_count": 6,
     "metadata": {},
     "output_type": "execute_result"
    }
   ],
   "source": [
    "# 1. DataFrame\n",
    "df = pd.read_excel(\"Dataset.xlsx\")\n",
    "df"
   ]
  },
  {
   "cell_type": "code",
   "execution_count": 7,
   "metadata": {},
   "outputs": [
    {
     "name": "stdout",
     "output_type": "stream",
     "text": [
      "Original DataFrame\n",
      "        Name  Salary Department\n",
      "0       Aqsa   56788         IT\n",
      "1      Laiba   56788    Physics\n",
      "2     Maryam   67899  Chemistry\n",
      "3     Ayesha   80000         CS\n",
      "4    Rimsha    67788     Botony\n",
      "..       ...     ...        ...\n",
      "194     Remi   33345    Physics\n",
      "195  Charlie   46678         AI\n",
      "196  Adalynn   45567         ML\n",
      "197   Ashley   45677    Physics\n",
      "198  Georgia   46778  Chemistry\n",
      "\n",
      "[199 rows x 3 columns]\n"
     ]
    }
   ],
   "source": [
    "df1 = pd.DataFrame(df)\n",
    "print (\"Original DataFrame\")\n",
    "print(df)"
   ]
  },
  {
   "cell_type": "code",
   "execution_count": 8,
   "metadata": {},
   "outputs": [
    {
     "name": "stdout",
     "output_type": "stream",
     "text": [
      "\n",
      " DataFrame Info:\n",
      "<class 'pandas.core.frame.DataFrame'>\n",
      "RangeIndex: 199 entries, 0 to 198\n",
      "Data columns (total 3 columns):\n",
      " #   Column      Non-Null Count  Dtype \n",
      "---  ------      --------------  ----- \n",
      " 0   Name        199 non-null    object\n",
      " 1   Salary      199 non-null    int64 \n",
      " 2   Department  199 non-null    object\n",
      "dtypes: int64(1), object(2)\n",
      "memory usage: 4.8+ KB\n",
      "None\n",
      "\n",
      " Statistics Summary:\n",
      "              Salary\n",
      "count     199.000000\n",
      "mean    63546.663317\n",
      "std     61503.623245\n",
      "min     26788.000000\n",
      "25%     45677.000000\n",
      "50%     58062.000000\n",
      "75%     67899.000000\n",
      "max    789766.000000\n"
     ]
    }
   ],
   "source": [
    "# 2. Basic Dataframe Info:\n",
    "print(\"\\n DataFrame Info:\")\n",
    "print(df.info())\n",
    "print(\"\\n Statistics Summary:\")\n",
    "print(df.describe())"
   ]
  },
  {
   "cell_type": "code",
   "execution_count": 9,
   "metadata": {},
   "outputs": [
    {
     "name": "stdout",
     "output_type": "stream",
     "text": [
      "\n",
      " Dataframe sorted by Salary:\n",
      "          Name  Salary Department\n",
      "106     Eloise   26788    Zoology\n",
      "15      Amelia   27908  Chemistry\n",
      "50     Delilah   27908    Physics\n",
      "8      Mahnoor   27908         DL\n",
      "55      Oakley   27908  Chemistry\n",
      "..         ...     ...        ...\n",
      "188      Lilah   88888         IT\n",
      "148     Aubrey   88888    Physics\n",
      "129  Katherine   88888  Chemistry\n",
      "111      Alana  456779         DL\n",
      "107       Myla  789766         AI\n",
      "\n",
      "[199 rows x 3 columns]\n"
     ]
    }
   ],
   "source": [
    "# 3. Sorting:\n",
    "sorted_df = df.sort_values(by = 'Salary')\n",
    "print(\"\\n Dataframe sorted by Salary:\")\n",
    "print(sorted_df)"
   ]
  },
  {
   "cell_type": "code",
   "execution_count": 10,
   "metadata": {},
   "outputs": [
    {
     "name": "stdout",
     "output_type": "stream",
     "text": [
      "\n",
      " Filtered DataFrame(Salary > 60000):\n",
      "        Name  Salary Department\n",
      "2     Maryam   67899  Chemistry\n",
      "3     Ayesha   80000         CS\n",
      "4    Rimsha    67788     Botony\n",
      "5      Maria   68888    Zoology\n",
      "10    Olivia   88888  Chemistry\n",
      "..       ...     ...        ...\n",
      "179    Rylee   67899    Physics\n",
      "182   Aliyah   67899         ML\n",
      "185    Alaia   66777  Chemistry\n",
      "188    Lilah   88888         IT\n",
      "191    Amara   67899         CS\n",
      "\n",
      "[70 rows x 3 columns]\n"
     ]
    }
   ],
   "source": [
    "# 4. Filtering Data (e.g; Salary > 60000)\n",
    "filtered_df = df[df['Salary']>60000]\n",
    "print(\"\\n Filtered DataFrame(Salary > 60000):\")\n",
    "print(filtered_df)"
   ]
  },
  {
   "cell_type": "code",
   "execution_count": 11,
   "metadata": {},
   "outputs": [
    {
     "name": "stdout",
     "output_type": "stream",
     "text": [
      "\n",
      " Dataframe wih Bonus column added:\n",
      "        Name  Salary Department    Bonus\n",
      "0       Aqsa   56788         IT  28394.0\n",
      "1      Laiba   56788    Physics  28394.0\n",
      "2     Maryam   67899  Chemistry  33949.5\n",
      "3     Ayesha   80000         CS  40000.0\n",
      "4    Rimsha    67788     Botony  33894.0\n",
      "..       ...     ...        ...      ...\n",
      "194     Remi   33345    Physics  16672.5\n",
      "195  Charlie   46678         AI  23339.0\n",
      "196  Adalynn   45567         ML  22783.5\n",
      "197   Ashley   45677    Physics  22838.5\n",
      "198  Georgia   46778  Chemistry  23389.0\n",
      "\n",
      "[199 rows x 4 columns]\n"
     ]
    }
   ],
   "source": [
    "# 5. Adding a new column ( bonus as 10% of Saray)\n",
    "df['Bonus'] = df ['Salary'] * 0.5\n",
    "print(\"\\n Dataframe wih Bonus column added:\")\n",
    "print(df)"
   ]
  },
  {
   "cell_type": "code",
   "execution_count": 12,
   "metadata": {},
   "outputs": [
    {
     "name": "stdout",
     "output_type": "stream",
     "text": [
      "  Department         Salary\n",
      "0         AI  109488.750000\n",
      "1     Botony   59798.833333\n",
      "2         CS   62114.200000\n",
      "3  Chemistry   58914.142857\n",
      "4         DL   67401.962963\n",
      "5         IT   54489.461538\n",
      "6         ML   59614.628571\n",
      "7    Physics   55602.487805\n",
      "8    Zoology   58386.750000\n"
     ]
    }
   ],
   "source": [
    "# 6. Grouping Data by Department and Calculating the Average Salary\n",
    "grouped_df = df.groupby('Department')['Salary'].mean().reset_index()\n",
    "print(grouped_df)"
   ]
  }
 ],
 "metadata": {
  "kernelspec": {
   "display_name": "Python 3",
   "language": "python",
   "name": "python3"
  },
  "language_info": {
   "codemirror_mode": {
    "name": "ipython",
    "version": 3
   },
   "file_extension": ".py",
   "mimetype": "text/x-python",
   "name": "python",
   "nbconvert_exporter": "python",
   "pygments_lexer": "ipython3",
   "version": "3.12.6"
  }
 },
 "nbformat": 4,
 "nbformat_minor": 2
}
