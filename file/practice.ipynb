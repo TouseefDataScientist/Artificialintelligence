{
 "cells": [
  {
   "cell_type": "code",
   "execution_count": 1,
   "metadata": {},
   "outputs": [
    {
     "name": "stdout",
     "output_type": "stream",
     "text": [
      "     Age  Salary  Gender  Experience_Years Education_Level    City  Job_Role  \\\n",
      "0     18   63930  Female                 5     High School  City_B     Clerk   \n",
      "1     21   76774  Female                19          Master  City_B  Engineer   \n",
      "2     21   58651    Male                29     High School  City_B     Clerk   \n",
      "3     57   92885    Male                15          Master  City_D  Engineer   \n",
      "4     27   45997  Female                19     High School  City_D  Engineer   \n",
      "..   ...     ...     ...               ...             ...     ...       ...   \n",
      "195   41   32679    Male                 2        Bachelor  City_B   Manager   \n",
      "196   50  106723    Male                27             PhD  City_D   Analyst   \n",
      "197   29  100486  Female                 4     High School  City_D     Clerk   \n",
      "198   58   61222  Female                26        Bachelor  City_B   Analyst   \n",
      "199   38   98201    Male                19     High School  City_C     Clerk   \n",
      "\n",
      "     Work_Hours_Per_Week  \n",
      "0                     32  \n",
      "1                     37  \n",
      "2                     49  \n",
      "3                     39  \n",
      "4                     30  \n",
      "..                   ...  \n",
      "195                   31  \n",
      "196                   33  \n",
      "197                   46  \n",
      "198                   33  \n",
      "199                   35  \n",
      "\n",
      "[200 rows x 8 columns]\n"
     ]
    }
   ],
   "source": [
    "import pandas as pd\n",
    "file = pd.read_excel(\"practice_dataset.xlsx\")\n",
    "print(file)"
   ]
  },
  {
   "cell_type": "markdown",
   "metadata": {},
   "source": [
    "## File head"
   ]
  },
  {
   "cell_type": "code",
   "execution_count": 2,
   "metadata": {},
   "outputs": [
    {
     "name": "stdout",
     "output_type": "stream",
     "text": [
      "   Age  Salary  Gender  Experience_Years Education_Level    City  Job_Role  \\\n",
      "0   18   63930  Female                 5     High School  City_B     Clerk   \n",
      "1   21   76774  Female                19          Master  City_B  Engineer   \n",
      "2   21   58651    Male                29     High School  City_B     Clerk   \n",
      "3   57   92885    Male                15          Master  City_D  Engineer   \n",
      "4   27   45997  Female                19     High School  City_D  Engineer   \n",
      "5   37   95180    Male                 2     High School  City_A  Engineer   \n",
      "6   39  104498    Male                13          Master  City_A   Manager   \n",
      "7   54   93003  Female                 1        Bachelor  City_B     Clerk   \n",
      "8   41  115971    Male                10     High School  City_B   Analyst   \n",
      "9   24   64009  Female                17             PhD  City_A   Manager   \n",
      "\n",
      "   Work_Hours_Per_Week  \n",
      "0                   32  \n",
      "1                   37  \n",
      "2                   49  \n",
      "3                   39  \n",
      "4                   30  \n",
      "5                   46  \n",
      "6                   47  \n",
      "7                   38  \n",
      "8                   49  \n",
      "9                   45  \n"
     ]
    }
   ],
   "source": [
    "print(file.head(10))"
   ]
  },
  {
   "cell_type": "markdown",
   "metadata": {},
   "source": [
    "## **Generating File_info**"
   ]
  },
  {
   "cell_type": "code",
   "execution_count": 3,
   "metadata": {},
   "outputs": [
    {
     "name": "stdout",
     "output_type": "stream",
     "text": [
      "<class 'pandas.core.frame.DataFrame'>\n",
      "RangeIndex: 200 entries, 0 to 199\n",
      "Data columns (total 8 columns):\n",
      " #   Column               Non-Null Count  Dtype \n",
      "---  ------               --------------  ----- \n",
      " 0   Age                  200 non-null    int64 \n",
      " 1   Salary               200 non-null    int64 \n",
      " 2   Gender               200 non-null    object\n",
      " 3   Experience_Years     200 non-null    int64 \n",
      " 4   Education_Level      200 non-null    object\n",
      " 5   City                 200 non-null    object\n",
      " 6   Job_Role             200 non-null    object\n",
      " 7   Work_Hours_Per_Week  200 non-null    int64 \n",
      "dtypes: int64(4), object(4)\n",
      "memory usage: 12.6+ KB\n",
      "None\n"
     ]
    }
   ],
   "source": [
    "print(file.info())"
   ]
  },
  {
   "cell_type": "markdown",
   "metadata": {},
   "source": [
    "## **Generating file columns**"
   ]
  },
  {
   "cell_type": "code",
   "execution_count": 4,
   "metadata": {},
   "outputs": [
    {
     "name": "stdout",
     "output_type": "stream",
     "text": [
      "Index(['Age', 'Salary', 'Gender', 'Experience_Years', 'Education_Level',\n",
      "       'City', 'Job_Role', 'Work_Hours_Per_Week'],\n",
      "      dtype='object')\n"
     ]
    }
   ],
   "source": [
    "print(file.columns)"
   ]
  },
  {
   "cell_type": "markdown",
   "metadata": {},
   "source": [
    "## **Generate Tails**"
   ]
  },
  {
   "cell_type": "code",
   "execution_count": 5,
   "metadata": {},
   "outputs": [
    {
     "name": "stdout",
     "output_type": "stream",
     "text": [
      "     Age  Salary  Gender  Experience_Years Education_Level    City Job_Role  \\\n",
      "190   30   75463    Male                 2          Master  City_C  Manager   \n",
      "191   56   96589  Female                 6          Master  City_B    Clerk   \n",
      "192   53   49361  Female                 8        Bachelor  City_D  Manager   \n",
      "193   40   51875    Male                 1             PhD  City_B  Analyst   \n",
      "194   23   66661    Male                27             PhD  City_D    Clerk   \n",
      "195   41   32679    Male                 2        Bachelor  City_B  Manager   \n",
      "196   50  106723    Male                27             PhD  City_D  Analyst   \n",
      "197   29  100486  Female                 4     High School  City_D    Clerk   \n",
      "198   58   61222  Female                26        Bachelor  City_B  Analyst   \n",
      "199   38   98201    Male                19     High School  City_C    Clerk   \n",
      "\n",
      "     Work_Hours_Per_Week  \n",
      "190                   32  \n",
      "191                   31  \n",
      "192                   34  \n",
      "193                   38  \n",
      "194                   48  \n",
      "195                   31  \n",
      "196                   33  \n",
      "197                   46  \n",
      "198                   33  \n",
      "199                   35  \n"
     ]
    }
   ],
   "source": [
    "print(file.tail(10))"
   ]
  },
  {
   "cell_type": "markdown",
   "metadata": {},
   "source": [
    "## **describe the dataset**"
   ]
  },
  {
   "cell_type": "code",
   "execution_count": 6,
   "metadata": {},
   "outputs": [
    {
     "name": "stdout",
     "output_type": "stream",
     "text": [
      "              Age         Salary  Experience_Years  Work_Hours_Per_Week\n",
      "count  200.000000     200.000000        200.000000           200.000000\n",
      "mean    38.110000   78343.185000         14.905000            39.700000\n",
      "std     12.817933   25908.587651          8.508699             6.130081\n",
      "min     18.000000   30894.000000          1.000000            30.000000\n",
      "25%     28.000000   55852.000000          7.000000            34.000000\n",
      "50%     37.500000   78744.500000         15.000000            40.000000\n",
      "75%     50.000000  100550.500000         22.000000            46.000000\n",
      "max     59.000000  119987.000000         29.000000            49.000000\n"
     ]
    }
   ],
   "source": [
    "print(file.describe())"
   ]
  },
  {
   "cell_type": "markdown",
   "metadata": {},
   "source": [
    "## **slicing the dataset**\n",
    "Slice rows based on a condition in a column\n",
    "\n",
    "\n",
    " slicing with a condition"
   ]
  },
  {
   "cell_type": "code",
   "execution_count": 7,
   "metadata": {},
   "outputs": [
    {
     "name": "stdout",
     "output_type": "stream",
     "text": [
      "     Age  Salary  Gender  Experience_Years Education_Level    City  Job_Role  \\\n",
      "0     18   63930  Female                 5     High School  City_B     Clerk   \n",
      "1     21   76774  Female                19          Master  City_B  Engineer   \n",
      "2     21   58651    Male                29     High School  City_B     Clerk   \n",
      "3     57   92885    Male                15          Master  City_D  Engineer   \n",
      "5     37   95180    Male                 2     High School  City_A  Engineer   \n",
      "..   ...     ...     ...               ...             ...     ...       ...   \n",
      "194   23   66661    Male                27             PhD  City_D     Clerk   \n",
      "196   50  106723    Male                27             PhD  City_D   Analyst   \n",
      "197   29  100486  Female                 4     High School  City_D     Clerk   \n",
      "198   58   61222  Female                26        Bachelor  City_B   Analyst   \n",
      "199   38   98201    Male                19     High School  City_C     Clerk   \n",
      "\n",
      "     Work_Hours_Per_Week  \n",
      "0                     32  \n",
      "1                     37  \n",
      "2                     49  \n",
      "3                     39  \n",
      "5                     46  \n",
      "..                   ...  \n",
      "194                   48  \n",
      "196                   33  \n",
      "197                   46  \n",
      "198                   33  \n",
      "199                   35  \n",
      "\n",
      "[165 rows x 8 columns]\n"
     ]
    }
   ],
   "source": [
    "sliced_data_condition = file[file['Salary'] > 50000]  \n",
    "print(sliced_data_condition)"
   ]
  },
  {
   "cell_type": "markdown",
   "metadata": {},
   "source": [
    "## **Select rows where the value in 'Age' column matches the first value in 'Age' column**"
   ]
  },
  {
   "cell_type": "code",
   "execution_count": 8,
   "metadata": {},
   "outputs": [
    {
     "name": "stdout",
     "output_type": "stream",
     "text": [
      "     Age  Salary  Gender  Experience_Years Education_Level    City Job_Role  \\\n",
      "20    43   32121  Female                 1     High School  City_C  Manager   \n",
      "162   43  113725    Male                 2          Master  City_D  Analyst   \n",
      "\n",
      "     Work_Hours_Per_Week  \n",
      "20                    32  \n",
      "162                   37  \n"
     ]
    }
   ],
   "source": [
    "sliced_data = file.loc[file['Age'] == 43]\n",
    "print(sliced_data)"
   ]
  }
 ],
 "metadata": {
  "kernelspec": {
   "display_name": "Python 3",
   "language": "python",
   "name": "python3"
  },
  "language_info": {
   "codemirror_mode": {
    "name": "ipython",
    "version": 3
   },
   "file_extension": ".py",
   "mimetype": "text/x-python",
   "name": "python",
   "nbconvert_exporter": "python",
   "pygments_lexer": "ipython3",
   "version": "3.11.9"
  }
 },
 "nbformat": 4,
 "nbformat_minor": 2
}
