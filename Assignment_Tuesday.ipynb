{
 "cells": [
  {
   "cell_type": "markdown",
   "metadata": {},
   "source": [
    "#### Problem 01: “Understanding NumPy Arrays and Operations”"
   ]
  },
  {
   "cell_type": "code",
   "execution_count": 2,
   "metadata": {},
   "outputs": [
    {
     "data": {
      "text/plain": [
       "array([[80, 22, 56, 31, 84],\n",
       "       [69, 83, 55, 11, 34],\n",
       "       [41, 30, 97,  6, 20],\n",
       "       [78, 91, 27, 32,  6]], dtype=int32)"
      ]
     },
     "execution_count": 2,
     "metadata": {},
     "output_type": "execute_result"
    }
   ],
   "source": [
    "# a. Create a NumPy array of shape (4, 5) filled with random integers between 1 and 100.\n",
    "import numpy as np\n",
    "\n",
    "array = np.random.randint(1, 100, size=(4, 5))\n",
    "array"
   ]
  },
  {
   "cell_type": "code",
   "execution_count": 3,
   "metadata": {},
   "outputs": [
    {
     "data": {
      "text/plain": [
       "array([[80, 22, 56, 31, 84, 69, 83, 55, 11, 34],\n",
       "       [41, 30, 97,  6, 20, 78, 91, 27, 32,  6]], dtype=int32)"
      ]
     },
     "execution_count": 3,
     "metadata": {},
     "output_type": "execute_result"
    }
   ],
   "source": [
    "# b. Reshape the array into a shape of (2, 10) and explain how reshaping works in NumPy.\n",
    "reshaped_array = array.reshape(2, 10)\n",
    "reshaped_array\n",
    "# Explanation \n",
    "# NumPy rearranges the elements row-wise by default.So, it arrange like 2 roew and 10 elements."
   ]
  },
  {
   "cell_type": "code",
   "execution_count": 6,
   "metadata": {},
   "outputs": [
    {
     "name": "stdout",
     "output_type": "stream",
     "text": [
      "[[62 66 85 66 14  4 64 79 61 63]\n",
      " [59 97 45 63 60 66 57 87 76 18]]\n",
      "[[142  88 141  97  98  73 147 134  72  97]\n",
      " [100 127 142  69  80 144 148 114 108  24]]\n"
     ]
    }
   ],
   "source": [
    "#c. Perform element-wise addition with another array of shape (2, 10) and discuss broadcasting rules.\n",
    "\n",
    "array2 = np.random.randint(1, 101, size=(2, 10))\n",
    "print(array2)\n",
    "result_array = reshaped_array + array2\n",
    "print(result_array)"
   ]
  },
  {
   "cell_type": "code",
   "execution_count": 7,
   "metadata": {},
   "outputs": [
    {
     "data": {
      "text/plain": [
       "array([[64]], dtype=int32)"
      ]
     },
     "execution_count": 7,
     "metadata": {},
     "output_type": "execute_result"
    }
   ],
   "source": [
    "#d. Calculate the dot product of two compatible arrays and explain the significance of dot product in linear algebra.\n",
    "\n",
    "array_a = np.random.randint(1, 10, size=(1, 5))\n",
    "array_b = np.random.randint(1, 10, size=(5, 1))\n",
    "\n",
    "dot_product = np.dot(array_a, array_b)\n",
    "dot_product\n"
   ]
  },
  {
   "cell_type": "code",
   "execution_count": 14,
   "metadata": {},
   "outputs": [
    {
     "name": "stdout",
     "output_type": "stream",
     "text": [
      "[[80 22 56 31 84]\n",
      " [69 83 55 11 34]\n",
      " [41 30 97  6 20]\n",
      " [78 91 27 32  6]]\n",
      "37.5\n"
     ]
    },
    {
     "data": {
      "text/plain": [
       "masked_array(\n",
       "  data=[[80, --, 56, --, 84],\n",
       "        [69, 83, 55, --, --],\n",
       "        [41, --, 97, --, --],\n",
       "        [78, 91, --, --, --]],\n",
       "  mask=[[False,  True, False,  True, False],\n",
       "        [False, False, False,  True,  True],\n",
       "        [False,  True, False,  True,  True],\n",
       "        [False, False,  True,  True,  True]],\n",
       "  fill_value=np.int64(999999),\n",
       "  dtype=int32)"
      ]
     },
     "execution_count": 14,
     "metadata": {},
     "output_type": "execute_result"
    }
   ],
   "source": [
    "#e. Create a masked array from the original array, masking all values below the median; explain the concept and use cases of \n",
    "# masked arrays.\n",
    "# Calculate the median of the original array\n",
    "median_value = np.median(array)\n",
    "print(array)\n",
    "print(median_value)\n",
    "# Create a masked array where values below the median are masked\n",
    "masked_array = np.ma.masked_less(array, median_value)\n",
    "masked_array\n",
    "\n",
    "# Concept and Use Cases of Masked Arrays:\n",
    "#         Masked arrays allow you to ignore or hide certain elements during computations, useful for handling missing or invalid\n",
    "#  data without altering the original dataset. Masking is common in data cleaning, scientific data analysis, and handling data \n",
    "#  that contains outliers or specific values that should be excluded from certain operations."
   ]
  },
  {
   "cell_type": "markdown",
   "metadata": {},
   "source": [
    "#### Problem 02: “Exploring NumPy Broadcasting and Strides”"
   ]
  },
  {
   "cell_type": "code",
   "execution_count": 15,
   "metadata": {},
   "outputs": [
    {
     "data": {
      "text/plain": [
       "array([[10, 20, 30],\n",
       "       [20, 40, 60],\n",
       "       [30, 60, 90]])"
      ]
     },
     "execution_count": 15,
     "metadata": {},
     "output_type": "execute_result"
    }
   ],
   "source": [
    "# a. Explain the concept of broadcasting in NumPy and provide an example involving arrays of different shapes.\n",
    "# Broadcasting in NumPy allows arithmetic operations on arrays with different shapes. When the shapes are not the same, \n",
    "# NumPy will attempt to broadcast the smaller array across the larger one, as long as the dimensions are compatible. \n",
    "\n",
    "# Example\n",
    "\n",
    "# Array with shape (3, 1)\n",
    "array1 = np.array([[1], [2], [3]])\n",
    "\n",
    "# Array with shape (1, 3)\n",
    "array2 = np.array([10, 20, 30])\n",
    "\n",
    "result = array1 * array2\n",
    "result\n"
   ]
  },
  {
   "cell_type": "code",
   "execution_count": 16,
   "metadata": {},
   "outputs": [
    {
     "data": {
      "text/plain": [
       "array([[11, 21, 31],\n",
       "       [12, 22, 32],\n",
       "       [13, 23, 33],\n",
       "       [14, 24, 34]])"
      ]
     },
     "execution_count": 16,
     "metadata": {},
     "output_type": "execute_result"
    }
   ],
   "source": [
    "#b. Create two arrays with different shapes that can be broadcasted together and perform an arithmetic operation on them.\n",
    "# Array with shape (4, 1)\n",
    "array_a = np.array([[1], [2], [3], [4]])\n",
    "\n",
    "# Array with shape (1, 3)\n",
    "array_b = np.array([10, 20, 30])\n",
    "\n",
    "# Broadcasting addition\n",
    "result_add = array_a + array_b\n",
    "result_add"
   ]
  },
  {
   "cell_type": "code",
   "execution_count": null,
   "metadata": {},
   "outputs": [],
   "source": [
    "#c. Discuss how strides in NumPy arrays affect memory access patterns when slicing an array.\n",
    "# Strides in NumPy\n",
    "# Strides in NumPy represent the number of bytes needed to move to the next element in each dimension of an array. Strides are \n",
    "# crucial for memory access patterns as they influence how elements are accessed and can impact performance, especially during \n",
    "# slicing operations.When an array is sliced, NumPy uses the strides to determine the start point and how to step through memory \n",
    "# to extract the elements."
   ]
  },
  {
   "cell_type": "code",
   "execution_count": 27,
   "metadata": {},
   "outputs": [
    {
     "name": "stdout",
     "output_type": "stream",
     "text": [
      "Original Array:\n",
      "[[ 0  1  2]\n",
      " [ 3  4  5]\n",
      " [ 6  7  8]\n",
      " [ 9 10 11]]\n",
      "\n",
      "Sliced Array:\n",
      "[[ 0  2]\n",
      " [ 9 11]]\n"
     ]
    },
    {
     "data": {
      "text/plain": [
       "((24, 8), (72, 16))"
      ]
     },
     "execution_count": 27,
     "metadata": {},
     "output_type": "execute_result"
    }
   ],
   "source": [
    "#d. Create an example to demonstrate the impact of strides on array slicing and performance.\n",
    "\n",
    "original_array = np.arange(12).reshape(4, 3)\n",
    "print(\"Original Array:\")\n",
    "print(original_array)\n",
    "\n",
    "sliced_array = original_array[::3, ::2]\n",
    "print(\"\\nSliced Array:\")\n",
    "print(sliced_array)\n",
    "\n",
    "# Strides of the original and sliced array\n",
    "original_strides = original_array.strides\n",
    "sliced_strides = sliced_array.strides\n",
    "(original_strides, sliced_strides)\n"
   ]
  },
  {
   "cell_type": "code",
   "execution_count": 28,
   "metadata": {},
   "outputs": [
    {
     "data": {
      "text/plain": [
       "array([[2., 3., 4.],\n",
       "       [2., 3., 4.],\n",
       "       [2., 3., 4.],\n",
       "       [2., 3., 4.]])"
      ]
     },
     "execution_count": 28,
     "metadata": {},
     "output_type": "execute_result"
    }
   ],
   "source": [
    "#e. Analyze how changing the order of dimensions’ affects broadcasting and provide a scenario illustrating this.\n",
    "# Array of shape (4, 1)\n",
    "array_x = np.ones((4, 1))\n",
    "\n",
    "# Array of shape (3,)\n",
    "array_y = np.array([1, 2, 3])\n",
    "\n",
    "# Transpose array_y to change its dimension order\n",
    "array_y_reshaped = array_y.reshape((1, 3))\n",
    "\n",
    "# Broadcasted addition\n",
    "result = array_x + array_y_reshaped\n",
    "result\n"
   ]
  },
  {
   "cell_type": "markdown",
   "metadata": {},
   "source": [
    "#### Problem 03: “Advanced Array Manipulation with NumPy”"
   ]
  },
  {
   "cell_type": "code",
   "execution_count": 34,
   "metadata": {},
   "outputs": [
    {
     "name": "stdout",
     "output_type": "stream",
     "text": [
      "[[[ 23 161  11]\n",
      "  [115 148  71]\n",
      "  [245  34  68]\n",
      "  [ 40 158  32]]\n",
      "\n",
      " [[ 32  27  86]\n",
      "  [200 246  28]\n",
      "  [ 79 147  69]\n",
      "  [ 39  98 170]]\n",
      "\n",
      " [[145  27 205]\n",
      "  [231  69 209]\n",
      "  [200  69 235]\n",
      "  [ 38 245 251]]\n",
      "\n",
      " [[ 86 142 138]\n",
      "  [173  20  32]\n",
      "  [  6  96  22]\n",
      "  [154  44  55]]]\n",
      "\n",
      "Red channel [[ 23 115 245  40]\n",
      " [ 32 200  79  39]\n",
      " [145 231 200  38]\n",
      " [ 86 173   6 154]]\n",
      "\n",
      "Green_channel [[161 148  34 158]\n",
      " [ 27 246 147  98]\n",
      " [ 27  69  69 245]\n",
      " [142  20  96  44]]\n",
      "\n",
      "Blue_channel [[ 11  71  68  32]\n",
      " [ 86  28  69 170]\n",
      " [205 209 235 251]\n",
      " [138  32  22  55]]\n"
     ]
    }
   ],
   "source": [
    "#a. Create a 3D NumPy array representing an RGB image and explain how to access individual color channels.\n",
    "# Create a 3D NumPy array to represent a 4x4 RGB image with random pixel values\n",
    "rgb_image = np.random.randint(0, 256, size=(4, 4, 3))\n",
    "print(rgb_image)\n",
    "\n",
    "# Access the Red channel (first channel)\n",
    "red_channel = rgb_image[:, :, 0]\n",
    "print(\"\\nRed channel\", red_channel)\n",
    "\n",
    "# Access the Green channel (second channel)\n",
    "green_channel = rgb_image[:, :, 1]\n",
    "print(\"\\nGreen_channel\" , green_channel)\n",
    "\n",
    "# Access the Blue channel (third channel)\n",
    "blue_channel = rgb_image[:, :, 2]\n",
    "print(\"\\nBlue_channel\",blue_channel)\n"
   ]
  },
  {
   "cell_type": "code",
   "execution_count": 35,
   "metadata": {},
   "outputs": [
    {
     "data": {
      "text/plain": [
       "array([ 23, 161,  11, 115, 148,  71, 245,  34,  68,  40, 158,  32,  32,\n",
       "        27,  86, 200, 246,  28,  79, 147,  69,  39,  98, 170, 145,  27,\n",
       "       205, 231,  69, 209, 200,  69, 235,  38, 245, 251,  86, 142, 138,\n",
       "       173,  20,  32,   6,  96,  22, 154,  44,  55], dtype=int32)"
      ]
     },
     "execution_count": 35,
     "metadata": {},
     "output_type": "execute_result"
    }
   ],
   "source": [
    "#b. Demonstrate how to flatten this 3D array into a 1D array and discuss the implications for image processing.\n",
    "\n",
    "flattened_array = rgb_image.flatten()\n",
    "flattened_array\n",
    "# Implications for Image Processing: \n",
    "# Flattening is common in image preprocessing for tasks like feeding pixel data into machine learning models. However, it \n",
    "# removes the 2D spatial structure, which might not be desirable for convolutional operations where spatial relationships \n",
    "# are important."
   ]
  },
  {
   "cell_type": "code",
   "execution_count": 36,
   "metadata": {},
   "outputs": [
    {
     "data": {
      "text/plain": [
       "(array([[[  0, 161,  11],\n",
       "         [  0, 148,  71],\n",
       "         [245,  34,  68],\n",
       "         [ 40, 158,  32]],\n",
       " \n",
       "        [[  0,  27,  86],\n",
       "         [  0, 246,  28],\n",
       "         [ 79, 147,  69],\n",
       "         [ 39,  98, 170]],\n",
       " \n",
       "        [[145,  27, 205],\n",
       "         [231,  69, 209],\n",
       "         [200,  69, 235],\n",
       "         [ 38, 245, 251]],\n",
       " \n",
       "        [[ 86, 142, 138],\n",
       "         [173,  20,  32],\n",
       "         [  6,  96,  22],\n",
       "         [154,  44,  55]]], dtype=int32),\n",
       " array([[[  0, 161,  11],\n",
       "         [  0, 148,  71]],\n",
       " \n",
       "        [[  0,  27,  86],\n",
       "         [  0, 246,  28]]], dtype=int32))"
      ]
     },
     "execution_count": 36,
     "metadata": {},
     "output_type": "execute_result"
    }
   ],
   "source": [
    "#c. Use array slicing to extract a sub-array from the 3D array and explain the concept of views versus copies in NumPy.\n",
    "# Extract a 2x2 sub-array from the top-left corner\n",
    "sub_array = rgb_image[:2, :2, :]\n",
    "\n",
    "# Check if sub_array is a view or a copy by modifying it\n",
    "sub_array[:, :, 0] = 0  # Set the Red channel to zero in the sub-array\n",
    "(rgb_image, sub_array)\n"
   ]
  },
  {
   "cell_type": "markdown",
   "metadata": {},
   "source": [
    "\n",
    "##### d. Discuss the advantages of using NumPy arrays over Python lists for large datasets, particularly in terms of performance and memory efficiency.\n",
    "<b>Advantages of NumPy Arrays over Python Lists</b><br>\n",
    "NumPy arrays offer several advantages over Python lists, especially for large datasets:<br>\n",
    "\n",
    "<b>Performance: </b><br>NumPy is implemented in C and performs operations at compiled speeds. Array operations are vectorized, minimizing loops and improving performance.<br>\n",
    "<b>Memory Efficiency: </b><br>NumPy arrays store data in contiguous memory blocks, leading to lower overhead and better cache performance. Data types are homogeneous, meaning all elements share the same type, further improving efficiency.<br>\n",
    "<b>Convenience: </b><br>NumPy provides a comprehensive set of operations for mathematical, statistical, and scientific computations, all optimized for array processing.<br>"
   ]
  },
  {
   "cell_type": "code",
   "execution_count": 37,
   "metadata": {},
   "outputs": [
    {
     "data": {
      "text/plain": [
       "array([[[0.        , 0.6313726 , 0.04313726],\n",
       "        [0.        , 0.5803922 , 0.2784314 ],\n",
       "        [0.9607843 , 0.13333334, 0.26666668],\n",
       "        [0.15686275, 0.61960787, 0.1254902 ]],\n",
       "\n",
       "       [[0.        , 0.10588235, 0.3372549 ],\n",
       "        [0.        , 0.9647059 , 0.10980392],\n",
       "        [0.30980393, 0.5764706 , 0.27058825],\n",
       "        [0.15294118, 0.38431373, 0.6666667 ]],\n",
       "\n",
       "       [[0.5686275 , 0.10588235, 0.8039216 ],\n",
       "        [0.90588236, 0.27058825, 0.81960785],\n",
       "        [0.78431374, 0.27058825, 0.92156863],\n",
       "        [0.14901961, 0.9607843 , 0.9843137 ]],\n",
       "\n",
       "       [[0.3372549 , 0.5568628 , 0.5411765 ],\n",
       "        [0.6784314 , 0.07843138, 0.1254902 ],\n",
       "        [0.02352941, 0.3764706 , 0.08627451],\n",
       "        [0.6039216 , 0.17254902, 0.21568628]]], dtype=float32)"
      ]
     },
     "execution_count": 37,
     "metadata": {},
     "output_type": "execute_result"
    }
   ],
   "source": [
    "#e. Create a function that normalizes the pixel values of the RGB image array to the range [0, 1] and explain the importance \n",
    "# of normalization in machine learning.\n",
    "\n",
    "def normalize_rgb_image(image):\n",
    "    # Convert pixel values to float type for normalization\n",
    "    image_float = image.astype(np.float32)\n",
    "    \n",
    "    # Normalize the values to the range [0, 1]\n",
    "    normalized_image = image_float / 255.0\n",
    "    return normalized_image\n",
    "\n",
    "# Normalize the RGB image array\n",
    "normalized_image = normalize_rgb_image(rgb_image)\n",
    "normalized_image\n"
   ]
  },
  {
   "cell_type": "markdown",
   "metadata": {},
   "source": [
    "##### Problem 04: “NumPy for Statistical Analysis”"
   ]
  },
  {
   "cell_type": "code",
   "execution_count": 38,
   "metadata": {},
   "outputs": [
    {
     "data": {
      "text/plain": [
       "(np.float64(0.02615509309102564),\n",
       " np.float64(0.05542489092856215),\n",
       " np.float64(0.9723556835743085))"
      ]
     },
     "execution_count": 38,
     "metadata": {},
     "output_type": "execute_result"
    }
   ],
   "source": [
    "# a. Generate a NumPy array of 1000 random numbers and calculate basic statistics (mean, median, variance).\n",
    "\n",
    "data = np.random.randn(1000)\n",
    "\n",
    "# Calculate basic statistics\n",
    "mean = np.mean(data)\n",
    "median = np.median(data)\n",
    "variance = np.var(data)\n",
    "\n",
    "(mean, median, variance)\n"
   ]
  },
  {
   "cell_type": "code",
   "execution_count": 39,
   "metadata": {},
   "outputs": [
    {
     "data": {
      "text/plain": [
       "(np.float64(0.9723556835743085), np.float64(0.9733290125868954))"
      ]
     },
     "execution_count": 39,
     "metadata": {},
     "output_type": "execute_result"
    }
   ],
   "source": [
    "#b. Discuss the differences between population and sample statistics, and calculate both for your generated data.\n",
    "# Sample variance (using ddof=1 for sample variance)\n",
    "sample_variance = np.var(data, ddof=1)\n",
    "\n",
    "# Population variance\n",
    "population_variance = np.var(data)\n",
    "\n",
    "(population_variance, sample_variance)\n"
   ]
  },
  {
   "cell_type": "code",
   "execution_count": 40,
   "metadata": {},
   "outputs": [
    {
     "data": {
      "image/png": "[encoded data removed]",
      "text/plain": [
       "<Figure size 640x480 with 1 Axes>"
      ]
     },
     "metadata": {},
     "output_type": "display_data"
    }
   ],
   "source": [
    "#c. Create a histogram of the random numbers using NumPy, and explain how histograms can be useful for data visualization.\n",
    "import matplotlib.pyplot as plt\n",
    "\n",
    "# Create a histogram with 30 bins\n",
    "plt.hist(data, bins=30, edgecolor='black')\n",
    "plt.title('Histogram of Random Numbers')\n",
    "plt.xlabel('Value')\n",
    "plt.ylabel('Frequency')\n",
    "plt.show()\n"
   ]
  },
  {
   "cell_type": "code",
   "execution_count": 41,
   "metadata": {},
   "outputs": [
    {
     "data": {
      "text/plain": [
       "array([-2.60439799,  3.85440815, -2.71380028, -2.76628765,  2.91946509,\n",
       "       -2.65466697,  2.67565543, -2.55551962, -2.71140497, -2.52569759,\n",
       "        3.37622623])"
      ]
     },
     "execution_count": 41,
     "metadata": {},
     "output_type": "execute_result"
    }
   ],
   "source": [
    "#d. Implement a method to identify outliers in your dataset using the IQR (Interquartile Range) method.\n",
    "# Calculate the 1st and 3rd quartiles\n",
    "Q1 = np.percentile(data, 25)\n",
    "Q3 = np.percentile(data, 75)\n",
    "IQR = Q3 - Q1\n",
    "\n",
    "# Define outliers as values outside 1.5 * IQR from Q1 or Q3\n",
    "lower_bound = Q1 - 1.5 * IQR\n",
    "upper_bound = Q3 + 1.5 * IQR\n",
    "\n",
    "# Identify outliers\n",
    "outliers = data[(data < lower_bound) | (data > upper_bound)]\n",
    "outliers\n"
   ]
  },
  {
   "cell_type": "markdown",
   "metadata": {},
   "source": [
    "##### e. Explain how NumPy’s statistical functions can be utilized for data analysis in scientific research.\n",
    "<b>Utilization of NumPy’s Statistical Functions in Scientific Research</b><br>\n",
    "NumPy’s statistical functions are widely used in scientific research for the following reasons:\n",
    "\n",
    "<b>Efficiency:</b><br> NumPy is optimized for fast computations on large datasets, making it suitable for handling large amounts of data common in scientific studies.<br>\n",
    "<b>Comprehensiveness:</b><br> NumPy provides a range of statistical functions, from basic measures like mean and variance to more advanced methods like linear regression and Fourier transforms.<br>\n",
    "<b>Support for Multidimensional Data:</b><br> NumPy allows easy manipulation of multidimensional arrays, which is useful for handling complex data such as multi-channel sensor data, 3D image arrays, or time-series data in fields like biology, physics, and finance.<br>\n",
    "<b>Integration with Other Libraries:</b><br> NumPy is the foundation for many other scientific libraries, such as SciPy, Pandas, and Matplotlib, facilitating end-to-end data analysis, from raw data processing to visualization and modeling.<br>\n",
    "For example, in environmental science, NumPy’s statistical tools can analyze climate data trends, assess temperature anomalies, or conduct time-series analysis on rainfall patterns.<br>"
   ]
  },
  {
   "cell_type": "markdown",
   "metadata": {},
   "source": [
    "##### Problem 05: “Advanced NumPy Operations Challenge”\n",
    "#### You are given two 2D NumPy arrays X of shape (n, d) and Y of shape (m, d) containing random floating-point numbers. Your task is to solve the following using NumPy's broadcasting, strides and advanced functions, without using explicit loops:"
   ]
  },
  {
   "cell_type": "code",
   "execution_count": 48,
   "metadata": {},
   "outputs": [
    {
     "data": {
      "text/plain": [
       "array([[0.36694788, 0.4370142 , 1.08519833, 1.18471349],\n",
       "       [0.64302054, 0.91192847, 0.27993472, 0.23210519],\n",
       "       [0.67073068, 0.97178542, 0.30253161, 0.36912692],\n",
       "       [0.71172639, 0.8223621 , 0.66393982, 0.38448064],\n",
       "       [0.44152942, 0.73618458, 0.56804053, 0.58936267]])"
      ]
     },
     "execution_count": 48,
     "metadata": {},
     "output_type": "execute_result"
    }
   ],
   "source": [
    "# a. Compute the pairwise Euclidean distance between each row in X and each row in Y, returning a matrix D of shape (n, m) where \n",
    "# each element D[i, j] represents the distance between X[i] and Y[j].\n",
    "\n",
    "# Define dimensions\n",
    "n, m, d = 5, 4, 3  # example dimensions for demonstration\n",
    "\n",
    "# Generate random arrays X and Y\n",
    "X = np.random.rand(n, d)\n",
    "Y = np.random.rand(m, d)\n",
    "\n",
    "# Compute the pairwise Euclidean distance matrix\n",
    "D = np.sqrt(((X[:, np.newaxis, :] - Y[np.newaxis, :, :]) ** 2).sum(axis=2))\n",
    "D"
   ]
  },
  {
   "cell_type": "code",
   "execution_count": 43,
   "metadata": {},
   "outputs": [
    {
     "data": {
      "text/plain": [
       "array([0.58215402, 0.775344  ])"
      ]
     },
     "execution_count": 43,
     "metadata": {},
     "output_type": "execute_result"
    }
   ],
   "source": [
    "#b. Write a function sliding_window_mean(arr, window_size) that takes a 1D NumPy array arr (a single row from X) and a window size \n",
    "# window_size, returning the mean values for each sliding window of the specified size.\n",
    "\n",
    "def sliding_window_mean(arr, window_size):\n",
    "    # Use np.lib.stride_tricks to create a view with overlapping windows\n",
    "    shape = arr.shape[0] - window_size + 1, window_size\n",
    "    strides = arr.strides[0], arr.strides[0]\n",
    "    windows = np.lib.stride_tricks.as_strided(arr, shape=shape, strides=strides)\n",
    "    return windows.mean(axis=1)\n",
    "\n",
    "# Example array and window size\n",
    "arr = X[0]\n",
    "window_size = 2\n",
    "sliding_window_mean(arr, window_size)"
   ]
  },
  {
   "cell_type": "code",
   "execution_count": 44,
   "metadata": {},
   "outputs": [
    {
     "data": {
      "text/plain": [
       "np.float64(0.5304478678757071)"
      ]
     },
     "execution_count": 44,
     "metadata": {},
     "output_type": "execute_result"
    }
   ],
   "source": [
    "#c. Perform Singular Value Decomposition (SVD) on D to decompose it into U, Σ, and V. Then, reconstruct D using only the top 2 \n",
    "# singular values. Compute the Frobenius norm between the original D and the reconstructed matrix.\n",
    "\n",
    "# Perform SVD\n",
    "U, S, Vt = np.linalg.svd(D)\n",
    "\n",
    "# Use only the top 2 singular values to reconstruct D\n",
    "S_top2 = np.zeros((n, m))\n",
    "np.fill_diagonal(S_top2[:2, :2], S[:2])\n",
    "D_reconstructed = U @ S_top2 @ Vt\n",
    "\n",
    "# Calculate Frobenius norm between original D and reconstructed D\n",
    "frobenius_norm = np.linalg.norm(D - D_reconstructed, 'fro')\n",
    "frobenius_norm\n"
   ]
  },
  {
   "cell_type": "code",
   "execution_count": 49,
   "metadata": {},
   "outputs": [
    {
     "name": "stdout",
     "output_type": "stream",
     "text": [
      "[[0.36694788 0.4370142  1.08519833 1.18471349]\n",
      " [0.64302054 0.91192847 0.27993472 0.23210519]\n",
      " [0.67073068 0.97178542 0.30253161 0.36912692]\n",
      " [0.71172639 0.8223621  0.66393982 0.38448064]\n",
      " [0.44152942 0.73618458 0.56804053 0.58936267]]\n",
      "[[0. 0. 0. 0.]\n",
      " [0. 0. 0. 0.]\n",
      " [0. 0. 0. 0.]\n",
      " [0. 0. 0. 0.]\n",
      " [0. 0. 0. 0.]]\n",
      "[[0. 0. 0. 0.]\n",
      " [0. 0. 0. 0.]\n",
      " [0. 0. 0. 0.]\n",
      " [0. 0. 0. 0.]\n",
      " [0. 0. 0. 0.]]\n"
     ]
    },
    {
     "data": {
      "text/plain": [
       "np.int64(0)"
      ]
     },
     "execution_count": 49,
     "metadata": {},
     "output_type": "execute_result"
    }
   ],
   "source": [
    "#d. Modify D such that:\n",
    "#  Replace all distances less than 5 with 0.\n",
    "#  Replace all distances greater than 100 with 1.\n",
    "#  Count how many values remain between 5 and 100 after this transformation.\n",
    "\n",
    "# Modify D based on specified conditions\n",
    "D_mod = D.copy()\n",
    "print(D_mod)\n",
    "D_mod[D < 5] = 0\n",
    "print(D_mod)\n",
    "D_mod[D > 100] = 1\n",
    "print(D_mod)\n",
    "\n",
    "# Count values between 5 and 100\n",
    "count_between = np.sum((D_mod > 0) & (D_mod < 1))\n",
    "count_between\n"
   ]
  },
  {
   "cell_type": "code",
   "execution_count": 52,
   "metadata": {},
   "outputs": [
    {
     "data": {
      "text/plain": [
       "(array([[0.36694788, 0.4370142 , 1.08519833],\n",
       "        [0.4370142 , 1.08519833, 1.18471349],\n",
       "        [1.08519833, 1.18471349, 0.64302054]]),\n",
       " 0.0,\n",
       " 0.0)"
      ]
     },
     "execution_count": 52,
     "metadata": {},
     "output_type": "execute_result"
    }
   ],
   "source": [
    "# e. Create a new array from D using strides that represents a 3x3 sliding window over the first row of D. Compare the execution \n",
    "# time of this operation with a regular loop-based approach, ensuring that the stride-based solution is more efficient.\n",
    "\n",
    "import time\n",
    "\n",
    "# Extract the first row of D\n",
    "first_row = D[0, :]\n",
    "\n",
    "# Define the sliding window using strides\n",
    "window_shape = (3, 3)\n",
    "strides = first_row.strides * 2\n",
    "stride_array = np.lib.stride_tricks.as_strided(first_row, shape=window_shape, strides=strides)\n",
    "\n",
    "# Measure execution time for the stride-based approach\n",
    "start_time = time.time()\n",
    "stride_array = np.lib.stride_tricks.as_strided(first_row, shape=window_shape, strides=strides)\n",
    "stride_time = time.time() - start_time\n",
    "\n",
    "# Measure execution time for the loop-based approach\n",
    "start_time = time.time()\n",
    "loop_array = np.array([first_row[i:i+3] for i in range(len(first_row) - 2)])\n",
    "loop_time = time.time() - start_time\n",
    "\n",
    "(stride_array, stride_time, loop_time)\n"
   ]
  }
 ],
 "metadata": {
  "kernelspec": {
   "display_name": "Python 3",
   "language": "python",
   "name": "python3"
  },
  "language_info": {
   "codemirror_mode": {
    "name": "ipython",
    "version": 3
   },
   "file_extension": ".py",
   "mimetype": "text/x-python",
   "name": "python",
   "nbconvert_exporter": "python",
   "pygments_lexer": "ipython3",
   "version": "3.12.6"
  }
 },
 "nbformat": 4,
 "nbformat_minor": 2
}
