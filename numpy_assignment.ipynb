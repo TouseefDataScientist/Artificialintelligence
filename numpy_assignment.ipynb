{
 "cells": [
  {
   "cell_type": "markdown",
   "metadata": {},
   "source": [
    "Name : Minhas Ahmed"
   ]
  },
  {
   "cell_type": "code",
   "execution_count": 1,
   "metadata": {},
   "outputs": [],
   "source": [
    "import numpy as np"
   ]
  },
  {
   "cell_type": "code",
   "execution_count": 2,
   "metadata": {},
   "outputs": [
    {
     "name": "stdout",
     "output_type": "stream",
     "text": [
      "1D Array:\n",
      "[1 2 3 4 5]\n"
     ]
    }
   ],
   "source": [
    "# Creating a 1D array\n",
    "\n",
    "array_1d = np.array([1, 2, 3, 4, 5])\n",
    "print(\"1D Array:\")\n",
    "print(array_1d)"
   ]
  },
  {
   "cell_type": "code",
   "execution_count": 3,
   "metadata": {},
   "outputs": [
    {
     "name": "stdout",
     "output_type": "stream",
     "text": [
      "\n",
      "2D Array:\n",
      "[[1 2 3]\n",
      " [4 5 6]]\n"
     ]
    }
   ],
   "source": [
    "# Creating a 2D array\n",
    "\n",
    "array_2d = np.array([[1, 2, 3], [4, 5, 6]])\n",
    "print(\"\\n2D Array:\")\n",
    "print(array_2d)"
   ]
  },
  {
   "cell_type": "code",
   "execution_count": 4,
   "metadata": {},
   "outputs": [
    {
     "name": "stdout",
     "output_type": "stream",
     "text": [
      "\n",
      "3D Array:\n",
      "[[[1 2]\n",
      "  [3 4]]\n",
      "\n",
      " [[5 6]\n",
      "  [7 8]]]\n"
     ]
    }
   ],
   "source": [
    "# Creating a 3D array\n",
    "\n",
    "array_3d = np.array([[[1, 2], [3, 4]], [[5, 6], [7, 8]]])\n",
    "print(\"\\n3D Array:\")\n",
    "print(array_3d)"
   ]
  },
  {
   "cell_type": "code",
   "execution_count": 5,
   "metadata": {},
   "outputs": [
    {
     "name": "stdout",
     "output_type": "stream",
     "text": [
      "\n",
      "Slicing rows (first and second row):\n",
      "[[1 2 3]\n",
      " [4 5 6]]\n"
     ]
    }
   ],
   "source": [
    "array_2d = np.array([[1, 2, 3], [4, 5, 6], [7, 8, 9]])\n",
    "print(\"\\nSlicing rows (first and second row):\")\n",
    "print(array_2d[0:2, :])"
   ]
  },
  {
   "cell_type": "code",
   "execution_count": 7,
   "metadata": {},
   "outputs": [
    {
     "name": "stdout",
     "output_type": "stream",
     "text": [
      "\n",
      "Addition (Array A + Array B):\n",
      "[[ 8 10 12]\n",
      " [14 16 18]]\n",
      "\n",
      "Subtraction (Array A - Array B):\n",
      "[[-6 -6 -6]\n",
      " [-6 -6 -6]]\n",
      "\n",
      "Multiplication (Array A * Array B):\n",
      "[[ 7 16 27]\n",
      " [40 55 72]]\n",
      "\n",
      "Division (Array A / Array B):\n",
      "[[0.14285714 0.25       0.33333333]\n",
      " [0.4        0.45454545 0.5       ]]\n"
     ]
    }
   ],
   "source": [
    "array_a = np.array([[1, 2, 3], [4, 5, 6]])\n",
    "array_b = np.array([[7, 8, 9], [10, 11, 12]])\n",
    "array_add = array_a + array_b\n",
    "\n",
    "print(\"\\nAddition (Array A + Array B):\")\n",
    "print(array_add)\n",
    "array_subtract = array_a - array_b\n",
    "\n",
    "print(\"\\nSubtraction (Array A - Array B):\")\n",
    "print(array_subtract)\n",
    "array_multiply = array_a * array_b\n",
    "\n",
    "print(\"\\nMultiplication (Array A * Array B):\")\n",
    "print(array_multiply)\n",
    "array_divide = array_a / array_b\n",
    "\n",
    "print(\"\\nDivision (Array A / Array B):\")\n",
    "print(array_divide)"
   ]
  },
  {
   "cell_type": "code",
   "execution_count": 3,
   "metadata": {},
   "outputs": [
    {
     "name": "stdout",
     "output_type": "stream",
     "text": [
      "[[0. 0. 0. 0.]\n",
      " [0. 0. 0. 0.]\n",
      " [0. 0. 0. 0.]]\n"
     ]
    }
   ],
   "source": [
    "zeros_array = np.zeros((3, 4))  \n",
    "print(zeros_array)"
   ]
  },
  {
   "cell_type": "code",
   "execution_count": 4,
   "metadata": {},
   "outputs": [
    {
     "name": "stdout",
     "output_type": "stream",
     "text": [
      "[[1. 1. 1.]\n",
      " [1. 1. 1.]]\n"
     ]
    }
   ],
   "source": [
    "ones_array = np.ones((2, 3)) \n",
    "print(ones_array)"
   ]
  },
  {
   "cell_type": "code",
   "execution_count": 5,
   "metadata": {},
   "outputs": [
    {
     "name": "stdout",
     "output_type": "stream",
     "text": [
      "[[ 0  1  2  3]\n",
      " [ 4  5  6  7]\n",
      " [ 8  9 10 11]]\n"
     ]
    }
   ],
   "source": [
    "range_array = np.arange(12).reshape(3, 4)\n",
    "print(range_array)"
   ]
  },
  {
   "cell_type": "code",
   "execution_count": 7,
   "metadata": {},
   "outputs": [
    {
     "name": "stdout",
     "output_type": "stream",
     "text": [
      "6\n"
     ]
    }
   ],
   "source": [
    "array_2d = np.array([[1, 2, 3], [4, 5, 6], [7, 8, 9]])\n",
    "element = array_2d[1, 2]\n",
    "print(element)"
   ]
  },
  {
   "cell_type": "code",
   "execution_count": 8,
   "metadata": {},
   "outputs": [
    {
     "name": "stdout",
     "output_type": "stream",
     "text": [
      "[[1 2]\n",
      " [4 5]]\n"
     ]
    }
   ],
   "source": [
    "sliced_array = array_2d[:2, :2]\n",
    "print(sliced_array)"
   ]
  },
  {
   "cell_type": "code",
   "execution_count": 9,
   "metadata": {},
   "outputs": [
    {
     "name": "stdout",
     "output_type": "stream",
     "text": [
      "[[ 6  7  8]\n",
      " [ 9 10 11]\n",
      " [12 13 14]]\n"
     ]
    }
   ],
   "source": [
    "array_sum = array_2d + 5\n",
    "print(array_sum)"
   ]
  },
  {
   "cell_type": "code",
   "execution_count": 10,
   "metadata": {},
   "outputs": [
    {
     "name": "stdout",
     "output_type": "stream",
     "text": [
      "[[ 2  4  6]\n",
      " [ 8 10 12]\n",
      " [14 16 18]]\n"
     ]
    }
   ],
   "source": [
    "array_product = array_2d * 2\n",
    "print(array_product)"
   ]
  },
  {
   "cell_type": "code",
   "execution_count": 11,
   "metadata": {},
   "outputs": [
    {
     "name": "stdout",
     "output_type": "stream",
     "text": [
      "[[1 4 7]\n",
      " [2 5 8]\n",
      " [3 6 9]]\n"
     ]
    }
   ],
   "source": [
    "transposed = array_2d.T\n",
    "print(transposed)"
   ]
  },
  {
   "cell_type": "code",
   "execution_count": 12,
   "metadata": {},
   "outputs": [
    {
     "name": "stdout",
     "output_type": "stream",
     "text": [
      "np.arange(10): [0 1 2 3 4 5 6 7 8 9]\n"
     ]
    }
   ],
   "source": [
    "array_arange = np.arange(10)\n",
    "print(\"np.arange(10):\", array_arange)"
   ]
  },
  {
   "cell_type": "code",
   "execution_count": 14,
   "metadata": {},
   "outputs": [
    {
     "name": "stdout",
     "output_type": "stream",
     "text": [
      "np.linspace(0, 1, 5):\n"
     ]
    }
   ],
   "source": [
    "array_linspace = np.linspace(0, 1, 5)\n",
    "print(\"np.linspace(0, 1, 5):\")"
   ]
  },
  {
   "cell_type": "code",
   "execution_count": 15,
   "metadata": {},
   "outputs": [
    {
     "name": "stdout",
     "output_type": "stream",
     "text": [
      "np.zeros(5): [0. 0. 0. 0. 0.]\n"
     ]
    }
   ],
   "source": [
    "array_zeros = np.zeros(5)\n",
    "print(\"np.zeros(5):\", array_zeros)"
   ]
  },
  {
   "cell_type": "code",
   "execution_count": 16,
   "metadata": {},
   "outputs": [
    {
     "name": "stdout",
     "output_type": "stream",
     "text": [
      "np.ones(5): [1. 1. 1. 1. 1.]\n"
     ]
    }
   ],
   "source": [
    "array_ones = np.ones(5)\n",
    "print(\"np.ones(5):\", array_ones)"
   ]
  },
  {
   "cell_type": "code",
   "execution_count": 17,
   "metadata": {},
   "outputs": [
    {
     "name": "stdout",
     "output_type": "stream",
     "text": [
      "np.eye(3).diagonal(): [1. 1. 1.]\n"
     ]
    }
   ],
   "source": [
    "array_eye = np.eye(3).diagonal()\n",
    "print(\"np.eye(3).diagonal():\", array_eye)"
   ]
  },
  {
   "cell_type": "code",
   "execution_count": 18,
   "metadata": {},
   "outputs": [
    {
     "name": "stdout",
     "output_type": "stream",
     "text": [
      "np.random.rand(5): [0.64847874 0.55038753 0.33342981 0.13127962 0.00346891]\n"
     ]
    }
   ],
   "source": [
    "array_random = np.random.rand(5)\n",
    "print(\"np.random.rand(5):\", array_random)"
   ]
  },
  {
   "cell_type": "code",
   "execution_count": 20,
   "metadata": {},
   "outputs": [
    {
     "name": "stdout",
     "output_type": "stream",
     "text": [
      "Mean: 3.0\n",
      "Median: 3.0\n",
      "Variance (Population): 2.0\n",
      "Variance (Sample): 2.5\n",
      "Standard Deviation (Population): 1.4142135623730951\n",
      "Standard Deviation (Sample): 1.5811388300841898\n"
     ]
    }
   ],
   "source": [
    "array_1d = np.array([1, 2, 3, 4, 5])\n",
    "mean_value = np.mean(array_1d)\n",
    "median_value = np.median(array_1d)\n",
    "variance_value = np.var(array_1d)  \n",
    "sample_variance_value = np.var(array_1d, ddof=1)\n",
    "std_dev_value = np.std(array_1d)  \n",
    "sample_std_dev_value = np.std(array_1d, ddof=1)\n",
    "\n",
    "print(\"Mean:\", mean_value)\n",
    "print(\"Median:\", median_value)\n",
    "print(\"Variance (Population):\", variance_value)\n",
    "print(\"Variance (Sample):\", sample_variance_value)\n",
    "print(\"Standard Deviation (Population):\", std_dev_value)\n",
    "print(\"Standard Deviation (Sample):\", sample_std_dev_value)"
   ]
  },
  {
   "cell_type": "code",
   "execution_count": 23,
   "metadata": {},
   "outputs": [
    {
     "name": "stdout",
     "output_type": "stream",
     "text": [
      "Adding scalar to 1D array: [11 12 13]\n",
      "Adding two 1D arrays: [11 22 33]\n",
      "Broadcasting a 2D array with a 1D array:\n",
      " [[11 21 31]\n",
      " [12 22 32]\n",
      " [13 23 33]]\n",
      "Adding a 1D array to a 2D array:\n",
      " [[11 22 33]\n",
      " [14 25 36]]\n"
     ]
    }
   ],
   "source": [
    "array_1d = np.array([1, 2, 3])\n",
    "scalar = 10\n",
    "result1 = array_1d + scalar\n",
    "print(\"Adding scalar to 1D array:\", result1)\n",
    "\n",
    "\n",
    "array_a = np.array([1, 2, 3])  \n",
    "array_b = np.array([10, 20, 30])  \n",
    "result2 = array_a + array_b\n",
    "print(\"Adding two 1D arrays:\", result2)\n",
    "\n",
    "\n",
    "array_a = np.array([[1], [2], [3]])  \n",
    "array_b = np.array([10, 20, 30])    \n",
    "result3 = array_a + array_b\n",
    "print(\"Broadcasting a 2D array with a 1D array:\\n\", result3)\n",
    "\n",
    "\n",
    "array_2d = np.array([[1, 2, 3], [4, 5, 6]])  \n",
    "array_1d = np.array([10, 20, 30])             \n",
    "result4 = array_2d + array_1d\n",
    "print(\"Adding a 1D array to a 2D array:\\n\", result4)"
   ]
  },
  {
   "cell_type": "code",
   "execution_count": 2,
   "metadata": {},
   "outputs": [
    {
     "name": "stdout",
     "output_type": "stream",
     "text": [
      "Result using np.dot():\n",
      "[[19 22]\n",
      " [43 50]]\n",
      "\n",
      "Result using @ operator:\n",
      "[[19 22]\n",
      " [43 50]]\n"
     ]
    }
   ],
   "source": [
    "A = np.array([[1, 2], \n",
    "              [3, 4]])\n",
    "\n",
    "B = np.array([[5, 6], \n",
    "              [7, 8]])\n",
    "\n",
    "result_dot = np.dot(A, B)\n",
    "\n",
    "\n",
    "result_at = A @ B\n",
    "\n",
    "print(\"Result using np.dot():\")\n",
    "print(result_dot)\n",
    "\n",
    "print(\"\\nResult using @ operator:\")\n",
    "print(result_at)"
   ]
  },
  {
   "cell_type": "code",
   "execution_count": 3,
   "metadata": {},
   "outputs": [
    {
     "name": "stdout",
     "output_type": "stream",
     "text": [
      "Original array:\n",
      "[ 10  20  30  40  50  60  70  80  90 100]\n",
      "\n",
      "Filtered array (values greater than 50):\n",
      "[ 60  70  80  90 100]\n"
     ]
    }
   ],
   "source": [
    "\n",
    "data = np.array([10, 20, 30, 40, 50, 60, 70, 80, 90, 100])\n",
    "\n",
    "\n",
    "condition = data > 50\n",
    "\n",
    "\n",
    "filtered_data = data[condition]\n",
    "\n",
    "print(\"Original array:\")\n",
    "print(data)\n",
    "\n",
    "print(\"\\nFiltered array (values greater than 50):\")\n",
    "print(filtered_data)"
   ]
  },
  {
   "cell_type": "code",
   "execution_count": 4,
   "metadata": {},
   "outputs": [
    {
     "name": "stdout",
     "output_type": "stream",
     "text": [
      "Uniform Distribution (0 to 1): [0.40046693 0.37140982 0.34037836 0.42219242 0.75289017]\n"
     ]
    }
   ],
   "source": [
    "uniform_random = np.random.uniform(0, 1, 5)\n",
    "print(\"Uniform Distribution (0 to 1):\", uniform_random)"
   ]
  },
  {
   "cell_type": "code",
   "execution_count": null,
   "metadata": {},
   "outputs": [],
   "source": []
  },
  {
   "cell_type": "code",
   "execution_count": null,
   "metadata": {},
   "outputs": [],
   "source": []
  },
  {
   "cell_type": "code",
   "execution_count": null,
   "metadata": {},
   "outputs": [],
   "source": []
  },
  {
   "cell_type": "code",
   "execution_count": null,
   "metadata": {},
   "outputs": [],
   "source": []
  },
  {
   "cell_type": "code",
   "execution_count": null,
   "metadata": {},
   "outputs": [],
   "source": []
  },
  {
   "cell_type": "code",
   "execution_count": null,
   "metadata": {},
   "outputs": [],
   "source": []
  },
  {
   "cell_type": "code",
   "execution_count": null,
   "metadata": {},
   "outputs": [],
   "source": []
  },
  {
   "cell_type": "code",
   "execution_count": null,
   "metadata": {},
   "outputs": [],
   "source": []
  }
 ],
 "metadata": {
  "kernelspec": {
   "display_name": "Python 3",
   "language": "python",
   "name": "python3"
  },
  "language_info": {
   "codemirror_mode": {
    "name": "ipython",
    "version": 3
   },
   "file_extension": ".py",
   "mimetype": "text/x-python",
   "name": "python",
   "nbconvert_exporter": "python",
   "pygments_lexer": "ipython3",
   "version": "3.12.5"
  }
 },
 "nbformat": 4,
 "nbformat_minor": 2
}
