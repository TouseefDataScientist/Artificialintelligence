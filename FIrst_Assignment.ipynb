{
 "cells": [
  {
   "cell_type": "markdown",
   "metadata": {},
   "source": [
    "## ***Assignment 1***\n",
    "By Muhammad Hassan Zahoor"
   ]
  },
  {
   "cell_type": "code",
   "execution_count": 2,
   "metadata": {},
   "outputs": [],
   "source": [
    "import numpy as np\n",
    "import pandas as pd\n",
    "import matplotlib.pyplot as plt\n"
   ]
  },
  {
   "cell_type": "code",
   "execution_count": 4,
   "metadata": {},
   "outputs": [
    {
     "name": "stdout",
     "output_type": "stream",
     "text": [
      "        price  area  bedrooms  bathrooms  stories mainroad guestroom basement  \\\n",
      "0    13300000  7420         4          2        3      yes        no       no   \n",
      "1    12250000  8960         4          4        4      yes        no       no   \n",
      "2    12250000  9960         3          2        2      yes        no      yes   \n",
      "3    12215000  7500         4          2        2      yes        no      yes   \n",
      "4    11410000  7420         4          1        2      yes       yes      yes   \n",
      "..        ...   ...       ...        ...      ...      ...       ...      ...   \n",
      "540   1820000  3000         2          1        1      yes        no      yes   \n",
      "541   1767150  2400         3          1        1       no        no       no   \n",
      "542   1750000  3620         2          1        1      yes        no       no   \n",
      "543   1750000  2910         3          1        1       no        no       no   \n",
      "544   1750000  3850         3          1        2      yes        no       no   \n",
      "\n",
      "    hotwaterheating airconditioning  parking prefarea furnishingstatus  \n",
      "0                no             yes        2      yes        furnished  \n",
      "1                no             yes        3       no        furnished  \n",
      "2                no              no        2      yes   semi-furnished  \n",
      "3                no             yes        3      yes        furnished  \n",
      "4                no             yes        2       no        furnished  \n",
      "..              ...             ...      ...      ...              ...  \n",
      "540              no              no        2       no      unfurnished  \n",
      "541              no              no        0       no   semi-furnished  \n",
      "542              no              no        0       no      unfurnished  \n",
      "543              no              no        0       no        furnished  \n",
      "544              no              no        0       no      unfurnished  \n",
      "\n",
      "[545 rows x 13 columns]\n"
     ]
    }
   ],
   "source": [
    "Data_set = pd.read_csv(\"Housing.csv\")\n",
    "print(Data_set)"
   ]
  },
  {
   "cell_type": "code",
   "execution_count": 5,
   "metadata": {},
   "outputs": [
    {
     "data": {
      "text/plain": [
       "np.float64(4340000.0)"
      ]
     },
     "execution_count": 5,
     "metadata": {},
     "output_type": "execute_result"
    }
   ],
   "source": [
    "median =Data_set['price'].median()\n",
    "median"
   ]
  },
  {
   "cell_type": "code",
   "execution_count": 8,
   "metadata": {},
   "outputs": [
    {
     "name": "stdout",
     "output_type": "stream",
     "text": [
      "        price  area  bedrooms  bathrooms  stories mainroad guestroom basement  \\\n",
      "0    13300000  7420         4          2        3      yes        no       no   \n",
      "1    12250000  8960         4          4        4      yes        no       no   \n",
      "2    12250000  9960         3          2        2      yes        no      yes   \n",
      "3    12215000  7500         4          2        2      yes        no      yes   \n",
      "4    11410000  7420         4          1        2      yes       yes      yes   \n",
      "..        ...   ...       ...        ...      ...      ...       ...      ...   \n",
      "265   4403000  2880         3          1        2      yes        no       no   \n",
      "266   4403000  4880         3          1        1      yes        no       no   \n",
      "267   4403000  4920         3          1        2      yes        no       no   \n",
      "268   4382000  4950         4          1        2      yes        no       no   \n",
      "269   4375000  3900         3          1        2      yes        no       no   \n",
      "\n",
      "    hotwaterheating airconditioning  parking prefarea furnishingstatus  \n",
      "0                no             yes        2      yes        furnished  \n",
      "1                no             yes        3       no        furnished  \n",
      "2                no              no        2      yes   semi-furnished  \n",
      "3                no             yes        3      yes        furnished  \n",
      "4                no             yes        2       no        furnished  \n",
      "..              ...             ...      ...      ...              ...  \n",
      "265              no              no        0      yes   semi-furnished  \n",
      "266              no              no        2      yes      unfurnished  \n",
      "267              no              no        1       no   semi-furnished  \n",
      "268              no             yes        0       no   semi-furnished  \n",
      "269              no              no        0       no      unfurnished  \n",
      "\n",
      "[243 rows x 13 columns]\n"
     ]
    }
   ],
   "source": [
    "filtered_houses = Data_set[(Data_set['price'] > median) & \n",
    "                           (Data_set['bedrooms'] > 2) & \n",
    "                           (Data_set['area'] > 2000)]\n",
    "\n",
    "print(filtered_houses)"
   ]
  },
  {
   "cell_type": "code",
   "execution_count": 9,
   "metadata": {},
   "outputs": [
    {
     "name": "stdout",
     "output_type": "stream",
     "text": [
      "          average_price  median_area\n",
      "bedrooms                            \n",
      "1          2.712500e+06       3710.0\n",
      "2          3.632022e+06       4036.0\n",
      "3          4.954598e+06       4830.0\n",
      "4          5.729758e+06       5400.0\n",
      "5          5.819800e+06       5350.0\n",
      "6          4.791500e+06       3950.0\n"
     ]
    }
   ],
   "source": [
    "\n",
    "result = Data_set.groupby('bedrooms').agg(average_price=('price', 'mean'),\n",
    "                                          median_area=('area', 'median'))\n",
    "\n",
    "print(result)\n"
   ]
  },
  {
   "cell_type": "code",
   "execution_count": 19,
   "metadata": {},
   "outputs": [
    {
     "name": "stdout",
     "output_type": "stream",
     "text": [
      "27\n"
     ]
    }
   ],
   "source": [
    "sorted = Data_set.sort_values(by='price',ascending=False).reset_index(drop=True)\n",
    "top_5_percent_count = int(0.05 * len(sorted))\n",
    "print(top_5_percent_count)\n"
   ]
  },
  {
   "cell_type": "code",
   "execution_count": 25,
   "metadata": {},
   "outputs": [
    {
     "name": "stdout",
     "output_type": "stream",
     "text": [
      "             price      area  bedrooms\n",
      "price     1.000000  0.535997  0.366494\n",
      "area      0.535997  1.000000  0.151858\n",
      "bedrooms  0.366494  0.151858  1.000000\n"
     ]
    }
   ],
   "source": [
    "selected_columns = Data_set[['price', 'area', 'bedrooms']]\n",
    "\n",
    "correlation_matrix = selected_columns.corr()\n",
    "\n",
    "print(correlation_matrix)"
   ]
  },
  {
   "cell_type": "code",
   "execution_count": 26,
   "metadata": {},
   "outputs": [
    {
     "name": "stdout",
     "output_type": "stream",
     "text": [
      "              price          area    bedrooms     parking\n",
      "count  5.450000e+02    545.000000  545.000000  545.000000\n",
      "mean   4.766729e+06   5150.541284    2.965138    0.693578\n",
      "std    1.870440e+06   2170.141023    0.738064    0.861586\n",
      "min    1.750000e+06   1650.000000    1.000000    0.000000\n",
      "25%    3.430000e+06   3600.000000    2.000000    0.000000\n",
      "50%    4.340000e+06   4600.000000    3.000000    0.000000\n",
      "75%    5.740000e+06   6360.000000    3.000000    1.000000\n",
      "max    1.330000e+07  16200.000000    6.000000    3.000000\n"
     ]
    }
   ],
   "source": [
    "selected = Data_set[['price', 'area', 'bedrooms','parking']]\n",
    "func = selected.describe()\n",
    "print(func)"
   ]
  },
  {
   "cell_type": "code",
   "execution_count": 29,
   "metadata": {},
   "outputs": [
    {
     "name": "stdout",
     "output_type": "stream",
     "text": [
      "        price  area  price_per_sqft price_category\n",
      "0    13300000  7420     1792.452830           High\n",
      "1    12250000  8960     1367.187500           High\n",
      "2    12250000  9960     1229.919679           High\n",
      "3    12215000  7500     1628.666667           High\n",
      "4    11410000  7420     1537.735849           High\n",
      "..        ...   ...             ...            ...\n",
      "540   1820000  3000      606.666667            Low\n",
      "541   1767150  2400      736.312500            Low\n",
      "542   1750000  3620      483.425414            Low\n",
      "543   1750000  2910      601.374570            Low\n",
      "544   1750000  3850      454.545455            Low\n",
      "\n",
      "[545 rows x 4 columns]\n"
     ]
    }
   ],
   "source": [
    "\n",
    "\n",
    "\n",
    "Data_set['price_per_sqft'] = Data_set['price'] / Data_set['area']\n",
    "\n",
    "\n",
    "bins = [0, Data_set['price_per_sqft'].quantile(0.33), Data_set['price_per_sqft'].quantile(0.67), Data_set['price_per_sqft'].max()]\n",
    "labels = ['Low', 'Medium', 'High']\n",
    "Data_set['price_category'] = pd.cut(Data_set['price_per_sqft'], bins=bins, labels=labels, include_lowest=True)\n",
    "\n",
    "print(Data_set[['price', 'area', 'price_per_sqft', 'price_category']])\n"
   ]
  },
  {
   "cell_type": "code",
   "execution_count": 31,
   "metadata": {},
   "outputs": [
    {
     "name": "stderr",
     "output_type": "stream",
     "text": [
      "C:\\Users\\MSS\\AppData\\Local\\Temp\\ipykernel_1240\\3719548074.py:1: FutureWarning: A value is trying to be set on a copy of a DataFrame or Series through chained assignment using an inplace method.\n",
      "The behavior will change in pandas 3.0. This inplace method will never work because the intermediate object on which we are setting values always behaves as a copy.\n",
      "\n",
      "For example, when doing 'df[col].method(value, inplace=True)', try using 'df.method({col: value}, inplace=True)' or df[col] = df[col].method(value) instead, to perform the operation inplace on the original object.\n",
      "\n",
      "\n",
      "  Data_set['price'].fillna(Data_set['price'].mean(), inplace=True)\n"
     ]
    }
   ],
   "source": [
    "Data_set['price'].fillna(Data_set['price'].mean(), inplace=True)"
   ]
  },
  {
   "cell_type": "markdown",
   "metadata": {},
   "source": [
    "## ***Question Number 2***"
   ]
  },
  {
   "cell_type": "code",
   "execution_count": 33,
   "metadata": {},
   "outputs": [
    {
     "name": "stdout",
     "output_type": "stream",
     "text": [
      "    Student_ID  Math_Grade  Science_Grade  English_Grade  Attendance  \\\n",
      "0            1          88             74             86   96.612593   \n",
      "1            2          78             56             82   93.396266   \n",
      "2            3          64             58            100   89.260949   \n",
      "3            4          92             73             91   72.524199   \n",
      "4            5          57             50             93   74.848861   \n",
      "..         ...         ...            ...            ...         ...   \n",
      "95          96          90             88             68   80.805719   \n",
      "96          97          78             55             97   73.811815   \n",
      "97          98          64             57             65   85.667298   \n",
      "98          99          94             76             52   93.099807   \n",
      "99         100          50             58             69   76.474631   \n",
      "\n",
      "   Extracurricular_Activity  Average_Grade  \n",
      "0                    Sports      82.666667  \n",
      "1                       Art      72.000000  \n",
      "2                      None      74.000000  \n",
      "3                     Music      85.333333  \n",
      "4                    Sports      66.666667  \n",
      "..                      ...            ...  \n",
      "95                    Music      82.000000  \n",
      "96                   Sports      76.666667  \n",
      "97                     None      62.000000  \n",
      "98                    Music      74.000000  \n",
      "99                     None      59.000000  \n",
      "\n",
      "[100 rows x 7 columns]\n"
     ]
    }
   ],
   "source": [
    "# Generate synthetic data\n",
    "np.random.seed(42)\n",
    "num_students = 100\n",
    "\n",
    "data = {\n",
    "    'Student_ID': range(1, num_students + 1),\n",
    "    'Math_Grade': np.random.randint(50, 101, num_students),\n",
    "    'Science_Grade': np.random.randint(50, 101, num_students),\n",
    "    'English_Grade': np.random.randint(50, 101, num_students),\n",
    "    'Attendance': np.random.uniform(70, 100, num_students),\n",
    "    'Extracurricular_Activity': np.random.choice(['Sports', 'Music', 'Art', 'None'], num_students)\n",
    "}\n",
    "\n",
    "students_df = pd.DataFrame(data)\n",
    "students_df['Average_Grade'] = students_df[['Math_Grade', 'Science_Grade', 'English_Grade']].mean(axis=1)\n",
    "\n",
    "print(students_df)"
   ]
  },
  {
   "cell_type": "code",
   "execution_count": 40,
   "metadata": {},
   "outputs": [
    {
     "name": "stdout",
     "output_type": "stream",
     "text": [
      "    Student_ID  Math_Grade  Science_Grade  English_Grade  Attendance  \\\n",
      "19          20          93             77             98   92.394742   \n",
      "32          33          77             89             93   93.844339   \n",
      "74          75          93             77             99   96.012170   \n",
      "\n",
      "   Extracurricular_Activity  Average_Grade Pass_Fail  \n",
      "19                      Art      89.333333      Pass  \n",
      "32                      Art      86.333333      Pass  \n",
      "74                   Sports      89.666667      Pass  \n",
      "    Student_ID  Math_Grade  Science_Grade  English_Grade  Attendance  \\\n",
      "1            2          78             56             82   93.396266   \n",
      "4            5          57             50             93   74.848861   \n",
      "15          16          52             54             51   76.728079   \n",
      "17          18          51             88             98   77.117473   \n",
      "20          21          79             56             66   89.488987   \n",
      "22          23          51             57             51   89.728387   \n",
      "23          24          70             61             51   87.049258   \n",
      "29          30          98             86             50   81.792932   \n",
      "31          32          91             93             51   88.934159   \n",
      "36          37         100             50             81   75.857290   \n",
      "37          38          93             84             53   91.673563   \n",
      "38          39          52             86             60   78.423171   \n",
      "41          42          56             52             73   75.313320   \n",
      "42          43          70             50             54   98.213758   \n",
      "44          45          88             75             55   97.445932   \n",
      "50          51          58             64             58   98.908599   \n",
      "51          52          75             75             55   95.590284   \n",
      "54          55          77            100             52   95.534100   \n",
      "56          57          56             88             85   75.084782   \n",
      "58          59          57             81             75   98.084643   \n",
      "59          60          96             53             52   90.880894   \n",
      "63          64          85             88             56   99.701616   \n",
      "66          67          53             92             89   96.321192   \n",
      "67          68          51             78             88   92.223059   \n",
      "68          69          55             85             67   90.910472   \n",
      "70          71          53             81             50   80.784735   \n",
      "75          76          83             51             72   97.397217   \n",
      "76          77          59             91             80   85.340272   \n",
      "82          83          57             93             75   96.700160   \n",
      "85          86          89             60             51   72.819458   \n",
      "86          87          70             77             50   87.348404   \n",
      "89          90          67             82             54   86.279339   \n",
      "90          91          96             50             86   78.596238   \n",
      "92          93          75             62             58   70.915007   \n",
      "94          95          94             52             84   94.678017   \n",
      "96          97          78             55             97   73.811815   \n",
      "98          99          94             76             52   93.099807   \n",
      "\n",
      "   Extracurricular_Activity  Average_Grade Pass_Fail  \n",
      "1                       Art      72.000000      Pass  \n",
      "4                    Sports      66.666667      Pass  \n",
      "15                    Music      52.333333      Fail  \n",
      "17                    Music      79.000000      Pass  \n",
      "20                   Sports      67.000000      Pass  \n",
      "22                      Art      53.000000      Fail  \n",
      "23                      Art      60.666667      Pass  \n",
      "29                    Music      78.000000      Pass  \n",
      "31                    Music      78.333333      Pass  \n",
      "36                   Sports      77.000000      Pass  \n",
      "37                   Sports      76.666667      Pass  \n",
      "38                    Music      66.000000      Pass  \n",
      "41                      Art      60.333333      Pass  \n",
      "42                    Music      58.000000      Fail  \n",
      "44                    Music      72.666667      Pass  \n",
      "50                   Sports      60.000000      Pass  \n",
      "51                   Sports      68.333333      Pass  \n",
      "54                      Art      76.333333      Pass  \n",
      "56                      Art      76.333333      Pass  \n",
      "58                    Music      71.000000      Pass  \n",
      "59                   Sports      67.000000      Pass  \n",
      "63                    Music      76.333333      Pass  \n",
      "66                   Sports      78.000000      Pass  \n",
      "67                    Music      72.333333      Pass  \n",
      "68                   Sports      69.000000      Pass  \n",
      "70                    Music      61.333333      Pass  \n",
      "75                    Music      68.666667      Pass  \n",
      "76                    Music      76.666667      Pass  \n",
      "82                    Music      75.000000      Pass  \n",
      "85                   Sports      66.666667      Pass  \n",
      "86                      Art      65.666667      Pass  \n",
      "89                    Music      67.666667      Pass  \n",
      "90                    Music      77.333333      Pass  \n",
      "92                      Art      65.000000      Pass  \n",
      "94                    Music      76.666667      Pass  \n",
      "96                   Sports      76.666667      Pass  \n",
      "98                    Music      74.000000      Pass  \n"
     ]
    }
   ],
   "source": [
    "\n",
    "filtered_students = students_df[(students_df['Average_Grade'] > 85) & (students_df['Attendance'] >= 90)]\n",
    "\n",
    "failing_students = students_df[(students_df[['Math_Grade', 'Science_Grade', 'English_Grade']] < 60).any(axis=1) & (students_df['Extracurricular_Activity'] != 'None')]\n",
    "\n",
    "print(filtered_students)\n",
    "\n",
    "print(failing_students)\n"
   ]
  },
  {
   "cell_type": "code",
   "execution_count": 36,
   "metadata": {},
   "outputs": [
    {
     "name": "stdout",
     "output_type": "stream",
     "text": [
      "Extracurricular_Activity       Sports\n",
      "Average_Grade               76.135802\n",
      "Total_Attendance            2417.5714\n",
      "Name: 3, dtype: object\n"
     ]
    }
   ],
   "source": [
    "# Group by extracurricular activity to get average grades\n",
    "grouped_activity = students_df.groupby('Extracurricular_Activity').agg(\n",
    "    Average_Grade=('Average_Grade', 'mean'),\n",
    "    Total_Attendance=('Attendance', 'sum')\n",
    ").reset_index()\n",
    "\n",
    "# Find the activity with the highest average grade\n",
    "highest_avg_activity = grouped_activity.loc[grouped_activity['Average_Grade'].idxmax()]\n",
    "\n",
    "print(highest_avg_activity)\n"
   ]
  },
  {
   "cell_type": "code",
   "execution_count": 42,
   "metadata": {},
   "outputs": [
    {
     "name": "stdout",
     "output_type": "stream",
     "text": [
      "  Parent_Income_Level  Average_Grade\n",
      "0                High      73.022222\n",
      "1                 Low      73.756098\n",
      "2              Medium      77.091954\n"
     ]
    }
   ],
   "source": [
    "\n",
    "income_data = {\n",
    "    'Student_ID': range(1, num_students + 1),\n",
    "    'Parent_Income_Level': np.random.choice(['Low', 'Medium', 'High'], num_students)\n",
    "}\n",
    "income_df = pd.DataFrame(income_data)\n",
    "merged_df = pd.merge(students_df, income_df, on='Student_ID')\n",
    "\n",
    "\n",
    "income_analysis = merged_df.groupby('Parent_Income_Level')['Average_Grade'].mean().reset_index()\n",
    "print(income_analysis)\n",
    "\n"
   ]
  },
  {
   "cell_type": "code",
   "execution_count": 37,
   "metadata": {},
   "outputs": [
    {
     "name": "stdout",
     "output_type": "stream",
     "text": [
      "Pass_Fail\n",
      "Pass    96\n",
      "Fail     4\n",
      "Name: count, dtype: int64\n"
     ]
    }
   ],
   "source": [
    "# Create a pass/fail column\n",
    "students_df['Pass_Fail'] = students_df['Average_Grade'].apply(lambda x: 'Pass' if x >= 60 else 'Fail')\n",
    "\n",
    "# Count passes and fails\n",
    "pass_fail_counts = students_df['Pass_Fail'].value_counts()\n",
    "print(pass_fail_counts)"
   ]
  },
  {
   "cell_type": "code",
   "execution_count": 43,
   "metadata": {},
   "outputs": [
    {
     "name": "stdout",
     "output_type": "stream",
     "text": [
      "Correlation in Q4: -0.13\n",
      "Correlation in Q2: 0.12\n",
      "Correlation in Q1: 0.00\n",
      "Correlation in Q3: -0.11\n"
     ]
    },
    {
     "name": "stderr",
     "output_type": "stream",
     "text": [
      "C:\\Users\\MSS\\AppData\\Local\\Temp\\ipykernel_1240\\4288005175.py:3: FutureWarning: The default of observed=False is deprecated and will be changed to True in a future version of pandas. Pass observed=False to retain current behavior or observed=True to adopt the future default and silence this warning.\n",
      "  quartile_analysis = merged_df.groupby('Grade_Quartile').agg(\n"
     ]
    }
   ],
   "source": [
    "\n",
    "merged_df['Grade_Quartile'] = pd.qcut(merged_df['Average_Grade'], 4, labels=['Q1', 'Q2', 'Q3', 'Q4'])\n",
    "\n",
    "quartile_analysis = merged_df.groupby('Grade_Quartile').agg(\n",
    "    Average_Attendance=('Attendance', 'mean'),\n",
    "    Average_Grade=('Average_Grade', 'mean')\n",
    ").reset_index()\n",
    "\n",
    "for quartile in merged_df['Grade_Quartile'].unique():\n",
    "    subset = merged_df[merged_df['Grade_Quartile'] == quartile]\n",
    "    correlation = subset[['Average_Grade', 'Attendance']].corr().iloc[0, 1]\n",
    "    print(f\"Correlation in {quartile}: {correlation:.2f}\")\n"
   ]
  },
  {
   "cell_type": "markdown",
   "metadata": {},
   "source": [
    "## ***Question 4***"
   ]
  },
  {
   "cell_type": "code",
   "execution_count": 44,
   "metadata": {},
   "outputs": [
    {
     "name": "stdout",
     "output_type": "stream",
     "text": [
      "{'Evidence_ID': range(1, 6), 'Description': ['Fingerprint', 'Murder Weapon', 'Witness Testimony', 'DNA Sample', 'Surveillance Video'], 'Suspect_ID': [1, 2, 2, 5, 3]}\n"
     ]
    }
   ],
   "source": [
    "import pandas as pd\n",
    "\n",
    "\n",
    "suspects_data = {\n",
    "    'Suspect_ID': range(1, 11),\n",
    "    'Name': ['Alice', 'Bob', 'Charlie', 'David', 'Eve', 'Frank', 'Grace', 'Hannah', 'Ian', 'Jack'],\n",
    "    'Suspicion_Level': [1, 4, 2, 5, 3, 6, 4, 2, 1, 3]\n",
    "}\n",
    "\n",
    "suspects_df = pd.DataFrame(suspects_data)\n",
    "\n",
    "evidence_data = {\n",
    "    'Evidence_ID': range(1, 6),\n",
    "    'Description': ['Fingerprint', 'Murder Weapon', 'Witness Testimony', 'DNA Sample', 'Surveillance Video'],\n",
    "    'Suspect_ID': [1, 2, 2, 5, 3]  \n",
    "}\n",
    "\n",
    "evidence_df = pd.DataFrame(evidence_data)\n",
    "print(evidence_data)"
   ]
  },
  {
   "cell_type": "code",
   "execution_count": 45,
   "metadata": {},
   "outputs": [
    {
     "name": "stdout",
     "output_type": "stream",
     "text": [
      "\n",
      "Suspects with a suspicion level above 3:\n",
      "   Suspect_ID   Name  Suspicion_Level\n",
      "1           2    Bob                4\n",
      "3           4  David                5\n",
      "5           6  Frank                6\n",
      "6           7  Grace                4\n",
      "\n",
      "Merged Suspects and Evidence DataFrame:\n",
      "    Suspect_ID     Name  Suspicion_Level  Evidence_ID         Description\n",
      "0            1    Alice                1          1.0         Fingerprint\n",
      "1            2      Bob                4          2.0       Murder Weapon\n",
      "2            2      Bob                4          3.0   Witness Testimony\n",
      "3            3  Charlie                2          5.0  Surveillance Video\n",
      "4            4    David                5          NaN                 NaN\n",
      "5            5      Eve                3          4.0          DNA Sample\n",
      "6            6    Frank                6          NaN                 NaN\n",
      "7            7    Grace                4          NaN                 NaN\n",
      "8            8   Hannah                2          NaN                 NaN\n",
      "9            9      Ian                1          NaN                 NaN\n",
      "10          10     Jack                3          NaN                 NaN\n"
     ]
    }
   ],
   "source": [
    "# Identify suspects with a suspicion level above 3\n",
    "high_suspects = suspects_df[suspects_df['Suspicion_Level'] > 3]\n",
    "\n",
    "print(\"\\nSuspects with a suspicion level above 3:\")\n",
    "print(high_suspects)\n",
    "# Merge suspects and evidence DataFrames\n",
    "merged_df = pd.merge(suspects_df, evidence_df, on='Suspect_ID', how='left')\n",
    "\n",
    "print(\"\\nMerged Suspects and Evidence DataFrame:\")\n",
    "print(merged_df)\n",
    "\n"
   ]
  },
  {
   "cell_type": "code",
   "execution_count": 46,
   "metadata": {},
   "outputs": [
    {
     "name": "stdout",
     "output_type": "stream",
     "text": [
      "\n",
      "Count of Suspects by Suspicion Level:\n",
      "   Suspicion_Level  Count\n",
      "0                1      2\n",
      "1                2      2\n",
      "2                3      2\n",
      "3                4      2\n",
      "4                5      1\n",
      "5                6      1\n"
     ]
    }
   ],
   "source": [
    "\n",
    "suspicion_group_count = suspects_df.groupby('Suspicion_Level').size().reset_index(name='Count')\n",
    "\n",
    "print(\"\\nCount of Suspects by Suspicion Level:\")\n",
    "print(suspicion_group_count)\n"
   ]
  },
  {
   "cell_type": "code",
   "execution_count": null,
   "metadata": {},
   "outputs": [],
   "source": [
    "\n",
    "average_suspicion = suspects_df['Suspicion_Level'].mean()\n",
    "\n",
    "print(\"\\nAverage Suspicion Level among Suspects:\")\n",
    "print(average_suspicion)\n"
   ]
  }
 ],
 "metadata": {
  "kernelspec": {
   "display_name": "Python 3",
   "language": "python",
   "name": "python3"
  },
  "language_info": {
   "codemirror_mode": {
    "name": "ipython",
    "version": 3
   },
   "file_extension": ".py",
   "mimetype": "text/x-python",
   "name": "python",
   "nbconvert_exporter": "python",
   "pygments_lexer": "ipython3",
   "version": "3.12.7"
  }
 },
 "nbformat": 4,
 "nbformat_minor": 2
}
