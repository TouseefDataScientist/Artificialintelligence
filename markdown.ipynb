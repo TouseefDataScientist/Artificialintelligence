{
 "cells": [
  {
   "cell_type": "markdown",
   "metadata": {},
   "source": [
    "# Markdown Tutorials"
   ]
  },
  {
   "cell_type": "markdown",
   "metadata": {},
   "source": [
    "### following is the code for the headings"
   ]
  },
  {
   "cell_type": "markdown",
   "metadata": {},
   "source": [
    "I really like using markdown"
   ]
  },
  {
   "cell_type": "markdown",
   "metadata": {},
   "source": [
    "Now using the break command \n",
    "this is the first line <br> and this is the second line"
   ]
  },
  {
   "cell_type": "markdown",
   "metadata": {},
   "source": [
    "This is the first line <br> And this is the secnd line"
   ]
  },
  {
   "cell_type": "markdown",
   "metadata": {},
   "source": [
    "Following is the code to make bold a text\n",
    "I Love **Pakistan**"
   ]
  },
  {
   "cell_type": "markdown",
   "metadata": {},
   "source": [
    "I Love **Pakistan**"
   ]
  },
  {
   "cell_type": "markdown",
   "metadata": {},
   "source": [
    "In markdown single * is used to make the text itallic i.e\n",
    "I like *mango*"
   ]
  },
  {
   "cell_type": "markdown",
   "metadata": {},
   "source": [
    "I like *mango*"
   ]
  },
  {
   "cell_type": "markdown",
   "metadata": {},
   "source": [
    "To emphasize text with bold and italics at the same time, add three asterisks or underscores before and after a word or phrase.i.e\n",
    "This text is ***really important*** <br> **OR** <br> This text is ___really important___"
   ]
  },
  {
   "cell_type": "markdown",
   "metadata": {},
   "source": [
    "This text is ***really important*** <br> **OR**<br> This text is ___really important___"
   ]
  },
  {
   "cell_type": "markdown",
   "metadata": {},
   "source": [
    "Ordered Lists\n",
    "To create an ordered list, add line items with numbers followed by periods. The numbers don’t have to be in numerical order, but the list should start with the number one."
   ]
  },
  {
   "cell_type": "markdown",
   "metadata": {},
   "source": [
    "## Ordered Lists\n",
    "To create an ordered list, add line items with numbers followed by periods. The numbers don’t have to be in numerical order, but the list should start with the number one."
   ]
  },
  {
   "cell_type": "markdown",
   "metadata": {},
   "source": [
    "## Blockquotes with Other Elements\n",
    "Blockquotes can contain other Markdown formatted elements. Not all elements can be used — you’ll need to experiment to see which ones work."
   ]
  },
  {
   "cell_type": "markdown",
   "metadata": {},
   "source": [
    "> #### The quarterly results look great!\n",
    ">\n",
    "> - Revenue was off the chart.\n",
    "> - Profits were higher than ever.\n",
    ">\n",
    ">  *Everything* is going according to **plan**."
   ]
  },
  {
   "cell_type": "markdown",
   "metadata": {},
   "source": [
    "## Code Blocks\n",
    "To create code blocks, indent every line of the block by at least four spaces or one tab.\n",
    "\n",
    "    <html>\n",
    "      <head>\n",
    "      </head>\n",
    "    </html>"
   ]
  },
  {
   "cell_type": "markdown",
   "metadata": {},
   "source": [
    "## Links\n",
    "To create a link, enclose the link text in brackets (e.g., [Duck Duck Go]) and then follow it immediately with the URL in parentheses (e.g., (https://duckduckgo.com))."
   ]
  }
 ],
 "metadata": {
  "language_info": {
   "name": "python"
  }
 },
 "nbformat": 4,
 "nbformat_minor": 2
}
