{
 "cells": [
  {
   "cell_type": "markdown",
   "metadata": {},
   "source": [
    "# Heading 1"
   ]
  },
  {
   "cell_type": "markdown",
   "metadata": {},
   "source": [
    "## Heading 2"
   ]
  },
  {
   "cell_type": "markdown",
   "metadata": {},
   "source": [
    "### Heading 3"
   ]
  },
  {
   "cell_type": "markdown",
   "metadata": {},
   "source": [
    "#### Heading 4"
   ]
  },
  {
   "cell_type": "markdown",
   "metadata": {},
   "source": [
    "###### Heading 5"
   ]
  },
  {
   "cell_type": "markdown",
   "metadata": {},
   "source": [
    "###### Heading 6"
   ]
  },
  {
   "cell_type": "markdown",
   "metadata": {},
   "source": [
    "I really like using Markdown.\n",
    "\n",
    "I think I'll use it to format all of my documents from now on."
   ]
  },
  {
   "cell_type": "markdown",
   "metadata": {},
   "source": [
    "**Anything**Bold Text "
   ]
  },
  {
   "cell_type": "markdown",
   "metadata": {},
   "source": [
    "*Anything* Italic Text"
   ]
  },
  {
   "cell_type": "markdown",
   "metadata": {},
   "source": [
    "> Dorothy followed her through many of the beautiful rooms in her castle."
   ]
  },
  {
   "cell_type": "markdown",
   "metadata": {},
   "source": [
    "> The Witch bade her clean the pots and kettles and sweep the floor and keep the fire fed with wood.The Witch bade her >clean the pots and kettles and sweep the floor and keep the fire fed with wood."
   ]
  },
  {
   "cell_type": "markdown",
   "metadata": {},
   "source": [
    ">The Witch bade her clean the pots and kettles and sweep the floor and keep the fire fed with wood.\n",
    ">\n",
    ">The Witch bade her clean the pots and kettles and sweep the floor and keep the fire fed with wood."
   ]
  },
  {
   "cell_type": "markdown",
   "metadata": {},
   "source": [
    ">Dorothy followed her through many of the beautiful rooms in her castle.\n",
    ">> Dorothy followed her through many of the beautiful rooms in her castle."
   ]
  },
  {
   "cell_type": "markdown",
   "metadata": {},
   "source": [
    ">Dorothy followed her through many of the beautiful rooms in her castle.\n",
    ">\n",
    ">>Dorothy followed her through many of the beautiful rooms in her castle."
   ]
  },
  {
   "cell_type": "markdown",
   "metadata": {},
   "source": [
    "![alt text](https://images.search.yahoo.com/search/images;_ylt=Awr91Foz4eJmEDQBmZBXNyoA;_ylu=Y29sbwNncTEEcG9zAzEEdnRpZAMEc2VjA3BpdnM-?p=bird+image&fr2=piv-web&type=E210US91215G0&fr=mcafee#id=0&iurl=https%3A%2F%2Fimages.pexels.com%2Fphotos%2F326900%2Fpexels-photo-326900.jpeg%3Fcs%3Dsrgb%26dl%3Dwood-flight-bird-326900.jpg%26fm%3Djpg&action=click)"
   ]
  },
  {
   "cell_type": "markdown",
   "metadata": {},
   "source": [
    "![alt text](https://c.stocksy.com/a/xf0900/z9/2147553.jpg)"
   ]
  },
  {
   "cell_type": "markdown",
   "metadata": {},
   "source": [
    "![alt Girl](https://c.stocksy.com/a/xf0900/z9/2147553.jpg)"
   ]
  },
  {
   "cell_type": "markdown",
   "metadata": {},
   "source": []
  }
 ],
 "metadata": {
  "language_info": {
   "name": "python"
  }
 },
 "nbformat": 4,
 "nbformat_minor": 2
}
