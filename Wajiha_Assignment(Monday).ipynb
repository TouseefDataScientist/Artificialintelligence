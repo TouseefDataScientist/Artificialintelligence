{
 "cells": [
  {
   "cell_type": "markdown",
   "metadata": {},
   "source": [
    "<div style=\"text-align: center; font-size: 30px;\">\n",
    "<strong>Name: Wajiha</strong><br>\n",
    "<strong>E-mail: wajihachangez@gmail.com</strong>\n",
    "</div>"
   ]
  },
  {
   "cell_type": "markdown",
   "metadata": {},
   "source": [
    "### ***Assignment Questions:-***\n",
    "##### Problem 1: “Advanced Pandas Data Manipulation with Kaggle Housing Dataset” \n",
    "a. Load the Kaggle housing dataset. <br>\n",
    "b. Filter houses priced above the median and those with more than 2 bedrooms and 2000 sqft living area. <br>\n",
    "c. Group by bedrooms and calculate the average price and median living area. <br>\n",
    "d. Sort by price and rank the top 5% most expensive houses. <br>\n",
    "e. Calculate correlations between price, living area, and bedrooms. <br>\n",
    "f. Generate descriptive statistics for price, bedrooms, living area, and lot size. <br>\n",
    "g. Create a price_per_sqft column and classify houses as \"Low,\" \"Medium,\" or \"High.\" <br>\n",
    "h. Handle missing values in bathrooms and lot size, filling missing prices with the mean.<br>"
   ]
  },
  {
   "cell_type": "code",
   "execution_count": 1,
   "metadata": {},
   "outputs": [
    {
     "name": "stdout",
     "output_type": "stream",
     "text": [
      "Housing Dataset:\n",
      "         price  sqft_living  bedrooms  bathrooms  stories mainroad guestroom  \\\n",
      "0    13300000         7420         4          2        3      yes        no   \n",
      "1    12250000         8960         4          4        4      yes        no   \n",
      "2    12250000         9960         3          2        2      yes        no   \n",
      "3    12215000         7500         4          2        2      yes        no   \n",
      "4    11410000         7420         4          1        2      yes       yes   \n",
      "..        ...          ...       ...        ...      ...      ...       ...   \n",
      "540   1820000         3000         2          1        1      yes        no   \n",
      "541   1767150         2400         3          1        1       no        no   \n",
      "542   1750000         3620         2          1        1      yes        no   \n",
      "543   1750000         2910         3          1        1       no        no   \n",
      "544   1750000         3850         3          1        2      yes        no   \n",
      "\n",
      "    basement hotwaterheating airconditioning  lot_size prefarea  \\\n",
      "0         no              no             yes         2      yes   \n",
      "1         no              no             yes         3       no   \n",
      "2        yes              no              no         2      yes   \n",
      "3        yes              no             yes         3      yes   \n",
      "4        yes              no             yes         2       no   \n",
      "..       ...             ...             ...       ...      ...   \n",
      "540      yes              no              no         2       no   \n",
      "541       no              no              no         0       no   \n",
      "542       no              no              no         0       no   \n",
      "543       no              no              no         0       no   \n",
      "544       no              no              no         0       no   \n",
      "\n",
      "    furnishingstatus  \n",
      "0          furnished  \n",
      "1          furnished  \n",
      "2     semi-furnished  \n",
      "3          furnished  \n",
      "4          furnished  \n",
      "..               ...  \n",
      "540      unfurnished  \n",
      "541   semi-furnished  \n",
      "542      unfurnished  \n",
      "543        furnished  \n",
      "544      unfurnished  \n",
      "\n",
      "[545 rows x 13 columns]\n"
     ]
    }
   ],
   "source": [
    "#Loading Libraries\n",
    "import pandas as pd\n",
    "import numpy as np\n",
    "# Part a: Loading dataset\n",
    "df = pd.read_csv('Housing_Dataset.csv') \n",
    "# Displaying the Housing Dataset\n",
    "print(\"Housing Dataset:\\n\",df)"
   ]
  },
  {
   "cell_type": "markdown",
   "metadata": {},
   "source": []
  },
  {
   "cell_type": "code",
   "execution_count": 2,
   "metadata": {},
   "outputs": [
    {
     "name": "stdout",
     "output_type": "stream",
     "text": [
      "Filtered Housing Dataset:\n",
      "         price  sqft_living  bedrooms  bathrooms  stories mainroad guestroom  \\\n",
      "0    13300000         7420         4          2        3      yes        no   \n",
      "1    12250000         8960         4          4        4      yes        no   \n",
      "2    12250000         9960         3          2        2      yes        no   \n",
      "3    12215000         7500         4          2        2      yes        no   \n",
      "4    11410000         7420         4          1        2      yes       yes   \n",
      "..        ...          ...       ...        ...      ...      ...       ...   \n",
      "265   4403000         2880         3          1        2      yes        no   \n",
      "266   4403000         4880         3          1        1      yes        no   \n",
      "267   4403000         4920         3          1        2      yes        no   \n",
      "268   4382000         4950         4          1        2      yes        no   \n",
      "269   4375000         3900         3          1        2      yes        no   \n",
      "\n",
      "    basement hotwaterheating airconditioning  lot_size prefarea  \\\n",
      "0         no              no             yes         2      yes   \n",
      "1         no              no             yes         3       no   \n",
      "2        yes              no              no         2      yes   \n",
      "3        yes              no             yes         3      yes   \n",
      "4        yes              no             yes         2       no   \n",
      "..       ...             ...             ...       ...      ...   \n",
      "265       no              no              no         0      yes   \n",
      "266       no              no              no         2      yes   \n",
      "267       no              no              no         1       no   \n",
      "268       no              no             yes         0       no   \n",
      "269       no              no              no         0       no   \n",
      "\n",
      "    furnishingstatus  \n",
      "0          furnished  \n",
      "1          furnished  \n",
      "2     semi-furnished  \n",
      "3          furnished  \n",
      "4          furnished  \n",
      "..               ...  \n",
      "265   semi-furnished  \n",
      "266      unfurnished  \n",
      "267   semi-furnished  \n",
      "268   semi-furnished  \n",
      "269      unfurnished  \n",
      "\n",
      "[243 rows x 13 columns]\n"
     ]
    }
   ],
   "source": [
    "#Part b: Filtering the housing dataset according to requirement\n",
    "median_price = df['price'].median()\n",
    "filtered_df = df[(df['price'] > median_price) & (df['bedrooms'] > 2) & (df['sqft_living'] > 2000)]\n",
    "# Displaying filtered dataset\n",
    "print(\"Filtered Housing Dataset:\\n\",filtered_df)"
   ]
  },
  {
   "cell_type": "code",
   "execution_count": 3,
   "metadata": {},
   "outputs": [
    {
     "name": "stdout",
     "output_type": "stream",
     "text": [
      "Grouping of Housing Dataset:\n",
      "                  price  sqft_living\n",
      "bedrooms                           \n",
      "3         6.084991e+06       6000.0\n",
      "4         6.776328e+06       6000.0\n",
      "5         7.379167e+06       7395.0\n",
      "6         6.083000e+06       4300.0\n"
     ]
    }
   ],
   "source": [
    "# Part c: Grouping the data and doing calculations accordingly\n",
    "grouped_df = filtered_df.groupby('bedrooms').agg({'price': 'mean', 'sqft_living': 'median'})\n",
    "# Displaying the grouped dataset\n",
    "print(\"Grouping of Housing Dataset:\\n\",grouped_df)"
   ]
  },
  {
   "cell_type": "code",
   "execution_count": 4,
   "metadata": {},
   "outputs": [
    {
     "name": "stdout",
     "output_type": "stream",
     "text": [
      "Sorted Housing Dataset:\n",
      "         price  sqft_living  bedrooms  bathrooms  stories mainroad guestroom  \\\n",
      "0    13300000         7420         4          2        3      yes        no   \n",
      "2    12250000         9960         3          2        2      yes        no   \n",
      "1    12250000         8960         4          4        4      yes        no   \n",
      "3    12215000         7500         4          2        2      yes        no   \n",
      "4    11410000         7420         4          1        2      yes       yes   \n",
      "..        ...          ...       ...        ...      ...      ...       ...   \n",
      "540   1820000         3000         2          1        1      yes        no   \n",
      "541   1767150         2400         3          1        1       no        no   \n",
      "542   1750000         3620         2          1        1      yes        no   \n",
      "543   1750000         2910         3          1        1       no        no   \n",
      "544   1750000         3850         3          1        2      yes        no   \n",
      "\n",
      "    basement hotwaterheating airconditioning  lot_size prefarea  \\\n",
      "0         no              no             yes         2      yes   \n",
      "2        yes              no              no         2      yes   \n",
      "1         no              no             yes         3       no   \n",
      "3        yes              no             yes         3      yes   \n",
      "4        yes              no             yes         2       no   \n",
      "..       ...             ...             ...       ...      ...   \n",
      "540      yes              no              no         2       no   \n",
      "541       no              no              no         0       no   \n",
      "542       no              no              no         0       no   \n",
      "543       no              no              no         0       no   \n",
      "544       no              no              no         0       no   \n",
      "\n",
      "    furnishingstatus  \n",
      "0          furnished  \n",
      "2     semi-furnished  \n",
      "1          furnished  \n",
      "3          furnished  \n",
      "4          furnished  \n",
      "..               ...  \n",
      "540      unfurnished  \n",
      "541   semi-furnished  \n",
      "542      unfurnished  \n",
      "543        furnished  \n",
      "544      unfurnished  \n",
      "\n",
      "[545 rows x 13 columns]\n"
     ]
    }
   ],
   "source": [
    "# Part d: Sorting the housing dataset accordingly\n",
    "sorted_df = df.sort_values(by='price', ascending=False)\n",
    "#Displaying sorted dataset\n",
    "print(\"Sorted Housing Dataset:\\n\",sorted_df)"
   ]
  },
  {
   "cell_type": "code",
   "execution_count": 5,
   "metadata": {},
   "outputs": [
    {
     "name": "stdout",
     "output_type": "stream",
     "text": [
      "Top 5 of expensive houses:\n",
      "        price  sqft_living  bedrooms  bathrooms  stories mainroad guestroom  \\\n",
      "0   13300000         7420         4          2        3      yes        no   \n",
      "2   12250000         9960         3          2        2      yes        no   \n",
      "1   12250000         8960         4          4        4      yes        no   \n",
      "3   12215000         7500         4          2        2      yes        no   \n",
      "4   11410000         7420         4          1        2      yes       yes   \n",
      "5   10850000         7500         3          3        1      yes        no   \n",
      "6   10150000         8580         4          3        4      yes        no   \n",
      "7   10150000        16200         5          3        2      yes        no   \n",
      "8    9870000         8100         4          1        2      yes       yes   \n",
      "9    9800000         5750         3          2        4      yes       yes   \n",
      "10   9800000        13200         3          1        2      yes        no   \n",
      "11   9681000         6000         4          3        2      yes       yes   \n",
      "12   9310000         6550         4          2        2      yes        no   \n",
      "13   9240000         3500         4          2        2      yes        no   \n",
      "14   9240000         7800         3          2        2      yes        no   \n",
      "15   9100000         6000         4          1        2      yes        no   \n",
      "16   9100000         6600         4          2        2      yes       yes   \n",
      "17   8960000         8500         3          2        4      yes        no   \n",
      "18   8890000         4600         3          2        2      yes       yes   \n",
      "19   8855000         6420         3          2        2      yes        no   \n",
      "20   8750000         4320         3          1        2      yes        no   \n",
      "21   8680000         7155         3          2        1      yes       yes   \n",
      "22   8645000         8050         3          1        1      yes       yes   \n",
      "23   8645000         4560         3          2        2      yes       yes   \n",
      "24   8575000         8800         3          2        2      yes        no   \n",
      "25   8540000         6540         4          2        2      yes       yes   \n",
      "26   8463000         6000         3          2        4      yes       yes   \n",
      "\n",
      "   basement hotwaterheating airconditioning  lot_size prefarea  \\\n",
      "0        no              no             yes         2      yes   \n",
      "2       yes              no              no         2      yes   \n",
      "1        no              no             yes         3       no   \n",
      "3       yes              no             yes         3      yes   \n",
      "4       yes              no             yes         2       no   \n",
      "5       yes              no             yes         2      yes   \n",
      "6        no              no             yes         2      yes   \n",
      "7        no              no              no         0       no   \n",
      "8       yes              no             yes         2      yes   \n",
      "9        no              no             yes         1      yes   \n",
      "10      yes              no             yes         2      yes   \n",
      "11      yes             yes              no         2       no   \n",
      "12       no              no             yes         1      yes   \n",
      "13       no             yes              no         2       no   \n",
      "14       no              no              no         0      yes   \n",
      "15      yes              no              no         2       no   \n",
      "16      yes              no             yes         1      yes   \n",
      "17       no              no             yes         2       no   \n",
      "18       no              no             yes         2       no   \n",
      "19       no              no             yes         1      yes   \n",
      "20      yes             yes              no         2       no   \n",
      "21      yes              no             yes         2       no   \n",
      "22      yes              no             yes         1       no   \n",
      "23      yes              no             yes         1       no   \n",
      "24       no              no             yes         2       no   \n",
      "25      yes              no             yes         2      yes   \n",
      "26      yes              no             yes         0      yes   \n",
      "\n",
      "   furnishingstatus  \n",
      "0         furnished  \n",
      "2    semi-furnished  \n",
      "1         furnished  \n",
      "3         furnished  \n",
      "4         furnished  \n",
      "5    semi-furnished  \n",
      "6    semi-furnished  \n",
      "7       unfurnished  \n",
      "8         furnished  \n",
      "9       unfurnished  \n",
      "10        furnished  \n",
      "11   semi-furnished  \n",
      "12   semi-furnished  \n",
      "13        furnished  \n",
      "14   semi-furnished  \n",
      "15   semi-furnished  \n",
      "16      unfurnished  \n",
      "17        furnished  \n",
      "18        furnished  \n",
      "19   semi-furnished  \n",
      "20   semi-furnished  \n",
      "21      unfurnished  \n",
      "22        furnished  \n",
      "23        furnished  \n",
      "24        furnished  \n",
      "25        furnished  \n",
      "26   semi-furnished  \n"
     ]
    }
   ],
   "source": [
    "top_5_percent = sorted_df.head(int(0.05 * len(df)))\n",
    "#Displaying top 5% of houses\n",
    "print(\"Top 5 of expensive houses:\\n\",top_5_percent)"
   ]
  },
  {
   "cell_type": "code",
   "execution_count": 6,
   "metadata": {},
   "outputs": [
    {
     "name": "stdout",
     "output_type": "stream",
     "text": [
      "Correlations of Housing Dataset:\n",
      "                 price  sqft_living  bedrooms\n",
      "price        1.000000     0.535997  0.366494\n",
      "sqft_living  0.535997     1.000000  0.151858\n",
      "bedrooms     0.366494     0.151858  1.000000\n"
     ]
    }
   ],
   "source": [
    "# Part e: Calculation corelations according to requirement:\n",
    "correlations_df = df[['price', 'sqft_living', 'bedrooms']].corr()\n",
    "# Displaying results\n",
    "print(\"Correlations of Housing Dataset:\\n\",correlations_df)"
   ]
  },
  {
   "cell_type": "code",
   "execution_count": 7,
   "metadata": {},
   "outputs": [
    {
     "name": "stdout",
     "output_type": "stream",
     "text": [
      "Statistical Operation on Housing Dataset:\n",
      "               price    bedrooms   sqft_living    lot_size\n",
      "count  5.450000e+02  545.000000    545.000000  545.000000\n",
      "mean   4.766729e+06    2.965138   5150.541284    0.693578\n",
      "std    1.870440e+06    0.738064   2170.141023    0.861586\n",
      "min    1.750000e+06    1.000000   1650.000000    0.000000\n",
      "25%    3.430000e+06    2.000000   3600.000000    0.000000\n",
      "50%    4.340000e+06    3.000000   4600.000000    0.000000\n",
      "75%    5.740000e+06    3.000000   6360.000000    1.000000\n",
      "max    1.330000e+07    6.000000  16200.000000    3.000000\n"
     ]
    }
   ],
   "source": [
    "#Part f: Calculation statistical values according to requirment\n",
    "statistical_df = df[['price', 'bedrooms', 'sqft_living', 'lot_size']].describe()\n",
    "#Displaying Results:\n",
    "print(\"Statistical Operation on Housing Dataset:\\n\",statistical_df)"
   ]
  },
  {
   "cell_type": "code",
   "execution_count": 8,
   "metadata": {},
   "outputs": [
    {
     "name": "stdout",
     "output_type": "stream",
     "text": [
      "New Coloumn in Housing Dataset:\n",
      " 0      1792.452830\n",
      "1      1367.187500\n",
      "2      1229.919679\n",
      "3      1628.666667\n",
      "4      1537.735849\n",
      "          ...     \n",
      "540     606.666667\n",
      "541     736.312500\n",
      "542     483.425414\n",
      "543     601.374570\n",
      "544     454.545455\n",
      "Name: price_per_sqft, Length: 545, dtype: float64\n"
     ]
    },
    {
     "data": {
      "text/html": [
       "<div>\n",
       "<style scoped>\n",
       "    .dataframe tbody tr th:only-of-type {\n",
       "        vertical-align: middle;\n",
       "    }\n",
       "\n",
       "    .dataframe tbody tr th {\n",
       "        vertical-align: top;\n",
       "    }\n",
       "\n",
       "    .dataframe thead th {\n",
       "        text-align: right;\n",
       "    }\n",
       "</style>\n",
       "<table border=\"1\" class=\"dataframe\">\n",
       "  <thead>\n",
       "    <tr style=\"text-align: right;\">\n",
       "      <th></th>\n",
       "      <th>price</th>\n",
       "      <th>sqft_living</th>\n",
       "      <th>bedrooms</th>\n",
       "      <th>bathrooms</th>\n",
       "      <th>stories</th>\n",
       "      <th>mainroad</th>\n",
       "      <th>guestroom</th>\n",
       "      <th>basement</th>\n",
       "      <th>hotwaterheating</th>\n",
       "      <th>airconditioning</th>\n",
       "      <th>lot_size</th>\n",
       "      <th>prefarea</th>\n",
       "      <th>furnishingstatus</th>\n",
       "      <th>price_per_sqft</th>\n",
       "      <th>classification</th>\n",
       "    </tr>\n",
       "  </thead>\n",
       "  <tbody>\n",
       "    <tr>\n",
       "      <th>0</th>\n",
       "      <td>13300000</td>\n",
       "      <td>7420</td>\n",
       "      <td>4</td>\n",
       "      <td>2</td>\n",
       "      <td>3</td>\n",
       "      <td>yes</td>\n",
       "      <td>no</td>\n",
       "      <td>no</td>\n",
       "      <td>no</td>\n",
       "      <td>yes</td>\n",
       "      <td>2</td>\n",
       "      <td>yes</td>\n",
       "      <td>furnished</td>\n",
       "      <td>1792.452830</td>\n",
       "      <td>High</td>\n",
       "    </tr>\n",
       "    <tr>\n",
       "      <th>1</th>\n",
       "      <td>12250000</td>\n",
       "      <td>8960</td>\n",
       "      <td>4</td>\n",
       "      <td>4</td>\n",
       "      <td>4</td>\n",
       "      <td>yes</td>\n",
       "      <td>no</td>\n",
       "      <td>no</td>\n",
       "      <td>no</td>\n",
       "      <td>yes</td>\n",
       "      <td>3</td>\n",
       "      <td>no</td>\n",
       "      <td>furnished</td>\n",
       "      <td>1367.187500</td>\n",
       "      <td>High</td>\n",
       "    </tr>\n",
       "    <tr>\n",
       "      <th>2</th>\n",
       "      <td>12250000</td>\n",
       "      <td>9960</td>\n",
       "      <td>3</td>\n",
       "      <td>2</td>\n",
       "      <td>2</td>\n",
       "      <td>yes</td>\n",
       "      <td>no</td>\n",
       "      <td>yes</td>\n",
       "      <td>no</td>\n",
       "      <td>no</td>\n",
       "      <td>2</td>\n",
       "      <td>yes</td>\n",
       "      <td>semi-furnished</td>\n",
       "      <td>1229.919679</td>\n",
       "      <td>High</td>\n",
       "    </tr>\n",
       "    <tr>\n",
       "      <th>3</th>\n",
       "      <td>12215000</td>\n",
       "      <td>7500</td>\n",
       "      <td>4</td>\n",
       "      <td>2</td>\n",
       "      <td>2</td>\n",
       "      <td>yes</td>\n",
       "      <td>no</td>\n",
       "      <td>yes</td>\n",
       "      <td>no</td>\n",
       "      <td>yes</td>\n",
       "      <td>3</td>\n",
       "      <td>yes</td>\n",
       "      <td>furnished</td>\n",
       "      <td>1628.666667</td>\n",
       "      <td>High</td>\n",
       "    </tr>\n",
       "    <tr>\n",
       "      <th>4</th>\n",
       "      <td>11410000</td>\n",
       "      <td>7420</td>\n",
       "      <td>4</td>\n",
       "      <td>1</td>\n",
       "      <td>2</td>\n",
       "      <td>yes</td>\n",
       "      <td>yes</td>\n",
       "      <td>yes</td>\n",
       "      <td>no</td>\n",
       "      <td>yes</td>\n",
       "      <td>2</td>\n",
       "      <td>no</td>\n",
       "      <td>furnished</td>\n",
       "      <td>1537.735849</td>\n",
       "      <td>High</td>\n",
       "    </tr>\n",
       "    <tr>\n",
       "      <th>...</th>\n",
       "      <td>...</td>\n",
       "      <td>...</td>\n",
       "      <td>...</td>\n",
       "      <td>...</td>\n",
       "      <td>...</td>\n",
       "      <td>...</td>\n",
       "      <td>...</td>\n",
       "      <td>...</td>\n",
       "      <td>...</td>\n",
       "      <td>...</td>\n",
       "      <td>...</td>\n",
       "      <td>...</td>\n",
       "      <td>...</td>\n",
       "      <td>...</td>\n",
       "      <td>...</td>\n",
       "    </tr>\n",
       "    <tr>\n",
       "      <th>540</th>\n",
       "      <td>1820000</td>\n",
       "      <td>3000</td>\n",
       "      <td>2</td>\n",
       "      <td>1</td>\n",
       "      <td>1</td>\n",
       "      <td>yes</td>\n",
       "      <td>no</td>\n",
       "      <td>yes</td>\n",
       "      <td>no</td>\n",
       "      <td>no</td>\n",
       "      <td>2</td>\n",
       "      <td>no</td>\n",
       "      <td>unfurnished</td>\n",
       "      <td>606.666667</td>\n",
       "      <td>Low</td>\n",
       "    </tr>\n",
       "    <tr>\n",
       "      <th>541</th>\n",
       "      <td>1767150</td>\n",
       "      <td>2400</td>\n",
       "      <td>3</td>\n",
       "      <td>1</td>\n",
       "      <td>1</td>\n",
       "      <td>no</td>\n",
       "      <td>no</td>\n",
       "      <td>no</td>\n",
       "      <td>no</td>\n",
       "      <td>no</td>\n",
       "      <td>0</td>\n",
       "      <td>no</td>\n",
       "      <td>semi-furnished</td>\n",
       "      <td>736.312500</td>\n",
       "      <td>Low</td>\n",
       "    </tr>\n",
       "    <tr>\n",
       "      <th>542</th>\n",
       "      <td>1750000</td>\n",
       "      <td>3620</td>\n",
       "      <td>2</td>\n",
       "      <td>1</td>\n",
       "      <td>1</td>\n",
       "      <td>yes</td>\n",
       "      <td>no</td>\n",
       "      <td>no</td>\n",
       "      <td>no</td>\n",
       "      <td>no</td>\n",
       "      <td>0</td>\n",
       "      <td>no</td>\n",
       "      <td>unfurnished</td>\n",
       "      <td>483.425414</td>\n",
       "      <td>Low</td>\n",
       "    </tr>\n",
       "    <tr>\n",
       "      <th>543</th>\n",
       "      <td>1750000</td>\n",
       "      <td>2910</td>\n",
       "      <td>3</td>\n",
       "      <td>1</td>\n",
       "      <td>1</td>\n",
       "      <td>no</td>\n",
       "      <td>no</td>\n",
       "      <td>no</td>\n",
       "      <td>no</td>\n",
       "      <td>no</td>\n",
       "      <td>0</td>\n",
       "      <td>no</td>\n",
       "      <td>furnished</td>\n",
       "      <td>601.374570</td>\n",
       "      <td>Low</td>\n",
       "    </tr>\n",
       "    <tr>\n",
       "      <th>544</th>\n",
       "      <td>1750000</td>\n",
       "      <td>3850</td>\n",
       "      <td>3</td>\n",
       "      <td>1</td>\n",
       "      <td>2</td>\n",
       "      <td>yes</td>\n",
       "      <td>no</td>\n",
       "      <td>no</td>\n",
       "      <td>no</td>\n",
       "      <td>no</td>\n",
       "      <td>0</td>\n",
       "      <td>no</td>\n",
       "      <td>unfurnished</td>\n",
       "      <td>454.545455</td>\n",
       "      <td>Low</td>\n",
       "    </tr>\n",
       "  </tbody>\n",
       "</table>\n",
       "<p>545 rows × 15 columns</p>\n",
       "</div>"
      ],
      "text/plain": [
       "        price  sqft_living  bedrooms  bathrooms  stories mainroad guestroom  \\\n",
       "0    13300000         7420         4          2        3      yes        no   \n",
       "1    12250000         8960         4          4        4      yes        no   \n",
       "2    12250000         9960         3          2        2      yes        no   \n",
       "3    12215000         7500         4          2        2      yes        no   \n",
       "4    11410000         7420         4          1        2      yes       yes   \n",
       "..        ...          ...       ...        ...      ...      ...       ...   \n",
       "540   1820000         3000         2          1        1      yes        no   \n",
       "541   1767150         2400         3          1        1       no        no   \n",
       "542   1750000         3620         2          1        1      yes        no   \n",
       "543   1750000         2910         3          1        1       no        no   \n",
       "544   1750000         3850         3          1        2      yes        no   \n",
       "\n",
       "    basement hotwaterheating airconditioning  lot_size prefarea  \\\n",
       "0         no              no             yes         2      yes   \n",
       "1         no              no             yes         3       no   \n",
       "2        yes              no              no         2      yes   \n",
       "3        yes              no             yes         3      yes   \n",
       "4        yes              no             yes         2       no   \n",
       "..       ...             ...             ...       ...      ...   \n",
       "540      yes              no              no         2       no   \n",
       "541       no              no              no         0       no   \n",
       "542       no              no              no         0       no   \n",
       "543       no              no              no         0       no   \n",
       "544       no              no              no         0       no   \n",
       "\n",
       "    furnishingstatus  price_per_sqft classification  \n",
       "0          furnished     1792.452830           High  \n",
       "1          furnished     1367.187500           High  \n",
       "2     semi-furnished     1229.919679           High  \n",
       "3          furnished     1628.666667           High  \n",
       "4          furnished     1537.735849           High  \n",
       "..               ...             ...            ...  \n",
       "540      unfurnished      606.666667            Low  \n",
       "541   semi-furnished      736.312500            Low  \n",
       "542      unfurnished      483.425414            Low  \n",
       "543        furnished      601.374570            Low  \n",
       "544      unfurnished      454.545455            Low  \n",
       "\n",
       "[545 rows x 15 columns]"
      ]
     },
     "execution_count": 8,
     "metadata": {},
     "output_type": "execute_result"
    }
   ],
   "source": [
    "#Part g: Creation of new coloumn\n",
    "df['price_per_sqft'] = df['price'] / df['sqft_living']\n",
    "#Displaying results\n",
    "print(\"New Coloumn in Housing Dataset:\\n\",df['price_per_sqft'])\n",
    "#Clssifying the houses according to question\n",
    "df['classification'] = pd.cut(df['price_per_sqft'], bins=[0, df['price_per_sqft'].quantile(0.33), df['price_per_sqft'].quantile(0.67), float('inf')], labels=['Low', 'Medium', 'High'])\n",
    "#Displaying the updated housing daatset\n",
    "df"
   ]
  },
  {
   "cell_type": "code",
   "execution_count": 9,
   "metadata": {},
   "outputs": [
    {
     "name": "stdout",
     "output_type": "stream",
     "text": [
      "Handling missing values in the bathrooms coloumn:\n",
      " 0      2\n",
      "1      4\n",
      "2      2\n",
      "3      2\n",
      "4      1\n",
      "      ..\n",
      "540    1\n",
      "541    1\n",
      "542    1\n",
      "543    1\n",
      "544    1\n",
      "Name: bathrooms, Length: 545, dtype: int64\n",
      "Handling missing values in the size coloumn:\n",
      " 0      2\n",
      "1      3\n",
      "2      2\n",
      "3      3\n",
      "4      2\n",
      "      ..\n",
      "540    2\n",
      "541    0\n",
      "542    0\n",
      "543    0\n",
      "544    0\n",
      "Name: lot_size, Length: 545, dtype: int64\n",
      "Handling missing values in the price coloumn:\n",
      " 0      13300000\n",
      "1      12250000\n",
      "2      12250000\n",
      "3      12215000\n",
      "4      11410000\n",
      "         ...   \n",
      "540     1820000\n",
      "541     1767150\n",
      "542     1750000\n",
      "543     1750000\n",
      "544     1750000\n",
      "Name: price, Length: 545, dtype: int64\n"
     ]
    }
   ],
   "source": [
    "#Part h: Handling the missing values in the housing dataset:\n",
    "b= df['bathrooms'].fillna(df['bathrooms'].median())\n",
    "l=df['lot_size'].fillna(df['lot_size'].median())\n",
    "p=df['price'].fillna(df['price'].mean())\n",
    "print(\"Handling missing values in the bathrooms coloumn:\\n\",b)\n",
    "print(\"Handling missing values in the size coloumn:\\n\",l)\n",
    "print(\"Handling missing values in the price coloumn:\\n\",p)"
   ]
  },
  {
   "cell_type": "markdown",
   "metadata": {},
   "source": [
    "### ***Assignment Questions:-***\n",
    "##### Problem 2: “Student Performance Analysis” \n",
    "a. Create a DataFrame with synthetic data for students' grades, attendance, and extracurricular \n",
    "activities; filter for students with an average grade above 85% and at least 90% attendance, as well \n",
    "as those participating in extracurricular activities despite having failing grades in any subject.  <br>\n",
    "b. Group the DataFrame by extracurricular_activity to calculate average grades and total attendance \n",
    "for each activity, then identify which activity has the highest average grade. <br>\n",
    "c. Sort the DataFrame by grades and create a pass_fail column using a lambda function to indicate \n",
    "passing or failing status, then count the total number of passes and fails.  <br>\n",
    "d. Create a second DataFrame containing parent income levels and merge it with the first DataFrame; \n",
    "analyze how these income levels impact the average grades of students.  <br>\n",
    "e. Segment students into quartiles based on their grades, then analyze and discuss the correlations \n",
    "between attendance and grades within each quartile to identify any patterns or trends.  <br>\n",
    "f. Create a performance_score that combines grades, attendance, and extracurricular participation, \n",
    "then justify the chosen weightings based on their perceived impact on overall student performance, \n",
    "considering factors such as the importance of academic achievement, consistent attendance, and \n",
    "involvement in activities for holistic development. <br>"
   ]
  },
  {
   "cell_type": "markdown",
   "metadata": {},
   "source": []
  },
  {
   "cell_type": "code",
   "execution_count": 10,
   "metadata": {},
   "outputs": [
    {
     "name": "stdout",
     "output_type": "stream",
     "text": [
      "Dataframe:\n",
      "    student  grade  attendance  extracurricular_activity  failing_subjects\n",
      "0   Wajiha     88          95                      True                 0\n",
      "1    Deeba     82          85                      True                 2\n",
      "2   Maryam     91          92                     False                 0\n",
      "3   Khansa     70          80                      True                 1\n",
      "4     Saba     76          93                     False                 1\n",
      "5  Minahil     68          89                     False                 0\n",
      "Filtered Dataset:\n",
      "   student  grade  attendance  extracurricular_activity  failing_subjects\n",
      "0  Wajiha     88          95                      True                 0\n",
      "1   Deeba     82          85                      True                 2\n",
      "2  Maryam     91          92                     False                 0\n",
      "3  Khansa     70          80                      True                 1\n"
     ]
    }
   ],
   "source": [
    "#Part a: Creating a dataframe of synthetic data accordingly\n",
    "synthetic_data = {\n",
    "    'student': ['Wajiha', 'Deeba', 'Maryam', 'Khansa', 'Saba','Minahil'],\n",
    "    'grade': [88, 82, 91, 70, 76,68],\n",
    "    'attendance': [95, 85, 92, 80, 93,89],\n",
    "    'extracurricular_activity': [True, True, False, True, False, False],\n",
    "    'failing_subjects': [0, 2, 0, 1, 1,0]\n",
    "}\n",
    "syn_df = pd.DataFrame(synthetic_data)\n",
    "#Displaying the dataframe\n",
    "print(\"Dataframe:\\n\",syn_df)\n",
    "#Filtering the dataset\n",
    "filtered_syndf = syn_df[((syn_df['grade'] > 85) & (syn_df['attendance'] >= 90)) | ((syn_df['extracurricular_activity'] == True) & (syn_df['failing_subjects'] > 0))]\n",
    "#Displaying the filtered dataset\n",
    "print(\"Filtered Dataset:\\n\",filtered_syndf)"
   ]
  },
  {
   "cell_type": "code",
   "execution_count": 11,
   "metadata": {},
   "outputs": [
    {
     "name": "stdout",
     "output_type": "stream",
     "text": [
      "The grouped dataset:\n",
      "                               grade  attendance\n",
      "extracurricular_activity                       \n",
      "False                     78.333333         274\n",
      "True                      80.000000         260\n",
      "The highest grade activity:\n",
      "                           grade  attendance\n",
      "extracurricular_activity                   \n",
      "True                       80.0         260\n"
     ]
    }
   ],
   "source": [
    "#Part b: Grouping the dataset accordingly\n",
    "grouped_syndf = syn_df.groupby('extracurricular_activity').agg({'grade': 'mean', 'attendance': 'sum'})\n",
    "print(\"The grouped dataset:\\n\",grouped_syndf)\n",
    "#Finding highest grade\n",
    "highest_grade_activity = grouped_syndf[grouped_syndf['grade'] == grouped_syndf['grade'].max()]\n",
    "print(\"The highest grade activity:\\n\",highest_grade_activity)"
   ]
  },
  {
   "cell_type": "code",
   "execution_count": 12,
   "metadata": {},
   "outputs": [
    {
     "name": "stdout",
     "output_type": "stream",
     "text": [
      "Sorted Dataset:\n",
      "    student  grade  attendance  extracurricular_activity  failing_subjects\n",
      "2   Maryam     91          92                     False                 0\n",
      "0   Wajiha     88          95                      True                 0\n",
      "1    Deeba     82          85                      True                 2\n",
      "4     Saba     76          93                     False                 1\n",
      "3   Khansa     70          80                      True                 1\n",
      "5  Minahil     68          89                     False                 0\n",
      "Showing the updated dataset:\n",
      "    student  grade  attendance  extracurricular_activity  failing_subjects  \\\n",
      "0   Wajiha     88          95                      True                 0   \n",
      "1    Deeba     82          85                      True                 2   \n",
      "2   Maryam     91          92                     False                 0   \n",
      "3   Khansa     70          80                      True                 1   \n",
      "4     Saba     76          93                     False                 1   \n",
      "5  Minahil     68          89                     False                 0   \n",
      "\n",
      "  pass_fail  \n",
      "0      Pass  \n",
      "1      Pass  \n",
      "2      Pass  \n",
      "3      Pass  \n",
      "4      Pass  \n",
      "5      Pass  \n",
      "Counting the pass/fail students:\n",
      " pass_fail\n",
      "Pass    6\n",
      "Name: count, dtype: int64\n"
     ]
    }
   ],
   "source": [
    "#Part c: Sorting the dataset\n",
    "sorted_syndf = syn_df.sort_values(by='grade', ascending=False)\n",
    "print(\"Sorted Dataset:\\n\",sorted_syndf)\n",
    "#Creating new coloumns and perform operation\n",
    "syn_df['pass_fail'] = syn_df['grade'].apply(lambda x: 'Pass' if x >= 50 else 'Fail')\n",
    "#Result\n",
    "print(\"Showing the updated dataset:\\n\",syn_df)\n",
    "#Counting total no of pass/fail students:\n",
    "print(\"Counting the pass/fail students:\\n\",syn_df['pass_fail'].value_counts())"
   ]
  },
  {
   "cell_type": "code",
   "execution_count": 13,
   "metadata": {},
   "outputs": [
    {
     "name": "stdout",
     "output_type": "stream",
     "text": [
      "The Parents Income Dataframe:\n",
      "    student  parent_income\n",
      "0   Wajiha          60000\n",
      "1    Deeba          45000\n",
      "2   Maryam          70000\n",
      "3   Khansa          30000\n",
      "4     Saba          40000\n",
      "5  Minahil          69000\n",
      "Merged Dataset:\n",
      "    student  grade  attendance  extracurricular_activity  failing_subjects  \\\n",
      "0   Wajiha     88          95                      True                 0   \n",
      "1    Deeba     82          85                      True                 2   \n",
      "2   Maryam     91          92                     False                 0   \n",
      "3   Khansa     70          80                      True                 1   \n",
      "4     Saba     76          93                     False                 1   \n",
      "5  Minahil     68          89                     False                 0   \n",
      "\n",
      "  pass_fail  parent_income  \n",
      "0      Pass          60000  \n",
      "1      Pass          45000  \n",
      "2      Pass          70000  \n",
      "3      Pass          30000  \n",
      "4      Pass          40000  \n",
      "5      Pass          69000  \n",
      "Parents income effects on the students grade:\n",
      "                grade\n",
      "parent_income       \n",
      "30000           70.0\n",
      "40000           76.0\n",
      "45000           82.0\n",
      "60000           88.0\n",
      "69000           68.0\n",
      "70000           91.0\n"
     ]
    }
   ],
   "source": [
    "#Part d: Creating new dataframe and connecting/merging it with first daatframe\n",
    "parents_data = {\n",
    "    'student': ['Wajiha', 'Deeba', 'Maryam', 'Khansa', 'Saba','Minahil'],\n",
    "    'parent_income': [60000, 45000, 70000, 30000, 40000, 69000]\n",
    "}\n",
    "parent_syndf = pd.DataFrame(parents_data)\n",
    "#Displaying results\n",
    "print(\"The Parents Income Dataframe:\\n\",parent_syndf)\n",
    "merged_syndf = pd.merge(syn_df, parent_syndf, on='student')\n",
    "print(\"Merged Dataset:\\n\",merged_syndf)\n",
    "parent_income_impact = merged_syndf.groupby('parent_income').agg({'grade': 'mean'})\n",
    "print(\"Parents income effects on the students grade:\\n\",parent_income_impact)"
   ]
  },
  {
   "cell_type": "code",
   "execution_count": 14,
   "metadata": {},
   "outputs": [
    {
     "name": "stdout",
     "output_type": "stream",
     "text": [
      "Quartiles Coloumns:\n",
      " 0    Quartile04\n",
      "1    Quartile03\n",
      "2    Quartile04\n",
      "3    Quartile01\n",
      "4    Quartile02\n",
      "5    Quartile01\n",
      "Name: grade_quartile, dtype: category\n",
      "Categories (4, object): ['Quartile01' < 'Quartile02' < 'Quartile03' < 'Quartile04']\n"
     ]
    },
    {
     "name": "stdout",
     "output_type": "stream",
     "text": [
      "Correlations in Dataset:\n",
      " grade_quartile\n",
      "Quartile01   -1.0\n",
      "Quartile02    NaN\n",
      "Quartile03    NaN\n",
      "Quartile04   -1.0\n",
      "dtype: float64\n"
     ]
    },
    {
     "name": "stderr",
     "output_type": "stream",
     "text": [
      "C:\\Users\\wajeeha\\AppData\\Local\\Temp\\ipykernel_2920\\3142139780.py:6: FutureWarning: The default of observed=False is deprecated and will be changed to True in a future version of pandas. Pass observed=False to retain current behavior or observed=True to adopt the future default and silence this warning.\n",
      "  correlations_by_quartile = syn_df.groupby('grade_quartile').apply(lambda x: x[['attendance', 'grade']].corr().iloc[0,1])\n",
      "C:\\Users\\wajeeha\\AppData\\Local\\Temp\\ipykernel_2920\\3142139780.py:6: DeprecationWarning: DataFrameGroupBy.apply operated on the grouping columns. This behavior is deprecated, and in a future version of pandas the grouping columns will be excluded from the operation. Either pass `include_groups=False` to exclude the groupings or explicitly select the grouping columns after groupby to silence this warning.\n",
      "  correlations_by_quartile = syn_df.groupby('grade_quartile').apply(lambda x: x[['attendance', 'grade']].corr().iloc[0,1])\n"
     ]
    }
   ],
   "source": [
    "#Part e: Doing segmentations on dataset accordingly\n",
    "syn_df['grade_quartile'] = pd.qcut(syn_df['grade'], 4, labels=['Quartile01', 'Quartile02', 'Quartile03', 'Quartile04'])\n",
    "#Displaying quartile coloumn in dataset\n",
    "print(\"Quartiles Coloumns:\\n\",syn_df['grade_quartile'])\n",
    "#Analyze correlations accordlingly\n",
    "correlations_by_quartile = syn_df.groupby('grade_quartile').apply(lambda x: x[['attendance', 'grade']].corr().iloc[0,1])\n",
    "print(\"Correlations in Dataset:\\n\",correlations_by_quartile)"
   ]
  },
  {
   "cell_type": "code",
   "execution_count": 15,
   "metadata": {},
   "outputs": [
    {
     "name": "stdout",
     "output_type": "stream",
     "text": [
      "Updated Dataset:\n",
      "    student  grade  attendance  extracurricular_activity  failing_subjects  \\\n",
      "0   Wajiha     88          95                      True                 0   \n",
      "1    Deeba     82          85                      True                 2   \n",
      "2   Maryam     91          92                     False                 0   \n",
      "3   Khansa     70          80                      True                 1   \n",
      "4     Saba     76          93                     False                 1   \n",
      "5  Minahil     68          89                     False                 0   \n",
      "\n",
      "  pass_fail grade_quartile  performance_score  \n",
      "0      Pass     Quartile04               92.5  \n",
      "1      Pass     Quartile03               86.5  \n",
      "2      Pass     Quartile04               73.1  \n",
      "3      Pass     Quartile01               79.0  \n",
      "4      Pass     Quartile02               65.9  \n",
      "5      Pass     Quartile01               60.7  \n"
     ]
    }
   ],
   "source": [
    "#Part f: Performance scoring of dataset\n",
    "# Grades are weighted higher due to the importance of academic achievement, attendance shows consistency and extracurriculars indicate holistic development.\n",
    "syn_df['performance_score'] = (syn_df['grade'] * 0.5 + syn_df['attendance'] * 0.3 + syn_df['extracurricular_activity'].apply(lambda x: 20 if x else 0))\n",
    "#Creating updated dataset\n",
    "print(\"Updated Dataset:\\n\",syn_df)"
   ]
  },
  {
   "cell_type": "markdown",
   "metadata": {},
   "source": [
    "##### Problem 3:  “Movie Ratings and Trends Analysis” \n",
    "a. Loads a dataset containing movie ratings, genres, release years and box office earnings. Filter the \n",
    "dataset to include only movies released after 2000 with at least 100 ratings.  <br>\n",
    "b. Create a new column to classify movies as \"Blockbuster\" (box office earnings above $100 million) \n",
    "or \"Flop.\" Group the data by genre to calculate the average rating and total earnings for each genre. <br>\n",
    "c. Calculate the average movie rating over the years and visualize the trend using a line plot. Discuss \n",
    "any observable patterns. <br>\n",
    "d. Analyze the correlation between ratings and box office earnings, and discuss possible reasons for \n",
    "the correlation. <br>\n",
    "e. Develop a simple collaborative filtering recommendation system using a user-item matrix. \n",
    "Recommend movies based on similar viewers.  <br>"
   ]
  },
  {
   "cell_type": "code",
   "execution_count": 16,
   "metadata": {},
   "outputs": [
    {
     "name": "stdout",
     "output_type": "stream",
     "text": [
      "The Movie Dataset:\n",
      "    movie_id    title   genre  release_year  ratings_count    box_office  \\\n",
      "0         1  Movie 1   Drama          2013            849  3.257176e+07   \n",
      "1         2  Movie 2   Drama          2000            930  6.329001e+07   \n",
      "2         3  Movie 3  Action          2010            198  1.558021e+08   \n",
      "3         4  Movie 4  Action          1998            167  1.716520e+08   \n",
      "4         5  Movie 5  Comedy          2009             98  2.304917e+07   \n",
      "\n",
      "     rating  \n",
      "0  4.499258  \n",
      "1  3.936290  \n",
      "2  5.633567  \n",
      "3  1.751100  \n",
      "4  3.176148  \n",
      "Filtered Movie Dataset:\n",
      "     movie_id     title            genre  release_year  ratings_count  \\\n",
      "0          1   Movie 1            Drama          2013            849   \n",
      "2          3   Movie 3           Action          2010            198   \n",
      "5          6   Movie 6  Science-Fiction          2002            245   \n",
      "8          9   Movie 9  Science-Fiction          2014            338   \n",
      "9         10  Movie 10            Drama          2003            531   \n",
      "..       ...       ...              ...           ...            ...   \n",
      "91        92  Movie 92  Science-Fiction          2007            957   \n",
      "92        93  Movie 93           Action          2005            121   \n",
      "93        94  Movie 94            Drama          2014            743   \n",
      "94        95  Movie 95           Horror          2011            153   \n",
      "97        98  Movie 98           Horror          2021            310   \n",
      "\n",
      "      box_office    rating  \n",
      "0   3.257176e+07  4.499258  \n",
      "2   1.558021e+08  5.633567  \n",
      "5   2.829782e+08  1.523626  \n",
      "8   2.790022e+08  3.226773  \n",
      "9   2.175687e+08  8.275377  \n",
      "..           ...       ...  \n",
      "91  1.248519e+08  8.806838  \n",
      "92  9.416300e+07  9.823901  \n",
      "93  7.300064e+07  8.511990  \n",
      "94  1.889823e+08  2.491139  \n",
      "97  8.477141e+07  8.486442  \n",
      "\n",
      "[65 rows x 7 columns]\n"
     ]
    }
   ],
   "source": [
    "#Creating a movie dataset\n",
    "movie_data = {\n",
    "    'movie_id': range(1, 101),\n",
    "    'title': [f'Movie {i}' for i in range(1, 101)],\n",
    "    'genre': np.random.choice(['Action', 'Drama', 'Comedy', 'Horror', 'Science-Fiction'], 100),\n",
    "    'release_year': np.random.randint(1990, 2024, 100),\n",
    "    'ratings_count': np.random.randint(50, 1000, 100),\n",
    "    'box_office': np.random.uniform(1_000_000, 300_000_000, 100),\n",
    "    'rating': np.random.uniform(1, 10, 100)\n",
    "}\n",
    "moviedf = pd.DataFrame(movie_data)\n",
    "print(\"The Movie Dataset:\\n\",moviedf.head())\n",
    "#Filtering movies accordingly\n",
    "filtered_moviedf = moviedf[(moviedf['release_year'] > 2000) & (moviedf['ratings_count'] >= 100)]\n",
    "print(\"Filtered Movie Dataset:\\n\",filtered_moviedf)\n"
   ]
  },
  {
   "cell_type": "code",
   "execution_count": 17,
   "metadata": {},
   "outputs": [
    {
     "name": "stdout",
     "output_type": "stream",
     "text": [
      "Movie Rankling as Blockbuster and Flop:\n",
      "    movie_id     title            genre  release_year  ratings_count  \\\n",
      "0         1   Movie 1            Drama          2013            849   \n",
      "2         3   Movie 3           Action          2010            198   \n",
      "5         6   Movie 6  Science-Fiction          2002            245   \n",
      "8         9   Movie 9  Science-Fiction          2014            338   \n",
      "9        10  Movie 10            Drama          2003            531   \n",
      "\n",
      "     box_office    rating movie_ranking  \n",
      "0  3.257176e+07  4.499258          Flop  \n",
      "2  1.558021e+08  5.633567   Blockbuster  \n",
      "5  2.829782e+08  1.523626   Blockbuster  \n",
      "8  2.790022e+08  3.226773   Blockbuster  \n",
      "9  2.175687e+08  8.275377   Blockbuster  \n"
     ]
    },
    {
     "name": "stderr",
     "output_type": "stream",
     "text": [
      "C:\\Users\\wajeeha\\AppData\\Local\\Temp\\ipykernel_2920\\2875248757.py:2: SettingWithCopyWarning: \n",
      "A value is trying to be set on a copy of a slice from a DataFrame.\n",
      "Try using .loc[row_indexer,col_indexer] = value instead\n",
      "\n",
      "See the caveats in the documentation: https://pandas.pydata.org/pandas-docs/stable/user_guide/indexing.html#returning-a-view-versus-a-copy\n",
      "  filtered_moviedf['movie_ranking'] = filtered_moviedf['box_office'].apply(lambda x: 'Blockbuster' if x > 100_000_000 else 'Flop')\n"
     ]
    }
   ],
   "source": [
    "#Part b: Creating new coloumn and perform task on it accordingly\n",
    "filtered_moviedf['movie_ranking'] = filtered_moviedf['box_office'].apply(lambda x: 'Blockbuster' if x > 100_000_000 else 'Flop')\n",
    "#Displaying results\n",
    "print(\"Movie Rankling as Blockbuster and Flop:\\n\",filtered_moviedf.head())"
   ]
  },
  {
   "cell_type": "code",
   "execution_count": 18,
   "metadata": {},
   "outputs": [
    {
     "name": "stdout",
     "output_type": "stream",
     "text": [
      "The Genre Grouping of Moovies:\n",
      "              genre    rating    box_office\n",
      "0           Action  5.411672  1.287954e+09\n",
      "1           Comedy  5.702999  1.780510e+09\n",
      "2            Drama  6.416750  2.513169e+09\n",
      "3           Horror  5.014881  2.463500e+09\n",
      "4  Science-Fiction  5.851560  2.134607e+09\n"
     ]
    }
   ],
   "source": [
    "#Grouping the data by genre\n",
    "genre_grouped_movies = filtered_moviedf.groupby('genre').agg({'rating': 'mean', 'box_office': 'sum'}).reset_index()\n",
    "print(\"The Genre Grouping of Moovies:\\n\", genre_grouped_movies)"
   ]
  },
  {
   "cell_type": "code",
   "execution_count": 19,
   "metadata": {},
   "outputs": [
    {
     "name": "stdout",
     "output_type": "stream",
     "text": [
      "Average Movie Ratings:\n",
      " release_year\n",
      "2001    4.172512\n",
      "2002    6.308806\n",
      "2003    5.838200\n",
      "2004    8.397310\n",
      "2005    5.873097\n",
      "2007    5.354813\n",
      "2008    7.030797\n",
      "2009    6.417725\n",
      "2010    6.998172\n",
      "2011    2.491139\n",
      "2012    3.122900\n",
      "2013    5.322455\n",
      "2014    7.233953\n",
      "2015    2.032435\n",
      "2016    6.545079\n",
      "2017    3.035296\n",
      "2019    8.330671\n",
      "2020    4.187593\n",
      "2021    4.959832\n",
      "2022    3.558566\n",
      "Name: rating, dtype: float64\n"
     ]
    },
    {
     "data": {
      "image/png": "[encoded data removed]",
      "text/plain": [
       "<Figure size 640x480 with 1 Axes>"
      ]
     },
     "metadata": {},
     "output_type": "display_data"
    }
   ],
   "source": [
    "# Part c: Calculating average movie rating with plot\n",
    "#Loading Library for plot\n",
    "import matplotlib.pyplot as plt\n",
    "movie_rating_average = filtered_moviedf.groupby('release_year')['rating'].mean()\n",
    "#Displaying result\n",
    "print(\"Average Movie Ratings:\\n\",movie_rating_average)\n",
    "plt.plot(movie_rating_average.index, movie_rating_average.values, marker='o', linestyle='-', color='red')\n",
    "plt.title('Average Movie Rating Over the Years')\n",
    "plt.xlabel('Year')\n",
    "plt.ylabel('Average Rating')\n",
    "plt.grid(True)\n",
    "plt.show()"
   ]
  },
  {
   "cell_type": "code",
   "execution_count": 20,
   "metadata": {},
   "outputs": [
    {
     "name": "stdout",
     "output_type": "stream",
     "text": [
      "Correlation between rating and box office in Movies Dataset:\n",
      "               rating  box_office\n",
      "rating      1.000000    0.005829\n",
      "box_office  0.005829    1.000000\n"
     ]
    }
   ],
   "source": [
    "# Part d: Analyzing the correaltions\n",
    "correlations_movie = filtered_moviedf[['rating', 'box_office']].corr()\n",
    "print(\"Correlation between rating and box office in Movies Dataset:\\n\",correlations_movie)"
   ]
  },
  {
   "cell_type": "code",
   "execution_count": 21,
   "metadata": {},
   "outputs": [
    {
     "name": "stdout",
     "output_type": "stream",
     "text": [
      "Recommended movie(s) for User 1: movie_4\n"
     ]
    }
   ],
   "source": [
    "# Part e: Creation of recommendation system of movies:\n",
    "# For user-item matrix (movie ratings)\n",
    "# User-item matrix (movie ratings)\n",
    "data = {'user_1': [5, 4, 3, 0, 2],'user_2': [4, 5, 3, 4, 2], 'user_3': [0, 4, 5, 3, 1]}\n",
    "dfr = pd.DataFrame(data, index=['movie_1', 'movie_2', 'movie_3', 'movie_4', 'movie_5'])\n",
    "# Function to recommend movies\n",
    "def recommend_movies(user):\n",
    "    similar_user = 'user_2'  # Assume user_2 is most similar\n",
    "    # Filter for movies user hasn't rated (0) and that similar user rated above 3\n",
    "    return dfr.index[(dfr[user] == 0) & (dfr[similar_user] > 3)]\n",
    "# Example: Recommend for user_1\n",
    "recommended_movies = recommend_movies('user_1')\n",
    "if len(recommended_movies) > 0:\n",
    "    print(f\"Recommended movie(s) for User 1: {', '.join(recommended_movies)}\")\n",
    "else:\n",
    "    print(\"No movie recommendations available for User 1.\")"
   ]
  },
  {
   "cell_type": "markdown",
   "metadata": {},
   "source": [
    "##### Problem 4:   “Data Detective”\n",
    "Solve a mystery by analyzing datasets using Pandas:<br>\n",
    "a. Identify suspects with a suspicion level above 3.  <br>\n",
    "b. Merge the suspects and evidence DataFrames to discover connections between suspects and \n",
    "evidence. <br>\n",
    "c. Group suspects by suspicion level and count the number of suspects in each group.  <br>\n",
    "d. Calculate the average suspicion level among suspects.   <br>"
   ]
  },
  {
   "cell_type": "code",
   "execution_count": 22,
   "metadata": {},
   "outputs": [
    {
     "name": "stdout",
     "output_type": "stream",
     "text": [
      "Suspects Dataset:\n",
      "    suspect_id    name  suspicion_level\n",
      "0           1     Ali                2\n",
      "1           2   Haris                4\n",
      "2           3  Sohail                5\n",
      "3           4    Duad                3\n",
      "4           5   Ehsan                6\n",
      "Evidence Dataset:\n",
      "    evidence_id        description  suspect_id\n",
      "0          101        Fingerprint           2\n",
      "1          102         DNA sample           3\n",
      "2          103  Witness testimony           5\n"
     ]
    }
   ],
   "source": [
    "# Sample data for suspects\n",
    "suspects_data = {\n",
    "    'suspect_id': [1, 2, 3, 4, 5],\n",
    "    'name': ['Ali', 'Haris', 'Sohail', 'Duad', 'Ehsan'],\n",
    "    'suspicion_level': [2, 4, 5, 3, 6]\n",
    "}\n",
    "# Sample data for evidence\n",
    "evidence_data = {\n",
    "    'evidence_id': [101, 102, 103],\n",
    "    'description': ['Fingerprint', 'DNA sample', 'Witness testimony'],\n",
    "    'suspect_id': [2, 3, 5]  #Linking evidence to suspects\n",
    "}\n",
    "# Creating DataFrames\n",
    "suspects_df = pd.DataFrame(suspects_data)\n",
    "evidence_df = pd.DataFrame(evidence_data)\n",
    "# Printing datasets\n",
    "print(\"Suspects Dataset:\\n\",suspects_df)\n",
    "print(\"Evidence Dataset:\\n\",evidence_df)"
   ]
  },
  {
   "cell_type": "code",
   "execution_count": 23,
   "metadata": {},
   "outputs": [
    {
     "name": "stdout",
     "output_type": "stream",
     "text": [
      "Suspects with suspicion level above 3:\n",
      "      name  suspicion_level\n",
      "1   Haris                4\n",
      "2  Sohail                5\n",
      "4   Ehsan                6\n"
     ]
    }
   ],
   "source": [
    "#Part a: Identifying suspects according to requirement\n",
    "high_suspects = suspects_df[suspects_df['suspicion_level'] > 3]\n",
    "print(\"Suspects with suspicion level above 3:\\n\",high_suspects[['name', 'suspicion_level']])"
   ]
  },
  {
   "cell_type": "code",
   "execution_count": 24,
   "metadata": {},
   "outputs": [
    {
     "name": "stdout",
     "output_type": "stream",
     "text": [
      "Merged DataFrame of suspects and evidence:\n",
      "    suspect_id    name  suspicion_level  evidence_id        description\n",
      "0           2   Haris                4          101        Fingerprint\n",
      "1           3  Sohail                5          102         DNA sample\n",
      "2           5   Ehsan                6          103  Witness testimony\n"
     ]
    }
   ],
   "source": [
    "#Part b: Merging case\n",
    "merged_df = pd.merge(high_suspects, evidence_df, on='suspect_id', how='left')\n",
    "print(\"Merged DataFrame of suspects and evidence:\\n\",merged_df)"
   ]
  },
  {
   "cell_type": "code",
   "execution_count": 25,
   "metadata": {},
   "outputs": [
    {
     "name": "stdout",
     "output_type": "stream",
     "text": [
      "Count of suspects by suspicion level:\n",
      " suspicion_level\n",
      "2    1\n",
      "3    1\n",
      "4    1\n",
      "5    1\n",
      "6    1\n",
      "dtype: int64\n"
     ]
    }
   ],
   "source": [
    "#Part c: Grouping/Coounting\n",
    "suspicion_count = suspects_df.groupby('suspicion_level').size()\n",
    "print(\"Count of suspects by suspicion level:\\n\",suspicion_count)"
   ]
  },
  {
   "cell_type": "code",
   "execution_count": 26,
   "metadata": {},
   "outputs": [
    {
     "name": "stdout",
     "output_type": "stream",
     "text": [
      "Average suspicion level among suspects:\n",
      " 4.0\n"
     ]
    }
   ],
   "source": [
    "#Part d: Calculating average\n",
    "average_suspicion = suspects_df['suspicion_level'].mean()\n",
    "print(\"Average suspicion level among suspects:\\n\",average_suspicion)"
   ]
  },
  {
   "cell_type": "markdown",
   "metadata": {},
   "source": [
    "##### Problem 5:   “Advanced Data Analysis with Pandas”\n",
    "Choose any dataset of your interest and load it into a Pandas DataFrame. Your task is to apply five \n",
    "advanced functions to extract insights and analyze the data effectively. First, use the GroupBy function \n",
    "to aggregate the data by a specific categorical column, calculating multiple statistics like the mean and \n",
    "count for relevant numerical columns. Next, create a Pivot Table to explore relationships between two \n",
    "categorical variables with corresponding numerical metrics. Merge your dataset with another related \n",
    "dataset to enhance your analysis, being mindful of any duplicates. If your dataset includes a time \n",
    "component, perform Time Series Analysis by resampling the data based on a chosen time period (e.g., \n",
    "daily or monthly) and calculating relevant statistics. Finally, use the apply() function to create a new \n",
    "column based on a custom function that combines or transforms existing data. Summarize your findings \n",
    "and insights derived from these analyses. <br>"
   ]
  },
  {
   "cell_type": "code",
   "execution_count": 27,
   "metadata": {},
   "outputs": [
    {
     "name": "stdout",
     "output_type": "stream",
     "text": [
      "Sample Datset:\n",
      "       Name   Department  Salary Joining_Date\n",
      "0    Aliya           HR   70000   2020-01-15\n",
      "1    Baber  Engineering   80000   2019-03-01\n",
      "2  Charles           HR   65000   2021-07-23\n",
      "3   Danish  Engineering   90000   2018-11-05\n",
      "4     Arif    Marketing   75000   2020-08-19\n",
      "Grouped by Department:\n",
      "     Department  Average_Salary  Employee_Count\n",
      "0  Engineering         85000.0               2\n",
      "1           HR         67500.0               2\n",
      "2    Marketing         75000.0               1\n",
      "Pivot Table of Average Salary by Department:\n",
      "               Salary\n",
      "Department          \n",
      "Engineering  85000.0\n",
      "HR           67500.0\n",
      "Marketing    75000.0\n",
      "Merged DataFrame with Bonuses:\n",
      "       Name   Department  Salary Joining_Date  Bonus\n",
      "0    Aliya           HR   70000   2020-01-15   5000\n",
      "1    Baber  Engineering   80000   2019-03-01   7000\n",
      "2  Charles           HR   65000   2021-07-23   5000\n",
      "3   Danish  Engineering   90000   2018-11-05   7000\n",
      "4     Arif    Marketing   75000   2020-08-19   6000\n",
      "DataFrame with Salary Category:\n",
      "       Name   Department  Salary Joining_Date Salary_Category\n",
      "0    Aliya           HR   70000   2020-01-15          Medium\n",
      "1    Baber  Engineering   80000   2019-03-01          Medium\n",
      "2  Charles           HR   65000   2021-07-23             Low\n",
      "3   Danish  Engineering   90000   2018-11-05            High\n",
      "4     Arif    Marketing   75000   2020-08-19          Medium\n"
     ]
    }
   ],
   "source": [
    "# Loading Sample employees data\n",
    "data1 = {\n",
    "    'Name': ['Aliya', 'Baber', 'Charles', 'Danish', 'Arif'],\n",
    "    'Department': ['HR', 'Engineering', 'HR', 'Engineering', 'Marketing'],\n",
    "    'Salary': [70000, 80000, 65000, 90000, 75000],\n",
    "    'Joining_Date': ['2020-01-15', '2019-03-01', '2021-07-23', '2018-11-05', '2020-08-19']\n",
    "}\n",
    "# Create DataFrame\n",
    "sample_df = pd.DataFrame(data1)\n",
    "print(\"Sample Datset:\\n\",sample_df)\n",
    "# Groupby Function\n",
    "grouped_df1 = sample_df.groupby('Department').agg(Average_Salary=('Salary', 'mean'),Employee_Count=('Name', 'count')).reset_index()\n",
    "print(\"Grouped by Department:\\n\",grouped_df1)\n",
    "# Pivot Table\n",
    "pivot_table = sample_df.pivot_table(values='Salary', index='Department', aggfunc='mean')\n",
    "print(\"Pivot Table of Average Salary by Department:\\n\",pivot_table)\n",
    "# Dataset 02\n",
    "bonus_data = {\n",
    "    'Department': ['HR', 'Engineering', 'Marketing'],\n",
    "    'Bonus': [5000, 7000, 6000]\n",
    "}\n",
    "bonus_df = pd.DataFrame(bonus_data)\n",
    "# Merge datasets\n",
    "merged_df = pd.merge(sample_df, bonus_df, on='Department', how='left')\n",
    "print(\"Merged DataFrame with Bonuses:\\n\",merged_df)\n",
    "# Function to categorize salary\n",
    "def categorize_salary(salary):\n",
    "    if salary < 70000:\n",
    "        return 'Low'\n",
    "    elif salary <= 80000:\n",
    "        return 'Medium'\n",
    "    else:\n",
    "        return 'High'\n",
    "\n",
    "# Apply function\n",
    "sample_df['Salary_Category'] = sample_df['Salary'].apply(categorize_salary)\n",
    "print(\"DataFrame with Salary Category:\\n\",sample_df)\n"
   ]
  },
  {
   "cell_type": "markdown",
   "metadata": {},
   "source": [
    "***"
   ]
  }
 ],
 "metadata": {
  "kernelspec": {
   "display_name": "Python 3",
   "language": "python",
   "name": "python3"
  },
  "language_info": {
   "codemirror_mode": {
    "name": "ipython",
    "version": 3
   },
   "file_extension": ".py",
   "mimetype": "text/x-python",
   "name": "python",
   "nbconvert_exporter": "python",
   "pygments_lexer": "ipython3",
   "version": "3.12.6"
  }
 },
 "nbformat": 4,
 "nbformat_minor": 2
}
