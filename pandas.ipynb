{
 "cells": [
  {
   "cell_type": "code",
   "execution_count": 1,
   "metadata": {},
   "outputs": [
    {
     "name": "stdout",
     "output_type": "stream",
     "text": [
      "Requirement already satisfied: pandas in c:\\users\\dns\\appdata\\local\\packages\\pythonsoftwarefoundation.python.3.11_qbz5n2kfra8p0\\localcache\\local-packages\\python311\\site-packages (2.1.1)\n",
      "Requirement already satisfied: numpy>=1.23.2 in c:\\users\\dns\\appdata\\local\\packages\\pythonsoftwarefoundation.python.3.11_qbz5n2kfra8p0\\localcache\\local-packages\\python311\\site-packages (from pandas) (1.26.0)\n",
      "Requirement already satisfied: python-dateutil>=2.8.2 in c:\\users\\dns\\appdata\\local\\packages\\pythonsoftwarefoundation.python.3.11_qbz5n2kfra8p0\\localcache\\local-packages\\python311\\site-packages (from pandas) (2.8.2)\n",
      "Requirement already satisfied: pytz>=2020.1 in c:\\users\\dns\\appdata\\local\\packages\\pythonsoftwarefoundation.python.3.11_qbz5n2kfra8p0\\localcache\\local-packages\\python311\\site-packages (from pandas) (2023.3.post1)\n",
      "Requirement already satisfied: tzdata>=2022.1 in c:\\users\\dns\\appdata\\local\\packages\\pythonsoftwarefoundation.python.3.11_qbz5n2kfra8p0\\localcache\\local-packages\\python311\\site-packages (from pandas) (2023.3)\n",
      "Requirement already satisfied: six>=1.5 in c:\\users\\dns\\appdata\\local\\packages\\pythonsoftwarefoundation.python.3.11_qbz5n2kfra8p0\\localcache\\local-packages\\python311\\site-packages (from python-dateutil>=2.8.2->pandas) (1.16.0)\n",
      "Note: you may need to restart the kernel to use updated packages.\n"
     ]
    },
    {
     "name": "stderr",
     "output_type": "stream",
     "text": [
      "\n",
      "[notice] A new release of pip is available: 24.0 -> 24.2\n",
      "[notice] To update, run: C:\\Users\\DNS\\AppData\\Local\\Microsoft\\WindowsApps\\PythonSoftwareFoundation.Python.3.11_qbz5n2kfra8p0\\python.exe -m pip install --upgrade pip\n"
     ]
    }
   ],
   "source": [
    "%pip install pandas"
   ]
  },
  {
   "cell_type": "code",
   "execution_count": 2,
   "metadata": {},
   "outputs": [
    {
     "name": "stdout",
     "output_type": "stream",
     "text": [
      "Requirement already satisfied: numpy in c:\\users\\dns\\appdata\\local\\packages\\pythonsoftwarefoundation.python.3.11_qbz5n2kfra8p0\\localcache\\local-packages\\python311\\site-packages (1.26.0)\n",
      "Note: you may need to restart the kernel to use updated packages.\n"
     ]
    },
    {
     "name": "stderr",
     "output_type": "stream",
     "text": [
      "\n",
      "[notice] A new release of pip is available: 24.0 -> 24.2\n",
      "[notice] To update, run: C:\\Users\\DNS\\AppData\\Local\\Microsoft\\WindowsApps\\PythonSoftwareFoundation.Python.3.11_qbz5n2kfra8p0\\python.exe -m pip install --upgrade pip\n"
     ]
    }
   ],
   "source": [
    "%pip install numpy"
   ]
  },
  {
   "cell_type": "code",
   "execution_count": 3,
   "metadata": {},
   "outputs": [],
   "source": [
    "import pandas as pd\n",
    "import numpy as np\n"
   ]
  },
  {
   "cell_type": "code",
   "execution_count": 4,
   "metadata": {},
   "outputs": [
    {
     "data": {
      "text/plain": [
       "0     1.0\n",
       "1     3.0\n",
       "2     5.0\n",
       "3     NaN\n",
       "4     6.0\n",
       "5     8.0\n",
       "6    10.0\n",
       "dtype: float64"
      ]
     },
     "execution_count": 4,
     "metadata": {},
     "output_type": "execute_result"
    }
   ],
   "source": [
    "s = pd.Series([1, 3, 5, np.nan, 6, 8,10])\n",
    "s\n"
   ]
  },
  {
   "cell_type": "code",
   "execution_count": 9,
   "metadata": {},
   "outputs": [
    {
     "data": {
      "text/plain": [
       "DatetimeIndex(['2024-09-19', '2024-09-20', '2024-09-21', '2024-09-22',\n",
       "               '2024-09-23', '2024-09-24'],\n",
       "              dtype='datetime64[ns]', freq='D')"
      ]
     },
     "execution_count": 9,
     "metadata": {},
     "output_type": "execute_result"
    }
   ],
   "source": [
    "dates = pd.date_range(\"20240919\", periods=6)\n",
    "dates"
   ]
  },
  {
   "cell_type": "code",
   "execution_count": 14,
   "metadata": {},
   "outputs": [
    {
     "data": {
      "text/html": [
       "<div>\n",
       "<style scoped>\n",
       "    .dataframe tbody tr th:only-of-type {\n",
       "        vertical-align: middle;\n",
       "    }\n",
       "\n",
       "    .dataframe tbody tr th {\n",
       "        vertical-align: top;\n",
       "    }\n",
       "\n",
       "    .dataframe thead th {\n",
       "        text-align: right;\n",
       "    }\n",
       "</style>\n",
       "<table border=\"1\" class=\"dataframe\">\n",
       "  <thead>\n",
       "    <tr style=\"text-align: right;\">\n",
       "      <th></th>\n",
       "      <th>A</th>\n",
       "      <th>Y</th>\n",
       "      <th>E</th>\n",
       "      <th>S</th>\n",
       "      <th>H</th>\n",
       "      <th>A</th>\n",
       "    </tr>\n",
       "  </thead>\n",
       "  <tbody>\n",
       "    <tr>\n",
       "      <th>2024-09-19</th>\n",
       "      <td>1.710166</td>\n",
       "      <td>-0.430204</td>\n",
       "      <td>0.558859</td>\n",
       "      <td>-0.632781</td>\n",
       "      <td>-0.597816</td>\n",
       "      <td>0.656340</td>\n",
       "    </tr>\n",
       "    <tr>\n",
       "      <th>2024-09-20</th>\n",
       "      <td>-0.137505</td>\n",
       "      <td>-0.881885</td>\n",
       "      <td>0.350507</td>\n",
       "      <td>1.354228</td>\n",
       "      <td>-0.838062</td>\n",
       "      <td>-0.711601</td>\n",
       "    </tr>\n",
       "    <tr>\n",
       "      <th>2024-09-21</th>\n",
       "      <td>1.161647</td>\n",
       "      <td>-1.124006</td>\n",
       "      <td>0.379385</td>\n",
       "      <td>0.531324</td>\n",
       "      <td>0.077783</td>\n",
       "      <td>0.923224</td>\n",
       "    </tr>\n",
       "    <tr>\n",
       "      <th>2024-09-22</th>\n",
       "      <td>0.023781</td>\n",
       "      <td>-0.537219</td>\n",
       "      <td>1.542975</td>\n",
       "      <td>0.692472</td>\n",
       "      <td>-0.953467</td>\n",
       "      <td>0.124304</td>\n",
       "    </tr>\n",
       "    <tr>\n",
       "      <th>2024-09-23</th>\n",
       "      <td>0.759776</td>\n",
       "      <td>0.537088</td>\n",
       "      <td>-0.411617</td>\n",
       "      <td>1.175868</td>\n",
       "      <td>0.167212</td>\n",
       "      <td>0.171248</td>\n",
       "    </tr>\n",
       "    <tr>\n",
       "      <th>2024-09-24</th>\n",
       "      <td>-1.503758</td>\n",
       "      <td>0.417469</td>\n",
       "      <td>0.062522</td>\n",
       "      <td>-0.599637</td>\n",
       "      <td>-0.196888</td>\n",
       "      <td>0.806890</td>\n",
       "    </tr>\n",
       "  </tbody>\n",
       "</table>\n",
       "</div>"
      ],
      "text/plain": [
       "                   A         Y         E         S         H         A\n",
       "2024-09-19  1.710166 -0.430204  0.558859 -0.632781 -0.597816  0.656340\n",
       "2024-09-20 -0.137505 -0.881885  0.350507  1.354228 -0.838062 -0.711601\n",
       "2024-09-21  1.161647 -1.124006  0.379385  0.531324  0.077783  0.923224\n",
       "2024-09-22  0.023781 -0.537219  1.542975  0.692472 -0.953467  0.124304\n",
       "2024-09-23  0.759776  0.537088 -0.411617  1.175868  0.167212  0.171248\n",
       "2024-09-24 -1.503758  0.417469  0.062522 -0.599637 -0.196888  0.806890"
      ]
     },
     "execution_count": 14,
     "metadata": {},
     "output_type": "execute_result"
    }
   ],
   "source": [
    "df = pd.DataFrame(np.random.randn(6, 6), index=dates, columns=list(\"AYESHA\"))\n",
    "df"
   ]
  },
  {
   "cell_type": "code",
   "execution_count": 35,
   "metadata": {},
   "outputs": [
    {
     "data": {
      "text/html": [
       "<div>\n",
       "<style scoped>\n",
       "    .dataframe tbody tr th:only-of-type {\n",
       "        vertical-align: middle;\n",
       "    }\n",
       "\n",
       "    .dataframe tbody tr th {\n",
       "        vertical-align: top;\n",
       "    }\n",
       "\n",
       "    .dataframe thead th {\n",
       "        text-align: right;\n",
       "    }\n",
       "</style>\n",
       "<table border=\"1\" class=\"dataframe\">\n",
       "  <thead>\n",
       "    <tr style=\"text-align: right;\">\n",
       "      <th></th>\n",
       "      <th>A</th>\n",
       "      <th>B</th>\n",
       "      <th>C</th>\n",
       "      <th>D</th>\n",
       "      <th>E</th>\n",
       "      <th>F</th>\n",
       "    </tr>\n",
       "  </thead>\n",
       "  <tbody>\n",
       "    <tr>\n",
       "      <th>0</th>\n",
       "      <td>5.0</td>\n",
       "      <td>2024-09-19</td>\n",
       "      <td>1.0</td>\n",
       "      <td>9</td>\n",
       "      <td>test</td>\n",
       "      <td>task</td>\n",
       "    </tr>\n",
       "    <tr>\n",
       "      <th>1</th>\n",
       "      <td>5.0</td>\n",
       "      <td>2024-09-19</td>\n",
       "      <td>1.0</td>\n",
       "      <td>9</td>\n",
       "      <td>train</td>\n",
       "      <td>task</td>\n",
       "    </tr>\n",
       "    <tr>\n",
       "      <th>2</th>\n",
       "      <td>5.0</td>\n",
       "      <td>2024-09-19</td>\n",
       "      <td>1.0</td>\n",
       "      <td>9</td>\n",
       "      <td>validate</td>\n",
       "      <td>task</td>\n",
       "    </tr>\n",
       "    <tr>\n",
       "      <th>3</th>\n",
       "      <td>5.0</td>\n",
       "      <td>2024-09-19</td>\n",
       "      <td>1.0</td>\n",
       "      <td>9</td>\n",
       "      <td>learn</td>\n",
       "      <td>task</td>\n",
       "    </tr>\n",
       "  </tbody>\n",
       "</table>\n",
       "</div>"
      ],
      "text/plain": [
       "     A          B    C  D         E     F\n",
       "0  5.0 2024-09-19  1.0  9      test  task\n",
       "1  5.0 2024-09-19  1.0  9     train  task\n",
       "2  5.0 2024-09-19  1.0  9  validate  task\n",
       "3  5.0 2024-09-19  1.0  9     learn  task"
      ]
     },
     "execution_count": 35,
     "metadata": {},
     "output_type": "execute_result"
    }
   ],
   "source": [
    "df2=pd.DataFrame(\n",
    "   {\n",
    "        \"A\": 5.0,\n",
    "        \"B\": pd.Timestamp(\"20240919\"),\n",
    "        \"C\": pd.Series(1, index=list(range(4)), dtype=\"float32\"),\n",
    "        \"D\": np.array([9] * 4, dtype=\"int32\"),\n",
    "        \"E\": pd.Categorical([\"test\", \"train\", \"validate\", \"learn\"]),\n",
    "        \"F\": \"task\",\n",
    "    }\n",
    ")\n",
    "df2"
   ]
  },
  {
   "cell_type": "code",
   "execution_count": 39,
   "metadata": {},
   "outputs": [
    {
     "data": {
      "text/plain": [
       "A          float64\n",
       "B    datetime64[s]\n",
       "C          float32\n",
       "D            int32\n",
       "E         category\n",
       "F           object\n",
       "dtype: object"
      ]
     },
     "execution_count": 39,
     "metadata": {},
     "output_type": "execute_result"
    }
   ],
   "source": [
    "df2.dtypes"
   ]
  },
  {
   "cell_type": "code",
   "execution_count": 40,
   "metadata": {},
   "outputs": [
    {
     "data": {
      "text/html": [
       "<div>\n",
       "<style scoped>\n",
       "    .dataframe tbody tr th:only-of-type {\n",
       "        vertical-align: middle;\n",
       "    }\n",
       "\n",
       "    .dataframe tbody tr th {\n",
       "        vertical-align: top;\n",
       "    }\n",
       "\n",
       "    .dataframe thead th {\n",
       "        text-align: right;\n",
       "    }\n",
       "</style>\n",
       "<table border=\"1\" class=\"dataframe\">\n",
       "  <thead>\n",
       "    <tr style=\"text-align: right;\">\n",
       "      <th></th>\n",
       "      <th>A</th>\n",
       "      <th>Y</th>\n",
       "      <th>E</th>\n",
       "      <th>S</th>\n",
       "      <th>H</th>\n",
       "      <th>A</th>\n",
       "    </tr>\n",
       "  </thead>\n",
       "  <tbody>\n",
       "    <tr>\n",
       "      <th>2024-09-19</th>\n",
       "      <td>1.710166</td>\n",
       "      <td>-0.430204</td>\n",
       "      <td>0.558859</td>\n",
       "      <td>-0.632781</td>\n",
       "      <td>-0.597816</td>\n",
       "      <td>0.656340</td>\n",
       "    </tr>\n",
       "    <tr>\n",
       "      <th>2024-09-20</th>\n",
       "      <td>-0.137505</td>\n",
       "      <td>-0.881885</td>\n",
       "      <td>0.350507</td>\n",
       "      <td>1.354228</td>\n",
       "      <td>-0.838062</td>\n",
       "      <td>-0.711601</td>\n",
       "    </tr>\n",
       "  </tbody>\n",
       "</table>\n",
       "</div>"
      ],
      "text/plain": [
       "                   A         Y         E         S         H         A\n",
       "2024-09-19  1.710166 -0.430204  0.558859 -0.632781 -0.597816  0.656340\n",
       "2024-09-20 -0.137505 -0.881885  0.350507  1.354228 -0.838062 -0.711601"
      ]
     },
     "execution_count": 40,
     "metadata": {},
     "output_type": "execute_result"
    }
   ],
   "source": [
    "df.head(2)"
   ]
  },
  {
   "cell_type": "code",
   "execution_count": 41,
   "metadata": {},
   "outputs": [
    {
     "data": {
      "text/html": [
       "<div>\n",
       "<style scoped>\n",
       "    .dataframe tbody tr th:only-of-type {\n",
       "        vertical-align: middle;\n",
       "    }\n",
       "\n",
       "    .dataframe tbody tr th {\n",
       "        vertical-align: top;\n",
       "    }\n",
       "\n",
       "    .dataframe thead th {\n",
       "        text-align: right;\n",
       "    }\n",
       "</style>\n",
       "<table border=\"1\" class=\"dataframe\">\n",
       "  <thead>\n",
       "    <tr style=\"text-align: right;\">\n",
       "      <th></th>\n",
       "      <th>A</th>\n",
       "      <th>Y</th>\n",
       "      <th>E</th>\n",
       "      <th>S</th>\n",
       "      <th>H</th>\n",
       "      <th>A</th>\n",
       "    </tr>\n",
       "  </thead>\n",
       "  <tbody>\n",
       "    <tr>\n",
       "      <th>2024-09-21</th>\n",
       "      <td>1.161647</td>\n",
       "      <td>-1.124006</td>\n",
       "      <td>0.379385</td>\n",
       "      <td>0.531324</td>\n",
       "      <td>0.077783</td>\n",
       "      <td>0.923224</td>\n",
       "    </tr>\n",
       "    <tr>\n",
       "      <th>2024-09-22</th>\n",
       "      <td>0.023781</td>\n",
       "      <td>-0.537219</td>\n",
       "      <td>1.542975</td>\n",
       "      <td>0.692472</td>\n",
       "      <td>-0.953467</td>\n",
       "      <td>0.124304</td>\n",
       "    </tr>\n",
       "    <tr>\n",
       "      <th>2024-09-23</th>\n",
       "      <td>0.759776</td>\n",
       "      <td>0.537088</td>\n",
       "      <td>-0.411617</td>\n",
       "      <td>1.175868</td>\n",
       "      <td>0.167212</td>\n",
       "      <td>0.171248</td>\n",
       "    </tr>\n",
       "    <tr>\n",
       "      <th>2024-09-24</th>\n",
       "      <td>-1.503758</td>\n",
       "      <td>0.417469</td>\n",
       "      <td>0.062522</td>\n",
       "      <td>-0.599637</td>\n",
       "      <td>-0.196888</td>\n",
       "      <td>0.806890</td>\n",
       "    </tr>\n",
       "  </tbody>\n",
       "</table>\n",
       "</div>"
      ],
      "text/plain": [
       "                   A         Y         E         S         H         A\n",
       "2024-09-21  1.161647 -1.124006  0.379385  0.531324  0.077783  0.923224\n",
       "2024-09-22  0.023781 -0.537219  1.542975  0.692472 -0.953467  0.124304\n",
       "2024-09-23  0.759776  0.537088 -0.411617  1.175868  0.167212  0.171248\n",
       "2024-09-24 -1.503758  0.417469  0.062522 -0.599637 -0.196888  0.806890"
      ]
     },
     "execution_count": 41,
     "metadata": {},
     "output_type": "execute_result"
    }
   ],
   "source": [
    "df.tail(4)"
   ]
  },
  {
   "cell_type": "code",
   "execution_count": 44,
   "metadata": {},
   "outputs": [
    {
     "data": {
      "text/plain": [
       "Index([0, 1, 2, 3], dtype='int64')"
      ]
     },
     "execution_count": 44,
     "metadata": {},
     "output_type": "execute_result"
    }
   ],
   "source": [
    "df2.index"
   ]
  },
  {
   "cell_type": "code",
   "execution_count": 53,
   "metadata": {},
   "outputs": [
    {
     "data": {
      "text/plain": [
       "<bound method DataFrame.combine of                    A         Y         E         S         H         A\n",
       "2024-09-19  1.710166 -0.430204  0.558859 -0.632781 -0.597816  0.656340\n",
       "2024-09-20 -0.137505 -0.881885  0.350507  1.354228 -0.838062 -0.711601\n",
       "2024-09-21  1.161647 -1.124006  0.379385  0.531324  0.077783  0.923224\n",
       "2024-09-22  0.023781 -0.537219  1.542975  0.692472 -0.953467  0.124304\n",
       "2024-09-23  0.759776  0.537088 -0.411617  1.175868  0.167212  0.171248\n",
       "2024-09-24 -1.503758  0.417469  0.062522 -0.599637 -0.196888  0.806890>"
      ]
     },
     "execution_count": 53,
     "metadata": {},
     "output_type": "execute_result"
    }
   ],
   "source": [
    "df.combine"
   ]
  },
  {
   "cell_type": "code",
   "execution_count": 51,
   "metadata": {},
   "outputs": [
    {
     "data": {
      "text/plain": [
       "Index(['A', 'B', 'C', 'D', 'E', 'F'], dtype='object')"
      ]
     },
     "execution_count": 51,
     "metadata": {},
     "output_type": "execute_result"
    }
   ],
   "source": [
    "df2.columns"
   ]
  },
  {
   "cell_type": "code",
   "execution_count": 49,
   "metadata": {},
   "outputs": [
    {
     "data": {
      "text/html": [
       "<div>\n",
       "<style scoped>\n",
       "    .dataframe tbody tr th:only-of-type {\n",
       "        vertical-align: middle;\n",
       "    }\n",
       "\n",
       "    .dataframe tbody tr th {\n",
       "        vertical-align: top;\n",
       "    }\n",
       "\n",
       "    .dataframe thead th {\n",
       "        text-align: right;\n",
       "    }\n",
       "</style>\n",
       "<table border=\"1\" class=\"dataframe\">\n",
       "  <thead>\n",
       "    <tr style=\"text-align: right;\">\n",
       "      <th></th>\n",
       "      <th>A</th>\n",
       "      <th>B</th>\n",
       "      <th>C</th>\n",
       "      <th>D</th>\n",
       "    </tr>\n",
       "  </thead>\n",
       "  <tbody>\n",
       "    <tr>\n",
       "      <th>count</th>\n",
       "      <td>4.0</td>\n",
       "      <td>4</td>\n",
       "      <td>4.0</td>\n",
       "      <td>4.0</td>\n",
       "    </tr>\n",
       "    <tr>\n",
       "      <th>mean</th>\n",
       "      <td>5.0</td>\n",
       "      <td>2024-09-19 00:00:00</td>\n",
       "      <td>1.0</td>\n",
       "      <td>9.0</td>\n",
       "    </tr>\n",
       "    <tr>\n",
       "      <th>min</th>\n",
       "      <td>5.0</td>\n",
       "      <td>2024-09-19 00:00:00</td>\n",
       "      <td>1.0</td>\n",
       "      <td>9.0</td>\n",
       "    </tr>\n",
       "    <tr>\n",
       "      <th>25%</th>\n",
       "      <td>5.0</td>\n",
       "      <td>2024-09-19 00:00:00</td>\n",
       "      <td>1.0</td>\n",
       "      <td>9.0</td>\n",
       "    </tr>\n",
       "    <tr>\n",
       "      <th>50%</th>\n",
       "      <td>5.0</td>\n",
       "      <td>2024-09-19 00:00:00</td>\n",
       "      <td>1.0</td>\n",
       "      <td>9.0</td>\n",
       "    </tr>\n",
       "    <tr>\n",
       "      <th>75%</th>\n",
       "      <td>5.0</td>\n",
       "      <td>2024-09-19 00:00:00</td>\n",
       "      <td>1.0</td>\n",
       "      <td>9.0</td>\n",
       "    </tr>\n",
       "    <tr>\n",
       "      <th>max</th>\n",
       "      <td>5.0</td>\n",
       "      <td>2024-09-19 00:00:00</td>\n",
       "      <td>1.0</td>\n",
       "      <td>9.0</td>\n",
       "    </tr>\n",
       "    <tr>\n",
       "      <th>std</th>\n",
       "      <td>0.0</td>\n",
       "      <td>NaN</td>\n",
       "      <td>0.0</td>\n",
       "      <td>0.0</td>\n",
       "    </tr>\n",
       "  </tbody>\n",
       "</table>\n",
       "</div>"
      ],
      "text/plain": [
       "         A                    B    C    D\n",
       "count  4.0                    4  4.0  4.0\n",
       "mean   5.0  2024-09-19 00:00:00  1.0  9.0\n",
       "min    5.0  2024-09-19 00:00:00  1.0  9.0\n",
       "25%    5.0  2024-09-19 00:00:00  1.0  9.0\n",
       "50%    5.0  2024-09-19 00:00:00  1.0  9.0\n",
       "75%    5.0  2024-09-19 00:00:00  1.0  9.0\n",
       "max    5.0  2024-09-19 00:00:00  1.0  9.0\n",
       "std    0.0                  NaN  0.0  0.0"
      ]
     },
     "execution_count": 49,
     "metadata": {},
     "output_type": "execute_result"
    }
   ],
   "source": [
    "df2.describe()"
   ]
  },
  {
   "cell_type": "code",
   "execution_count": 55,
   "metadata": {},
   "outputs": [
    {
     "name": "stdout",
     "output_type": "stream",
     "text": [
      "<class 'pandas.core.frame.DataFrame'>\n",
      "Index: 4 entries, 0 to 3\n",
      "Data columns (total 6 columns):\n",
      " #   Column  Non-Null Count  Dtype        \n",
      "---  ------  --------------  -----        \n",
      " 0   A       4 non-null      float64      \n",
      " 1   B       4 non-null      datetime64[s]\n",
      " 2   C       4 non-null      float32      \n",
      " 3   D       4 non-null      int32        \n",
      " 4   E       4 non-null      category     \n",
      " 5   F       4 non-null      object       \n",
      "dtypes: category(1), datetime64[s](1), float32(1), float64(1), int32(1), object(1)\n",
      "memory usage: 368.0+ bytes\n"
     ]
    }
   ],
   "source": [
    "df2.info()"
   ]
  },
  {
   "cell_type": "code",
   "execution_count": 56,
   "metadata": {},
   "outputs": [
    {
     "data": {
      "text/html": [
       "<div>\n",
       "<style scoped>\n",
       "    .dataframe tbody tr th:only-of-type {\n",
       "        vertical-align: middle;\n",
       "    }\n",
       "\n",
       "    .dataframe tbody tr th {\n",
       "        vertical-align: top;\n",
       "    }\n",
       "\n",
       "    .dataframe thead th {\n",
       "        text-align: right;\n",
       "    }\n",
       "</style>\n",
       "<table border=\"1\" class=\"dataframe\">\n",
       "  <thead>\n",
       "    <tr style=\"text-align: right;\">\n",
       "      <th></th>\n",
       "      <th>0</th>\n",
       "      <th>1</th>\n",
       "      <th>2</th>\n",
       "      <th>3</th>\n",
       "    </tr>\n",
       "  </thead>\n",
       "  <tbody>\n",
       "    <tr>\n",
       "      <th>A</th>\n",
       "      <td>5.0</td>\n",
       "      <td>5.0</td>\n",
       "      <td>5.0</td>\n",
       "      <td>5.0</td>\n",
       "    </tr>\n",
       "    <tr>\n",
       "      <th>B</th>\n",
       "      <td>2024-09-19 00:00:00</td>\n",
       "      <td>2024-09-19 00:00:00</td>\n",
       "      <td>2024-09-19 00:00:00</td>\n",
       "      <td>2024-09-19 00:00:00</td>\n",
       "    </tr>\n",
       "    <tr>\n",
       "      <th>C</th>\n",
       "      <td>1.0</td>\n",
       "      <td>1.0</td>\n",
       "      <td>1.0</td>\n",
       "      <td>1.0</td>\n",
       "    </tr>\n",
       "    <tr>\n",
       "      <th>D</th>\n",
       "      <td>9</td>\n",
       "      <td>9</td>\n",
       "      <td>9</td>\n",
       "      <td>9</td>\n",
       "    </tr>\n",
       "    <tr>\n",
       "      <th>E</th>\n",
       "      <td>test</td>\n",
       "      <td>train</td>\n",
       "      <td>validate</td>\n",
       "      <td>learn</td>\n",
       "    </tr>\n",
       "    <tr>\n",
       "      <th>F</th>\n",
       "      <td>task</td>\n",
       "      <td>task</td>\n",
       "      <td>task</td>\n",
       "      <td>task</td>\n",
       "    </tr>\n",
       "  </tbody>\n",
       "</table>\n",
       "</div>"
      ],
      "text/plain": [
       "                     0                    1                    2  \\\n",
       "A                  5.0                  5.0                  5.0   \n",
       "B  2024-09-19 00:00:00  2024-09-19 00:00:00  2024-09-19 00:00:00   \n",
       "C                  1.0                  1.0                  1.0   \n",
       "D                    9                    9                    9   \n",
       "E                 test                train             validate   \n",
       "F                 task                 task                 task   \n",
       "\n",
       "                     3  \n",
       "A                  5.0  \n",
       "B  2024-09-19 00:00:00  \n",
       "C                  1.0  \n",
       "D                    9  \n",
       "E                learn  \n",
       "F                 task  "
      ]
     },
     "execution_count": 56,
     "metadata": {},
     "output_type": "execute_result"
    }
   ],
   "source": [
    "df2.T"
   ]
  },
  {
   "cell_type": "code",
   "execution_count": 62,
   "metadata": {},
   "outputs": [
    {
     "data": {
      "text/plain": [
       "A    0.335685\n",
       "Y   -0.336460\n",
       "E    0.413772\n",
       "S    0.420246\n",
       "H   -0.390206\n",
       "A    0.328401\n",
       "dtype: float64"
      ]
     },
     "execution_count": 62,
     "metadata": {},
     "output_type": "execute_result"
    }
   ],
   "source": [
    "df.mean()"
   ]
  },
  {
   "cell_type": "code",
   "execution_count": 64,
   "metadata": {},
   "outputs": [
    {
     "data": {
      "text/html": [
       "<div>\n",
       "<style scoped>\n",
       "    .dataframe tbody tr th:only-of-type {\n",
       "        vertical-align: middle;\n",
       "    }\n",
       "\n",
       "    .dataframe tbody tr th {\n",
       "        vertical-align: top;\n",
       "    }\n",
       "\n",
       "    .dataframe thead th {\n",
       "        text-align: right;\n",
       "    }\n",
       "</style>\n",
       "<table border=\"1\" class=\"dataframe\">\n",
       "  <thead>\n",
       "    <tr style=\"text-align: right;\">\n",
       "      <th></th>\n",
       "      <th>A</th>\n",
       "      <th>Y</th>\n",
       "      <th>E</th>\n",
       "      <th>S</th>\n",
       "      <th>H</th>\n",
       "      <th>A</th>\n",
       "    </tr>\n",
       "  </thead>\n",
       "  <tbody>\n",
       "    <tr>\n",
       "      <th>0</th>\n",
       "      <td>-1.503758</td>\n",
       "      <td>-1.124006</td>\n",
       "      <td>-0.411617</td>\n",
       "      <td>-0.632781</td>\n",
       "      <td>-0.953467</td>\n",
       "      <td>-0.711601</td>\n",
       "    </tr>\n",
       "    <tr>\n",
       "      <th>1</th>\n",
       "      <td>-0.137505</td>\n",
       "      <td>-0.881885</td>\n",
       "      <td>0.062522</td>\n",
       "      <td>-0.599637</td>\n",
       "      <td>-0.838062</td>\n",
       "      <td>0.124304</td>\n",
       "    </tr>\n",
       "    <tr>\n",
       "      <th>2</th>\n",
       "      <td>0.023781</td>\n",
       "      <td>-0.537219</td>\n",
       "      <td>0.350507</td>\n",
       "      <td>0.531324</td>\n",
       "      <td>-0.597816</td>\n",
       "      <td>0.171248</td>\n",
       "    </tr>\n",
       "    <tr>\n",
       "      <th>3</th>\n",
       "      <td>0.759776</td>\n",
       "      <td>-0.430204</td>\n",
       "      <td>0.379385</td>\n",
       "      <td>0.692472</td>\n",
       "      <td>-0.196888</td>\n",
       "      <td>0.656340</td>\n",
       "    </tr>\n",
       "    <tr>\n",
       "      <th>4</th>\n",
       "      <td>1.161647</td>\n",
       "      <td>0.417469</td>\n",
       "      <td>0.558859</td>\n",
       "      <td>1.175868</td>\n",
       "      <td>0.077783</td>\n",
       "      <td>0.806890</td>\n",
       "    </tr>\n",
       "    <tr>\n",
       "      <th>5</th>\n",
       "      <td>1.710166</td>\n",
       "      <td>0.537088</td>\n",
       "      <td>1.542975</td>\n",
       "      <td>1.354228</td>\n",
       "      <td>0.167212</td>\n",
       "      <td>0.923224</td>\n",
       "    </tr>\n",
       "  </tbody>\n",
       "</table>\n",
       "</div>"
      ],
      "text/plain": [
       "          A         Y         E         S         H         A\n",
       "0 -1.503758 -1.124006 -0.411617 -0.632781 -0.953467 -0.711601\n",
       "1 -0.137505 -0.881885  0.062522 -0.599637 -0.838062  0.124304\n",
       "2  0.023781 -0.537219  0.350507  0.531324 -0.597816  0.171248\n",
       "3  0.759776 -0.430204  0.379385  0.692472 -0.196888  0.656340\n",
       "4  1.161647  0.417469  0.558859  1.175868  0.077783  0.806890\n",
       "5  1.710166  0.537088  1.542975  1.354228  0.167212  0.923224"
      ]
     },
     "execution_count": 64,
     "metadata": {},
     "output_type": "execute_result"
    }
   ],
   "source": [
    "df.mode()"
   ]
  },
  {
   "cell_type": "code",
   "execution_count": 65,
   "metadata": {},
   "outputs": [
    {
     "data": {
      "text/plain": [
       "A    0.391779\n",
       "Y   -0.483711\n",
       "E    0.364946\n",
       "S    0.611898\n",
       "H   -0.397352\n",
       "A    0.413794\n",
       "dtype: float64"
      ]
     },
     "execution_count": 65,
     "metadata": {},
     "output_type": "execute_result"
    }
   ],
   "source": [
    "df.median()"
   ]
  }
 ],
 "metadata": {
  "kernelspec": {
   "display_name": "Python 3",
   "language": "python",
   "name": "python3"
  },
  "language_info": {
   "codemirror_mode": {
    "name": "ipython",
    "version": 3
   },
   "file_extension": ".py",
   "mimetype": "text/x-python",
   "name": "python",
   "nbconvert_exporter": "python",
   "pygments_lexer": "ipython3",
   "version": "3.11.9"
  }
 },
 "nbformat": 4,
 "nbformat_minor": 2
}
