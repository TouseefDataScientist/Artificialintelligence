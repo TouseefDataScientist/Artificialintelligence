{
 "cells": [
  {
   "cell_type": "markdown",
   "metadata": {},
   "source": [
    " ## **Heading 1**"
   ]
  },
  {
   "cell_type": "markdown",
   "metadata": {},
   "source": [
    "**I hate coding cuz i feel frustration while coding**"
   ]
  },
  {
   "cell_type": "markdown",
   "metadata": {},
   "source": [
    "*Our goal is to complete our AI & ML course in just 3 months*"
   ]
  },
  {
   "cell_type": "markdown",
   "metadata": {},
   "source": [
    ">I love traveling while my Special Bike is with me"
   ]
  },
  {
   "cell_type": "markdown",
   "metadata": {},
   "source": [
    ">>My monthly Expense is higher then my Salary \n",
    ">\n",
    ">>Now a days political situation is abnormal"
   ]
  },
  {
   "cell_type": "markdown",
   "metadata": {},
   "source": [
    "### sale grater then expectation\n",
    ">\n",
    "> - revenue was off the chart.\n",
    "> - profit was higher then previous month"
   ]
  },
  {
   "cell_type": "markdown",
   "metadata": {},
   "source": [
    "####list\n",
    "1. First item\n",
    "2. Second item\n",
    "3. Third item\n",
    "4. Fourth item"
   ]
  },
  {
   "cell_type": "markdown",
   "metadata": {},
   "source": [
    "**open the file.**\n"
   ]
  },
  {
   "cell_type": "markdown",
   "metadata": {},
   "source": [
    "1. Open the file.\n",
    "2. Find the following code block on line 21:\n",
    "\n",
    "        <html>\n",
    "          <head>\n",
    "            <title>Test</title>\n",
    "          </head>\n",
    "\n",
    "3. Update the title to match the name of your website.\n"
   ]
  },
  {
   "cell_type": "markdown",
   "metadata": {},
   "source": [
    "<https://www.markdownguide.org>\n",
    "\n",
    "<fake@example.com>"
   ]
  }
 ],
 "metadata": {
  "language_info": {
   "name": "python"
  }
 },
 "nbformat": 4,
 "nbformat_minor": 2
}
