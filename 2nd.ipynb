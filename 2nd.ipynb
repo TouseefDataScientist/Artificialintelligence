{
 "cells": [
  {
   "cell_type": "markdown",
   "metadata": {},
   "source": [
    "# Ali Annas\n",
    "# Problem 01: \n",
    "### a. Create a NumPy array of shape (4, 5) filled with random integers between 1 and 100."
   ]
  },
  {
   "cell_type": "code",
   "execution_count": 1,
   "metadata": {},
   "outputs": [
    {
     "name": "stdout",
     "output_type": "stream",
     "text": [
      "[[28 29 58 70 34]\n",
      " [19 13 96 99  6]\n",
      " [43 76 29  4 81]\n",
      " [37 82 59 50 79]]\n"
     ]
    }
   ],
   "source": [
    "import numpy as np\n",
    "array = np.random.randint(1, 101, size=(4, 5))\n",
    "print(array)\n"
   ]
  },
  {
   "cell_type": "markdown",
   "metadata": {},
   "source": [
    "### b. Reshape the array into a shape of (2, 10) and explain how reshaping works in NumPy."
   ]
  },
  {
   "cell_type": "code",
   "execution_count": 2,
   "metadata": {},
   "outputs": [
    {
     "name": "stdout",
     "output_type": "stream",
     "text": [
      "[[28 29 58 70 34 19 13 96 99  6]\n",
      " [43 76 29  4 81 37 82 59 50 79]]\n"
     ]
    }
   ],
   "source": [
    "reshaped_array = array.reshape(2, 10)\n",
    "print(reshaped_array)\n",
    "# Explanation: Reshaping allows arrays to be rearranged without changing data. The product of dimensions must remain constant.\n"
   ]
  },
  {
   "cell_type": "markdown",
   "metadata": {},
   "source": [
    "### c. Perform element-wise addition with another array of shape (2, 10) and discuss broadcasting rules."
   ]
  },
  {
   "cell_type": "code",
   "execution_count": 3,
   "metadata": {},
   "outputs": [
    {
     "name": "stdout",
     "output_type": "stream",
     "text": [
      "[[ 35 100  72 102 134  64 109 188 116  79]\n",
      " [ 81 163 116  69 126 137 174 100  98 101]]\n"
     ]
    }
   ],
   "source": [
    "array2 = np.random.randint(1, 101, size=(2, 10))\n",
    "result = reshaped_array + array2\n",
    "print(result)\n",
    "# Broadcasting: NumPy automatically adjusts arrays to have compatible shapes for element-wise operations.\n"
   ]
  },
  {
   "cell_type": "markdown",
   "metadata": {},
   "source": [
    "### d. Calculate the dot product of two compatible arrays and explain its significance."
   ]
  },
  {
   "cell_type": "code",
   "execution_count": 4,
   "metadata": {},
   "outputs": [
    {
     "name": "stdout",
     "output_type": "stream",
     "text": [
      "[[21763 26629]\n",
      " [35913 32475]]\n"
     ]
    }
   ],
   "source": [
    "dot_product = np.dot(reshaped_array, array2.T)\n",
    "print(dot_product)\n",
    "# Dot product: A key operation in linear algebra used for transformations and projections.\n"
   ]
  },
  {
   "cell_type": "markdown",
   "metadata": {},
   "source": [
    "### e. Create a masked array from the original array, masking all values below the median."
   ]
  },
  {
   "cell_type": "code",
   "execution_count": 5,
   "metadata": {},
   "outputs": [
    {
     "name": "stdout",
     "output_type": "stream",
     "text": [
      "[[-- -- 58 70 --]\n",
      " [-- -- 96 99 --]\n",
      " [-- 76 -- -- 81]\n",
      " [-- 82 59 50 79]]\n"
     ]
    }
   ],
   "source": [
    "median_value = np.median(array)\n",
    "masked_array = np.ma.masked_less(array, median_value)\n",
    "print(masked_array)\n",
    "# Masked arrays allow you to handle invalid or unwanted data by masking elements.\n"
   ]
  },
  {
   "cell_type": "markdown",
   "metadata": {},
   "source": [
    "# Problem 02: “Exploring NumPy Broadcasting and Strides”\n",
    "### a. Explain broadcasting and give an example."
   ]
  },
  {
   "cell_type": "code",
   "execution_count": 6,
   "metadata": {},
   "outputs": [
    {
     "name": "stdout",
     "output_type": "stream",
     "text": [
      "[[2 3 4]\n",
      " [3 4 5]\n",
      " [4 5 6]]\n"
     ]
    }
   ],
   "source": [
    "array1 = np.array([1, 2, 3])\n",
    "array2 = np.array([[1], [2], [3]])\n",
    "result = array1 + array2\n",
    "print(result)\n",
    "# Broadcasting allows smaller arrays to be broadcasted to larger shapes for element-wise operations.\n"
   ]
  },
  {
   "cell_type": "markdown",
   "metadata": {},
   "source": [
    "### b. Create two arrays with different shapes and perform an arithmetic operation."
   ]
  },
  {
   "cell_type": "code",
   "execution_count": 7,
   "metadata": {},
   "outputs": [
    {
     "name": "stdout",
     "output_type": "stream",
     "text": [
      "[[1 2 3]\n",
      " [2 4 6]\n",
      " [3 6 9]]\n"
     ]
    }
   ],
   "source": [
    "array1 = np.array([1, 2, 3])\n",
    "array2 = np.array([[1], [2], [3]])\n",
    "result = array1 * array2\n",
    "print(result)\n"
   ]
  },
  {
   "cell_type": "markdown",
   "metadata": {},
   "source": [
    "### c. Discuss how strides affect memory access patterns.\n",
    "### d. Example demonstrating the impact of strides."
   ]
  },
  {
   "cell_type": "code",
   "execution_count": 8,
   "metadata": {},
   "outputs": [
    {
     "name": "stdout",
     "output_type": "stream",
     "text": [
      "[[0 2]\n",
      " [6 8]]\n"
     ]
    }
   ],
   "source": [
    "array = np.arange(9).reshape(3, 3)\n",
    "sliced = array[::2, ::2]\n",
    "print(sliced)\n"
   ]
  },
  {
   "cell_type": "markdown",
   "metadata": {},
   "source": [
    "# Problem 03: “Advanced Array Manipulation with NumPy”\n",
    "### a. Create a 3D NumPy array representing an RGB image."
   ]
  },
  {
   "cell_type": "code",
   "execution_count": 9,
   "metadata": {},
   "outputs": [],
   "source": [
    "image = np.random.randint(0, 256, size=(100, 100, 3))  # RGB image\n",
    "red_channel = image[:, :, 0]\n"
   ]
  },
  {
   "cell_type": "markdown",
   "metadata": {},
   "source": [
    "### b. Flatten the 3D array into a 1D array."
   ]
  },
  {
   "cell_type": "code",
   "execution_count": 10,
   "metadata": {},
   "outputs": [],
   "source": [
    "flattened = image.flatten()\n"
   ]
  },
  {
   "cell_type": "markdown",
   "metadata": {},
   "source": [
    "c. Use slicing to extract a sub-array and explain views vs. copies."
   ]
  },
  {
   "cell_type": "code",
   "execution_count": 11,
   "metadata": {},
   "outputs": [],
   "source": [
    "sub_array = image[10:20, 10:20, :]\n",
    "# Views share data with the original array, while copies create independent arrays.\n"
   ]
  },
  {
   "cell_type": "markdown",
   "metadata": {},
   "source": [
    "# d. Advantages of NumPy over Python lists.\n",
    "\n",
    "# e. Function to normalize pixel values to [0, 1]."
   ]
  },
  {
   "cell_type": "code",
   "execution_count": 12,
   "metadata": {},
   "outputs": [],
   "source": [
    "def normalize(image):\n",
    "    return image / 255.0\n"
   ]
  },
  {
   "cell_type": "markdown",
   "metadata": {},
   "source": [
    "# Problem 04: “NumPy for Statistical Analysis”\n",
    "### a. Generate a NumPy array of 1000 random numbers and calculate basic statistics."
   ]
  },
  {
   "cell_type": "code",
   "execution_count": 13,
   "metadata": {},
   "outputs": [],
   "source": [
    "data = np.random.randn(1000)\n",
    "mean = np.mean(data)\n",
    "median = np.median(data)\n",
    "variance = np.var(data)\n"
   ]
  },
  {
   "cell_type": "markdown",
   "metadata": {},
   "source": [
    "### b. Population vs. sample statistics."
   ]
  },
  {
   "cell_type": "code",
   "execution_count": 14,
   "metadata": {},
   "outputs": [],
   "source": [
    "sample_variance = np.var(data, ddof=1)\n"
   ]
  },
  {
   "cell_type": "markdown",
   "metadata": {},
   "source": [
    "### c. Create a histogram of random numbers."
   ]
  },
  {
   "cell_type": "code",
   "execution_count": 15,
   "metadata": {},
   "outputs": [
    {
     "data": {
      "text/plain": [
       "(array([ 3.,  5.,  4.,  6.,  4., 12., 14., 30., 30., 42., 42., 62., 90.,\n",
       "        87., 88., 80., 77., 76., 44., 68., 32., 38., 16., 16., 14., 10.,\n",
       "         2.,  4.,  1.,  3.]),\n",
       " array([-3.14441767, -2.93439704, -2.7243764 , -2.51435577, -2.30433514,\n",
       "        -2.09431451, -1.88429387, -1.67427324, -1.46425261, -1.25423197,\n",
       "        -1.04421134, -0.83419071, -0.62417008, -0.41414944, -0.20412881,\n",
       "         0.00589182,  0.21591246,  0.42593309,  0.63595372,  0.84597435,\n",
       "         1.05599499,  1.26601562,  1.47603625,  1.68605689,  1.89607752,\n",
       "         2.10609815,  2.31611878,  2.52613942,  2.73616005,  2.94618068,\n",
       "         3.15620132]),\n",
       " <BarContainer object of 30 artists>)"
      ]
     },
     "execution_count": 15,
     "metadata": {},
     "output_type": "execute_result"
    },
    {
     "data": {
      "image/png": "[encoded data removed]",
      "text/plain": [
       "<Figure size 640x480 with 1 Axes>"
      ]
     },
     "metadata": {},
     "output_type": "display_data"
    }
   ],
   "source": [
    "import matplotlib.pyplot as plt\n",
    "plt.hist(data, bins=30)\n"
   ]
  },
  {
   "cell_type": "markdown",
   "metadata": {},
   "source": [
    "### d. Identify outliers using IQR method."
   ]
  },
  {
   "cell_type": "code",
   "execution_count": 16,
   "metadata": {},
   "outputs": [],
   "source": [
    "Q1 = np.percentile(data, 25)\n",
    "Q3 = np.percentile(data, 75)\n",
    "IQR = Q3 - Q1\n",
    "outliers = data[(data < (Q1 - 1.5 * IQR)) | (data > (Q3 + 1.5 * IQR))]\n"
   ]
  },
  {
   "cell_type": "markdown",
   "metadata": {},
   "source": [
    "# Problem 05: “Advanced NumPy Operations Challenge”\n",
    "### a. Compute pairwise Euclidean distance between rows in two arrays."
   ]
  },
  {
   "cell_type": "code",
   "execution_count": 17,
   "metadata": {},
   "outputs": [],
   "source": [
    "X = np.random.rand(5, 3)\n",
    "Y = np.random.rand(4, 3)\n",
    "D = np.linalg.norm(X[:, np.newaxis] - Y, axis=2)\n"
   ]
  },
  {
   "cell_type": "markdown",
   "metadata": {},
   "source": [
    "### b. Sliding window mean function."
   ]
  },
  {
   "cell_type": "code",
   "execution_count": 18,
   "metadata": {},
   "outputs": [],
   "source": [
    "def sliding_window_mean(arr, window_size):\n",
    "    return np.convolve(arr, np.ones(window_size), 'valid') / window_size\n"
   ]
  },
  {
   "cell_type": "markdown",
   "metadata": {},
   "source": [
    "# c. Perform Singular Value Decomposition (SVD)."
   ]
  },
  {
   "cell_type": "code",
   "execution_count": 19,
   "metadata": {},
   "outputs": [],
   "source": [
    "U, S, V = np.linalg.svd(D)\n",
    "D_reconstructed = np.dot(U[:, :2], np.dot(np.diag(S[:2]), V[:2, :]))\n"
   ]
  },
  {
   "cell_type": "markdown",
   "metadata": {},
   "source": [
    "# d. Modify matrix D based on conditions."
   ]
  },
  {
   "cell_type": "code",
   "execution_count": 20,
   "metadata": {},
   "outputs": [],
   "source": [
    "D[D < 5] = 0\n",
    "D[D > 100] = 1\n",
    "count = np.sum((D > 5) & (D < 100))\n"
   ]
  },
  {
   "cell_type": "markdown",
   "metadata": {},
   "source": [
    "# e. Create a stride-based 3x3 sliding window over the first row of D.\n",
    "\n"
   ]
  },
  {
   "cell_type": "code",
   "execution_count": 21,
   "metadata": {},
   "outputs": [],
   "source": [
    "from numpy.lib.stride_tricks import as_strided\n",
    "sliding_window = as_strided(D[0, :], shape=(3,), strides=(D.strides[0],))\n"
   ]
  }
 ],
 "metadata": {
  "kernelspec": {
   "display_name": "Python 3",
   "language": "python",
   "name": "python3"
  },
  "language_info": {
   "codemirror_mode": {
    "name": "ipython",
    "version": 3
   },
   "file_extension": ".py",
   "mimetype": "text/x-python",
   "name": "python",
   "nbconvert_exporter": "python",
   "pygments_lexer": "ipython3",
   "version": "3.12.6"
  }
 },
 "nbformat": 4,
 "nbformat_minor": 2
}
