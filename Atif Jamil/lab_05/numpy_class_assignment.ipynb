{
 "cells": [
  {
   "cell_type": "markdown",
   "metadata": {},
   "source": [
    "# **Atif Jamil**\n",
    "\n",
    "**Email:** [aatifkh8n@gmail.com](mailto:aatifkh8n@gmail.com)\n",
    "\n",
    "**GitHub:** [aatifkh8n](https://github.com/aatifkh8n) |\n",
    "**Kaggle:** [aatifkh8n](https://kaggle.com/aatifkh8n) |\n",
    "**LinkedIn:** [Atif Jamil](https://linkedin.com/in/atif--jamil)\n",
    "\n",
    "### **Purpose:** NumPy Class Assignment"
   ]
  },
  {
   "cell_type": "markdown",
   "metadata": {},
   "source": [
    "---\n",
    "\n",
    "# Assignment Questions\n",
    "\n",
    "## Basic Array Operations\n",
    "\n",
    "Create a 1D array, a 2D array, and a 3D array.\n",
    "\n",
    "Perform slicing operations on arrays.\n",
    "\n",
    "Perform basic arithmetic operations on arrays (addition, subtraction, multiplication, division).\n",
    "\n",
    "Array Creation and Manipulation\n",
    "\n",
    "Create arrays using different functions: arange, linspace, zeros, ones, eye, random.\n",
    "\n",
    "Reshape an array.\n",
    "\n",
    "Concatenate and split arrays.\n",
    "\n",
    "## Statistical Operations\n",
    "\n",
    "Compute mean, median, variance, and standard deviation of an array.\n",
    "\n",
    "Find the minimum and maximum values in an array along with their indices.\n",
    "\n",
    "Compute the sum and product of array elements.\n",
    "\n",
    "## Broadcasting\n",
    "\n",
    "Demonstrate broadcasting with examples of different shapes of arrays.\n",
    "\n",
    "Explain the concept of broadcasting and how it works in NumPy.\n",
    "\n",
    "## Linear Algebra\n",
    "\n",
    "Perform matrix multiplication.\n",
    "\n",
    "Compute the determinant, inverse, and eigenvalues of a matrix.\n",
    "\n",
    "Solve a system of linear equations.\n",
    "\n",
    "## Advanced Indexing and Slicing\n",
    "\n",
    "Use Boolean indexing to filter an array.\n",
    "\n",
    "Use fancy indexing to select specific elements from an array.\n",
    "\n",
    "Perform advanced slicing operations.\n",
    "\n",
    "## Random Sampling\n",
    "\n",
    "Generate random numbers from different distributions.\n",
    "\n",
    "Create random samples from a dataset.\n",
    "\n",
    "Perform random shuffling of an array."
   ]
  },
  {
   "cell_type": "code",
   "execution_count": 130,
   "metadata": {},
   "outputs": [],
   "source": [
    "import numpy as np"
   ]
  },
  {
   "cell_type": "markdown",
   "metadata": {},
   "source": [
    "## Basic Array Operations\n",
    "\n",
    "#### Q1: Create a 1D array, a 2D array, and a 3D array."
   ]
  },
  {
   "cell_type": "code",
   "execution_count": 131,
   "metadata": {},
   "outputs": [],
   "source": [
    "arr_1d = np.array([1, 2, 3, 4, 5, 6, 7, 8, 9, 10])\n",
    "\n",
    "arr_2d = np.array([\n",
    "    [1, 2, 3, 4],\n",
    "    [5, 6, 7, 8],\n",
    "    [9, 10, 11, 12]\n",
    "])\n",
    "\n",
    "arr_3d = np.array([\n",
    "    [\n",
    "        [1, 2, 3],\n",
    "        [4, 5, 6]\n",
    "    ],\n",
    "    [\n",
    "        [7, 8, 9],\n",
    "        [10, 11, 12]\n",
    "    ]\n",
    "])"
   ]
  },
  {
   "cell_type": "code",
   "execution_count": 132,
   "metadata": {},
   "outputs": [
    {
     "data": {
      "text/plain": [
       "array([ 1,  2,  3,  4,  5,  6,  7,  8,  9, 10])"
      ]
     },
     "execution_count": 132,
     "metadata": {},
     "output_type": "execute_result"
    }
   ],
   "source": [
    "arr_1d"
   ]
  },
  {
   "cell_type": "code",
   "execution_count": 133,
   "metadata": {},
   "outputs": [
    {
     "data": {
      "text/plain": [
       "array([[ 1,  2,  3,  4],\n",
       "       [ 5,  6,  7,  8],\n",
       "       [ 9, 10, 11, 12]])"
      ]
     },
     "execution_count": 133,
     "metadata": {},
     "output_type": "execute_result"
    }
   ],
   "source": [
    "arr_2d"
   ]
  },
  {
   "cell_type": "code",
   "execution_count": 134,
   "metadata": {},
   "outputs": [
    {
     "data": {
      "text/plain": [
       "array([[[ 1,  2,  3],\n",
       "        [ 4,  5,  6]],\n",
       "\n",
       "       [[ 7,  8,  9],\n",
       "        [10, 11, 12]]])"
      ]
     },
     "execution_count": 134,
     "metadata": {},
     "output_type": "execute_result"
    }
   ],
   "source": [
    "arr_3d"
   ]
  },
  {
   "cell_type": "markdown",
   "metadata": {},
   "source": [
    "#### Q2: Perform slicing operations on arrays."
   ]
  },
  {
   "cell_type": "code",
   "execution_count": 135,
   "metadata": {},
   "outputs": [
    {
     "data": {
      "text/plain": [
       "array([4, 5, 6, 7, 8])"
      ]
     },
     "execution_count": 135,
     "metadata": {},
     "output_type": "execute_result"
    }
   ],
   "source": [
    "# accessing 1d array elements from index 3 to 8 excluded\n",
    "arr_1d[3:8]"
   ]
  },
  {
   "cell_type": "code",
   "execution_count": 136,
   "metadata": {},
   "outputs": [
    {
     "data": {
      "text/plain": [
       "array([[ 7,  8],\n",
       "       [11, 12]])"
      ]
     },
     "execution_count": 136,
     "metadata": {},
     "output_type": "execute_result"
    }
   ],
   "source": [
    "# accessing 2d array elements from row 1 to end and column and row 2 to 4 excluded\n",
    "arr_2d[1:, 2:4]"
   ]
  },
  {
   "cell_type": "code",
   "execution_count": 137,
   "metadata": {},
   "outputs": [
    {
     "data": {
      "text/plain": [
       "array([[1, 2],\n",
       "       [7, 8]])"
      ]
     },
     "execution_count": 137,
     "metadata": {},
     "output_type": "execute_result"
    }
   ],
   "source": [
    "# accessing 3d array elements from all 2d arrays, 1st row and column 0 to 2 excluded\n",
    "arr_3d[:, 0, 0:2]"
   ]
  },
  {
   "cell_type": "markdown",
   "metadata": {},
   "source": [
    "#### Q3: Perform basic arithmetic operations on arrays (addition, subtraction, multiplication, division)."
   ]
  },
  {
   "cell_type": "code",
   "execution_count": 138,
   "metadata": {},
   "outputs": [
    {
     "data": {
      "text/plain": [
       "array([ 2,  4,  6,  8, 10, 12, 14, 16, 18, 20])"
      ]
     },
     "execution_count": 138,
     "metadata": {},
     "output_type": "execute_result"
    }
   ],
   "source": [
    "# Addition of arr_1d array with itself\n",
    "arr_1d + arr_1d"
   ]
  },
  {
   "cell_type": "code",
   "execution_count": 139,
   "metadata": {},
   "outputs": [
    {
     "data": {
      "text/plain": [
       "array([[  1,   4,   9,  16],\n",
       "       [ 25,  36,  49,  64],\n",
       "       [ 81, 100, 121, 144]])"
      ]
     },
     "execution_count": 139,
     "metadata": {},
     "output_type": "execute_result"
    }
   ],
   "source": [
    "# Multiplication of arr_2d array with temp_2d array\n",
    "temp_2d = np.array([\n",
    "    [1, 2, 3, 4],\n",
    "    [5, 6, 7, 8],\n",
    "    [9, 10, 11, 12]\n",
    "])\n",
    "\n",
    "arr_2d * temp_2d"
   ]
  },
  {
   "cell_type": "code",
   "execution_count": 140,
   "metadata": {},
   "outputs": [
    {
     "data": {
      "text/plain": [
       "array([[[  1,   4,   9],\n",
       "        [ 16,  25,  36]],\n",
       "\n",
       "       [[ 49,  64,  81],\n",
       "        [100, 121, 144]]])"
      ]
     },
     "execution_count": 140,
     "metadata": {},
     "output_type": "execute_result"
    }
   ],
   "source": [
    "# Multiplication of arr_3d array with temp_3d array\n",
    "temp_3d = np.array([\n",
    "    [\n",
    "        [1, 2, 3],\n",
    "        [4, 5, 6]\n",
    "    ],\n",
    "    [\n",
    "        [7, 8, 9],\n",
    "        [10, 11, 12]\n",
    "    ]\n",
    "])\n",
    "\n",
    "arr_3d * temp_3d"
   ]
  },
  {
   "cell_type": "markdown",
   "metadata": {},
   "source": [
    "## Array Creation and Manipulation"
   ]
  },
  {
   "cell_type": "markdown",
   "metadata": {},
   "source": [
    "#### Q1: Create arrays using different functions: arange, linspace, zeros, ones, eye, random."
   ]
  },
  {
   "cell_type": "code",
   "execution_count": 141,
   "metadata": {},
   "outputs": [
    {
     "data": {
      "text/plain": [
       "array([ 1,  2,  3,  4,  5,  6,  7,  8,  9, 10])"
      ]
     },
     "execution_count": 141,
     "metadata": {},
     "output_type": "execute_result"
    }
   ],
   "source": [
    "arr_1_to_10 = np.arange(1, 11)\n",
    "\n",
    "arr_1_to_10"
   ]
  },
  {
   "cell_type": "code",
   "execution_count": 142,
   "metadata": {},
   "outputs": [
    {
     "data": {
      "text/plain": [
       "array([ 10.,  20.,  30.,  40.,  50.,  60.,  70.,  80.,  90., 100.])"
      ]
     },
     "execution_count": 142,
     "metadata": {},
     "output_type": "execute_result"
    }
   ],
   "source": [
    "arr_10_elements = np.linspace(10, 100, 10)\n",
    "\n",
    "arr_10_elements"
   ]
  },
  {
   "cell_type": "code",
   "execution_count": 143,
   "metadata": {},
   "outputs": [
    {
     "data": {
      "text/plain": [
       "array([[0., 0., 0.],\n",
       "       [0., 0., 0.],\n",
       "       [0., 0., 0.]])"
      ]
     },
     "execution_count": 143,
     "metadata": {},
     "output_type": "execute_result"
    }
   ],
   "source": [
    "zeros_2d = np.zeros((3, 3))\n",
    "\n",
    "zeros_2d"
   ]
  },
  {
   "cell_type": "code",
   "execution_count": 144,
   "metadata": {},
   "outputs": [
    {
     "data": {
      "text/plain": [
       "array([[[1., 1.],\n",
       "        [1., 1.]],\n",
       "\n",
       "       [[1., 1.],\n",
       "        [1., 1.]]])"
      ]
     },
     "execution_count": 144,
     "metadata": {},
     "output_type": "execute_result"
    }
   ],
   "source": [
    "ones_3d = np.ones((2, 2, 2))\n",
    "\n",
    "ones_3d"
   ]
  },
  {
   "cell_type": "code",
   "execution_count": 145,
   "metadata": {},
   "outputs": [
    {
     "data": {
      "text/plain": [
       "array([[1., 0., 0.],\n",
       "       [0., 1., 0.],\n",
       "       [0., 0., 1.]])"
      ]
     },
     "execution_count": 145,
     "metadata": {},
     "output_type": "execute_result"
    }
   ],
   "source": [
    "identity_3x3 = np.eye(3)\n",
    "\n",
    "identity_3x3"
   ]
  },
  {
   "cell_type": "code",
   "execution_count": 146,
   "metadata": {},
   "outputs": [
    {
     "data": {
      "text/plain": [
       "array([[16, 19, 12],\n",
       "       [17, 10, 18],\n",
       "       [15, 17, 14]], dtype=int32)"
      ]
     },
     "execution_count": 146,
     "metadata": {},
     "output_type": "execute_result"
    }
   ],
   "source": [
    "arr_rand_3x3 = np.random.randint(10, 20, (3, 3))\n",
    "\n",
    "arr_rand_3x3"
   ]
  },
  {
   "cell_type": "markdown",
   "metadata": {},
   "source": [
    "#### Q2: Reshape an array."
   ]
  },
  {
   "cell_type": "code",
   "execution_count": 147,
   "metadata": {},
   "outputs": [
    {
     "data": {
      "text/plain": [
       "array([16, 19, 12, 17, 10, 18, 15, 17, 14], dtype=int32)"
      ]
     },
     "execution_count": 147,
     "metadata": {},
     "output_type": "execute_result"
    }
   ],
   "source": [
    "arr_1d_reshaped = arr_rand_3x3.reshape(9)\n",
    "\n",
    "arr_1d_reshaped"
   ]
  },
  {
   "cell_type": "markdown",
   "metadata": {},
   "source": [
    "#### Q3: Concatenate and split arrays."
   ]
  },
  {
   "cell_type": "code",
   "execution_count": 148,
   "metadata": {},
   "outputs": [
    {
     "data": {
      "text/plain": [
       "array([ 1,  2,  3,  4,  5,  6,  7,  8,  9, 10,  1,  2,  3,  4,  5,  6,  7,\n",
       "        8,  9, 10, 16, 19, 12, 17, 10, 18, 15, 17, 14, 55])"
      ]
     },
     "execution_count": 148,
     "metadata": {},
     "output_type": "execute_result"
    }
   ],
   "source": [
    "# Concatenation of arr_1d, arr_1_to_10, arr_1d_reshaped and [55]\n",
    "concat_arr_1d = np.concat((arr_1d, arr_1_to_10, arr_1d_reshaped, [55]))\n",
    "\n",
    "concat_arr_1d"
   ]
  },
  {
   "cell_type": "code",
   "execution_count": 149,
   "metadata": {},
   "outputs": [
    {
     "data": {
      "text/plain": [
       "[array([ 1,  2,  3,  4,  5,  6,  7,  8,  9, 10]),\n",
       " array([ 1,  2,  3,  4,  5,  6,  7,  8,  9, 10]),\n",
       " array([16, 19, 12, 17, 10, 18, 15, 17, 14, 55])]"
      ]
     },
     "execution_count": 149,
     "metadata": {},
     "output_type": "execute_result"
    }
   ],
   "source": [
    "# Splitting concat_arr_1d in 3 equal subarrays\n",
    "np.split(concat_arr_1d, 3)"
   ]
  },
  {
   "cell_type": "markdown",
   "metadata": {},
   "source": [
    "## Statistical Operations"
   ]
  },
  {
   "cell_type": "markdown",
   "metadata": {},
   "source": [
    "Q1: Compute mean, median, variance, and standard deviation of an array."
   ]
  },
  {
   "cell_type": "code",
   "execution_count": 150,
   "metadata": {},
   "outputs": [
    {
     "name": "stdout",
     "output_type": "stream",
     "text": [
      "Mean of 1d Array: 5.5\n",
      "Median of 1d Array: 5.5\n",
      "Variance of 1d Array: 8.25\n",
      "Standard Deviation of 1d Array: 2.8722813232690143\n"
     ]
    }
   ],
   "source": [
    "print(\"Mean of 1d Array:\", arr_1d.mean())\n",
    "print(\"Median of 1d Array:\", np.median(arr_1d))\n",
    "print(\"Variance of 1d Array:\", arr_1d.var())\n",
    "print(\"Standard Deviation of 1d Array:\", arr_1d.std())"
   ]
  },
  {
   "cell_type": "markdown",
   "metadata": {},
   "source": [
    "#### Q2: Find the minimum and maximum values in an array along with their indices."
   ]
  },
  {
   "cell_type": "code",
   "execution_count": 151,
   "metadata": {},
   "outputs": [
    {
     "name": "stdout",
     "output_type": "stream",
     "text": [
      "Minimum value in 1d Array: 1\n",
      "Index of minimum value in 1d Array: 0\n"
     ]
    }
   ],
   "source": [
    "# Minimum value and its index\n",
    "min = arr_1d.min()\n",
    "min_index = np.where(arr_1d == min)[0][0]\n",
    "\n",
    "print(\"Minimum value in 1d Array:\", min)\n",
    "print(\"Index of minimum value in 1d Array:\", min_index)"
   ]
  },
  {
   "cell_type": "code",
   "execution_count": 152,
   "metadata": {},
   "outputs": [
    {
     "name": "stdout",
     "output_type": "stream",
     "text": [
      "Maximum value in 1d Array: 10\n",
      "Index of maximum value in 1d Array: 9\n"
     ]
    }
   ],
   "source": [
    "# Maximum value and its index\n",
    "max = arr_1d.max()\n",
    "max_index = np.where(arr_1d == max)[0][0]\n",
    "\n",
    "print(\"Maximum value in 1d Array:\", max)\n",
    "print(\"Index of maximum value in 1d Array:\", max_index)"
   ]
  },
  {
   "cell_type": "markdown",
   "metadata": {},
   "source": [
    "#### Q3: Compute the sum and product of array elements."
   ]
  },
  {
   "cell_type": "code",
   "execution_count": 153,
   "metadata": {},
   "outputs": [
    {
     "name": "stdout",
     "output_type": "stream",
     "text": [
      "Sum of 10 elements: 550.0\n",
      "Product of 10 elements: 3.6288e+16\n"
     ]
    }
   ],
   "source": [
    "sum = arr_10_elements.sum()\n",
    "product = arr_10_elements.prod()\n",
    "\n",
    "print(\"Sum of 10 elements:\", sum)\n",
    "print(\"Product of 10 elements:\", product)"
   ]
  },
  {
   "cell_type": "markdown",
   "metadata": {},
   "source": [
    "## Broadcasting"
   ]
  },
  {
   "cell_type": "markdown",
   "metadata": {},
   "source": [
    "#### Q1: Demonstrate broadcasting with examples of different shapes of arrays."
   ]
  },
  {
   "cell_type": "code",
   "execution_count": 154,
   "metadata": {},
   "outputs": [
    {
     "data": {
      "text/plain": [
       "array([[30, 36, 42],\n",
       "       [66, 81, 96]])"
      ]
     },
     "execution_count": 154,
     "metadata": {},
     "output_type": "execute_result"
    }
   ],
   "source": [
    "# 2d Array with order 2x3\n",
    "arr_1 = np.array([\n",
    "    [1, 2, 3],\n",
    "    [4, 5, 6]\n",
    "])\n",
    "\n",
    "# 2d Array with order 3x3\n",
    "arr_2 = np.array([\n",
    "    [1, 2, 3],\n",
    "    [4, 5, 6],\n",
    "    [7, 8, 9]\n",
    "])\n",
    "\n",
    "np.dot(arr_1, arr_2)"
   ]
  },
  {
   "cell_type": "markdown",
   "metadata": {},
   "source": [
    "#### Q2: Explain the concept of broadcasting and how it works in NumPy.\n",
    "\n",
    "Actually, broadcasting is the feature of NumPy that can do the arthimetic operations on two matrics even if their order is not same.\n",
    "\n",
    "Like, if we have a = [1] and b = [1, 2]. For a + b, it will make a = [1, 1] and then it will add element-wise:\n",
    "\n",
    "```py\n",
    "a + b = [1+1, 1+2]\n",
    "a + b = [2, 3]\n",
    "```"
   ]
  },
  {
   "cell_type": "markdown",
   "metadata": {},
   "source": [
    "## Linear Algebra"
   ]
  },
  {
   "cell_type": "markdown",
   "metadata": {},
   "source": [
    "#### Q1: Perform matrix multiplication."
   ]
  },
  {
   "cell_type": "code",
   "execution_count": 155,
   "metadata": {},
   "outputs": [
    {
     "data": {
      "text/plain": [
       "array([[30, 36, 42],\n",
       "       [66, 81, 96]])"
      ]
     },
     "execution_count": 155,
     "metadata": {},
     "output_type": "execute_result"
    }
   ],
   "source": [
    "mat_2x3 = np.array([\n",
    "    [1, 2, 3],\n",
    "    [4, 5, 6]\n",
    "])\n",
    "\n",
    "mat_3x3 = np.array([\n",
    "    [1, 2, 3],\n",
    "    [4, 5, 6],\n",
    "    [7, 8, 9]\n",
    "])\n",
    "\n",
    "# Matrix multiplication using numpy.matmul()\n",
    "np.matmul(mat_2x3, mat_3x3)"
   ]
  },
  {
   "cell_type": "code",
   "execution_count": 156,
   "metadata": {},
   "outputs": [
    {
     "data": {
      "text/plain": [
       "array([[30, 36, 42],\n",
       "       [66, 81, 96]])"
      ]
     },
     "execution_count": 156,
     "metadata": {},
     "output_type": "execute_result"
    }
   ],
   "source": [
    "# Matrix multiplication using numpy.dot()\n",
    "np.dot(mat_2x3, mat_3x3)"
   ]
  },
  {
   "cell_type": "code",
   "execution_count": 157,
   "metadata": {},
   "outputs": [
    {
     "data": {
      "text/plain": [
       "array([[30, 36, 42],\n",
       "       [66, 81, 96]])"
      ]
     },
     "execution_count": 157,
     "metadata": {},
     "output_type": "execute_result"
    }
   ],
   "source": [
    "# Matrix multiplication using @ operator\n",
    "mat_2x3 @ mat_3x3"
   ]
  },
  {
   "cell_type": "markdown",
   "metadata": {},
   "source": [
    "#### Q2: Compute the determinant, inverse, and eigenvalues of a matrix."
   ]
  },
  {
   "cell_type": "code",
   "execution_count": 158,
   "metadata": {},
   "outputs": [
    {
     "data": {
      "text/plain": [
       "np.float64(-379.9999999999997)"
      ]
     },
     "execution_count": 158,
     "metadata": {},
     "output_type": "execute_result"
    }
   ],
   "source": [
    "np.linalg.det(arr_rand_3x3)"
   ]
  },
  {
   "cell_type": "code",
   "execution_count": 159,
   "metadata": {},
   "outputs": [
    {
     "data": {
      "text/plain": [
       "array([[ 0.43684211,  0.16315789, -0.58421053],\n",
       "       [-0.08421053, -0.11578947,  0.22105263],\n",
       "       [-0.36578947, -0.03421053,  0.42894737]])"
      ]
     },
     "execution_count": 159,
     "metadata": {},
     "output_type": "execute_result"
    }
   ],
   "source": [
    "np.linalg.inv(arr_rand_3x3)"
   ]
  },
  {
   "cell_type": "code",
   "execution_count": 160,
   "metadata": {},
   "outputs": [
    {
     "name": "stdout",
     "output_type": "stream",
     "text": [
      "Eigen Values: [46.01425937  1.15233405 -7.16659342]\n",
      "\n",
      "Eigen Vectors: [[-0.58897726 -0.7597891   0.51609057]\n",
      " [-0.56621882  0.20380416 -0.80827869]\n",
      " [-0.57662989  0.61740131  0.28343621]]\n"
     ]
    }
   ],
   "source": [
    "eigenvalues, eigenvectors = np.linalg.eig(arr_rand_3x3)\n",
    "\n",
    "print(\"Eigen Values:\", eigenvalues)\n",
    "print()\n",
    "print(\"Eigen Vectors:\", eigenvectors)"
   ]
  },
  {
   "cell_type": "markdown",
   "metadata": {},
   "source": [
    "#### Q3: Solve a system of linear equations."
   ]
  },
  {
   "cell_type": "code",
   "execution_count": 161,
   "metadata": {},
   "outputs": [
    {
     "name": "stdout",
     "output_type": "stream",
     "text": [
      "Solution: [1. 2.]\n"
     ]
    }
   ],
   "source": [
    "# Coefficient matrix A and constant vector b\n",
    "A = np.array([[2, 3], [1, 2]])\n",
    "b = np.array([8, 5])\n",
    "\n",
    "# Solve the system\n",
    "x = np.linalg.solve(A, b)\n",
    "print(\"Solution:\", x)"
   ]
  },
  {
   "cell_type": "markdown",
   "metadata": {},
   "source": [
    "## Advanced Indexing and Slicing"
   ]
  },
  {
   "cell_type": "markdown",
   "metadata": {},
   "source": [
    "#### Q1: Use Boolean indexing to filter an array."
   ]
  },
  {
   "cell_type": "code",
   "execution_count": 162,
   "metadata": {},
   "outputs": [
    {
     "name": "stdout",
     "output_type": "stream",
     "text": [
      "Filtered Array: [ 40.  50.  60.  70.  80.  90. 100.]\n"
     ]
    }
   ],
   "source": [
    "# Select elements greater than 30\n",
    "filtered = arr_10_elements[arr_10_elements > 30]\n",
    "print(\"Filtered Array:\", filtered)"
   ]
  },
  {
   "cell_type": "markdown",
   "metadata": {},
   "source": [
    "#### Q2: Use fancy indexing to select specific elements from an array."
   ]
  },
  {
   "cell_type": "code",
   "execution_count": 163,
   "metadata": {},
   "outputs": [
    {
     "data": {
      "text/plain": [
       "array([17, 18], dtype=int32)"
      ]
     },
     "execution_count": 163,
     "metadata": {},
     "output_type": "execute_result"
    }
   ],
   "source": [
    "# Accessing the value at index 3 and at index 5\n",
    "arr_1d_reshaped[[3, 5]]"
   ]
  },
  {
   "cell_type": "markdown",
   "metadata": {},
   "source": [
    "#### Q3: Perform advanced slicing operations."
   ]
  },
  {
   "cell_type": "code",
   "execution_count": 164,
   "metadata": {},
   "outputs": [
    {
     "data": {
      "text/plain": [
       "array([[2, 3],\n",
       "       [5, 6]])"
      ]
     },
     "execution_count": 164,
     "metadata": {},
     "output_type": "execute_result"
    }
   ],
   "source": [
    "arr = np.array([[1, 2, 3], [4, 5, 6]])\n",
    "\n",
    "# Select the first two rows and last two columns\n",
    "subarray = arr[:2, -2:]\n",
    "subarray"
   ]
  },
  {
   "cell_type": "markdown",
   "metadata": {},
   "source": [
    "## Random Sampling"
   ]
  },
  {
   "cell_type": "markdown",
   "metadata": {},
   "source": [
    "#### Q1: Generate random numbers from different distributions."
   ]
  },
  {
   "cell_type": "code",
   "execution_count": 165,
   "metadata": {},
   "outputs": [
    {
     "data": {
      "text/plain": [
       "array([0.81007283, 0.56838538, 0.25696178, 0.88460061, 0.29885508])"
      ]
     },
     "execution_count": 165,
     "metadata": {},
     "output_type": "execute_result"
    }
   ],
   "source": [
    "# Uniform distribution between 0 and 1\n",
    "uniform_random = np.random.rand(5)\n",
    "\n",
    "uniform_random"
   ]
  },
  {
   "cell_type": "code",
   "execution_count": 166,
   "metadata": {},
   "outputs": [
    {
     "data": {
      "text/plain": [
       "array([ 1.07150615, -1.93403333,  0.5752198 , -0.58065837, -1.24960516])"
      ]
     },
     "execution_count": 166,
     "metadata": {},
     "output_type": "execute_result"
    }
   ],
   "source": [
    "# Normal distribution with mean 0 and standard deviation 1\n",
    "normal_random = np.random.randn(5)\n",
    "\n",
    "normal_random"
   ]
  },
  {
   "cell_type": "markdown",
   "metadata": {},
   "source": [
    "#### Q2: Create random samples from a dataset."
   ]
  },
  {
   "cell_type": "code",
   "execution_count": 167,
   "metadata": {},
   "outputs": [
    {
     "data": {
      "text/plain": [
       "array([19, 15, 16, 18], dtype=int32)"
      ]
     },
     "execution_count": 167,
     "metadata": {},
     "output_type": "execute_result"
    }
   ],
   "source": [
    "sample = np.random.choice(arr_1d_reshaped, 4, replace=False)\n",
    "\n",
    "sample"
   ]
  },
  {
   "cell_type": "markdown",
   "metadata": {},
   "source": [
    "#### Q3: Perform random shuffling of an array."
   ]
  },
  {
   "cell_type": "code",
   "execution_count": 168,
   "metadata": {},
   "outputs": [
    {
     "name": "stdout",
     "output_type": "stream",
     "text": [
      "Before shuffling, arr_10_elements: [ 10.  20.  30.  40.  50.  60.  70.  80.  90. 100.]\n",
      "After shuffling, arr_10_elements: [ 10.  30.  90.  80.  20.  70.  50. 100.  60.  40.]\n"
     ]
    }
   ],
   "source": [
    "print(\"Before shuffling, arr_10_elements:\", arr_10_elements)\n",
    "\n",
    "np.random.shuffle(arr_10_elements)\n",
    "\n",
    "print(\"After shuffling, arr_10_elements:\", arr_10_elements)"
   ]
  },
  {
   "cell_type": "markdown",
   "metadata": {},
   "source": [
    "---\n",
    "\n",
    "<h2 style=\"text-align: center;\">Status: <span style=\"color: green;\">Task Completed</span></h2>"
   ]
  }
 ],
 "metadata": {
  "kernelspec": {
   "display_name": "Python 3",
   "language": "python",
   "name": "python3"
  },
  "language_info": {
   "codemirror_mode": {
    "name": "ipython",
    "version": 3
   },
   "file_extension": ".py",
   "mimetype": "text/x-python",
   "name": "python",
   "nbconvert_exporter": "python",
   "pygments_lexer": "ipython3",
   "version": "3.12.1"
  }
 },
 "nbformat": 4,
 "nbformat_minor": 2
}
