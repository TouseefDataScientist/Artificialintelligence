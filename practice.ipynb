{
 "cells": [
  {
   "cell_type": "code",
   "execution_count": 1,
   "metadata": {},
   "outputs": [
    {
     "name": "stdout",
     "output_type": "stream",
     "text": [
      "Defaulting to user installation because normal site-packages is not writeableNote: you may need to restart the kernel to use updated packages.\n",
      "\n",
      "Collecting numpy\n",
      "  Downloading numpy-2.1.1-cp312-cp312-win_amd64.whl.metadata (59 kB)\n",
      "Downloading numpy-2.1.1-cp312-cp312-win_amd64.whl (12.6 MB)\n",
      "   ---------------------------------------- 0.0/12.6 MB ? eta -:--:--\n",
      "    --------------------------------------- 0.3/12.6 MB ? eta -:--:--\n",
      "   - -------------------------------------- 0.5/12.6 MB 1.7 MB/s eta 0:00:08\n",
      "   -- ------------------------------------- 0.8/12.6 MB 1.5 MB/s eta 0:00:08\n",
      "   ---- ----------------------------------- 1.3/12.6 MB 1.6 MB/s eta 0:00:08\n",
      "   ----- ---------------------------------- 1.6/12.6 MB 1.6 MB/s eta 0:00:08\n",
      "   ----- ---------------------------------- 1.8/12.6 MB 1.5 MB/s eta 0:00:07\n",
      "   ------- -------------------------------- 2.4/12.6 MB 1.6 MB/s eta 0:00:07\n",
      "   -------- ------------------------------- 2.6/12.6 MB 1.6 MB/s eta 0:00:07\n",
      "   ---------- ----------------------------- 3.1/12.6 MB 1.6 MB/s eta 0:00:06\n",
      "   ---------- ----------------------------- 3.4/12.6 MB 1.6 MB/s eta 0:00:06\n",
      "   ----------- ---------------------------- 3.7/12.6 MB 1.6 MB/s eta 0:00:06\n",
      "   ------------ --------------------------- 3.9/12.6 MB 1.6 MB/s eta 0:00:06\n",
      "   ------------- -------------------------- 4.2/12.6 MB 1.5 MB/s eta 0:00:06\n",
      "   -------------- ------------------------- 4.5/12.6 MB 1.5 MB/s eta 0:00:06\n",
      "   --------------- ------------------------ 4.7/12.6 MB 1.5 MB/s eta 0:00:06\n",
      "   ---------------- ----------------------- 5.2/12.6 MB 1.5 MB/s eta 0:00:05\n",
      "   ----------------- ---------------------- 5.5/12.6 MB 1.5 MB/s eta 0:00:05\n",
      "   ------------------ --------------------- 5.8/12.6 MB 1.5 MB/s eta 0:00:05\n",
      "   ------------------- -------------------- 6.0/12.6 MB 1.5 MB/s eta 0:00:05\n",
      "   -------------------- ------------------- 6.3/12.6 MB 1.5 MB/s eta 0:00:05\n",
      "   --------------------- ------------------ 6.8/12.6 MB 1.5 MB/s eta 0:00:04\n",
      "   ---------------------- ----------------- 7.1/12.6 MB 1.5 MB/s eta 0:00:04\n",
      "   ----------------------- ---------------- 7.3/12.6 MB 1.5 MB/s eta 0:00:04\n",
      "   ------------------------- -------------- 7.9/12.6 MB 1.5 MB/s eta 0:00:04\n",
      "   ------------------------- -------------- 8.1/12.6 MB 1.5 MB/s eta 0:00:03\n",
      "   -------------------------- ------------- 8.4/12.6 MB 1.5 MB/s eta 0:00:03\n",
      "   ---------------------------- ----------- 8.9/12.6 MB 1.5 MB/s eta 0:00:03\n",
      "   ----------------------------- ---------- 9.2/12.6 MB 1.5 MB/s eta 0:00:03\n",
      "   ------------------------------ --------- 9.7/12.6 MB 1.5 MB/s eta 0:00:02\n",
      "   ------------------------------- -------- 10.0/12.6 MB 1.5 MB/s eta 0:00:02\n",
      "   -------------------------------- ------- 10.2/12.6 MB 1.5 MB/s eta 0:00:02\n",
      "   ---------------------------------- ----- 10.7/12.6 MB 1.5 MB/s eta 0:00:02\n",
      "   ----------------------------------- ---- 11.0/12.6 MB 1.5 MB/s eta 0:00:02\n",
      "   ----------------------------------- ---- 11.3/12.6 MB 1.5 MB/s eta 0:00:01\n",
      "   ------------------------------------ --- 11.5/12.6 MB 1.5 MB/s eta 0:00:01\n",
      "   ------------------------------------- -- 11.8/12.6 MB 1.5 MB/s eta 0:00:01\n",
      "   -------------------------------------- - 12.1/12.6 MB 1.5 MB/s eta 0:00:01\n",
      "   ---------------------------------------  12.3/12.6 MB 1.5 MB/s eta 0:00:01\n",
      "   ---------------------------------------- 12.6/12.6 MB 1.5 MB/s eta 0:00:00\n",
      "Installing collected packages: numpy\n",
      "Successfully installed numpy-2.1.1\n"
     ]
    }
   ],
   "source": [
    "%pip install numpy\n"
   ]
  },
  {
   "cell_type": "code",
   "execution_count": 2,
   "metadata": {},
   "outputs": [
    {
     "name": "stdout",
     "output_type": "stream",
     "text": [
      "Defaulting to user installation because normal site-packages is not writeable\n",
      "Collecting pandas\n",
      "  Downloading pandas-2.2.2-cp312-cp312-win_amd64.whl.metadata (19 kB)\n",
      "Requirement already satisfied: numpy>=1.26.0 in c:\\users\\001mh\\appdata\\local\\packages\\pythonsoftwarefoundation.python.3.12_qbz5n2kfra8p0\\localcache\\local-packages\\python312\\site-packages (from pandas) (2.1.1)\n",
      "Requirement already satisfied: python-dateutil>=2.8.2 in c:\\users\\001mh\\appdata\\local\\packages\\pythonsoftwarefoundation.python.3.12_qbz5n2kfra8p0\\localcache\\local-packages\\python312\\site-packages (from pandas) (2.9.0.post0)\n",
      "Collecting pytz>=2020.1 (from pandas)\n",
      "  Downloading pytz-2024.2-py2.py3-none-any.whl.metadata (22 kB)\n",
      "Collecting tzdata>=2022.7 (from pandas)\n",
      "  Downloading tzdata-2024.1-py2.py3-none-any.whl.metadata (1.4 kB)\n",
      "Requirement already satisfied: six>=1.5 in c:\\users\\001mh\\appdata\\local\\packages\\pythonsoftwarefoundation.python.3.12_qbz5n2kfra8p0\\localcache\\local-packages\\python312\\site-packages (from python-dateutil>=2.8.2->pandas) (1.16.0)\n",
      "Downloading pandas-2.2.2-cp312-cp312-win_amd64.whl (11.5 MB)\n",
      "   ---------------------------------------- 0.0/11.5 MB ? eta -:--:--\n",
      "    --------------------------------------- 0.3/11.5 MB ? eta -:--:--\n",
      "    --------------------------------------- 0.3/11.5 MB ? eta -:--:--\n",
      "   -- ------------------------------------- 0.8/11.5 MB 1.4 MB/s eta 0:00:08\n",
      "   --- ------------------------------------ 1.0/11.5 MB 1.4 MB/s eta 0:00:08\n",
      "   ---- ----------------------------------- 1.3/11.5 MB 1.3 MB/s eta 0:00:08\n",
      "   ---- ----------------------------------- 1.3/11.5 MB 1.3 MB/s eta 0:00:08\n",
      "   ----- ---------------------------------- 1.6/11.5 MB 1.1 MB/s eta 0:00:09\n",
      "   ------ --------------------------------- 1.8/11.5 MB 1.1 MB/s eta 0:00:10\n",
      "   ------- -------------------------------- 2.1/11.5 MB 1.0 MB/s eta 0:00:10\n",
      "   ------- -------------------------------- 2.1/11.5 MB 1.0 MB/s eta 0:00:10\n",
      "   -------- ------------------------------- 2.4/11.5 MB 979.5 kB/s eta 0:00:10\n",
      "   --------- ------------------------------ 2.6/11.5 MB 961.8 kB/s eta 0:00:10\n",
      "   --------- ------------------------------ 2.6/11.5 MB 961.8 kB/s eta 0:00:10\n",
      "   ---------- ----------------------------- 2.9/11.5 MB 937.2 kB/s eta 0:00:10\n",
      "   ---------- ----------------------------- 3.1/11.5 MB 922.7 kB/s eta 0:00:10\n",
      "   ---------- ----------------------------- 3.1/11.5 MB 922.7 kB/s eta 0:00:10\n",
      "   ----------- ---------------------------- 3.4/11.5 MB 915.3 kB/s eta 0:00:09\n",
      "   ------------ --------------------------- 3.7/11.5 MB 908.8 kB/s eta 0:00:09\n",
      "   ------------ --------------------------- 3.7/11.5 MB 908.8 kB/s eta 0:00:09\n",
      "   ------------- -------------------------- 3.9/11.5 MB 896.4 kB/s eta 0:00:09\n",
      "   ------------- -------------------------- 3.9/11.5 MB 896.4 kB/s eta 0:00:09\n",
      "   -------------- ------------------------- 4.2/11.5 MB 855.9 kB/s eta 0:00:09\n",
      "   -------------- ------------------------- 4.2/11.5 MB 855.9 kB/s eta 0:00:09\n",
      "   --------------- ------------------------ 4.5/11.5 MB 833.7 kB/s eta 0:00:09\n",
      "   --------------- ------------------------ 4.5/11.5 MB 833.7 kB/s eta 0:00:09\n",
      "   ---------------- ----------------------- 4.7/11.5 MB 821.9 kB/s eta 0:00:09\n",
      "   ---------------- ----------------------- 4.7/11.5 MB 821.9 kB/s eta 0:00:09\n",
      "   ----------------- ---------------------- 5.0/11.5 MB 816.2 kB/s eta 0:00:08\n",
      "   ----------------- ---------------------- 5.0/11.5 MB 816.2 kB/s eta 0:00:08\n",
      "   ------------------ --------------------- 5.2/11.5 MB 800.9 kB/s eta 0:00:08\n",
      "   ------------------- -------------------- 5.5/11.5 MB 795.1 kB/s eta 0:00:08\n",
      "   ------------------- -------------------- 5.5/11.5 MB 795.1 kB/s eta 0:00:08\n",
      "   -------------------- ------------------- 5.8/11.5 MB 791.7 kB/s eta 0:00:08\n",
      "   -------------------- ------------------- 6.0/11.5 MB 790.3 kB/s eta 0:00:07\n",
      "   -------------------- ------------------- 6.0/11.5 MB 790.3 kB/s eta 0:00:07\n",
      "   --------------------- ------------------ 6.3/11.5 MB 787.5 kB/s eta 0:00:07\n",
      "   ---------------------- ----------------- 6.6/11.5 MB 789.5 kB/s eta 0:00:07\n",
      "   ---------------------- ----------------- 6.6/11.5 MB 789.5 kB/s eta 0:00:07\n",
      "   ----------------------- ---------------- 6.8/11.5 MB 791.4 kB/s eta 0:00:06\n",
      "   ------------------------ --------------- 7.1/11.5 MB 798.9 kB/s eta 0:00:06\n",
      "   ------------------------- -------------- 7.3/11.5 MB 804.6 kB/s eta 0:00:06\n",
      "   -------------------------- ------------- 7.6/11.5 MB 811.3 kB/s eta 0:00:05\n",
      "   --------------------------- ------------ 7.9/11.5 MB 820.4 kB/s eta 0:00:05\n",
      "   ---------------------------- ----------- 8.1/11.5 MB 827.8 kB/s eta 0:00:05\n",
      "   ----------------------------- ---------- 8.4/11.5 MB 837.5 kB/s eta 0:00:04\n",
      "   ------------------------------ --------- 8.7/11.5 MB 844.2 kB/s eta 0:00:04\n",
      "   ------------------------------- -------- 8.9/11.5 MB 853.0 kB/s eta 0:00:04\n",
      "   ------------------------------- -------- 9.2/11.5 MB 861.6 kB/s eta 0:00:03\n",
      "   -------------------------------- ------- 9.4/11.5 MB 871.2 kB/s eta 0:00:03\n",
      "   --------------------------------- ------ 9.7/11.5 MB 880.4 kB/s eta 0:00:03\n",
      "   ----------------------------------- ---- 10.2/11.5 MB 900.5 kB/s eta 0:00:02\n",
      "   ------------------------------------ --- 10.5/11.5 MB 906.3 kB/s eta 0:00:02\n",
      "   ------------------------------------- -- 10.7/11.5 MB 914.3 kB/s eta 0:00:01\n",
      "   -------------------------------------- - 11.0/11.5 MB 919.6 kB/s eta 0:00:01\n",
      "   ---------------------------------------  11.3/11.5 MB 924.7 kB/s eta 0:00:01\n",
      "   ---------------------------------------  11.3/11.5 MB 924.7 kB/s eta 0:00:01\n",
      "   ---------------------------------------- 11.5/11.5 MB 922.0 kB/s eta 0:00:00\n",
      "Downloading pytz-2024.2-py2.py3-none-any.whl (508 kB)\n",
      "Downloading tzdata-2024.1-py2.py3-none-any.whl (345 kB)\n",
      "Installing collected packages: pytz, tzdata, pandas\n",
      "Successfully installed pandas-2.2.2 pytz-2024.2 tzdata-2024.1\n",
      "Note: you may need to restart the kernel to use updated packages.\n"
     ]
    }
   ],
   "source": [
    "%pip install pandas"
   ]
  },
  {
   "cell_type": "code",
   "execution_count": 10,
   "metadata": {},
   "outputs": [],
   "source": [
    "import numpy as np"
   ]
  },
  {
   "cell_type": "code",
   "execution_count": 2,
   "metadata": {},
   "outputs": [],
   "source": [
    "import pandas as pd"
   ]
  },
  {
   "cell_type": "code",
   "execution_count": 11,
   "metadata": {},
   "outputs": [
    {
     "data": {
      "text/plain": [
       "0    1.0\n",
       "1    3.0\n",
       "2    5.0\n",
       "3    NaN\n",
       "4    6.0\n",
       "5    8.0\n",
       "dtype: float64"
      ]
     },
     "execution_count": 11,
     "metadata": {},
     "output_type": "execute_result"
    }
   ],
   "source": [
    "#Series Function\n",
    "s = pd.Series([1, 3, 5, np.nan, 6, 8])\n",
    "s"
   ]
  },
  {
   "cell_type": "code",
   "execution_count": 15,
   "metadata": {},
   "outputs": [
    {
     "data": {
      "text/html": [
       "<div>\n",
       "<style scoped>\n",
       "    .dataframe tbody tr th:only-of-type {\n",
       "        vertical-align: middle;\n",
       "    }\n",
       "\n",
       "    .dataframe tbody tr th {\n",
       "        vertical-align: top;\n",
       "    }\n",
       "\n",
       "    .dataframe thead th {\n",
       "        text-align: right;\n",
       "    }\n",
       "</style>\n",
       "<table border=\"1\" class=\"dataframe\">\n",
       "  <thead>\n",
       "    <tr style=\"text-align: right;\">\n",
       "      <th></th>\n",
       "      <th>A</th>\n",
       "      <th>B</th>\n",
       "      <th>C</th>\n",
       "      <th>D</th>\n",
       "    </tr>\n",
       "  </thead>\n",
       "  <tbody>\n",
       "    <tr>\n",
       "      <th>2013-01-01</th>\n",
       "      <td>1.528278</td>\n",
       "      <td>-0.076136</td>\n",
       "      <td>-1.352456</td>\n",
       "      <td>-0.639012</td>\n",
       "    </tr>\n",
       "    <tr>\n",
       "      <th>2013-01-02</th>\n",
       "      <td>-0.691766</td>\n",
       "      <td>-0.655615</td>\n",
       "      <td>-0.922440</td>\n",
       "      <td>-0.434063</td>\n",
       "    </tr>\n",
       "    <tr>\n",
       "      <th>2013-01-03</th>\n",
       "      <td>-1.506078</td>\n",
       "      <td>-1.838311</td>\n",
       "      <td>0.738114</td>\n",
       "      <td>0.391535</td>\n",
       "    </tr>\n",
       "    <tr>\n",
       "      <th>2013-01-04</th>\n",
       "      <td>1.008227</td>\n",
       "      <td>0.169466</td>\n",
       "      <td>-1.500458</td>\n",
       "      <td>-0.230070</td>\n",
       "    </tr>\n",
       "    <tr>\n",
       "      <th>2013-01-05</th>\n",
       "      <td>-0.574643</td>\n",
       "      <td>1.661289</td>\n",
       "      <td>0.592332</td>\n",
       "      <td>0.852425</td>\n",
       "    </tr>\n",
       "    <tr>\n",
       "      <th>2013-01-06</th>\n",
       "      <td>0.365327</td>\n",
       "      <td>1.529565</td>\n",
       "      <td>-2.114496</td>\n",
       "      <td>-0.049872</td>\n",
       "    </tr>\n",
       "  </tbody>\n",
       "</table>\n",
       "</div>"
      ],
      "text/plain": [
       "                   A         B         C         D\n",
       "2013-01-01  1.528278 -0.076136 -1.352456 -0.639012\n",
       "2013-01-02 -0.691766 -0.655615 -0.922440 -0.434063\n",
       "2013-01-03 -1.506078 -1.838311  0.738114  0.391535\n",
       "2013-01-04  1.008227  0.169466 -1.500458 -0.230070\n",
       "2013-01-05 -0.574643  1.661289  0.592332  0.852425\n",
       "2013-01-06  0.365327  1.529565 -2.114496 -0.049872"
      ]
     },
     "execution_count": 15,
     "metadata": {},
     "output_type": "execute_result"
    }
   ],
   "source": [
    "#Data Frames \n",
    "# data_range()\n",
    "dates = pd.date_range(\"20130101\", periods=6)\n",
    "\n",
    "dates\n",
    "\n",
    "\n",
    "#print(\"stop\")\n",
    "\n",
    "df = pd.DataFrame(np.random.randn(6, 4), index=dates, columns=list(\"ABCD\"))\n",
    "\n",
    "df"
   ]
  },
  {
   "cell_type": "code",
   "execution_count": 16,
   "metadata": {},
   "outputs": [
    {
     "data": {
      "text/html": [
       "<div>\n",
       "<style scoped>\n",
       "    .dataframe tbody tr th:only-of-type {\n",
       "        vertical-align: middle;\n",
       "    }\n",
       "\n",
       "    .dataframe tbody tr th {\n",
       "        vertical-align: top;\n",
       "    }\n",
       "\n",
       "    .dataframe thead th {\n",
       "        text-align: right;\n",
       "    }\n",
       "</style>\n",
       "<table border=\"1\" class=\"dataframe\">\n",
       "  <thead>\n",
       "    <tr style=\"text-align: right;\">\n",
       "      <th></th>\n",
       "      <th>A</th>\n",
       "      <th>B</th>\n",
       "      <th>C</th>\n",
       "      <th>D</th>\n",
       "      <th>E</th>\n",
       "      <th>F</th>\n",
       "    </tr>\n",
       "  </thead>\n",
       "  <tbody>\n",
       "    <tr>\n",
       "      <th>0</th>\n",
       "      <td>1.0</td>\n",
       "      <td>2013-01-02</td>\n",
       "      <td>1.0</td>\n",
       "      <td>3</td>\n",
       "      <td>test</td>\n",
       "      <td>foo</td>\n",
       "    </tr>\n",
       "    <tr>\n",
       "      <th>1</th>\n",
       "      <td>1.0</td>\n",
       "      <td>2013-01-02</td>\n",
       "      <td>1.0</td>\n",
       "      <td>3</td>\n",
       "      <td>train</td>\n",
       "      <td>foo</td>\n",
       "    </tr>\n",
       "    <tr>\n",
       "      <th>2</th>\n",
       "      <td>1.0</td>\n",
       "      <td>2013-01-02</td>\n",
       "      <td>1.0</td>\n",
       "      <td>3</td>\n",
       "      <td>test</td>\n",
       "      <td>foo</td>\n",
       "    </tr>\n",
       "    <tr>\n",
       "      <th>3</th>\n",
       "      <td>1.0</td>\n",
       "      <td>2013-01-02</td>\n",
       "      <td>1.0</td>\n",
       "      <td>3</td>\n",
       "      <td>train</td>\n",
       "      <td>foo</td>\n",
       "    </tr>\n",
       "  </tbody>\n",
       "</table>\n",
       "</div>"
      ],
      "text/plain": [
       "     A          B    C  D      E    F\n",
       "0  1.0 2013-01-02  1.0  3   test  foo\n",
       "1  1.0 2013-01-02  1.0  3  train  foo\n",
       "2  1.0 2013-01-02  1.0  3   test  foo\n",
       "3  1.0 2013-01-02  1.0  3  train  foo"
      ]
     },
     "execution_count": 16,
     "metadata": {},
     "output_type": "execute_result"
    }
   ],
   "source": [
    "df2 = pd.DataFrame(\n",
    "    {\n",
    "        \"A\": 1.0,\n",
    "        \"B\": pd.Timestamp(\"20130102\"),\n",
    "        \"C\": pd.Series(1, index=list(range(4)), dtype=\"float32\"),\n",
    "        \"D\": np.array([3] * 4, dtype=\"int32\"),\n",
    "        \"E\": pd.Categorical([\"test\", \"train\", \"test\", \"train\"]),\n",
    "        \"F\": \"foo\",\n",
    "    }\n",
    ")\n",
    "\n",
    "\n",
    "df2"
   ]
  },
  {
   "cell_type": "code",
   "execution_count": 17,
   "metadata": {},
   "outputs": [
    {
     "data": {
      "text/plain": [
       "A          float64\n",
       "B    datetime64[s]\n",
       "C          float32\n",
       "D            int32\n",
       "E         category\n",
       "F           object\n",
       "dtype: object"
      ]
     },
     "execution_count": 17,
     "metadata": {},
     "output_type": "execute_result"
    }
   ],
   "source": [
    "df2.dtypes"
   ]
  },
  {
   "cell_type": "code",
   "execution_count": null,
   "metadata": {},
   "outputs": [],
   "source": []
  },
  {
   "cell_type": "code",
   "execution_count": 21,
   "metadata": {},
   "outputs": [
    {
     "data": {
      "text/plain": [
       "0    1.0\n",
       "1    1.0\n",
       "2    1.0\n",
       "3    1.0\n",
       "Name: A, dtype: float64"
      ]
     },
     "execution_count": 21,
     "metadata": {},
     "output_type": "execute_result"
    }
   ],
   "source": [
    " # noqa: E225, E999\n",
    "df2.A               "
   ]
  },
  {
   "cell_type": "code",
   "execution_count": 22,
   "metadata": {},
   "outputs": [
    {
     "data": {
      "text/plain": [
       "<bound method NDFrame.abs of      A          B    C  D      E    F\n",
       "0  1.0 2013-01-02  1.0  3   test  foo\n",
       "1  1.0 2013-01-02  1.0  3  train  foo\n",
       "2  1.0 2013-01-02  1.0  3   test  foo\n",
       "3  1.0 2013-01-02  1.0  3  train  foo>"
      ]
     },
     "execution_count": 22,
     "metadata": {},
     "output_type": "execute_result"
    }
   ],
   "source": [
    "df2.abs  "
   ]
  },
  {
   "cell_type": "code",
   "execution_count": 25,
   "metadata": {},
   "outputs": [
    {
     "data": {
      "text/plain": [
       "<bound method NDFrame.add_prefix of      A          B    C  D      E    F\n",
       "0  1.0 2013-01-02  1.0  3   test  foo\n",
       "1  1.0 2013-01-02  1.0  3  train  foo\n",
       "2  1.0 2013-01-02  1.0  3   test  foo\n",
       "3  1.0 2013-01-02  1.0  3  train  foo>"
      ]
     },
     "execution_count": 25,
     "metadata": {},
     "output_type": "execute_result"
    }
   ],
   "source": [
    "df2.add_prefix "
   ]
  },
  {
   "cell_type": "code",
   "execution_count": 26,
   "metadata": {},
   "outputs": [
    {
     "data": {
      "text/plain": [
       "<bound method NDFrame.add_suffix of      A          B    C  D      E    F\n",
       "0  1.0 2013-01-02  1.0  3   test  foo\n",
       "1  1.0 2013-01-02  1.0  3  train  foo\n",
       "2  1.0 2013-01-02  1.0  3   test  foo\n",
       "3  1.0 2013-01-02  1.0  3  train  foo>"
      ]
     },
     "execution_count": 26,
     "metadata": {},
     "output_type": "execute_result"
    }
   ],
   "source": [
    "df2.add_suffix"
   ]
  },
  {
   "cell_type": "code",
   "execution_count": 27,
   "metadata": {},
   "outputs": [
    {
     "data": {
      "text/plain": [
       "<bound method NDFrame.align of      A          B    C  D      E    F\n",
       "0  1.0 2013-01-02  1.0  3   test  foo\n",
       "1  1.0 2013-01-02  1.0  3  train  foo\n",
       "2  1.0 2013-01-02  1.0  3   test  foo\n",
       "3  1.0 2013-01-02  1.0  3  train  foo>"
      ]
     },
     "execution_count": 27,
     "metadata": {},
     "output_type": "execute_result"
    }
   ],
   "source": [
    "df2.align"
   ]
  },
  {
   "cell_type": "code",
   "execution_count": 28,
   "metadata": {},
   "outputs": [
    {
     "data": {
      "text/plain": [
       "<bound method DataFrame.all of      A          B    C  D      E    F\n",
       "0  1.0 2013-01-02  1.0  3   test  foo\n",
       "1  1.0 2013-01-02  1.0  3  train  foo\n",
       "2  1.0 2013-01-02  1.0  3   test  foo\n",
       "3  1.0 2013-01-02  1.0  3  train  foo>"
      ]
     },
     "execution_count": 28,
     "metadata": {},
     "output_type": "execute_result"
    }
   ],
   "source": [
    "df2.all"
   ]
  },
  {
   "cell_type": "code",
   "execution_count": 29,
   "metadata": {},
   "outputs": [
    {
     "data": {
      "text/plain": [
       "<bound method DataFrame.any of      A          B    C  D      E    F\n",
       "0  1.0 2013-01-02  1.0  3   test  foo\n",
       "1  1.0 2013-01-02  1.0  3  train  foo\n",
       "2  1.0 2013-01-02  1.0  3   test  foo\n",
       "3  1.0 2013-01-02  1.0  3  train  foo>"
      ]
     },
     "execution_count": 29,
     "metadata": {},
     "output_type": "execute_result"
    }
   ],
   "source": [
    "df2.any "
   ]
  },
  {
   "cell_type": "code",
   "execution_count": 34,
   "metadata": {},
   "outputs": [
    {
     "ename": "AttributeError",
     "evalue": "'DataFrame' object has no attribute 'append'",
     "output_type": "error",
     "traceback": [
      "\u001b[1;31m---------------------------------------------------------------------------\u001b[0m",
      "\u001b[1;31mAttributeError\u001b[0m                            Traceback (most recent call last)",
      "\u001b[1;32m~\\AppData\\Local\\Temp\\ipykernel_16464\\1278900946.py\u001b[0m in \u001b[0;36m?\u001b[1;34m()\u001b[0m\n\u001b[1;32m----> 1\u001b[1;33m \u001b[0mdf2\u001b[0m\u001b[1;33m.\u001b[0m\u001b[0mappend\u001b[0m\u001b[1;33m\u001b[0m\u001b[1;33m\u001b[0m\u001b[0m\n\u001b[0m",
      "\u001b[1;32m~\\AppData\\Local\\Packages\\PythonSoftwareFoundation.Python.3.12_qbz5n2kfra8p0\\LocalCache\\local-packages\\Python312\\site-packages\\pandas\\core\\generic.py\u001b[0m in \u001b[0;36m?\u001b[1;34m(self, name)\u001b[0m\n\u001b[0;32m   6295\u001b[0m             \u001b[1;32mand\u001b[0m \u001b[0mname\u001b[0m \u001b[1;32mnot\u001b[0m \u001b[1;32min\u001b[0m \u001b[0mself\u001b[0m\u001b[1;33m.\u001b[0m\u001b[0m_accessors\u001b[0m\u001b[1;33m\u001b[0m\u001b[1;33m\u001b[0m\u001b[0m\n\u001b[0;32m   6296\u001b[0m             \u001b[1;32mand\u001b[0m \u001b[0mself\u001b[0m\u001b[1;33m.\u001b[0m\u001b[0m_info_axis\u001b[0m\u001b[1;33m.\u001b[0m\u001b[0m_can_hold_identifiers_and_holds_name\u001b[0m\u001b[1;33m(\u001b[0m\u001b[0mname\u001b[0m\u001b[1;33m)\u001b[0m\u001b[1;33m\u001b[0m\u001b[1;33m\u001b[0m\u001b[0m\n\u001b[0;32m   6297\u001b[0m         \u001b[1;33m)\u001b[0m\u001b[1;33m:\u001b[0m\u001b[1;33m\u001b[0m\u001b[1;33m\u001b[0m\u001b[0m\n\u001b[0;32m   6298\u001b[0m             \u001b[1;32mreturn\u001b[0m \u001b[0mself\u001b[0m\u001b[1;33m[\u001b[0m\u001b[0mname\u001b[0m\u001b[1;33m]\u001b[0m\u001b[1;33m\u001b[0m\u001b[1;33m\u001b[0m\u001b[0m\n\u001b[1;32m-> 6299\u001b[1;33m         \u001b[1;32mreturn\u001b[0m \u001b[0mobject\u001b[0m\u001b[1;33m.\u001b[0m\u001b[0m__getattribute__\u001b[0m\u001b[1;33m(\u001b[0m\u001b[0mself\u001b[0m\u001b[1;33m,\u001b[0m \u001b[0mname\u001b[0m\u001b[1;33m)\u001b[0m\u001b[1;33m\u001b[0m\u001b[1;33m\u001b[0m\u001b[0m\n\u001b[0m",
      "\u001b[1;31mAttributeError\u001b[0m: 'DataFrame' object has no attribute 'append'"
     ]
    }
   ],
   "source": [
    "df2.append "
   ]
  },
  {
   "cell_type": "code",
   "execution_count": 35,
   "metadata": {},
   "outputs": [
    {
     "data": {
      "text/plain": [
       "<bound method DataFrame.apply of      A          B    C  D      E    F\n",
       "0  1.0 2013-01-02  1.0  3   test  foo\n",
       "1  1.0 2013-01-02  1.0  3  train  foo\n",
       "2  1.0 2013-01-02  1.0  3   test  foo\n",
       "3  1.0 2013-01-02  1.0  3  train  foo>"
      ]
     },
     "execution_count": 35,
     "metadata": {},
     "output_type": "execute_result"
    }
   ],
   "source": [
    "df2.apply"
   ]
  },
  {
   "cell_type": "code",
   "execution_count": 36,
   "metadata": {},
   "outputs": [
    {
     "data": {
      "text/plain": [
       "<bound method DataFrame.applymap of      A          B    C  D      E    F\n",
       "0  1.0 2013-01-02  1.0  3   test  foo\n",
       "1  1.0 2013-01-02  1.0  3  train  foo\n",
       "2  1.0 2013-01-02  1.0  3   test  foo\n",
       "3  1.0 2013-01-02  1.0  3  train  foo>"
      ]
     },
     "execution_count": 36,
     "metadata": {},
     "output_type": "execute_result"
    }
   ],
   "source": [
    "df2.applymap"
   ]
  },
  {
   "cell_type": "code",
   "execution_count": 37,
   "metadata": {},
   "outputs": [
    {
     "data": {
      "text/plain": [
       "0   2013-01-02\n",
       "1   2013-01-02\n",
       "2   2013-01-02\n",
       "3   2013-01-02\n",
       "Name: B, dtype: datetime64[s]"
      ]
     },
     "execution_count": 37,
     "metadata": {},
     "output_type": "execute_result"
    }
   ],
   "source": [
    "df2.B   "
   ]
  },
  {
   "cell_type": "code",
   "execution_count": 38,
   "metadata": {},
   "outputs": [
    {
     "data": {
      "text/plain": [
       "<bound method NDFrame.bool of      A          B    C  D      E    F\n",
       "0  1.0 2013-01-02  1.0  3   test  foo\n",
       "1  1.0 2013-01-02  1.0  3  train  foo\n",
       "2  1.0 2013-01-02  1.0  3   test  foo\n",
       "3  1.0 2013-01-02  1.0  3  train  foo>"
      ]
     },
     "execution_count": 38,
     "metadata": {},
     "output_type": "execute_result"
    }
   ],
   "source": [
    "df2.bool"
   ]
  },
  {
   "cell_type": "code",
   "execution_count": 39,
   "metadata": {},
   "outputs": [
    {
     "data": {
      "text/plain": [
       "<bound method boxplot_frame of      A          B    C  D      E    F\n",
       "0  1.0 2013-01-02  1.0  3   test  foo\n",
       "1  1.0 2013-01-02  1.0  3  train  foo\n",
       "2  1.0 2013-01-02  1.0  3   test  foo\n",
       "3  1.0 2013-01-02  1.0  3  train  foo>"
      ]
     },
     "execution_count": 39,
     "metadata": {},
     "output_type": "execute_result"
    }
   ],
   "source": [
    "  df2.boxplot"
   ]
  },
  {
   "cell_type": "code",
   "execution_count": 40,
   "metadata": {},
   "outputs": [
    {
     "data": {
      "text/plain": [
       "0    1.0\n",
       "1    1.0\n",
       "2    1.0\n",
       "3    1.0\n",
       "Name: C, dtype: float32"
      ]
     },
     "execution_count": 40,
     "metadata": {},
     "output_type": "execute_result"
    }
   ],
   "source": [
    "df2.C"
   ]
  },
  {
   "cell_type": "code",
   "execution_count": 41,
   "metadata": {},
   "outputs": [
    {
     "data": {
      "text/plain": [
       "<bound method NDFrame.clip of      A          B    C  D      E    F\n",
       "0  1.0 2013-01-02  1.0  3   test  foo\n",
       "1  1.0 2013-01-02  1.0  3  train  foo\n",
       "2  1.0 2013-01-02  1.0  3   test  foo\n",
       "3  1.0 2013-01-02  1.0  3  train  foo>"
      ]
     },
     "execution_count": 41,
     "metadata": {},
     "output_type": "execute_result"
    }
   ],
   "source": [
    "df2.clip"
   ]
  },
  {
   "cell_type": "code",
   "execution_count": 42,
   "metadata": {},
   "outputs": [
    {
     "data": {
      "text/plain": [
       "Index(['A', 'B', 'C', 'D', 'E', 'F'], dtype='object')"
      ]
     },
     "execution_count": 42,
     "metadata": {},
     "output_type": "execute_result"
    }
   ],
   "source": [
    "df2.columns"
   ]
  },
  {
   "cell_type": "code",
   "execution_count": 43,
   "metadata": {},
   "outputs": [
    {
     "data": {
      "text/plain": [
       "<bound method NDFrame.copy of      A          B    C  D      E    F\n",
       "0  1.0 2013-01-02  1.0  3   test  foo\n",
       "1  1.0 2013-01-02  1.0  3  train  foo\n",
       "2  1.0 2013-01-02  1.0  3   test  foo\n",
       "3  1.0 2013-01-02  1.0  3  train  foo>"
      ]
     },
     "execution_count": 43,
     "metadata": {},
     "output_type": "execute_result"
    }
   ],
   "source": [
    " df2.copy"
   ]
  },
  {
   "cell_type": "code",
   "execution_count": 44,
   "metadata": {},
   "outputs": [
    {
     "data": {
      "text/plain": [
       "<bound method DataFrame.count of      A          B    C  D      E    F\n",
       "0  1.0 2013-01-02  1.0  3   test  foo\n",
       "1  1.0 2013-01-02  1.0  3  train  foo\n",
       "2  1.0 2013-01-02  1.0  3   test  foo\n",
       "3  1.0 2013-01-02  1.0  3  train  foo>"
      ]
     },
     "execution_count": 44,
     "metadata": {},
     "output_type": "execute_result"
    }
   ],
   "source": [
    "df2.count"
   ]
  },
  {
   "cell_type": "code",
   "execution_count": 45,
   "metadata": {},
   "outputs": [
    {
     "data": {
      "text/plain": [
       "<bound method DataFrame.combine of      A          B    C  D      E    F\n",
       "0  1.0 2013-01-02  1.0  3   test  foo\n",
       "1  1.0 2013-01-02  1.0  3  train  foo\n",
       "2  1.0 2013-01-02  1.0  3   test  foo\n",
       "3  1.0 2013-01-02  1.0  3  train  foo>"
      ]
     },
     "execution_count": 45,
     "metadata": {},
     "output_type": "execute_result"
    }
   ],
   "source": [
    "  df2.combine"
   ]
  },
  {
   "cell_type": "code",
   "execution_count": 46,
   "metadata": {},
   "outputs": [
    {
     "data": {
      "text/plain": [
       "<bound method NDFrame.describe of      A          B    C  D      E    F\n",
       "0  1.0 2013-01-02  1.0  3   test  foo\n",
       "1  1.0 2013-01-02  1.0  3  train  foo\n",
       "2  1.0 2013-01-02  1.0  3   test  foo\n",
       "3  1.0 2013-01-02  1.0  3  train  foo>"
      ]
     },
     "execution_count": 46,
     "metadata": {},
     "output_type": "execute_result"
    }
   ],
   "source": [
    "df2.describe"
   ]
  },
  {
   "cell_type": "code",
   "execution_count": 47,
   "metadata": {},
   "outputs": [
    {
     "data": {
      "text/plain": [
       "<bound method DataFrame.diff of      A          B    C  D      E    F\n",
       "0  1.0 2013-01-02  1.0  3   test  foo\n",
       "1  1.0 2013-01-02  1.0  3  train  foo\n",
       "2  1.0 2013-01-02  1.0  3   test  foo\n",
       "3  1.0 2013-01-02  1.0  3  train  foo>"
      ]
     },
     "execution_count": 47,
     "metadata": {},
     "output_type": "execute_result"
    }
   ],
   "source": [
    "df2.diff"
   ]
  },
  {
   "cell_type": "code",
   "execution_count": 48,
   "metadata": {},
   "outputs": [
    {
     "data": {
      "text/plain": [
       "<bound method DataFrame.duplicated of      A          B    C  D      E    F\n",
       "0  1.0 2013-01-02  1.0  3   test  foo\n",
       "1  1.0 2013-01-02  1.0  3  train  foo\n",
       "2  1.0 2013-01-02  1.0  3   test  foo\n",
       "3  1.0 2013-01-02  1.0  3  train  foo>"
      ]
     },
     "execution_count": 48,
     "metadata": {},
     "output_type": "execute_result"
    }
   ],
   "source": [
    "df2.duplicated"
   ]
  },
  {
   "cell_type": "code",
   "execution_count": 52,
   "metadata": {},
   "outputs": [
    {
     "data": {
      "text/html": [
       "<div>\n",
       "<style scoped>\n",
       "    .dataframe tbody tr th:only-of-type {\n",
       "        vertical-align: middle;\n",
       "    }\n",
       "\n",
       "    .dataframe tbody tr th {\n",
       "        vertical-align: top;\n",
       "    }\n",
       "\n",
       "    .dataframe thead th {\n",
       "        text-align: right;\n",
       "    }\n",
       "</style>\n",
       "<table border=\"1\" class=\"dataframe\">\n",
       "  <thead>\n",
       "    <tr style=\"text-align: right;\">\n",
       "      <th></th>\n",
       "      <th>A</th>\n",
       "      <th>B</th>\n",
       "      <th>C</th>\n",
       "      <th>D</th>\n",
       "    </tr>\n",
       "  </thead>\n",
       "  <tbody>\n",
       "    <tr>\n",
       "      <th>2013-01-01</th>\n",
       "      <td>1.528278</td>\n",
       "      <td>-0.076136</td>\n",
       "      <td>-1.352456</td>\n",
       "      <td>-0.639012</td>\n",
       "    </tr>\n",
       "    <tr>\n",
       "      <th>2013-01-02</th>\n",
       "      <td>-0.691766</td>\n",
       "      <td>-0.655615</td>\n",
       "      <td>-0.922440</td>\n",
       "      <td>-0.434063</td>\n",
       "    </tr>\n",
       "    <tr>\n",
       "      <th>2013-01-03</th>\n",
       "      <td>-1.506078</td>\n",
       "      <td>-1.838311</td>\n",
       "      <td>0.738114</td>\n",
       "      <td>0.391535</td>\n",
       "    </tr>\n",
       "    <tr>\n",
       "      <th>2013-01-04</th>\n",
       "      <td>1.008227</td>\n",
       "      <td>0.169466</td>\n",
       "      <td>-1.500458</td>\n",
       "      <td>-0.230070</td>\n",
       "    </tr>\n",
       "    <tr>\n",
       "      <th>2013-01-05</th>\n",
       "      <td>-0.574643</td>\n",
       "      <td>1.661289</td>\n",
       "      <td>0.592332</td>\n",
       "      <td>0.852425</td>\n",
       "    </tr>\n",
       "  </tbody>\n",
       "</table>\n",
       "</div>"
      ],
      "text/plain": [
       "                   A         B         C         D\n",
       "2013-01-01  1.528278 -0.076136 -1.352456 -0.639012\n",
       "2013-01-02 -0.691766 -0.655615 -0.922440 -0.434063\n",
       "2013-01-03 -1.506078 -1.838311  0.738114  0.391535\n",
       "2013-01-04  1.008227  0.169466 -1.500458 -0.230070\n",
       "2013-01-05 -0.574643  1.661289  0.592332  0.852425"
      ]
     },
     "execution_count": 52,
     "metadata": {},
     "output_type": "execute_result"
    }
   ],
   "source": [
    "df.head()\n"
   ]
  },
  {
   "cell_type": "code",
   "execution_count": 54,
   "metadata": {},
   "outputs": [
    {
     "data": {
      "text/html": [
       "<div>\n",
       "<style scoped>\n",
       "    .dataframe tbody tr th:only-of-type {\n",
       "        vertical-align: middle;\n",
       "    }\n",
       "\n",
       "    .dataframe tbody tr th {\n",
       "        vertical-align: top;\n",
       "    }\n",
       "\n",
       "    .dataframe thead th {\n",
       "        text-align: right;\n",
       "    }\n",
       "</style>\n",
       "<table border=\"1\" class=\"dataframe\">\n",
       "  <thead>\n",
       "    <tr style=\"text-align: right;\">\n",
       "      <th></th>\n",
       "      <th>A</th>\n",
       "      <th>B</th>\n",
       "      <th>C</th>\n",
       "      <th>D</th>\n",
       "    </tr>\n",
       "  </thead>\n",
       "  <tbody>\n",
       "    <tr>\n",
       "      <th>2013-01-04</th>\n",
       "      <td>1.008227</td>\n",
       "      <td>0.169466</td>\n",
       "      <td>-1.500458</td>\n",
       "      <td>-0.230070</td>\n",
       "    </tr>\n",
       "    <tr>\n",
       "      <th>2013-01-05</th>\n",
       "      <td>-0.574643</td>\n",
       "      <td>1.661289</td>\n",
       "      <td>0.592332</td>\n",
       "      <td>0.852425</td>\n",
       "    </tr>\n",
       "    <tr>\n",
       "      <th>2013-01-06</th>\n",
       "      <td>0.365327</td>\n",
       "      <td>1.529565</td>\n",
       "      <td>-2.114496</td>\n",
       "      <td>-0.049872</td>\n",
       "    </tr>\n",
       "  </tbody>\n",
       "</table>\n",
       "</div>"
      ],
      "text/plain": [
       "                   A         B         C         D\n",
       "2013-01-04  1.008227  0.169466 -1.500458 -0.230070\n",
       "2013-01-05 -0.574643  1.661289  0.592332  0.852425\n",
       "2013-01-06  0.365327  1.529565 -2.114496 -0.049872"
      ]
     },
     "execution_count": 54,
     "metadata": {},
     "output_type": "execute_result"
    }
   ],
   "source": [
    "df.tail(3)"
   ]
  },
  {
   "cell_type": "code",
   "execution_count": 53,
   "metadata": {},
   "outputs": [
    {
     "data": {
      "text/plain": [
       "DatetimeIndex(['2013-01-01', '2013-01-02', '2013-01-03', '2013-01-04',\n",
       "               '2013-01-05', '2013-01-06'],\n",
       "              dtype='datetime64[ns]', freq='D')"
      ]
     },
     "execution_count": 53,
     "metadata": {},
     "output_type": "execute_result"
    }
   ],
   "source": [
    "df.index"
   ]
  },
  {
   "cell_type": "code",
   "execution_count": 55,
   "metadata": {},
   "outputs": [
    {
     "data": {
      "text/plain": [
       "array([[ 1.52827776, -0.0761355 , -1.3524563 , -0.63901174],\n",
       "       [-0.69176572, -0.65561511, -0.92243974, -0.43406335],\n",
       "       [-1.50607833, -1.83831126,  0.73811385,  0.39153515],\n",
       "       [ 1.00822717,  0.16946626, -1.50045815, -0.23006992],\n",
       "       [-0.57464327,  1.66128886,  0.59233182,  0.85242496],\n",
       "       [ 0.36532703,  1.5295649 , -2.11449555, -0.04987159]])"
      ]
     },
     "execution_count": 55,
     "metadata": {},
     "output_type": "execute_result"
    }
   ],
   "source": [
    "df.to_numpy()"
   ]
  },
  {
   "cell_type": "code",
   "execution_count": 56,
   "metadata": {},
   "outputs": [
    {
     "name": "stdout",
     "output_type": "stream",
     "text": [
      "Series:\n",
      "0   -0.165309\n",
      "1   -1.903558\n",
      "2   -0.441722\n",
      "3   -0.565436\n",
      "4   -0.364519\n",
      "5    0.487243\n",
      "6   -0.251832\n",
      "7    0.696259\n",
      "8    0.102164\n",
      "9    0.742816\n",
      "dtype: float64\n",
      "First 5 elements of the Series:\n",
      " 0   -0.165309\n",
      "1   -1.903558\n",
      "2   -0.441722\n",
      "3   -0.565436\n",
      "4   -0.364519\n",
      "dtype: float64\n",
      "\n",
      "Last 3 elements of the Series:\n",
      " 7    0.696259\n",
      "8    0.102164\n",
      "9    0.742816\n",
      "dtype: float64\n",
      "\n",
      "Descriptive statistics of the Series:\n",
      " count    10.000000\n",
      "mean     -0.166389\n",
      "std       0.772408\n",
      "min      -1.903558\n",
      "25%      -0.422421\n",
      "50%      -0.208571\n",
      "75%       0.390973\n",
      "max       0.742816\n",
      "dtype: float64\n"
     ]
    }
   ],
   "source": [
    "import pandas as pd\n",
    "import numpy as np\n",
    "\n",
    "# Create a Series with random numbers\n",
    "s = pd.Series(np.random.randn(10))\n",
    "\n",
    "print(\"Series:\")\n",
    "print(s)\n",
    "\n",
    "# Using basic methods\n",
    "print(\"First 5 elements of the Series:\\n\", s.head())\n",
    "print(\"\\nLast 3 elements of the Series:\\n\", s.tail(3))\n",
    "print(\"\\nDescriptive statistics of the Series:\\n\", s.describe())"
   ]
  },
  {
   "cell_type": "code",
   "execution_count": 57,
   "metadata": {},
   "outputs": [
    {
     "data": {
      "text/plain": [
       "DatetimeIndex(['2013-01-01', '2013-01-02', '2013-01-03', '2013-01-04',\n",
       "               '2013-01-05', '2013-01-06'],\n",
       "              dtype='datetime64[ns]', freq='D')"
      ]
     },
     "execution_count": 57,
     "metadata": {},
     "output_type": "execute_result"
    }
   ],
   "source": [
    "dates = pd.date_range(\"20130101\", periods=6)\n",
    "\n",
    "dates"
   ]
  },
  {
   "cell_type": "code",
   "execution_count": 58,
   "metadata": {},
   "outputs": [
    {
     "data": {
      "text/html": [
       "<div>\n",
       "<style scoped>\n",
       "    .dataframe tbody tr th:only-of-type {\n",
       "        vertical-align: middle;\n",
       "    }\n",
       "\n",
       "    .dataframe tbody tr th {\n",
       "        vertical-align: top;\n",
       "    }\n",
       "\n",
       "    .dataframe thead th {\n",
       "        text-align: right;\n",
       "    }\n",
       "</style>\n",
       "<table border=\"1\" class=\"dataframe\">\n",
       "  <thead>\n",
       "    <tr style=\"text-align: right;\">\n",
       "      <th></th>\n",
       "      <th>A</th>\n",
       "      <th>B</th>\n",
       "      <th>C</th>\n",
       "      <th>D</th>\n",
       "    </tr>\n",
       "  </thead>\n",
       "  <tbody>\n",
       "    <tr>\n",
       "      <th>2013-01-01</th>\n",
       "      <td>-0.280049</td>\n",
       "      <td>-0.839018</td>\n",
       "      <td>1.362905</td>\n",
       "      <td>0.987500</td>\n",
       "    </tr>\n",
       "    <tr>\n",
       "      <th>2013-01-02</th>\n",
       "      <td>-0.952427</td>\n",
       "      <td>1.000594</td>\n",
       "      <td>1.458173</td>\n",
       "      <td>1.354404</td>\n",
       "    </tr>\n",
       "    <tr>\n",
       "      <th>2013-01-03</th>\n",
       "      <td>-0.568745</td>\n",
       "      <td>-0.087477</td>\n",
       "      <td>0.204503</td>\n",
       "      <td>1.692516</td>\n",
       "    </tr>\n",
       "    <tr>\n",
       "      <th>2013-01-04</th>\n",
       "      <td>0.297723</td>\n",
       "      <td>1.183462</td>\n",
       "      <td>2.562678</td>\n",
       "      <td>-0.508385</td>\n",
       "    </tr>\n",
       "    <tr>\n",
       "      <th>2013-01-05</th>\n",
       "      <td>2.339837</td>\n",
       "      <td>1.444471</td>\n",
       "      <td>-1.303741</td>\n",
       "      <td>0.415187</td>\n",
       "    </tr>\n",
       "    <tr>\n",
       "      <th>2013-01-06</th>\n",
       "      <td>0.991042</td>\n",
       "      <td>-0.466796</td>\n",
       "      <td>0.568300</td>\n",
       "      <td>-1.927360</td>\n",
       "    </tr>\n",
       "  </tbody>\n",
       "</table>\n",
       "</div>"
      ],
      "text/plain": [
       "                   A         B         C         D\n",
       "2013-01-01 -0.280049 -0.839018  1.362905  0.987500\n",
       "2013-01-02 -0.952427  1.000594  1.458173  1.354404\n",
       "2013-01-03 -0.568745 -0.087477  0.204503  1.692516\n",
       "2013-01-04  0.297723  1.183462  2.562678 -0.508385\n",
       "2013-01-05  2.339837  1.444471 -1.303741  0.415187\n",
       "2013-01-06  0.991042 -0.466796  0.568300 -1.927360"
      ]
     },
     "execution_count": 58,
     "metadata": {},
     "output_type": "execute_result"
    }
   ],
   "source": [
    "df = pd.DataFrame(np.random.randn(6, 4), index=dates, columns=list(\"ABCD\"))\n",
    "\n",
    "df"
   ]
  },
  {
   "cell_type": "code",
   "execution_count": 59,
   "metadata": {},
   "outputs": [
    {
     "data": {
      "text/html": [
       "<div>\n",
       "<style scoped>\n",
       "    .dataframe tbody tr th:only-of-type {\n",
       "        vertical-align: middle;\n",
       "    }\n",
       "\n",
       "    .dataframe tbody tr th {\n",
       "        vertical-align: top;\n",
       "    }\n",
       "\n",
       "    .dataframe thead th {\n",
       "        text-align: right;\n",
       "    }\n",
       "</style>\n",
       "<table border=\"1\" class=\"dataframe\">\n",
       "  <thead>\n",
       "    <tr style=\"text-align: right;\">\n",
       "      <th></th>\n",
       "      <th>A</th>\n",
       "      <th>B</th>\n",
       "      <th>C</th>\n",
       "      <th>D</th>\n",
       "      <th>E</th>\n",
       "      <th>F</th>\n",
       "    </tr>\n",
       "  </thead>\n",
       "  <tbody>\n",
       "    <tr>\n",
       "      <th>0</th>\n",
       "      <td>1.0</td>\n",
       "      <td>2013-01-02</td>\n",
       "      <td>1.0</td>\n",
       "      <td>3</td>\n",
       "      <td>test</td>\n",
       "      <td>foo</td>\n",
       "    </tr>\n",
       "    <tr>\n",
       "      <th>1</th>\n",
       "      <td>1.0</td>\n",
       "      <td>2013-01-02</td>\n",
       "      <td>1.0</td>\n",
       "      <td>3</td>\n",
       "      <td>train</td>\n",
       "      <td>foo</td>\n",
       "    </tr>\n",
       "    <tr>\n",
       "      <th>2</th>\n",
       "      <td>1.0</td>\n",
       "      <td>2013-01-02</td>\n",
       "      <td>1.0</td>\n",
       "      <td>3</td>\n",
       "      <td>test</td>\n",
       "      <td>foo</td>\n",
       "    </tr>\n",
       "    <tr>\n",
       "      <th>3</th>\n",
       "      <td>1.0</td>\n",
       "      <td>2013-01-02</td>\n",
       "      <td>1.0</td>\n",
       "      <td>3</td>\n",
       "      <td>train</td>\n",
       "      <td>foo</td>\n",
       "    </tr>\n",
       "  </tbody>\n",
       "</table>\n",
       "</div>"
      ],
      "text/plain": [
       "     A          B    C  D      E    F\n",
       "0  1.0 2013-01-02  1.0  3   test  foo\n",
       "1  1.0 2013-01-02  1.0  3  train  foo\n",
       "2  1.0 2013-01-02  1.0  3   test  foo\n",
       "3  1.0 2013-01-02  1.0  3  train  foo"
      ]
     },
     "execution_count": 59,
     "metadata": {},
     "output_type": "execute_result"
    }
   ],
   "source": [
    "df2 = pd.DataFrame(\n",
    "    {\n",
    "        \"A\": 1.0,\n",
    "        \"B\": pd.Timestamp(\"20130102\"),\n",
    "        \"C\": pd.Series(1, index=list(range(4)), dtype=\"float32\"),\n",
    "        \"D\": np.array([3] * 4, dtype=\"int32\"),\n",
    "        \"E\": pd.Categorical([\"test\", \"train\", \"test\", \"train\"]),\n",
    "        \"F\": \"foo\",\n",
    "    }\n",
    ")\n",
    "\n",
    "\n",
    "df2"
   ]
  },
  {
   "cell_type": "code",
   "execution_count": 60,
   "metadata": {},
   "outputs": [
    {
     "data": {
      "text/plain": [
       "A          float64\n",
       "B    datetime64[s]\n",
       "C          float32\n",
       "D            int32\n",
       "E         category\n",
       "F           object\n",
       "dtype: object"
      ]
     },
     "execution_count": 60,
     "metadata": {},
     "output_type": "execute_result"
    }
   ],
   "source": [
    "df2.dtypes"
   ]
  },
  {
   "cell_type": "code",
   "execution_count": 61,
   "metadata": {},
   "outputs": [
    {
     "data": {
      "text/html": [
       "<div>\n",
       "<style scoped>\n",
       "    .dataframe tbody tr th:only-of-type {\n",
       "        vertical-align: middle;\n",
       "    }\n",
       "\n",
       "    .dataframe tbody tr th {\n",
       "        vertical-align: top;\n",
       "    }\n",
       "\n",
       "    .dataframe thead th {\n",
       "        text-align: right;\n",
       "    }\n",
       "</style>\n",
       "<table border=\"1\" class=\"dataframe\">\n",
       "  <thead>\n",
       "    <tr style=\"text-align: right;\">\n",
       "      <th></th>\n",
       "      <th>A</th>\n",
       "      <th>B</th>\n",
       "      <th>C</th>\n",
       "      <th>D</th>\n",
       "    </tr>\n",
       "  </thead>\n",
       "  <tbody>\n",
       "    <tr>\n",
       "      <th>2013-01-01</th>\n",
       "      <td>-0.280049</td>\n",
       "      <td>-0.839018</td>\n",
       "      <td>1.362905</td>\n",
       "      <td>0.987500</td>\n",
       "    </tr>\n",
       "    <tr>\n",
       "      <th>2013-01-02</th>\n",
       "      <td>-0.952427</td>\n",
       "      <td>1.000594</td>\n",
       "      <td>1.458173</td>\n",
       "      <td>1.354404</td>\n",
       "    </tr>\n",
       "    <tr>\n",
       "      <th>2013-01-03</th>\n",
       "      <td>-0.568745</td>\n",
       "      <td>-0.087477</td>\n",
       "      <td>0.204503</td>\n",
       "      <td>1.692516</td>\n",
       "    </tr>\n",
       "    <tr>\n",
       "      <th>2013-01-04</th>\n",
       "      <td>0.297723</td>\n",
       "      <td>1.183462</td>\n",
       "      <td>2.562678</td>\n",
       "      <td>-0.508385</td>\n",
       "    </tr>\n",
       "    <tr>\n",
       "      <th>2013-01-05</th>\n",
       "      <td>2.339837</td>\n",
       "      <td>1.444471</td>\n",
       "      <td>-1.303741</td>\n",
       "      <td>0.415187</td>\n",
       "    </tr>\n",
       "  </tbody>\n",
       "</table>\n",
       "</div>"
      ],
      "text/plain": [
       "                   A         B         C         D\n",
       "2013-01-01 -0.280049 -0.839018  1.362905  0.987500\n",
       "2013-01-02 -0.952427  1.000594  1.458173  1.354404\n",
       "2013-01-03 -0.568745 -0.087477  0.204503  1.692516\n",
       "2013-01-04  0.297723  1.183462  2.562678 -0.508385\n",
       "2013-01-05  2.339837  1.444471 -1.303741  0.415187"
      ]
     },
     "execution_count": 61,
     "metadata": {},
     "output_type": "execute_result"
    }
   ],
   "source": [
    "df.head()"
   ]
  },
  {
   "cell_type": "code",
   "execution_count": 62,
   "metadata": {},
   "outputs": [
    {
     "data": {
      "text/html": [
       "<div>\n",
       "<style scoped>\n",
       "    .dataframe tbody tr th:only-of-type {\n",
       "        vertical-align: middle;\n",
       "    }\n",
       "\n",
       "    .dataframe tbody tr th {\n",
       "        vertical-align: top;\n",
       "    }\n",
       "\n",
       "    .dataframe thead th {\n",
       "        text-align: right;\n",
       "    }\n",
       "</style>\n",
       "<table border=\"1\" class=\"dataframe\">\n",
       "  <thead>\n",
       "    <tr style=\"text-align: right;\">\n",
       "      <th></th>\n",
       "      <th>A</th>\n",
       "      <th>B</th>\n",
       "      <th>C</th>\n",
       "      <th>D</th>\n",
       "    </tr>\n",
       "  </thead>\n",
       "  <tbody>\n",
       "    <tr>\n",
       "      <th>2013-01-04</th>\n",
       "      <td>0.297723</td>\n",
       "      <td>1.183462</td>\n",
       "      <td>2.562678</td>\n",
       "      <td>-0.508385</td>\n",
       "    </tr>\n",
       "    <tr>\n",
       "      <th>2013-01-05</th>\n",
       "      <td>2.339837</td>\n",
       "      <td>1.444471</td>\n",
       "      <td>-1.303741</td>\n",
       "      <td>0.415187</td>\n",
       "    </tr>\n",
       "    <tr>\n",
       "      <th>2013-01-06</th>\n",
       "      <td>0.991042</td>\n",
       "      <td>-0.466796</td>\n",
       "      <td>0.568300</td>\n",
       "      <td>-1.927360</td>\n",
       "    </tr>\n",
       "  </tbody>\n",
       "</table>\n",
       "</div>"
      ],
      "text/plain": [
       "                   A         B         C         D\n",
       "2013-01-04  0.297723  1.183462  2.562678 -0.508385\n",
       "2013-01-05  2.339837  1.444471 -1.303741  0.415187\n",
       "2013-01-06  0.991042 -0.466796  0.568300 -1.927360"
      ]
     },
     "execution_count": 62,
     "metadata": {},
     "output_type": "execute_result"
    }
   ],
   "source": [
    "df.tail(3)"
   ]
  },
  {
   "cell_type": "code",
   "execution_count": 63,
   "metadata": {},
   "outputs": [
    {
     "data": {
      "text/plain": [
       "DatetimeIndex(['2013-01-01', '2013-01-02', '2013-01-03', '2013-01-04',\n",
       "               '2013-01-05', '2013-01-06'],\n",
       "              dtype='datetime64[ns]', freq='D')"
      ]
     },
     "execution_count": 63,
     "metadata": {},
     "output_type": "execute_result"
    }
   ],
   "source": [
    "df.index"
   ]
  },
  {
   "cell_type": "code",
   "execution_count": 64,
   "metadata": {},
   "outputs": [
    {
     "data": {
      "text/plain": [
       "Index(['A', 'B', 'C', 'D'], dtype='object')"
      ]
     },
     "execution_count": 64,
     "metadata": {},
     "output_type": "execute_result"
    }
   ],
   "source": [
    "df.columns\n"
   ]
  },
  {
   "cell_type": "code",
   "execution_count": 65,
   "metadata": {},
   "outputs": [
    {
     "data": {
      "text/plain": [
       "array([[-0.2800487 , -0.83901842,  1.36290483,  0.98749959],\n",
       "       [-0.95242712,  1.00059409,  1.4581727 ,  1.35440358],\n",
       "       [-0.56874466, -0.08747743,  0.20450304,  1.69251583],\n",
       "       [ 0.29772308,  1.18346226,  2.56267825, -0.50838487],\n",
       "       [ 2.3398367 ,  1.444471  , -1.30374055,  0.4151874 ],\n",
       "       [ 0.99104224, -0.46679617,  0.56829975, -1.92735953]])"
      ]
     },
     "execution_count": 65,
     "metadata": {},
     "output_type": "execute_result"
    }
   ],
   "source": [
    "df.to_numpy()"
   ]
  },
  {
   "cell_type": "code",
   "execution_count": 71,
   "metadata": {},
   "outputs": [
    {
     "name": "stdout",
     "output_type": "stream",
     "text": [
      "Defaulting to user installation because normal site-packages is not writeableNote: you may need to restart the kernel to use updated packages.\n",
      "\n",
      "Collecting matplotlib\n",
      "  Downloading matplotlib-3.9.2-cp312-cp312-win_amd64.whl.metadata (11 kB)\n",
      "Collecting contourpy>=1.0.1 (from matplotlib)\n",
      "  Downloading contourpy-1.3.0-cp312-cp312-win_amd64.whl.metadata (5.4 kB)\n",
      "Collecting cycler>=0.10 (from matplotlib)\n",
      "  Downloading cycler-0.12.1-py3-none-any.whl.metadata (3.8 kB)\n",
      "Collecting fonttools>=4.22.0 (from matplotlib)\n",
      "  Downloading fonttools-4.53.1-cp312-cp312-win_amd64.whl.metadata (165 kB)\n",
      "Collecting kiwisolver>=1.3.1 (from matplotlib)\n",
      "  Downloading kiwisolver-1.4.7-cp312-cp312-win_amd64.whl.metadata (6.4 kB)\n",
      "Requirement already satisfied: numpy>=1.23 in c:\\users\\001mh\\appdata\\local\\packages\\pythonsoftwarefoundation.python.3.12_qbz5n2kfra8p0\\localcache\\local-packages\\python312\\site-packages (from matplotlib) (2.1.1)\n",
      "Requirement already satisfied: packaging>=20.0 in c:\\users\\001mh\\appdata\\local\\packages\\pythonsoftwarefoundation.python.3.12_qbz5n2kfra8p0\\localcache\\local-packages\\python312\\site-packages (from matplotlib) (24.1)\n",
      "Collecting pillow>=8 (from matplotlib)\n",
      "  Downloading pillow-10.4.0-cp312-cp312-win_amd64.whl.metadata (9.3 kB)\n",
      "Collecting pyparsing>=2.3.1 (from matplotlib)\n",
      "  Downloading pyparsing-3.1.4-py3-none-any.whl.metadata (5.1 kB)\n",
      "Requirement already satisfied: python-dateutil>=2.7 in c:\\users\\001mh\\appdata\\local\\packages\\pythonsoftwarefoundation.python.3.12_qbz5n2kfra8p0\\localcache\\local-packages\\python312\\site-packages (from matplotlib) (2.9.0.post0)\n",
      "Requirement already satisfied: six>=1.5 in c:\\users\\001mh\\appdata\\local\\packages\\pythonsoftwarefoundation.python.3.12_qbz5n2kfra8p0\\localcache\\local-packages\\python312\\site-packages (from python-dateutil>=2.7->matplotlib) (1.16.0)\n",
      "Downloading matplotlib-3.9.2-cp312-cp312-win_amd64.whl (7.8 MB)\n",
      "   ---------------------------------------- 0.0/7.8 MB ? eta -:--:--\n",
      "   ---------------------------------------- 0.0/7.8 MB ? eta -:--:--\n",
      "   ---------------------------------------- 0.0/7.8 MB ? eta -:--:--\n",
      "   ---------------------------------------- 0.0/7.8 MB ? eta -:--:--\n",
      "   ---------------------------------------- 0.0/7.8 MB ? eta -:--:--\n",
      "   ---------------------------------------- 0.0/7.8 MB ? eta -:--:--\n",
      "   ---------------------------------------- 0.0/7.8 MB ? eta -:--:--\n",
      "   ---------------------------------------- 0.0/7.8 MB ? eta -:--:--\n",
      "   - -------------------------------------- 0.3/7.8 MB ? eta -:--:--\n",
      "   - -------------------------------------- 0.3/7.8 MB ? eta -:--:--\n",
      "   - -------------------------------------- 0.3/7.8 MB ? eta -:--:--\n",
      "   - -------------------------------------- 0.3/7.8 MB ? eta -:--:--\n",
      "   - -------------------------------------- 0.3/7.8 MB ? eta -:--:--\n",
      "   - -------------------------------------- 0.3/7.8 MB ? eta -:--:--\n",
      "   - -------------------------------------- 0.3/7.8 MB ? eta -:--:--\n",
      "   - -------------------------------------- 0.3/7.8 MB ? eta -:--:--\n",
      "   - -------------------------------------- 0.3/7.8 MB ? eta -:--:--\n",
      "   - -------------------------------------- 0.3/7.8 MB ? eta -:--:--\n",
      "   - -------------------------------------- 0.3/7.8 MB ? eta -:--:--\n",
      "   - -------------------------------------- 0.3/7.8 MB ? eta -:--:--\n",
      "   - -------------------------------------- 0.3/7.8 MB ? eta -:--:--\n",
      "   - -------------------------------------- 0.3/7.8 MB ? eta -:--:--\n",
      "   - -------------------------------------- 0.3/7.8 MB ? eta -:--:--\n",
      "   - -------------------------------------- 0.3/7.8 MB ? eta -:--:--\n",
      "   - -------------------------------------- 0.3/7.8 MB ? eta -:--:--\n",
      "   - -------------------------------------- 0.3/7.8 MB ? eta -:--:--\n",
      "   - -------------------------------------- 0.3/7.8 MB ? eta -:--:--\n",
      "   - -------------------------------------- 0.3/7.8 MB ? eta -:--:--\n",
      "   - -------------------------------------- 0.3/7.8 MB ? eta -:--:--\n",
      "   - -------------------------------------- 0.3/7.8 MB ? eta -:--:--\n",
      "   - -------------------------------------- 0.3/7.8 MB ? eta -:--:--\n",
      "   - -------------------------------------- 0.3/7.8 MB ? eta -:--:--\n",
      "   - -------------------------------------- 0.3/7.8 MB ? eta -:--:--\n",
      "   - -------------------------------------- 0.3/7.8 MB ? eta -:--:--\n",
      "   - -------------------------------------- 0.3/7.8 MB ? eta -:--:--\n",
      "   - -------------------------------------- 0.3/7.8 MB ? eta -:--:--\n",
      "   -- ------------------------------------- 0.5/7.8 MB 42.5 kB/s eta 0:02:53\n",
      "   -- ------------------------------------- 0.5/7.8 MB 42.5 kB/s eta 0:02:53\n",
      "   -- ------------------------------------- 0.5/7.8 MB 42.5 kB/s eta 0:02:53\n",
      "   -- ------------------------------------- 0.5/7.8 MB 42.5 kB/s eta 0:02:53\n",
      "   -- ------------------------------------- 0.5/7.8 MB 42.5 kB/s eta 0:02:53\n",
      "   -- ------------------------------------- 0.5/7.8 MB 42.5 kB/s eta 0:02:53\n",
      "   -- ------------------------------------- 0.5/7.8 MB 42.5 kB/s eta 0:02:53\n",
      "   -- ------------------------------------- 0.5/7.8 MB 42.5 kB/s eta 0:02:53\n",
      "   -- ------------------------------------- 0.5/7.8 MB 42.5 kB/s eta 0:02:53\n",
      "   -- ------------------------------------- 0.5/7.8 MB 42.5 kB/s eta 0:02:53\n",
      "   -- ------------------------------------- 0.5/7.8 MB 42.5 kB/s eta 0:02:53\n",
      "   -- ------------------------------------- 0.5/7.8 MB 42.5 kB/s eta 0:02:53\n",
      "   -- ------------------------------------- 0.5/7.8 MB 42.5 kB/s eta 0:02:53\n",
      "   -- ------------------------------------- 0.5/7.8 MB 42.5 kB/s eta 0:02:53\n",
      "   -- ------------------------------------- 0.5/7.8 MB 42.5 kB/s eta 0:02:53\n",
      "   -- ------------------------------------- 0.5/7.8 MB 42.5 kB/s eta 0:02:53\n",
      "   -- ------------------------------------- 0.5/7.8 MB 42.5 kB/s eta 0:02:53\n",
      "   -- ------------------------------------- 0.5/7.8 MB 42.5 kB/s eta 0:02:53\n",
      "   -- ------------------------------------- 0.5/7.8 MB 42.5 kB/s eta 0:02:53\n",
      "   -- ------------------------------------- 0.5/7.8 MB 42.5 kB/s eta 0:02:53\n",
      "   -- ------------------------------------- 0.5/7.8 MB 42.5 kB/s eta 0:02:53\n",
      "   -- ------------------------------------- 0.5/7.8 MB 42.5 kB/s eta 0:02:53\n",
      "   -- ------------------------------------- 0.5/7.8 MB 42.5 kB/s eta 0:02:53\n",
      "   -- ------------------------------------- 0.5/7.8 MB 42.5 kB/s eta 0:02:53\n",
      "   -- ------------------------------------- 0.5/7.8 MB 42.5 kB/s eta 0:02:53\n",
      "   -- ------------------------------------- 0.5/7.8 MB 42.5 kB/s eta 0:02:53\n",
      "   -- ------------------------------------- 0.5/7.8 MB 42.5 kB/s eta 0:02:53\n",
      "   -- ------------------------------------- 0.5/7.8 MB 42.5 kB/s eta 0:02:53\n",
      "   -- ------------------------------------- 0.5/7.8 MB 42.5 kB/s eta 0:02:53\n",
      "   -- ------------------------------------- 0.5/7.8 MB 42.5 kB/s eta 0:02:53\n",
      "   -- ------------------------------------- 0.5/7.8 MB 42.5 kB/s eta 0:02:53\n",
      "   -- ------------------------------------- 0.5/7.8 MB 42.5 kB/s eta 0:02:53\n",
      "   -- ------------------------------------- 0.5/7.8 MB 42.5 kB/s eta 0:02:53\n",
      "   -- ------------------------------------- 0.5/7.8 MB 42.5 kB/s eta 0:02:53\n",
      "   -- ------------------------------------- 0.5/7.8 MB 42.5 kB/s eta 0:02:53\n",
      "   ---- ----------------------------------- 0.8/7.8 MB 37.2 kB/s eta 0:03:10\n",
      "   ---- ----------------------------------- 0.8/7.8 MB 37.2 kB/s eta 0:03:10\n",
      "   ---- ----------------------------------- 0.8/7.8 MB 37.2 kB/s eta 0:03:10\n",
      "   ---- ----------------------------------- 0.8/7.8 MB 37.2 kB/s eta 0:03:10\n",
      "   ----- ---------------------------------- 1.0/7.8 MB 52.3 kB/s eta 0:02:10\n",
      "   ----- ---------------------------------- 1.0/7.8 MB 52.3 kB/s eta 0:02:10\n",
      "   ----- ---------------------------------- 1.0/7.8 MB 52.3 kB/s eta 0:02:10\n",
      "   ------ --------------------------------- 1.3/7.8 MB 67.2 kB/s eta 0:01:37\n",
      "   ------ --------------------------------- 1.3/7.8 MB 67.2 kB/s eta 0:01:37\n",
      "   -------- ------------------------------- 1.6/7.8 MB 82.0 kB/s eta 0:01:17\n",
      "   --------- ------------------------------ 1.8/7.8 MB 96.7 kB/s eta 0:01:03\n",
      "   ---------- ----------------------------- 2.1/7.8 MB 111.1 kB/s eta 0:00:52\n",
      "   ------------ --------------------------- 2.4/7.8 MB 124.7 kB/s eta 0:00:44\n",
      "   ------------- -------------------------- 2.6/7.8 MB 138.4 kB/s eta 0:00:38\n",
      "   ------------- -------------------------- 2.6/7.8 MB 138.4 kB/s eta 0:00:38\n",
      "   -------------- ------------------------- 2.9/7.8 MB 149.5 kB/s eta 0:00:34\n",
      "   -------------- ------------------------- 2.9/7.8 MB 149.5 kB/s eta 0:00:34\n",
      "   -------------- ------------------------- 2.9/7.8 MB 149.5 kB/s eta 0:00:34\n",
      "   ---------------- ----------------------- 3.1/7.8 MB 159.4 kB/s eta 0:00:30\n",
      "   ---------------- ----------------------- 3.1/7.8 MB 159.4 kB/s eta 0:00:30\n",
      "   ----------------- ---------------------- 3.4/7.8 MB 168.6 kB/s eta 0:00:27\n",
      "   ----------------- ---------------------- 3.4/7.8 MB 168.6 kB/s eta 0:00:27\n",
      "   ----------------- ---------------------- 3.4/7.8 MB 168.6 kB/s eta 0:00:27\n",
      "   ------------------ --------------------- 3.7/7.8 MB 177.9 kB/s eta 0:00:24\n",
      "   ------------------ --------------------- 3.7/7.8 MB 177.9 kB/s eta 0:00:24\n",
      "   -------------------- ------------------- 3.9/7.8 MB 187.3 kB/s eta 0:00:21\n",
      "   -------------------- ------------------- 3.9/7.8 MB 187.3 kB/s eta 0:00:21\n",
      "   --------------------- ------------------ 4.2/7.8 MB 196.1 kB/s eta 0:00:19\n",
      "   --------------------- ------------------ 4.2/7.8 MB 196.1 kB/s eta 0:00:19\n",
      "   ---------------------- ----------------- 4.5/7.8 MB 204.4 kB/s eta 0:00:17\n",
      "   ---------------------- ----------------- 4.5/7.8 MB 204.4 kB/s eta 0:00:17\n",
      "   ------------------------ --------------- 4.7/7.8 MB 212.7 kB/s eta 0:00:15\n",
      "   ------------------------ --------------- 4.7/7.8 MB 212.7 kB/s eta 0:00:15\n",
      "   ------------------------- -------------- 5.0/7.8 MB 221.2 kB/s eta 0:00:13\n",
      "   -------------------------- ------------- 5.2/7.8 MB 229.7 kB/s eta 0:00:12\n",
      "   -------------------------- ------------- 5.2/7.8 MB 229.7 kB/s eta 0:00:12\n",
      "   ---------------------------- ----------- 5.5/7.8 MB 238.2 kB/s eta 0:00:10\n",
      "   ----------------------------- ---------- 5.8/7.8 MB 246.2 kB/s eta 0:00:09\n",
      "   ----------------------------- ---------- 5.8/7.8 MB 246.2 kB/s eta 0:00:09\n",
      "   ------------------------------ --------- 6.0/7.8 MB 253.9 kB/s eta 0:00:08\n",
      "   ------------------------------ --------- 6.0/7.8 MB 253.9 kB/s eta 0:00:08\n",
      "   -------------------------------- ------- 6.3/7.8 MB 261.3 kB/s eta 0:00:06\n",
      "   --------------------------------- ------ 6.6/7.8 MB 268.6 kB/s eta 0:00:05\n",
      "   --------------------------------- ------ 6.6/7.8 MB 268.6 kB/s eta 0:00:05\n",
      "   ---------------------------------- ----- 6.8/7.8 MB 275.8 kB/s eta 0:00:04\n",
      "   ------------------------------------ --- 7.1/7.8 MB 282.7 kB/s eta 0:00:03\n",
      "   ------------------------------------- -- 7.3/7.8 MB 290.2 kB/s eta 0:00:02\n",
      "   ------------------------------------- -- 7.3/7.8 MB 290.2 kB/s eta 0:00:02\n",
      "   -------------------------------------- - 7.6/7.8 MB 297.3 kB/s eta 0:00:01\n",
      "   ---------------------------------------- 7.8/7.8 MB 302.8 kB/s eta 0:00:00\n",
      "Downloading contourpy-1.3.0-cp312-cp312-win_amd64.whl (218 kB)\n",
      "Downloading cycler-0.12.1-py3-none-any.whl (8.3 kB)\n",
      "Downloading fonttools-4.53.1-cp312-cp312-win_amd64.whl (2.2 MB)\n",
      "   ---------------------------------------- 0.0/2.2 MB ? eta -:--:--\n",
      "   ---------------------------------------- 0.0/2.2 MB ? eta -:--:--\n",
      "   ---- ----------------------------------- 0.3/2.2 MB ? eta -:--:--\n",
      "   --------- ------------------------------ 0.5/2.2 MB 799.2 kB/s eta 0:00:03\n",
      "   --------- ------------------------------ 0.5/2.2 MB 799.2 kB/s eta 0:00:03\n",
      "   -------------- ------------------------- 0.8/2.2 MB 799.2 kB/s eta 0:00:02\n",
      "   ------------------- -------------------- 1.0/2.2 MB 762.8 kB/s eta 0:00:02\n",
      "   ------------------- -------------------- 1.0/2.2 MB 762.8 kB/s eta 0:00:02\n",
      "   ------------------- -------------------- 1.0/2.2 MB 762.8 kB/s eta 0:00:02\n",
      "   ----------------------- ---------------- 1.3/2.2 MB 692.1 kB/s eta 0:00:02\n",
      "   ---------------------------- ----------- 1.6/2.2 MB 699.0 kB/s eta 0:00:01\n",
      "   ---------------------------- ----------- 1.6/2.2 MB 699.0 kB/s eta 0:00:01\n",
      "   --------------------------------- ------ 1.8/2.2 MB 699.0 kB/s eta 0:00:01\n",
      "   --------------------------------- ------ 1.8/2.2 MB 699.0 kB/s eta 0:00:01\n",
      "   ---------------------------------------- 2.2/2.2 MB 690.7 kB/s eta 0:00:00\n",
      "Downloading kiwisolver-1.4.7-cp312-cp312-win_amd64.whl (55 kB)\n",
      "Downloading pillow-10.4.0-cp312-cp312-win_amd64.whl (2.6 MB)\n",
      "   ---------------------------------------- 0.0/2.6 MB ? eta -:--:--\n",
      "   ---------------------------------------- 0.0/2.6 MB ? eta -:--:--\n",
      "   ---- ----------------------------------- 0.3/2.6 MB ? eta -:--:--\n",
      "   ---- ----------------------------------- 0.3/2.6 MB ? eta -:--:--\n",
      "   -------- ------------------------------- 0.5/2.6 MB 837.5 kB/s eta 0:00:03\n",
      "   ------------ --------------------------- 0.8/2.6 MB 799.2 kB/s eta 0:00:03\n",
      "   ------------ --------------------------- 0.8/2.6 MB 799.2 kB/s eta 0:00:03\n",
      "   ---------------- ----------------------- 1.0/2.6 MB 774.0 kB/s eta 0:00:02\n",
      "   ---------------- ----------------------- 1.0/2.6 MB 774.0 kB/s eta 0:00:02\n",
      "   -------------------- ------------------- 1.3/2.6 MB 753.8 kB/s eta 0:00:02\n",
      "   ------------------------ --------------- 1.6/2.6 MB 762.5 kB/s eta 0:00:02\n",
      "   ------------------------ --------------- 1.6/2.6 MB 762.5 kB/s eta 0:00:02\n",
      "   ---------------------------- ----------- 1.8/2.6 MB 768.4 kB/s eta 0:00:01\n",
      "   -------------------------------- ------- 2.1/2.6 MB 782.9 kB/s eta 0:00:01\n",
      "   ------------------------------------ --- 2.4/2.6 MB 794.1 kB/s eta 0:00:01\n",
      "   ------------------------------------ --- 2.4/2.6 MB 794.1 kB/s eta 0:00:01\n",
      "   ---------------------------------------- 2.6/2.6 MB 776.4 kB/s eta 0:00:00\n",
      "Downloading pyparsing-3.1.4-py3-none-any.whl (104 kB)\n",
      "Installing collected packages: pyparsing, pillow, kiwisolver, fonttools, cycler, contourpy, matplotlib\n",
      "Successfully installed contourpy-1.3.0 cycler-0.12.1 fonttools-4.53.1 kiwisolver-1.4.7 matplotlib-3.9.2 pillow-10.4.0 pyparsing-3.1.4\n"
     ]
    }
   ],
   "source": [
    "%pip install matplotlib"
   ]
  },
  {
   "cell_type": "code",
   "execution_count": 74,
   "metadata": {},
   "outputs": [
    {
     "name": "stdout",
     "output_type": "stream",
     "text": [
      "Defaulting to user installation because normal site-packages is not writeable\n",
      "Requirement already satisfied: matplotlib in c:\\users\\001mh\\appdata\\local\\packages\\pythonsoftwarefoundation.python.3.12_qbz5n2kfra8p0\\localcache\\local-packages\\python312\\site-packages (3.9.2)\n",
      "Requirement already satisfied: contourpy>=1.0.1 in c:\\users\\001mh\\appdata\\local\\packages\\pythonsoftwarefoundation.python.3.12_qbz5n2kfra8p0\\localcache\\local-packages\\python312\\site-packages (from matplotlib) (1.3.0)\n",
      "Requirement already satisfied: cycler>=0.10 in c:\\users\\001mh\\appdata\\local\\packages\\pythonsoftwarefoundation.python.3.12_qbz5n2kfra8p0\\localcache\\local-packages\\python312\\site-packages (from matplotlib) (0.12.1)\n",
      "Requirement already satisfied: fonttools>=4.22.0 in c:\\users\\001mh\\appdata\\local\\packages\\pythonsoftwarefoundation.python.3.12_qbz5n2kfra8p0\\localcache\\local-packages\\python312\\site-packages (from matplotlib) (4.53.1)\n",
      "Requirement already satisfied: kiwisolver>=1.3.1 in c:\\users\\001mh\\appdata\\local\\packages\\pythonsoftwarefoundation.python.3.12_qbz5n2kfra8p0\\localcache\\local-packages\\python312\\site-packages (from matplotlib) (1.4.7)\n",
      "Requirement already satisfied: numpy>=1.23 in c:\\users\\001mh\\appdata\\local\\packages\\pythonsoftwarefoundation.python.3.12_qbz5n2kfra8p0\\localcache\\local-packages\\python312\\site-packages (from matplotlib) (2.1.1)\n",
      "Requirement already satisfied: packaging>=20.0 in c:\\users\\001mh\\appdata\\local\\packages\\pythonsoftwarefoundation.python.3.12_qbz5n2kfra8p0\\localcache\\local-packages\\python312\\site-packages (from matplotlib) (24.1)\n",
      "Requirement already satisfied: pillow>=8 in c:\\users\\001mh\\appdata\\local\\packages\\pythonsoftwarefoundation.python.3.12_qbz5n2kfra8p0\\localcache\\local-packages\\python312\\site-packages (from matplotlib) (10.4.0)\n",
      "Requirement already satisfied: pyparsing>=2.3.1 in c:\\users\\001mh\\appdata\\local\\packages\\pythonsoftwarefoundation.python.3.12_qbz5n2kfra8p0\\localcache\\local-packages\\python312\\site-packages (from matplotlib) (3.1.4)\n",
      "Requirement already satisfied: python-dateutil>=2.7 in c:\\users\\001mh\\appdata\\local\\packages\\pythonsoftwarefoundation.python.3.12_qbz5n2kfra8p0\\localcache\\local-packages\\python312\\site-packages (from matplotlib) (2.9.0.post0)\n",
      "Requirement already satisfied: six>=1.5 in c:\\users\\001mh\\appdata\\local\\packages\\pythonsoftwarefoundation.python.3.12_qbz5n2kfra8p0\\localcache\\local-packages\\python312\\site-packages (from python-dateutil>=2.7->matplotlib) (1.16.0)\n",
      "Note: you may need to restart the kernel to use updated packages.\n"
     ]
    }
   ],
   "source": [
    "%pip install matplotlib"
   ]
  }
 ],
 "metadata": {
  "kernelspec": {
   "display_name": "Python 3",
   "language": "python",
   "name": "python3"
  },
  "language_info": {
   "codemirror_mode": {
    "name": "ipython",
    "version": 3
   },
   "file_extension": ".py",
   "mimetype": "text/x-python",
   "name": "python",
   "nbconvert_exporter": "python",
   "pygments_lexer": "ipython3",
   "version": "3.12.6"
  }
 },
 "nbformat": 4,
 "nbformat_minor": 2
}
