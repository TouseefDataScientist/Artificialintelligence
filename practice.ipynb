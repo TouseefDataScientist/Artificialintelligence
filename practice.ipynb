{
 "cells": [
  {
   "cell_type": "code",
   "execution_count": 12,
   "metadata": {},
   "outputs": [
    {
     "name": "stdout",
     "output_type": "stream",
     "text": [
      "Requirement already satisfied: pandas in c:\\users\\cca\\appdata\\local\\programs\\python\\python312\\lib\\site-packages (2.2.2)\n",
      "Requirement already satisfied: numpy>=1.26.0 in c:\\users\\cca\\appdata\\local\\programs\\python\\python312\\lib\\site-packages (from pandas) (2.1.1)\n",
      "Requirement already satisfied: python-dateutil>=2.8.2 in c:\\users\\cca\\appdata\\roaming\\python\\python312\\site-packages (from pandas) (2.9.0.post0)\n",
      "Requirement already satisfied: pytz>=2020.1 in c:\\users\\cca\\appdata\\local\\programs\\python\\python312\\lib\\site-packages (from pandas) (2024.2)\n",
      "Requirement already satisfied: tzdata>=2022.7 in c:\\users\\cca\\appdata\\local\\programs\\python\\python312\\lib\\site-packages (from pandas) (2024.1)\n",
      "Requirement already satisfied: six>=1.5 in c:\\users\\cca\\appdata\\roaming\\python\\python312\\site-packages (from python-dateutil>=2.8.2->pandas) (1.16.0)\n",
      "Note: you may need to restart the kernel to use updated packages.\n"
     ]
    },
    {
     "name": "stderr",
     "output_type": "stream",
     "text": [
      "\n",
      "[notice] A new release of pip is available: 24.0 -> 24.2\n",
      "[notice] To update, run: python.exe -m pip install --upgrade pip\n"
     ]
    }
   ],
   "source": [
    "%pip install pandas\n"
   ]
  },
  {
   "cell_type": "code",
   "execution_count": 13,
   "metadata": {},
   "outputs": [
    {
     "name": "stdout",
     "output_type": "stream",
     "text": [
      "Requirement already satisfied: numpy in c:\\users\\cca\\appdata\\local\\programs\\python\\python312\\lib\\site-packages (2.1.1)\n",
      "Note: you may need to restart the kernel to use updated packages.\n"
     ]
    },
    {
     "name": "stderr",
     "output_type": "stream",
     "text": [
      "\n",
      "[notice] A new release of pip is available: 24.0 -> 24.2\n",
      "[notice] To update, run: python.exe -m pip install --upgrade pip\n"
     ]
    }
   ],
   "source": [
    "%pip install numpy"
   ]
  },
  {
   "cell_type": "code",
   "execution_count": 14,
   "metadata": {},
   "outputs": [],
   "source": [
    "import numpy as np\n",
    "\n",
    "import pandas as pd"
   ]
  },
  {
   "cell_type": "code",
   "execution_count": 20,
   "metadata": {},
   "outputs": [
    {
     "data": {
      "text/plain": [
       "0    10.0\n",
       "1    35.0\n",
       "2    50.0\n",
       "3     NaN\n",
       "4     6.0\n",
       "5     8.0\n",
       "dtype: float64"
      ]
     },
     "execution_count": 20,
     "metadata": {},
     "output_type": "execute_result"
    }
   ],
   "source": [
    "s = pd.Series([10, 35, 50, np.nan, 6, 8])\n",
    "s"
   ]
  },
  {
   "cell_type": "code",
   "execution_count": 22,
   "metadata": {},
   "outputs": [
    {
     "data": {
      "text/plain": [
       "DatetimeIndex(['2024-09-19', '2024-09-20', '2024-09-21', '2024-09-22',\n",
       "               '2024-09-23', '2024-09-24', '2024-09-25', '2024-09-26',\n",
       "               '2024-09-27', '2024-09-28'],\n",
       "              dtype='datetime64[ns]', freq='D')"
      ]
     },
     "execution_count": 22,
     "metadata": {},
     "output_type": "execute_result"
    }
   ],
   "source": [
    "dates = pd.date_range(\"20240919\", periods=10)\n",
    "dates"
   ]
  },
  {
   "cell_type": "code",
   "execution_count": 27,
   "metadata": {},
   "outputs": [
    {
     "data": {
      "text/html": [
       "<div>\n",
       "<style scoped>\n",
       "    .dataframe tbody tr th:only-of-type {\n",
       "        vertical-align: middle;\n",
       "    }\n",
       "\n",
       "    .dataframe tbody tr th {\n",
       "        vertical-align: top;\n",
       "    }\n",
       "\n",
       "    .dataframe thead th {\n",
       "        text-align: right;\n",
       "    }\n",
       "</style>\n",
       "<table border=\"1\" class=\"dataframe\">\n",
       "  <thead>\n",
       "    <tr style=\"text-align: right;\">\n",
       "      <th></th>\n",
       "      <th>A</th>\n",
       "      <th>B</th>\n",
       "      <th>C</th>\n",
       "      <th>D</th>\n",
       "      <th>E</th>\n",
       "      <th>F</th>\n",
       "    </tr>\n",
       "  </thead>\n",
       "  <tbody>\n",
       "    <tr>\n",
       "      <th>2024-09-19</th>\n",
       "      <td>-0.218247</td>\n",
       "      <td>0.662571</td>\n",
       "      <td>-0.496586</td>\n",
       "      <td>-1.013416</td>\n",
       "      <td>-0.943005</td>\n",
       "      <td>0.199814</td>\n",
       "    </tr>\n",
       "    <tr>\n",
       "      <th>2024-09-20</th>\n",
       "      <td>0.784796</td>\n",
       "      <td>-0.336978</td>\n",
       "      <td>-2.309062</td>\n",
       "      <td>0.620195</td>\n",
       "      <td>-0.597457</td>\n",
       "      <td>2.311709</td>\n",
       "    </tr>\n",
       "    <tr>\n",
       "      <th>2024-09-21</th>\n",
       "      <td>1.414900</td>\n",
       "      <td>0.025136</td>\n",
       "      <td>-0.219418</td>\n",
       "      <td>-1.161544</td>\n",
       "      <td>0.150794</td>\n",
       "      <td>-0.903533</td>\n",
       "    </tr>\n",
       "    <tr>\n",
       "      <th>2024-09-22</th>\n",
       "      <td>0.904975</td>\n",
       "      <td>0.326545</td>\n",
       "      <td>-0.166634</td>\n",
       "      <td>-0.328978</td>\n",
       "      <td>-0.380240</td>\n",
       "      <td>-0.345892</td>\n",
       "    </tr>\n",
       "    <tr>\n",
       "      <th>2024-09-23</th>\n",
       "      <td>1.078881</td>\n",
       "      <td>1.101764</td>\n",
       "      <td>-1.025913</td>\n",
       "      <td>0.447255</td>\n",
       "      <td>0.455010</td>\n",
       "      <td>0.751323</td>\n",
       "    </tr>\n",
       "    <tr>\n",
       "      <th>2024-09-24</th>\n",
       "      <td>1.221464</td>\n",
       "      <td>1.012229</td>\n",
       "      <td>1.228691</td>\n",
       "      <td>0.283747</td>\n",
       "      <td>-1.933772</td>\n",
       "      <td>-0.900464</td>\n",
       "    </tr>\n",
       "    <tr>\n",
       "      <th>2024-09-25</th>\n",
       "      <td>-0.093160</td>\n",
       "      <td>-1.218133</td>\n",
       "      <td>-0.082996</td>\n",
       "      <td>-0.754626</td>\n",
       "      <td>-1.140691</td>\n",
       "      <td>1.780249</td>\n",
       "    </tr>\n",
       "    <tr>\n",
       "      <th>2024-09-26</th>\n",
       "      <td>-2.114061</td>\n",
       "      <td>-0.947612</td>\n",
       "      <td>-0.176707</td>\n",
       "      <td>0.023971</td>\n",
       "      <td>-0.347704</td>\n",
       "      <td>-0.719593</td>\n",
       "    </tr>\n",
       "    <tr>\n",
       "      <th>2024-09-27</th>\n",
       "      <td>-0.567798</td>\n",
       "      <td>1.084154</td>\n",
       "      <td>1.013608</td>\n",
       "      <td>-2.035890</td>\n",
       "      <td>0.936324</td>\n",
       "      <td>-1.961749</td>\n",
       "    </tr>\n",
       "    <tr>\n",
       "      <th>2024-09-28</th>\n",
       "      <td>0.387000</td>\n",
       "      <td>1.288576</td>\n",
       "      <td>-0.994873</td>\n",
       "      <td>-0.570832</td>\n",
       "      <td>0.487494</td>\n",
       "      <td>0.861679</td>\n",
       "    </tr>\n",
       "  </tbody>\n",
       "</table>\n",
       "</div>"
      ],
      "text/plain": [
       "                   A         B         C         D         E         F\n",
       "2024-09-19 -0.218247  0.662571 -0.496586 -1.013416 -0.943005  0.199814\n",
       "2024-09-20  0.784796 -0.336978 -2.309062  0.620195 -0.597457  2.311709\n",
       "2024-09-21  1.414900  0.025136 -0.219418 -1.161544  0.150794 -0.903533\n",
       "2024-09-22  0.904975  0.326545 -0.166634 -0.328978 -0.380240 -0.345892\n",
       "2024-09-23  1.078881  1.101764 -1.025913  0.447255  0.455010  0.751323\n",
       "2024-09-24  1.221464  1.012229  1.228691  0.283747 -1.933772 -0.900464\n",
       "2024-09-25 -0.093160 -1.218133 -0.082996 -0.754626 -1.140691  1.780249\n",
       "2024-09-26 -2.114061 -0.947612 -0.176707  0.023971 -0.347704 -0.719593\n",
       "2024-09-27 -0.567798  1.084154  1.013608 -2.035890  0.936324 -1.961749\n",
       "2024-09-28  0.387000  1.288576 -0.994873 -0.570832  0.487494  0.861679"
      ]
     },
     "execution_count": 27,
     "metadata": {},
     "output_type": "execute_result"
    }
   ],
   "source": [
    "df = pd.DataFrame(np.random.randn(10, 6), index=dates, columns=list(\"ABCDEF\"))\n",
    "df\n"
   ]
  },
  {
   "cell_type": "code",
   "execution_count": 29,
   "metadata": {},
   "outputs": [
    {
     "data": {
      "text/html": [
       "<div>\n",
       "<style scoped>\n",
       "    .dataframe tbody tr th:only-of-type {\n",
       "        vertical-align: middle;\n",
       "    }\n",
       "\n",
       "    .dataframe tbody tr th {\n",
       "        vertical-align: top;\n",
       "    }\n",
       "\n",
       "    .dataframe thead th {\n",
       "        text-align: right;\n",
       "    }\n",
       "</style>\n",
       "<table border=\"1\" class=\"dataframe\">\n",
       "  <thead>\n",
       "    <tr style=\"text-align: right;\">\n",
       "      <th></th>\n",
       "      <th>A</th>\n",
       "      <th>B</th>\n",
       "      <th>C</th>\n",
       "      <th>D</th>\n",
       "      <th>E</th>\n",
       "      <th>F</th>\n",
       "    </tr>\n",
       "  </thead>\n",
       "  <tbody>\n",
       "    <tr>\n",
       "      <th>0</th>\n",
       "      <td>9.5</td>\n",
       "      <td>2024-09-19</td>\n",
       "      <td>1.0</td>\n",
       "      <td>9</td>\n",
       "      <td>rain</td>\n",
       "      <td>foo</td>\n",
       "    </tr>\n",
       "    <tr>\n",
       "      <th>1</th>\n",
       "      <td>9.5</td>\n",
       "      <td>2024-09-19</td>\n",
       "      <td>1.0</td>\n",
       "      <td>9</td>\n",
       "      <td>apple</td>\n",
       "      <td>foo</td>\n",
       "    </tr>\n",
       "    <tr>\n",
       "      <th>2</th>\n",
       "      <td>9.5</td>\n",
       "      <td>2024-09-19</td>\n",
       "      <td>1.0</td>\n",
       "      <td>9</td>\n",
       "      <td>pencil</td>\n",
       "      <td>foo</td>\n",
       "    </tr>\n",
       "    <tr>\n",
       "      <th>3</th>\n",
       "      <td>9.5</td>\n",
       "      <td>2024-09-19</td>\n",
       "      <td>1.0</td>\n",
       "      <td>9</td>\n",
       "      <td>banana</td>\n",
       "      <td>foo</td>\n",
       "    </tr>\n",
       "    <tr>\n",
       "      <th>4</th>\n",
       "      <td>9.5</td>\n",
       "      <td>2024-09-19</td>\n",
       "      <td>1.0</td>\n",
       "      <td>9</td>\n",
       "      <td>pen</td>\n",
       "      <td>foo</td>\n",
       "    </tr>\n",
       "    <tr>\n",
       "      <th>5</th>\n",
       "      <td>9.5</td>\n",
       "      <td>2024-09-19</td>\n",
       "      <td>1.0</td>\n",
       "      <td>9</td>\n",
       "      <td>piano</td>\n",
       "      <td>foo</td>\n",
       "    </tr>\n",
       "  </tbody>\n",
       "</table>\n",
       "</div>"
      ],
      "text/plain": [
       "     A          B    C  D       E    F\n",
       "0  9.5 2024-09-19  1.0  9    rain  foo\n",
       "1  9.5 2024-09-19  1.0  9   apple  foo\n",
       "2  9.5 2024-09-19  1.0  9  pencil  foo\n",
       "3  9.5 2024-09-19  1.0  9  banana  foo\n",
       "4  9.5 2024-09-19  1.0  9     pen  foo\n",
       "5  9.5 2024-09-19  1.0  9   piano  foo"
      ]
     },
     "execution_count": 29,
     "metadata": {},
     "output_type": "execute_result"
    }
   ],
   "source": [
    "df2 = pd.DataFrame(\n",
    "    {\n",
    "        \"A\": 9.5,\n",
    "        \"B\": pd.Timestamp(\"20240919\"),\n",
    "        \"C\": pd.Series(1, index=list(range(6)), dtype=\"float32\"),\n",
    "        \"D\": np.array([9] * 6, dtype=\"int32\"),\n",
    "        \"E\": pd.Categorical([\"rain\", \"apple\", \"pencil\", \"banana\",\"pen\",\"piano\"]),\n",
    "        \"F\": \"foo\",\n",
    "    }\n",
    ")\n",
    "df2"
   ]
  },
  {
   "cell_type": "code",
   "execution_count": 30,
   "metadata": {},
   "outputs": [
    {
     "data": {
      "text/plain": [
       "A          float64\n",
       "B    datetime64[s]\n",
       "C          float32\n",
       "D            int32\n",
       "E         category\n",
       "F           object\n",
       "dtype: object"
      ]
     },
     "execution_count": 30,
     "metadata": {},
     "output_type": "execute_result"
    }
   ],
   "source": [
    "df2.dtypes"
   ]
  },
  {
   "cell_type": "code",
   "execution_count": 33,
   "metadata": {},
   "outputs": [
    {
     "data": {
      "text/html": [
       "<div>\n",
       "<style scoped>\n",
       "    .dataframe tbody tr th:only-of-type {\n",
       "        vertical-align: middle;\n",
       "    }\n",
       "\n",
       "    .dataframe tbody tr th {\n",
       "        vertical-align: top;\n",
       "    }\n",
       "\n",
       "    .dataframe thead th {\n",
       "        text-align: right;\n",
       "    }\n",
       "</style>\n",
       "<table border=\"1\" class=\"dataframe\">\n",
       "  <thead>\n",
       "    <tr style=\"text-align: right;\">\n",
       "      <th></th>\n",
       "      <th>A</th>\n",
       "      <th>B</th>\n",
       "      <th>C</th>\n",
       "      <th>D</th>\n",
       "      <th>E</th>\n",
       "      <th>F</th>\n",
       "    </tr>\n",
       "  </thead>\n",
       "  <tbody>\n",
       "    <tr>\n",
       "      <th>2024-09-19</th>\n",
       "      <td>-0.218247</td>\n",
       "      <td>0.662571</td>\n",
       "      <td>-0.496586</td>\n",
       "      <td>-1.013416</td>\n",
       "      <td>-0.943005</td>\n",
       "      <td>0.199814</td>\n",
       "    </tr>\n",
       "    <tr>\n",
       "      <th>2024-09-20</th>\n",
       "      <td>0.784796</td>\n",
       "      <td>-0.336978</td>\n",
       "      <td>-2.309062</td>\n",
       "      <td>0.620195</td>\n",
       "      <td>-0.597457</td>\n",
       "      <td>2.311709</td>\n",
       "    </tr>\n",
       "    <tr>\n",
       "      <th>2024-09-21</th>\n",
       "      <td>1.414900</td>\n",
       "      <td>0.025136</td>\n",
       "      <td>-0.219418</td>\n",
       "      <td>-1.161544</td>\n",
       "      <td>0.150794</td>\n",
       "      <td>-0.903533</td>\n",
       "    </tr>\n",
       "    <tr>\n",
       "      <th>2024-09-22</th>\n",
       "      <td>0.904975</td>\n",
       "      <td>0.326545</td>\n",
       "      <td>-0.166634</td>\n",
       "      <td>-0.328978</td>\n",
       "      <td>-0.380240</td>\n",
       "      <td>-0.345892</td>\n",
       "    </tr>\n",
       "  </tbody>\n",
       "</table>\n",
       "</div>"
      ],
      "text/plain": [
       "                   A         B         C         D         E         F\n",
       "2024-09-19 -0.218247  0.662571 -0.496586 -1.013416 -0.943005  0.199814\n",
       "2024-09-20  0.784796 -0.336978 -2.309062  0.620195 -0.597457  2.311709\n",
       "2024-09-21  1.414900  0.025136 -0.219418 -1.161544  0.150794 -0.903533\n",
       "2024-09-22  0.904975  0.326545 -0.166634 -0.328978 -0.380240 -0.345892"
      ]
     },
     "execution_count": 33,
     "metadata": {},
     "output_type": "execute_result"
    }
   ],
   "source": [
    "df.head(4)"
   ]
  },
  {
   "cell_type": "code",
   "execution_count": 32,
   "metadata": {},
   "outputs": [
    {
     "data": {
      "text/html": [
       "<div>\n",
       "<style scoped>\n",
       "    .dataframe tbody tr th:only-of-type {\n",
       "        vertical-align: middle;\n",
       "    }\n",
       "\n",
       "    .dataframe tbody tr th {\n",
       "        vertical-align: top;\n",
       "    }\n",
       "\n",
       "    .dataframe thead th {\n",
       "        text-align: right;\n",
       "    }\n",
       "</style>\n",
       "<table border=\"1\" class=\"dataframe\">\n",
       "  <thead>\n",
       "    <tr style=\"text-align: right;\">\n",
       "      <th></th>\n",
       "      <th>A</th>\n",
       "      <th>B</th>\n",
       "      <th>C</th>\n",
       "      <th>D</th>\n",
       "      <th>E</th>\n",
       "      <th>F</th>\n",
       "    </tr>\n",
       "  </thead>\n",
       "  <tbody>\n",
       "    <tr>\n",
       "      <th>2024-09-25</th>\n",
       "      <td>-0.093160</td>\n",
       "      <td>-1.218133</td>\n",
       "      <td>-0.082996</td>\n",
       "      <td>-0.754626</td>\n",
       "      <td>-1.140691</td>\n",
       "      <td>1.780249</td>\n",
       "    </tr>\n",
       "    <tr>\n",
       "      <th>2024-09-26</th>\n",
       "      <td>-2.114061</td>\n",
       "      <td>-0.947612</td>\n",
       "      <td>-0.176707</td>\n",
       "      <td>0.023971</td>\n",
       "      <td>-0.347704</td>\n",
       "      <td>-0.719593</td>\n",
       "    </tr>\n",
       "    <tr>\n",
       "      <th>2024-09-27</th>\n",
       "      <td>-0.567798</td>\n",
       "      <td>1.084154</td>\n",
       "      <td>1.013608</td>\n",
       "      <td>-2.035890</td>\n",
       "      <td>0.936324</td>\n",
       "      <td>-1.961749</td>\n",
       "    </tr>\n",
       "    <tr>\n",
       "      <th>2024-09-28</th>\n",
       "      <td>0.387000</td>\n",
       "      <td>1.288576</td>\n",
       "      <td>-0.994873</td>\n",
       "      <td>-0.570832</td>\n",
       "      <td>0.487494</td>\n",
       "      <td>0.861679</td>\n",
       "    </tr>\n",
       "  </tbody>\n",
       "</table>\n",
       "</div>"
      ],
      "text/plain": [
       "                   A         B         C         D         E         F\n",
       "2024-09-25 -0.093160 -1.218133 -0.082996 -0.754626 -1.140691  1.780249\n",
       "2024-09-26 -2.114061 -0.947612 -0.176707  0.023971 -0.347704 -0.719593\n",
       "2024-09-27 -0.567798  1.084154  1.013608 -2.035890  0.936324 -1.961749\n",
       "2024-09-28  0.387000  1.288576 -0.994873 -0.570832  0.487494  0.861679"
      ]
     },
     "execution_count": 32,
     "metadata": {},
     "output_type": "execute_result"
    }
   ],
   "source": [
    "df.tail(4)"
   ]
  },
  {
   "cell_type": "code",
   "execution_count": 34,
   "metadata": {},
   "outputs": [
    {
     "data": {
      "text/plain": [
       "DatetimeIndex(['2024-09-19', '2024-09-20', '2024-09-21', '2024-09-22',\n",
       "               '2024-09-23', '2024-09-24', '2024-09-25', '2024-09-26',\n",
       "               '2024-09-27', '2024-09-28'],\n",
       "              dtype='datetime64[ns]', freq='D')"
      ]
     },
     "execution_count": 34,
     "metadata": {},
     "output_type": "execute_result"
    }
   ],
   "source": [
    "df.index"
   ]
  },
  {
   "cell_type": "code",
   "execution_count": 35,
   "metadata": {},
   "outputs": [
    {
     "data": {
      "text/plain": [
       "Index(['A', 'B', 'C', 'D', 'E', 'F'], dtype='object')"
      ]
     },
     "execution_count": 35,
     "metadata": {},
     "output_type": "execute_result"
    }
   ],
   "source": [
    "df.columns"
   ]
  },
  {
   "cell_type": "code",
   "execution_count": 36,
   "metadata": {},
   "outputs": [
    {
     "data": {
      "text/html": [
       "<div>\n",
       "<style scoped>\n",
       "    .dataframe tbody tr th:only-of-type {\n",
       "        vertical-align: middle;\n",
       "    }\n",
       "\n",
       "    .dataframe tbody tr th {\n",
       "        vertical-align: top;\n",
       "    }\n",
       "\n",
       "    .dataframe thead th {\n",
       "        text-align: right;\n",
       "    }\n",
       "</style>\n",
       "<table border=\"1\" class=\"dataframe\">\n",
       "  <thead>\n",
       "    <tr style=\"text-align: right;\">\n",
       "      <th></th>\n",
       "      <th>A</th>\n",
       "      <th>B</th>\n",
       "      <th>C</th>\n",
       "      <th>D</th>\n",
       "      <th>E</th>\n",
       "      <th>F</th>\n",
       "    </tr>\n",
       "  </thead>\n",
       "  <tbody>\n",
       "    <tr>\n",
       "      <th>count</th>\n",
       "      <td>10.000000</td>\n",
       "      <td>10.000000</td>\n",
       "      <td>10.000000</td>\n",
       "      <td>10.000000</td>\n",
       "      <td>10.000000</td>\n",
       "      <td>10.000000</td>\n",
       "    </tr>\n",
       "    <tr>\n",
       "      <th>mean</th>\n",
       "      <td>0.279875</td>\n",
       "      <td>0.299825</td>\n",
       "      <td>-0.322989</td>\n",
       "      <td>-0.449012</td>\n",
       "      <td>-0.331325</td>\n",
       "      <td>0.107354</td>\n",
       "    </tr>\n",
       "    <tr>\n",
       "      <th>std</th>\n",
       "      <td>1.070162</td>\n",
       "      <td>0.895482</td>\n",
       "      <td>1.012616</td>\n",
       "      <td>0.828267</td>\n",
       "      <td>0.869144</td>\n",
       "      <td>1.327406</td>\n",
       "    </tr>\n",
       "    <tr>\n",
       "      <th>min</th>\n",
       "      <td>-2.114061</td>\n",
       "      <td>-1.218133</td>\n",
       "      <td>-2.309062</td>\n",
       "      <td>-2.035890</td>\n",
       "      <td>-1.933772</td>\n",
       "      <td>-1.961749</td>\n",
       "    </tr>\n",
       "    <tr>\n",
       "      <th>25%</th>\n",
       "      <td>-0.186975</td>\n",
       "      <td>-0.246449</td>\n",
       "      <td>-0.870301</td>\n",
       "      <td>-0.948719</td>\n",
       "      <td>-0.856618</td>\n",
       "      <td>-0.855246</td>\n",
       "    </tr>\n",
       "    <tr>\n",
       "      <th>50%</th>\n",
       "      <td>0.585898</td>\n",
       "      <td>0.494558</td>\n",
       "      <td>-0.198062</td>\n",
       "      <td>-0.449905</td>\n",
       "      <td>-0.363972</td>\n",
       "      <td>-0.073039</td>\n",
       "    </tr>\n",
       "    <tr>\n",
       "      <th>75%</th>\n",
       "      <td>1.035405</td>\n",
       "      <td>1.066173</td>\n",
       "      <td>-0.103905</td>\n",
       "      <td>0.218803</td>\n",
       "      <td>0.378956</td>\n",
       "      <td>0.834090</td>\n",
       "    </tr>\n",
       "    <tr>\n",
       "      <th>max</th>\n",
       "      <td>1.414900</td>\n",
       "      <td>1.288576</td>\n",
       "      <td>1.228691</td>\n",
       "      <td>0.620195</td>\n",
       "      <td>0.936324</td>\n",
       "      <td>2.311709</td>\n",
       "    </tr>\n",
       "  </tbody>\n",
       "</table>\n",
       "</div>"
      ],
      "text/plain": [
       "               A          B          C          D          E          F\n",
       "count  10.000000  10.000000  10.000000  10.000000  10.000000  10.000000\n",
       "mean    0.279875   0.299825  -0.322989  -0.449012  -0.331325   0.107354\n",
       "std     1.070162   0.895482   1.012616   0.828267   0.869144   1.327406\n",
       "min    -2.114061  -1.218133  -2.309062  -2.035890  -1.933772  -1.961749\n",
       "25%    -0.186975  -0.246449  -0.870301  -0.948719  -0.856618  -0.855246\n",
       "50%     0.585898   0.494558  -0.198062  -0.449905  -0.363972  -0.073039\n",
       "75%     1.035405   1.066173  -0.103905   0.218803   0.378956   0.834090\n",
       "max     1.414900   1.288576   1.228691   0.620195   0.936324   2.311709"
      ]
     },
     "execution_count": 36,
     "metadata": {},
     "output_type": "execute_result"
    }
   ],
   "source": [
    "df.describe()"
   ]
  },
  {
   "cell_type": "code",
   "execution_count": 37,
   "metadata": {},
   "outputs": [
    {
     "data": {
      "text/html": [
       "<div>\n",
       "<style scoped>\n",
       "    .dataframe tbody tr th:only-of-type {\n",
       "        vertical-align: middle;\n",
       "    }\n",
       "\n",
       "    .dataframe tbody tr th {\n",
       "        vertical-align: top;\n",
       "    }\n",
       "\n",
       "    .dataframe thead th {\n",
       "        text-align: right;\n",
       "    }\n",
       "</style>\n",
       "<table border=\"1\" class=\"dataframe\">\n",
       "  <thead>\n",
       "    <tr style=\"text-align: right;\">\n",
       "      <th></th>\n",
       "      <th>2024-09-19</th>\n",
       "      <th>2024-09-20</th>\n",
       "      <th>2024-09-21</th>\n",
       "      <th>2024-09-22</th>\n",
       "      <th>2024-09-23</th>\n",
       "      <th>2024-09-24</th>\n",
       "      <th>2024-09-25</th>\n",
       "      <th>2024-09-26</th>\n",
       "      <th>2024-09-27</th>\n",
       "      <th>2024-09-28</th>\n",
       "    </tr>\n",
       "  </thead>\n",
       "  <tbody>\n",
       "    <tr>\n",
       "      <th>A</th>\n",
       "      <td>-0.218247</td>\n",
       "      <td>0.784796</td>\n",
       "      <td>1.414900</td>\n",
       "      <td>0.904975</td>\n",
       "      <td>1.078881</td>\n",
       "      <td>1.221464</td>\n",
       "      <td>-0.093160</td>\n",
       "      <td>-2.114061</td>\n",
       "      <td>-0.567798</td>\n",
       "      <td>0.387000</td>\n",
       "    </tr>\n",
       "    <tr>\n",
       "      <th>B</th>\n",
       "      <td>0.662571</td>\n",
       "      <td>-0.336978</td>\n",
       "      <td>0.025136</td>\n",
       "      <td>0.326545</td>\n",
       "      <td>1.101764</td>\n",
       "      <td>1.012229</td>\n",
       "      <td>-1.218133</td>\n",
       "      <td>-0.947612</td>\n",
       "      <td>1.084154</td>\n",
       "      <td>1.288576</td>\n",
       "    </tr>\n",
       "    <tr>\n",
       "      <th>C</th>\n",
       "      <td>-0.496586</td>\n",
       "      <td>-2.309062</td>\n",
       "      <td>-0.219418</td>\n",
       "      <td>-0.166634</td>\n",
       "      <td>-1.025913</td>\n",
       "      <td>1.228691</td>\n",
       "      <td>-0.082996</td>\n",
       "      <td>-0.176707</td>\n",
       "      <td>1.013608</td>\n",
       "      <td>-0.994873</td>\n",
       "    </tr>\n",
       "    <tr>\n",
       "      <th>D</th>\n",
       "      <td>-1.013416</td>\n",
       "      <td>0.620195</td>\n",
       "      <td>-1.161544</td>\n",
       "      <td>-0.328978</td>\n",
       "      <td>0.447255</td>\n",
       "      <td>0.283747</td>\n",
       "      <td>-0.754626</td>\n",
       "      <td>0.023971</td>\n",
       "      <td>-2.035890</td>\n",
       "      <td>-0.570832</td>\n",
       "    </tr>\n",
       "    <tr>\n",
       "      <th>E</th>\n",
       "      <td>-0.943005</td>\n",
       "      <td>-0.597457</td>\n",
       "      <td>0.150794</td>\n",
       "      <td>-0.380240</td>\n",
       "      <td>0.455010</td>\n",
       "      <td>-1.933772</td>\n",
       "      <td>-1.140691</td>\n",
       "      <td>-0.347704</td>\n",
       "      <td>0.936324</td>\n",
       "      <td>0.487494</td>\n",
       "    </tr>\n",
       "    <tr>\n",
       "      <th>F</th>\n",
       "      <td>0.199814</td>\n",
       "      <td>2.311709</td>\n",
       "      <td>-0.903533</td>\n",
       "      <td>-0.345892</td>\n",
       "      <td>0.751323</td>\n",
       "      <td>-0.900464</td>\n",
       "      <td>1.780249</td>\n",
       "      <td>-0.719593</td>\n",
       "      <td>-1.961749</td>\n",
       "      <td>0.861679</td>\n",
       "    </tr>\n",
       "  </tbody>\n",
       "</table>\n",
       "</div>"
      ],
      "text/plain": [
       "   2024-09-19  2024-09-20  2024-09-21  2024-09-22  2024-09-23  2024-09-24  \\\n",
       "A   -0.218247    0.784796    1.414900    0.904975    1.078881    1.221464   \n",
       "B    0.662571   -0.336978    0.025136    0.326545    1.101764    1.012229   \n",
       "C   -0.496586   -2.309062   -0.219418   -0.166634   -1.025913    1.228691   \n",
       "D   -1.013416    0.620195   -1.161544   -0.328978    0.447255    0.283747   \n",
       "E   -0.943005   -0.597457    0.150794   -0.380240    0.455010   -1.933772   \n",
       "F    0.199814    2.311709   -0.903533   -0.345892    0.751323   -0.900464   \n",
       "\n",
       "   2024-09-25  2024-09-26  2024-09-27  2024-09-28  \n",
       "A   -0.093160   -2.114061   -0.567798    0.387000  \n",
       "B   -1.218133   -0.947612    1.084154    1.288576  \n",
       "C   -0.082996   -0.176707    1.013608   -0.994873  \n",
       "D   -0.754626    0.023971   -2.035890   -0.570832  \n",
       "E   -1.140691   -0.347704    0.936324    0.487494  \n",
       "F    1.780249   -0.719593   -1.961749    0.861679  "
      ]
     },
     "execution_count": 37,
     "metadata": {},
     "output_type": "execute_result"
    }
   ],
   "source": [
    "df.T"
   ]
  },
  {
   "cell_type": "code",
   "execution_count": 38,
   "metadata": {},
   "outputs": [
    {
     "data": {
      "text/html": [
       "<div>\n",
       "<style scoped>\n",
       "    .dataframe tbody tr th:only-of-type {\n",
       "        vertical-align: middle;\n",
       "    }\n",
       "\n",
       "    .dataframe tbody tr th {\n",
       "        vertical-align: top;\n",
       "    }\n",
       "\n",
       "    .dataframe thead th {\n",
       "        text-align: right;\n",
       "    }\n",
       "</style>\n",
       "<table border=\"1\" class=\"dataframe\">\n",
       "  <thead>\n",
       "    <tr style=\"text-align: right;\">\n",
       "      <th></th>\n",
       "      <th>A</th>\n",
       "      <th>B</th>\n",
       "      <th>C</th>\n",
       "      <th>D</th>\n",
       "      <th>E</th>\n",
       "      <th>F</th>\n",
       "    </tr>\n",
       "  </thead>\n",
       "  <tbody>\n",
       "    <tr>\n",
       "      <th>2024-09-19</th>\n",
       "      <td>-0.218247</td>\n",
       "      <td>0.662571</td>\n",
       "      <td>-0.496586</td>\n",
       "      <td>-1.013416</td>\n",
       "      <td>-0.943005</td>\n",
       "      <td>0.199814</td>\n",
       "    </tr>\n",
       "    <tr>\n",
       "      <th>2024-09-20</th>\n",
       "      <td>0.784796</td>\n",
       "      <td>-0.336978</td>\n",
       "      <td>-2.309062</td>\n",
       "      <td>0.620195</td>\n",
       "      <td>-0.597457</td>\n",
       "      <td>2.311709</td>\n",
       "    </tr>\n",
       "    <tr>\n",
       "      <th>2024-09-21</th>\n",
       "      <td>1.414900</td>\n",
       "      <td>0.025136</td>\n",
       "      <td>-0.219418</td>\n",
       "      <td>-1.161544</td>\n",
       "      <td>0.150794</td>\n",
       "      <td>-0.903533</td>\n",
       "    </tr>\n",
       "    <tr>\n",
       "      <th>2024-09-22</th>\n",
       "      <td>0.904975</td>\n",
       "      <td>0.326545</td>\n",
       "      <td>-0.166634</td>\n",
       "      <td>-0.328978</td>\n",
       "      <td>-0.380240</td>\n",
       "      <td>-0.345892</td>\n",
       "    </tr>\n",
       "    <tr>\n",
       "      <th>2024-09-23</th>\n",
       "      <td>1.078881</td>\n",
       "      <td>1.101764</td>\n",
       "      <td>-1.025913</td>\n",
       "      <td>0.447255</td>\n",
       "      <td>0.455010</td>\n",
       "      <td>0.751323</td>\n",
       "    </tr>\n",
       "    <tr>\n",
       "      <th>2024-09-24</th>\n",
       "      <td>1.221464</td>\n",
       "      <td>1.012229</td>\n",
       "      <td>1.228691</td>\n",
       "      <td>0.283747</td>\n",
       "      <td>-1.933772</td>\n",
       "      <td>-0.900464</td>\n",
       "    </tr>\n",
       "    <tr>\n",
       "      <th>2024-09-25</th>\n",
       "      <td>-0.093160</td>\n",
       "      <td>-1.218133</td>\n",
       "      <td>-0.082996</td>\n",
       "      <td>-0.754626</td>\n",
       "      <td>-1.140691</td>\n",
       "      <td>1.780249</td>\n",
       "    </tr>\n",
       "  </tbody>\n",
       "</table>\n",
       "</div>"
      ],
      "text/plain": [
       "                   A         B         C         D         E         F\n",
       "2024-09-19 -0.218247  0.662571 -0.496586 -1.013416 -0.943005  0.199814\n",
       "2024-09-20  0.784796 -0.336978 -2.309062  0.620195 -0.597457  2.311709\n",
       "2024-09-21  1.414900  0.025136 -0.219418 -1.161544  0.150794 -0.903533\n",
       "2024-09-22  0.904975  0.326545 -0.166634 -0.328978 -0.380240 -0.345892\n",
       "2024-09-23  1.078881  1.101764 -1.025913  0.447255  0.455010  0.751323\n",
       "2024-09-24  1.221464  1.012229  1.228691  0.283747 -1.933772 -0.900464\n",
       "2024-09-25 -0.093160 -1.218133 -0.082996 -0.754626 -1.140691  1.780249"
      ]
     },
     "execution_count": 38,
     "metadata": {},
     "output_type": "execute_result"
    }
   ],
   "source": [
    "df[0:7]"
   ]
  },
  {
   "cell_type": "code",
   "execution_count": 39,
   "metadata": {},
   "outputs": [
    {
     "data": {
      "text/html": [
       "<div>\n",
       "<style scoped>\n",
       "    .dataframe tbody tr th:only-of-type {\n",
       "        vertical-align: middle;\n",
       "    }\n",
       "\n",
       "    .dataframe tbody tr th {\n",
       "        vertical-align: top;\n",
       "    }\n",
       "\n",
       "    .dataframe thead th {\n",
       "        text-align: right;\n",
       "    }\n",
       "</style>\n",
       "<table border=\"1\" class=\"dataframe\">\n",
       "  <thead>\n",
       "    <tr style=\"text-align: right;\">\n",
       "      <th></th>\n",
       "      <th>A</th>\n",
       "      <th>B</th>\n",
       "      <th>C</th>\n",
       "      <th>D</th>\n",
       "      <th>E</th>\n",
       "      <th>F</th>\n",
       "    </tr>\n",
       "  </thead>\n",
       "  <tbody>\n",
       "    <tr>\n",
       "      <th>2024-09-19</th>\n",
       "      <td>-0.218247</td>\n",
       "      <td>0.662571</td>\n",
       "      <td>-0.496586</td>\n",
       "      <td>-1.013416</td>\n",
       "      <td>-0.943005</td>\n",
       "      <td>0.199814</td>\n",
       "    </tr>\n",
       "    <tr>\n",
       "      <th>2024-09-20</th>\n",
       "      <td>0.784796</td>\n",
       "      <td>-0.336978</td>\n",
       "      <td>-2.309062</td>\n",
       "      <td>0.620195</td>\n",
       "      <td>-0.597457</td>\n",
       "      <td>2.311709</td>\n",
       "    </tr>\n",
       "    <tr>\n",
       "      <th>2024-09-21</th>\n",
       "      <td>1.414900</td>\n",
       "      <td>0.025136</td>\n",
       "      <td>-0.219418</td>\n",
       "      <td>-1.161544</td>\n",
       "      <td>0.150794</td>\n",
       "      <td>-0.903533</td>\n",
       "    </tr>\n",
       "    <tr>\n",
       "      <th>2024-09-22</th>\n",
       "      <td>0.904975</td>\n",
       "      <td>0.326545</td>\n",
       "      <td>-0.166634</td>\n",
       "      <td>-0.328978</td>\n",
       "      <td>-0.380240</td>\n",
       "      <td>-0.345892</td>\n",
       "    </tr>\n",
       "    <tr>\n",
       "      <th>2024-09-23</th>\n",
       "      <td>1.078881</td>\n",
       "      <td>1.101764</td>\n",
       "      <td>-1.025913</td>\n",
       "      <td>0.447255</td>\n",
       "      <td>0.455010</td>\n",
       "      <td>0.751323</td>\n",
       "    </tr>\n",
       "  </tbody>\n",
       "</table>\n",
       "</div>"
      ],
      "text/plain": [
       "                   A         B         C         D         E         F\n",
       "2024-09-19 -0.218247  0.662571 -0.496586 -1.013416 -0.943005  0.199814\n",
       "2024-09-20  0.784796 -0.336978 -2.309062  0.620195 -0.597457  2.311709\n",
       "2024-09-21  1.414900  0.025136 -0.219418 -1.161544  0.150794 -0.903533\n",
       "2024-09-22  0.904975  0.326545 -0.166634 -0.328978 -0.380240 -0.345892\n",
       "2024-09-23  1.078881  1.101764 -1.025913  0.447255  0.455010  0.751323"
      ]
     },
     "execution_count": 39,
     "metadata": {},
     "output_type": "execute_result"
    }
   ],
   "source": [
    "df[\"20240919\":\"20240923\"]\n"
   ]
  },
  {
   "cell_type": "code",
   "execution_count": 40,
   "metadata": {},
   "outputs": [
    {
     "data": {
      "text/plain": [
       "<bound method DataFrame.mean of                    A         B         C         D         E         F\n",
       "2024-09-19 -0.218247  0.662571 -0.496586 -1.013416 -0.943005  0.199814\n",
       "2024-09-20  0.784796 -0.336978 -2.309062  0.620195 -0.597457  2.311709\n",
       "2024-09-21  1.414900  0.025136 -0.219418 -1.161544  0.150794 -0.903533\n",
       "2024-09-22  0.904975  0.326545 -0.166634 -0.328978 -0.380240 -0.345892\n",
       "2024-09-23  1.078881  1.101764 -1.025913  0.447255  0.455010  0.751323\n",
       "2024-09-24  1.221464  1.012229  1.228691  0.283747 -1.933772 -0.900464\n",
       "2024-09-25 -0.093160 -1.218133 -0.082996 -0.754626 -1.140691  1.780249\n",
       "2024-09-26 -2.114061 -0.947612 -0.176707  0.023971 -0.347704 -0.719593\n",
       "2024-09-27 -0.567798  1.084154  1.013608 -2.035890  0.936324 -1.961749\n",
       "2024-09-28  0.387000  1.288576 -0.994873 -0.570832  0.487494  0.861679>"
      ]
     },
     "execution_count": 40,
     "metadata": {},
     "output_type": "execute_result"
    }
   ],
   "source": [
    "df.mean"
   ]
  },
  {
   "cell_type": "code",
   "execution_count": 41,
   "metadata": {},
   "outputs": [
    {
     "data": {
      "text/plain": [
       "<bound method DataFrame.median of                    A         B         C         D         E         F\n",
       "2024-09-19 -0.218247  0.662571 -0.496586 -1.013416 -0.943005  0.199814\n",
       "2024-09-20  0.784796 -0.336978 -2.309062  0.620195 -0.597457  2.311709\n",
       "2024-09-21  1.414900  0.025136 -0.219418 -1.161544  0.150794 -0.903533\n",
       "2024-09-22  0.904975  0.326545 -0.166634 -0.328978 -0.380240 -0.345892\n",
       "2024-09-23  1.078881  1.101764 -1.025913  0.447255  0.455010  0.751323\n",
       "2024-09-24  1.221464  1.012229  1.228691  0.283747 -1.933772 -0.900464\n",
       "2024-09-25 -0.093160 -1.218133 -0.082996 -0.754626 -1.140691  1.780249\n",
       "2024-09-26 -2.114061 -0.947612 -0.176707  0.023971 -0.347704 -0.719593\n",
       "2024-09-27 -0.567798  1.084154  1.013608 -2.035890  0.936324 -1.961749\n",
       "2024-09-28  0.387000  1.288576 -0.994873 -0.570832  0.487494  0.861679>"
      ]
     },
     "execution_count": 41,
     "metadata": {},
     "output_type": "execute_result"
    }
   ],
   "source": [
    "df.median"
   ]
  },
  {
   "cell_type": "code",
   "execution_count": 42,
   "metadata": {},
   "outputs": [
    {
     "data": {
      "text/plain": [
       "<bound method DataFrame.mode of                    A         B         C         D         E         F\n",
       "2024-09-19 -0.218247  0.662571 -0.496586 -1.013416 -0.943005  0.199814\n",
       "2024-09-20  0.784796 -0.336978 -2.309062  0.620195 -0.597457  2.311709\n",
       "2024-09-21  1.414900  0.025136 -0.219418 -1.161544  0.150794 -0.903533\n",
       "2024-09-22  0.904975  0.326545 -0.166634 -0.328978 -0.380240 -0.345892\n",
       "2024-09-23  1.078881  1.101764 -1.025913  0.447255  0.455010  0.751323\n",
       "2024-09-24  1.221464  1.012229  1.228691  0.283747 -1.933772 -0.900464\n",
       "2024-09-25 -0.093160 -1.218133 -0.082996 -0.754626 -1.140691  1.780249\n",
       "2024-09-26 -2.114061 -0.947612 -0.176707  0.023971 -0.347704 -0.719593\n",
       "2024-09-27 -0.567798  1.084154  1.013608 -2.035890  0.936324 -1.961749\n",
       "2024-09-28  0.387000  1.288576 -0.994873 -0.570832  0.487494  0.861679>"
      ]
     },
     "execution_count": 42,
     "metadata": {},
     "output_type": "execute_result"
    }
   ],
   "source": [
    "df.mode"
   ]
  },
  {
   "cell_type": "code",
   "execution_count": 43,
   "metadata": {},
   "outputs": [
    {
     "data": {
      "text/plain": [
       "<bound method DataFrame.info of                    A         B         C         D         E         F\n",
       "2024-09-19 -0.218247  0.662571 -0.496586 -1.013416 -0.943005  0.199814\n",
       "2024-09-20  0.784796 -0.336978 -2.309062  0.620195 -0.597457  2.311709\n",
       "2024-09-21  1.414900  0.025136 -0.219418 -1.161544  0.150794 -0.903533\n",
       "2024-09-22  0.904975  0.326545 -0.166634 -0.328978 -0.380240 -0.345892\n",
       "2024-09-23  1.078881  1.101764 -1.025913  0.447255  0.455010  0.751323\n",
       "2024-09-24  1.221464  1.012229  1.228691  0.283747 -1.933772 -0.900464\n",
       "2024-09-25 -0.093160 -1.218133 -0.082996 -0.754626 -1.140691  1.780249\n",
       "2024-09-26 -2.114061 -0.947612 -0.176707  0.023971 -0.347704 -0.719593\n",
       "2024-09-27 -0.567798  1.084154  1.013608 -2.035890  0.936324 -1.961749\n",
       "2024-09-28  0.387000  1.288576 -0.994873 -0.570832  0.487494  0.861679>"
      ]
     },
     "execution_count": 43,
     "metadata": {},
     "output_type": "execute_result"
    }
   ],
   "source": [
    "df.info"
   ]
  }
 ],
 "metadata": {
  "kernelspec": {
   "display_name": "Python 3",
   "language": "python",
   "name": "python3"
  },
  "language_info": {
   "codemirror_mode": {
    "name": "ipython",
    "version": 3
   },
   "file_extension": ".py",
   "mimetype": "text/x-python",
   "name": "python",
   "nbconvert_exporter": "python",
   "pygments_lexer": "ipython3",
   "version": "3.12.3"
  }
 },
 "nbformat": 4,
 "nbformat_minor": 2
}
