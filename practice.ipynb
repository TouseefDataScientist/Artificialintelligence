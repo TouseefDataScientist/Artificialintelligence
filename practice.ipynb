{
 "cells": [
  {
   "cell_type": "code",
<<<<<<< HEAD
   "execution_count": 1,
=======
   "execution_count": 12,
>>>>>>> 6e158b938ad50e1cd43e452c98f4679370267a73
   "metadata": {},
   "outputs": [
    {
     "name": "stdout",
     "output_type": "stream",
     "text": [
<<<<<<< HEAD
      "Defaulting to user installation because normal site-packages is not writeableNote: you may need to restart the kernel to use updated packages.\n",
      "\n",
      "Collecting numpy\n",
      "  Downloading numpy-2.1.1-cp312-cp312-win_amd64.whl.metadata (59 kB)\n",
      "Downloading numpy-2.1.1-cp312-cp312-win_amd64.whl (12.6 MB)\n",
      "   ---------------------------------------- 0.0/12.6 MB ? eta -:--:--\n",
      "    --------------------------------------- 0.3/12.6 MB ? eta -:--:--\n",
      "   - -------------------------------------- 0.5/12.6 MB 1.7 MB/s eta 0:00:08\n",
      "   -- ------------------------------------- 0.8/12.6 MB 1.5 MB/s eta 0:00:08\n",
      "   ---- ----------------------------------- 1.3/12.6 MB 1.6 MB/s eta 0:00:08\n",
      "   ----- ---------------------------------- 1.6/12.6 MB 1.6 MB/s eta 0:00:08\n",
      "   ----- ---------------------------------- 1.8/12.6 MB 1.5 MB/s eta 0:00:07\n",
      "   ------- -------------------------------- 2.4/12.6 MB 1.6 MB/s eta 0:00:07\n",
      "   -------- ------------------------------- 2.6/12.6 MB 1.6 MB/s eta 0:00:07\n",
      "   ---------- ----------------------------- 3.1/12.6 MB 1.6 MB/s eta 0:00:06\n",
      "   ---------- ----------------------------- 3.4/12.6 MB 1.6 MB/s eta 0:00:06\n",
      "   ----------- ---------------------------- 3.7/12.6 MB 1.6 MB/s eta 0:00:06\n",
      "   ------------ --------------------------- 3.9/12.6 MB 1.6 MB/s eta 0:00:06\n",
      "   ------------- -------------------------- 4.2/12.6 MB 1.5 MB/s eta 0:00:06\n",
      "   -------------- ------------------------- 4.5/12.6 MB 1.5 MB/s eta 0:00:06\n",
      "   --------------- ------------------------ 4.7/12.6 MB 1.5 MB/s eta 0:00:06\n",
      "   ---------------- ----------------------- 5.2/12.6 MB 1.5 MB/s eta 0:00:05\n",
      "   ----------------- ---------------------- 5.5/12.6 MB 1.5 MB/s eta 0:00:05\n",
      "   ------------------ --------------------- 5.8/12.6 MB 1.5 MB/s eta 0:00:05\n",
      "   ------------------- -------------------- 6.0/12.6 MB 1.5 MB/s eta 0:00:05\n",
      "   -------------------- ------------------- 6.3/12.6 MB 1.5 MB/s eta 0:00:05\n",
      "   --------------------- ------------------ 6.8/12.6 MB 1.5 MB/s eta 0:00:04\n",
      "   ---------------------- ----------------- 7.1/12.6 MB 1.5 MB/s eta 0:00:04\n",
      "   ----------------------- ---------------- 7.3/12.6 MB 1.5 MB/s eta 0:00:04\n",
      "   ------------------------- -------------- 7.9/12.6 MB 1.5 MB/s eta 0:00:04\n",
      "   ------------------------- -------------- 8.1/12.6 MB 1.5 MB/s eta 0:00:03\n",
      "   -------------------------- ------------- 8.4/12.6 MB 1.5 MB/s eta 0:00:03\n",
      "   ---------------------------- ----------- 8.9/12.6 MB 1.5 MB/s eta 0:00:03\n",
      "   ----------------------------- ---------- 9.2/12.6 MB 1.5 MB/s eta 0:00:03\n",
      "   ------------------------------ --------- 9.7/12.6 MB 1.5 MB/s eta 0:00:02\n",
      "   ------------------------------- -------- 10.0/12.6 MB 1.5 MB/s eta 0:00:02\n",
      "   -------------------------------- ------- 10.2/12.6 MB 1.5 MB/s eta 0:00:02\n",
      "   ---------------------------------- ----- 10.7/12.6 MB 1.5 MB/s eta 0:00:02\n",
      "   ----------------------------------- ---- 11.0/12.6 MB 1.5 MB/s eta 0:00:02\n",
      "   ----------------------------------- ---- 11.3/12.6 MB 1.5 MB/s eta 0:00:01\n",
      "   ------------------------------------ --- 11.5/12.6 MB 1.5 MB/s eta 0:00:01\n",
      "   ------------------------------------- -- 11.8/12.6 MB 1.5 MB/s eta 0:00:01\n",
      "   -------------------------------------- - 12.1/12.6 MB 1.5 MB/s eta 0:00:01\n",
      "   ---------------------------------------  12.3/12.6 MB 1.5 MB/s eta 0:00:01\n",
      "   ---------------------------------------- 12.6/12.6 MB 1.5 MB/s eta 0:00:00\n",
      "Installing collected packages: numpy\n",
      "Successfully installed numpy-2.1.1\n"
     ]
    }
   ],
   "source": [
    "%pip install numpy\n"
   ]
  },
  {
   "cell_type": "code",
   "execution_count": 2,
   "metadata": {},
   "outputs": [
    {
     "name": "stdout",
     "output_type": "stream",
     "text": [
      "Defaulting to user installation because normal site-packages is not writeable\n",
      "Collecting pandas\n",
      "  Downloading pandas-2.2.2-cp312-cp312-win_amd64.whl.metadata (19 kB)\n",
      "Requirement already satisfied: numpy>=1.26.0 in c:\\users\\001mh\\appdata\\local\\packages\\pythonsoftwarefoundation.python.3.12_qbz5n2kfra8p0\\localcache\\local-packages\\python312\\site-packages (from pandas) (2.1.1)\n",
      "Requirement already satisfied: python-dateutil>=2.8.2 in c:\\users\\001mh\\appdata\\local\\packages\\pythonsoftwarefoundation.python.3.12_qbz5n2kfra8p0\\localcache\\local-packages\\python312\\site-packages (from pandas) (2.9.0.post0)\n",
      "Collecting pytz>=2020.1 (from pandas)\n",
      "  Downloading pytz-2024.2-py2.py3-none-any.whl.metadata (22 kB)\n",
      "Collecting tzdata>=2022.7 (from pandas)\n",
      "  Downloading tzdata-2024.1-py2.py3-none-any.whl.metadata (1.4 kB)\n",
      "Requirement already satisfied: six>=1.5 in c:\\users\\001mh\\appdata\\local\\packages\\pythonsoftwarefoundation.python.3.12_qbz5n2kfra8p0\\localcache\\local-packages\\python312\\site-packages (from python-dateutil>=2.8.2->pandas) (1.16.0)\n",
      "Downloading pandas-2.2.2-cp312-cp312-win_amd64.whl (11.5 MB)\n",
      "   ---------------------------------------- 0.0/11.5 MB ? eta -:--:--\n",
      "    --------------------------------------- 0.3/11.5 MB ? eta -:--:--\n",
      "    --------------------------------------- 0.3/11.5 MB ? eta -:--:--\n",
      "   -- ------------------------------------- 0.8/11.5 MB 1.4 MB/s eta 0:00:08\n",
      "   --- ------------------------------------ 1.0/11.5 MB 1.4 MB/s eta 0:00:08\n",
      "   ---- ----------------------------------- 1.3/11.5 MB 1.3 MB/s eta 0:00:08\n",
      "   ---- ----------------------------------- 1.3/11.5 MB 1.3 MB/s eta 0:00:08\n",
      "   ----- ---------------------------------- 1.6/11.5 MB 1.1 MB/s eta 0:00:09\n",
      "   ------ --------------------------------- 1.8/11.5 MB 1.1 MB/s eta 0:00:10\n",
      "   ------- -------------------------------- 2.1/11.5 MB 1.0 MB/s eta 0:00:10\n",
      "   ------- -------------------------------- 2.1/11.5 MB 1.0 MB/s eta 0:00:10\n",
      "   -------- ------------------------------- 2.4/11.5 MB 979.5 kB/s eta 0:00:10\n",
      "   --------- ------------------------------ 2.6/11.5 MB 961.8 kB/s eta 0:00:10\n",
      "   --------- ------------------------------ 2.6/11.5 MB 961.8 kB/s eta 0:00:10\n",
      "   ---------- ----------------------------- 2.9/11.5 MB 937.2 kB/s eta 0:00:10\n",
      "   ---------- ----------------------------- 3.1/11.5 MB 922.7 kB/s eta 0:00:10\n",
      "   ---------- ----------------------------- 3.1/11.5 MB 922.7 kB/s eta 0:00:10\n",
      "   ----------- ---------------------------- 3.4/11.5 MB 915.3 kB/s eta 0:00:09\n",
      "   ------------ --------------------------- 3.7/11.5 MB 908.8 kB/s eta 0:00:09\n",
      "   ------------ --------------------------- 3.7/11.5 MB 908.8 kB/s eta 0:00:09\n",
      "   ------------- -------------------------- 3.9/11.5 MB 896.4 kB/s eta 0:00:09\n",
      "   ------------- -------------------------- 3.9/11.5 MB 896.4 kB/s eta 0:00:09\n",
      "   -------------- ------------------------- 4.2/11.5 MB 855.9 kB/s eta 0:00:09\n",
      "   -------------- ------------------------- 4.2/11.5 MB 855.9 kB/s eta 0:00:09\n",
      "   --------------- ------------------------ 4.5/11.5 MB 833.7 kB/s eta 0:00:09\n",
      "   --------------- ------------------------ 4.5/11.5 MB 833.7 kB/s eta 0:00:09\n",
      "   ---------------- ----------------------- 4.7/11.5 MB 821.9 kB/s eta 0:00:09\n",
      "   ---------------- ----------------------- 4.7/11.5 MB 821.9 kB/s eta 0:00:09\n",
      "   ----------------- ---------------------- 5.0/11.5 MB 816.2 kB/s eta 0:00:08\n",
      "   ----------------- ---------------------- 5.0/11.5 MB 816.2 kB/s eta 0:00:08\n",
      "   ------------------ --------------------- 5.2/11.5 MB 800.9 kB/s eta 0:00:08\n",
      "   ------------------- -------------------- 5.5/11.5 MB 795.1 kB/s eta 0:00:08\n",
      "   ------------------- -------------------- 5.5/11.5 MB 795.1 kB/s eta 0:00:08\n",
      "   -------------------- ------------------- 5.8/11.5 MB 791.7 kB/s eta 0:00:08\n",
      "   -------------------- ------------------- 6.0/11.5 MB 790.3 kB/s eta 0:00:07\n",
      "   -------------------- ------------------- 6.0/11.5 MB 790.3 kB/s eta 0:00:07\n",
      "   --------------------- ------------------ 6.3/11.5 MB 787.5 kB/s eta 0:00:07\n",
      "   ---------------------- ----------------- 6.6/11.5 MB 789.5 kB/s eta 0:00:07\n",
      "   ---------------------- ----------------- 6.6/11.5 MB 789.5 kB/s eta 0:00:07\n",
      "   ----------------------- ---------------- 6.8/11.5 MB 791.4 kB/s eta 0:00:06\n",
      "   ------------------------ --------------- 7.1/11.5 MB 798.9 kB/s eta 0:00:06\n",
      "   ------------------------- -------------- 7.3/11.5 MB 804.6 kB/s eta 0:00:06\n",
      "   -------------------------- ------------- 7.6/11.5 MB 811.3 kB/s eta 0:00:05\n",
      "   --------------------------- ------------ 7.9/11.5 MB 820.4 kB/s eta 0:00:05\n",
      "   ---------------------------- ----------- 8.1/11.5 MB 827.8 kB/s eta 0:00:05\n",
      "   ----------------------------- ---------- 8.4/11.5 MB 837.5 kB/s eta 0:00:04\n",
      "   ------------------------------ --------- 8.7/11.5 MB 844.2 kB/s eta 0:00:04\n",
      "   ------------------------------- -------- 8.9/11.5 MB 853.0 kB/s eta 0:00:04\n",
      "   ------------------------------- -------- 9.2/11.5 MB 861.6 kB/s eta 0:00:03\n",
      "   -------------------------------- ------- 9.4/11.5 MB 871.2 kB/s eta 0:00:03\n",
      "   --------------------------------- ------ 9.7/11.5 MB 880.4 kB/s eta 0:00:03\n",
      "   ----------------------------------- ---- 10.2/11.5 MB 900.5 kB/s eta 0:00:02\n",
      "   ------------------------------------ --- 10.5/11.5 MB 906.3 kB/s eta 0:00:02\n",
      "   ------------------------------------- -- 10.7/11.5 MB 914.3 kB/s eta 0:00:01\n",
      "   -------------------------------------- - 11.0/11.5 MB 919.6 kB/s eta 0:00:01\n",
      "   ---------------------------------------  11.3/11.5 MB 924.7 kB/s eta 0:00:01\n",
      "   ---------------------------------------  11.3/11.5 MB 924.7 kB/s eta 0:00:01\n",
      "   ---------------------------------------- 11.5/11.5 MB 922.0 kB/s eta 0:00:00\n",
      "Downloading pytz-2024.2-py2.py3-none-any.whl (508 kB)\n",
      "Downloading tzdata-2024.1-py2.py3-none-any.whl (345 kB)\n",
      "Installing collected packages: pytz, tzdata, pandas\n",
      "Successfully installed pandas-2.2.2 pytz-2024.2 tzdata-2024.1\n",
      "Note: you may need to restart the kernel to use updated packages.\n"
     ]
    }
   ],
   "source": [
    "%pip install pandas"
=======
      "Requirement already satisfied: pandas in c:\\users\\cca\\appdata\\local\\programs\\python\\python312\\lib\\site-packages (2.2.2)\n",
      "Requirement already satisfied: numpy>=1.26.0 in c:\\users\\cca\\appdata\\local\\programs\\python\\python312\\lib\\site-packages (from pandas) (2.1.1)\n",
      "Requirement already satisfied: python-dateutil>=2.8.2 in c:\\users\\cca\\appdata\\roaming\\python\\python312\\site-packages (from pandas) (2.9.0.post0)\n",
      "Requirement already satisfied: pytz>=2020.1 in c:\\users\\cca\\appdata\\local\\programs\\python\\python312\\lib\\site-packages (from pandas) (2024.2)\n",
      "Requirement already satisfied: tzdata>=2022.7 in c:\\users\\cca\\appdata\\local\\programs\\python\\python312\\lib\\site-packages (from pandas) (2024.1)\n",
      "Requirement already satisfied: six>=1.5 in c:\\users\\cca\\appdata\\roaming\\python\\python312\\site-packages (from python-dateutil>=2.8.2->pandas) (1.16.0)\n",
      "Note: you may need to restart the kernel to use updated packages.\n"
     ]
    },
    {
     "name": "stderr",
     "output_type": "stream",
     "text": [
      "\n",
      "[notice] A new release of pip is available: 24.0 -> 24.2\n",
      "[notice] To update, run: python.exe -m pip install --upgrade pip\n"
     ]
    }
   ],
   "source": [
    "%pip install pandas\n"
>>>>>>> 6e158b938ad50e1cd43e452c98f4679370267a73
   ]
  },
  {
   "cell_type": "code",
<<<<<<< HEAD
   "execution_count": 3,
   "metadata": {},
   "outputs": [],
   "source": [
    "import numpy as np"
=======
   "execution_count": 13,
   "metadata": {},
   "outputs": [
    {
     "name": "stdout",
     "output_type": "stream",
     "text": [
      "Requirement already satisfied: numpy in c:\\users\\cca\\appdata\\local\\programs\\python\\python312\\lib\\site-packages (2.1.1)\n",
      "Note: you may need to restart the kernel to use updated packages.\n"
     ]
    },
    {
     "name": "stderr",
     "output_type": "stream",
     "text": [
      "\n",
      "[notice] A new release of pip is available: 24.0 -> 24.2\n",
      "[notice] To update, run: python.exe -m pip install --upgrade pip\n"
     ]
    }
   ],
   "source": [
    "%pip install numpy"
>>>>>>> 6e158b938ad50e1cd43e452c98f4679370267a73
   ]
  },
  {
   "cell_type": "code",
<<<<<<< HEAD
   "execution_count": 4,
   "metadata": {},
   "outputs": [],
   "source": [
    "import pandas as pd"
   ]
=======
   "execution_count": 14,
   "metadata": {},
   "outputs": [],
   "source": [
    "import numpy as np\n",
    "\n",
    "import pandas as pd"
   ]
  },
  {
   "cell_type": "code",
   "execution_count": 20,
   "metadata": {},
   "outputs": [
    {
     "data": {
      "text/plain": [
       "0    10.0\n",
       "1    35.0\n",
       "2    50.0\n",
       "3     NaN\n",
       "4     6.0\n",
       "5     8.0\n",
       "dtype: float64"
      ]
     },
     "execution_count": 20,
     "metadata": {},
     "output_type": "execute_result"
    }
   ],
   "source": [
    "s = pd.Series([10, 35, 50, np.nan, 6, 8])\n",
    "s"
   ]
  },
  {
   "cell_type": "code",
   "execution_count": 22,
   "metadata": {},
   "outputs": [
    {
     "data": {
      "text/plain": [
       "DatetimeIndex(['2024-09-19', '2024-09-20', '2024-09-21', '2024-09-22',\n",
       "               '2024-09-23', '2024-09-24', '2024-09-25', '2024-09-26',\n",
       "               '2024-09-27', '2024-09-28'],\n",
       "              dtype='datetime64[ns]', freq='D')"
      ]
     },
     "execution_count": 22,
     "metadata": {},
     "output_type": "execute_result"
    }
   ],
   "source": [
    "dates = pd.date_range(\"20240919\", periods=10)\n",
    "dates"
   ]
  },
  {
   "cell_type": "code",
   "execution_count": 27,
   "metadata": {},
   "outputs": [
    {
     "data": {
      "text/html": [
       "<div>\n",
       "<style scoped>\n",
       "    .dataframe tbody tr th:only-of-type {\n",
       "        vertical-align: middle;\n",
       "    }\n",
       "\n",
       "    .dataframe tbody tr th {\n",
       "        vertical-align: top;\n",
       "    }\n",
       "\n",
       "    .dataframe thead th {\n",
       "        text-align: right;\n",
       "    }\n",
       "</style>\n",
       "<table border=\"1\" class=\"dataframe\">\n",
       "  <thead>\n",
       "    <tr style=\"text-align: right;\">\n",
       "      <th></th>\n",
       "      <th>A</th>\n",
       "      <th>B</th>\n",
       "      <th>C</th>\n",
       "      <th>D</th>\n",
       "      <th>E</th>\n",
       "      <th>F</th>\n",
       "    </tr>\n",
       "  </thead>\n",
       "  <tbody>\n",
       "    <tr>\n",
       "      <th>2024-09-19</th>\n",
       "      <td>-0.218247</td>\n",
       "      <td>0.662571</td>\n",
       "      <td>-0.496586</td>\n",
       "      <td>-1.013416</td>\n",
       "      <td>-0.943005</td>\n",
       "      <td>0.199814</td>\n",
       "    </tr>\n",
       "    <tr>\n",
       "      <th>2024-09-20</th>\n",
       "      <td>0.784796</td>\n",
       "      <td>-0.336978</td>\n",
       "      <td>-2.309062</td>\n",
       "      <td>0.620195</td>\n",
       "      <td>-0.597457</td>\n",
       "      <td>2.311709</td>\n",
       "    </tr>\n",
       "    <tr>\n",
       "      <th>2024-09-21</th>\n",
       "      <td>1.414900</td>\n",
       "      <td>0.025136</td>\n",
       "      <td>-0.219418</td>\n",
       "      <td>-1.161544</td>\n",
       "      <td>0.150794</td>\n",
       "      <td>-0.903533</td>\n",
       "    </tr>\n",
       "    <tr>\n",
       "      <th>2024-09-22</th>\n",
       "      <td>0.904975</td>\n",
       "      <td>0.326545</td>\n",
       "      <td>-0.166634</td>\n",
       "      <td>-0.328978</td>\n",
       "      <td>-0.380240</td>\n",
       "      <td>-0.345892</td>\n",
       "    </tr>\n",
       "    <tr>\n",
       "      <th>2024-09-23</th>\n",
       "      <td>1.078881</td>\n",
       "      <td>1.101764</td>\n",
       "      <td>-1.025913</td>\n",
       "      <td>0.447255</td>\n",
       "      <td>0.455010</td>\n",
       "      <td>0.751323</td>\n",
       "    </tr>\n",
       "    <tr>\n",
       "      <th>2024-09-24</th>\n",
       "      <td>1.221464</td>\n",
       "      <td>1.012229</td>\n",
       "      <td>1.228691</td>\n",
       "      <td>0.283747</td>\n",
       "      <td>-1.933772</td>\n",
       "      <td>-0.900464</td>\n",
       "    </tr>\n",
       "    <tr>\n",
       "      <th>2024-09-25</th>\n",
       "      <td>-0.093160</td>\n",
       "      <td>-1.218133</td>\n",
       "      <td>-0.082996</td>\n",
       "      <td>-0.754626</td>\n",
       "      <td>-1.140691</td>\n",
       "      <td>1.780249</td>\n",
       "    </tr>\n",
       "    <tr>\n",
       "      <th>2024-09-26</th>\n",
       "      <td>-2.114061</td>\n",
       "      <td>-0.947612</td>\n",
       "      <td>-0.176707</td>\n",
       "      <td>0.023971</td>\n",
       "      <td>-0.347704</td>\n",
       "      <td>-0.719593</td>\n",
       "    </tr>\n",
       "    <tr>\n",
       "      <th>2024-09-27</th>\n",
       "      <td>-0.567798</td>\n",
       "      <td>1.084154</td>\n",
       "      <td>1.013608</td>\n",
       "      <td>-2.035890</td>\n",
       "      <td>0.936324</td>\n",
       "      <td>-1.961749</td>\n",
       "    </tr>\n",
       "    <tr>\n",
       "      <th>2024-09-28</th>\n",
       "      <td>0.387000</td>\n",
       "      <td>1.288576</td>\n",
       "      <td>-0.994873</td>\n",
       "      <td>-0.570832</td>\n",
       "      <td>0.487494</td>\n",
       "      <td>0.861679</td>\n",
       "    </tr>\n",
       "  </tbody>\n",
       "</table>\n",
       "</div>"
      ],
      "text/plain": [
       "                   A         B         C         D         E         F\n",
       "2024-09-19 -0.218247  0.662571 -0.496586 -1.013416 -0.943005  0.199814\n",
       "2024-09-20  0.784796 -0.336978 -2.309062  0.620195 -0.597457  2.311709\n",
       "2024-09-21  1.414900  0.025136 -0.219418 -1.161544  0.150794 -0.903533\n",
       "2024-09-22  0.904975  0.326545 -0.166634 -0.328978 -0.380240 -0.345892\n",
       "2024-09-23  1.078881  1.101764 -1.025913  0.447255  0.455010  0.751323\n",
       "2024-09-24  1.221464  1.012229  1.228691  0.283747 -1.933772 -0.900464\n",
       "2024-09-25 -0.093160 -1.218133 -0.082996 -0.754626 -1.140691  1.780249\n",
       "2024-09-26 -2.114061 -0.947612 -0.176707  0.023971 -0.347704 -0.719593\n",
       "2024-09-27 -0.567798  1.084154  1.013608 -2.035890  0.936324 -1.961749\n",
       "2024-09-28  0.387000  1.288576 -0.994873 -0.570832  0.487494  0.861679"
      ]
     },
     "execution_count": 27,
     "metadata": {},
     "output_type": "execute_result"
    }
   ],
   "source": [
    "df = pd.DataFrame(np.random.randn(10, 6), index=dates, columns=list(\"ABCDEF\"))\n",
    "df\n"
   ]
  },
  {
   "cell_type": "code",
   "execution_count": 29,
   "metadata": {},
   "outputs": [
    {
     "data": {
      "text/html": [
       "<div>\n",
       "<style scoped>\n",
       "    .dataframe tbody tr th:only-of-type {\n",
       "        vertical-align: middle;\n",
       "    }\n",
       "\n",
       "    .dataframe tbody tr th {\n",
       "        vertical-align: top;\n",
       "    }\n",
       "\n",
       "    .dataframe thead th {\n",
       "        text-align: right;\n",
       "    }\n",
       "</style>\n",
       "<table border=\"1\" class=\"dataframe\">\n",
       "  <thead>\n",
       "    <tr style=\"text-align: right;\">\n",
       "      <th></th>\n",
       "      <th>A</th>\n",
       "      <th>B</th>\n",
       "      <th>C</th>\n",
       "      <th>D</th>\n",
       "      <th>E</th>\n",
       "      <th>F</th>\n",
       "    </tr>\n",
       "  </thead>\n",
       "  <tbody>\n",
       "    <tr>\n",
       "      <th>0</th>\n",
       "      <td>9.5</td>\n",
       "      <td>2024-09-19</td>\n",
       "      <td>1.0</td>\n",
       "      <td>9</td>\n",
       "      <td>rain</td>\n",
       "      <td>foo</td>\n",
       "    </tr>\n",
       "    <tr>\n",
       "      <th>1</th>\n",
       "      <td>9.5</td>\n",
       "      <td>2024-09-19</td>\n",
       "      <td>1.0</td>\n",
       "      <td>9</td>\n",
       "      <td>apple</td>\n",
       "      <td>foo</td>\n",
       "    </tr>\n",
       "    <tr>\n",
       "      <th>2</th>\n",
       "      <td>9.5</td>\n",
       "      <td>2024-09-19</td>\n",
       "      <td>1.0</td>\n",
       "      <td>9</td>\n",
       "      <td>pencil</td>\n",
       "      <td>foo</td>\n",
       "    </tr>\n",
       "    <tr>\n",
       "      <th>3</th>\n",
       "      <td>9.5</td>\n",
       "      <td>2024-09-19</td>\n",
       "      <td>1.0</td>\n",
       "      <td>9</td>\n",
       "      <td>banana</td>\n",
       "      <td>foo</td>\n",
       "    </tr>\n",
       "    <tr>\n",
       "      <th>4</th>\n",
       "      <td>9.5</td>\n",
       "      <td>2024-09-19</td>\n",
       "      <td>1.0</td>\n",
       "      <td>9</td>\n",
       "      <td>pen</td>\n",
       "      <td>foo</td>\n",
       "    </tr>\n",
       "    <tr>\n",
       "      <th>5</th>\n",
       "      <td>9.5</td>\n",
       "      <td>2024-09-19</td>\n",
       "      <td>1.0</td>\n",
       "      <td>9</td>\n",
       "      <td>piano</td>\n",
       "      <td>foo</td>\n",
       "    </tr>\n",
       "  </tbody>\n",
       "</table>\n",
       "</div>"
      ],
      "text/plain": [
       "     A          B    C  D       E    F\n",
       "0  9.5 2024-09-19  1.0  9    rain  foo\n",
       "1  9.5 2024-09-19  1.0  9   apple  foo\n",
       "2  9.5 2024-09-19  1.0  9  pencil  foo\n",
       "3  9.5 2024-09-19  1.0  9  banana  foo\n",
       "4  9.5 2024-09-19  1.0  9     pen  foo\n",
       "5  9.5 2024-09-19  1.0  9   piano  foo"
      ]
     },
     "execution_count": 29,
     "metadata": {},
     "output_type": "execute_result"
    }
   ],
   "source": [
    "df2 = pd.DataFrame(\n",
    "    {\n",
    "        \"A\": 9.5,\n",
    "        \"B\": pd.Timestamp(\"20240919\"),\n",
    "        \"C\": pd.Series(1, index=list(range(6)), dtype=\"float32\"),\n",
    "        \"D\": np.array([9] * 6, dtype=\"int32\"),\n",
    "        \"E\": pd.Categorical([\"rain\", \"apple\", \"pencil\", \"banana\",\"pen\",\"piano\"]),\n",
    "        \"F\": \"foo\",\n",
    "    }\n",
    ")\n",
    "df2"
   ]
  },
  {
   "cell_type": "code",
   "execution_count": 30,
   "metadata": {},
   "outputs": [
    {
     "data": {
      "text/plain": [
       "A          float64\n",
       "B    datetime64[s]\n",
       "C          float32\n",
       "D            int32\n",
       "E         category\n",
       "F           object\n",
       "dtype: object"
      ]
     },
     "execution_count": 30,
     "metadata": {},
     "output_type": "execute_result"
    }
   ],
   "source": [
    "df2.dtypes"
   ]
  },
  {
   "cell_type": "code",
   "execution_count": 33,
   "metadata": {},
   "outputs": [
    {
     "data": {
      "text/html": [
       "<div>\n",
       "<style scoped>\n",
       "    .dataframe tbody tr th:only-of-type {\n",
       "        vertical-align: middle;\n",
       "    }\n",
       "\n",
       "    .dataframe tbody tr th {\n",
       "        vertical-align: top;\n",
       "    }\n",
       "\n",
       "    .dataframe thead th {\n",
       "        text-align: right;\n",
       "    }\n",
       "</style>\n",
       "<table border=\"1\" class=\"dataframe\">\n",
       "  <thead>\n",
       "    <tr style=\"text-align: right;\">\n",
       "      <th></th>\n",
       "      <th>A</th>\n",
       "      <th>B</th>\n",
       "      <th>C</th>\n",
       "      <th>D</th>\n",
       "      <th>E</th>\n",
       "      <th>F</th>\n",
       "    </tr>\n",
       "  </thead>\n",
       "  <tbody>\n",
       "    <tr>\n",
       "      <th>2024-09-19</th>\n",
       "      <td>-0.218247</td>\n",
       "      <td>0.662571</td>\n",
       "      <td>-0.496586</td>\n",
       "      <td>-1.013416</td>\n",
       "      <td>-0.943005</td>\n",
       "      <td>0.199814</td>\n",
       "    </tr>\n",
       "    <tr>\n",
       "      <th>2024-09-20</th>\n",
       "      <td>0.784796</td>\n",
       "      <td>-0.336978</td>\n",
       "      <td>-2.309062</td>\n",
       "      <td>0.620195</td>\n",
       "      <td>-0.597457</td>\n",
       "      <td>2.311709</td>\n",
       "    </tr>\n",
       "    <tr>\n",
       "      <th>2024-09-21</th>\n",
       "      <td>1.414900</td>\n",
       "      <td>0.025136</td>\n",
       "      <td>-0.219418</td>\n",
       "      <td>-1.161544</td>\n",
       "      <td>0.150794</td>\n",
       "      <td>-0.903533</td>\n",
       "    </tr>\n",
       "    <tr>\n",
       "      <th>2024-09-22</th>\n",
       "      <td>0.904975</td>\n",
       "      <td>0.326545</td>\n",
       "      <td>-0.166634</td>\n",
       "      <td>-0.328978</td>\n",
       "      <td>-0.380240</td>\n",
       "      <td>-0.345892</td>\n",
       "    </tr>\n",
       "  </tbody>\n",
       "</table>\n",
       "</div>"
      ],
      "text/plain": [
       "                   A         B         C         D         E         F\n",
       "2024-09-19 -0.218247  0.662571 -0.496586 -1.013416 -0.943005  0.199814\n",
       "2024-09-20  0.784796 -0.336978 -2.309062  0.620195 -0.597457  2.311709\n",
       "2024-09-21  1.414900  0.025136 -0.219418 -1.161544  0.150794 -0.903533\n",
       "2024-09-22  0.904975  0.326545 -0.166634 -0.328978 -0.380240 -0.345892"
      ]
     },
     "execution_count": 33,
     "metadata": {},
     "output_type": "execute_result"
    }
   ],
   "source": [
    "df.head(4)"
   ]
  },
  {
   "cell_type": "code",
   "execution_count": 32,
   "metadata": {},
   "outputs": [
    {
     "data": {
      "text/html": [
       "<div>\n",
       "<style scoped>\n",
       "    .dataframe tbody tr th:only-of-type {\n",
       "        vertical-align: middle;\n",
       "    }\n",
       "\n",
       "    .dataframe tbody tr th {\n",
       "        vertical-align: top;\n",
       "    }\n",
       "\n",
       "    .dataframe thead th {\n",
       "        text-align: right;\n",
       "    }\n",
       "</style>\n",
       "<table border=\"1\" class=\"dataframe\">\n",
       "  <thead>\n",
       "    <tr style=\"text-align: right;\">\n",
       "      <th></th>\n",
       "      <th>A</th>\n",
       "      <th>B</th>\n",
       "      <th>C</th>\n",
       "      <th>D</th>\n",
       "      <th>E</th>\n",
       "      <th>F</th>\n",
       "    </tr>\n",
       "  </thead>\n",
       "  <tbody>\n",
       "    <tr>\n",
       "      <th>2024-09-25</th>\n",
       "      <td>-0.093160</td>\n",
       "      <td>-1.218133</td>\n",
       "      <td>-0.082996</td>\n",
       "      <td>-0.754626</td>\n",
       "      <td>-1.140691</td>\n",
       "      <td>1.780249</td>\n",
       "    </tr>\n",
       "    <tr>\n",
       "      <th>2024-09-26</th>\n",
       "      <td>-2.114061</td>\n",
       "      <td>-0.947612</td>\n",
       "      <td>-0.176707</td>\n",
       "      <td>0.023971</td>\n",
       "      <td>-0.347704</td>\n",
       "      <td>-0.719593</td>\n",
       "    </tr>\n",
       "    <tr>\n",
       "      <th>2024-09-27</th>\n",
       "      <td>-0.567798</td>\n",
       "      <td>1.084154</td>\n",
       "      <td>1.013608</td>\n",
       "      <td>-2.035890</td>\n",
       "      <td>0.936324</td>\n",
       "      <td>-1.961749</td>\n",
       "    </tr>\n",
       "    <tr>\n",
       "      <th>2024-09-28</th>\n",
       "      <td>0.387000</td>\n",
       "      <td>1.288576</td>\n",
       "      <td>-0.994873</td>\n",
       "      <td>-0.570832</td>\n",
       "      <td>0.487494</td>\n",
       "      <td>0.861679</td>\n",
       "    </tr>\n",
       "  </tbody>\n",
       "</table>\n",
       "</div>"
      ],
      "text/plain": [
       "                   A         B         C         D         E         F\n",
       "2024-09-25 -0.093160 -1.218133 -0.082996 -0.754626 -1.140691  1.780249\n",
       "2024-09-26 -2.114061 -0.947612 -0.176707  0.023971 -0.347704 -0.719593\n",
       "2024-09-27 -0.567798  1.084154  1.013608 -2.035890  0.936324 -1.961749\n",
       "2024-09-28  0.387000  1.288576 -0.994873 -0.570832  0.487494  0.861679"
      ]
     },
     "execution_count": 32,
     "metadata": {},
     "output_type": "execute_result"
    }
   ],
   "source": [
    "df.tail(4)"
   ]
  },
  {
   "cell_type": "code",
   "execution_count": 34,
   "metadata": {},
   "outputs": [
    {
     "data": {
      "text/plain": [
       "DatetimeIndex(['2024-09-19', '2024-09-20', '2024-09-21', '2024-09-22',\n",
       "               '2024-09-23', '2024-09-24', '2024-09-25', '2024-09-26',\n",
       "               '2024-09-27', '2024-09-28'],\n",
       "              dtype='datetime64[ns]', freq='D')"
      ]
     },
     "execution_count": 34,
     "metadata": {},
     "output_type": "execute_result"
    }
   ],
   "source": [
    "df.index"
   ]
  },
  {
   "cell_type": "code",
   "execution_count": 35,
   "metadata": {},
   "outputs": [
    {
     "data": {
      "text/plain": [
       "Index(['A', 'B', 'C', 'D', 'E', 'F'], dtype='object')"
      ]
     },
     "execution_count": 35,
     "metadata": {},
     "output_type": "execute_result"
    }
   ],
   "source": [
    "df.columns"
   ]
  },
  {
   "cell_type": "code",
   "execution_count": 36,
   "metadata": {},
   "outputs": [
    {
     "data": {
      "text/html": [
       "<div>\n",
       "<style scoped>\n",
       "    .dataframe tbody tr th:only-of-type {\n",
       "        vertical-align: middle;\n",
       "    }\n",
       "\n",
       "    .dataframe tbody tr th {\n",
       "        vertical-align: top;\n",
       "    }\n",
       "\n",
       "    .dataframe thead th {\n",
       "        text-align: right;\n",
       "    }\n",
       "</style>\n",
       "<table border=\"1\" class=\"dataframe\">\n",
       "  <thead>\n",
       "    <tr style=\"text-align: right;\">\n",
       "      <th></th>\n",
       "      <th>A</th>\n",
       "      <th>B</th>\n",
       "      <th>C</th>\n",
       "      <th>D</th>\n",
       "      <th>E</th>\n",
       "      <th>F</th>\n",
       "    </tr>\n",
       "  </thead>\n",
       "  <tbody>\n",
       "    <tr>\n",
       "      <th>count</th>\n",
       "      <td>10.000000</td>\n",
       "      <td>10.000000</td>\n",
       "      <td>10.000000</td>\n",
       "      <td>10.000000</td>\n",
       "      <td>10.000000</td>\n",
       "      <td>10.000000</td>\n",
       "    </tr>\n",
       "    <tr>\n",
       "      <th>mean</th>\n",
       "      <td>0.279875</td>\n",
       "      <td>0.299825</td>\n",
       "      <td>-0.322989</td>\n",
       "      <td>-0.449012</td>\n",
       "      <td>-0.331325</td>\n",
       "      <td>0.107354</td>\n",
       "    </tr>\n",
       "    <tr>\n",
       "      <th>std</th>\n",
       "      <td>1.070162</td>\n",
       "      <td>0.895482</td>\n",
       "      <td>1.012616</td>\n",
       "      <td>0.828267</td>\n",
       "      <td>0.869144</td>\n",
       "      <td>1.327406</td>\n",
       "    </tr>\n",
       "    <tr>\n",
       "      <th>min</th>\n",
       "      <td>-2.114061</td>\n",
       "      <td>-1.218133</td>\n",
       "      <td>-2.309062</td>\n",
       "      <td>-2.035890</td>\n",
       "      <td>-1.933772</td>\n",
       "      <td>-1.961749</td>\n",
       "    </tr>\n",
       "    <tr>\n",
       "      <th>25%</th>\n",
       "      <td>-0.186975</td>\n",
       "      <td>-0.246449</td>\n",
       "      <td>-0.870301</td>\n",
       "      <td>-0.948719</td>\n",
       "      <td>-0.856618</td>\n",
       "      <td>-0.855246</td>\n",
       "    </tr>\n",
       "    <tr>\n",
       "      <th>50%</th>\n",
       "      <td>0.585898</td>\n",
       "      <td>0.494558</td>\n",
       "      <td>-0.198062</td>\n",
       "      <td>-0.449905</td>\n",
       "      <td>-0.363972</td>\n",
       "      <td>-0.073039</td>\n",
       "    </tr>\n",
       "    <tr>\n",
       "      <th>75%</th>\n",
       "      <td>1.035405</td>\n",
       "      <td>1.066173</td>\n",
       "      <td>-0.103905</td>\n",
       "      <td>0.218803</td>\n",
       "      <td>0.378956</td>\n",
       "      <td>0.834090</td>\n",
       "    </tr>\n",
       "    <tr>\n",
       "      <th>max</th>\n",
       "      <td>1.414900</td>\n",
       "      <td>1.288576</td>\n",
       "      <td>1.228691</td>\n",
       "      <td>0.620195</td>\n",
       "      <td>0.936324</td>\n",
       "      <td>2.311709</td>\n",
       "    </tr>\n",
       "  </tbody>\n",
       "</table>\n",
       "</div>"
      ],
      "text/plain": [
       "               A          B          C          D          E          F\n",
       "count  10.000000  10.000000  10.000000  10.000000  10.000000  10.000000\n",
       "mean    0.279875   0.299825  -0.322989  -0.449012  -0.331325   0.107354\n",
       "std     1.070162   0.895482   1.012616   0.828267   0.869144   1.327406\n",
       "min    -2.114061  -1.218133  -2.309062  -2.035890  -1.933772  -1.961749\n",
       "25%    -0.186975  -0.246449  -0.870301  -0.948719  -0.856618  -0.855246\n",
       "50%     0.585898   0.494558  -0.198062  -0.449905  -0.363972  -0.073039\n",
       "75%     1.035405   1.066173  -0.103905   0.218803   0.378956   0.834090\n",
       "max     1.414900   1.288576   1.228691   0.620195   0.936324   2.311709"
      ]
     },
     "execution_count": 36,
     "metadata": {},
     "output_type": "execute_result"
    }
   ],
   "source": [
    "df.describe()"
   ]
  },
  {
   "cell_type": "code",
   "execution_count": 37,
   "metadata": {},
   "outputs": [
    {
     "data": {
      "text/html": [
       "<div>\n",
       "<style scoped>\n",
       "    .dataframe tbody tr th:only-of-type {\n",
       "        vertical-align: middle;\n",
       "    }\n",
       "\n",
       "    .dataframe tbody tr th {\n",
       "        vertical-align: top;\n",
       "    }\n",
       "\n",
       "    .dataframe thead th {\n",
       "        text-align: right;\n",
       "    }\n",
       "</style>\n",
       "<table border=\"1\" class=\"dataframe\">\n",
       "  <thead>\n",
       "    <tr style=\"text-align: right;\">\n",
       "      <th></th>\n",
       "      <th>2024-09-19</th>\n",
       "      <th>2024-09-20</th>\n",
       "      <th>2024-09-21</th>\n",
       "      <th>2024-09-22</th>\n",
       "      <th>2024-09-23</th>\n",
       "      <th>2024-09-24</th>\n",
       "      <th>2024-09-25</th>\n",
       "      <th>2024-09-26</th>\n",
       "      <th>2024-09-27</th>\n",
       "      <th>2024-09-28</th>\n",
       "    </tr>\n",
       "  </thead>\n",
       "  <tbody>\n",
       "    <tr>\n",
       "      <th>A</th>\n",
       "      <td>-0.218247</td>\n",
       "      <td>0.784796</td>\n",
       "      <td>1.414900</td>\n",
       "      <td>0.904975</td>\n",
       "      <td>1.078881</td>\n",
       "      <td>1.221464</td>\n",
       "      <td>-0.093160</td>\n",
       "      <td>-2.114061</td>\n",
       "      <td>-0.567798</td>\n",
       "      <td>0.387000</td>\n",
       "    </tr>\n",
       "    <tr>\n",
       "      <th>B</th>\n",
       "      <td>0.662571</td>\n",
       "      <td>-0.336978</td>\n",
       "      <td>0.025136</td>\n",
       "      <td>0.326545</td>\n",
       "      <td>1.101764</td>\n",
       "      <td>1.012229</td>\n",
       "      <td>-1.218133</td>\n",
       "      <td>-0.947612</td>\n",
       "      <td>1.084154</td>\n",
       "      <td>1.288576</td>\n",
       "    </tr>\n",
       "    <tr>\n",
       "      <th>C</th>\n",
       "      <td>-0.496586</td>\n",
       "      <td>-2.309062</td>\n",
       "      <td>-0.219418</td>\n",
       "      <td>-0.166634</td>\n",
       "      <td>-1.025913</td>\n",
       "      <td>1.228691</td>\n",
       "      <td>-0.082996</td>\n",
       "      <td>-0.176707</td>\n",
       "      <td>1.013608</td>\n",
       "      <td>-0.994873</td>\n",
       "    </tr>\n",
       "    <tr>\n",
       "      <th>D</th>\n",
       "      <td>-1.013416</td>\n",
       "      <td>0.620195</td>\n",
       "      <td>-1.161544</td>\n",
       "      <td>-0.328978</td>\n",
       "      <td>0.447255</td>\n",
       "      <td>0.283747</td>\n",
       "      <td>-0.754626</td>\n",
       "      <td>0.023971</td>\n",
       "      <td>-2.035890</td>\n",
       "      <td>-0.570832</td>\n",
       "    </tr>\n",
       "    <tr>\n",
       "      <th>E</th>\n",
       "      <td>-0.943005</td>\n",
       "      <td>-0.597457</td>\n",
       "      <td>0.150794</td>\n",
       "      <td>-0.380240</td>\n",
       "      <td>0.455010</td>\n",
       "      <td>-1.933772</td>\n",
       "      <td>-1.140691</td>\n",
       "      <td>-0.347704</td>\n",
       "      <td>0.936324</td>\n",
       "      <td>0.487494</td>\n",
       "    </tr>\n",
       "    <tr>\n",
       "      <th>F</th>\n",
       "      <td>0.199814</td>\n",
       "      <td>2.311709</td>\n",
       "      <td>-0.903533</td>\n",
       "      <td>-0.345892</td>\n",
       "      <td>0.751323</td>\n",
       "      <td>-0.900464</td>\n",
       "      <td>1.780249</td>\n",
       "      <td>-0.719593</td>\n",
       "      <td>-1.961749</td>\n",
       "      <td>0.861679</td>\n",
       "    </tr>\n",
       "  </tbody>\n",
       "</table>\n",
       "</div>"
      ],
      "text/plain": [
       "   2024-09-19  2024-09-20  2024-09-21  2024-09-22  2024-09-23  2024-09-24  \\\n",
       "A   -0.218247    0.784796    1.414900    0.904975    1.078881    1.221464   \n",
       "B    0.662571   -0.336978    0.025136    0.326545    1.101764    1.012229   \n",
       "C   -0.496586   -2.309062   -0.219418   -0.166634   -1.025913    1.228691   \n",
       "D   -1.013416    0.620195   -1.161544   -0.328978    0.447255    0.283747   \n",
       "E   -0.943005   -0.597457    0.150794   -0.380240    0.455010   -1.933772   \n",
       "F    0.199814    2.311709   -0.903533   -0.345892    0.751323   -0.900464   \n",
       "\n",
       "   2024-09-25  2024-09-26  2024-09-27  2024-09-28  \n",
       "A   -0.093160   -2.114061   -0.567798    0.387000  \n",
       "B   -1.218133   -0.947612    1.084154    1.288576  \n",
       "C   -0.082996   -0.176707    1.013608   -0.994873  \n",
       "D   -0.754626    0.023971   -2.035890   -0.570832  \n",
       "E   -1.140691   -0.347704    0.936324    0.487494  \n",
       "F    1.780249   -0.719593   -1.961749    0.861679  "
      ]
     },
     "execution_count": 37,
     "metadata": {},
     "output_type": "execute_result"
    }
   ],
   "source": [
    "df.T"
   ]
  },
  {
   "cell_type": "code",
   "execution_count": 38,
   "metadata": {},
   "outputs": [
    {
     "data": {
      "text/html": [
       "<div>\n",
       "<style scoped>\n",
       "    .dataframe tbody tr th:only-of-type {\n",
       "        vertical-align: middle;\n",
       "    }\n",
       "\n",
       "    .dataframe tbody tr th {\n",
       "        vertical-align: top;\n",
       "    }\n",
       "\n",
       "    .dataframe thead th {\n",
       "        text-align: right;\n",
       "    }\n",
       "</style>\n",
       "<table border=\"1\" class=\"dataframe\">\n",
       "  <thead>\n",
       "    <tr style=\"text-align: right;\">\n",
       "      <th></th>\n",
       "      <th>A</th>\n",
       "      <th>B</th>\n",
       "      <th>C</th>\n",
       "      <th>D</th>\n",
       "      <th>E</th>\n",
       "      <th>F</th>\n",
       "    </tr>\n",
       "  </thead>\n",
       "  <tbody>\n",
       "    <tr>\n",
       "      <th>2024-09-19</th>\n",
       "      <td>-0.218247</td>\n",
       "      <td>0.662571</td>\n",
       "      <td>-0.496586</td>\n",
       "      <td>-1.013416</td>\n",
       "      <td>-0.943005</td>\n",
       "      <td>0.199814</td>\n",
       "    </tr>\n",
       "    <tr>\n",
       "      <th>2024-09-20</th>\n",
       "      <td>0.784796</td>\n",
       "      <td>-0.336978</td>\n",
       "      <td>-2.309062</td>\n",
       "      <td>0.620195</td>\n",
       "      <td>-0.597457</td>\n",
       "      <td>2.311709</td>\n",
       "    </tr>\n",
       "    <tr>\n",
       "      <th>2024-09-21</th>\n",
       "      <td>1.414900</td>\n",
       "      <td>0.025136</td>\n",
       "      <td>-0.219418</td>\n",
       "      <td>-1.161544</td>\n",
       "      <td>0.150794</td>\n",
       "      <td>-0.903533</td>\n",
       "    </tr>\n",
       "    <tr>\n",
       "      <th>2024-09-22</th>\n",
       "      <td>0.904975</td>\n",
       "      <td>0.326545</td>\n",
       "      <td>-0.166634</td>\n",
       "      <td>-0.328978</td>\n",
       "      <td>-0.380240</td>\n",
       "      <td>-0.345892</td>\n",
       "    </tr>\n",
       "    <tr>\n",
       "      <th>2024-09-23</th>\n",
       "      <td>1.078881</td>\n",
       "      <td>1.101764</td>\n",
       "      <td>-1.025913</td>\n",
       "      <td>0.447255</td>\n",
       "      <td>0.455010</td>\n",
       "      <td>0.751323</td>\n",
       "    </tr>\n",
       "    <tr>\n",
       "      <th>2024-09-24</th>\n",
       "      <td>1.221464</td>\n",
       "      <td>1.012229</td>\n",
       "      <td>1.228691</td>\n",
       "      <td>0.283747</td>\n",
       "      <td>-1.933772</td>\n",
       "      <td>-0.900464</td>\n",
       "    </tr>\n",
       "    <tr>\n",
       "      <th>2024-09-25</th>\n",
       "      <td>-0.093160</td>\n",
       "      <td>-1.218133</td>\n",
       "      <td>-0.082996</td>\n",
       "      <td>-0.754626</td>\n",
       "      <td>-1.140691</td>\n",
       "      <td>1.780249</td>\n",
       "    </tr>\n",
       "  </tbody>\n",
       "</table>\n",
       "</div>"
      ],
      "text/plain": [
       "                   A         B         C         D         E         F\n",
       "2024-09-19 -0.218247  0.662571 -0.496586 -1.013416 -0.943005  0.199814\n",
       "2024-09-20  0.784796 -0.336978 -2.309062  0.620195 -0.597457  2.311709\n",
       "2024-09-21  1.414900  0.025136 -0.219418 -1.161544  0.150794 -0.903533\n",
       "2024-09-22  0.904975  0.326545 -0.166634 -0.328978 -0.380240 -0.345892\n",
       "2024-09-23  1.078881  1.101764 -1.025913  0.447255  0.455010  0.751323\n",
       "2024-09-24  1.221464  1.012229  1.228691  0.283747 -1.933772 -0.900464\n",
       "2024-09-25 -0.093160 -1.218133 -0.082996 -0.754626 -1.140691  1.780249"
      ]
     },
     "execution_count": 38,
     "metadata": {},
     "output_type": "execute_result"
    }
   ],
   "source": [
    "df[0:7]"
   ]
  },
  {
   "cell_type": "code",
   "execution_count": 39,
   "metadata": {},
   "outputs": [
    {
     "data": {
      "text/html": [
       "<div>\n",
       "<style scoped>\n",
       "    .dataframe tbody tr th:only-of-type {\n",
       "        vertical-align: middle;\n",
       "    }\n",
       "\n",
       "    .dataframe tbody tr th {\n",
       "        vertical-align: top;\n",
       "    }\n",
       "\n",
       "    .dataframe thead th {\n",
       "        text-align: right;\n",
       "    }\n",
       "</style>\n",
       "<table border=\"1\" class=\"dataframe\">\n",
       "  <thead>\n",
       "    <tr style=\"text-align: right;\">\n",
       "      <th></th>\n",
       "      <th>A</th>\n",
       "      <th>B</th>\n",
       "      <th>C</th>\n",
       "      <th>D</th>\n",
       "      <th>E</th>\n",
       "      <th>F</th>\n",
       "    </tr>\n",
       "  </thead>\n",
       "  <tbody>\n",
       "    <tr>\n",
       "      <th>2024-09-19</th>\n",
       "      <td>-0.218247</td>\n",
       "      <td>0.662571</td>\n",
       "      <td>-0.496586</td>\n",
       "      <td>-1.013416</td>\n",
       "      <td>-0.943005</td>\n",
       "      <td>0.199814</td>\n",
       "    </tr>\n",
       "    <tr>\n",
       "      <th>2024-09-20</th>\n",
       "      <td>0.784796</td>\n",
       "      <td>-0.336978</td>\n",
       "      <td>-2.309062</td>\n",
       "      <td>0.620195</td>\n",
       "      <td>-0.597457</td>\n",
       "      <td>2.311709</td>\n",
       "    </tr>\n",
       "    <tr>\n",
       "      <th>2024-09-21</th>\n",
       "      <td>1.414900</td>\n",
       "      <td>0.025136</td>\n",
       "      <td>-0.219418</td>\n",
       "      <td>-1.161544</td>\n",
       "      <td>0.150794</td>\n",
       "      <td>-0.903533</td>\n",
       "    </tr>\n",
       "    <tr>\n",
       "      <th>2024-09-22</th>\n",
       "      <td>0.904975</td>\n",
       "      <td>0.326545</td>\n",
       "      <td>-0.166634</td>\n",
       "      <td>-0.328978</td>\n",
       "      <td>-0.380240</td>\n",
       "      <td>-0.345892</td>\n",
       "    </tr>\n",
       "    <tr>\n",
       "      <th>2024-09-23</th>\n",
       "      <td>1.078881</td>\n",
       "      <td>1.101764</td>\n",
       "      <td>-1.025913</td>\n",
       "      <td>0.447255</td>\n",
       "      <td>0.455010</td>\n",
       "      <td>0.751323</td>\n",
       "    </tr>\n",
       "  </tbody>\n",
       "</table>\n",
       "</div>"
      ],
      "text/plain": [
       "                   A         B         C         D         E         F\n",
       "2024-09-19 -0.218247  0.662571 -0.496586 -1.013416 -0.943005  0.199814\n",
       "2024-09-20  0.784796 -0.336978 -2.309062  0.620195 -0.597457  2.311709\n",
       "2024-09-21  1.414900  0.025136 -0.219418 -1.161544  0.150794 -0.903533\n",
       "2024-09-22  0.904975  0.326545 -0.166634 -0.328978 -0.380240 -0.345892\n",
       "2024-09-23  1.078881  1.101764 -1.025913  0.447255  0.455010  0.751323"
      ]
     },
     "execution_count": 39,
     "metadata": {},
     "output_type": "execute_result"
    }
   ],
   "source": [
    "df[\"20240919\":\"20240923\"]\n"
   ]
  },
  {
   "cell_type": "code",
   "execution_count": 40,
   "metadata": {},
   "outputs": [
    {
     "data": {
      "text/plain": [
       "<bound method DataFrame.mean of                    A         B         C         D         E         F\n",
       "2024-09-19 -0.218247  0.662571 -0.496586 -1.013416 -0.943005  0.199814\n",
       "2024-09-20  0.784796 -0.336978 -2.309062  0.620195 -0.597457  2.311709\n",
       "2024-09-21  1.414900  0.025136 -0.219418 -1.161544  0.150794 -0.903533\n",
       "2024-09-22  0.904975  0.326545 -0.166634 -0.328978 -0.380240 -0.345892\n",
       "2024-09-23  1.078881  1.101764 -1.025913  0.447255  0.455010  0.751323\n",
       "2024-09-24  1.221464  1.012229  1.228691  0.283747 -1.933772 -0.900464\n",
       "2024-09-25 -0.093160 -1.218133 -0.082996 -0.754626 -1.140691  1.780249\n",
       "2024-09-26 -2.114061 -0.947612 -0.176707  0.023971 -0.347704 -0.719593\n",
       "2024-09-27 -0.567798  1.084154  1.013608 -2.035890  0.936324 -1.961749\n",
       "2024-09-28  0.387000  1.288576 -0.994873 -0.570832  0.487494  0.861679>"
      ]
     },
     "execution_count": 40,
     "metadata": {},
     "output_type": "execute_result"
    }
   ],
   "source": [
    "df.mean"
   ]
  },
  {
   "cell_type": "code",
   "execution_count": 41,
   "metadata": {},
   "outputs": [
    {
     "data": {
      "text/plain": [
       "<bound method DataFrame.median of                    A         B         C         D         E         F\n",
       "2024-09-19 -0.218247  0.662571 -0.496586 -1.013416 -0.943005  0.199814\n",
       "2024-09-20  0.784796 -0.336978 -2.309062  0.620195 -0.597457  2.311709\n",
       "2024-09-21  1.414900  0.025136 -0.219418 -1.161544  0.150794 -0.903533\n",
       "2024-09-22  0.904975  0.326545 -0.166634 -0.328978 -0.380240 -0.345892\n",
       "2024-09-23  1.078881  1.101764 -1.025913  0.447255  0.455010  0.751323\n",
       "2024-09-24  1.221464  1.012229  1.228691  0.283747 -1.933772 -0.900464\n",
       "2024-09-25 -0.093160 -1.218133 -0.082996 -0.754626 -1.140691  1.780249\n",
       "2024-09-26 -2.114061 -0.947612 -0.176707  0.023971 -0.347704 -0.719593\n",
       "2024-09-27 -0.567798  1.084154  1.013608 -2.035890  0.936324 -1.961749\n",
       "2024-09-28  0.387000  1.288576 -0.994873 -0.570832  0.487494  0.861679>"
      ]
     },
     "execution_count": 41,
     "metadata": {},
     "output_type": "execute_result"
    }
   ],
   "source": [
    "df.median"
   ]
  },
  {
   "cell_type": "code",
   "execution_count": 42,
   "metadata": {},
   "outputs": [
    {
     "data": {
      "text/plain": [
       "<bound method DataFrame.mode of                    A         B         C         D         E         F\n",
       "2024-09-19 -0.218247  0.662571 -0.496586 -1.013416 -0.943005  0.199814\n",
       "2024-09-20  0.784796 -0.336978 -2.309062  0.620195 -0.597457  2.311709\n",
       "2024-09-21  1.414900  0.025136 -0.219418 -1.161544  0.150794 -0.903533\n",
       "2024-09-22  0.904975  0.326545 -0.166634 -0.328978 -0.380240 -0.345892\n",
       "2024-09-23  1.078881  1.101764 -1.025913  0.447255  0.455010  0.751323\n",
       "2024-09-24  1.221464  1.012229  1.228691  0.283747 -1.933772 -0.900464\n",
       "2024-09-25 -0.093160 -1.218133 -0.082996 -0.754626 -1.140691  1.780249\n",
       "2024-09-26 -2.114061 -0.947612 -0.176707  0.023971 -0.347704 -0.719593\n",
       "2024-09-27 -0.567798  1.084154  1.013608 -2.035890  0.936324 -1.961749\n",
       "2024-09-28  0.387000  1.288576 -0.994873 -0.570832  0.487494  0.861679>"
      ]
     },
     "execution_count": 42,
     "metadata": {},
     "output_type": "execute_result"
    }
   ],
   "source": [
    "df.mode"
   ]
  },
  {
   "cell_type": "code",
   "execution_count": 43,
   "metadata": {},
   "outputs": [
    {
     "data": {
      "text/plain": [
       "<bound method DataFrame.info of                    A         B         C         D         E         F\n",
       "2024-09-19 -0.218247  0.662571 -0.496586 -1.013416 -0.943005  0.199814\n",
       "2024-09-20  0.784796 -0.336978 -2.309062  0.620195 -0.597457  2.311709\n",
       "2024-09-21  1.414900  0.025136 -0.219418 -1.161544  0.150794 -0.903533\n",
       "2024-09-22  0.904975  0.326545 -0.166634 -0.328978 -0.380240 -0.345892\n",
       "2024-09-23  1.078881  1.101764 -1.025913  0.447255  0.455010  0.751323\n",
       "2024-09-24  1.221464  1.012229  1.228691  0.283747 -1.933772 -0.900464\n",
       "2024-09-25 -0.093160 -1.218133 -0.082996 -0.754626 -1.140691  1.780249\n",
       "2024-09-26 -2.114061 -0.947612 -0.176707  0.023971 -0.347704 -0.719593\n",
       "2024-09-27 -0.567798  1.084154  1.013608 -2.035890  0.936324 -1.961749\n",
       "2024-09-28  0.387000  1.288576 -0.994873 -0.570832  0.487494  0.861679>"
      ]
     },
     "execution_count": 43,
     "metadata": {},
     "output_type": "execute_result"
    }
   ],
   "source": [
    "df.info"
   ]
>>>>>>> 6e158b938ad50e1cd43e452c98f4679370267a73
  }
 ],
 "metadata": {
  "kernelspec": {
   "display_name": "Python 3",
   "language": "python",
   "name": "python3"
  },
  "language_info": {
   "codemirror_mode": {
    "name": "ipython",
    "version": 3
   },
   "file_extension": ".py",
   "mimetype": "text/x-python",
   "name": "python",
   "nbconvert_exporter": "python",
   "pygments_lexer": "ipython3",
<<<<<<< HEAD
   "version": "3.12.6"
=======
   "version": "3.12.3"
>>>>>>> 6e158b938ad50e1cd43e452c98f4679370267a73
  }
 },
 "nbformat": 4,
 "nbformat_minor": 2
}
