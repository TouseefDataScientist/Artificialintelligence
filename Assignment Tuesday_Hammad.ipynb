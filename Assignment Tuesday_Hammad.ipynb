{
 "cells": [
  {
   "cell_type": "markdown",
   "metadata": {},
   "source": [
    "## Hammad Raza\n",
    "### Assignment No.2 Tuesday "
   ]
  },
  {
   "cell_type": "code",
   "execution_count": 110,
   "metadata": {},
   "outputs": [],
   "source": [
    "import pandas as pd\n",
    "import numpy as np\n",
    "import matplotlib.pyplot as plt"
   ]
  },
  {
   "cell_type": "markdown",
   "metadata": {},
   "source": [
    "#### Problem 01: “Understanding NumPy Arrays and Operations”"
   ]
  },
  {
   "cell_type": "code",
   "execution_count": 111,
   "metadata": {},
   "outputs": [
    {
     "name": "stdout",
     "output_type": "stream",
     "text": [
      "[[46  9 88 47 21]\n",
      " [24 55 59 11 77]\n",
      " [55 62 57 73 44]\n",
      " [ 2 22 27 50 76]]\n"
     ]
    }
   ],
   "source": [
    "# a. Create a NumPy array of shape (4, 5) filled with random integers between 1 and 100\n",
    "array_1= np.random.randint(1,100, size=(4,5)) \n",
    "print(array_1)"
   ]
  },
  {
   "cell_type": "code",
   "execution_count": 112,
   "metadata": {},
   "outputs": [
    {
     "name": "stdout",
     "output_type": "stream",
     "text": [
      "[[46  9 88 47 21 24 55 59 11 77]\n",
      " [55 62 57 73 44  2 22 27 50 76]]\n"
     ]
    }
   ],
   "source": [
    "# b. Reshape the array into a shape of (2, 10) and explain how reshaping works in NumPy\n",
    "reshaped_array = array_1.reshape(2,10)\n",
    "print(reshaped_array)\n",
    "\n",
    "# Reshape Working: Reshaping in NumPy allows you to change the dimensions of an array without altering its data. "
   ]
  },
  {
   "cell_type": "code",
   "execution_count": 113,
   "metadata": {},
   "outputs": [
    {
     "name": "stdout",
     "output_type": "stream",
     "text": [
      "Another array of Shape (2,10):\n",
      "[[99  2 92 45 23 51 12 73 77 98]\n",
      " [78 61 51 77 89 44 82 19 25 99]]\n",
      "Result of element-wise addition:\n",
      "[[145  11 180  92  44  75  67 132  88 175]\n",
      " [133 123 108 150 133  46 104  46  75 175]]\n"
     ]
    }
   ],
   "source": [
    "# c. Perform element-wise addition with another array of shape (2, 10) and discuss broadcasting rules\n",
    "array_2 = np.random.randint(1,100, size=(2,10)) \n",
    "print(\"Another array of Shape (2,10):\")\n",
    "print (array_2)\n",
    "\n",
    "result_array = np.add(reshaped_array, array_2)\n",
    "print(\"Result of element-wise addition:\")\n",
    "print(result_array)"
   ]
  },
  {
   "cell_type": "code",
   "execution_count": 114,
   "metadata": {},
   "outputs": [
    {
     "name": "stdout",
     "output_type": "stream",
     "text": [
      "[[399 357 617 536]\n",
      " [300 273 559 508]]\n"
     ]
    }
   ],
   "source": [
    "# d. Calculate the dot product of two compatible arrays and explain the significance of dot product in linear algebra.\n",
    "array_a = np.random.randint(5, 20, size=(2, 3))\n",
    "array_b = np.random.randint(5, 20, size=(3, 4))\n",
    "dot_product = np.dot(array_a, array_b)\n",
    "print(dot_product)"
   ]
  },
  {
   "cell_type": "code",
   "execution_count": 115,
   "metadata": {},
   "outputs": [
    {
     "name": "stdout",
     "output_type": "stream",
     "text": [
      "Original Array: [[46  9 88 47 21]\n",
      " [24 55 59 11 77]\n",
      " [55 62 57 73 44]\n",
      " [ 2 22 27 50 76]]\n",
      "Median Value: 48.5\n",
      "Masked Array: [[-- -- 88 -- --]\n",
      " [-- 55 59 -- 77]\n",
      " [55 62 57 73 --]\n",
      " [-- -- -- 50 76]]\n"
     ]
    }
   ],
   "source": [
    "# e. Create a masked array from the original array, masking all values below the median; explain the concept and use cases of masked arrays.\n",
    "\n",
    "median_value = np.median(array_1)\n",
    "\n",
    "# create masked array, masking all values below the median\n",
    "masked_array = np.ma.masked_where(array_1 < median_value, array_1)\n",
    "\n",
    "print(\"Original Array:\", array_1)\n",
    "print(\"Median Value:\", median_value)\n",
    "print(\"Masked Array:\", masked_array)"
   ]
  },
  {
   "cell_type": "markdown",
   "metadata": {},
   "source": [
    "#### Problem 02: “Exploring NumPy Broadcasting and Strides\"\n",
    "##### a. Explain the concept of broadcasting in NumPy and provide an example involving arrays of different shapes.\n",
    "##### ANS: Broadcasting in NumPy is a powerful mechanism that allows arithmetic operations on arrays of different shapes and sizes. It enables NumPy to perform element-wise operations without needing to explicitly duplicate data to match shapes.\n",
    "\n",
    "##### Examples:"
   ]
  },
  {
   "cell_type": "code",
   "execution_count": 116,
   "metadata": {},
   "outputs": [
    {
     "name": "stdout",
     "output_type": "stream",
     "text": [
      "Shape Comparison\n",
      "[[5, 9, 11], [12, 12, 15]]\n",
      "Adding a Scalar to an Array\n",
      "[12 14 16 18]\n",
      "Add the 1D array to the 2D array\n",
      "[[13 24 35]\n",
      " [21 33 46]]\n"
     ]
    }
   ],
   "source": [
    "# Provide an example involving arrays of different shapes.\n",
    "\n",
    "# Example 1: Shape Comparison.\n",
    "\n",
    "Array_1D = [2, 4, 6]\n",
    "Array_2D =  [[3, 5, 7], [10, 8, 9]]\n",
    "Shape =  [[3+2, 5+4, 7+4], [10+2, 8+4, 9+6]]\n",
    "print(\"Shape Comparison\")\n",
    "print(Shape)\n",
    "\n",
    "# Example 2: Adding a Scalar to an Array\n",
    "\n",
    "arr_1d = np.array([2, 4, 6, 8])\n",
    "output = arr_1d + 10\n",
    "print(\"Adding a Scalar to an Array\")\n",
    "print(output)\n",
    "\n",
    "# Example 3: Add the 1D array to the 2D array\n",
    "array_2d = np.array([[3, 4, 5],[11, 13, 16]])\n",
    "array_1d = np.array([10, 20, 30])\n",
    "result = array_2d + array_1d\n",
    "print (\"Add the 1D array to the 2D array\")\n",
    "print(result)"
   ]
  },
  {
   "cell_type": "markdown",
   "metadata": {},
   "source": [
    "##### b. Create two arrays with different shapes that can be broadcasted together and perform an arithmetic operation on them.\n"
   ]
  },
  {
   "cell_type": "code",
   "execution_count": 117,
   "metadata": {},
   "outputs": [
    {
     "data": {
      "text/plain": [
       "array([[21, 31, 41],\n",
       "       [23, 33, 43],\n",
       "       [25, 35, 45],\n",
       "       [27, 37, 47]])"
      ]
     },
     "execution_count": 117,
     "metadata": {},
     "output_type": "execute_result"
    }
   ],
   "source": [
    "# Array with shape (1, 4)\n",
    "arr_a = np.array([[11], [13], [15], [17]])\n",
    "\n",
    "# Array with shape (1, 3)\n",
    "arr_b = np.array([10, 20, 30])\n",
    "\n",
    "# Broadcasting addition\n",
    "result_add = arr_a + arr_b\n",
    "result_add"
   ]
  },
  {
   "cell_type": "markdown",
   "metadata": {},
   "source": [
    "##### c. Discuss how strides in NumPy arrays affect memory access patterns when slicing an array."
   ]
  },
  {
   "cell_type": "code",
   "execution_count": 118,
   "metadata": {},
   "outputs": [
    {
     "name": "stdout",
     "output_type": "stream",
     "text": [
      "[[0 2]\n",
      " [6 8]]\n"
     ]
    }
   ],
   "source": [
    "# Strides in NumPy represent the number of bytes needed to move to the next element in each dimension of an array. Strides are \n",
    "# crucial for memory access patterns as they influence how elements are accessed and can impact performance, especially during \n",
    "# slicing operations.When an array is sliced, NumPy uses the strides to determine the start point and how to step through memory to extract the elements.\n",
    "\n",
    "# Examples\n",
    "array = np.arange(9).reshape(3, 3)\n",
    "sliced = array[::2, ::2]\n",
    "print(sliced)"
   ]
  },
  {
   "cell_type": "markdown",
   "metadata": {},
   "source": [
    "##### d. Create an example to demonstrate the impact of strides on array slicing and performance."
   ]
  },
  {
   "cell_type": "code",
   "execution_count": 119,
   "metadata": {},
   "outputs": [
    {
     "name": "stdout",
     "output_type": "stream",
     "text": [
      "Original 2D Array:\n",
      "[[ 0  1  2  3  4  5]\n",
      " [ 6  7  8  9 10 11]\n",
      " [12 13 14 15 16 17]\n",
      " [18 19 20 21 22 23]\n",
      " [24 25 26 27 28 29]]\n",
      "Sliced Array (every second row):\n",
      "[[ 0  1  2  3  4  5]\n",
      " [24 25 26 27 28 29]]\n",
      "Strides:\n",
      "Original Array Strides: (48, 8)\n",
      "Sliced Array Strides: (192, 8)\n"
     ]
    }
   ],
   "source": [
    "#Create a 2D array (5x6)\n",
    "array_2d=np.arange(30).reshape(5,6)\n",
    "print(\"Original 2D Array:\")\n",
    "print(array_2d)\n",
    "\n",
    "#Slice the array to get every second row (shape will be (2, 6))\n",
    "sliced_array= array_2d[::4]\n",
    "print(\"Sliced Array (every second row):\")\n",
    "print(sliced_array)\n",
    "\n",
    "#Show the strides of both arrays\n",
    "print(\"Strides:\")\n",
    "print(\"Original Array Strides:\", array_2d.strides)\n",
    "print(\"Sliced Array Strides:\", sliced_array.strides)"
   ]
  },
  {
   "cell_type": "markdown",
   "metadata": {},
   "source": [
    "#### e. Analyze how changing the order of dimensions’ affects broadcasting and provide a scenario illustrating this."
   ]
  },
  {
   "cell_type": "code",
   "execution_count": 120,
   "metadata": {},
   "outputs": [
    {
     "data": {
      "text/plain": [
       "array([[5., 6., 7.],\n",
       "       [5., 6., 7.],\n",
       "       [5., 6., 7.],\n",
       "       [5., 6., 7.]])"
      ]
     },
     "execution_count": 120,
     "metadata": {},
     "output_type": "execute_result"
    }
   ],
   "source": [
    "#Array of shape (1,2)\n",
    "array_x = np.ones((4, 1))\n",
    "#Array of shape (1,3)\n",
    "array_y = np.array([4, 5, 6])\n",
    "\n",
    "#Order of dimension \n",
    "array_y_reshaped = array_y.reshape((1, 3))\n",
    "#Broadcasted addition\n",
    "result = array_x + array_y_reshaped\n",
    "result"
   ]
  },
  {
   "cell_type": "markdown",
   "metadata": {},
   "source": [
    "## Problem 03: “Advanced Array Manipulation with NumPy.\n",
    "##### a. Create a 3D NumPy array representing an RGB image and explain how to access individual color channels."
   ]
  },
  {
   "cell_type": "code",
   "execution_count": 121,
   "metadata": {},
   "outputs": [
    {
     "name": "stdout",
     "output_type": "stream",
     "text": [
      "[[[131 216 138]\n",
      "  [179 254 187]\n",
      "  [149  35  77]\n",
      "  [ 96   5 168]]\n",
      "\n",
      " [[214 201 128]\n",
      "  [137 170 244]\n",
      "  [ 46  25 233]\n",
      "  [245   6 157]]\n",
      "\n",
      " [[140 134 231]\n",
      "  [209  30 146]\n",
      "  [ 63  71 131]\n",
      "  [ 93  30 147]]\n",
      "\n",
      " [[111 124  26]\n",
      "  [157  12  86]\n",
      "  [185 145  60]\n",
      "  [212 140 101]]]\n",
      "Red channel\n",
      "[[131 179 149  96]\n",
      " [214 137  46 245]\n",
      " [140 209  63  93]\n",
      " [111 157 185 212]]\n",
      "Green_channel\n",
      "[[216 254  35   5]\n",
      " [201 170  25   6]\n",
      " [134  30  71  30]\n",
      " [124  12 145 140]]\n",
      "Blue_channel\n",
      "[[138 187  77 168]\n",
      " [128 244 233 157]\n",
      " [231 146 131 147]\n",
      " [ 26  86  60 101]]\n"
     ]
    }
   ],
   "source": [
    "rgb_image = np.random.randint(0, 256, size=(4, 4, 3))\n",
    "print(rgb_image)\n",
    "\n",
    "#Red channel (first channel)\n",
    "red_channel = rgb_image[:, :, 0]\n",
    "print(\"Red channel\")\n",
    "print(red_channel)\n",
    "#Green channel (second channel)\n",
    "green_channel = rgb_image[:, :, 1]\n",
    "print(\"Green_channel\")\n",
    "print(green_channel)\n",
    "#Blue channel (third channel)\n",
    "blue_channel = rgb_image[:, :, 2]\n",
    "print(\"Blue_channel\")\n",
    "print(blue_channel)"
   ]
  },
  {
   "cell_type": "markdown",
   "metadata": {},
   "source": [
    "#### b. Demonstrate how to flatten this 3D array into a 1D array and discuss the implications for image processing.\n",
    "##### \n",
    "##### ANS: Implications for Image Processing:\n",
    "##### Flattening is common in image preprocessing for tasks like feeding pixel data into machine learning models. However, it removes the 2D spatial structure, which might not be desirable for convolutional operations where spatial relationships are important."
   ]
  },
  {
   "cell_type": "code",
   "execution_count": 122,
   "metadata": {},
   "outputs": [
    {
     "name": "stdout",
     "output_type": "stream",
     "text": [
      "[131 216 138 179 254 187 149  35  77  96   5 168 214 201 128 137 170 244\n",
      "  46  25 233 245   6 157 140 134 231 209  30 146  63  71 131  93  30 147\n",
      " 111 124  26 157  12  86 185 145  60 212 140 101]\n"
     ]
    }
   ],
   "source": [
    "# how to flatten 3D array into a 1D array\n",
    "\n",
    "flatten_array = rgb_image.flatten()\n",
    "print(flatten_array)"
   ]
  },
  {
   "cell_type": "markdown",
   "metadata": {},
   "source": [
    "#### c. Use array slicing to extract a sub-array from the 3D array and explain the concept of views versus copies in NumPy."
   ]
  },
  {
   "cell_type": "code",
   "execution_count": 123,
   "metadata": {},
   "outputs": [
    {
     "name": "stdout",
     "output_type": "stream",
     "text": [
      "sub_array_view:\n",
      "[[[131 216 138]\n",
      "  [179 254 187]\n",
      "  [149  35  77]\n",
      "  [ 96   5 168]]\n",
      "\n",
      " [[214 201 128]\n",
      "  [137 170 244]\n",
      "  [ 46  25 233]\n",
      "  [245   6 157]]\n",
      "\n",
      " [[140 134 231]\n",
      "  [209  30 146]\n",
      "  [ 63  71 131]\n",
      "  [ 93  30 147]]\n",
      "\n",
      " [[111 124  26]\n",
      "  [157  12  86]\n",
      "  [185 145  60]\n",
      "  [212 140 101]]]\n"
     ]
    }
   ],
   "source": [
    "#Extract a sub-array using array slicing view\n",
    "sub_array_view = rgb_image[:256, :256, :]\n",
    "print (\"sub_array_view:\")\n",
    "print(sub_array_view)"
   ]
  },
  {
   "cell_type": "code",
   "execution_count": 124,
   "metadata": {},
   "outputs": [
    {
     "name": "stdout",
     "output_type": "stream",
     "text": [
      "sub_array_copy:\n",
      "[[[131 216 138]\n",
      "  [179 254 187]\n",
      "  [149  35  77]\n",
      "  [ 96   5 168]]\n",
      "\n",
      " [[214 201 128]\n",
      "  [137 170 244]\n",
      "  [ 46  25 233]\n",
      "  [245   6 157]]\n",
      "\n",
      " [[140 134 231]\n",
      "  [209  30 146]\n",
      "  [ 63  71 131]\n",
      "  [ 93  30 147]]\n",
      "\n",
      " [[111 124  26]\n",
      "  [157  12  86]\n",
      "  [185 145  60]\n",
      "  [212 140 101]]]\n"
     ]
    }
   ],
   "source": [
    "#Extract a sub-array using array slicing copy\n",
    "sub_array_copy = rgb_image[:256, :256, :].copy()\n",
    "print(\"sub_array_copy:\")\n",
    "print(sub_array_copy)"
   ]
  },
  {
   "cell_type": "markdown",
   "metadata": {},
   "source": [
    "### d. Discuss the advantages of using NumPy arrays over Python lists for large datasets, particularly in terms of performance and memory efficiency.\n",
    "#### Advantages of using numpy arrays over python:\n",
    "##### i-Faster computation and memory access\n",
    "##### ii- Efficient storage (contiguous memory)\n",
    "##### iii- Vectorized operations\n",
    "##### iv- Broadcasting and array slicing capabilities"
   ]
  },
  {
   "cell_type": "markdown",
   "metadata": {},
   "source": [
    "#### e. Create a function that normalizes the pixel values of the RGB image array to the range [0, 1] and explain the importance of normalization in machine learning.\n",
    "##### ANS: Importance of normalization in machine learning:\n",
    "##### i- Reduces feature scaling issues\n",
    "##### ii- Improves model convergence and stability\n",
    "##### iii- Enhances data visualization and interpretation"
   ]
  },
  {
   "cell_type": "code",
   "execution_count": 125,
   "metadata": {},
   "outputs": [
    {
     "name": "stdout",
     "output_type": "stream",
     "text": [
      "normalized_image:\n",
      "[[[0.51372549 0.84705882 0.54117647]\n",
      "  [0.70196078 0.99607843 0.73333333]\n",
      "  [0.58431373 0.1372549  0.30196078]\n",
      "  [0.37647059 0.01960784 0.65882353]]\n",
      "\n",
      " [[0.83921569 0.78823529 0.50196078]\n",
      "  [0.5372549  0.66666667 0.95686275]\n",
      "  [0.18039216 0.09803922 0.91372549]\n",
      "  [0.96078431 0.02352941 0.61568627]]\n",
      "\n",
      " [[0.54901961 0.5254902  0.90588235]\n",
      "  [0.81960784 0.11764706 0.57254902]\n",
      "  [0.24705882 0.27843137 0.51372549]\n",
      "  [0.36470588 0.11764706 0.57647059]]\n",
      "\n",
      " [[0.43529412 0.48627451 0.10196078]\n",
      "  [0.61568627 0.04705882 0.3372549 ]\n",
      "  [0.7254902  0.56862745 0.23529412]\n",
      "  [0.83137255 0.54901961 0.39607843]]]\n"
     ]
    }
   ],
   "source": [
    "#Normalizes the pixel values\n",
    "def normalize(image):\n",
    "    return image / 255.0\n",
    "#Normalize the RGB image array\n",
    "normalized_image = normalize(rgb_image)\n",
    "print(\"normalized_image:\")\n",
    "print(normalized_image)"
   ]
  },
  {
   "cell_type": "markdown",
   "metadata": {},
   "source": [
    "### Problem 04: “NumPy for Statistical Analysis”\n",
    "##### a. Generate a NumPy array of 1000 random numbers and calculate basic statistics (mean, median, variance)."
   ]
  },
  {
   "cell_type": "code",
   "execution_count": 126,
   "metadata": {},
   "outputs": [
    {
     "name": "stdout",
     "output_type": "stream",
     "text": [
      "Array Mean: 0.5002223300190121\n",
      "Array Median: 0.5016463886906701\n",
      "Array Variance: 0.08181619084004053\n"
     ]
    }
   ],
   "source": [
    "#Generate a NumPy array of 1000 random numbers.\n",
    "numpy_array = np.random.rand(1000)\n",
    "\n",
    "#Calculate Mean\n",
    "array_mean =  np.mean(numpy_array)\n",
    "print(\"Array Mean:\", array_mean)\n",
    "\n",
    "#Calculate Median\n",
    "array_median = np.median(numpy_array)\n",
    "print(\"Array Median:\", array_median)\n",
    "\n",
    "#Calculate Variance\n",
    "array_variance = np.var(numpy_array)\n",
    "print(\"Array Variance:\", array_variance)"
   ]
  },
  {
   "cell_type": "markdown",
   "metadata": {},
   "source": [
    "### b. Discuss the differences between population and sample statistics, and calculate both for your generated data\n",
    "##### ANS: Discuss Differences between Population and sample Statistics:\n",
    "##### i- Population Statistics: Refers to calculations made using every member of a given population. It uses 𝑁: N (the total number of data points).\n",
    "##### ii- Sample Statistics: Refers to calculations made using a subset (sample) of the population. It uses 𝑛: n (the number of data points in the sample) and typically applies Bessel's correction by using n-1: n−1 in the denominator for variance to reduce bias."
   ]
  },
  {
   "cell_type": "code",
   "execution_count": 127,
   "metadata": {},
   "outputs": [
    {
     "name": "stdout",
     "output_type": "stream",
     "text": [
      "Population Mean:\n",
      "0.5002223300190121\n",
      "Sample Mean:\n",
      "0.48712477996623965\n",
      "Population Variance:\n",
      "0.08181619084004053\n",
      "Sample Variance:\n",
      "0.07616691116111243\n"
     ]
    }
   ],
   "source": [
    "population_mean = np.mean(numpy_array)\n",
    "print(\"Population Mean:\")\n",
    "print(population_mean)\n",
    "\n",
    "sample_mean = np.mean(np.random.choice(numpy_array, size=100))\n",
    "print(\"Sample Mean:\")\n",
    "print(sample_mean)\n",
    "\n",
    "population_variance = np.var(numpy_array)\n",
    "print(\"Population Variance:\")\n",
    "print(population_variance)\n",
    "\n",
    "sample_variance = np.var(np.random.choice(numpy_array, size=100))\n",
    "print(\"Sample Variance:\")\n",
    "print(sample_variance)\n"
   ]
  },
  {
   "cell_type": "markdown",
   "metadata": {},
   "source": [
    "### c. Create a histogram of the random numbers using NumPy, and explain how histograms can be useful for data visualization."
   ]
  },
  {
   "cell_type": "code",
   "execution_count": 128,
   "metadata": {},
   "outputs": [
    {
     "data": {
      "image/png": "[encoded data removed]",
      "text/plain": [
       "<Figure size 640x480 with 1 Axes>"
      ]
     },
     "metadata": {},
     "output_type": "display_data"
    }
   ],
   "source": [
    "#Create a histogram with 20 bins\n",
    "plt.hist(numpy_array, bins=20, edgecolor='red')\n",
    "plt.title('Histogram of Random Numbers')\n",
    "plt.xlabel('Value')\n",
    "plt.ylabel('Temprature')\n",
    "plt.show()"
   ]
  },
  {
   "cell_type": "markdown",
   "metadata": {},
   "source": [
    "#### d. Implement a method to identify outliers in your dataset using the IQR (Interquartile Range) method."
   ]
  },
  {
   "cell_type": "code",
   "execution_count": 129,
   "metadata": {},
   "outputs": [
    {
     "name": "stdout",
     "output_type": "stream",
     "text": [
      "Number of Outliers: 0\n",
      "Outliers: []\n"
     ]
    }
   ],
   "source": [
    "q1 = np.percentile(numpy_array, 25)\n",
    "q3 = np.percentile(numpy_array, 75)\n",
    "\n",
    "IQR= q3-q1\n",
    "\n",
    "#Define outliers as values outside 2.7 * IQR from Q1 or Q3\n",
    "lower_bound = q1 - 2.7 * IQR\n",
    "upper_bound = q3 + 2.7 * IQR\n",
    "\n",
    "#Identify outliers\n",
    "outliers = numpy_array[(numpy_array < lower_bound) | (numpy_array > upper_bound)]\n",
    "print(f\"Number of Outliers: {len(outliers)}\")\n",
    "print(f\"Outliers: {outliers}\")"
   ]
  },
  {
   "cell_type": "markdown",
   "metadata": {},
   "source": [
    "### e. Explain how NumPy’s statistical functions can be utilized for data analysis in scientific research.\n",
    " \n",
    "##### Efficiency: \n",
    "##### NumPy is optimized for fast computations on large datasets, making it suitable for handling large amounts of data common in scientific studies.\n",
    "##### Comprehensiveness: \n",
    "##### NumPy provides a range of statistical functions, from basic measures like mean and variance to more advanced methods like linear regression and Fourier transforms.\n",
    "##### Support for Multidimensional Data: \n",
    "##### NumPy allows easy manipulation of multidimensional arrays, which is useful for handling complex data such as multi-channel sensor data, 3D image arrays, or time-series data in fields like biology, physics, and finance.\n",
    "##### Integration with Other Libraries: \n",
    "##### NumPy is the foundation for many other scientific libraries, such as SciPy, Pandas, and Matplotlib, facilitating end-to-end data analysis, from raw data processing to visualization and modeling.For example, in environmental science, NumPy’s statistical tools can analyze climate data trends, assess temperature anomalies, or conduct time-series analysis on rainfall patterns."
   ]
  },
  {
   "cell_type": "markdown",
   "metadata": {},
   "source": [
    "## Problem 05: “Advanced NumPy Operations Challenge”"
   ]
  },
  {
   "cell_type": "markdown",
   "metadata": {},
   "source": [
    "#### You are given two 2D NumPy arrays X of shape (n, d) and Y of shape (m, d) containing random floating-point numbers. Your task is to solve the following using NumPy's broadcasting, strides and advanced functions, without using explicit loops:\n",
    "##### a. Compute the pairwise Euclidean distance between each row in X and each row in Y, returning a matrix D of shape (n, m) where each element D[i, j] represents the distance between X[i] and Y[j].\n"
   ]
  },
  {
   "cell_type": "code",
   "execution_count": 130,
   "metadata": {},
   "outputs": [
    {
     "name": "stdout",
     "output_type": "stream",
     "text": [
      "[[3.72161063 3.80084104 4.01094209 3.33964007 3.91905124 3.58481693\n",
      "  3.76429903 3.57519049 3.71516287 3.68574751 3.57326656 3.51545065\n",
      "  3.71447288 3.28128625 3.25141258 3.55298191 3.21819109 3.53878191\n",
      "  3.25848832 3.36586482 3.22114907 3.28889388 3.50791008 3.339645\n",
      "  3.69746918 3.24011528 3.54289738 3.43613405 3.44306632 3.37042971\n",
      "  3.11428685 3.12311721 3.24488191 3.79253974 3.47975811 3.70012316\n",
      "  3.32647703 3.6373498  3.21089382 3.62965475 3.52316656 3.37368713\n",
      "  3.67370661 3.82180397 3.48136047 3.70281268 3.49035148 3.51684779\n",
      "  3.86616252 4.06561021]\n",
      " [3.1693178  3.55338999 3.55994785 3.75784556 3.19244181 3.56678373\n",
      "  3.70750574 3.52913903 3.53610916 3.85817046 3.63008423 3.61910585\n",
      "  3.38315073 3.98636465 2.83840808 2.85612382 3.52239989 3.25099517\n",
      "  3.40205776 3.5227736  3.83755723 3.69743367 3.48496649 3.6453027\n",
      "  4.0260303  3.85202448 3.73714423 3.91302895 3.45531561 3.41621424\n",
      "  3.14391221 3.7564658  3.40810268 3.51166855 3.05835851 3.67696047\n",
      "  3.82641287 3.43644196 3.56259466 3.39235716 3.76020813 3.36640619\n",
      "  3.4455322  3.62026427 3.27064332 3.91918475 3.35172476 3.47995617\n",
      "  3.58033392 3.26295332]\n",
      " [3.59977241 3.25773553 3.24629997 3.16843904 3.07197508 3.17081362\n",
      "  3.38798313 3.30053647 3.33163927 3.14202517 2.86278311 3.04268872\n",
      "  3.25942948 3.05563807 3.22658546 3.03431407 2.95598308 3.27987078\n",
      "  3.38122528 3.52179596 3.41491116 3.34216771 3.48106518 2.99888164\n",
      "  3.23017658 3.34547152 2.7054293  3.09800979 3.15127346 3.3661446\n",
      "  3.00862227 3.70053625 3.32638717 3.05182739 2.61410175 3.67496632\n",
      "  3.18897056 3.43372822 3.15658449 3.52775768 2.98866929 3.51085114\n",
      "  2.95973329 3.39874245 3.22153008 3.03443787 3.1917597  3.59046373\n",
      "  2.9070501  3.51097233]\n",
      " [3.1340526  3.37620833 3.86548089 3.7423395  3.33255194 3.69825887\n",
      "  3.63382432 3.48450329 3.36244707 3.68267077 3.480368   3.7169063\n",
      "  3.27164655 3.71399565 3.35911645 3.13318583 3.50165834 3.51859254\n",
      "  3.37008925 3.85195357 3.48072068 3.82121886 3.59742086 3.19984825\n",
      "  3.56926922 3.89447106 3.51426173 3.70945237 3.4045262  3.43247084\n",
      "  3.43008617 3.70095293 3.7594083  3.69529114 3.55121323 3.83406027\n",
      "  3.91339742 3.7027247  3.60246025 3.6808917  3.22513417 3.37532153\n",
      "  3.50859998 3.67407822 3.36853336 3.4443805  2.96402892 3.26383432\n",
      "  3.2633352  3.14958899]\n",
      " [3.22246158 3.79614308 4.04134521 3.00271792 3.50328392 3.4318347\n",
      "  3.47328191 3.23796685 3.48564979 3.58388216 3.58868154 3.54769635\n",
      "  3.51917144 3.51827757 3.12062809 3.54595956 3.31864807 3.54109073\n",
      "  3.20449951 3.57123028 3.74026944 2.96538676 3.60203447 3.34090301\n",
      "  3.50938194 3.38654642 3.56215964 3.24722939 3.57167883 3.07330213\n",
      "  3.15464394 3.79000711 3.55661127 3.51075998 3.21632007 3.69786503\n",
      "  3.87187673 3.60386185 3.69966283 3.69316639 3.37317411 3.35467305\n",
      "  3.51324083 3.43717614 3.49263913 3.84713357 3.34774516 3.30460365\n",
      "  3.71604555 3.39703902]\n",
      " [3.52115191 3.80014167 3.5082624  3.44264116 3.34845612 2.98630706\n",
      "  3.75865205 3.52645239 3.41208047 3.3581409  3.94353898 2.99617581\n",
      "  3.56043019 3.09534936 3.11804018 3.14067928 3.28090671 3.2297734\n",
      "  3.62150522 3.0790123  3.30002643 3.53482399 3.75123296 3.33754498\n",
      "  3.66133658 3.7247238  3.57071483 3.50668315 3.49240405 3.22743405\n",
      "  3.47381871 3.45148185 3.35597568 3.93144039 3.17086912 3.46619876\n",
      "  3.57116289 3.26987928 3.83302903 3.44296581 3.28205191 3.32033487\n",
      "  3.31410044 3.60756386 3.15580165 3.54183309 3.52783714 3.5156176\n",
      "  3.338711   3.28103555]\n",
      " [3.43397935 3.25634817 3.24681008 3.34823622 3.28114266 3.31072547\n",
      "  3.70941915 3.53581776 3.38538811 3.26584687 3.4269114  3.51173823\n",
      "  3.47259593 3.36205702 3.33656043 3.40401335 3.23066674 3.21435121\n",
      "  3.33730137 3.1572199  3.47383467 3.28576481 3.46732157 2.99787814\n",
      "  3.59488018 3.26631272 3.58216616 3.17510098 3.57733726 3.2637502\n",
      "  2.77858676 3.41839781 3.22028764 3.20514271 2.93597258 3.37848302\n",
      "  3.34419379 3.01959106 3.48602759 3.15993432 2.79926132 3.31866017\n",
      "  3.25520591 3.57354316 2.92249218 3.37725    2.99923298 3.38250189\n",
      "  3.33730357 3.302793  ]\n",
      " [3.33327017 3.43027281 3.51020848 3.51182717 3.43786424 3.24089331\n",
      "  3.30743919 3.52597306 3.23077969 3.48975721 2.93070207 3.22260237\n",
      "  3.46513776 3.08408035 3.18442541 2.95062008 2.89668887 3.20412593\n",
      "  3.52772754 3.25560268 3.23193852 3.75715945 3.49389292 3.29933628\n",
      "  3.4279914  3.6033037  3.25840232 3.36974708 3.17918025 3.75627174\n",
      "  3.38121956 3.61000944 3.52135922 3.40302875 3.15083632 3.42839993\n",
      "  3.69088037 3.36543228 3.20164791 3.37469633 3.36855621 3.40783442\n",
      "  2.83992775 3.55963011 2.94200217 3.2850649  3.29837395 3.32063562\n",
      "  3.19157512 3.20936476]\n",
      " [3.74040323 3.48397409 3.6538546  3.48902934 2.99906632 3.17137305\n",
      "  3.40452115 3.62300383 3.37156307 3.44283739 3.22650763 2.94935028\n",
      "  3.30345749 3.10302219 3.4501591  3.42728248 3.54092255 2.83197157\n",
      "  3.51321302 3.34782369 3.60561484 2.99408791 2.67899726 3.30173338\n",
      "  3.56682516 3.39145231 3.23762854 3.1865371  3.47110307 3.26054181\n",
      "  3.03097754 3.7378871  3.46593539 3.99751381 3.16527013 3.5878428\n",
      "  3.34010379 3.72894563 3.41300064 3.55019609 3.17881388 3.30865628\n",
      "  3.45407362 3.66332903 3.46821569 3.08692441 3.51141896 3.72062737\n",
      "  3.54765054 3.34340598]\n",
      " [3.22949341 3.39404723 3.6392352  3.58501233 3.6017599  3.2191042\n",
      "  3.59501748 3.38184497 3.31983694 3.91947629 3.60965918 3.56184991\n",
      "  3.2789154  3.39056433 3.30484967 3.22707887 3.39979991 3.36474113\n",
      "  3.43925761 3.31681789 3.83664955 3.63410321 3.40471967 3.21161801\n",
      "  3.95580171 3.42169956 3.41161189 3.6546815  3.45329348 3.64437859\n",
      "  3.24178657 3.46739981 3.35400049 3.40398226 3.35864818 3.1355079\n",
      "  3.63658149 3.51582142 3.5345398  3.36867359 3.55193741 3.51204013\n",
      "  3.11257892 3.61039247 3.38001087 3.52436131 3.30044615 3.68112367\n",
      "  3.37251867 3.27326589]\n",
      " [3.82190721 3.28594068 3.21380632 3.34762759 3.65650168 2.98549094\n",
      "  3.40088013 3.31662497 3.66204861 3.49842031 3.30419891 3.86407872\n",
      "  3.40170726 3.65206527 3.65257454 3.55045828 2.92440277 3.50563707\n",
      "  3.63878796 3.94166049 3.32245821 3.52611428 3.5420317  3.40968395\n",
      "  3.8981906  3.64564965 3.84116872 3.34669493 3.23496345 3.61435963\n",
      "  3.4233064  4.03052955 3.55686441 3.56119161 3.39371297 3.27516448\n",
      "  3.57214777 3.38371063 3.02729345 3.36565255 3.41548807 3.56559594\n",
      "  3.37049962 3.79169836 3.38700283 3.47321741 3.25929153 3.34467823\n",
      "  3.07794162 3.78729475]\n",
      " [3.56434997 2.99580326 3.73947128 3.53527626 3.52839775 3.62612777\n",
      "  3.64463341 3.59243711 3.79254319 3.351871   3.34336668 3.55709614\n",
      "  3.19679167 3.47687081 3.44876663 3.31559406 3.35793053 3.08577452\n",
      "  3.363347   3.58134809 3.47286304 3.48051629 3.30662819 3.50386383\n",
      "  3.31867071 4.01015319 3.48377321 3.69387376 3.53881061 3.58270256\n",
      "  3.33307346 3.65419627 3.25211128 3.46964875 3.55536054 3.24762218\n",
      "  3.51275458 3.80456269 3.42796173 3.60173006 3.18698656 3.30206605\n",
      "  3.71979923 3.6441313  3.29336994 3.87282298 3.50557647 3.24701802\n",
      "  3.45090167 3.24892569]\n",
      " [3.42420276 3.66500556 3.66752766 3.40591008 2.91214632 3.39094102\n",
      "  3.33908195 3.35020698 3.13126248 3.25970223 3.37187424 3.220222\n",
      "  3.55164917 3.40204855 3.00622884 3.25072689 3.54134058 3.50346914\n",
      "  3.3169213  3.47406967 2.95685685 3.1003778  3.08271787 3.31608988\n",
      "  3.03305581 2.98213663 3.59972405 3.29593855 3.51894662 3.3830041\n",
      "  2.84680389 3.28330014 3.11701186 3.39939685 3.3458569  3.52294232\n",
      "  3.428071   3.19882865 3.18726312 3.03609224 3.43776381 2.69616394\n",
      "  3.72301191 3.69760333 3.06392102 3.47378955 3.17788169 2.99622467\n",
      "  3.95176247 3.20806596]\n",
      " [3.68529668 3.25033519 3.46648153 3.63915477 3.28035764 3.5448851\n",
      "  3.47361033 3.57655852 3.47225112 3.44586145 3.35243737 3.21164273\n",
      "  3.11974411 3.50097577 3.26044244 3.5383252  3.35484518 3.56801115\n",
      "  3.47994033 3.43665422 3.67865667 3.4686828  3.53180577 3.71340369\n",
      "  3.64442512 3.19463003 3.83043339 3.28407412 3.64369478 3.36456422\n",
      "  3.09528039 3.57410304 3.47934686 3.39589672 3.20426909 3.54388987\n",
      "  3.13856983 3.68156604 2.95798143 3.31001242 3.03567259 3.39055517\n",
      "  3.76214695 3.31829196 3.00123665 3.35651076 3.43716776 3.50602814\n",
      "  3.61771581 3.29397282]\n",
      " [3.63061604 3.24105278 3.31958237 3.32405514 3.15796645 3.45257879\n",
      "  3.4388578  3.35888146 3.3793713  3.26544427 3.3542181  3.45560479\n",
      "  3.41509847 3.56995769 3.44995777 3.45138633 3.54514073 3.24034314\n",
      "  3.1025344  3.64855752 3.7393123  3.65383789 3.30540294 3.16228622\n",
      "  3.34407489 3.38057015 3.37124303 3.47859758 3.32884295 3.35798233\n",
      "  3.12336801 3.67106608 3.43842275 3.56861699 3.29289232 3.71731565\n",
      "  3.52398524 3.41722536 3.3750039  3.13812966 3.10516912 3.11494324\n",
      "  3.60449593 3.43084474 3.476061   3.25537898 3.15130803 3.42626045\n",
      "  3.33838141 3.46957715]\n",
      " [3.81811541 3.31894975 3.63502884 3.1066121  3.43374875 3.1910608\n",
      "  3.65829384 3.81731244 3.6626471  3.60746553 3.27244713 3.26624387\n",
      "  3.47501989 3.33839472 3.70534665 3.68311022 3.17514229 3.09376321\n",
      "  3.85168882 3.19345997 3.35086365 3.46202378 3.44416346 3.03066534\n",
      "  3.89054778 3.12144277 3.44540179 3.64339128 3.49688738 3.66427542\n",
      "  3.047545   3.3329108  2.94731074 3.24705741 3.13625919 3.07778679\n",
      "  3.56762329 3.31566338 3.55272783 3.62616936 3.43599617 3.48561756\n",
      "  3.36873966 3.56053624 3.05764792 3.60878158 3.27097177 4.0555887\n",
      "  3.61075457 3.77290158]\n",
      " [3.49458998 3.50804002 3.69201987 3.1716975  3.55261132 3.19655866\n",
      "  3.46553724 3.30020537 3.18972268 3.43622712 3.34979581 2.94526243\n",
      "  3.18986092 3.16858746 2.89754781 3.33513845 3.04767216 3.40943152\n",
      "  3.15385053 3.40802546 3.5517307  3.18519033 3.37107246 3.06976345\n",
      "  3.9297781  3.46848611 3.03271223 3.39748289 3.57613274 2.96487078\n",
      "  2.87949608 3.35957549 2.97225654 3.1797127  2.98159045 3.30038194\n",
      "  3.52122972 3.46182194 3.81784759 3.61872257 3.12627493 3.39714262\n",
      "  3.17034355 3.63784347 3.10442939 3.11087814 3.62212228 3.19803895\n",
      "  3.3183359  3.09795159]\n",
      " [3.61665123 3.50137138 3.64077829 3.50156833 3.53627606 3.29232061\n",
      "  3.55158449 3.17105698 3.58426989 3.59080828 3.46835346 3.13179711\n",
      "  3.70132876 3.36830903 3.82611608 3.45140896 3.37103566 3.56785292\n",
      "  3.72506319 3.55106462 3.46309793 3.5641085  3.28132102 3.50455445\n",
      "  3.77662667 3.67279573 3.68729973 3.46045438 3.75633993 3.50044954\n",
      "  3.36111377 3.24462255 3.41165358 3.50440844 3.41015715 3.30611228\n",
      "  3.13038103 3.51172482 3.68179907 3.53591832 3.26110604 3.24417232\n",
      "  3.7320973  3.56486818 3.3558824  3.60114829 3.31371355 3.3773268\n",
      "  3.82853099 3.61809138]\n",
      " [3.12490227 3.35862624 3.58036781 3.23755631 3.60928105 3.40438996\n",
      "  3.84670581 3.23056025 3.14561999 3.77156687 3.30222635 3.45665475\n",
      "  3.33470298 3.30284092 3.27021592 3.66664934 3.46522035 3.60363731\n",
      "  3.17314161 3.5597168  3.39734713 3.33667724 3.70515627 3.24365887\n",
      "  3.8160858  3.53905778 3.68879789 3.34930487 3.56089583 3.17260146\n",
      "  3.55709947 3.48715501 3.15255618 3.40033525 3.54566097 3.58878452\n",
      "  3.32672225 3.18119722 3.62602907 3.45920406 2.85426323 3.44620539\n",
      "  3.40183232 3.99899666 3.23945121 3.16433955 3.22833026 3.3434245\n",
      "  3.40107473 3.13746617]\n",
      " [3.44064585 3.01022137 3.93009978 3.16434866 3.31236146 3.15260304\n",
      "  3.52636644 3.34014599 3.22078191 3.41739316 3.44391083 3.71086487\n",
      "  3.61706859 3.20000974 3.45587549 3.52008265 3.43330395 3.16709191\n",
      "  3.48909101 3.38199602 3.43277033 3.50905989 3.56435076 3.03799999\n",
      "  3.33896441 3.18721087 3.53898339 3.65620614 3.37296386 3.68443177\n",
      "  3.22862493 3.73437692 3.24844841 3.37741785 3.24425557 3.77856611\n",
      "  3.36812705 3.50862467 3.55573679 3.42888838 2.94118001 3.34834944\n",
      "  3.54111632 3.72601042 3.38529186 3.47009548 3.47052529 3.0454512\n",
      "  3.41303761 3.45533137]]\n"
     ]
    }
   ],
   "source": [
    "#Define random 2D arrays X and Y\n",
    "\n",
    "n, m, d = 20, 50, 70 # Random Dimensions\n",
    "\n",
    "X=np.random.rand(n,d)\n",
    "Y=np.random.rand(m,d)\n",
    "\n",
    "# Calculate the Pairwise Euclidean distance matrix\n",
    "D = np.sqrt(((X[:, np.newaxis, :] - Y[np.newaxis, :, :]) ** 2).sum(axis=2))\n",
    "print(D)"
   ]
  },
  {
   "cell_type": "markdown",
   "metadata": {},
   "source": [
    "#### b. Write a function sliding_window_mean(arr, window_size) that takes a 1D NumPy array arr (a single row from X) and a window size window_size, returning the mean values for each sliding window of the specified size."
   ]
  },
  {
   "cell_type": "code",
   "execution_count": 131,
   "metadata": {},
   "outputs": [
    {
     "data": {
      "text/plain": [
       "array([0.36796795, 0.27090094, 0.65596589, 0.48224954, 0.32567315,\n",
       "       0.76193975, 0.91849464, 0.72608117, 0.52296345, 0.33386396,\n",
       "       0.49895294, 0.74121567, 0.62527504, 0.38431882, 0.26996489,\n",
       "       0.62478802, 0.62672977, 0.62737961, 0.49504063, 0.45816273,\n",
       "       0.58109097, 0.22005229, 0.22808854, 0.25786917, 0.36284948,\n",
       "       0.52389731, 0.35062125, 0.58138462, 0.92515582, 0.67367242,\n",
       "       0.49615237, 0.65850067, 0.55584611, 0.23870653, 0.33247311,\n",
       "       0.34858567, 0.17963494, 0.44437174, 0.53924855, 0.58222549,\n",
       "       0.53271648, 0.17641159, 0.4645132 , 0.52346707, 0.49019959,\n",
       "       0.8455667 , 0.48378688, 0.35823285, 0.36686176, 0.07924179,\n",
       "       0.36606993, 0.34113558, 0.2512063 , 0.72912946, 0.70440065,\n",
       "       0.26815637, 0.11369261, 0.19483373, 0.16998747, 0.33681299,\n",
       "       0.55548826, 0.71811132, 0.48117682, 0.11649911, 0.55310915,\n",
       "       0.52570668, 0.24832488, 0.26152656, 0.18352659])"
      ]
     },
     "execution_count": 131,
     "metadata": {},
     "output_type": "execute_result"
    }
   ],
   "source": [
    "def sliding_window_mean(arr, window_size):\n",
    "    # Use np.lib.stride_tricks to create a view with overlapping windows\n",
    "    shape = arr.shape[0] - window_size + 1, window_size\n",
    "    strides = arr.strides[0], arr.strides[0]\n",
    "    windows = np.lib.stride_tricks.as_strided(arr, shape=shape, strides=strides)\n",
    "    return windows.mean(axis=1)\n",
    "\n",
    "# Example array and window size\n",
    "arr = X[0]\n",
    "window_size = 2\n",
    "sliding_window_mean(arr, window_size)"
   ]
  },
  {
   "cell_type": "markdown",
   "metadata": {},
   "source": [
    "#### c. Perform Singular Value Decomposition (SVD) on D to decompose it into U, Σ, and V. Then, reconstruct D using only the top 2 singular values. Compute the Frobenius norm between the original D and the reconstructed matrix."
   ]
  },
  {
   "cell_type": "code",
   "execution_count": 132,
   "metadata": {},
   "outputs": [
    {
     "data": {
      "text/plain": [
       "np.float64(5.869102064254006)"
      ]
     },
     "execution_count": 132,
     "metadata": {},
     "output_type": "execute_result"
    }
   ],
   "source": [
    "# Perform SVD\n",
    "U, S, Vt = np.linalg.svd(D)\n",
    "\n",
    "# Use only the top 2 singular values to reconstruct D\n",
    "S_top2 = np.zeros((n, m))\n",
    "np.fill_diagonal(S_top2[:2, :2], S[:2])\n",
    "D_reconstructed = U @ S_top2 @ Vt\n",
    "\n",
    "# Calculate Frobenius norm between original D and reconstructed D\n",
    "frobenius_norm = np.linalg.norm(D - D_reconstructed, 'fro')\n",
    "frobenius_norm"
   ]
  },
  {
   "cell_type": "markdown",
   "metadata": {},
   "source": [
    "#### d. Modify D such that:\n",
    "##### 1- Replace all distances less than 5 with 0.\n",
    "##### 2- Replace all distances greater than 100 with 1.\n",
    "##### 3- Count how many values remain between 5 and 100 after this transformation."
   ]
  },
  {
   "cell_type": "code",
   "execution_count": 133,
   "metadata": {},
   "outputs": [
    {
     "name": "stdout",
     "output_type": "stream",
     "text": [
      "[[3.72161063 3.80084104 4.01094209 3.33964007 3.91905124 3.58481693\n",
      "  3.76429903 3.57519049 3.71516287 3.68574751 3.57326656 3.51545065\n",
      "  3.71447288 3.28128625 3.25141258 3.55298191 3.21819109 3.53878191\n",
      "  3.25848832 3.36586482 3.22114907 3.28889388 3.50791008 3.339645\n",
      "  3.69746918 3.24011528 3.54289738 3.43613405 3.44306632 3.37042971\n",
      "  3.11428685 3.12311721 3.24488191 3.79253974 3.47975811 3.70012316\n",
      "  3.32647703 3.6373498  3.21089382 3.62965475 3.52316656 3.37368713\n",
      "  3.67370661 3.82180397 3.48136047 3.70281268 3.49035148 3.51684779\n",
      "  3.86616252 4.06561021]\n",
      " [3.1693178  3.55338999 3.55994785 3.75784556 3.19244181 3.56678373\n",
      "  3.70750574 3.52913903 3.53610916 3.85817046 3.63008423 3.61910585\n",
      "  3.38315073 3.98636465 2.83840808 2.85612382 3.52239989 3.25099517\n",
      "  3.40205776 3.5227736  3.83755723 3.69743367 3.48496649 3.6453027\n",
      "  4.0260303  3.85202448 3.73714423 3.91302895 3.45531561 3.41621424\n",
      "  3.14391221 3.7564658  3.40810268 3.51166855 3.05835851 3.67696047\n",
      "  3.82641287 3.43644196 3.56259466 3.39235716 3.76020813 3.36640619\n",
      "  3.4455322  3.62026427 3.27064332 3.91918475 3.35172476 3.47995617\n",
      "  3.58033392 3.26295332]\n",
      " [3.59977241 3.25773553 3.24629997 3.16843904 3.07197508 3.17081362\n",
      "  3.38798313 3.30053647 3.33163927 3.14202517 2.86278311 3.04268872\n",
      "  3.25942948 3.05563807 3.22658546 3.03431407 2.95598308 3.27987078\n",
      "  3.38122528 3.52179596 3.41491116 3.34216771 3.48106518 2.99888164\n",
      "  3.23017658 3.34547152 2.7054293  3.09800979 3.15127346 3.3661446\n",
      "  3.00862227 3.70053625 3.32638717 3.05182739 2.61410175 3.67496632\n",
      "  3.18897056 3.43372822 3.15658449 3.52775768 2.98866929 3.51085114\n",
      "  2.95973329 3.39874245 3.22153008 3.03443787 3.1917597  3.59046373\n",
      "  2.9070501  3.51097233]\n",
      " [3.1340526  3.37620833 3.86548089 3.7423395  3.33255194 3.69825887\n",
      "  3.63382432 3.48450329 3.36244707 3.68267077 3.480368   3.7169063\n",
      "  3.27164655 3.71399565 3.35911645 3.13318583 3.50165834 3.51859254\n",
      "  3.37008925 3.85195357 3.48072068 3.82121886 3.59742086 3.19984825\n",
      "  3.56926922 3.89447106 3.51426173 3.70945237 3.4045262  3.43247084\n",
      "  3.43008617 3.70095293 3.7594083  3.69529114 3.55121323 3.83406027\n",
      "  3.91339742 3.7027247  3.60246025 3.6808917  3.22513417 3.37532153\n",
      "  3.50859998 3.67407822 3.36853336 3.4443805  2.96402892 3.26383432\n",
      "  3.2633352  3.14958899]\n",
      " [3.22246158 3.79614308 4.04134521 3.00271792 3.50328392 3.4318347\n",
      "  3.47328191 3.23796685 3.48564979 3.58388216 3.58868154 3.54769635\n",
      "  3.51917144 3.51827757 3.12062809 3.54595956 3.31864807 3.54109073\n",
      "  3.20449951 3.57123028 3.74026944 2.96538676 3.60203447 3.34090301\n",
      "  3.50938194 3.38654642 3.56215964 3.24722939 3.57167883 3.07330213\n",
      "  3.15464394 3.79000711 3.55661127 3.51075998 3.21632007 3.69786503\n",
      "  3.87187673 3.60386185 3.69966283 3.69316639 3.37317411 3.35467305\n",
      "  3.51324083 3.43717614 3.49263913 3.84713357 3.34774516 3.30460365\n",
      "  3.71604555 3.39703902]\n",
      " [3.52115191 3.80014167 3.5082624  3.44264116 3.34845612 2.98630706\n",
      "  3.75865205 3.52645239 3.41208047 3.3581409  3.94353898 2.99617581\n",
      "  3.56043019 3.09534936 3.11804018 3.14067928 3.28090671 3.2297734\n",
      "  3.62150522 3.0790123  3.30002643 3.53482399 3.75123296 3.33754498\n",
      "  3.66133658 3.7247238  3.57071483 3.50668315 3.49240405 3.22743405\n",
      "  3.47381871 3.45148185 3.35597568 3.93144039 3.17086912 3.46619876\n",
      "  3.57116289 3.26987928 3.83302903 3.44296581 3.28205191 3.32033487\n",
      "  3.31410044 3.60756386 3.15580165 3.54183309 3.52783714 3.5156176\n",
      "  3.338711   3.28103555]\n",
      " [3.43397935 3.25634817 3.24681008 3.34823622 3.28114266 3.31072547\n",
      "  3.70941915 3.53581776 3.38538811 3.26584687 3.4269114  3.51173823\n",
      "  3.47259593 3.36205702 3.33656043 3.40401335 3.23066674 3.21435121\n",
      "  3.33730137 3.1572199  3.47383467 3.28576481 3.46732157 2.99787814\n",
      "  3.59488018 3.26631272 3.58216616 3.17510098 3.57733726 3.2637502\n",
      "  2.77858676 3.41839781 3.22028764 3.20514271 2.93597258 3.37848302\n",
      "  3.34419379 3.01959106 3.48602759 3.15993432 2.79926132 3.31866017\n",
      "  3.25520591 3.57354316 2.92249218 3.37725    2.99923298 3.38250189\n",
      "  3.33730357 3.302793  ]\n",
      " [3.33327017 3.43027281 3.51020848 3.51182717 3.43786424 3.24089331\n",
      "  3.30743919 3.52597306 3.23077969 3.48975721 2.93070207 3.22260237\n",
      "  3.46513776 3.08408035 3.18442541 2.95062008 2.89668887 3.20412593\n",
      "  3.52772754 3.25560268 3.23193852 3.75715945 3.49389292 3.29933628\n",
      "  3.4279914  3.6033037  3.25840232 3.36974708 3.17918025 3.75627174\n",
      "  3.38121956 3.61000944 3.52135922 3.40302875 3.15083632 3.42839993\n",
      "  3.69088037 3.36543228 3.20164791 3.37469633 3.36855621 3.40783442\n",
      "  2.83992775 3.55963011 2.94200217 3.2850649  3.29837395 3.32063562\n",
      "  3.19157512 3.20936476]\n",
      " [3.74040323 3.48397409 3.6538546  3.48902934 2.99906632 3.17137305\n",
      "  3.40452115 3.62300383 3.37156307 3.44283739 3.22650763 2.94935028\n",
      "  3.30345749 3.10302219 3.4501591  3.42728248 3.54092255 2.83197157\n",
      "  3.51321302 3.34782369 3.60561484 2.99408791 2.67899726 3.30173338\n",
      "  3.56682516 3.39145231 3.23762854 3.1865371  3.47110307 3.26054181\n",
      "  3.03097754 3.7378871  3.46593539 3.99751381 3.16527013 3.5878428\n",
      "  3.34010379 3.72894563 3.41300064 3.55019609 3.17881388 3.30865628\n",
      "  3.45407362 3.66332903 3.46821569 3.08692441 3.51141896 3.72062737\n",
      "  3.54765054 3.34340598]\n",
      " [3.22949341 3.39404723 3.6392352  3.58501233 3.6017599  3.2191042\n",
      "  3.59501748 3.38184497 3.31983694 3.91947629 3.60965918 3.56184991\n",
      "  3.2789154  3.39056433 3.30484967 3.22707887 3.39979991 3.36474113\n",
      "  3.43925761 3.31681789 3.83664955 3.63410321 3.40471967 3.21161801\n",
      "  3.95580171 3.42169956 3.41161189 3.6546815  3.45329348 3.64437859\n",
      "  3.24178657 3.46739981 3.35400049 3.40398226 3.35864818 3.1355079\n",
      "  3.63658149 3.51582142 3.5345398  3.36867359 3.55193741 3.51204013\n",
      "  3.11257892 3.61039247 3.38001087 3.52436131 3.30044615 3.68112367\n",
      "  3.37251867 3.27326589]\n",
      " [3.82190721 3.28594068 3.21380632 3.34762759 3.65650168 2.98549094\n",
      "  3.40088013 3.31662497 3.66204861 3.49842031 3.30419891 3.86407872\n",
      "  3.40170726 3.65206527 3.65257454 3.55045828 2.92440277 3.50563707\n",
      "  3.63878796 3.94166049 3.32245821 3.52611428 3.5420317  3.40968395\n",
      "  3.8981906  3.64564965 3.84116872 3.34669493 3.23496345 3.61435963\n",
      "  3.4233064  4.03052955 3.55686441 3.56119161 3.39371297 3.27516448\n",
      "  3.57214777 3.38371063 3.02729345 3.36565255 3.41548807 3.56559594\n",
      "  3.37049962 3.79169836 3.38700283 3.47321741 3.25929153 3.34467823\n",
      "  3.07794162 3.78729475]\n",
      " [3.56434997 2.99580326 3.73947128 3.53527626 3.52839775 3.62612777\n",
      "  3.64463341 3.59243711 3.79254319 3.351871   3.34336668 3.55709614\n",
      "  3.19679167 3.47687081 3.44876663 3.31559406 3.35793053 3.08577452\n",
      "  3.363347   3.58134809 3.47286304 3.48051629 3.30662819 3.50386383\n",
      "  3.31867071 4.01015319 3.48377321 3.69387376 3.53881061 3.58270256\n",
      "  3.33307346 3.65419627 3.25211128 3.46964875 3.55536054 3.24762218\n",
      "  3.51275458 3.80456269 3.42796173 3.60173006 3.18698656 3.30206605\n",
      "  3.71979923 3.6441313  3.29336994 3.87282298 3.50557647 3.24701802\n",
      "  3.45090167 3.24892569]\n",
      " [3.42420276 3.66500556 3.66752766 3.40591008 2.91214632 3.39094102\n",
      "  3.33908195 3.35020698 3.13126248 3.25970223 3.37187424 3.220222\n",
      "  3.55164917 3.40204855 3.00622884 3.25072689 3.54134058 3.50346914\n",
      "  3.3169213  3.47406967 2.95685685 3.1003778  3.08271787 3.31608988\n",
      "  3.03305581 2.98213663 3.59972405 3.29593855 3.51894662 3.3830041\n",
      "  2.84680389 3.28330014 3.11701186 3.39939685 3.3458569  3.52294232\n",
      "  3.428071   3.19882865 3.18726312 3.03609224 3.43776381 2.69616394\n",
      "  3.72301191 3.69760333 3.06392102 3.47378955 3.17788169 2.99622467\n",
      "  3.95176247 3.20806596]\n",
      " [3.68529668 3.25033519 3.46648153 3.63915477 3.28035764 3.5448851\n",
      "  3.47361033 3.57655852 3.47225112 3.44586145 3.35243737 3.21164273\n",
      "  3.11974411 3.50097577 3.26044244 3.5383252  3.35484518 3.56801115\n",
      "  3.47994033 3.43665422 3.67865667 3.4686828  3.53180577 3.71340369\n",
      "  3.64442512 3.19463003 3.83043339 3.28407412 3.64369478 3.36456422\n",
      "  3.09528039 3.57410304 3.47934686 3.39589672 3.20426909 3.54388987\n",
      "  3.13856983 3.68156604 2.95798143 3.31001242 3.03567259 3.39055517\n",
      "  3.76214695 3.31829196 3.00123665 3.35651076 3.43716776 3.50602814\n",
      "  3.61771581 3.29397282]\n",
      " [3.63061604 3.24105278 3.31958237 3.32405514 3.15796645 3.45257879\n",
      "  3.4388578  3.35888146 3.3793713  3.26544427 3.3542181  3.45560479\n",
      "  3.41509847 3.56995769 3.44995777 3.45138633 3.54514073 3.24034314\n",
      "  3.1025344  3.64855752 3.7393123  3.65383789 3.30540294 3.16228622\n",
      "  3.34407489 3.38057015 3.37124303 3.47859758 3.32884295 3.35798233\n",
      "  3.12336801 3.67106608 3.43842275 3.56861699 3.29289232 3.71731565\n",
      "  3.52398524 3.41722536 3.3750039  3.13812966 3.10516912 3.11494324\n",
      "  3.60449593 3.43084474 3.476061   3.25537898 3.15130803 3.42626045\n",
      "  3.33838141 3.46957715]\n",
      " [3.81811541 3.31894975 3.63502884 3.1066121  3.43374875 3.1910608\n",
      "  3.65829384 3.81731244 3.6626471  3.60746553 3.27244713 3.26624387\n",
      "  3.47501989 3.33839472 3.70534665 3.68311022 3.17514229 3.09376321\n",
      "  3.85168882 3.19345997 3.35086365 3.46202378 3.44416346 3.03066534\n",
      "  3.89054778 3.12144277 3.44540179 3.64339128 3.49688738 3.66427542\n",
      "  3.047545   3.3329108  2.94731074 3.24705741 3.13625919 3.07778679\n",
      "  3.56762329 3.31566338 3.55272783 3.62616936 3.43599617 3.48561756\n",
      "  3.36873966 3.56053624 3.05764792 3.60878158 3.27097177 4.0555887\n",
      "  3.61075457 3.77290158]\n",
      " [3.49458998 3.50804002 3.69201987 3.1716975  3.55261132 3.19655866\n",
      "  3.46553724 3.30020537 3.18972268 3.43622712 3.34979581 2.94526243\n",
      "  3.18986092 3.16858746 2.89754781 3.33513845 3.04767216 3.40943152\n",
      "  3.15385053 3.40802546 3.5517307  3.18519033 3.37107246 3.06976345\n",
      "  3.9297781  3.46848611 3.03271223 3.39748289 3.57613274 2.96487078\n",
      "  2.87949608 3.35957549 2.97225654 3.1797127  2.98159045 3.30038194\n",
      "  3.52122972 3.46182194 3.81784759 3.61872257 3.12627493 3.39714262\n",
      "  3.17034355 3.63784347 3.10442939 3.11087814 3.62212228 3.19803895\n",
      "  3.3183359  3.09795159]\n",
      " [3.61665123 3.50137138 3.64077829 3.50156833 3.53627606 3.29232061\n",
      "  3.55158449 3.17105698 3.58426989 3.59080828 3.46835346 3.13179711\n",
      "  3.70132876 3.36830903 3.82611608 3.45140896 3.37103566 3.56785292\n",
      "  3.72506319 3.55106462 3.46309793 3.5641085  3.28132102 3.50455445\n",
      "  3.77662667 3.67279573 3.68729973 3.46045438 3.75633993 3.50044954\n",
      "  3.36111377 3.24462255 3.41165358 3.50440844 3.41015715 3.30611228\n",
      "  3.13038103 3.51172482 3.68179907 3.53591832 3.26110604 3.24417232\n",
      "  3.7320973  3.56486818 3.3558824  3.60114829 3.31371355 3.3773268\n",
      "  3.82853099 3.61809138]\n",
      " [3.12490227 3.35862624 3.58036781 3.23755631 3.60928105 3.40438996\n",
      "  3.84670581 3.23056025 3.14561999 3.77156687 3.30222635 3.45665475\n",
      "  3.33470298 3.30284092 3.27021592 3.66664934 3.46522035 3.60363731\n",
      "  3.17314161 3.5597168  3.39734713 3.33667724 3.70515627 3.24365887\n",
      "  3.8160858  3.53905778 3.68879789 3.34930487 3.56089583 3.17260146\n",
      "  3.55709947 3.48715501 3.15255618 3.40033525 3.54566097 3.58878452\n",
      "  3.32672225 3.18119722 3.62602907 3.45920406 2.85426323 3.44620539\n",
      "  3.40183232 3.99899666 3.23945121 3.16433955 3.22833026 3.3434245\n",
      "  3.40107473 3.13746617]\n",
      " [3.44064585 3.01022137 3.93009978 3.16434866 3.31236146 3.15260304\n",
      "  3.52636644 3.34014599 3.22078191 3.41739316 3.44391083 3.71086487\n",
      "  3.61706859 3.20000974 3.45587549 3.52008265 3.43330395 3.16709191\n",
      "  3.48909101 3.38199602 3.43277033 3.50905989 3.56435076 3.03799999\n",
      "  3.33896441 3.18721087 3.53898339 3.65620614 3.37296386 3.68443177\n",
      "  3.22862493 3.73437692 3.24844841 3.37741785 3.24425557 3.77856611\n",
      "  3.36812705 3.50862467 3.55573679 3.42888838 2.94118001 3.34834944\n",
      "  3.54111632 3.72601042 3.38529186 3.47009548 3.47052529 3.0454512\n",
      "  3.41303761 3.45533137]]\n",
      "[[0. 0. 0. 0. 0. 0. 0. 0. 0. 0. 0. 0. 0. 0. 0. 0. 0. 0. 0. 0. 0. 0. 0. 0.\n",
      "  0. 0. 0. 0. 0. 0. 0. 0. 0. 0. 0. 0. 0. 0. 0. 0. 0. 0. 0. 0. 0. 0. 0. 0.\n",
      "  0. 0.]\n",
      " [0. 0. 0. 0. 0. 0. 0. 0. 0. 0. 0. 0. 0. 0. 0. 0. 0. 0. 0. 0. 0. 0. 0. 0.\n",
      "  0. 0. 0. 0. 0. 0. 0. 0. 0. 0. 0. 0. 0. 0. 0. 0. 0. 0. 0. 0. 0. 0. 0. 0.\n",
      "  0. 0.]\n",
      " [0. 0. 0. 0. 0. 0. 0. 0. 0. 0. 0. 0. 0. 0. 0. 0. 0. 0. 0. 0. 0. 0. 0. 0.\n",
      "  0. 0. 0. 0. 0. 0. 0. 0. 0. 0. 0. 0. 0. 0. 0. 0. 0. 0. 0. 0. 0. 0. 0. 0.\n",
      "  0. 0.]\n",
      " [0. 0. 0. 0. 0. 0. 0. 0. 0. 0. 0. 0. 0. 0. 0. 0. 0. 0. 0. 0. 0. 0. 0. 0.\n",
      "  0. 0. 0. 0. 0. 0. 0. 0. 0. 0. 0. 0. 0. 0. 0. 0. 0. 0. 0. 0. 0. 0. 0. 0.\n",
      "  0. 0.]\n",
      " [0. 0. 0. 0. 0. 0. 0. 0. 0. 0. 0. 0. 0. 0. 0. 0. 0. 0. 0. 0. 0. 0. 0. 0.\n",
      "  0. 0. 0. 0. 0. 0. 0. 0. 0. 0. 0. 0. 0. 0. 0. 0. 0. 0. 0. 0. 0. 0. 0. 0.\n",
      "  0. 0.]\n",
      " [0. 0. 0. 0. 0. 0. 0. 0. 0. 0. 0. 0. 0. 0. 0. 0. 0. 0. 0. 0. 0. 0. 0. 0.\n",
      "  0. 0. 0. 0. 0. 0. 0. 0. 0. 0. 0. 0. 0. 0. 0. 0. 0. 0. 0. 0. 0. 0. 0. 0.\n",
      "  0. 0.]\n",
      " [0. 0. 0. 0. 0. 0. 0. 0. 0. 0. 0. 0. 0. 0. 0. 0. 0. 0. 0. 0. 0. 0. 0. 0.\n",
      "  0. 0. 0. 0. 0. 0. 0. 0. 0. 0. 0. 0. 0. 0. 0. 0. 0. 0. 0. 0. 0. 0. 0. 0.\n",
      "  0. 0.]\n",
      " [0. 0. 0. 0. 0. 0. 0. 0. 0. 0. 0. 0. 0. 0. 0. 0. 0. 0. 0. 0. 0. 0. 0. 0.\n",
      "  0. 0. 0. 0. 0. 0. 0. 0. 0. 0. 0. 0. 0. 0. 0. 0. 0. 0. 0. 0. 0. 0. 0. 0.\n",
      "  0. 0.]\n",
      " [0. 0. 0. 0. 0. 0. 0. 0. 0. 0. 0. 0. 0. 0. 0. 0. 0. 0. 0. 0. 0. 0. 0. 0.\n",
      "  0. 0. 0. 0. 0. 0. 0. 0. 0. 0. 0. 0. 0. 0. 0. 0. 0. 0. 0. 0. 0. 0. 0. 0.\n",
      "  0. 0.]\n",
      " [0. 0. 0. 0. 0. 0. 0. 0. 0. 0. 0. 0. 0. 0. 0. 0. 0. 0. 0. 0. 0. 0. 0. 0.\n",
      "  0. 0. 0. 0. 0. 0. 0. 0. 0. 0. 0. 0. 0. 0. 0. 0. 0. 0. 0. 0. 0. 0. 0. 0.\n",
      "  0. 0.]\n",
      " [0. 0. 0. 0. 0. 0. 0. 0. 0. 0. 0. 0. 0. 0. 0. 0. 0. 0. 0. 0. 0. 0. 0. 0.\n",
      "  0. 0. 0. 0. 0. 0. 0. 0. 0. 0. 0. 0. 0. 0. 0. 0. 0. 0. 0. 0. 0. 0. 0. 0.\n",
      "  0. 0.]\n",
      " [0. 0. 0. 0. 0. 0. 0. 0. 0. 0. 0. 0. 0. 0. 0. 0. 0. 0. 0. 0. 0. 0. 0. 0.\n",
      "  0. 0. 0. 0. 0. 0. 0. 0. 0. 0. 0. 0. 0. 0. 0. 0. 0. 0. 0. 0. 0. 0. 0. 0.\n",
      "  0. 0.]\n",
      " [0. 0. 0. 0. 0. 0. 0. 0. 0. 0. 0. 0. 0. 0. 0. 0. 0. 0. 0. 0. 0. 0. 0. 0.\n",
      "  0. 0. 0. 0. 0. 0. 0. 0. 0. 0. 0. 0. 0. 0. 0. 0. 0. 0. 0. 0. 0. 0. 0. 0.\n",
      "  0. 0.]\n",
      " [0. 0. 0. 0. 0. 0. 0. 0. 0. 0. 0. 0. 0. 0. 0. 0. 0. 0. 0. 0. 0. 0. 0. 0.\n",
      "  0. 0. 0. 0. 0. 0. 0. 0. 0. 0. 0. 0. 0. 0. 0. 0. 0. 0. 0. 0. 0. 0. 0. 0.\n",
      "  0. 0.]\n",
      " [0. 0. 0. 0. 0. 0. 0. 0. 0. 0. 0. 0. 0. 0. 0. 0. 0. 0. 0. 0. 0. 0. 0. 0.\n",
      "  0. 0. 0. 0. 0. 0. 0. 0. 0. 0. 0. 0. 0. 0. 0. 0. 0. 0. 0. 0. 0. 0. 0. 0.\n",
      "  0. 0.]\n",
      " [0. 0. 0. 0. 0. 0. 0. 0. 0. 0. 0. 0. 0. 0. 0. 0. 0. 0. 0. 0. 0. 0. 0. 0.\n",
      "  0. 0. 0. 0. 0. 0. 0. 0. 0. 0. 0. 0. 0. 0. 0. 0. 0. 0. 0. 0. 0. 0. 0. 0.\n",
      "  0. 0.]\n",
      " [0. 0. 0. 0. 0. 0. 0. 0. 0. 0. 0. 0. 0. 0. 0. 0. 0. 0. 0. 0. 0. 0. 0. 0.\n",
      "  0. 0. 0. 0. 0. 0. 0. 0. 0. 0. 0. 0. 0. 0. 0. 0. 0. 0. 0. 0. 0. 0. 0. 0.\n",
      "  0. 0.]\n",
      " [0. 0. 0. 0. 0. 0. 0. 0. 0. 0. 0. 0. 0. 0. 0. 0. 0. 0. 0. 0. 0. 0. 0. 0.\n",
      "  0. 0. 0. 0. 0. 0. 0. 0. 0. 0. 0. 0. 0. 0. 0. 0. 0. 0. 0. 0. 0. 0. 0. 0.\n",
      "  0. 0.]\n",
      " [0. 0. 0. 0. 0. 0. 0. 0. 0. 0. 0. 0. 0. 0. 0. 0. 0. 0. 0. 0. 0. 0. 0. 0.\n",
      "  0. 0. 0. 0. 0. 0. 0. 0. 0. 0. 0. 0. 0. 0. 0. 0. 0. 0. 0. 0. 0. 0. 0. 0.\n",
      "  0. 0.]\n",
      " [0. 0. 0. 0. 0. 0. 0. 0. 0. 0. 0. 0. 0. 0. 0. 0. 0. 0. 0. 0. 0. 0. 0. 0.\n",
      "  0. 0. 0. 0. 0. 0. 0. 0. 0. 0. 0. 0. 0. 0. 0. 0. 0. 0. 0. 0. 0. 0. 0. 0.\n",
      "  0. 0.]]\n",
      "[[0. 0. 0. 0. 0. 0. 0. 0. 0. 0. 0. 0. 0. 0. 0. 0. 0. 0. 0. 0. 0. 0. 0. 0.\n",
      "  0. 0. 0. 0. 0. 0. 0. 0. 0. 0. 0. 0. 0. 0. 0. 0. 0. 0. 0. 0. 0. 0. 0. 0.\n",
      "  0. 0.]\n",
      " [0. 0. 0. 0. 0. 0. 0. 0. 0. 0. 0. 0. 0. 0. 0. 0. 0. 0. 0. 0. 0. 0. 0. 0.\n",
      "  0. 0. 0. 0. 0. 0. 0. 0. 0. 0. 0. 0. 0. 0. 0. 0. 0. 0. 0. 0. 0. 0. 0. 0.\n",
      "  0. 0.]\n",
      " [0. 0. 0. 0. 0. 0. 0. 0. 0. 0. 0. 0. 0. 0. 0. 0. 0. 0. 0. 0. 0. 0. 0. 0.\n",
      "  0. 0. 0. 0. 0. 0. 0. 0. 0. 0. 0. 0. 0. 0. 0. 0. 0. 0. 0. 0. 0. 0. 0. 0.\n",
      "  0. 0.]\n",
      " [0. 0. 0. 0. 0. 0. 0. 0. 0. 0. 0. 0. 0. 0. 0. 0. 0. 0. 0. 0. 0. 0. 0. 0.\n",
      "  0. 0. 0. 0. 0. 0. 0. 0. 0. 0. 0. 0. 0. 0. 0. 0. 0. 0. 0. 0. 0. 0. 0. 0.\n",
      "  0. 0.]\n",
      " [0. 0. 0. 0. 0. 0. 0. 0. 0. 0. 0. 0. 0. 0. 0. 0. 0. 0. 0. 0. 0. 0. 0. 0.\n",
      "  0. 0. 0. 0. 0. 0. 0. 0. 0. 0. 0. 0. 0. 0. 0. 0. 0. 0. 0. 0. 0. 0. 0. 0.\n",
      "  0. 0.]\n",
      " [0. 0. 0. 0. 0. 0. 0. 0. 0. 0. 0. 0. 0. 0. 0. 0. 0. 0. 0. 0. 0. 0. 0. 0.\n",
      "  0. 0. 0. 0. 0. 0. 0. 0. 0. 0. 0. 0. 0. 0. 0. 0. 0. 0. 0. 0. 0. 0. 0. 0.\n",
      "  0. 0.]\n",
      " [0. 0. 0. 0. 0. 0. 0. 0. 0. 0. 0. 0. 0. 0. 0. 0. 0. 0. 0. 0. 0. 0. 0. 0.\n",
      "  0. 0. 0. 0. 0. 0. 0. 0. 0. 0. 0. 0. 0. 0. 0. 0. 0. 0. 0. 0. 0. 0. 0. 0.\n",
      "  0. 0.]\n",
      " [0. 0. 0. 0. 0. 0. 0. 0. 0. 0. 0. 0. 0. 0. 0. 0. 0. 0. 0. 0. 0. 0. 0. 0.\n",
      "  0. 0. 0. 0. 0. 0. 0. 0. 0. 0. 0. 0. 0. 0. 0. 0. 0. 0. 0. 0. 0. 0. 0. 0.\n",
      "  0. 0.]\n",
      " [0. 0. 0. 0. 0. 0. 0. 0. 0. 0. 0. 0. 0. 0. 0. 0. 0. 0. 0. 0. 0. 0. 0. 0.\n",
      "  0. 0. 0. 0. 0. 0. 0. 0. 0. 0. 0. 0. 0. 0. 0. 0. 0. 0. 0. 0. 0. 0. 0. 0.\n",
      "  0. 0.]\n",
      " [0. 0. 0. 0. 0. 0. 0. 0. 0. 0. 0. 0. 0. 0. 0. 0. 0. 0. 0. 0. 0. 0. 0. 0.\n",
      "  0. 0. 0. 0. 0. 0. 0. 0. 0. 0. 0. 0. 0. 0. 0. 0. 0. 0. 0. 0. 0. 0. 0. 0.\n",
      "  0. 0.]\n",
      " [0. 0. 0. 0. 0. 0. 0. 0. 0. 0. 0. 0. 0. 0. 0. 0. 0. 0. 0. 0. 0. 0. 0. 0.\n",
      "  0. 0. 0. 0. 0. 0. 0. 0. 0. 0. 0. 0. 0. 0. 0. 0. 0. 0. 0. 0. 0. 0. 0. 0.\n",
      "  0. 0.]\n",
      " [0. 0. 0. 0. 0. 0. 0. 0. 0. 0. 0. 0. 0. 0. 0. 0. 0. 0. 0. 0. 0. 0. 0. 0.\n",
      "  0. 0. 0. 0. 0. 0. 0. 0. 0. 0. 0. 0. 0. 0. 0. 0. 0. 0. 0. 0. 0. 0. 0. 0.\n",
      "  0. 0.]\n",
      " [0. 0. 0. 0. 0. 0. 0. 0. 0. 0. 0. 0. 0. 0. 0. 0. 0. 0. 0. 0. 0. 0. 0. 0.\n",
      "  0. 0. 0. 0. 0. 0. 0. 0. 0. 0. 0. 0. 0. 0. 0. 0. 0. 0. 0. 0. 0. 0. 0. 0.\n",
      "  0. 0.]\n",
      " [0. 0. 0. 0. 0. 0. 0. 0. 0. 0. 0. 0. 0. 0. 0. 0. 0. 0. 0. 0. 0. 0. 0. 0.\n",
      "  0. 0. 0. 0. 0. 0. 0. 0. 0. 0. 0. 0. 0. 0. 0. 0. 0. 0. 0. 0. 0. 0. 0. 0.\n",
      "  0. 0.]\n",
      " [0. 0. 0. 0. 0. 0. 0. 0. 0. 0. 0. 0. 0. 0. 0. 0. 0. 0. 0. 0. 0. 0. 0. 0.\n",
      "  0. 0. 0. 0. 0. 0. 0. 0. 0. 0. 0. 0. 0. 0. 0. 0. 0. 0. 0. 0. 0. 0. 0. 0.\n",
      "  0. 0.]\n",
      " [0. 0. 0. 0. 0. 0. 0. 0. 0. 0. 0. 0. 0. 0. 0. 0. 0. 0. 0. 0. 0. 0. 0. 0.\n",
      "  0. 0. 0. 0. 0. 0. 0. 0. 0. 0. 0. 0. 0. 0. 0. 0. 0. 0. 0. 0. 0. 0. 0. 0.\n",
      "  0. 0.]\n",
      " [0. 0. 0. 0. 0. 0. 0. 0. 0. 0. 0. 0. 0. 0. 0. 0. 0. 0. 0. 0. 0. 0. 0. 0.\n",
      "  0. 0. 0. 0. 0. 0. 0. 0. 0. 0. 0. 0. 0. 0. 0. 0. 0. 0. 0. 0. 0. 0. 0. 0.\n",
      "  0. 0.]\n",
      " [0. 0. 0. 0. 0. 0. 0. 0. 0. 0. 0. 0. 0. 0. 0. 0. 0. 0. 0. 0. 0. 0. 0. 0.\n",
      "  0. 0. 0. 0. 0. 0. 0. 0. 0. 0. 0. 0. 0. 0. 0. 0. 0. 0. 0. 0. 0. 0. 0. 0.\n",
      "  0. 0.]\n",
      " [0. 0. 0. 0. 0. 0. 0. 0. 0. 0. 0. 0. 0. 0. 0. 0. 0. 0. 0. 0. 0. 0. 0. 0.\n",
      "  0. 0. 0. 0. 0. 0. 0. 0. 0. 0. 0. 0. 0. 0. 0. 0. 0. 0. 0. 0. 0. 0. 0. 0.\n",
      "  0. 0.]\n",
      " [0. 0. 0. 0. 0. 0. 0. 0. 0. 0. 0. 0. 0. 0. 0. 0. 0. 0. 0. 0. 0. 0. 0. 0.\n",
      "  0. 0. 0. 0. 0. 0. 0. 0. 0. 0. 0. 0. 0. 0. 0. 0. 0. 0. 0. 0. 0. 0. 0. 0.\n",
      "  0. 0.]]\n",
      "0\n"
     ]
    }
   ],
   "source": [
    "# Modify D based on specified conditions\n",
    "D_mod = D.copy()\n",
    "print(D_mod)\n",
    "D_mod[D < 5] = 0\n",
    "print(D_mod)\n",
    "D_mod[D > 100] = 1\n",
    "print(D_mod)\n",
    "\n",
    "# Count values between 5 and 100\n",
    "count_between = np.sum((D_mod > 0) & (D_mod < 1))\n",
    "print(count_between)"
   ]
  },
  {
   "cell_type": "markdown",
   "metadata": {},
   "source": [
    "#### e. Create a new array from D using strides that represents a 3x3 sliding window over the first row of D. Compare the execution time of this operation with a regular loop-based approach, ensuring that the stride-based solution is more efficient."
   ]
  },
  {
   "cell_type": "code",
   "execution_count": 134,
   "metadata": {},
   "outputs": [
    {
     "data": {
      "text/plain": [
       "(array([[3.72161063, 3.80084104, 4.01094209],\n",
       "        [3.80084104, 4.01094209, 3.33964007],\n",
       "        [4.01094209, 3.33964007, 3.91905124]]),\n",
       " 0.0,\n",
       " 0.001308441162109375)"
      ]
     },
     "execution_count": 134,
     "metadata": {},
     "output_type": "execute_result"
    }
   ],
   "source": [
    "import time\n",
    "\n",
    "# Extract the first row of D\n",
    "first_row = D[0, :]\n",
    "\n",
    "# Define the sliding window using strides\n",
    "window_shape = (3, 3)\n",
    "strides = first_row.strides * 2\n",
    "stride_array = np.lib.stride_tricks.as_strided(first_row, shape=window_shape, strides=strides)\n",
    "\n",
    "# Measure execution time for the stride-based approach\n",
    "start_time = time.time()\n",
    "stride_array = np.lib.stride_tricks.as_strided(first_row, shape=window_shape, strides=strides)\n",
    "stride_time = time.time() - start_time\n",
    "\n",
    "# Measure execution time for the loop-based approach\n",
    "start_time = time.time()\n",
    "loop_array = np.array([first_row[i:i+3] for i in range(len(first_row) - 2)])\n",
    "loop_time = time.time() - start_time\n",
    "\n",
    "(stride_array, stride_time, loop_time)"
   ]
  },
  {
   "cell_type": "code",
   "execution_count": null,
   "metadata": {},
   "outputs": [],
   "source": []
  }
 ],
 "metadata": {
  "kernelspec": {
   "display_name": "Python 3",
   "language": "python",
   "name": "python3"
  },
  "language_info": {
   "codemirror_mode": {
    "name": "ipython",
    "version": 3
   },
   "file_extension": ".py",
   "mimetype": "text/x-python",
   "name": "python",
   "nbconvert_exporter": "python",
   "pygments_lexer": "ipython3",
   "version": "3.12.6"
  }
 },
 "nbformat": 4,
 "nbformat_minor": 2
}
