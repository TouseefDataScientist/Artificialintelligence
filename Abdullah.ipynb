{
 "cells": [
  {
   "cell_type": "markdown",
   "metadata": {},
   "source": [
    "# ***Abdullah Ikram***"
   ]
  },
  {
   "cell_type": "markdown",
   "metadata": {},
   "source": [
    "I really like using Markdown.\n",
    "\n",
    "I think I'll use it to format all of my documents from now on."
   ]
  },
  {
   "cell_type": "markdown",
   "metadata": {},
   "source": [
    "Italicized text is the *cat's meow*."
   ]
  },
  {
   "cell_type": "markdown",
   "metadata": {},
   "source": [
    "This text is ***really important***."
   ]
  },
  {
   "cell_type": "markdown",
   "metadata": {},
   "source": [
    "> This is a blockquote.\n",
    ">\n",
    "> >this is nested blockquote.\n",
    "> \n",
    "> > Dorothy followed her through many of the beautiful rooms in her castle."
   ]
  },
  {
   "cell_type": "markdown",
   "metadata": {},
   "source": [
    "> ### Blockquotes with Other Elements!\n",
    ">\n",
    "> - Revenue was off the chart.\n",
    "> - Profits were higher than ever.\n",
    ">\n",
    ">  *Everything* is going according to **plan**."
   ]
  },
  {
   "cell_type": "markdown",
   "metadata": {},
   "source": [
    "### List\n",
    "1. First item\n",
    "1. Second item\n",
    "1. Third item\n",
    "1. Fourth item\n",
    "1. First item\n",
    "2. Second item\n",
    "3. Third item\n",
    "    1. Indented item\n",
    "    2. Indented item\n",
    "4. Fourth item"
   ]
  },
  {
   "cell_type": "markdown",
   "metadata": {},
   "source": [
    "<https://www.google.com>\n",
    "\n",
    "I love supporting the **[YOUTUBE](https://youtube.com/)**."
   ]
  }
 ],
 "metadata": {
  "kernelspec": {
   "display_name": "Python 3",
   "language": "python",
   "name": "python3"
  },
  "language_info": {
   "name": "python",
   "version": "3.12.6"
  }
 },
 "nbformat": 4,
 "nbformat_minor": 2
}
