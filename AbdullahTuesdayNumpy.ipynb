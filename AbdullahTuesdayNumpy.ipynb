{
 "cells": [
  {
   "cell_type": "markdown",
   "metadata": {},
   "source": [
    "### Muhammad Abdullah\n",
    "#### Tuesday Numpy Assingment"
   ]
  },
  {
   "cell_type": "code",
   "execution_count": 3,
   "metadata": {},
   "outputs": [],
   "source": [
    "import numpy as np"
   ]
  },
  {
   "cell_type": "code",
   "execution_count": 4,
   "metadata": {},
   "outputs": [],
   "source": [
    "import pandas as pd"
   ]
  },
  {
   "cell_type": "markdown",
   "metadata": {},
   "source": [
    "#### Problem 01: “Understanding NumPy Arrays and Operations” \n",
    "A. Create a NumPy array of shape (4, 5) filled with random integers between 1 and 100. "
   ]
  },
  {
   "cell_type": "code",
   "execution_count": 5,
   "metadata": {},
   "outputs": [
    {
     "name": "stdout",
     "output_type": "stream",
     "text": [
      "[[ 63  67  39  67  61]\n",
      " [ 97  57   8  79  97]\n",
      " [ 19  99  28  29  21]\n",
      " [ 33 100  70  58  42]]\n"
     ]
    }
   ],
   "source": [
    "random_array = np.random.randint(1, 101, size=(4, 5))\n",
    "\n",
    "print(random_array)"
   ]
  },
  {
   "cell_type": "markdown",
   "metadata": {},
   "source": [
    "B. Reshape the array into a shape of (2, 10) and explain how reshaping works in NumPy. "
   ]
  },
  {
   "cell_type": "code",
   "execution_count": 6,
   "metadata": {},
   "outputs": [
    {
     "name": "stdout",
     "output_type": "stream",
     "text": [
      "Original Array (4x5):\n",
      "[[ 63  67  39  67  61]\n",
      " [ 97  57   8  79  97]\n",
      " [ 19  99  28  29  21]\n",
      " [ 33 100  70  58  42]]\n",
      "\n",
      "Reshaped Array (2x10):\n",
      "[[ 63  67  39  67  61  97  57   8  79  97]\n",
      " [ 19  99  28  29  21  33 100  70  58  42]]\n"
     ]
    }
   ],
   "source": [
    "reshaped_array = random_array.reshape(2, 10)\n",
    "print(\"Original Array (4x5):\")\n",
    "print(random_array)\n",
    "print(\"\\nReshaped Array (2x10):\")\n",
    "print(reshaped_array)"
   ]
  },
  {
   "cell_type": "markdown",
   "metadata": {},
   "source": [
    "#### Reshaping:\n",
    "Reshaping numpy array simply means changing the shape of the given array, shape basically tells the number of elements and dimension of array, by reshaping an array we can add or remove dimensions or change number of elements in each dimension."
   ]
  },
  {
   "cell_type": "markdown",
   "metadata": {},
   "source": [
    "C. Perform element-wise addition with another array of shape (2, 10) and discuss broadcasting rules."
   ]
  },
  {
   "cell_type": "code",
   "execution_count": 7,
   "metadata": {},
   "outputs": [
    {
     "name": "stdout",
     "output_type": "stream",
     "text": [
      "First Array (2x10):\n",
      "[[ 63  67  39  67  61  97  57   8  79  97]\n",
      " [ 19  99  28  29  21  33 100  70  58  42]]\n",
      "\n",
      "Second Array (2x10):\n",
      "[[  3  14  89  70  77  60   4  88  34  32]\n",
      " [ 15  84  21  90  47 100  21  97  62  52]]\n",
      "\n",
      "Result of Element-wise Addition:\n",
      "[[ 66  81 128 137 138 157  61  96 113 129]\n",
      " [ 34 183  49 119  68 133 121 167 120  94]]\n"
     ]
    }
   ],
   "source": [
    "reshaped_array = random_array.reshape(2, 10)\n",
    "\n",
    "another_array = np.random.randint(1, 101, size=(2, 10))\n",
    "\n",
    "result_array = reshaped_array + another_array\n",
    "print(\"First Array (2x10):\")\n",
    "print(reshaped_array)\n",
    "print(\"\\nSecond Array (2x10):\")\n",
    "print(another_array)\n",
    "print(\"\\nResult of Element-wise Addition:\")\n",
    "print(result_array)"
   ]
  },
  {
   "cell_type": "markdown",
   "metadata": {},
   "source": [
    "#### Broadcasting Rules:\n",
    "1. The smaller dimension array can be appended with '1' in its shape.\n",
    "2. Size of each output dimension is the maximum of the input sizes in the dimension.\n",
    "3. An input can be used in the calculation if its size in a particular dimension matches the output size or its value is exactly 1.\n",
    "4. If the input size is 1, then the first data entry is used for the calculation along the dimension."
   ]
  },
  {
   "cell_type": "markdown",
   "metadata": {},
   "source": [
    "D. Calculate the dot product of two compatible arrays and explain the significance of dot product in \n",
    "linear algebra. "
   ]
  },
  {
   "cell_type": "code",
   "execution_count": 8,
   "metadata": {},
   "outputs": [
    {
     "name": "stdout",
     "output_type": "stream",
     "text": [
      "Array a: [12  8  5]\n",
      "Array b: [ 7 11  9]\n",
      "Dot Product: 217\n"
     ]
    }
   ],
   "source": [
    "a = np.array([12, 8, 5]) \n",
    "b = np.array([7, 11, 9]) \n",
    "\n",
    "dot_product = np.dot(a, b)\n",
    "\n",
    "print(\"Array a:\", a)\n",
    "print(\"Array b:\", b)\n",
    "print(\"Dot Product:\", dot_product)"
   ]
  },
  {
   "cell_type": "markdown",
   "metadata": {},
   "source": [
    "#### Significance in Linear Algebra:\n",
    "1. Projection: The dot product can be used to find the projection of one vector onto another, which is important in various applications, including computer graphics and physics.\n",
    "2. Similarity: In machine learning and data analysis, the dot product can measure the similarity between vectors. For instance, in recommendation systems, it helps assess how similar two user preferences are.\n",
    "3. Linear Transformations: Dot products are used in defining linear transformations, which are critical in fields like computer graphics and optimization.\n",
    "4. Orthogonality: The concept of orthogonality (perpendicular vectors) can be defined using the dot product, where two vectors are orthogonal if their dot product equals zero."
   ]
  },
  {
   "cell_type": "markdown",
   "metadata": {},
   "source": [
    "E. Create a masked array from the original array, masking all values below the median; explain the \n",
    "concept and use cases of masked arrays. "
   ]
  },
  {
   "cell_type": "code",
   "execution_count": 9,
   "metadata": {},
   "outputs": [
    {
     "name": "stdout",
     "output_type": "stream",
     "text": [
      "Original Array:\n",
      "[10 15 20 25 30 35 40 45 50 55]\n",
      "\n",
      "Median Value: 32.5\n",
      "\n",
      "Masked Array (values below median are masked):\n",
      "[-- -- -- -- -- 35 40 45 50 55]\n"
     ]
    }
   ],
   "source": [
    "original_array = np.array([10, 15, 20, 25, 30, 35, 40, 45, 50, 55])\n",
    "median_value = np.median(original_array)\n",
    "masked_array = np.ma.masked_where(original_array < median_value, original_array)\n",
    "\n",
    "print(\"Original Array:\")\n",
    "print(original_array)\n",
    "print(\"\\nMedian Value:\", median_value)\n",
    "print(\"\\nMasked Array (values below median are masked):\")\n",
    "print(masked_array)"
   ]
  },
  {
   "cell_type": "markdown",
   "metadata": {},
   "source": [
    "##### Concept of Masked Arrays\n",
    "1. Masked Arrays are arrays that allow you to work with datasets that may have invalid or missing entries without having to explicitly remove them.\n",
    "2. In a masked array, certain entries can be marked as \"masked,\" which means they are excluded from calculations and displayed as -- or NaN.\n",
    "##### Use Cases of Masked Arrays\n",
    "1. Data Cleaning: Masked arrays are useful for handling datasets with missing or invalid values. Instead of filtering out or replacing these values, you can simply mask them, which allows you to keep the original structure of the data intact.\n",
    "2. Statistical Analysis: When performing statistical calculations, you may want to ignore certain values (like outliers or erroneous entries) without altering the dataset. Masked arrays help ensure that calculations like mean, sum, or standard deviation only consider valid entries.\n",
    "3. Data Visualization: When plotting data, masked values can automatically be ignored, allowing for cleaner visual representations without needing separate data preprocessing steps.\n",
    "4. Geospatial Data: In geospatial analysis, masked arrays are often used to represent regions of interest while ignoring areas with no data (e.g., ocean areas in a land-sea mask).\n",
    "5. Scientific Computing: In fields like meteorology or environmental science, masked arrays can represent measurements where certain sensors may have failed or recorded invalid data, thus providing a flexible way to analyze spatial and temporal datasets."
   ]
  },
  {
   "cell_type": "markdown",
   "metadata": {},
   "source": [
    "#### Problem 02: “Exploring NumPy Broadcasting and Strides” \n",
    "A. Explain the concept of broadcasting in NumPy and provide an example involving arrays of different \n",
    "shapes."
   ]
  },
  {
   "cell_type": "code",
   "execution_count": 10,
   "metadata": {},
   "outputs": [
    {
     "name": "stdout",
     "output_type": "stream",
     "text": [
      "2D Array :\n",
      "[[ 4  6  9]\n",
      " [ 4  3  4]\n",
      " [ 8 12  9]]\n",
      "\n",
      "1D Array :\n",
      "[17 26 31]\n",
      "\n",
      "Result of Broadcasting (2D Array + 1D Array):\n",
      "[[21 32 40]\n",
      " [21 29 35]\n",
      " [25 38 40]]\n"
     ]
    }
   ],
   "source": [
    "array_2d = np.array([[4, 6, 9],\n",
    "                     [4, 3, 4],\n",
    "                     [8, 12, 9]])\n",
    "\n",
    "array_1d = np.array([17, 26, 31])\n",
    "result = array_2d + array_1d\n",
    "\n",
    "print(\"2D Array :\")\n",
    "print(array_2d)\n",
    "print(\"\\n1D Array :\")\n",
    "print(array_1d)\n",
    "print(\"\\nResult of Broadcasting (2D Array + 1D Array):\")\n",
    "print(result)"
   ]
  },
  {
   "cell_type": "markdown",
   "metadata": {},
   "source": [
    "##### Concept of Broadcasting:\n",
    "Broadcasting is a powerful feature in NumPy that allows arithmetic operations to be performed on arrays of different shapes. Instead of requiring the arrays to have the same shape, NumPy automatically expands the smaller array across the larger one so that they can be combined element-wise. This is done without actually making copies of data, which improves memory efficiency and performance."
   ]
  },
  {
   "cell_type": "markdown",
   "metadata": {},
   "source": [
    "B. Create two arrays with different shapes that can be broadcasted together and perform an arithmetic \n",
    "operation on them. "
   ]
  },
  {
   "cell_type": "code",
   "execution_count": 11,
   "metadata": {},
   "outputs": [
    {
     "name": "stdout",
     "output_type": "stream",
     "text": [
      "2D Array :\n",
      "[[ 4  7  8]\n",
      " [ 2 15  4]\n",
      " [17  8  9]\n",
      " [10 15 13]]\n",
      "\n",
      "1D Array :\n",
      "[10 20 30]\n",
      "\n",
      "Result of Broadcasting :\n",
      "[[14 27 38]\n",
      " [12 35 34]\n",
      " [27 28 39]\n",
      " [20 35 43]]\n"
     ]
    }
   ],
   "source": [
    "array_2d = np.array([[4, 7, 8],\n",
    "                     [2, 15, 4],\n",
    "                     [17, 8, 9],\n",
    "                     [10, 15, 13]])\n",
    "array_1d = np.array([10, 20, 30])\n",
    "result = array_2d + array_1d\n",
    "print(\"2D Array :\")\n",
    "print(array_2d)\n",
    "\n",
    "print(\"\\n1D Array :\")\n",
    "print(array_1d)\n",
    "\n",
    "print(\"\\nResult of Broadcasting :\")\n",
    "print(result)"
   ]
  },
  {
   "cell_type": "markdown",
   "metadata": {},
   "source": [
    "C. Discuss how strides in NumPy arrays affect memory access patterns when slicing an array. "
   ]
  },
  {
   "cell_type": "code",
   "execution_count": 12,
   "metadata": {},
   "outputs": [
    {
     "name": "stdout",
     "output_type": "stream",
     "text": [
      "Original Array:\n",
      "[[1 2 3]\n",
      " [4 5 6]\n",
      " [7 8 9]]\n",
      "\n",
      "Strides of the array: (24, 8)\n",
      "\n",
      "Sliced Array:\n",
      "[[1 2 3]\n",
      " [4 5 6]]\n",
      "\n",
      "Strides of the sliced array: (24, 8)\n"
     ]
    }
   ],
   "source": [
    "array = np.array([[1, 2, 3],\n",
    "                  [4, 5, 6],\n",
    "                  [7, 8, 9]])\n",
    "print(\"Original Array:\")\n",
    "print(array)\n",
    "print(\"\\nStrides of the array:\", array.strides)\n",
    "sliced_array = array[:2, :]\n",
    "print(\"\\nSliced Array:\")\n",
    "print(sliced_array)\n",
    "print(\"\\nStrides of the sliced array:\", sliced_array.strides)"
   ]
  },
  {
   "cell_type": "markdown",
   "metadata": {},
   "source": [
    "D. Create an example to demonstrate the impact of strides on array slicing and performance. "
   ]
  },
  {
   "cell_type": "code",
   "execution_count": 1,
   "metadata": {},
   "outputs": [],
   "source": [
    "import time"
   ]
  },
  {
   "cell_type": "code",
   "execution_count": 15,
   "metadata": {},
   "outputs": [
    {
     "data": {
      "text/plain": [
       "array([[   0,    1,    2, ...,   97,   98,   99],\n",
       "       [ 100,  101,  102, ...,  197,  198,  199],\n",
       "       [ 200,  201,  202, ...,  297,  298,  299],\n",
       "       ...,\n",
       "       [9700, 9701, 9702, ..., 9797, 9798, 9799],\n",
       "       [9800, 9801, 9802, ..., 9897, 9898, 9899],\n",
       "       [9900, 9901, 9902, ..., 9997, 9998, 9999]])"
      ]
     },
     "execution_count": 15,
     "metadata": {},
     "output_type": "execute_result"
    }
   ],
   "source": [
    "Array=np.arange(10000).reshape(100,100)\n",
    "Array"
   ]
  },
  {
   "cell_type": "code",
   "execution_count": 17,
   "metadata": {},
   "outputs": [
    {
     "data": {
      "text/plain": [
       "1729071841.9350386"
      ]
     },
     "execution_count": 17,
     "metadata": {},
     "output_type": "execute_result"
    }
   ],
   "source": [
    "Start_time_contiguous=time.time()\n",
    "Start_time_contiguous"
   ]
  },
  {
   "cell_type": "code",
   "execution_count": 18,
   "metadata": {},
   "outputs": [
    {
     "data": {
      "text/plain": [
       "1729071854.1019914"
      ]
     },
     "execution_count": 18,
     "metadata": {},
     "output_type": "execute_result"
    }
   ],
   "source": [
    "End_time_contiguous=time.time()\n",
    "End_time_contiguous\n"
   ]
  },
  {
   "cell_type": "code",
   "execution_count": 21,
   "metadata": {},
   "outputs": [
    {
     "data": {
      "text/plain": [
       "12.167952537536621"
      ]
     },
     "execution_count": 21,
     "metadata": {},
     "output_type": "execute_result"
    }
   ],
   "source": [
    "contiguous_Time=End_time_contiguous-Start_time_contiguous\n",
    "contiguous_Time"
   ]
  },
  {
   "cell_type": "code",
   "execution_count": 22,
   "metadata": {},
   "outputs": [
    {
     "data": {
      "text/plain": [
       "array([[  0,   1,   2,   3,   4,   5,   6,   7,   8,   9,  10,  11,  12,\n",
       "         13,  14,  15,  16,  17,  18,  19,  20,  21,  22,  23,  24,  25,\n",
       "         26,  27,  28,  29,  30,  31,  32,  33,  34,  35,  36,  37,  38,\n",
       "         39,  40,  41,  42,  43,  44,  45,  46,  47,  48,  49,  50,  51,\n",
       "         52,  53,  54,  55,  56,  57,  58,  59,  60,  61,  62,  63,  64,\n",
       "         65,  66,  67,  68,  69,  70,  71,  72,  73,  74,  75,  76,  77,\n",
       "         78,  79,  80,  81,  82,  83,  84,  85,  86,  87,  88,  89,  90,\n",
       "         91,  92,  93,  94,  95,  96,  97,  98,  99],\n",
       "       [100, 101, 102, 103, 104, 105, 106, 107, 108, 109, 110, 111, 112,\n",
       "        113, 114, 115, 116, 117, 118, 119, 120, 121, 122, 123, 124, 125,\n",
       "        126, 127, 128, 129, 130, 131, 132, 133, 134, 135, 136, 137, 138,\n",
       "        139, 140, 141, 142, 143, 144, 145, 146, 147, 148, 149, 150, 151,\n",
       "        152, 153, 154, 155, 156, 157, 158, 159, 160, 161, 162, 163, 164,\n",
       "        165, 166, 167, 168, 169, 170, 171, 172, 173, 174, 175, 176, 177,\n",
       "        178, 179, 180, 181, 182, 183, 184, 185, 186, 187, 188, 189, 190,\n",
       "        191, 192, 193, 194, 195, 196, 197, 198, 199],\n",
       "       [200, 201, 202, 203, 204, 205, 206, 207, 208, 209, 210, 211, 212,\n",
       "        213, 214, 215, 216, 217, 218, 219, 220, 221, 222, 223, 224, 225,\n",
       "        226, 227, 228, 229, 230, 231, 232, 233, 234, 235, 236, 237, 238,\n",
       "        239, 240, 241, 242, 243, 244, 245, 246, 247, 248, 249, 250, 251,\n",
       "        252, 253, 254, 255, 256, 257, 258, 259, 260, 261, 262, 263, 264,\n",
       "        265, 266, 267, 268, 269, 270, 271, 272, 273, 274, 275, 276, 277,\n",
       "        278, 279, 280, 281, 282, 283, 284, 285, 286, 287, 288, 289, 290,\n",
       "        291, 292, 293, 294, 295, 296, 297, 298, 299],\n",
       "       [300, 301, 302, 303, 304, 305, 306, 307, 308, 309, 310, 311, 312,\n",
       "        313, 314, 315, 316, 317, 318, 319, 320, 321, 322, 323, 324, 325,\n",
       "        326, 327, 328, 329, 330, 331, 332, 333, 334, 335, 336, 337, 338,\n",
       "        339, 340, 341, 342, 343, 344, 345, 346, 347, 348, 349, 350, 351,\n",
       "        352, 353, 354, 355, 356, 357, 358, 359, 360, 361, 362, 363, 364,\n",
       "        365, 366, 367, 368, 369, 370, 371, 372, 373, 374, 375, 376, 377,\n",
       "        378, 379, 380, 381, 382, 383, 384, 385, 386, 387, 388, 389, 390,\n",
       "        391, 392, 393, 394, 395, 396, 397, 398, 399],\n",
       "       [400, 401, 402, 403, 404, 405, 406, 407, 408, 409, 410, 411, 412,\n",
       "        413, 414, 415, 416, 417, 418, 419, 420, 421, 422, 423, 424, 425,\n",
       "        426, 427, 428, 429, 430, 431, 432, 433, 434, 435, 436, 437, 438,\n",
       "        439, 440, 441, 442, 443, 444, 445, 446, 447, 448, 449, 450, 451,\n",
       "        452, 453, 454, 455, 456, 457, 458, 459, 460, 461, 462, 463, 464,\n",
       "        465, 466, 467, 468, 469, 470, 471, 472, 473, 474, 475, 476, 477,\n",
       "        478, 479, 480, 481, 482, 483, 484, 485, 486, 487, 488, 489, 490,\n",
       "        491, 492, 493, 494, 495, 496, 497, 498, 499],\n",
       "       [500, 501, 502, 503, 504, 505, 506, 507, 508, 509, 510, 511, 512,\n",
       "        513, 514, 515, 516, 517, 518, 519, 520, 521, 522, 523, 524, 525,\n",
       "        526, 527, 528, 529, 530, 531, 532, 533, 534, 535, 536, 537, 538,\n",
       "        539, 540, 541, 542, 543, 544, 545, 546, 547, 548, 549, 550, 551,\n",
       "        552, 553, 554, 555, 556, 557, 558, 559, 560, 561, 562, 563, 564,\n",
       "        565, 566, 567, 568, 569, 570, 571, 572, 573, 574, 575, 576, 577,\n",
       "        578, 579, 580, 581, 582, 583, 584, 585, 586, 587, 588, 589, 590,\n",
       "        591, 592, 593, 594, 595, 596, 597, 598, 599],\n",
       "       [600, 601, 602, 603, 604, 605, 606, 607, 608, 609, 610, 611, 612,\n",
       "        613, 614, 615, 616, 617, 618, 619, 620, 621, 622, 623, 624, 625,\n",
       "        626, 627, 628, 629, 630, 631, 632, 633, 634, 635, 636, 637, 638,\n",
       "        639, 640, 641, 642, 643, 644, 645, 646, 647, 648, 649, 650, 651,\n",
       "        652, 653, 654, 655, 656, 657, 658, 659, 660, 661, 662, 663, 664,\n",
       "        665, 666, 667, 668, 669, 670, 671, 672, 673, 674, 675, 676, 677,\n",
       "        678, 679, 680, 681, 682, 683, 684, 685, 686, 687, 688, 689, 690,\n",
       "        691, 692, 693, 694, 695, 696, 697, 698, 699],\n",
       "       [700, 701, 702, 703, 704, 705, 706, 707, 708, 709, 710, 711, 712,\n",
       "        713, 714, 715, 716, 717, 718, 719, 720, 721, 722, 723, 724, 725,\n",
       "        726, 727, 728, 729, 730, 731, 732, 733, 734, 735, 736, 737, 738,\n",
       "        739, 740, 741, 742, 743, 744, 745, 746, 747, 748, 749, 750, 751,\n",
       "        752, 753, 754, 755, 756, 757, 758, 759, 760, 761, 762, 763, 764,\n",
       "        765, 766, 767, 768, 769, 770, 771, 772, 773, 774, 775, 776, 777,\n",
       "        778, 779, 780, 781, 782, 783, 784, 785, 786, 787, 788, 789, 790,\n",
       "        791, 792, 793, 794, 795, 796, 797, 798, 799],\n",
       "       [800, 801, 802, 803, 804, 805, 806, 807, 808, 809, 810, 811, 812,\n",
       "        813, 814, 815, 816, 817, 818, 819, 820, 821, 822, 823, 824, 825,\n",
       "        826, 827, 828, 829, 830, 831, 832, 833, 834, 835, 836, 837, 838,\n",
       "        839, 840, 841, 842, 843, 844, 845, 846, 847, 848, 849, 850, 851,\n",
       "        852, 853, 854, 855, 856, 857, 858, 859, 860, 861, 862, 863, 864,\n",
       "        865, 866, 867, 868, 869, 870, 871, 872, 873, 874, 875, 876, 877,\n",
       "        878, 879, 880, 881, 882, 883, 884, 885, 886, 887, 888, 889, 890,\n",
       "        891, 892, 893, 894, 895, 896, 897, 898, 899],\n",
       "       [900, 901, 902, 903, 904, 905, 906, 907, 908, 909, 910, 911, 912,\n",
       "        913, 914, 915, 916, 917, 918, 919, 920, 921, 922, 923, 924, 925,\n",
       "        926, 927, 928, 929, 930, 931, 932, 933, 934, 935, 936, 937, 938,\n",
       "        939, 940, 941, 942, 943, 944, 945, 946, 947, 948, 949, 950, 951,\n",
       "        952, 953, 954, 955, 956, 957, 958, 959, 960, 961, 962, 963, 964,\n",
       "        965, 966, 967, 968, 969, 970, 971, 972, 973, 974, 975, 976, 977,\n",
       "        978, 979, 980, 981, 982, 983, 984, 985, 986, 987, 988, 989, 990,\n",
       "        991, 992, 993, 994, 995, 996, 997, 998, 999]])"
      ]
     },
     "execution_count": 22,
     "metadata": {},
     "output_type": "execute_result"
    }
   ],
   "source": [
    "contiguous_Slice=Array[:10,:]\n",
    "contiguous_Slice"
   ]
  },
  {
   "cell_type": "code",
   "execution_count": 23,
   "metadata": {},
   "outputs": [
    {
     "data": {
      "text/plain": [
       "(800, 8)"
      ]
     },
     "execution_count": 23,
     "metadata": {},
     "output_type": "execute_result"
    }
   ],
   "source": [
    "contiguous_Slice.strides"
   ]
  },
  {
   "cell_type": "markdown",
   "metadata": {},
   "source": [
    "E.  Analyze how changing the order of dimensions’ affects broadcasting and provide a scenario illustrating this."
   ]
  },
  {
   "cell_type": "code",
   "execution_count": 31,
   "metadata": {},
   "outputs": [
    {
     "name": "stdout",
     "output_type": "stream",
     "text": [
      "array 1= [[[0.68242646 0.73285219 0.18690678 0.01078883 0.51395126]\n",
      "  [0.92220243 0.68946809 0.24595779 0.17552034 0.83513343]\n",
      "  [0.76583185 0.28534704 0.36080463 0.81646129 0.47466233]\n",
      "  [0.43967872 0.82021829 0.7999217  0.5160432  0.50536364]]\n",
      "\n",
      " [[0.59188668 0.40488706 0.64231178 0.8895325  0.02474327]\n",
      "  [0.50323761 0.50123435 0.85596992 0.95845398 0.2290604 ]\n",
      "  [0.34411669 0.80395136 0.61754552 0.56215817 0.81528252]\n",
      "  [0.63045573 0.6936212  0.62134531 0.65044459 0.00270386]]\n",
      "\n",
      " [[0.20620013 0.94572098 0.61554452 0.44179356 0.51613335]\n",
      "  [0.39089594 0.47347689 0.63948824 0.65133783 0.21757812]\n",
      "  [0.29124819 0.03794445 0.51261486 0.0920372  0.38228666]\n",
      "  [0.61132688 0.47157198 0.16379562 0.76738815 0.26072957]]]\n",
      "array 2= [[0.17446086 0.88973973 0.74593554 0.77916018 0.04447129]]\n"
     ]
    }
   ],
   "source": [
    "arr_1=np.random.rand(3,4,5)\n",
    "arr_2=np.random.rand(1,5)\n",
    "print('array 1=',arr_1)\n",
    "print('array 2=',arr_2)"
   ]
  },
  {
   "cell_type": "code",
   "execution_count": 32,
   "metadata": {},
   "outputs": [
    {
     "data": {
      "text/plain": [
       "array([[[0.85688732, 1.62259193, 0.93284232, 0.78994901, 0.55842255],\n",
       "        [1.09666329, 1.57920783, 0.99189333, 0.95468052, 0.87960472],\n",
       "        [0.94029271, 1.17508677, 1.10674017, 1.59562147, 0.51913362],\n",
       "        [0.61413958, 1.70995802, 1.54585724, 1.29520338, 0.54983493]],\n",
       "\n",
       "       [[0.76634753, 1.2946268 , 1.38824732, 1.66869268, 0.06921456],\n",
       "        [0.67769846, 1.39097408, 1.60190546, 1.73761416, 0.27353168],\n",
       "        [0.51857755, 1.69369109, 1.36348106, 1.34131835, 0.85975381],\n",
       "        [0.80491659, 1.58336093, 1.36728085, 1.42960477, 0.04717514]],\n",
       "\n",
       "       [[0.38066099, 1.83546071, 1.36148006, 1.22095374, 0.56060463],\n",
       "        [0.5653568 , 1.36321662, 1.38542378, 1.43049801, 0.2620494 ],\n",
       "        [0.46570905, 0.92768418, 1.2585504 , 0.87119739, 0.42675794],\n",
       "        [0.78578774, 1.36131171, 0.90973116, 1.54654833, 0.30520085]]])"
      ]
     },
     "execution_count": 32,
     "metadata": {},
     "output_type": "execute_result"
    }
   ],
   "source": [
    "result=arr_1+arr_2\n",
    "result\n"
   ]
  },
  {
   "cell_type": "code",
   "execution_count": 33,
   "metadata": {},
   "outputs": [
    {
     "data": {
      "text/plain": [
       "array([[[0.67369063],\n",
       "        [0.39897349],\n",
       "        [0.98551349],\n",
       "        [0.38828216]]])"
      ]
     },
     "execution_count": 33,
     "metadata": {},
     "output_type": "execute_result"
    }
   ],
   "source": [
    "arr_3=np.random.rand(1,4,1)\n",
    "arr_3"
   ]
  },
  {
   "cell_type": "code",
   "execution_count": 34,
   "metadata": {},
   "outputs": [
    {
     "data": {
      "text/plain": [
       "array([[[1.35611709, 1.40654282, 0.86059741, 0.68447945, 1.18764189],\n",
       "        [1.32117593, 1.08844158, 0.64493128, 0.57449383, 1.23410692],\n",
       "        [1.75134534, 1.27086053, 1.34631812, 1.80197478, 1.46017582],\n",
       "        [0.82796088, 1.20850045, 1.18820387, 0.90432536, 0.89364581]],\n",
       "\n",
       "       [[1.2655773 , 1.07857769, 1.31600241, 1.56322313, 0.6984339 ],\n",
       "        [0.9022111 , 0.90020784, 1.25494341, 1.35742747, 0.62803389],\n",
       "        [1.32963018, 1.78946484, 1.60305901, 1.54767166, 1.80079601],\n",
       "        [1.01873789, 1.08190336, 1.00962748, 1.03872675, 0.39098602]],\n",
       "\n",
       "       [[0.87989076, 1.6194116 , 1.28923515, 1.11548419, 1.18982397],\n",
       "        [0.78986943, 0.87245038, 1.03846174, 1.05031132, 0.61655161],\n",
       "        [1.27676168, 1.02345794, 1.49812834, 1.07755069, 1.36780014],\n",
       "        [0.99960904, 0.85985414, 0.55207778, 1.15567031, 0.64901173]]])"
      ]
     },
     "execution_count": 34,
     "metadata": {},
     "output_type": "execute_result"
    }
   ],
   "source": [
    "Result_1=arr_1+arr_3\n",
    "Result_1"
   ]
  },
  {
   "cell_type": "markdown",
   "metadata": {},
   "source": [
    "#### Problem 03: “Advanced Array Manipulation with NumPy”\n",
    "A. Create a 3D NumPy array representing an RGB image and explain how to access individual color channels."
   ]
  },
  {
   "cell_type": "code",
   "execution_count": 42,
   "metadata": {},
   "outputs": [
    {
     "data": {
      "text/plain": [
       "array([[[0.4399739 , 0.62986139, 0.74454644, 0.35243537],\n",
       "        [0.63860608, 0.47458806, 0.5631676 , 0.79443202],\n",
       "        [0.04244259, 0.24275859, 0.28223828, 0.85361913],\n",
       "        [0.03878362, 0.0090664 , 0.11126047, 0.49430325]],\n",
       "\n",
       "       [[0.15699723, 0.18559341, 0.26037833, 0.28935698],\n",
       "        [0.38399713, 0.51120615, 0.39941915, 0.92234069],\n",
       "        [0.01520809, 0.1453976 , 0.16544652, 0.83398831],\n",
       "        [0.00697158, 0.73985227, 0.74064922, 0.85575441]],\n",
       "\n",
       "       [[0.25924135, 0.96979374, 0.02185047, 0.6946782 ],\n",
       "        [0.66966859, 0.05103061, 0.46303373, 0.24984445],\n",
       "        [0.60366111, 0.97626279, 0.39689247, 0.94074938],\n",
       "        [0.23246516, 0.0364402 , 0.17433444, 0.76012216]]])"
      ]
     },
     "execution_count": 42,
     "metadata": {},
     "output_type": "execute_result"
    }
   ],
   "source": [
    "RGB=np.random.rand(3,4,4)\n",
    "RGB"
   ]
  },
  {
   "cell_type": "code",
   "execution_count": 43,
   "metadata": {},
   "outputs": [
    {
     "data": {
      "text/plain": [
       "array([[0.4399739 , 0.63860608, 0.04244259, 0.03878362],\n",
       "       [0.15699723, 0.38399713, 0.01520809, 0.00697158],\n",
       "       [0.25924135, 0.66966859, 0.60366111, 0.23246516]])"
      ]
     },
     "execution_count": 43,
     "metadata": {},
     "output_type": "execute_result"
    }
   ],
   "source": [
    "Red=RGB[:,:,0]\n",
    "Red"
   ]
  },
  {
   "cell_type": "code",
   "execution_count": 44,
   "metadata": {},
   "outputs": [
    {
     "data": {
      "text/plain": [
       "array([[0.62986139, 0.47458806, 0.24275859, 0.0090664 ],\n",
       "       [0.18559341, 0.51120615, 0.1453976 , 0.73985227],\n",
       "       [0.96979374, 0.05103061, 0.97626279, 0.0364402 ]])"
      ]
     },
     "execution_count": 44,
     "metadata": {},
     "output_type": "execute_result"
    }
   ],
   "source": [
    "Green=RGB[:,:,1]\n",
    "Green"
   ]
  },
  {
   "cell_type": "code",
   "execution_count": 45,
   "metadata": {},
   "outputs": [
    {
     "data": {
      "text/plain": [
       "array([[0.74454644, 0.5631676 , 0.28223828, 0.11126047],\n",
       "       [0.26037833, 0.39941915, 0.16544652, 0.74064922],\n",
       "       [0.02185047, 0.46303373, 0.39689247, 0.17433444]])"
      ]
     },
     "execution_count": 45,
     "metadata": {},
     "output_type": "execute_result"
    }
   ],
   "source": [
    "Blue=RGB[:,:,2]\n",
    "Blue"
   ]
  },
  {
   "cell_type": "markdown",
   "metadata": {},
   "source": [
    "B. Demonstrate how to flatten this 3D array into a 1D array and discuss the implications for image processing."
   ]
  },
  {
   "cell_type": "code",
   "execution_count": 47,
   "metadata": {},
   "outputs": [
    {
     "data": {
      "text/plain": [
       "array([0.4399739 , 0.62986139, 0.74454644, 0.35243537, 0.63860608,\n",
       "       0.47458806, 0.5631676 , 0.79443202, 0.04244259, 0.24275859,\n",
       "       0.28223828, 0.85361913, 0.03878362, 0.0090664 , 0.11126047,\n",
       "       0.49430325, 0.15699723, 0.18559341, 0.26037833, 0.28935698,\n",
       "       0.38399713, 0.51120615, 0.39941915, 0.92234069, 0.01520809,\n",
       "       0.1453976 , 0.16544652, 0.83398831, 0.00697158, 0.73985227,\n",
       "       0.74064922, 0.85575441, 0.25924135, 0.96979374, 0.02185047,\n",
       "       0.6946782 , 0.66966859, 0.05103061, 0.46303373, 0.24984445,\n",
       "       0.60366111, 0.97626279, 0.39689247, 0.94074938, 0.23246516,\n",
       "       0.0364402 , 0.17433444, 0.76012216])"
      ]
     },
     "execution_count": 47,
     "metadata": {},
     "output_type": "execute_result"
    }
   ],
   "source": [
    "Flattened_array=RGB.flatten()\n",
    "Flattened_array"
   ]
  },
  {
   "cell_type": "markdown",
   "metadata": {},
   "source": [
    "#### Problem 04: “NumPy for Statistical Analysis” \n",
    "A. Generate a NumPy array of 1000 random numbers and calculate basic statistics (mean, median, variance)."
   ]
  },
  {
   "cell_type": "code",
   "execution_count": 48,
   "metadata": {},
   "outputs": [
    {
     "data": {
      "text/plain": [
       "(np.float64(-0.006077920967931977),\n",
       " np.float64(-0.0024952815572405022),\n",
       " np.float64(0.988245106104132))"
      ]
     },
     "execution_count": 48,
     "metadata": {},
     "output_type": "execute_result"
    }
   ],
   "source": [
    "random_array = np.random.randn(1000)\n",
    "\n",
    "mean_value = np.mean(random_array)\n",
    "median_value = np.median(random_array)\n",
    "variance_value = np.var(random_array)\n",
    "\n",
    "mean_value, median_value, variance_value"
   ]
  },
  {
   "cell_type": "markdown",
   "metadata": {},
   "source": [
    "B. Discuss the differences between population and sample statistics, and calculate both for your generated data."
   ]
  },
  {
   "cell_type": "code",
   "execution_count": 49,
   "metadata": {},
   "outputs": [
    {
     "data": {
      "text/plain": [
       "(np.float64(0.988245106104132), np.float64(0.9892343404445766))"
      ]
     },
     "execution_count": 49,
     "metadata": {},
     "output_type": "execute_result"
    }
   ],
   "source": [
    "population_statistics = np.var(random_array)\n",
    "\n",
    "sample_statistics = np.var(random_array, ddof=1) \n",
    "\n",
    "mean_value = np.mean(random_array)\n",
    "\n",
    "median_value = np.median(random_array)\n",
    "\n",
    "population_statistics, sample_statistics"
   ]
  },
  {
   "cell_type": "markdown",
   "metadata": {},
   "source": [
    "C.Create a histogram of the random numbers using NumPy, and explain how histograms can be useful for data visualization."
   ]
  },
  {
   "cell_type": "code",
   "execution_count": 50,
   "metadata": {},
   "outputs": [],
   "source": [
    "import matplotlib.pyplot as plt"
   ]
  },
  {
   "cell_type": "code",
   "execution_count": 51,
   "metadata": {},
   "outputs": [
    {
     "data": {
      "text/plain": [
       "array([0.51710994, 0.79255598, 0.19891701, 0.59032553, 0.00357945,\n",
       "       0.18870701, 0.9528944 , 0.26335338, 0.08224212, 0.52713198,\n",
       "       0.24300728, 0.77182001, 0.85127576, 0.25650539, 0.63854297,\n",
       "       0.30070096, 0.26248433, 0.72569391, 0.53561893, 0.19888974,\n",
       "       0.68105204, 0.01329813, 0.26317424, 0.56490028, 0.75299852,\n",
       "       0.58121377, 0.13446513, 0.68216669, 0.21139987, 0.75423443,\n",
       "       0.43194031, 0.54104092, 0.46898058, 0.79390277, 0.0760512 ,\n",
       "       0.68171221, 0.31048855, 0.44331104, 0.63284182, 0.90862227,\n",
       "       0.16907437, 0.49930272, 0.82750678, 0.33908245, 0.70603385,\n",
       "       0.84524535, 0.9037733 , 0.28643301, 0.99731821, 0.60128123,\n",
       "       0.73149446, 0.68737163, 0.53947321, 0.60111175, 0.21150004,\n",
       "       0.75282244, 0.96221382, 0.21698707, 0.25680201, 0.20408895,\n",
       "       0.80128142, 0.62477993, 0.35140751, 0.39727681, 0.57476526,\n",
       "       0.07808524, 0.40498622, 0.22186823, 0.27824875, 0.50436686,\n",
       "       0.35983039, 0.33745909, 0.23621453, 0.7908433 , 0.76599093,\n",
       "       0.74343079, 0.45847958, 0.61262897, 0.00752638, 0.35490527,\n",
       "       0.9961603 , 0.79859632, 0.65161271, 0.97300965, 0.19179136])"
      ]
     },
     "execution_count": 51,
     "metadata": {},
     "output_type": "execute_result"
    }
   ],
   "source": [
    "arr=np.random.rand(85)\n",
    "arr"
   ]
  },
  {
   "cell_type": "code",
   "execution_count": 56,
   "metadata": {},
   "outputs": [
    {
     "data": {
      "image/png": "[encoded data removed]",
      "text/plain": [
       "<Figure size 640x480 with 1 Axes>"
      ]
     },
     "metadata": {},
     "output_type": "display_data"
    }
   ],
   "source": [
    "plt.hist(arr, bins=20,color=\"blue\",alpha=1,edgecolor=\"black\")\n",
    "plt.title(\" Histogram of Array\")\n",
    "plt.xlabel(\"Values\")\n",
    "plt.ylabel(\"Frequency\")\n",
    "plt.grid(axis=\"y\",alpha=1)\n",
    "plt.show()"
   ]
  },
  {
   "cell_type": "code",
   "execution_count": null,
   "metadata": {},
   "outputs": [],
   "source": []
  }
 ],
 "metadata": {
  "kernelspec": {
   "display_name": "Python 3",
   "language": "python",
   "name": "python3"
  },
  "language_info": {
   "codemirror_mode": {
    "name": "ipython",
    "version": 3
   },
   "file_extension": ".py",
   "mimetype": "text/x-python",
   "name": "python",
   "nbconvert_exporter": "python",
   "pygments_lexer": "ipython3",
   "version": "3.12.6"
  }
 },
 "nbformat": 4,
 "nbformat_minor": 2
}
