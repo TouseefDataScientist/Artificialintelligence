{
 "cells": [
  {
   "cell_type": "markdown",
   "metadata": {},
   "source": [
    "# Name: Neha Izhar\n",
    "## Email: nehaizhar123@gmail.com"
   ]
  },
  {
   "cell_type": "code",
   "execution_count": 1,
   "metadata": {},
   "outputs": [],
   "source": [
    "import pandas as pd\n",
    "import numpy as np"
   ]
  },
  {
   "cell_type": "markdown",
   "metadata": {},
   "source": [
    "## Problem 01: “Understanding NumPy Arrays and Operations”"
   ]
  },
  {
   "cell_type": "markdown",
   "metadata": {},
   "source": [
    "### a. Create a NumPy array of shape (4, 5) filled with random integers between 1 and 100"
   ]
  },
  {
   "cell_type": "code",
   "execution_count": 2,
   "metadata": {},
   "outputs": [
    {
     "data": {
      "text/plain": [
       "array([[ 37,  12,  75, 100,  43],\n",
       "       [ 37,  85,  41,  31,   6],\n",
       "       [ 55,  91,   4,  16,  83],\n",
       "       [ 58,  86,  53,  38,  46]], dtype=int32)"
      ]
     },
     "execution_count": 2,
     "metadata": {},
     "output_type": "execute_result"
    }
   ],
   "source": [
    "array = np.random.randint(1, 101, size=(4, 5))\n",
    "array\n"
   ]
  },
  {
   "cell_type": "markdown",
   "metadata": {},
   "source": [
    "### b. Reshape the array into a shape of (2, 10) and explain how reshaping works in NumPy"
   ]
  },
  {
   "cell_type": "code",
   "execution_count": 3,
   "metadata": {},
   "outputs": [
    {
     "data": {
      "text/plain": [
       "array([[ 37,  12,  75, 100,  43,  37,  85,  41,  31,   6],\n",
       "       [ 55,  91,   4,  16,  83,  58,  86,  53,  38,  46]], dtype=int32)"
      ]
     },
     "execution_count": 3,
     "metadata": {},
     "output_type": "execute_result"
    }
   ],
   "source": [
    "reshaped = array.reshape(2, 10)\n",
    "reshaped"
   ]
  },
  {
   "cell_type": "markdown",
   "metadata": {},
   "source": [
    "### c. Perform element-wise addition with another array of shape (2, 10) and discuss broadcasting rules"
   ]
  },
  {
   "cell_type": "code",
   "execution_count": 4,
   "metadata": {},
   "outputs": [
    {
     "data": {
      "text/plain": [
       "array([[23, 37, 38,  5, 24, 11,  7, 37,  2, 15],\n",
       "       [27, 27, 45,  5, 22, 39,  7,  9, 47, 41]], dtype=int32)"
      ]
     },
     "execution_count": 4,
     "metadata": {},
     "output_type": "execute_result"
    }
   ],
   "source": [
    "second_array = np.random.randint(1, 51, size=(2, 10))\n",
    "second_array"
   ]
  },
  {
   "cell_type": "code",
   "execution_count": 5,
   "metadata": {},
   "outputs": [
    {
     "data": {
      "text/plain": [
       "array([[ 60,  49, 113, 105,  67,  48,  92,  78,  33,  21],\n",
       "       [ 82, 118,  49,  21, 105,  97,  93,  62,  85,  87]], dtype=int32)"
      ]
     },
     "execution_count": 5,
     "metadata": {},
     "output_type": "execute_result"
    }
   ],
   "source": [
    "result = reshaped+ second_array\n",
    "result"
   ]
  },
  {
   "cell_type": "markdown",
   "metadata": {},
   "source": [
    "### d. Calculate the dot product of two compatible arrays and explain the significance of dot product in linear algebra."
   ]
  },
  {
   "cell_type": "code",
   "execution_count": 6,
   "metadata": {},
   "outputs": [
    {
     "data": {
      "text/plain": [
       "array([[71, 38,  6,  3, 40, 37, 63, 40, 16, 35],\n",
       "       [74, 76, 56, 78, 62, 88, 57, 31,  7, 45]], dtype=int32)"
      ]
     },
     "execution_count": 6,
     "metadata": {},
     "output_type": "execute_result"
    }
   ],
   "source": [
    "a = np.random.randint(1, 101, size=(2, 10))\n",
    "b = np.random.randint(1, 101, size=(10, 2))\n",
    "a"
   ]
  },
  {
   "cell_type": "code",
   "execution_count": 7,
   "metadata": {},
   "outputs": [
    {
     "data": {
      "text/plain": [
       "array([[31, 53],\n",
       "       [90, 17],\n",
       "       [55, 59],\n",
       "       [99, 76],\n",
       "       [46, 14],\n",
       "       [99, 31],\n",
       "       [ 4, 73],\n",
       "       [48, 48],\n",
       "       [48, 28],\n",
       "       [16, 86]], dtype=int32)"
      ]
     },
     "execution_count": 7,
     "metadata": {},
     "output_type": "execute_result"
    }
   ],
   "source": [
    "b"
   ]
  },
  {
   "cell_type": "code",
   "execution_count": 8,
   "metadata": {},
   "outputs": [
    {
     "data": {
      "text/plain": [
       "array([[15251, 16675],\n",
       "       [34272, 27757]], dtype=int32)"
      ]
     },
     "execution_count": 8,
     "metadata": {},
     "output_type": "execute_result"
    }
   ],
   "source": [
    "dot_product = np.dot(a, b)\n",
    "dot_product"
   ]
  },
  {
   "cell_type": "markdown",
   "metadata": {},
   "source": [
    "### e. Create a masked array from the original array, masking all values below the median; explain the concept and use cases of masked arrays."
   ]
  },
  {
   "cell_type": "code",
   "execution_count": 9,
   "metadata": {},
   "outputs": [
    {
     "data": {
      "text/plain": [
       "np.float64(44.5)"
      ]
     },
     "execution_count": 9,
     "metadata": {},
     "output_type": "execute_result"
    }
   ],
   "source": [
    "median = np.median(array)\n",
    "median"
   ]
  },
  {
   "cell_type": "code",
   "execution_count": 10,
   "metadata": {},
   "outputs": [
    {
     "data": {
      "text/plain": [
       "masked_array(\n",
       "  data=[[--, --, 75, 100, --],\n",
       "        [--, 85, --, --, --],\n",
       "        [55, 91, --, --, 83],\n",
       "        [58, 86, 53, --, 46]],\n",
       "  mask=[[ True,  True, False, False,  True],\n",
       "        [ True, False,  True,  True,  True],\n",
       "        [False, False,  True,  True, False],\n",
       "        [False, False, False,  True, False]],\n",
       "  fill_value=np.int64(999999),\n",
       "  dtype=int32)"
      ]
     },
     "execution_count": 10,
     "metadata": {},
     "output_type": "execute_result"
    }
   ],
   "source": [
    "masked_array = np.ma.masked_where(array < median, array)\n",
    "masked_array"
   ]
  },
  {
   "cell_type": "markdown",
   "metadata": {},
   "source": [
    "## Problem 02: “Exploring NumPy Broadcasting and Strides”\n",
    "### a. Explain the concept of broadcasting in NumPy and provide an example involving arrays of different shapes."
   ]
  },
  {
   "cell_type": "code",
   "execution_count": 11,
   "metadata": {},
   "outputs": [
    {
     "data": {
      "text/plain": [
       "array([[11, 22, 33, 44],\n",
       "       [15, 26, 37, 48],\n",
       "       [19, 30, 41, 52]])"
      ]
     },
     "execution_count": 11,
     "metadata": {},
     "output_type": "execute_result"
    }
   ],
   "source": [
    "x = np.array([[1, 2, 3, 4], [5, 6, 7, 8],[9, 10, 11, 12]])\n",
    "y = np.array([10, 20, 30, 40])\n",
    "result_array = x + y\n",
    "result_array\n"
   ]
  },
  {
   "cell_type": "markdown",
   "metadata": {},
   "source": [
    "### b. Create two arrays with different shapes that can be broadcasted together and perform an arithmetic operation on them"
   ]
  },
  {
   "cell_type": "code",
   "execution_count": 12,
   "metadata": {},
   "outputs": [
    {
     "data": {
      "text/plain": [
       "array([[11, 22],\n",
       "       [13, 24],\n",
       "       [15, 26]])"
      ]
     },
     "execution_count": 12,
     "metadata": {},
     "output_type": "execute_result"
    }
   ],
   "source": [
    "c = np.array([[1, 2],[3, 4],[5, 6]])\n",
    "d= np.array([10, 20])\n",
    "r = c + d\n",
    "r\n"
   ]
  },
  {
   "cell_type": "markdown",
   "metadata": {},
   "source": [
    "### c. Discuss how strides in NumPy arrays affect memory access patterns when slicing an array.\n"
   ]
  },
  {
   "cell_type": "code",
   "execution_count": 13,
   "metadata": {},
   "outputs": [
    {
     "name": "stdout",
     "output_type": "stream",
     "text": [
      "Strides: (20, 4)\n"
     ]
    }
   ],
   "source": [
    "print(\"Strides:\", array.strides)\n"
   ]
  },
  {
   "cell_type": "code",
   "execution_count": 14,
   "metadata": {},
   "outputs": [
    {
     "data": {
      "text/plain": [
       "array([[12, 75],\n",
       "       [85, 41],\n",
       "       [91,  4],\n",
       "       [86, 53]], dtype=int32)"
      ]
     },
     "execution_count": 14,
     "metadata": {},
     "output_type": "execute_result"
    }
   ],
   "source": [
    "sliced_array = array[:, 1:3]\n",
    "sliced_array"
   ]
  },
  {
   "cell_type": "code",
   "execution_count": 15,
   "metadata": {},
   "outputs": [
    {
     "name": "stdout",
     "output_type": "stream",
     "text": [
      "Strides of Sliced Array: (20, 4)\n"
     ]
    }
   ],
   "source": [
    "print(\"Strides of Sliced Array:\", sliced_array.strides)"
   ]
  },
  {
   "cell_type": "markdown",
   "metadata": {},
   "source": [
    "### d. Create an example to demonstrate the impact of strides on array slicing and performance."
   ]
  },
  {
   "cell_type": "code",
   "execution_count": 16,
   "metadata": {},
   "outputs": [
    {
     "name": "stdout",
     "output_type": "stream",
     "text": [
      "Original Array Strides: (8,)\n"
     ]
    }
   ],
   "source": [
    "s = np.arange(1000000).reshape(1000, 1000)\n",
    "print(\"Original Array Strides:\", d.strides)\n"
   ]
  },
  {
   "cell_type": "code",
   "execution_count": 17,
   "metadata": {},
   "outputs": [
    {
     "data": {
      "text/plain": [
       "array([[     0,      1,      2, ...,     12,     13,     14],\n",
       "       [  1000,   1001,   1002, ...,   1012,   1013,   1014],\n",
       "       [  2000,   2001,   2002, ...,   2012,   2013,   2014],\n",
       "       ...,\n",
       "       [997000, 997001, 997002, ..., 997012, 997013, 997014],\n",
       "       [998000, 998001, 998002, ..., 998012, 998013, 998014],\n",
       "       [999000, 999001, 999002, ..., 999012, 999013, 999014]])"
      ]
     },
     "execution_count": 17,
     "metadata": {},
     "output_type": "execute_result"
    }
   ],
   "source": [
    "sliced_array_1 = s[:, :15]\n",
    "sliced_array_1"
   ]
  },
  {
   "cell_type": "code",
   "execution_count": 18,
   "metadata": {},
   "outputs": [
    {
     "data": {
      "text/plain": [
       "array([[     0,      1,      2, ...,      7,      8,      9],\n",
       "       [  2000,   2001,   2002, ...,   2007,   2008,   2009],\n",
       "       [  4000,   4001,   4002, ...,   4007,   4008,   4009],\n",
       "       ...,\n",
       "       [994000, 994001, 994002, ..., 994007, 994008, 994009],\n",
       "       [996000, 996001, 996002, ..., 996007, 996008, 996009],\n",
       "       [998000, 998001, 998002, ..., 998007, 998008, 998009]])"
      ]
     },
     "execution_count": 18,
     "metadata": {},
     "output_type": "execute_result"
    }
   ],
   "source": [
    "sliced_array_2 = s[::2, :10]\n",
    "sliced_array_2\n"
   ]
  },
  {
   "cell_type": "markdown",
   "metadata": {},
   "source": [
    "### e. Analyze how changing the order of dimensions’ affects broadcasting and provide a scenario illustrating this."
   ]
  },
  {
   "cell_type": "code",
   "execution_count": 23,
   "metadata": {},
   "outputs": [
    {
     "data": {
      "text/plain": [
       "array([[1, 2, 3],\n",
       "       [4, 5, 6]])"
      ]
     },
     "execution_count": 23,
     "metadata": {},
     "output_type": "execute_result"
    }
   ],
   "source": [
    "array_a = np.array([[1, 2, 3], [4, 5, 6]])\n",
    "array_a"
   ]
  },
  {
   "cell_type": "code",
   "execution_count": 24,
   "metadata": {},
   "outputs": [
    {
     "data": {
      "text/plain": [
       "array([10, 20, 30])"
      ]
     },
     "execution_count": 24,
     "metadata": {},
     "output_type": "execute_result"
    }
   ],
   "source": [
    "array_b = np.array([10, 20, 30])\n",
    "array_b"
   ]
  },
  {
   "cell_type": "code",
   "execution_count": 25,
   "metadata": {},
   "outputs": [
    {
     "data": {
      "text/plain": [
       "array([[11, 22, 33],\n",
       "       [14, 25, 36]])"
      ]
     },
     "execution_count": 25,
     "metadata": {},
     "output_type": "execute_result"
    }
   ],
   "source": [
    "\n",
    "res=array_a+array_b\n",
    "res"
   ]
  },
  {
   "cell_type": "code",
   "execution_count": 26,
   "metadata": {},
   "outputs": [
    {
     "data": {
      "text/plain": [
       "array([[10, 20, 30]])"
      ]
     },
     "execution_count": 26,
     "metadata": {},
     "output_type": "execute_result"
    }
   ],
   "source": [
    "array_b_reshaped = array_b[np.newaxis, :]\n",
    "array_b_reshaped"
   ]
  },
  {
   "cell_type": "code",
   "execution_count": 27,
   "metadata": {},
   "outputs": [
    {
     "data": {
      "text/plain": [
       "array([[11, 22, 33],\n",
       "       [14, 25, 36]])"
      ]
     },
     "execution_count": 27,
     "metadata": {},
     "output_type": "execute_result"
    }
   ],
   "source": [
    "result = array_a + array_b_reshaped\n",
    "result"
   ]
  },
  {
   "cell_type": "code",
   "execution_count": 28,
   "metadata": {},
   "outputs": [
    {
     "data": {
      "text/plain": [
       "array([[100],\n",
       "       [200]])"
      ]
     },
     "execution_count": 28,
     "metadata": {},
     "output_type": "execute_result"
    }
   ],
   "source": [
    "array_c = np.array([100, 200]).reshape(2, 1)  \n",
    "array_c\n",
    "\n"
   ]
  },
  {
   "cell_type": "code",
   "execution_count": 29,
   "metadata": {},
   "outputs": [
    {
     "data": {
      "text/plain": [
       "array([[101, 102, 103],\n",
       "       [204, 205, 206]])"
      ]
     },
     "execution_count": 29,
     "metadata": {},
     "output_type": "execute_result"
    }
   ],
   "source": [
    "results= array_a + array_c\n",
    "results"
   ]
  },
  {
   "cell_type": "markdown",
   "metadata": {},
   "source": [
    "## Problem 03: “Advanced Array Manipulation with NumPy”"
   ]
  },
  {
   "cell_type": "markdown",
   "metadata": {},
   "source": [
    "### a. Create a 3D NumPy array representing an RGB image and explain how to access individual color channels."
   ]
  },
  {
   "cell_type": "code",
   "execution_count": 31,
   "metadata": {},
   "outputs": [
    {
     "data": {
      "text/plain": [
       "array([[[255,   0,   0],\n",
       "        [  0, 255,   0],\n",
       "        [  0,   0, 255],\n",
       "        [255, 255,   0]],\n",
       "\n",
       "       [[255,   0, 255],\n",
       "        [  0, 255, 255],\n",
       "        [255, 255, 255],\n",
       "        [  0,   0,   0]],\n",
       "\n",
       "       [[128, 128, 128],\n",
       "        [128,   0,   0],\n",
       "        [  0, 128,   0],\n",
       "        [  0,   0, 128]],\n",
       "\n",
       "       [[255, 192, 203],\n",
       "        [255, 165,   0],\n",
       "        [  0, 255, 127],\n",
       "        [ 75,   0, 130]]])"
      ]
     },
     "execution_count": 31,
     "metadata": {},
     "output_type": "execute_result"
    }
   ],
   "source": [
    "image = np.array([\n",
    "    [[255, 0, 0], [0, 255, 0], [0, 0, 255], [255, 255, 0]],  # Row 0\n",
    "    [[255, 0, 255], [0, 255, 255], [255, 255, 255], [0, 0, 0]],  # Row 1\n",
    "    [[128, 128, 128], [128, 0, 0], [0, 128, 0], [0, 0, 128]],  # Row 2\n",
    "    [[255, 192, 203], [255, 165, 0], [0, 255, 127], [75, 0, 130]]  # Row 3\n",
    "])\n",
    "image"
   ]
  },
  {
   "cell_type": "markdown",
   "metadata": {},
   "source": [
    "### b. Demonstrate how to flatten this 3D array into a 1D array and discuss the implications for image processing"
   ]
  },
  {
   "cell_type": "code",
   "execution_count": 32,
   "metadata": {},
   "outputs": [
    {
     "data": {
      "text/plain": [
       "array([255,   0,   0,   0, 255,   0,   0,   0, 255, 255, 255,   0, 255,\n",
       "         0, 255,   0, 255, 255, 255, 255, 255,   0,   0,   0, 128, 128,\n",
       "       128, 128,   0,   0,   0, 128,   0,   0,   0, 128, 255, 192, 203,\n",
       "       255, 165,   0,   0, 255, 127,  75,   0, 130])"
      ]
     },
     "execution_count": 32,
     "metadata": {},
     "output_type": "execute_result"
    }
   ],
   "source": [
    "flattened_image = image.flatten()\n",
    "flattened_image"
   ]
  },
  {
   "cell_type": "markdown",
   "metadata": {},
   "source": [
    "### c. Use array slicing to extract a sub-array from the 3D array and explain the concept of views versus copies in NumPy.\n"
   ]
  },
  {
   "cell_type": "code",
   "execution_count": 33,
   "metadata": {},
   "outputs": [
    {
     "data": {
      "text/plain": [
       "array([[[255,   0,   0],\n",
       "        [  0, 255,   0]],\n",
       "\n",
       "       [[255,   0, 255],\n",
       "        [  0, 255, 255]]])"
      ]
     },
     "execution_count": 33,
     "metadata": {},
     "output_type": "execute_result"
    }
   ],
   "source": [
    "slicing = image[:2, :2, :]\n",
    "slicing\n"
   ]
  },
  {
   "cell_type": "markdown",
   "metadata": {},
   "source": [
    "### d. Discuss the advantages of using NumPy arrays over Python lists for large datasets, particularly in terms of performance and memory efficiency."
   ]
  },
  {
   "cell_type": "code",
   "execution_count": 35,
   "metadata": {},
   "outputs": [
    {
     "data": {
      "text/plain": [
       "array([0.45386451, 0.67811126, 1.13554468, ..., 0.53425095, 1.96837852,\n",
       "       0.39631602])"
      ]
     },
     "execution_count": 35,
     "metadata": {},
     "output_type": "execute_result"
    }
   ],
   "source": [
    "# NumPy array\n",
    "arr = np.random.rand(1_000_000)\n",
    "result = arr * 2\n",
    "result"
   ]
  },
  {
   "cell_type": "code",
   "execution_count": 36,
   "metadata": {},
   "outputs": [
    {
     "data": {
      "text/plain": [
       "[np.float64(0.4538645067032454),\n",
       " np.float64(0.6781112627814834),\n",
       " np.float64(1.135544683122293),\n",
       " np.float64(1.6549018260238786),\n",
       " np.float64(0.04591592472017947),\n",
       " np.float64(1.230602606553738),\n",
       " np.float64(0.6006294133230166),\n",
       " np.float64(0.5072844502349216),\n",
       " np.float64(0.009021970977006966),\n",
       " np.float64(0.28190215344904335),\n",
       " np.float64(1.1547619379619063),\n",
       " np.float64(1.986501409345876),\n",
       " np.float64(0.779930520607037),\n",
       " np.float64(0.9108246423662507),\n",
       " np.float64(0.5055976023391475),\n",
       " np.float64(0.26983219427280325),\n",
       " np.float64(1.9605246679795332),\n",
       " np.float64(1.9117814734693692),\n",
       " np.float64(1.4629017378234466),\n",
       " np.float64(1.7836198578522706),\n",
       " np.float64(0.02460134128687752),\n",
       " np.float64(1.4593353179792168),\n",
       " np.float64(1.9504301057648599),\n",
       " np.float64(1.7171326457600207),\n",
       " np.float64(1.719906898413894),\n",
       " np.float64(1.3057535293719669),\n",
       " np.float64(0.48606371886719724),\n",
       " np.float64(0.7925950151597689),\n",
       " np.float64(0.9864517986280736),\n",
       " np.float64(0.06857134690285127),\n",
       " np.float64(1.6771439309061331),\n",
       " np.float64(1.6127370615102268),\n",
       " np.float64(1.6322041429122716),\n",
       " np.float64(1.0377250815331007),\n",
       " np.float64(1.936893311728522),\n",
       " np.float64(1.7404365751648045),\n",
       " np.float64(1.282080369771091),\n",
       " np.float64(1.385458436892133),\n",
       " np.float64(0.8821768065555529),\n",
       " np.float64(0.2952142026048299),\n",
       " np.float64(0.919060583603382),\n",
       " np.float64(1.3085625285145992),\n",
       " np.float64(1.4935466988042179),\n",
       " np.float64(0.5839196054355209),\n",
       " np.float64(1.2967651155973454),\n",
       " np.float64(1.849218689312626),\n",
       " np.float64(0.9427665089436326),\n",
       " np.float64(0.7653258732866133),\n",
       " np.float64(0.9667239429675003),\n",
       " np.float64(0.23766853246223163),\n",
       " np.float64(1.9732538049445991),\n",
       " np.float64(0.5761862285056465),\n",
       " np.float64(0.8419711773235581),\n",
       " np.float64(1.722199427084202),\n",
       " np.float64(0.334564372949677),\n",
       " np.float64(1.4752509485517602),\n",
       " np.float64(0.13644799313719447),\n",
       " np.float64(0.023379543646930845),\n",
       " np.float64(1.0329002537537118),\n",
       " np.float64(1.389490459642943),\n",
       " np.float64(1.7543876317355953),\n",
       " np.float64(0.31802260273838145),\n",
       " np.float64(1.9548441719544987),\n",
       " np.float64(0.9527582054958319),\n",
       " np.float64(1.5226703837954783),\n",
       " np.float64(1.1681398378395607),\n",
       " np.float64(1.4608580021815438),\n",
       " np.float64(1.4104753875003515),\n",
       " np.float64(0.443362892076266),\n",
       " np.float64(0.3814747226340005),\n",
       " np.float64(1.8366534536355752),\n",
       " np.float64(0.3648663767803202),\n",
       " np.float64(1.0225093364237376),\n",
       " np.float64(0.10551373459357971),\n",
       " np.float64(0.32915305340534107),\n",
       " np.float64(0.23040659444149125),\n",
       " np.float64(1.0106280617614827),\n",
       " np.float64(1.5349078468596256),\n",
       " np.float64(1.1886736162713019),\n",
       " np.float64(1.4807293621815962),\n",
       " np.float64(1.875194601137082),\n",
       " np.float64(0.424790051616593),\n",
       " np.float64(1.837762829516545),\n",
       " np.float64(0.8328672681182492),\n",
       " np.float64(1.7621171041513772),\n",
       " np.float64(1.5764584505363763),\n",
       " np.float64(1.7722261493087765),\n",
       " np.float64(1.4992140760958566),\n",
       " np.float64(1.9919347882470193),\n",
       " np.float64(1.784842465095104),\n",
       " np.float64(0.03201784094690674),\n",
       " np.float64(1.0461602212161023),\n",
       " np.float64(1.2591999398200535),\n",
       " np.float64(1.3490432760158642),\n",
       " np.float64(0.05752543429206858),\n",
       " np.float64(0.11508744070929366),\n",
       " np.float64(0.5042838775583509),\n",
       " np.float64(1.3137367618074351),\n",
       " np.float64(1.4042007422439204),\n",
       " np.float64(0.26971955986188556),\n",
       " np.float64(1.9299744993907668),\n",
       " np.float64(0.9917179824669022),\n",
       " np.float64(0.2171071315478963),\n",
       " np.float64(0.4731905869277204),\n",
       " np.float64(0.4629692035077),\n",
       " np.float64(0.7455068518608481),\n",
       " np.float64(0.30350067823931637),\n",
       " np.float64(0.7072527795224932),\n",
       " np.float64(0.448076279674535),\n",
       " np.float64(0.35683959173708923),\n",
       " np.float64(0.23951174230581973),\n",
       " np.float64(1.6102719333190025),\n",
       " np.float64(0.6533741883842874),\n",
       " np.float64(1.7544280363084566),\n",
       " np.float64(0.9315700222544607),\n",
       " np.float64(1.7959087564407115),\n",
       " np.float64(1.3173808156261209),\n",
       " np.float64(0.8051574277485591),\n",
       " np.float64(1.3239164421343954),\n",
       " np.float64(1.7225151462025654),\n",
       " np.float64(1.9288398480828026),\n",
       " np.float64(1.018574604872159),\n",
       " np.float64(1.1514673481213726),\n",
       " np.float64(1.940471535013484),\n",
       " np.float64(1.9426174472102327),\n",
       " np.float64(0.053775462334340274),\n",
       " np.float64(1.7976886352146135),\n",
       " np.float64(0.30380087540741685),\n",
       " np.float64(1.5936759286356437),\n",
       " np.float64(0.07738057139326049),\n",
       " np.float64(1.0666727707203127),\n",
       " np.float64(1.3070479534160284),\n",
       " np.float64(1.2394322630840315),\n",
       " np.float64(0.04582779541562898),\n",
       " np.float64(1.2062392383229343),\n",
       " np.float64(1.6234896720535443),\n",
       " np.float64(0.8595315081858887),\n",
       " np.float64(1.2342186207972567),\n",
       " np.float64(0.43902362270693396),\n",
       " np.float64(1.3830617827001968),\n",
       " np.float64(1.602807943150068),\n",
       " np.float64(0.7792125075179259),\n",
       " np.float64(0.7918917400729393),\n",
       " np.float64(1.7821428103564219),\n",
       " np.float64(1.9107951691735896),\n",
       " np.float64(0.4170836922874266),\n",
       " np.float64(0.3802268584913735),\n",
       " np.float64(1.4504338468072984),\n",
       " np.float64(1.8267436717096897),\n",
       " np.float64(1.490556488437377),\n",
       " np.float64(1.5714439406769258),\n",
       " np.float64(0.18487277726979245),\n",
       " np.float64(0.4751653344708078),\n",
       " np.float64(0.022416706145542697),\n",
       " np.float64(0.10665520266324835),\n",
       " np.float64(0.0743034260957367),\n",
       " np.float64(1.5407008893298113),\n",
       " np.float64(0.9408881141834029),\n",
       " np.float64(0.21703668551204935),\n",
       " np.float64(0.026083960682644847),\n",
       " np.float64(1.315686668922761),\n",
       " np.float64(0.877209160413674),\n",
       " np.float64(0.9830981950655246),\n",
       " np.float64(0.7510957967280172),\n",
       " np.float64(0.7955301928243173),\n",
       " np.float64(0.06781248573024778),\n",
       " np.float64(0.5375939720311755),\n",
       " np.float64(0.25642749142389687),\n",
       " np.float64(0.7488261634528885),\n",
       " np.float64(0.9889094283262676),\n",
       " np.float64(0.3463063494476335),\n",
       " np.float64(0.8456249113237586),\n",
       " np.float64(1.6178045952983844),\n",
       " np.float64(1.5790626660207714),\n",
       " np.float64(0.3814986694526328),\n",
       " np.float64(0.47818959065794875),\n",
       " np.float64(0.9508979712185099),\n",
       " np.float64(1.466397639687644),\n",
       " np.float64(0.5468486558238945),\n",
       " np.float64(0.2647954487111934),\n",
       " np.float64(0.21414231873041256),\n",
       " np.float64(1.4522595099628266),\n",
       " np.float64(1.7416238492198206),\n",
       " np.float64(1.3334845623713107),\n",
       " np.float64(1.5403454586907444),\n",
       " np.float64(0.8440184423631614),\n",
       " np.float64(1.1530929040296731),\n",
       " np.float64(1.8497417813171626),\n",
       " np.float64(0.29323368596181854),\n",
       " np.float64(0.6942245215266714),\n",
       " np.float64(1.787453879072342),\n",
       " np.float64(1.2567689037628307),\n",
       " np.float64(1.400036783714689),\n",
       " np.float64(1.4738318586905164),\n",
       " np.float64(1.12088602433258),\n",
       " np.float64(1.7279352652851836),\n",
       " np.float64(0.1676723748946436),\n",
       " np.float64(1.2383967212779716),\n",
       " np.float64(1.9547319774440397),\n",
       " np.float64(0.10308484275739227),\n",
       " np.float64(0.8115586672280155),\n",
       " np.float64(0.7690435682119756),\n",
       " np.float64(1.6384548335892664),\n",
       " np.float64(0.6629918092437119),\n",
       " np.float64(0.775203029238299),\n",
       " np.float64(1.548796633617931),\n",
       " np.float64(0.10564487643592324),\n",
       " np.float64(1.9693508225151244),\n",
       " np.float64(0.5334989095905478),\n",
       " np.float64(0.5624894503696429),\n",
       " np.float64(0.8574871709524801),\n",
       " np.float64(1.9322496275179397),\n",
       " np.float64(0.0012573353934939302),\n",
       " np.float64(1.7711662819000469),\n",
       " np.float64(1.793885716584588),\n",
       " np.float64(0.5529152536850346),\n",
       " np.float64(1.14035547784079),\n",
       " np.float64(0.6298321177969275),\n",
       " np.float64(0.12272771170239416),\n",
       " np.float64(0.7562027750630014),\n",
       " np.float64(0.790151182456228),\n",
       " np.float64(0.39391018162288516),\n",
       " np.float64(1.2638010236975765),\n",
       " np.float64(0.8908227387351764),\n",
       " np.float64(0.7801594382931052),\n",
       " np.float64(0.8173756354763171),\n",
       " np.float64(1.7485133842570595),\n",
       " np.float64(1.0253925149074787),\n",
       " np.float64(1.8739448342852427),\n",
       " np.float64(1.4307489218851372),\n",
       " np.float64(1.4717211192602933),\n",
       " np.float64(0.5361915700969206),\n",
       " np.float64(1.7314264491971676),\n",
       " np.float64(0.814957256667938),\n",
       " np.float64(0.6682708890345206),\n",
       " np.float64(0.9723019897933789),\n",
       " np.float64(0.41404183175800036),\n",
       " np.float64(1.0209915380850583),\n",
       " np.float64(0.6855547793557064),\n",
       " np.float64(1.9286295680811807),\n",
       " np.float64(1.7964253431059225),\n",
       " np.float64(1.6894886619268568),\n",
       " np.float64(0.7202888975849546),\n",
       " np.float64(0.06174456810959983),\n",
       " np.float64(1.0443715610013893),\n",
       " np.float64(1.392420193128408),\n",
       " np.float64(0.16442545014140264),\n",
       " np.float64(0.8794710732610505),\n",
       " np.float64(0.8370604500267502),\n",
       " np.float64(0.6222814115725597),\n",
       " np.float64(0.7274075873706412),\n",
       " np.float64(1.0273468128791816),\n",
       " np.float64(1.8217501880625695),\n",
       " np.float64(1.7104239014673104),\n",
       " np.float64(1.1431439873484457),\n",
       " np.float64(0.5969015548752046),\n",
       " np.float64(1.983715414661593),\n",
       " np.float64(0.39401518960394744),\n",
       " np.float64(1.8979507112835925),\n",
       " np.float64(1.4926454146250718),\n",
       " np.float64(0.7541522702587706),\n",
       " np.float64(0.28632373320220394),\n",
       " np.float64(0.059828597044981),\n",
       " np.float64(1.844687903880622),\n",
       " np.float64(1.631623215127691),\n",
       " np.float64(0.5225339288724182),\n",
       " np.float64(0.575750392281771),\n",
       " np.float64(0.9899581265207238),\n",
       " np.float64(1.3406531323525717),\n",
       " np.float64(1.1805799463114555),\n",
       " np.float64(1.2146953571206522),\n",
       " np.float64(1.2844711871374204),\n",
       " np.float64(1.3530244820896693),\n",
       " np.float64(0.3991841785649748),\n",
       " np.float64(1.531142375786925),\n",
       " np.float64(0.324067495916623),\n",
       " np.float64(0.09059411160564634),\n",
       " np.float64(1.7580897777563427),\n",
       " np.float64(1.7791527392590614),\n",
       " np.float64(0.49789523344374476),\n",
       " np.float64(0.23155864010529092),\n",
       " np.float64(0.8588385340757947),\n",
       " np.float64(0.7814599790624068),\n",
       " np.float64(1.1808044409312182),\n",
       " np.float64(1.3790337641651311),\n",
       " np.float64(1.7355546417492993),\n",
       " np.float64(1.5251853409521687),\n",
       " np.float64(0.27055888638827796),\n",
       " np.float64(0.25567594379793834),\n",
       " np.float64(0.21828433631474797),\n",
       " np.float64(0.4811905957018141),\n",
       " np.float64(1.957673771538713),\n",
       " np.float64(1.662310342589915),\n",
       " np.float64(0.39829445516307294),\n",
       " np.float64(1.8026750045805182),\n",
       " np.float64(1.8773623140080604),\n",
       " np.float64(1.460099390517474),\n",
       " np.float64(1.9673148987125593),\n",
       " np.float64(1.0265088954205444),\n",
       " np.float64(0.54463040304301),\n",
       " np.float64(1.76623186346473),\n",
       " np.float64(0.40839422414494186),\n",
       " np.float64(1.64177378152959),\n",
       " np.float64(0.2412236357150277),\n",
       " np.float64(0.8705552423689784),\n",
       " np.float64(1.7259962624046743),\n",
       " np.float64(0.8139697473834699),\n",
       " np.float64(0.13270126190995568),\n",
       " np.float64(1.0347617279145134),\n",
       " np.float64(0.6017677043786316),\n",
       " np.float64(0.5575306469376398),\n",
       " np.float64(0.7484316518289478),\n",
       " np.float64(1.7546058542231753),\n",
       " np.float64(1.8140549601795803),\n",
       " np.float64(1.7114383882983168),\n",
       " np.float64(1.4869378511137035),\n",
       " np.float64(0.26384976511630875),\n",
       " np.float64(1.7733506037880349),\n",
       " np.float64(0.22502096694137053),\n",
       " np.float64(1.5006425450327028),\n",
       " np.float64(1.7773990526414951),\n",
       " np.float64(0.9077101178590354),\n",
       " np.float64(0.5113276440621866),\n",
       " np.float64(1.3985230276853706),\n",
       " np.float64(0.0657414745272531),\n",
       " np.float64(1.3158194943081816),\n",
       " np.float64(0.44816323540263014),\n",
       " np.float64(0.7406746121937602),\n",
       " np.float64(0.9354804615928844),\n",
       " np.float64(0.029537975829439844),\n",
       " np.float64(0.02701462167539992),\n",
       " np.float64(0.7243180867235313),\n",
       " np.float64(0.4946749297768356),\n",
       " np.float64(1.987769448759957),\n",
       " np.float64(0.5838956540308171),\n",
       " np.float64(0.6817234961546466),\n",
       " np.float64(0.005253049072203364),\n",
       " np.float64(0.0789006889346382),\n",
       " np.float64(0.9211352554990888),\n",
       " np.float64(1.5796659896367904),\n",
       " np.float64(1.44252786871546),\n",
       " np.float64(1.2502238724920385),\n",
       " np.float64(0.7128344451629858),\n",
       " np.float64(1.3587755172006113),\n",
       " np.float64(1.2480841827158469),\n",
       " np.float64(1.6943164682015426),\n",
       " np.float64(0.2000035286849664),\n",
       " np.float64(1.51082901409231),\n",
       " np.float64(0.00768019559190658),\n",
       " np.float64(1.3200834392390692),\n",
       " np.float64(0.9745929749427633),\n",
       " np.float64(1.8586662345669482),\n",
       " np.float64(1.9232201672513514),\n",
       " np.float64(0.08964095957414653),\n",
       " np.float64(1.4589235952680433),\n",
       " np.float64(1.1564517825961658),\n",
       " np.float64(1.4918594177581623),\n",
       " np.float64(0.8455073672759099),\n",
       " np.float64(0.4560819114931727),\n",
       " np.float64(0.3728155596657181),\n",
       " np.float64(1.5498400254863969),\n",
       " np.float64(1.7931938234811458),\n",
       " np.float64(0.31391379454379487),\n",
       " np.float64(0.040943055003107576),\n",
       " np.float64(0.08908245971740492),\n",
       " np.float64(0.6966525252166416),\n",
       " np.float64(1.0092806556864509),\n",
       " np.float64(1.3004324639960227),\n",
       " np.float64(0.5317197372982794),\n",
       " np.float64(1.139346096576758),\n",
       " np.float64(0.2559779441131975),\n",
       " np.float64(1.5436743325748965),\n",
       " np.float64(1.2183334553909464),\n",
       " np.float64(0.8070923609755636),\n",
       " np.float64(1.6118722858057475),\n",
       " np.float64(0.8144235669397066),\n",
       " np.float64(1.0569156163939015),\n",
       " np.float64(1.9366929715537977),\n",
       " np.float64(1.7300191116756656),\n",
       " np.float64(0.8390871653642427),\n",
       " np.float64(0.17003374178093567),\n",
       " np.float64(1.4952055674115428),\n",
       " np.float64(1.690899924055836),\n",
       " np.float64(1.8104513073907316),\n",
       " np.float64(1.375043161032902),\n",
       " np.float64(1.726978877650618),\n",
       " np.float64(0.13666167392083928),\n",
       " np.float64(1.8523226352677828),\n",
       " np.float64(1.8223221658096551),\n",
       " np.float64(0.9189295574523912),\n",
       " np.float64(0.06630203689014191),\n",
       " np.float64(0.8884695318976465),\n",
       " np.float64(1.0265138283202693),\n",
       " np.float64(0.23435318224123813),\n",
       " np.float64(0.15315788914759154),\n",
       " np.float64(1.7955934910508367),\n",
       " np.float64(1.6107127514211985),\n",
       " np.float64(0.8937397575237427),\n",
       " np.float64(1.9347898483487422),\n",
       " np.float64(1.2571407535333292),\n",
       " np.float64(1.2030731456944652),\n",
       " np.float64(1.544513108844355),\n",
       " np.float64(1.7473087969978058),\n",
       " np.float64(1.6237233002553233),\n",
       " np.float64(0.4564973529958205),\n",
       " np.float64(0.9781887074611046),\n",
       " np.float64(1.300014792321412),\n",
       " np.float64(0.4883378100110509),\n",
       " np.float64(0.8900267514552851),\n",
       " np.float64(1.1201652537284548),\n",
       " np.float64(1.3865725917167933),\n",
       " np.float64(1.8901041762103252),\n",
       " np.float64(0.6406262101716311),\n",
       " np.float64(1.4296267854940656),\n",
       " np.float64(1.5141833613447206),\n",
       " np.float64(0.9931261256889314),\n",
       " np.float64(1.9057222810191818),\n",
       " np.float64(0.39121461489145926),\n",
       " np.float64(1.471307266958336),\n",
       " np.float64(0.89540750010825),\n",
       " np.float64(1.3809793308233012),\n",
       " np.float64(1.021894833791133),\n",
       " np.float64(0.6521749375803494),\n",
       " np.float64(1.0482702758889602),\n",
       " np.float64(0.767843421580755),\n",
       " np.float64(1.592515682838664),\n",
       " np.float64(1.8210461447875606),\n",
       " np.float64(1.2181061577082082),\n",
       " np.float64(1.2482239539235271),\n",
       " np.float64(0.6865796499999015),\n",
       " np.float64(0.989653935903757),\n",
       " np.float64(0.8453609393931545),\n",
       " np.float64(1.0285381765415442),\n",
       " np.float64(1.8843049109001777),\n",
       " np.float64(1.6845060974512214),\n",
       " np.float64(0.0677859791940596),\n",
       " np.float64(1.541085850364849),\n",
       " np.float64(0.3174218370055155),\n",
       " np.float64(1.7273705779398933),\n",
       " np.float64(0.3490416938210823),\n",
       " np.float64(0.7367403754951325),\n",
       " np.float64(0.5164698327232196),\n",
       " np.float64(0.34269976577458006),\n",
       " np.float64(1.9790316198713909),\n",
       " np.float64(0.15348555901313787),\n",
       " np.float64(1.8599913900699396),\n",
       " np.float64(0.12851585911081553),\n",
       " np.float64(1.0767951666725895),\n",
       " np.float64(1.7383652544885257),\n",
       " np.float64(1.594657806768205),\n",
       " np.float64(1.325836747744923),\n",
       " np.float64(1.9044691782602465),\n",
       " np.float64(0.7508544123559167),\n",
       " np.float64(0.7180303307499127),\n",
       " np.float64(0.5946832296042883),\n",
       " np.float64(0.047268392935704284),\n",
       " np.float64(1.3992960661892409),\n",
       " np.float64(1.0747532089347593),\n",
       " np.float64(1.6034200332516038),\n",
       " np.float64(1.5411236039613314),\n",
       " np.float64(0.6747821151427269),\n",
       " np.float64(1.0973935424059753),\n",
       " np.float64(1.5804947516256629),\n",
       " np.float64(1.6821174820069171),\n",
       " np.float64(1.271372497701884),\n",
       " np.float64(1.7365724209180147),\n",
       " np.float64(1.6647685227669324),\n",
       " np.float64(0.017495765451040146),\n",
       " np.float64(1.2531120561094071),\n",
       " np.float64(1.096642108278651),\n",
       " np.float64(1.7552498453344014),\n",
       " np.float64(0.702322954717483),\n",
       " np.float64(1.5107600077540604),\n",
       " np.float64(0.7926474268073782),\n",
       " np.float64(0.6191825425154707),\n",
       " np.float64(1.763645810643543),\n",
       " np.float64(0.7408527276805332),\n",
       " np.float64(1.2101370409607528),\n",
       " np.float64(0.05241871896487127),\n",
       " np.float64(0.19759787455197064),\n",
       " np.float64(1.6429447664711698),\n",
       " np.float64(1.3647489852951733),\n",
       " np.float64(1.2592994588318072),\n",
       " np.float64(1.308484951577996),\n",
       " np.float64(0.38368197872042553),\n",
       " np.float64(0.20658741386564095),\n",
       " np.float64(0.6141716927733374),\n",
       " np.float64(0.5595741490452311),\n",
       " np.float64(0.9505453278751452),\n",
       " np.float64(1.546421543383176),\n",
       " np.float64(0.6447184080996693),\n",
       " np.float64(1.7174192606524477),\n",
       " np.float64(1.0712089819479478),\n",
       " np.float64(0.6485903647861964),\n",
       " np.float64(1.0089996367723062),\n",
       " np.float64(0.545994968818428),\n",
       " np.float64(1.716289197902719),\n",
       " np.float64(0.30329983160918705),\n",
       " np.float64(1.2249023963436123),\n",
       " np.float64(1.4064655330647007),\n",
       " np.float64(1.6204543274876264),\n",
       " np.float64(0.9088475597983443),\n",
       " np.float64(1.2058580347188037),\n",
       " np.float64(0.47188496791247214),\n",
       " np.float64(0.2698682763996627),\n",
       " np.float64(1.556791708201738),\n",
       " np.float64(0.9731028229364045),\n",
       " np.float64(0.7448768383531819),\n",
       " np.float64(1.8926215497775338),\n",
       " np.float64(0.14307598519086961),\n",
       " np.float64(1.1238610305887804),\n",
       " np.float64(0.7049049762195996),\n",
       " np.float64(1.948712981362067),\n",
       " np.float64(0.6150889508643307),\n",
       " np.float64(1.2092912206368336),\n",
       " np.float64(0.9624702248500208),\n",
       " np.float64(0.7247627980531421),\n",
       " np.float64(0.771264684740044),\n",
       " np.float64(1.31190636588503),\n",
       " np.float64(1.373526556589467),\n",
       " np.float64(1.2661497177918573),\n",
       " np.float64(0.7738016060560955),\n",
       " np.float64(1.6998441532766824),\n",
       " np.float64(1.8528809459340283),\n",
       " np.float64(1.418638107483651),\n",
       " np.float64(0.682175320007087),\n",
       " np.float64(0.6235886735533209),\n",
       " np.float64(0.027495059514909492),\n",
       " np.float64(0.5627094669991941),\n",
       " np.float64(1.8959796411086145),\n",
       " np.float64(1.5510407564013424),\n",
       " np.float64(1.5145668761426185),\n",
       " np.float64(0.10078982798875935),\n",
       " np.float64(1.2525933286071327),\n",
       " np.float64(1.6397670830098097),\n",
       " np.float64(0.28780769477042467),\n",
       " np.float64(0.05678373014352123),\n",
       " np.float64(1.1845244494377065),\n",
       " np.float64(1.4311938427967599),\n",
       " np.float64(1.7065757618372028),\n",
       " np.float64(1.5385945343051683),\n",
       " np.float64(0.9796894323123386),\n",
       " np.float64(1.6656274187392965),\n",
       " np.float64(1.477897887515457),\n",
       " np.float64(0.40752345057687966),\n",
       " np.float64(1.4236685342154103),\n",
       " np.float64(0.6738338564792965),\n",
       " np.float64(1.0528661980700147),\n",
       " np.float64(1.4297159123447292),\n",
       " np.float64(0.33244305309401745),\n",
       " np.float64(0.022505917104762574),\n",
       " np.float64(0.21313379271292643),\n",
       " np.float64(0.7736020359916054),\n",
       " np.float64(0.9859934721080781),\n",
       " np.float64(1.8713930100597234),\n",
       " np.float64(0.8854044728105952),\n",
       " np.float64(0.28776603477492646),\n",
       " np.float64(0.8460537567584336),\n",
       " np.float64(1.2157449063750645),\n",
       " np.float64(0.36273068797049257),\n",
       " np.float64(0.9151725931379513),\n",
       " np.float64(0.09692624531049177),\n",
       " np.float64(0.11494718368677614),\n",
       " np.float64(0.4103924424813452),\n",
       " np.float64(1.061892551427173),\n",
       " np.float64(0.8555809032172297),\n",
       " np.float64(0.6540343987635848),\n",
       " np.float64(1.6764303035222585),\n",
       " np.float64(1.9115059147706277),\n",
       " np.float64(1.2654520897173758),\n",
       " np.float64(0.13061048015785515),\n",
       " np.float64(0.2063959950086336),\n",
       " np.float64(0.5701719682526132),\n",
       " np.float64(0.18235609532510555),\n",
       " np.float64(1.8580041738287194),\n",
       " np.float64(1.7624768160530213),\n",
       " np.float64(1.9959425270265612),\n",
       " np.float64(1.756936270009558),\n",
       " np.float64(0.2827776387996743),\n",
       " np.float64(0.6792319924070729),\n",
       " np.float64(0.5508052337853482),\n",
       " np.float64(1.5762631668282594),\n",
       " np.float64(1.1652721756167437),\n",
       " np.float64(1.8800194160708255),\n",
       " np.float64(0.6735291076856949),\n",
       " np.float64(1.3057693295215278),\n",
       " np.float64(1.5344552886857716),\n",
       " np.float64(0.2653217299400217),\n",
       " np.float64(1.0163915370371763),\n",
       " np.float64(1.0741939926104114),\n",
       " np.float64(0.030105907303946244),\n",
       " np.float64(0.3655898272927789),\n",
       " np.float64(0.6585078172409227),\n",
       " np.float64(1.8847146337010388),\n",
       " np.float64(0.203122047581614),\n",
       " np.float64(0.6660276534142124),\n",
       " np.float64(0.7787880608680207),\n",
       " np.float64(1.3792767088949551),\n",
       " np.float64(0.49324535743757525),\n",
       " np.float64(1.4177812910346266),\n",
       " np.float64(0.6687422916859129),\n",
       " np.float64(1.2019967746658562),\n",
       " np.float64(0.9587183651277056),\n",
       " np.float64(1.7001893591041777),\n",
       " np.float64(0.7834949593853207),\n",
       " np.float64(1.6331379862996849),\n",
       " np.float64(0.7380976003483992),\n",
       " np.float64(0.5000526233511657),\n",
       " np.float64(1.3193899386553694),\n",
       " np.float64(0.28603710619063727),\n",
       " np.float64(1.713565769470951),\n",
       " np.float64(1.7384329589916738),\n",
       " np.float64(0.01444283968539617),\n",
       " np.float64(1.2659210691704716),\n",
       " np.float64(0.8088310001463397),\n",
       " np.float64(1.235424563545152),\n",
       " np.float64(0.1894130105538938),\n",
       " np.float64(1.5579322315651016),\n",
       " np.float64(0.14786641807697687),\n",
       " np.float64(1.5165146877701643),\n",
       " np.float64(1.7817537218453414),\n",
       " np.float64(1.0024719083332068),\n",
       " np.float64(1.8481703638871787),\n",
       " np.float64(1.744095575446211),\n",
       " np.float64(0.2854614895141603),\n",
       " np.float64(0.2203636863062477),\n",
       " np.float64(1.2048811835992834),\n",
       " np.float64(1.358360186805566),\n",
       " np.float64(1.3758196509227505),\n",
       " np.float64(0.9248028312908811),\n",
       " np.float64(1.395870172397804),\n",
       " np.float64(1.5715107332552944),\n",
       " np.float64(0.9159097794133495),\n",
       " np.float64(0.9741324303113506),\n",
       " np.float64(1.5256514711852127),\n",
       " np.float64(0.49334728212784684),\n",
       " np.float64(1.1079309440126808),\n",
       " np.float64(0.8528148627867302),\n",
       " np.float64(1.232600426063285),\n",
       " np.float64(0.3177129547502193),\n",
       " np.float64(1.5510880985826068),\n",
       " np.float64(1.508120051324168),\n",
       " np.float64(0.06288028607013785),\n",
       " np.float64(1.378981877985497),\n",
       " np.float64(0.5915391822635867),\n",
       " np.float64(1.7898313845789107),\n",
       " np.float64(1.529815699259279),\n",
       " np.float64(1.15820405466741),\n",
       " np.float64(0.12579080883450144),\n",
       " np.float64(1.5537191514695188),\n",
       " np.float64(0.9765674049861612),\n",
       " np.float64(1.5581760456343219),\n",
       " np.float64(0.7381901529784494),\n",
       " np.float64(1.351254249631118),\n",
       " np.float64(1.6423539172158803),\n",
       " np.float64(1.5145376112967388),\n",
       " np.float64(0.6247869240172619),\n",
       " np.float64(1.9085425383561647),\n",
       " np.float64(1.3346336022937817),\n",
       " np.float64(1.7384919740934741),\n",
       " np.float64(1.5049288810099144),\n",
       " np.float64(0.7205921559271333),\n",
       " np.float64(1.452041278899606),\n",
       " np.float64(0.9916382168910256),\n",
       " np.float64(1.2323935538521957),\n",
       " np.float64(1.7289052478084295),\n",
       " np.float64(1.970105808791247),\n",
       " np.float64(0.30318743097580136),\n",
       " np.float64(1.3935645237404544),\n",
       " np.float64(1.0249187524884529),\n",
       " np.float64(0.344004778804323),\n",
       " np.float64(0.22188174986639653),\n",
       " np.float64(0.10155999853603559),\n",
       " np.float64(1.666333980339638),\n",
       " np.float64(1.474424011774103),\n",
       " np.float64(1.2078151591141972),\n",
       " np.float64(1.7320850352162784),\n",
       " np.float64(1.2918860095534417),\n",
       " np.float64(0.6646901380123955),\n",
       " np.float64(1.3124929145064261),\n",
       " np.float64(1.6315103466511651),\n",
       " np.float64(0.38112075244563504),\n",
       " np.float64(1.6725351926446088),\n",
       " np.float64(1.088457536598623),\n",
       " np.float64(1.8964677904022225),\n",
       " np.float64(0.9009626204752337),\n",
       " np.float64(0.041903668900468816),\n",
       " np.float64(0.41769292316962425),\n",
       " np.float64(1.3560823355193632),\n",
       " np.float64(1.0188187630422356),\n",
       " np.float64(0.3742612897621278),\n",
       " np.float64(0.10349196685945272),\n",
       " np.float64(0.11771133398579758),\n",
       " np.float64(1.5245428610675544),\n",
       " np.float64(0.048071107391275625),\n",
       " np.float64(0.5227395989916144),\n",
       " np.float64(1.9598394358863016),\n",
       " np.float64(1.6688209150366986),\n",
       " np.float64(1.9708702771364148),\n",
       " np.float64(1.1929947099219558),\n",
       " np.float64(0.7947488674704772),\n",
       " np.float64(1.0211009097824792),\n",
       " np.float64(0.5021563693205033),\n",
       " np.float64(0.548631046925711),\n",
       " np.float64(0.4910918538963951),\n",
       " np.float64(0.4975690893389175),\n",
       " np.float64(0.8456538474127824),\n",
       " np.float64(1.2334073098825493),\n",
       " np.float64(1.6951914296429542),\n",
       " np.float64(0.36010037620895763),\n",
       " np.float64(0.060763012326331856),\n",
       " np.float64(1.943334362033088),\n",
       " np.float64(0.8361624787418402),\n",
       " np.float64(0.42708396109743596),\n",
       " np.float64(0.26287871810691277),\n",
       " np.float64(1.5468853940425076),\n",
       " np.float64(0.2600333378933264),\n",
       " np.float64(0.9171857602865117),\n",
       " np.float64(0.777481416434519),\n",
       " np.float64(1.8813150813480828),\n",
       " np.float64(0.21127119242182157),\n",
       " np.float64(0.252578491955761),\n",
       " np.float64(0.10777042480299603),\n",
       " np.float64(1.2803057640787956),\n",
       " np.float64(1.7127104621744196),\n",
       " np.float64(0.5279460036969899),\n",
       " np.float64(0.8273168919936074),\n",
       " np.float64(0.26110174946121534),\n",
       " np.float64(0.08038095785218147),\n",
       " np.float64(1.1278862257512317),\n",
       " np.float64(0.5706478101676502),\n",
       " np.float64(0.07452966999869126),\n",
       " np.float64(0.5639620638748417),\n",
       " np.float64(0.07271555605394231),\n",
       " np.float64(1.324118744426703),\n",
       " np.float64(0.6761218864557466),\n",
       " np.float64(1.1416068412194926),\n",
       " np.float64(0.7032234505481629),\n",
       " np.float64(1.5610494565928132),\n",
       " np.float64(1.9634562576135444),\n",
       " np.float64(0.11935928522377592),\n",
       " np.float64(1.4897864384815411),\n",
       " np.float64(1.3917959777505315),\n",
       " np.float64(1.8813314380804635),\n",
       " np.float64(1.3105401358988364),\n",
       " np.float64(0.5578373498652274),\n",
       " np.float64(0.14943076346573392),\n",
       " np.float64(1.5498359890746671),\n",
       " np.float64(0.18108264221319303),\n",
       " np.float64(1.2858829824381621),\n",
       " np.float64(0.11009901750951068),\n",
       " np.float64(0.6863225708353522),\n",
       " np.float64(0.35090624831261574),\n",
       " np.float64(1.4140960147651016),\n",
       " np.float64(0.5763679727828974),\n",
       " np.float64(1.1916917938501284),\n",
       " np.float64(0.03075294750234403),\n",
       " np.float64(0.291090074584506),\n",
       " np.float64(1.2749782542268395),\n",
       " np.float64(0.9460735643331093),\n",
       " np.float64(0.20126783040014584),\n",
       " np.float64(1.5603573685054115),\n",
       " np.float64(1.9783198033999592),\n",
       " np.float64(1.8928115669103533),\n",
       " np.float64(1.6159352418965818),\n",
       " np.float64(1.8839002338689097),\n",
       " np.float64(0.20617517471869062),\n",
       " np.float64(0.8270609327597522),\n",
       " np.float64(0.24573575808293557),\n",
       " np.float64(1.6484558307308619),\n",
       " np.float64(0.7467076609841112),\n",
       " np.float64(0.685144146785273),\n",
       " np.float64(1.3455096112883878),\n",
       " np.float64(0.3395739234834554),\n",
       " np.float64(1.093282873206851),\n",
       " np.float64(0.4110121888545615),\n",
       " np.float64(1.5066756245194217),\n",
       " np.float64(0.021852259440940713),\n",
       " np.float64(1.4711671847032626),\n",
       " np.float64(1.6022324274135358),\n",
       " np.float64(0.583208800723205),\n",
       " np.float64(1.3846185901646908),\n",
       " np.float64(0.9435602650387951),\n",
       " np.float64(0.25438982314053815),\n",
       " np.float64(1.7962956335510862),\n",
       " np.float64(0.2642264126364604),\n",
       " np.float64(1.9422275385298688),\n",
       " np.float64(0.7061252367239346),\n",
       " np.float64(0.03496150087012784),\n",
       " np.float64(1.6060514059473456),\n",
       " np.float64(0.35952371429372243),\n",
       " np.float64(0.1420014762642925),\n",
       " np.float64(0.8735504601380997),\n",
       " np.float64(0.14650302400870197),\n",
       " np.float64(1.0469159288385745),\n",
       " np.float64(0.33476590499893777),\n",
       " np.float64(0.5792849210943047),\n",
       " np.float64(1.2961355877562748),\n",
       " np.float64(1.1807024721453614),\n",
       " np.float64(0.503742242717085),\n",
       " np.float64(0.25500051811512603),\n",
       " np.float64(1.5498593055885093),\n",
       " np.float64(0.4095934504608789),\n",
       " np.float64(0.0394950351010841),\n",
       " np.float64(1.255766800696088),\n",
       " np.float64(0.961065051681421),\n",
       " np.float64(0.2591773881398305),\n",
       " np.float64(1.4390543887463965),\n",
       " np.float64(0.3327084795617783),\n",
       " np.float64(0.2836745200092101),\n",
       " np.float64(0.3295696989238943),\n",
       " np.float64(1.9190492447717755),\n",
       " np.float64(0.5351742161389532),\n",
       " np.float64(0.594970202691359),\n",
       " np.float64(0.967571267928258),\n",
       " np.float64(1.7282285744089687),\n",
       " np.float64(0.9206221765268294),\n",
       " np.float64(0.19654357336823658),\n",
       " np.float64(1.046787932507098),\n",
       " np.float64(0.07421709663865039),\n",
       " np.float64(1.2693676643627316),\n",
       " np.float64(0.05755717685550432),\n",
       " np.float64(1.4141281404511934),\n",
       " np.float64(0.9493127184682344),\n",
       " np.float64(0.49541533137883476),\n",
       " np.float64(1.2986121388840415),\n",
       " np.float64(0.5077605960016702),\n",
       " np.float64(0.0776570083456889),\n",
       " np.float64(0.7512900504108162),\n",
       " np.float64(0.475347918496448),\n",
       " np.float64(0.45740525722397263),\n",
       " np.float64(0.5692951480952257),\n",
       " np.float64(1.909492739336666),\n",
       " np.float64(1.382601263148652),\n",
       " np.float64(1.4012364107759399),\n",
       " np.float64(1.1914479626482686),\n",
       " np.float64(1.6351477085752817),\n",
       " np.float64(1.2546478674618422),\n",
       " np.float64(0.3905011353650263),\n",
       " np.float64(1.6266750882792753),\n",
       " np.float64(0.10734700252624796),\n",
       " np.float64(0.17221473222181904),\n",
       " np.float64(1.4219705680787966),\n",
       " np.float64(1.5977532711455877),\n",
       " np.float64(0.2103067536109966),\n",
       " np.float64(0.5694598329702276),\n",
       " np.float64(0.9907476410419387),\n",
       " np.float64(0.0995675248132788),\n",
       " np.float64(1.2147857158199327),\n",
       " np.float64(0.6206958358400201),\n",
       " np.float64(0.7679712236152239),\n",
       " np.float64(0.11242026277196837),\n",
       " np.float64(1.7103650353301465),\n",
       " np.float64(0.8354077822467776),\n",
       " np.float64(1.7874006953964008),\n",
       " np.float64(0.8054103487001669),\n",
       " np.float64(0.26020293419968077),\n",
       " np.float64(0.507897710698334),\n",
       " np.float64(1.8908014037470395),\n",
       " np.float64(0.504303925801304),\n",
       " np.float64(1.575113200834434),\n",
       " np.float64(0.14552931717079676),\n",
       " np.float64(1.8880132810946306),\n",
       " np.float64(1.291769691115612),\n",
       " np.float64(0.18418326278575026),\n",
       " np.float64(1.852882568358873),\n",
       " np.float64(0.9601140903284919),\n",
       " np.float64(1.3727941571714735),\n",
       " np.float64(0.6918189512463797),\n",
       " np.float64(1.0028817960935188),\n",
       " np.float64(0.3392553555771254),\n",
       " np.float64(0.13864758847241698),\n",
       " np.float64(0.4707847423249907),\n",
       " np.float64(0.6887390733315819),\n",
       " np.float64(1.1119416341439239),\n",
       " np.float64(0.3416573602375892),\n",
       " np.float64(0.4761702907003218),\n",
       " np.float64(1.2741761408521008),\n",
       " np.float64(0.9760269541128705),\n",
       " np.float64(0.7481413370880752),\n",
       " np.float64(0.6460213221503981),\n",
       " np.float64(1.1614040728459956),\n",
       " np.float64(1.699939422781806),\n",
       " np.float64(0.7121130688123751),\n",
       " np.float64(0.9541464870466034),\n",
       " np.float64(0.8754266796291854),\n",
       " np.float64(1.4907643485687623),\n",
       " np.float64(1.5720828027842388),\n",
       " np.float64(0.7007554176257551),\n",
       " np.float64(1.7991691726875216),\n",
       " np.float64(1.6459220933855239),\n",
       " np.float64(1.751736270164049),\n",
       " np.float64(1.6886386108599571),\n",
       " np.float64(0.5941725820651516),\n",
       " np.float64(0.5745515695929213),\n",
       " np.float64(0.9974325060389837),\n",
       " np.float64(0.22840596356795806),\n",
       " np.float64(1.9633023366843012),\n",
       " np.float64(1.8179821121651298),\n",
       " np.float64(0.7458369001641534),\n",
       " np.float64(1.625767548161299),\n",
       " np.float64(1.8912421188965884),\n",
       " np.float64(1.3003226741480136),\n",
       " np.float64(1.2231710117483152),\n",
       " np.float64(0.627248006944007),\n",
       " np.float64(1.4449859339973143),\n",
       " np.float64(0.3518455732726331),\n",
       " np.float64(1.884270470217048),\n",
       " np.float64(0.3581588937190865),\n",
       " np.float64(1.3626839833055522),\n",
       " np.float64(0.32815764190784424),\n",
       " np.float64(1.1495551296844926),\n",
       " np.float64(1.841237908209374),\n",
       " np.float64(0.42690124675088503),\n",
       " np.float64(1.9054344629412732),\n",
       " np.float64(0.23197521207708416),\n",
       " np.float64(0.22484759510197772),\n",
       " np.float64(0.2901648676699835),\n",
       " np.float64(1.1193953152086638),\n",
       " np.float64(0.3776720858455742),\n",
       " np.float64(0.11724499608788075),\n",
       " np.float64(0.012940309284067197),\n",
       " np.float64(0.7319410518322593),\n",
       " np.float64(0.41272273234978485),\n",
       " np.float64(0.38599730238436236),\n",
       " np.float64(1.1956669893704528),\n",
       " np.float64(1.1749827983015464),\n",
       " np.float64(0.5489211244542589),\n",
       " np.float64(0.5242265548021963),\n",
       " np.float64(1.8510682654489226),\n",
       " np.float64(0.8834784732628791),\n",
       " np.float64(1.4230720163846828),\n",
       " np.float64(0.7998563750893231),\n",
       " np.float64(0.34163636013665966),\n",
       " np.float64(0.22967609927605426),\n",
       " np.float64(1.1382790441821895),\n",
       " np.float64(1.2906572833772378),\n",
       " np.float64(0.45115950443285313),\n",
       " np.float64(1.2673906857605035),\n",
       " np.float64(0.16994889906453037),\n",
       " np.float64(0.32367564004679283),\n",
       " np.float64(1.4382914830663938),\n",
       " np.float64(1.8377234414208008),\n",
       " np.float64(0.8461134385566975),\n",
       " np.float64(1.39120802430907),\n",
       " np.float64(0.3494650152442236),\n",
       " np.float64(0.8703812764869239),\n",
       " np.float64(0.7416272755550211),\n",
       " np.float64(1.370915408563131),\n",
       " np.float64(0.6673580189229593),\n",
       " np.float64(0.2323910473891182),\n",
       " np.float64(0.6242830725837647),\n",
       " np.float64(0.1274422411851326),\n",
       " np.float64(1.21605556726841),\n",
       " np.float64(1.3348844735226633),\n",
       " np.float64(1.195095554244957),\n",
       " np.float64(0.17384917766309926),\n",
       " np.float64(1.8112139363365287),\n",
       " np.float64(0.8138610346492994),\n",
       " np.float64(1.2455677376175365),\n",
       " np.float64(1.0703845815012287),\n",
       " np.float64(1.0116690414835856),\n",
       " np.float64(0.04903202350608349),\n",
       " np.float64(0.13083452092138548),\n",
       " np.float64(0.17121836577475968),\n",
       " np.float64(0.9344278986091572),\n",
       " np.float64(0.8195325249150056),\n",
       " np.float64(0.004530869827153339),\n",
       " np.float64(1.4888707581780956),\n",
       " np.float64(0.9431549002819899),\n",
       " np.float64(0.9704425367949021),\n",
       " np.float64(1.1493888286179508),\n",
       " np.float64(1.1055913119826433),\n",
       " np.float64(1.617329053200187),\n",
       " np.float64(1.4974349698139202),\n",
       " np.float64(0.07345440727424912),\n",
       " np.float64(1.3126865305858495),\n",
       " np.float64(1.7517734200122042),\n",
       " np.float64(0.7558323054944529),\n",
       " np.float64(0.1899848159826394),\n",
       " np.float64(0.132440916414303),\n",
       " np.float64(1.1448025278730964),\n",
       " np.float64(1.0459066723153359),\n",
       " np.float64(0.5532142686676564),\n",
       " np.float64(1.2238552119321253),\n",
       " np.float64(0.3297890953621416),\n",
       " np.float64(0.6141131851098185),\n",
       " np.float64(1.798492791782769),\n",
       " np.float64(1.343915468022906),\n",
       " np.float64(0.47999264819837206),\n",
       " np.float64(1.231783320623808),\n",
       " np.float64(1.40832947268359),\n",
       " np.float64(0.4329407145217885),\n",
       " np.float64(0.5738004006539752),\n",
       " np.float64(1.5769974610140942),\n",
       " np.float64(0.14672130390176985),\n",
       " np.float64(0.03873688543532894),\n",
       " np.float64(0.5540078530768338),\n",
       " np.float64(1.6399504211733427),\n",
       " np.float64(0.15723578012459005),\n",
       " ...]"
      ]
     },
     "execution_count": 36,
     "metadata": {},
     "output_type": "execute_result"
    }
   ],
   "source": [
    "# Python list\n",
    "lst = list(arr)\n",
    "result_list = [x * 2 for x in lst]\n",
    "result_list"
   ]
  },
  {
   "cell_type": "markdown",
   "metadata": {},
   "source": [
    "### e. Create a function that normalizes the pixel values of the RGB image array to the range [0, 1] and explain the importance of normalization in machine learning."
   ]
  },
  {
   "cell_type": "code",
   "execution_count": 38,
   "metadata": {},
   "outputs": [],
   "source": [
    "def normalize_image(image):\n",
    "   image_float = image.astype(np.float32)\n",
    "   normalized_image = image_float / 255.0\n",
    "   normalized_image = image_float / 255.0"
   ]
  },
  {
   "cell_type": "code",
   "execution_count": 39,
   "metadata": {},
   "outputs": [
    {
     "data": {
      "text/plain": [
       "<function __main__.normalize_image(image)>"
      ]
     },
     "execution_count": 39,
     "metadata": {},
     "output_type": "execute_result"
    }
   ],
   "source": [
    "normalized_image = normalize_image(image)\n",
    "normalize_image"
   ]
  },
  {
   "cell_type": "markdown",
   "metadata": {},
   "source": [
    "## Problem 04: “NumPy for Statistical Analysis”\n",
    "### a. Generate a NumPy array of 1000 random numbers and calculate basic statistics (mean, median,variance)."
   ]
  },
  {
   "cell_type": "code",
   "execution_count": 40,
   "metadata": {},
   "outputs": [
    {
     "data": {
      "text/plain": [
       "np.float64(0.5106061857258893)"
      ]
     },
     "execution_count": 40,
     "metadata": {},
     "output_type": "execute_result"
    }
   ],
   "source": [
    "random_numbers = np.random.rand(1000)\n",
    "mean = np.mean(random_numbers)\n",
    "mean\n"
   ]
  },
  {
   "cell_type": "code",
   "execution_count": 41,
   "metadata": {},
   "outputs": [
    {
     "data": {
      "text/plain": [
       "np.float64(0.5058629538838992)"
      ]
     },
     "execution_count": 41,
     "metadata": {},
     "output_type": "execute_result"
    }
   ],
   "source": [
    "median = np.median(random_numbers)\n",
    "median\n"
   ]
  },
  {
   "cell_type": "code",
   "execution_count": 42,
   "metadata": {},
   "outputs": [
    {
     "data": {
      "text/plain": [
       "np.float64(0.08815755553094493)"
      ]
     },
     "execution_count": 42,
     "metadata": {},
     "output_type": "execute_result"
    }
   ],
   "source": [
    "variance = np.var(random_numbers)\n",
    "variance"
   ]
  },
  {
   "cell_type": "markdown",
   "metadata": {},
   "source": [
    "### b. Discuss the differences between population and sample statistics, and calculate both for your generated data."
   ]
  },
  {
   "cell_type": "code",
   "execution_count": 43,
   "metadata": {},
   "outputs": [
    {
     "data": {
      "text/plain": [
       "np.float64(0.5106061857258893)"
      ]
     },
     "execution_count": 43,
     "metadata": {},
     "output_type": "execute_result"
    }
   ],
   "source": [
    "population_mean = np.mean(random_numbers)\n",
    "population_mean"
   ]
  },
  {
   "cell_type": "code",
   "execution_count": 44,
   "metadata": {},
   "outputs": [
    {
     "data": {
      "text/plain": [
       "np.float64(0.08815755553094493)"
      ]
     },
     "execution_count": 44,
     "metadata": {},
     "output_type": "execute_result"
    }
   ],
   "source": [
    "population_variance = np.var(random_numbers)\n",
    "population_variance"
   ]
  },
  {
   "cell_type": "code",
   "execution_count": 45,
   "metadata": {},
   "outputs": [
    {
     "data": {
      "text/plain": [
       "np.float64(0.08824580133227719)"
      ]
     },
     "execution_count": 45,
     "metadata": {},
     "output_type": "execute_result"
    }
   ],
   "source": [
    "sample_variance = np.var(random_numbers, ddof=1)\n",
    "sample_variance"
   ]
  },
  {
   "cell_type": "markdown",
   "metadata": {},
   "source": [
    "### c. Create a histogram of the random numbers using NumPy, and explain how histograms can be usefu for data visualization.\n"
   ]
  },
  {
   "cell_type": "code",
   "execution_count": 47,
   "metadata": {},
   "outputs": [
    {
     "name": "stdout",
     "output_type": "stream",
     "text": [
      "Collecting matplotlib\n",
      "  Downloading matplotlib-3.9.2-cp312-cp312-win_amd64.whl.metadata (11 kB)\n",
      "Collecting contourpy>=1.0.1 (from matplotlib)\n",
      "  Downloading contourpy-1.3.0-cp312-cp312-win_amd64.whl.metadata (5.4 kB)\n",
      "Collecting cycler>=0.10 (from matplotlib)\n",
      "  Downloading cycler-0.12.1-py3-none-any.whl.metadata (3.8 kB)\n",
      "Collecting fonttools>=4.22.0 (from matplotlib)\n",
      "  Downloading fonttools-4.54.1-cp312-cp312-win_amd64.whl.metadata (167 kB)\n",
      "Collecting kiwisolver>=1.3.1 (from matplotlib)\n",
      "  Downloading kiwisolver-1.4.7-cp312-cp312-win_amd64.whl.metadata (6.4 kB)\n",
      "Requirement already satisfied: numpy>=1.23 in c:\\users\\user\\appdata\\local\\programs\\python\\python312\\lib\\site-packages (from matplotlib) (2.1.1)\n",
      "Requirement already satisfied: packaging>=20.0 in c:\\users\\user\\appdata\\roaming\\python\\python312\\site-packages (from matplotlib) (24.1)\n",
      "Collecting pillow>=8 (from matplotlib)\n",
      "  Downloading pillow-10.4.0-cp312-cp312-win_amd64.whl.metadata (9.3 kB)\n",
      "Collecting pyparsing>=2.3.1 (from matplotlib)\n",
      "  Downloading pyparsing-3.2.0-py3-none-any.whl.metadata (5.0 kB)\n",
      "Requirement already satisfied: python-dateutil>=2.7 in c:\\users\\user\\appdata\\roaming\\python\\python312\\site-packages (from matplotlib) (2.9.0.post0)\n",
      "Requirement already satisfied: six>=1.5 in c:\\users\\user\\appdata\\roaming\\python\\python312\\site-packages (from python-dateutil>=2.7->matplotlib) (1.16.0)\n",
      "Downloading matplotlib-3.9.2-cp312-cp312-win_amd64.whl (7.8 MB)\n",
      "   ---------------------------------------- 0.0/7.8 MB ? eta -:--:--\n",
      "   ---------------------------------------- 0.0/7.8 MB ? eta -:--:--\n",
      "   -- ------------------------------------- 0.5/7.8 MB 1.9 MB/s eta 0:00:04\n",
      "   -- ------------------------------------- 0.5/7.8 MB 1.9 MB/s eta 0:00:04\n",
      "   ---- ----------------------------------- 0.8/7.8 MB 1.0 MB/s eta 0:00:07\n",
      "   ----- ---------------------------------- 1.0/7.8 MB 1.2 MB/s eta 0:00:06\n",
      "   ------ --------------------------------- 1.3/7.8 MB 959.4 kB/s eta 0:00:07\n",
      "   -------- ------------------------------- 1.6/7.8 MB 999.0 kB/s eta 0:00:07\n",
      "   -------- ------------------------------- 1.6/7.8 MB 999.0 kB/s eta 0:00:07\n",
      "   -------- ------------------------------- 1.6/7.8 MB 999.0 kB/s eta 0:00:07\n",
      "   --------- ------------------------------ 1.8/7.8 MB 868.0 kB/s eta 0:00:07\n",
      "   ---------- ----------------------------- 2.1/7.8 MB 870.1 kB/s eta 0:00:07\n",
      "   ------------ --------------------------- 2.4/7.8 MB 889.0 kB/s eta 0:00:07\n",
      "   ------------ --------------------------- 2.4/7.8 MB 889.0 kB/s eta 0:00:07\n",
      "   ------------- -------------------------- 2.6/7.8 MB 853.3 kB/s eta 0:00:07\n",
      "   -------------- ------------------------- 2.9/7.8 MB 873.8 kB/s eta 0:00:06\n",
      "   -------------- ------------------------- 2.9/7.8 MB 873.8 kB/s eta 0:00:06\n",
      "   -------------- ------------------------- 2.9/7.8 MB 873.8 kB/s eta 0:00:06\n",
      "   ----------------- ---------------------- 3.4/7.8 MB 860.4 kB/s eta 0:00:06\n",
      "   ----------------- ---------------------- 3.4/7.8 MB 860.4 kB/s eta 0:00:06\n",
      "   ------------------ --------------------- 3.7/7.8 MB 832.6 kB/s eta 0:00:05\n",
      "   -------------------- ------------------- 3.9/7.8 MB 827.1 kB/s eta 0:00:05\n",
      "   -------------------- ------------------- 3.9/7.8 MB 827.1 kB/s eta 0:00:05\n",
      "   -------------------- ------------------- 3.9/7.8 MB 827.1 kB/s eta 0:00:05\n",
      "   --------------------- ------------------ 4.2/7.8 MB 801.5 kB/s eta 0:00:05\n",
      "   --------------------- ------------------ 4.2/7.8 MB 801.5 kB/s eta 0:00:05\n",
      "   --------------------- ------------------ 4.2/7.8 MB 801.5 kB/s eta 0:00:05\n",
      "   ---------------------- ----------------- 4.5/7.8 MB 749.9 kB/s eta 0:00:05\n",
      "   ---------------------- ----------------- 4.5/7.8 MB 749.9 kB/s eta 0:00:05\n",
      "   ---------------------- ----------------- 4.5/7.8 MB 749.9 kB/s eta 0:00:05\n",
      "   ------------------------ --------------- 4.7/7.8 MB 718.4 kB/s eta 0:00:05\n",
      "   ------------------------ --------------- 4.7/7.8 MB 718.4 kB/s eta 0:00:05\n",
      "   ------------------------- -------------- 5.0/7.8 MB 694.2 kB/s eta 0:00:05\n",
      "   ------------------------- -------------- 5.0/7.8 MB 694.2 kB/s eta 0:00:05\n",
      "   ------------------------- -------------- 5.0/7.8 MB 694.2 kB/s eta 0:00:05\n",
      "   -------------------------- ------------- 5.2/7.8 MB 674.0 kB/s eta 0:00:04\n",
      "   -------------------------- ------------- 5.2/7.8 MB 674.0 kB/s eta 0:00:04\n",
      "   -------------------------- ------------- 5.2/7.8 MB 674.0 kB/s eta 0:00:04\n",
      "   ---------------------------- ----------- 5.5/7.8 MB 660.6 kB/s eta 0:00:04\n",
      "   ---------------------------- ----------- 5.5/7.8 MB 660.6 kB/s eta 0:00:04\n",
      "   ----------------------------- ---------- 5.8/7.8 MB 650.1 kB/s eta 0:00:04\n",
      "   ----------------------------- ---------- 5.8/7.8 MB 650.1 kB/s eta 0:00:04\n",
      "   ----------------------------- ---------- 5.8/7.8 MB 650.1 kB/s eta 0:00:04\n",
      "   ------------------------------ --------- 6.0/7.8 MB 643.1 kB/s eta 0:00:03\n",
      "   ------------------------------ --------- 6.0/7.8 MB 643.1 kB/s eta 0:00:03\n",
      "   -------------------------------- ------- 6.3/7.8 MB 638.9 kB/s eta 0:00:03\n",
      "   -------------------------------- ------- 6.3/7.8 MB 638.9 kB/s eta 0:00:03\n",
      "   --------------------------------- ------ 6.6/7.8 MB 633.1 kB/s eta 0:00:03\n",
      "   --------------------------------- ------ 6.6/7.8 MB 633.1 kB/s eta 0:00:03\n",
      "   ---------------------------------- ----- 6.8/7.8 MB 630.8 kB/s eta 0:00:02\n",
      "   ---------------------------------- ----- 6.8/7.8 MB 630.8 kB/s eta 0:00:02\n",
      "   ------------------------------------ --- 7.1/7.8 MB 630.4 kB/s eta 0:00:02\n",
      "   ------------------------------------ --- 7.1/7.8 MB 630.4 kB/s eta 0:00:02\n",
      "   ------------------------------------- -- 7.3/7.8 MB 630.9 kB/s eta 0:00:01\n",
      "   ------------------------------------- -- 7.3/7.8 MB 630.9 kB/s eta 0:00:01\n",
      "   -------------------------------------- - 7.6/7.8 MB 634.0 kB/s eta 0:00:01\n",
      "   ---------------------------------------- 7.8/7.8 MB 634.2 kB/s eta 0:00:00\n",
      "Downloading contourpy-1.3.0-cp312-cp312-win_amd64.whl (218 kB)\n",
      "Downloading cycler-0.12.1-py3-none-any.whl (8.3 kB)\n",
      "Downloading fonttools-4.54.1-cp312-cp312-win_amd64.whl (2.2 MB)\n",
      "   ---------------------------------------- 0.0/2.2 MB ? eta -:--:--\n",
      "   ---------------------------------------- 0.0/2.2 MB ? eta -:--:--\n",
      "   ---- ----------------------------------- 0.3/2.2 MB ? eta -:--:--\n",
      "   --------- ------------------------------ 0.5/2.2 MB 1.0 MB/s eta 0:00:02\n",
      "   -------------- ------------------------- 0.8/2.2 MB 1.0 MB/s eta 0:00:02\n",
      "   ------------------- -------------------- 1.0/2.2 MB 1.1 MB/s eta 0:00:02\n",
      "   ----------------------- ---------------- 1.3/2.2 MB 1.1 MB/s eta 0:00:01\n",
      "   ----------------------- ---------------- 1.3/2.2 MB 1.1 MB/s eta 0:00:01\n",
      "   ----------------------- ---------------- 1.3/2.2 MB 1.1 MB/s eta 0:00:01\n",
      "   --------------------------------- ------ 1.8/2.2 MB 986.7 kB/s eta 0:00:01\n",
      "   --------------------------------- ------ 1.8/2.2 MB 986.7 kB/s eta 0:00:01\n",
      "   -------------------------------------- - 2.1/2.2 MB 924.4 kB/s eta 0:00:01\n",
      "   ---------------------------------------- 2.2/2.2 MB 905.3 kB/s eta 0:00:00\n",
      "Downloading kiwisolver-1.4.7-cp312-cp312-win_amd64.whl (55 kB)\n",
      "Downloading pillow-10.4.0-cp312-cp312-win_amd64.whl (2.6 MB)\n",
      "   ---------------------------------------- 0.0/2.6 MB ? eta -:--:--\n",
      "   ---------------------------------------- 0.0/2.6 MB ? eta -:--:--\n",
      "   ---- ----------------------------------- 0.3/2.6 MB ? eta -:--:--\n",
      "   ---- ----------------------------------- 0.3/2.6 MB ? eta -:--:--\n",
      "   -------- ------------------------------- 0.5/2.6 MB 762.0 kB/s eta 0:00:03\n",
      "   ------------ --------------------------- 0.8/2.6 MB 780.2 kB/s eta 0:00:03\n",
      "   ------------ --------------------------- 0.8/2.6 MB 780.2 kB/s eta 0:00:03\n",
      "   ---------------- ----------------------- 1.0/2.6 MB 798.4 kB/s eta 0:00:02\n",
      "   -------------------- ------------------- 1.3/2.6 MB 798.6 kB/s eta 0:00:02\n",
      "   -------------------- ------------------- 1.3/2.6 MB 798.6 kB/s eta 0:00:02\n",
      "   ------------------------ --------------- 1.6/2.6 MB 798.7 kB/s eta 0:00:02\n",
      "   ---------------------------- ----------- 1.8/2.6 MB 792.4 kB/s eta 0:00:01\n",
      "   ---------------------------- ----------- 1.8/2.6 MB 792.4 kB/s eta 0:00:01\n",
      "   -------------------------------- ------- 2.1/2.6 MB 798.9 kB/s eta 0:00:01\n",
      "   ------------------------------------ --- 2.4/2.6 MB 798.9 kB/s eta 0:00:01\n",
      "   ------------------------------------ --- 2.4/2.6 MB 798.9 kB/s eta 0:00:01\n",
      "   ---------------------------------------- 2.6/2.6 MB 789.0 kB/s eta 0:00:00\n",
      "Downloading pyparsing-3.2.0-py3-none-any.whl (106 kB)\n",
      "Installing collected packages: pyparsing, pillow, kiwisolver, fonttools, cycler, contourpy, matplotlib\n",
      "Successfully installed contourpy-1.3.0 cycler-0.12.1 fonttools-4.54.1 kiwisolver-1.4.7 matplotlib-3.9.2 pillow-10.4.0 pyparsing-3.2.0\n",
      "Note: you may need to restart the kernel to use updated packages.\n"
     ]
    },
    {
     "name": "stderr",
     "output_type": "stream",
     "text": [
      "  WARNING: The scripts fonttools.exe, pyftmerge.exe, pyftsubset.exe and ttx.exe are installed in 'c:\\Users\\User\\AppData\\Local\\Programs\\Python\\Python312\\Scripts' which is not on PATH.\n",
      "  Consider adding this directory to PATH or, if you prefer to suppress this warning, use --no-warn-script-location.\n"
     ]
    }
   ],
   "source": [
    "%pip install matplotlib"
   ]
  },
  {
   "cell_type": "code",
   "execution_count": 48,
   "metadata": {},
   "outputs": [
    {
     "name": "stderr",
     "output_type": "stream",
     "text": [
      "Matplotlib is building the font cache; this may take a moment.\n"
     ]
    }
   ],
   "source": [
    "import matplotlib.pyplot as plt"
   ]
  },
  {
   "cell_type": "code",
   "execution_count": 49,
   "metadata": {},
   "outputs": [
    {
     "data": {
      "image/png": "[encoded data removed]",
      "text/plain": [
       "<Figure size 640x480 with 1 Axes>"
      ]
     },
     "metadata": {},
     "output_type": "display_data"
    }
   ],
   "source": [
    "plt.hist(random_numbers, bins=30, color='skyblue', edgecolor='black')\n",
    "plt.title('Histogram of Random Numbers')\n",
    "plt.xlabel('Value')\n",
    "plt.ylabel('Frequency')\n",
    "plt.grid(axis='y', alpha=0.75)\n",
    "plt.show()"
   ]
  },
  {
   "cell_type": "markdown",
   "metadata": {},
   "source": [
    "### d. Implement a method to identify outliers in your dataset using the IQR (Interquartile Range) method"
   ]
  },
  {
   "cell_type": "code",
   "execution_count": 51,
   "metadata": {},
   "outputs": [],
   "source": [
    "def identify_outliers_iqr(data):\n",
    "   Q1 = np.percentile(data, 25)\n",
    "   Q3 = np.percentile(data, 75)\n",
    "   IQR = Q3 - Q1\n",
    "   lower_bound = Q1 - 1.5 * IQR\n",
    "   upper_bound = Q3 + 1.5 * IQR\n",
    "   outliers = (data < lower_bound) | (data > upper_bound)\n",
    "    \n",
    "   return outliers"
   ]
  },
  {
   "cell_type": "code",
   "execution_count": 52,
   "metadata": {},
   "outputs": [
    {
     "data": {
      "text/plain": [
       "np.int64(0)"
      ]
     },
     "execution_count": 52,
     "metadata": {},
     "output_type": "execute_result"
    }
   ],
   "source": [
    "mask = identify_outliers_iqr(random_numbers)\n",
    "num_outliers = np.sum(mask)\n",
    "num_outliers"
   ]
  }
 ],
 "metadata": {
  "kernelspec": {
   "display_name": "Python 3",
   "language": "python",
   "name": "python3"
  },
  "language_info": {
   "codemirror_mode": {
    "name": "ipython",
    "version": 3
   },
   "file_extension": ".py",
   "mimetype": "text/x-python",
   "name": "python",
   "nbconvert_exporter": "python",
   "pygments_lexer": "ipython3",
   "version": "3.12.6"
  }
 },
 "nbformat": 4,
 "nbformat_minor": 2
}
