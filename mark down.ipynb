{
 "cells": [
  {
   "cell_type": "code",
   "execution_count": null,
   "metadata": {},
   "outputs": [],
   "source": []
  },
  {
   "cell_type": "markdown",
   "metadata": {},
   "source": [
    "# Ambreen Khan"
   ]
  },
  {
   "cell_type": "markdown",
   "metadata": {},
   "source": [
    "\n",
    "## AI Class\n"
   ]
  },
  {
   "cell_type": "markdown",
   "metadata": {},
   "source": [
    "### ML"
   ]
  },
  {
   "cell_type": "markdown",
   "metadata": {},
   "source": [
    "#### Python"
   ]
  },
  {
   "cell_type": "markdown",
   "metadata": {},
   "source": [
    "##### mark down"
   ]
  },
  {
   "cell_type": "markdown",
   "metadata": {},
   "source": [
    "###### vs code"
   ]
  },
  {
   "cell_type": "markdown",
   "metadata": {},
   "source": [
    "Paragrahs are not commonly used in markdown  but we will learn how to add paragraphs.\n"
   ]
  },
  {
   "cell_type": "markdown",
   "metadata": {},
   "source": [
    "A line break in markdown  \n",
    "for this add two or more spaces\n"
   ]
  },
  {
   "cell_type": "markdown",
   "metadata": {},
   "source": [
    "**Ambreen khan**"
   ]
  },
  {
   "cell_type": "markdown",
   "metadata": {},
   "source": [
    "Now I wil italicize my name ***Ambreen Khan***"
   ]
  },
  {
   "cell_type": "markdown",
   "metadata": {},
   "source": [
    "1. AI\n",
    "2. ML\n",
    "3. DLD\n",
    "4. WEB PROGRAMMING"
   ]
  },
  {
   "cell_type": "markdown",
   "metadata": {},
   "source": [
    "- C\n",
    "- C++\n",
    "- JAVA\n",
    "- JAVA SCRIPT\n",
    "- PHP\n",
    "- PYTHON"
   ]
  },
  {
   "cell_type": "markdown",
   "metadata": {},
   "source": [
    "***\n"
   ]
  },
  {
   "cell_type": "markdown",
   "metadata": {},
   "source": [
    "(https://www.w3schools.com/python/python_functions.asp)"
   ]
  },
  {
   "cell_type": "markdown",
   "metadata": {},
   "source": [
    "My favorite search engine is [Google](https://google.com )."
   ]
  },
  {
   "cell_type": "markdown",
   "metadata": {},
   "source": [
    "My email is <Ambreenkhan57ak@gmail.com>"
   ]
  },
  {
   "cell_type": "markdown",
   "metadata": {},
   "source": [
    "![A display image!](data:image/jpeg;base64,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)"
   ]
  }
 ],
 "metadata": {
  "kernelspec": {
   "display_name": "Python 3",
   "language": "python",
   "name": "python3"
  },
  "language_info": {
   "codemirror_mode": {
    "name": "ipython",
    "version": 3
   },
   "file_extension": ".py",
   "mimetype": "text/x-python",
   "name": "python",
   "nbconvert_exporter": "python",
   "pygments_lexer": "ipython3",
   "version": "3.12.6"
  }
 },
 "nbformat": 4,
 "nbformat_minor": 2
}
