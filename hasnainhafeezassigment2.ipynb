{
  "nbformat": 4,
  "nbformat_minor": 0,
  "metadata": {
    "colab": {
      "provenance": []
    },
    "kernelspec": {
      "name": "python3",
      "display_name": "Python 3"
    },
    "language_info": {
      "name": "python"
    }
  },
  "cells": [
    {
      "cell_type": "markdown",
      "source": [
        "hasnain hafeez assigment 2 tuesday"
      ],
      "metadata": {
        "id": "_FY5hh0WDuwm"
      }
    },
    {
      "cell_type": "markdown",
      "source": [
        "Problem 01: Understanding NumPy Arrays and Operations\n"
      ],
      "metadata": {
        "id": "H6b8-wnREBuV"
      }
    },
    {
      "cell_type": "markdown",
      "source": [
        "a. Create a NumPy array of shape (4, 5) filled with random integers between 1 and 100."
      ],
      "metadata": {
        "id": "HKZwvDCFEI0c"
      }
    },
    {
      "cell_type": "code",
      "source": [
        "import numpy as np\n",
        "\n",
        "# Create a (4, 5) array with random integers from 1 to 100\n",
        "array_a = np.random.randint(1, 101, size=(4, 5))\n",
        "print(\"Array A:\\n\", array_a)"
      ],
      "metadata": {
        "colab": {
          "base_uri": "https://localhost:8080/"
        },
        "id": "HPjC6WnpEOos",
        "outputId": "b81b1dde-84a7-40c7-9332-bb2293a68e5f"
      },
      "execution_count": null,
      "outputs": [
        {
          "output_type": "stream",
          "name": "stdout",
          "text": [
            "Array A:\n",
            " [[28 45 44 85 73]\n",
            " [ 3 59 11 36 42]\n",
            " [ 8 72 38 24 27]\n",
            " [ 7 88 96 52 58]]\n"
          ]
        }
      ]
    },
    {
      "cell_type": "code",
      "source": [],
      "metadata": {
        "id": "Z4kFXTcOEFUk"
      },
      "execution_count": null,
      "outputs": []
    },
    {
      "cell_type": "markdown",
      "source": [
        "b. Reshape the array into a shape of (2, 10) and explain how reshaping works in NumPy."
      ],
      "metadata": {
        "id": "lqLUOKGQEY-s"
      }
    },
    {
      "cell_type": "code",
      "source": [
        "# Reshape the array to (2, 10)\n",
        "array_b = array_a.reshape(2, 10)\n",
        "print(\"Array B (reshaped):\\n\", array_b)"
      ],
      "metadata": {
        "colab": {
          "base_uri": "https://localhost:8080/"
        },
        "id": "5mNagnd7EbH8",
        "outputId": "d0059c4f-13e5-434f-d1a2-bdf407f6bfe7"
      },
      "execution_count": null,
      "outputs": [
        {
          "output_type": "stream",
          "name": "stdout",
          "text": [
            "Array B (reshaped):\n",
            " [[28 45 44 85 73  3 59 11 36 42]\n",
            " [ 8 72 38 24 27  7 88 96 52 58]]\n"
          ]
        }
      ]
    },
    {
      "cell_type": "code",
      "execution_count": null,
      "metadata": {
        "id": "mf9HTlqGAqh3"
      },
      "outputs": [],
      "source": []
    },
    {
      "cell_type": "markdown",
      "source": [
        "c. Perform element-wise addition with another array of shape (2, 10) and discuss broadcasting rules."
      ],
      "metadata": {
        "id": "7_x9fQy7EhXM"
      }
    },
    {
      "cell_type": "code",
      "source": [
        "# Create another (2, 10) array\n",
        "array_c = np.random.randint(1, 101, size=(2, 10))\n",
        "\n",
        "# Element-wise addition\n",
        "result_addition = array_b + array_c\n",
        "print(\"Result of Element-wise Addition:\\n\", result_addition)\n"
      ],
      "metadata": {
        "colab": {
          "base_uri": "https://localhost:8080/"
        },
        "id": "Xb649SQeEltM",
        "outputId": "dccba8f7-63f9-4b0f-ca90-0e0093d5b646"
      },
      "execution_count": null,
      "outputs": [
        {
          "output_type": "stream",
          "name": "stdout",
          "text": [
            "Result of Element-wise Addition:\n",
            " [[ 65  81  80 159 135  77 107  54  88  83]\n",
            " [ 33 146  86  63  41  13 122 145  93 136]]\n"
          ]
        }
      ]
    },
    {
      "cell_type": "markdown",
      "source": [
        "d. Calculate the dot product of two compatible arrays and explain the significance of dot product in linear algebra."
      ],
      "metadata": {
        "id": "A4AR4WuiEwOE"
      }
    },
    {
      "cell_type": "code",
      "source": [
        "# Calculate the dot product of array_b and its transpose\n",
        "dot_product = np.dot(array_b, array_b.T)\n",
        "print(\"Dot Product:\\n\", dot_product)\n"
      ],
      "metadata": {
        "colab": {
          "base_uri": "https://localhost:8080/"
        },
        "id": "UhCfw7DmE0fN",
        "outputId": "40039629-a518-4bb3-a917-ddc6df509b6f"
      },
      "execution_count": null,
      "outputs": [
        {
          "output_type": "stream",
          "name": "stdout",
          "text": [
            "Dot Product:\n",
            " [[23970 19724]\n",
            " [19724 31074]]\n"
          ]
        }
      ]
    },
    {
      "cell_type": "markdown",
      "source": [
        "e. Create a masked array from the original array, masking all values below the median;"
      ],
      "metadata": {
        "id": "PPZvBo2fE3Fj"
      }
    },
    {
      "cell_type": "code",
      "source": [
        "# Calculate the median\n",
        "median_value = np.median(array_a)\n",
        "\n",
        "# Create a masked array\n",
        "masked_array = np.ma.masked_where(array_a < median_value, array_a)\n",
        "print(\"Masked Array:\\n\", masked_array)\n"
      ],
      "metadata": {
        "colab": {
          "base_uri": "https://localhost:8080/"
        },
        "id": "nXR9eJYME7uL",
        "outputId": "0d65800e-01f2-4488-874c-870d9387754d"
      },
      "execution_count": null,
      "outputs": [
        {
          "output_type": "stream",
          "name": "stdout",
          "text": [
            "Masked Array:\n",
            " [[-- 45 44 85 73]\n",
            " [-- 59 -- -- --]\n",
            " [-- 72 -- -- --]\n",
            " [-- 88 96 52 58]]\n"
          ]
        }
      ]
    },
    {
      "cell_type": "markdown",
      "source": [
        "Problem 02: Exploring NumPy Broadcasting and Strides"
      ],
      "metadata": {
        "id": "LeEr-6tNE_6D"
      }
    },
    {
      "cell_type": "markdown",
      "source": [
        "a. Explain the concept of broadcasting in NumPy and provide an example involving arrays of different shapes."
      ],
      "metadata": {
        "id": "_i2ss9w_FC4D"
      }
    },
    {
      "cell_type": "code",
      "source": [
        "array4=np.array([[1,2,3],[4,5,6]])\n",
        "array5=np.array([10,20,30])\n",
        "add=array4+array5\n",
        "add"
      ],
      "metadata": {
        "colab": {
          "base_uri": "https://localhost:8080/"
        },
        "id": "j2aINrUwFNrU",
        "outputId": "fe2f835d-6423-415b-b387-b59a6f88f8ae"
      },
      "execution_count": null,
      "outputs": [
        {
          "output_type": "execute_result",
          "data": {
            "text/plain": [
              "array([[11, 22, 33],\n",
              "       [14, 25, 36]])"
            ]
          },
          "metadata": {},
          "execution_count": 6
        }
      ]
    },
    {
      "cell_type": "markdown",
      "source": [
        "Create two arrays with different shapes that can be broadcasted together and perform an arithmetic operation on them."
      ],
      "metadata": {
        "id": "0R5EBylFFPD9"
      }
    },
    {
      "cell_type": "code",
      "source": [
        "a=np.array([[1],[2],[3]])\n",
        "b=np.array([[2,5,7]])\n",
        "c=a+b\n",
        "c\n",
        "d=a*b\n",
        "d"
      ],
      "metadata": {
        "colab": {
          "base_uri": "https://localhost:8080/"
        },
        "id": "71JgnIciFRwU",
        "outputId": "cc8f39c9-b5f9-4697-cf1c-53997b4f548d"
      },
      "execution_count": null,
      "outputs": [
        {
          "output_type": "execute_result",
          "data": {
            "text/plain": [
              "array([[ 2,  5,  7],\n",
              "       [ 4, 10, 14],\n",
              "       [ 6, 15, 21]])"
            ]
          },
          "metadata": {},
          "execution_count": 7
        }
      ]
    },
    {
      "cell_type": "markdown",
      "source": [
        "Create an example to demonstrate the impact of strides on array slicing and performance."
      ],
      "metadata": {
        "id": "0LgNhppLFYqM"
      }
    },
    {
      "cell_type": "code",
      "source": [
        "largearray=np.arange(1000000).reshape(1000,1000)\n",
        "s_arr=largearray[::10,::10]\n",
        "strides=largearray.strides\n",
        "sliced_strides=s_arr.strides\n",
        "strides,sliced_strides"
      ],
      "metadata": {
        "colab": {
          "base_uri": "https://localhost:8080/"
        },
        "id": "virOjXzaFetr",
        "outputId": "59fde6c7-cb7a-4758-f2f4-087a5e1c935a"
      },
      "execution_count": null,
      "outputs": [
        {
          "output_type": "execute_result",
          "data": {
            "text/plain": [
              "((8000, 8), (80000, 80))"
            ]
          },
          "metadata": {},
          "execution_count": 8
        }
      ]
    },
    {
      "cell_type": "markdown",
      "source": [
        "Analyze how changing the order of dimensions’ affects broadcasting"
      ],
      "metadata": {
        "id": "Bexg1NpSFisO"
      }
    },
    {
      "cell_type": "code",
      "source": [
        "e=np.array([[1],[2],[3]])\n",
        "f=np.array([[10,20,30],[5,8,12],[2,6,5],[30,50,20]])\n",
        "t=f.T\n",
        "broadcast_result=e+t\n",
        "broadcast_result"
      ],
      "metadata": {
        "colab": {
          "base_uri": "https://localhost:8080/"
        },
        "id": "3rKQ9U48FmnE",
        "outputId": "70451fda-8ad1-4789-d4b5-4bb779cf04f0"
      },
      "execution_count": null,
      "outputs": [
        {
          "output_type": "execute_result",
          "data": {
            "text/plain": [
              "array([[11,  6,  3, 31],\n",
              "       [22, 10,  8, 52],\n",
              "       [33, 15,  8, 23]])"
            ]
          },
          "metadata": {},
          "execution_count": 9
        }
      ]
    },
    {
      "cell_type": "markdown",
      "source": [
        "Problem 03: “Advanced Array Manipulation with NumPy”"
      ],
      "metadata": {
        "id": "nSVEAT-oFz8s"
      }
    },
    {
      "cell_type": "markdown",
      "source": [
        "a. Create a 3D NumPy array representing an RGB image and explain how to access individual color channels."
      ],
      "metadata": {
        "id": "ruQWFn_zF4qt"
      }
    },
    {
      "cell_type": "code",
      "source": [
        "image=np.random.randint(0,256,size=(4,4,3))\n",
        "image"
      ],
      "metadata": {
        "colab": {
          "base_uri": "https://localhost:8080/"
        },
        "id": "ztuxVMCoF7oU",
        "outputId": "5ef62a0e-f9a9-4528-8e40-bc29e28dcf2d"
      },
      "execution_count": null,
      "outputs": [
        {
          "output_type": "execute_result",
          "data": {
            "text/plain": [
              "array([[[124, 108,  41],\n",
              "        [ 12, 234, 115],\n",
              "        [183, 120, 215],\n",
              "        [237,  70,  77]],\n",
              "\n",
              "       [[ 29, 102, 180],\n",
              "        [155, 200,  88],\n",
              "        [139,  34,  21],\n",
              "        [168,  67,  43]],\n",
              "\n",
              "       [[ 77, 114, 245],\n",
              "        [171,  95,   5],\n",
              "        [140,  83,  63],\n",
              "        [242, 168, 210]],\n",
              "\n",
              "       [[ 25, 152,  84],\n",
              "        [122, 235,  58],\n",
              "        [ 45,  28, 188],\n",
              "        [ 22, 232, 228]]])"
            ]
          },
          "metadata": {},
          "execution_count": 10
        }
      ]
    },
    {
      "cell_type": "code",
      "source": [
        "red_channel=image[:,:,0]\n",
        "red_channel"
      ],
      "metadata": {
        "colab": {
          "base_uri": "https://localhost:8080/"
        },
        "id": "riVUdK1lGBhs",
        "outputId": "a589600e-1e2a-4eb2-a5a4-b1f45948bc45"
      },
      "execution_count": null,
      "outputs": [
        {
          "output_type": "execute_result",
          "data": {
            "text/plain": [
              "array([[124,  12, 183, 237],\n",
              "       [ 29, 155, 139, 168],\n",
              "       [ 77, 171, 140, 242],\n",
              "       [ 25, 122,  45,  22]])"
            ]
          },
          "metadata": {},
          "execution_count": 11
        }
      ]
    },
    {
      "cell_type": "markdown",
      "source": [
        "b. Demonstrate how to flatten this 3D array into a 1D array and discuss the implications for image processing"
      ],
      "metadata": {
        "id": "M09zJf95GGn9"
      }
    },
    {
      "cell_type": "code",
      "source": [
        "flatten_array=image.flatten()\n",
        "flatten_array"
      ],
      "metadata": {
        "colab": {
          "base_uri": "https://localhost:8080/"
        },
        "id": "i1ZcLwSRGJVT",
        "outputId": "5402adc9-b19b-45df-e715-0feb9d70c57e"
      },
      "execution_count": null,
      "outputs": [
        {
          "output_type": "execute_result",
          "data": {
            "text/plain": [
              "array([124, 108,  41,  12, 234, 115, 183, 120, 215, 237,  70,  77,  29,\n",
              "       102, 180, 155, 200,  88, 139,  34,  21, 168,  67,  43,  77, 114,\n",
              "       245, 171,  95,   5, 140,  83,  63, 242, 168, 210,  25, 152,  84,\n",
              "       122, 235,  58,  45,  28, 188,  22, 232, 228])"
            ]
          },
          "metadata": {},
          "execution_count": 12
        }
      ]
    },
    {
      "cell_type": "markdown",
      "source": [
        "c. Use array slicing to extract a sub-array from the 3D array"
      ],
      "metadata": {
        "id": "7KIjuaalGMVs"
      }
    },
    {
      "cell_type": "code",
      "source": [
        "sub_image=image[1:3,1:3,:]\n",
        "sub_image"
      ],
      "metadata": {
        "colab": {
          "base_uri": "https://localhost:8080/"
        },
        "id": "HMldhLPbGPVk",
        "outputId": "4a77d41f-2ed0-41b2-f0ef-96393ef07b66"
      },
      "execution_count": null,
      "outputs": [
        {
          "output_type": "execute_result",
          "data": {
            "text/plain": [
              "array([[[155, 200,  88],\n",
              "        [139,  34,  21]],\n",
              "\n",
              "       [[171,  95,   5],\n",
              "        [140,  83,  63]]])"
            ]
          },
          "metadata": {},
          "execution_count": 14
        }
      ]
    },
    {
      "cell_type": "markdown",
      "source": [
        "Create a function that normalizes the pixel values of the RGB image array to the range [0, 1]"
      ],
      "metadata": {
        "id": "937K4NqZGVHk"
      }
    },
    {
      "cell_type": "code",
      "source": [
        "def normalize(image):\n",
        "    return image/255.0\n",
        "normalized_image=normalize(image)\n",
        "normalized_image"
      ],
      "metadata": {
        "colab": {
          "base_uri": "https://localhost:8080/"
        },
        "id": "5E1nB8THGZLt",
        "outputId": "f1d71202-60c2-46eb-cd6c-2a4af89d65bc"
      },
      "execution_count": null,
      "outputs": [
        {
          "output_type": "execute_result",
          "data": {
            "text/plain": [
              "array([[[0.48627451, 0.42352941, 0.16078431],\n",
              "        [0.04705882, 0.91764706, 0.45098039],\n",
              "        [0.71764706, 0.47058824, 0.84313725],\n",
              "        [0.92941176, 0.2745098 , 0.30196078]],\n",
              "\n",
              "       [[0.11372549, 0.4       , 0.70588235],\n",
              "        [0.60784314, 0.78431373, 0.34509804],\n",
              "        [0.54509804, 0.13333333, 0.08235294],\n",
              "        [0.65882353, 0.2627451 , 0.16862745]],\n",
              "\n",
              "       [[0.30196078, 0.44705882, 0.96078431],\n",
              "        [0.67058824, 0.37254902, 0.01960784],\n",
              "        [0.54901961, 0.3254902 , 0.24705882],\n",
              "        [0.94901961, 0.65882353, 0.82352941]],\n",
              "\n",
              "       [[0.09803922, 0.59607843, 0.32941176],\n",
              "        [0.47843137, 0.92156863, 0.22745098],\n",
              "        [0.17647059, 0.10980392, 0.7372549 ],\n",
              "        [0.08627451, 0.90980392, 0.89411765]]])"
            ]
          },
          "metadata": {},
          "execution_count": 15
        }
      ]
    },
    {
      "cell_type": "markdown",
      "source": [
        "Problem 04: “NumPy for Statistical Analysis”\n",
        "a. Generate a NumPy array of 1000 random numbers and calculate basic statistics"
      ],
      "metadata": {
        "id": "Wo9ECnw_Gbv1"
      }
    },
    {
      "cell_type": "code",
      "source": [
        "random_array=np.random.randn(1000)\n",
        "mean=np.mean(random_array)\n",
        "print(\"Mean:\",mean)\n",
        "median=np.median(random_array)\n",
        "print(\"Median:\",median)\n",
        "variance=np.var(random_array)\n",
        "print(\"variance:\",variance)"
      ],
      "metadata": {
        "colab": {
          "base_uri": "https://localhost:8080/"
        },
        "id": "E5fDHbUzGfK8",
        "outputId": "b8bfa24c-b52a-4dd6-d08e-6ba5ffd1de06"
      },
      "execution_count": null,
      "outputs": [
        {
          "output_type": "stream",
          "name": "stdout",
          "text": [
            "Mean: 0.01449533254236271\n",
            "Median: 0.010547769733572137\n",
            "variance: 0.9879525676398013\n"
          ]
        }
      ]
    },
    {
      "cell_type": "markdown",
      "source": [
        "Discuss the differences between population and sample statistics, and calculate both for your generated data."
      ],
      "metadata": {
        "id": "xLeu2-P4Ghec"
      }
    },
    {
      "cell_type": "code",
      "source": [
        "population_v=np.var(random_array)\n",
        "print(\"population variance is:\",population_v)\n",
        "sample_var=np.var(random_array,ddof=1)\n",
        "print(\"sample variance is:\",sample_var)"
      ],
      "metadata": {
        "colab": {
          "base_uri": "https://localhost:8080/"
        },
        "id": "UH2yqFVRGksD",
        "outputId": "f83ba0a0-380b-4ce7-fd42-a462d6757182"
      },
      "execution_count": null,
      "outputs": [
        {
          "output_type": "stream",
          "name": "stdout",
          "text": [
            "population variance is: 0.9879525676398013\n",
            "sample variance is: 0.9889415091489503\n"
          ]
        }
      ]
    },
    {
      "cell_type": "markdown",
      "source": [
        "Create a histogram of the random numbers using NumPy, and explain how histograms can be useful for data visualization"
      ],
      "metadata": {
        "id": "ahkepFVoGpJE"
      }
    },
    {
      "cell_type": "code",
      "source": [
        "import matplotlib.pyplot as plt\n",
        "plt.hist(random_array,edgecolor='black')\n",
        "plt.title('Histogram of random numbers')\n",
        "plt.xlabel('Numbers')\n",
        "plt.ylabel('Frequency')\n",
        "plt.show()"
      ],
      "metadata": {
        "colab": {
          "base_uri": "https://localhost:8080/",
          "height": 472
        },
        "id": "94DL89yTGrHb",
        "outputId": "cf4e8546-44a3-43c5-b2b7-f02ceb31f980"
      },
      "execution_count": null,
      "outputs": [
        {
          "output_type": "display_data",
          "data": {
            "text/plain": [
              "<Figure size 640x480 with 1 Axes>"
            ],
            "image/png": "[encoded data removed]"
          },
          "metadata": {}
        }
      ]
    },
    {
      "cell_type": "markdown",
      "source": [
        "Implement a method to identify outliers in your dataset using the IQR (Interquartile Range) method."
      ],
      "metadata": {
        "id": "ClwiKeC6Gvhz"
      }
    },
    {
      "cell_type": "code",
      "source": [
        "Q1=np.percentile(random_array,25)\n",
        "Q3=np.percentile(random_array,75)\n",
        "IQR=Q3-Q1\n",
        "lower_bound=Q1-1.5*IQR\n",
        "upper_bound=Q3+1.5*IQR\n",
        "outliers=random_array[(random_array<lower_bound)|(random_array>upper_bound)]\n",
        "print(\"Outliers in data are:\",outliers)"
      ],
      "metadata": {
        "colab": {
          "base_uri": "https://localhost:8080/"
        },
        "id": "AeNjb5K8GyGT",
        "outputId": "4295e47e-ff72-4800-a217-3c4a73ab25f4"
      },
      "execution_count": null,
      "outputs": [
        {
          "output_type": "stream",
          "name": "stdout",
          "text": [
            "Outliers in data are: [-2.95498311  2.6798554   3.09147899  3.23577647  2.75760918 -2.69188363\n",
            "  3.21580866 -2.89743366  3.02734136]\n"
          ]
        }
      ]
    },
    {
      "cell_type": "markdown",
      "source": [
        "Problem 05: “Advanced NumPy Operations Challenge”"
      ],
      "metadata": {
        "id": "PlHmFCU9G2nU"
      }
    },
    {
      "cell_type": "markdown",
      "source": [
        "Compute the pairwise Euclidean distance between each row in X and each row in Y"
      ],
      "metadata": {
        "id": "ArL-EltrG5a0"
      }
    },
    {
      "cell_type": "code",
      "source": [
        "A=np.random.rand(1,5)\n",
        "B=np.random.rand(2,5)\n",
        "D=np.sqrt(np.sum((A-B)**2,axis=-1))\n",
        "D"
      ],
      "metadata": {
        "colab": {
          "base_uri": "https://localhost:8080/"
        },
        "id": "EAeWjBvrG8F8",
        "outputId": "759fa068-27bd-403a-e89d-bb1f378243f9"
      },
      "execution_count": null,
      "outputs": [
        {
          "output_type": "execute_result",
          "data": {
            "text/plain": [
              "array([0.94560613, 1.26263774])"
            ]
          },
          "metadata": {},
          "execution_count": 20
        }
      ]
    },
    {
      "cell_type": "markdown",
      "source": [
        "Perform Singular Value Decomposition (SVD)"
      ],
      "metadata": {
        "id": "9Og4j017G-Su"
      }
    },
    {
      "cell_type": "code",
      "source": [
        "vt=np.linalg.svd(A,full_matrices=False)\n",
        "vt"
      ],
      "metadata": {
        "colab": {
          "base_uri": "https://localhost:8080/"
        },
        "id": "Xmu9tU0cHAik",
        "outputId": "b0451c4a-6f6b-464c-862e-43524aea1a41"
      },
      "execution_count": null,
      "outputs": [
        {
          "output_type": "execute_result",
          "data": {
            "text/plain": [
              "SVDResult(U=array([[-1.]]), S=array([1.518002]), Vh=array([[-0.31499142, -0.01144383, -0.6453463 , -0.60255115, -0.3480082 ]]))"
            ]
          },
          "metadata": {},
          "execution_count": 21
        }
      ]
    },
    {
      "cell_type": "markdown",
      "source": [
        "Modify D such that:\n",
        "Replace all distances less than 5 with 0.\n",
        "Replace all distances greater than 100 with 1.\n",
        "Count how many values remain between 5 and 100 after this transformation."
      ],
      "metadata": {
        "id": "GExmFN3tHCrM"
      }
    },
    {
      "cell_type": "code",
      "source": [
        "D_modified=np.where(D<5,0,D)\n",
        "D_modified=np.where(D_modified>100,1,D_modified)\n",
        "count=np.sum((D_modified>5)&(D_modified<100))\n",
        "count"
      ],
      "metadata": {
        "colab": {
          "base_uri": "https://localhost:8080/"
        },
        "id": "EShOt1diHHDr",
        "outputId": "9b206b16-ad2e-4d6f-9b2d-c54e10b3e907"
      },
      "execution_count": null,
      "outputs": [
        {
          "output_type": "execute_result",
          "data": {
            "text/plain": [
              "0"
            ]
          },
          "metadata": {},
          "execution_count": 22
        }
      ]
    }
  ]
}