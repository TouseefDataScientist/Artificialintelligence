{
 "cells": [
  {
   "cell_type": "markdown",
   "metadata": {},
   "source": [
    "Name : Minhas Ahmed"
   ]
  },
  {
   "cell_type": "code",
   "execution_count": 2,
   "metadata": {},
   "outputs": [],
   "source": [
    "import numpy as np"
   ]
  },
  {
   "cell_type": "code",
   "execution_count": 3,
   "metadata": {},
   "outputs": [
    {
     "name": "stdout",
     "output_type": "stream",
     "text": [
      "Total Sales: 8320\n",
      "Average Sales: 268.38709677419354\n",
      "Day with Highest Sales: 7\n",
      "Highest Sales Value: 400\n"
     ]
    }
   ],
   "source": [
    "# Step 1: Create a NumPy array representing daily sales for a month (30 days)\n",
    "\n",
    "sales_data = np.array([200, 220, 250, 300, 280, 310, 400, \n",
    "                       150, 160, 170, 180, 190, 200, \n",
    "                       210, 220, 230, 240, 250, 260, \n",
    "                       270, 280, 290, 300, 310, 320, \n",
    "                       330, 340, 350, 360, 370, 380])\n",
    "\n",
    "# Step 2: Compute total sales\n",
    "\n",
    "total_sales = np.sum(sales_data)\n",
    "\n",
    "# Compute average sales\n",
    "\n",
    "average_sales = np.mean(sales_data)\n",
    "\n",
    "# Find the day with the highest sales\n",
    "\n",
    "highest_sales_day = np.argmax(sales_data)  \n",
    "highest_sales_value = sales_data[highest_sales_day]  \n",
    "\n",
    "\n",
    "print(\"Total Sales:\", total_sales)\n",
    "print(\"Average Sales:\", average_sales)\n",
    "print(\"Day with Highest Sales:\", highest_sales_day + 1) \n",
    "print(\"Highest Sales Value:\", highest_sales_value)"
   ]
  },
  {
   "cell_type": "code",
   "execution_count": 4,
   "metadata": {},
   "outputs": [
    {
     "name": "stdout",
     "output_type": "stream",
     "text": [
      "Average Temperature for Each Day (across all weeks): [29.5  30.5  30.   30.5  30.5  30.75 30.  ]\n"
     ]
    }
   ],
   "source": [
    "temperature_data = np.array([[30, 32, 31, 29, 30, 31, 32],  \n",
    "                              [28, 30, 29, 31, 32, 30, 29],  \n",
    "                              [31, 29, 30, 32, 31, 30, 28],  \n",
    "                              [29, 31, 30, 30, 29, 32, 31]]) \n",
    "\n",
    "# Step 2: Compute the average temperature for each day across all weeks\n",
    "\n",
    "average_temperature = np.mean(temperature_data, axis=0)\n",
    "\n",
    "\n",
    "print(\"Average Temperature for Each Day (across all weeks):\", average_temperature)"
   ]
  },
  {
   "cell_type": "code",
   "execution_count": 5,
   "metadata": {},
   "outputs": [
    {
     "name": "stdout",
     "output_type": "stream",
     "text": [
      "Monthly Return (%): 31.0\n"
     ]
    }
   ],
   "source": [
    "closing_prices = np.array([100.0, 102.5, 101.0, 103.0, 104.5, \n",
    "                            105.0, 107.0, 108.0, 107.5, 109.0, \n",
    "                            110.0, 111.5, 112.0, 113.0, 115.0, \n",
    "                            116.0, 117.0, 118.0, 119.0, 120.0, \n",
    "                            121.0, 122.5, 123.0, 124.0, 125.0, \n",
    "                            126.0, 127.0, 128.0, 129.0, 130.0, \n",
    "                            131.0])\n",
    "\n",
    "# Step 2: Calculate the monthly return\n",
    "first_price = closing_prices[0]  \n",
    "last_price = closing_prices[-1]   \n",
    "\n",
    "# Monthly return calculation\n",
    "monthly_return = ((last_price - first_price) / first_price) * 100 \n",
    "\n",
    "print(\"Monthly Return (%):\", monthly_return)"
   ]
  },
  {
   "cell_type": "code",
   "execution_count": 6,
   "metadata": {},
   "outputs": [
    {
     "name": "stdout",
     "output_type": "stream",
     "text": [
      "Average Grade for Each Student: [86.25 87.   88.25 75.75 90.  ]\n",
      "Overall Class Average for Each Subject: [85.6 85.2 84.  87. ]\n"
     ]
    }
   ],
   "source": [
    "grades_data = np.array([[85, 90, 78, 92],  \n",
    "                        [88, 76, 95, 89],  \n",
    "                        [90, 88, 84, 91],  \n",
    "                        [70, 80, 75, 78],  \n",
    "                        [95, 92, 88, 85]]) \n",
    "\n",
    "# Step 2: Compute the average grade for each student\n",
    "\n",
    "average_grades_per_student = np.mean(grades_data, axis=1)\n",
    "\n",
    "# Compute the overall class average for each subject\n",
    "\n",
    "overall_class_average_per_subject = np.mean(grades_data, axis=0)\n",
    "\n",
    "\n",
    "print(\"Average Grade for Each Student:\", average_grades_per_student)\n",
    "print(\"Overall Class Average for Each Subject:\", overall_class_average_per_subject)"
   ]
  },
  {
   "cell_type": "code",
   "execution_count": 7,
   "metadata": {},
   "outputs": [
    {
     "name": "stdout",
     "output_type": "stream",
     "text": [
      "Original Image:\n",
      " [[ 50 200 150 100 255]\n",
      " [  0 100 200 100  50]\n",
      " [255 255   0   0 100]\n",
      " [ 50 100 150 200 250]\n",
      " [  0 255 255 255   0]]\n",
      "\n",
      "Normalized Image:\n",
      " [[0.19607843 0.78431373 0.58823529 0.39215686 1.        ]\n",
      " [0.         0.39215686 0.78431373 0.39215686 0.19607843]\n",
      " [1.         1.         0.         0.         0.39215686]\n",
      " [0.19607843 0.39215686 0.58823529 0.78431373 0.98039216]\n",
      " [0.         1.         1.         1.         0.        ]]\n"
     ]
    }
   ],
   "source": [
    "image = np.array([[50, 200, 150, 100, 255],\n",
    "                  [0, 100, 200, 100, 50],\n",
    "                  [255, 255, 0, 0, 100],\n",
    "                  [50, 100, 150, 200, 250],\n",
    "                  [0, 255, 255, 255, 0]])\n",
    "\n",
    "\n",
    "# Step 2: Normalize the pixel values to a range of 0 to 1\n",
    "min_pixel = np.min(image)\n",
    "max_pixel = np.max(image)\n",
    "\n",
    "\n",
    "# Normalization formula\n",
    "normalized_image = (image - min_pixel) / (max_pixel - min_pixel)\n",
    "\n",
    "\n",
    "print(\"Original Image:\\n\", image)\n",
    "print(\"\\nNormalized Image:\\n\", normalized_image)"
   ]
  },
  {
   "cell_type": "code",
   "execution_count": 8,
   "metadata": {},
   "outputs": [
    {
     "name": "stdout",
     "output_type": "stream",
     "text": [
      "Annual Growth Rates (%): [5.         5.         4.76190476 4.76190476 4.95867769 5.51181102\n",
      " 4.47761194 5.         5.44217687]\n",
      "Year with Highest Growth: 6\n",
      "Highest Growth Rate (%): 5.511811023622047\n"
     ]
    }
   ],
   "source": [
    "population_data = np.array([100000, 105000, 110250, 115500, \n",
    "                             121000, 127000, 134000, 140000, \n",
    "                             147000, 155000])\n",
    "\n",
    "\n",
    "# Step 2: Calculate the annual growth rate\n",
    "annual_growth_rate = np.zeros(len(population_data) - 1) \n",
    "\n",
    "for i in range(1, len(population_data)):\n",
    "    annual_growth_rate[i - 1] = ((population_data[i] - population_data[i - 1]) / population_data[i - 1]) * 100\n",
    "\n",
    "\n",
    "# Step 3: Identify the year with the highest growth\n",
    "highest_growth_index = np.argmax(annual_growth_rate)\n",
    "highest_growth_rate = annual_growth_rate[highest_growth_index]\n",
    "year_of_highest_growth = highest_growth_index + 1\n",
    "\n",
    "\n",
    "\n",
    "print(\"Annual Growth Rates (%):\", annual_growth_rate)\n",
    "print(\"Year with Highest Growth:\", year_of_highest_growth)\n",
    "print(\"Highest Growth Rate (%):\", highest_growth_rate)"
   ]
  },
  {
   "cell_type": "code",
   "execution_count": 9,
   "metadata": {},
   "outputs": [
    {
     "name": "stdout",
     "output_type": "stream",
     "text": [
      "Total Traffic for Each Day: [3000 3120 3048 3240 3192 3360 3480]\n",
      "Busiest Hour of the Week (Hour Index): 23\n",
      "Number of Vehicles during Busiest Hour: 1740\n"
     ]
    }
   ],
   "source": [
    "traffic_data = np.array([[10, 20, 30, 40, 50, 60, 70, 80, 90, 100, 110, 120, 130, 140, 150, 160, 170, 180, 190, 200, 210, 220, 230, 240],  # Day 1\n",
    "                          [15, 25, 35, 45, 55, 65, 75, 85, 95, 105, 115, 125, 135, 145, 155, 165, 175, 185, 195, 205, 215, 225, 235, 245],  # Day 2\n",
    "                          [12, 22, 32, 42, 52, 62, 72, 82, 92, 102, 112, 122, 132, 142, 152, 162, 172, 182, 192, 202, 212, 222, 232, 242],  # Day 3\n",
    "                          [20, 30, 40, 50, 60, 70, 80, 90, 100, 110, 120, 130, 140, 150, 160, 170, 180, 190, 200, 210, 220, 230, 240, 250],  # Day 4\n",
    "                          [18, 28, 38, 48, 58, 68, 78, 88, 98, 108, 118, 128, 138, 148, 158, 168, 178, 188, 198, 208, 218, 228, 238, 248],  # Day 5\n",
    "                          [25, 35, 45, 55, 65, 75, 85, 95, 105, 115, 125, 135, 145, 155, 165, 175, 185, 195, 205, 215, 225, 235, 245, 255],  # Day 6\n",
    "                          [30, 40, 50, 60, 70, 80, 90, 100, 110, 120, 130, 140, 150, 160, 170, 180, 190, 200, 210, 220, 230, 240, 250, 260]]) # Day 7\n",
    "\n",
    "\n",
    "# Step 2: Calculate the total traffic for each day\n",
    "total_traffic_per_day = np.sum(traffic_data, axis=1)\n",
    "\n",
    "# Calculate the busiest hour of the week\n",
    "busiest_hour_index = np.argmax(np.sum(traffic_data, axis=0))  \n",
    "busiest_hour_vehicles = np.sum(traffic_data, axis=0)[busiest_hour_index]  \n",
    "\n",
    "\n",
    "\n",
    "print(\"Total Traffic for Each Day:\", total_traffic_per_day)\n",
    "print(\"Busiest Hour of the Week (Hour Index):\", busiest_hour_index)\n",
    "print(\"Number of Vehicles during Busiest Hour:\", busiest_hour_vehicles)"
   ]
  },
  {
   "cell_type": "code",
   "execution_count": 10,
   "metadata": {},
   "outputs": [
    {
     "name": "stdout",
     "output_type": "stream",
     "text": [
      "Current Stock Levels: [100  45  30  80  60  10  75  90  20  55]\n",
      "Products to Reorder (Indices): [1 2 5 8]\n",
      "Reorder Quantities: [ 5 20 40 30]\n"
     ]
    }
   ],
   "source": [
    "stock_levels = np.array([100, 45, 30, 80, 60, 10, 75, 90, 20, 55])\n",
    "\n",
    "# Step 2: Define the reorder threshold\n",
    "reorder_threshold = 50\n",
    "\n",
    "# Identify products that need to be reordered\n",
    "products_to_reorder = np.where(stock_levels < reorder_threshold)[0]  \n",
    "reorder_quantities = reorder_threshold - stock_levels[products_to_reorder]  \n",
    "\n",
    "\n",
    "print(\"Current Stock Levels:\", stock_levels)\n",
    "print(\"Products to Reorder (Indices):\", products_to_reorder)\n",
    "print(\"Reorder Quantities:\", reorder_quantities)"
   ]
  },
  {
   "cell_type": "code",
   "execution_count": 11,
   "metadata": {},
   "outputs": [
    {
     "name": "stdout",
     "output_type": "stream",
     "text": [
      "Average Scores for Each Player: [65.   85.   75.   92.5  71.25]\n",
      "Player with Highest Average Score (Index): 3\n",
      "Highest Average Score: 92.5\n",
      "Total Scores for Each Round: [350 370 405 430]\n",
      "Round with Highest Total Score (Index): 3\n",
      "Highest Total Score: 430\n"
     ]
    }
   ],
   "source": [
    "scores_data = np.array([[50, 60, 70, 80],  \n",
    "                        [80, 70, 90, 100], \n",
    "                        [60, 80, 70, 90],  \n",
    "                        [90, 100, 95, 85],  \n",
    "                        [70, 60, 80, 75]])  \n",
    "\n",
    "\n",
    "# Step 2: Calculate the average score for each player\n",
    "average_scores = np.mean(scores_data, axis=1)\n",
    "\n",
    "\n",
    "# Identify the player with the highest average score\n",
    "highest_average_index = np.argmax(average_scores)\n",
    "highest_average_score = average_scores[highest_average_index]\n",
    "\n",
    "\n",
    "# Step 3: Calculate the total score for each round\n",
    "total_scores_per_round = np.sum(scores_data, axis=0)\n",
    "\n",
    "\n",
    "# Identify the round with the highest total score\n",
    "highest_total_index = np.argmax(total_scores_per_round)\n",
    "highest_total_score = total_scores_per_round[highest_total_index]\n",
    "\n",
    "\n",
    "print(\"Average Scores for Each Player:\", average_scores)\n",
    "print(\"Player with Highest Average Score (Index):\", highest_average_index)\n",
    "print(\"Highest Average Score:\", highest_average_score)\n",
    "\n",
    "print(\"Total Scores for Each Round:\", total_scores_per_round)\n",
    "print(\"Round with Highest Total Score (Index):\", highest_total_index)\n",
    "print(\"Highest Total Score:\", highest_total_score)"
   ]
  },
  {
   "cell_type": "code",
   "execution_count": 12,
   "metadata": {},
   "outputs": [
    {
     "name": "stdout",
     "output_type": "stream",
     "text": [
      "Overall Daily Return of the Portfolio: [0.012 0.008 0.008 0.006 0.02  0.004 0.022 0.022 0.006 0.016 0.01  0.004\n",
      " 0.018 0.018 0.012 0.008 0.014 0.01  0.016 0.016]\n",
      "Asset with Highest Volatility (Index): 0\n",
      "Highest Volatility Value: 0.018439088914585774\n"
     ]
    }
   ],
   "source": [
    "daily_returns = np.array([[0.01, -0.02, 0.03, 0.02, 0.01, -0.01, 0.04, 0.03, -0.02, 0.01, \n",
    "                           0.02, -0.01, 0.03, 0.02, 0.01, -0.02, 0.03, 0.02, -0.01, 0.01],  \n",
    "                          [0.02, 0.01, -0.01, 0.03, 0.02, -0.02, 0.01, 0.04, 0.03, -0.01, \n",
    "                           0.02, 0.01, 0.03, -0.01, 0.01, 0.02, 0.03, -0.01, 0.02, 0.01],  \n",
    "                          [-0.01, 0.02, 0.01, -0.02, 0.03, 0.01, 0.02, 0.01, 0.02, 0.03, \n",
    "                           -0.01, 0.02, 0.01, 0.03, 0.02, 0.01, -0.02, 0.01, 0.03, 0.02],  \n",
    "                          [0.03, 0.01, 0.02, -0.01, 0.02, 0.01, 0.03, 0.01, -0.01, 0.02, \n",
    "                           0.01, 0.02, 0.01, 0.03, -0.01, 0.02, 0.01, 0.02, 0.01, 0.03],  \n",
    "                          [0.01, 0.02, -0.01, 0.01, 0.02, 0.03, 0.01, 0.02, 0.01, 0.03, \n",
    "                           0.01, -0.02, 0.01, 0.02, 0.03, 0.01, 0.02, 0.01, 0.03, 0.01]]) \n",
    "\n",
    "\n",
    "# Step 2: Calculate the overall daily return of the portfolio\n",
    "# Assuming equal weights for simplicity\n",
    "weights = np.ones(daily_returns.shape[0]) / daily_returns.shape[0]\n",
    "overall_daily_return = np.dot(weights, daily_returns)\n",
    "\n",
    "# Calculate the volatility (standard deviation) for each asset\n",
    "volatility = np.std(daily_returns, axis=1)\n",
    "\n",
    "# Identify the asset with the highest volatility\n",
    "highest_volatility_index = np.argmax(volatility)\n",
    "highest_volatility_value = volatility[highest_volatility_index]\n",
    "\n",
    "\n",
    "print(\"Overall Daily Return of the Portfolio:\", overall_daily_return)\n",
    "print(\"Asset with Highest Volatility (Index):\", highest_volatility_index)\n",
    "print(\"Highest Volatility Value:\", highest_volatility_value)"
   ]
  },
  {
   "cell_type": "code",
   "execution_count": null,
   "metadata": {},
   "outputs": [],
   "source": []
  },
  {
   "cell_type": "code",
   "execution_count": null,
   "metadata": {},
   "outputs": [],
   "source": []
  },
  {
   "cell_type": "code",
   "execution_count": null,
   "metadata": {},
   "outputs": [],
   "source": []
  }
 ],
 "metadata": {
  "kernelspec": {
   "display_name": "Python 3",
   "language": "python",
   "name": "python3"
  },
  "language_info": {
   "codemirror_mode": {
    "name": "ipython",
    "version": 3
   },
   "file_extension": ".py",
   "mimetype": "text/x-python",
   "name": "python",
   "nbconvert_exporter": "python",
   "pygments_lexer": "ipython3",
   "version": "3.12.5"
  }
 },
 "nbformat": 4,
 "nbformat_minor": 2
}
