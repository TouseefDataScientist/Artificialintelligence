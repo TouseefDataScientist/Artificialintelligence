{
 "cells": [
  {
   "cell_type": "markdown",
   "metadata": {},
   "source": [
    "# H1        \n"
   ]
  },
  {
   "cell_type": "markdown",
   "metadata": {},
   "source": [
    "### H3"
   ]
  },
  {
   "cell_type": "markdown",
   "metadata": {},
   "source": [
    "*Ayesha*"
   ]
  },
  {
   "cell_type": "markdown",
   "metadata": {},
   "source": [
    "> blockquote"
   ]
  },
  {
   "cell_type": "markdown",
   "metadata": {},
   "source": [
    "1. AI\n",
    "2. ML\n",
    "3. NLP"
   ]
  },
  {
   "cell_type": "markdown",
   "metadata": {},
   "source": [
    "![Girl](girl.jpg.jfif)"
   ]
  },
  {
   "cell_type": "markdown",
   "metadata": {},
   "source": [
    "| Syntax | Description |\n",
    "| ----------- | ----------- |\n",
    "| Header | Title |\n",
    "| Paragraph | Text |"
   ]
  },
  {
   "cell_type": "markdown",
   "metadata": {},
   "source": [
    "Here's a sentence with a footnote. [^1]\n",
    "\n",
    "[^1]: This is the footnote.\n",
    "Here's a sentence with a footnote. [^1]\n",
    "\n",
    "[^1]: This is the footnote."
   ]
  },
  {
   "cell_type": "markdown",
   "metadata": {},
   "source": [
    "That is so funny! :joy:"
   ]
  },
  {
   "cell_type": "markdown",
   "metadata": {},
   "source": [
    "H~2~O"
   ]
  },
  {
   "cell_type": "markdown",
   "metadata": {},
   "source": [
    "X^2^"
   ]
  },
  {
   "cell_type": "markdown",
   "metadata": {},
   "source": [
    "<h1>Heading level 1</h1>"
   ]
  },
  {
   "cell_type": "markdown",
   "metadata": {},
   "source": [
    "<p>I really like using Markdown.</p>\n",
    "\n",
    "<p>I think I'll use it to format all of my documents from now on.</p>"
   ]
  },
  {
   "cell_type": "markdown",
   "metadata": {},
   "source": [
    "I just love **bold text**."
   ]
  },
  {
   "cell_type": "markdown",
   "metadata": {},
   "source": [
    "This text is ___really important___."
   ]
  }
 ],
 "metadata": {
  "language_info": {
   "name": "python"
  }
 },
 "nbformat": 4,
 "nbformat_minor": 2
}
