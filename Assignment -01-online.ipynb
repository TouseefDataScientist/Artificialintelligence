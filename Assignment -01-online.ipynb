{
 "cells": [
  {
   "cell_type": "markdown",
   "metadata": {},
   "source": [
    "Name : Minhas Ahmed"
   ]
  },
  {
   "cell_type": "code",
   "execution_count": 2,
   "metadata": {},
   "outputs": [],
   "source": [
    "import numpy as np"
   ]
  },
  {
   "cell_type": "code",
   "execution_count": null,
   "metadata": {},
   "outputs": [],
   "source": [
    "A - You make a measurement of objects {1, 2} against objects {3, 4} and get a difference of 1kg.\n",
    "Write this as a linear equation for the masses."
   ]
  },
  {
   "cell_type": "markdown",
   "metadata": {},
   "source": [
    "# Part (A):-\n",
    "  Set up the linear equation based on the measurement\n",
    "# Measurement:-\n",
    "  {1, 2} vs {3, 4} with a difference of 1kg \n",
    "# Linear equation:-\n",
    "  m1 + m2 - (m3 + m4) = 1\n",
    "# we have the equation:-\n",
    " m1 + m2 - m3 - m4 = 1"
   ]
  },
  {
   "cell_type": "markdown",
   "metadata": {},
   "source": [
    "# Part (D):-\n",
    "  Matrix representation\n",
    "# Let's assume we have the following measurements:\n",
    "# Measurement 1:-\n",
    "  m1 + m2 - m3 - m4 = 1\n",
    "# Measurement 2:-\n",
    "  m1 - m5 = 2\n",
    "# Measurement 3:-\n",
    "  m2 - m4 = -1\n",
    "# Measurement 4:-\n",
    "  m1 + m3 - m5 = 0"
   ]
  },
  {
   "cell_type": "code",
   "execution_count": 10,
   "metadata": {},
   "outputs": [
    {
     "name": "stdout",
     "output_type": "stream",
     "text": [
      "Masses of the objects: [ 2. -3. -2. -0.]\n"
     ]
    }
   ],
   "source": [
    "A = np.array([\n",
    "    [1, 1, -1, 0],\n",
    "    [1, 0, 0, -1],\n",
    "    [0, 1, -1, 0],\n",
    "    [1, 0, 1, -1]\n",
    "])\n",
    "\n",
    "b = np.array([1, 2, -1, 0])\n",
    "\n",
    "# Solve the system of linear equations\n",
    "masses = np.linalg.solve(A, b)\n",
    "print(\"Masses of the objects:\", masses)\n"
   ]
  },
  {
   "cell_type": "markdown",
   "metadata": {},
   "source": [
    "B - What is the minimum number of such measurements necessary to recover all five masses?"
   ]
  },
  {
   "cell_type": "markdown",
   "metadata": {},
   "source": [
    "# Part (A):-\n",
    "  Create foo array\n",
    "\n",
    "# Part (B):-\n",
    "  Reshape foo into a 2D array (6 rows, 5 columns)\n",
    "\n",
    "# Part (C):-\n",
    "  Reshape bar into a 3D array\n",
    "\n",
    "# Part (D):-\n",
    "  Indexing into arrays\n",
    "\n",
    "# Part (E):-\n",
    "  Summing over dimensions\n",
    "\n",
    "# Part (F):-\n",
    "  Slicing arrays"
   ]
  },
  {
   "cell_type": "code",
   "execution_count": 11,
   "metadata": {},
   "outputs": [
    {
     "name": "stdout",
     "output_type": "stream",
     "text": [
      "foo: [ 0  1  2  3  4  5  6  7  8  9 10 11 12 13 14 15 16 17 18 19 20 21 22 23\n",
      " 24 25 26 27 28 29]\n",
      "Shape of foo: (30,)\n",
      "bar:\n",
      " [[ 0  1  2  3  4]\n",
      " [ 5  6  7  8  9]\n",
      " [10 11 12 13 14]\n",
      " [15 16 17 18 19]\n",
      " [20 21 22 23 24]\n",
      " [25 26 27 28 29]]\n",
      "Shape of bar: (6, 5)\n",
      "baz:\n",
      " [[[ 0  1  2  3  4]\n",
      "  [ 5  6  7  8  9]\n",
      "  [10 11 12 13 14]]\n",
      "\n",
      " [[15 16 17 18 19]\n",
      "  [20 21 22 23 24]\n",
      "  [25 26 27 28 29]]]\n",
      "Shape of baz: (2, 3, 5)\n",
      "bar after change:\n",
      " [[ 0  1  2  3  4]\n",
      " [-1  6  7  8  9]\n",
      " [10 11 12 13 14]\n",
      " [15 16 17 18 19]\n",
      " [20 21 22 23 24]\n",
      " [25 26 27 28 29]]\n",
      "Did foo change? [ 0  1  2  3  4 -1  6  7  8  9 10 11 12 13 14 15 16 17 18 19 20 21 22 23\n",
      " 24 25 26 27 28 29]\n",
      "Did baz change? [[[ 0  1  2  3  4]\n",
      "  [-1  6  7  8  9]\n",
      "  [10 11 12 13 14]]\n",
      "\n",
      " [[15 16 17 18 19]\n",
      "  [20 21 22 23 24]\n",
      "  [25 26 27 28 29]]]\n",
      "Sum over second dimension: [[ 9 18 21 24 27]\n",
      " [60 63 66 69 72]]\n",
      "Sum over third dimension: [[ 10  29  60]\n",
      " [ 85 110 135]]\n",
      "Sum over first and third dimensions: [ 95 139 195]\n",
      "Second row of bar: [-1  6  7  8  9]\n",
      "Last column of bar: [ 4  9 14 19 24 29]\n",
      "Top right 2x2 submatrix of bar: [[3 4]\n",
      " [8 9]]\n"
     ]
    }
   ],
   "source": [
    "# Part (A)\n",
    "\n",
    "foo = np.arange(30)\n",
    "print(\"foo:\", foo)\n",
    "print(\"Shape of foo:\", foo.shape)\n",
    "\n",
    "# Part (B)\n",
    "\n",
    "bar = foo.reshape(6, 5)\n",
    "print(\"bar:\\n\", bar)\n",
    "print(\"Shape of bar:\", bar.shape)\n",
    "\n",
    "# Part (C)\n",
    "\n",
    "baz = bar.reshape(2, 3, 5)\n",
    "print(\"baz:\\n\", baz)\n",
    "print(\"Shape of baz:\", baz.shape)\n",
    "\n",
    "# Part (D)\n",
    "\n",
    "bar[1, 0] = -1\n",
    "print(\"bar after change:\\n\", bar)\n",
    "print(\"Did foo change?\", foo)\n",
    "print(\"Did baz change?\", baz)\n",
    "\n",
    "# Part (E)\n",
    "\n",
    "print(\"Sum over second dimension:\", np.sum(baz, axis=1))\n",
    "print(\"Sum over third dimension:\", np.sum(baz, axis=2))\n",
    "print(\"Sum over first and third dimensions:\", np.sum(baz, axis=(0, 2)))\n",
    "\n",
    "# Part (F):-\n",
    "\n",
    "print(\"Second row of bar:\", bar[1, :])\n",
    "print(\"Last column of bar:\", bar[:, -1])\n",
    "print(\"Top right 2x2 submatrix of bar:\", bar[:2, -2:])"
   ]
  },
  {
   "cell_type": "markdown",
   "metadata": {},
   "source": [
    "C - If the answer to the above question is N, come up with N − 1 measurements that, when combined with the answer to (A) above would make it possible to recover the masses."
   ]
  },
  {
   "cell_type": "markdown",
   "metadata": {},
   "source": [
    "# Part (A):-\n",
    "  Broadcasting a scalar with a vector\n",
    "\n",
    "# Part (B):- \n",
    "  Create a 10x10 matrix A with Ai,j = i + j\n",
    "\n",
    "# Part (C):- \n",
    "  Standardizing data\n"
   ]
  },
  {
   "cell_type": "code",
   "execution_count": 12,
   "metadata": {},
   "outputs": [
    {
     "name": "stdout",
     "output_type": "stream",
     "text": [
      "Vector: [ 1  2  3  4  5  6  7  8  9 10]\n",
      "Matrix A:\n",
      " [[ 2  3  4  5  6  7  8  9 10 11]\n",
      " [ 3  4  5  6  7  8  9 10 11 12]\n",
      " [ 4  5  6  7  8  9 10 11 12 13]\n",
      " [ 5  6  7  8  9 10 11 12 13 14]\n",
      " [ 6  7  8  9 10 11 12 13 14 15]\n",
      " [ 7  8  9 10 11 12 13 14 15 16]\n",
      " [ 8  9 10 11 12 13 14 15 16 17]\n",
      " [ 9 10 11 12 13 14 15 16 17 18]\n",
      " [10 11 12 13 14 15 16 17 18 19]\n",
      " [11 12 13 14 15 16 17 18 19 20]]\n",
      "Mean of columns: [1.31438343 1.79558797 2.29980558 1.13643832 1.68699645]\n",
      "Standard deviation of columns: [1.3292558  2.24658657 3.71537185 0.85969017 1.72776612]\n",
      "Normalized data: [[ 0.09104665 -0.50864188 -0.46159522 -1.17770428 -0.33258835]\n",
      " [-0.22104039 -0.55765932 -0.17063839  0.87085612 -0.816217  ]\n",
      " [-0.86581959 -0.19803229 -0.20874921 -0.80881918  0.50580554]\n",
      " [-0.6563572   0.36105352 -0.10786578  2.09181769  0.1084469 ]\n",
      " [ 0.95322089  0.30442916 -0.26316155 -0.73509361 -0.81306862]\n",
      " [ 1.2989264  -0.46219189  1.05567237 -1.2476143  -0.8214083 ]\n",
      " [-0.51968875 -0.48633405 -0.34476973 -0.44814713  0.38893435]\n",
      " [-0.20992284 -0.656734    0.41827087 -0.52334256  1.50921188]\n",
      " [ 1.32898194 -0.27682497 -0.38622107 -0.86291343 -0.35460857]\n",
      " [-0.91784716 -0.07730395 -0.16557364  1.85593888  0.99583835]\n",
      " [ 0.92134232 -0.66154104 -0.13182794 -0.73877563 -0.33273786]\n",
      " [-0.04677945  1.72750358 -0.04763563 -0.39572939  4.6461214 ]\n",
      " [-0.49622535 -0.43409169 -0.44234778 -0.34732265 -0.8530074 ]\n",
      " [-0.84336924 -0.48299382 -0.51463366 -0.64002536  0.37545086]\n",
      " [ 0.60900618 -0.59359865 -0.38595522 -0.18626348  0.33973263]\n",
      " [-0.67054803  1.13368722  1.92336945  0.40488977 -0.38787612]\n",
      " [-0.73409147  0.30035704 -0.5364072   0.51277915 -0.91031544]\n",
      " [-0.13968716  0.05510301  0.02008414 -0.89424243 -0.73768802]\n",
      " [ 4.26698735 -0.50800873 -0.28978451 -0.27301251 -0.29695217]\n",
      " [-0.58166094 -0.55905639 -0.51931929  0.06407471 -0.6088561 ]\n",
      " [ 1.54362533 -0.21013549 -0.32868105  0.76003519 -0.4159879 ]\n",
      " [-0.60609176  0.46536906 -0.46944474  0.17549908 -0.3353067 ]\n",
      " [ 0.20771385  3.22286751 -0.42050027  0.26467048 -0.65463212]\n",
      " [-0.90412849  0.73232412 -0.3256958  -1.05097611 -0.32316176]\n",
      " [ 0.06936252  3.33254789  1.373619    3.16794109  0.68198033]\n",
      " [-0.89062111 -0.6649721  -0.37288882 -0.86456348 -0.03710921]\n",
      " [-0.03146358 -0.56543956 -0.43735346 -0.79454716 -0.78251163]\n",
      " [-0.82532888  3.54774135 -0.4539863  -1.03228788  2.7331923 ]\n",
      " [-0.09775467  0.32310153  0.83549644  0.49252877  0.05955479]\n",
      " [-0.34929498 -0.49241103 -0.43018475 -0.50406798  0.2650319 ]\n",
      " [ 0.99785638 -0.66995179  0.64815261 -0.87308833 -0.8767903 ]\n",
      " [-0.46055066 -0.57678176 -0.14280154 -1.19061906 -0.11963073]\n",
      " [-0.50665319 -0.34810769 -0.44552062  1.21934506 -0.77919698]\n",
      " [ 1.61055841 -0.61865719  0.03488258  0.16708407  0.14700741]\n",
      " [-0.83353179 -0.02844374 -0.54685991 -0.75736658 -0.69003667]\n",
      " [-0.81053167 -0.44831302 -0.34976105 -1.04652328 -0.08969747]\n",
      " [ 2.24140459 -0.72972675 -0.39108897  0.5813235   0.05679648]\n",
      " [-0.60738946 -0.53055991  0.08287052  0.17550446 -0.66423486]\n",
      " [-0.62766386 -0.56299185 -0.43910653  0.34825674 -0.01166977]\n",
      " [-0.12407841 -0.09175318  6.05895715  2.71591908  0.56560031]\n",
      " [-0.08821892 -0.55784002 -0.4210289  -0.1062021   0.02804851]\n",
      " [-0.19905295 -0.60795606 -0.47492152 -0.61057164 -0.61364197]\n",
      " [ 1.79740803  1.20364154  0.22442485 -0.33569373 -0.11629549]\n",
      " [-0.77804594  0.14940103 -0.11398193  0.0795938  -0.65691931]\n",
      " [-0.22993881 -0.43353501 -0.29205     0.14346715 -0.13660401]\n",
      " [-0.40022415 -0.37887718 -0.33788659  0.6591532  -0.55559707]\n",
      " [-0.63172696 -0.56849939 -0.4496513   1.33315652  0.69746231]\n",
      " [-0.18371967 -0.3965862   0.28125632  1.20482843 -0.36217341]\n",
      " [-0.1185969  -0.63787112 -0.04290555 -1.11414351 -0.82300534]\n",
      " [-0.72979648 -0.27670486 -0.29427086  0.27099384  2.2053104 ]]\n",
      "Mean of normalized data: [-1.08801856e-16 -6.77236045e-17 -8.88178420e-17 -2.08721929e-16\n",
      "  1.50990331e-16]\n",
      "Standard deviation of normalized data: [1. 1. 1. 1. 1.]\n"
     ]
    }
   ],
   "source": [
    "# Part (A)\n",
    "\n",
    "vec = np.arange(10) + 1\n",
    "print(\"Vector:\", vec)\n",
    "\n",
    "# Part (B)\n",
    "\n",
    "A = vec.reshape(-1, 1) + vec\n",
    "print(\"Matrix A:\\n\", A)\n",
    "\n",
    "# Part (C)\n",
    "\n",
    "import numpy.random as npr\n",
    "\n",
    "data = np.exp(npr.randn(50, 5))  \n",
    "mean = np.mean(data, axis=0)\n",
    "std = np.std(data, axis=0)\n",
    "\n",
    "print(\"Mean of columns:\", mean)\n",
    "print(\"Standard deviation of columns:\", std)\n",
    "\n",
    "normalized = (data - mean) / std\n",
    "print(\"Normalized data:\", normalized)\n",
    "print(\"Mean of normalized data:\", np.mean(normalized, axis=0))\n",
    "print(\"Standard deviation of normalized data:\", np.std(normalized, axis=0))"
   ]
  },
  {
   "cell_type": "markdown",
   "metadata": {},
   "source": [
    "D - What would A and b be in the matrix form of the linear system corresponding to the N measurements?\n",
    "That is, if you were to set this up as Am = b where m is the vector of unknown masses. Denote the result\n",
    "of the ith measurement as bi. (Typeset these using the bmatrix environment.)"
   ]
  },
  {
   "cell_type": "markdown",
   "metadata": {},
   "source": [
    "# Part (A):-\n",
    "  Create a Vandermonde matrix\n",
    "\n",
    "# Part (B):-\n",
    "  Create a vector of ones and multiply with the Vandermonde matrix\n",
    "\n",
    "# Part (C):- \n",
    "  Solve the linear system using matrix inversion\n",
    "\n",
    "# Part (D):- \n",
    "  Solve using np.linalg.solve"
   ]
  },
  {
   "cell_type": "code",
   "execution_count": 14,
   "metadata": {},
   "outputs": [
    {
     "name": "stdout",
     "output_type": "stream",
     "text": [
      "Vandermonde matrix:\n",
      " [[           1            0            0            0            0\n",
      "             0            0            0            0            0\n",
      "             0            0]\n",
      " [           1            1            1            1            1\n",
      "             1            1            1            1            1\n",
      "             1            1]\n",
      " [           1            2            4            8           16\n",
      "            32           64          128          256          512\n",
      "          1024         2048]\n",
      " [           1            3            9           27           81\n",
      "           243          729         2187         6561        19683\n",
      "         59049       177147]\n",
      " [           1            4           16           64          256\n",
      "          1024         4096        16384        65536       262144\n",
      "       1048576      4194304]\n",
      " [           1            5           25          125          625\n",
      "          3125        15625        78125       390625      1953125\n",
      "       9765625     48828125]\n",
      " [           1            6           36          216         1296\n",
      "          7776        46656       279936      1679616     10077696\n",
      "      60466176    362797056]\n",
      " [           1            7           49          343         2401\n",
      "         16807       117649       823543      5764801     40353607\n",
      "     282475249   1977326743]\n",
      " [           1            8           64          512         4096\n",
      "         32768       262144      2097152     16777216    134217728\n",
      "    1073741824   8589934592]\n",
      " [           1            9           81          729         6561\n",
      "         59049       531441      4782969     43046721    387420489\n",
      "    3486784401  31381059609]\n",
      " [           1           10          100         1000        10000\n",
      "        100000      1000000     10000000    100000000   1000000000\n",
      "   10000000000 100000000000]\n",
      " [           1           11          121         1331        14641\n",
      "        161051      1771561     19487171    214358881   2357947691\n",
      "   25937424601 285311670611]]\n",
      "Vector b: [1.00000000e+00 1.20000000e+01 4.09500000e+03 2.65720000e+05\n",
      " 5.59240500e+06 6.10351560e+07 4.35356467e+08 2.30688120e+09\n",
      " 9.81706810e+09 3.53036921e+10 1.11111111e+11 3.13842838e+11]\n",
      "Naive solution (using inverse): [ 1.          5.62054443 -3.72583008  2.25097656  0.83935547  1.01037598\n",
      "  0.99981689  0.99996567  1.00000477  0.99999969  1.00000001  1.        ]\n",
      "Solution using solve: [1.         0.99915477 1.00232792 0.99748615 1.00147115 0.99946917\n",
      " 1.00012544 0.99998016 1.00000208 0.99999986 1.00000001 1.        ]\n"
     ]
    }
   ],
   "source": [
    "# Part (A)\n",
    "\n",
    "vander = np.vander(np.arange(12), increasing=True)\n",
    "print(\"Vandermonde matrix:\\n\", vander)\n",
    "\n",
    "# Part (B)\n",
    "\n",
    "x = np.ones(12)\n",
    "b = np.dot(vander, x)\n",
    "print(\"Vector b:\", b)\n",
    "\n",
    "# Part (C)\n",
    "\n",
    "inv_vander = np.linalg.inv(vander)\n",
    "x_naive = np.dot(inv_vander, b)\n",
    "print(\"Naive solution (using inverse):\", x_naive)\n",
    "\n",
    "# Part (D)\n",
    "\n",
    "x_solve = np.linalg.solve(vander, b)\n",
    "print(\"Solution using solve:\", x_solve)"
   ]
  },
  {
   "cell_type": "markdown",
   "metadata": {},
   "source": [
    "Time spent on the assignment: 2 hours"
   ]
  },
  {
   "cell_type": "code",
   "execution_count": null,
   "metadata": {},
   "outputs": [],
   "source": []
  },
  {
   "cell_type": "code",
   "execution_count": null,
   "metadata": {},
   "outputs": [],
   "source": []
  },
  {
   "cell_type": "code",
   "execution_count": null,
   "metadata": {},
   "outputs": [],
   "source": []
  },
  {
   "cell_type": "code",
   "execution_count": null,
   "metadata": {},
   "outputs": [],
   "source": []
  },
  {
   "cell_type": "code",
   "execution_count": null,
   "metadata": {},
   "outputs": [],
   "source": []
  },
  {
   "cell_type": "code",
   "execution_count": null,
   "metadata": {},
   "outputs": [],
   "source": []
  }
 ],
 "metadata": {
  "kernelspec": {
   "display_name": "Python 3",
   "language": "python",
   "name": "python3"
  },
  "language_info": {
   "codemirror_mode": {
    "name": "ipython",
    "version": 3
   },
   "file_extension": ".py",
   "mimetype": "text/x-python",
   "name": "python",
   "nbconvert_exporter": "python",
   "pygments_lexer": "ipython3",
   "version": "3.12.5"
  }
 },
 "nbformat": 4,
 "nbformat_minor": 2
}
