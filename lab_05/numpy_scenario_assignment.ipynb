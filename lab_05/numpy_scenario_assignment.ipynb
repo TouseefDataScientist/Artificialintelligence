{
 "cells": [
  {
   "cell_type": "markdown",
   "metadata": {},
   "source": [
    "# **Atif Jamil**\n",
    "\n",
    "**Email:** [aatifkh8n@gmail.com](mailto:aatifkh8n@gmail.com)\n",
    "\n",
    "**GitHub:** [aatifkh8n](https://github.com/aatifkh8n) |\n",
    "**Kaggle:** [aatifkh8n](https://kaggle.com/aatifkh8n) |\n",
    "**LinkedIn:** [Atif Jamil](https://linkedin.com/in/atif--jamil)\n",
    "\n",
    "### **Purpose:** NumPy Scenario Assignment"
   ]
  },
  {
   "cell_type": "code",
   "execution_count": 1,
   "metadata": {},
   "outputs": [],
   "source": [
    "# importing the numpy library\n",
    "import numpy as np"
   ]
  },
  {
   "cell_type": "code",
   "execution_count": 80,
   "metadata": {},
   "outputs": [],
   "source": [
    "# Defining a global constant for week day name to number mapping\n",
    "WEEK_DAY_NAME_TO_NUMBER = {\n",
    "    \"Monday\": 0,\n",
    "    \"Tuesday\": 1,\n",
    "    \"Wednesday\": 2,\n",
    "    \"Thursday\": 3,\n",
    "    \"Friday\": 4,\n",
    "    \"Saturday\": 5,\n",
    "    \"Sunday\": 6\n",
    "}\n",
    "\n",
    "# Defining a global constant for week day number to name mapping\n",
    "WEEK_DAY_NUMBER_TO_NAME = (\"Monday\", \"Tuesday\", \"Wednesday\", \"Thursday\", \"Friday\", \"Saturday\", \"Sunday\")"
   ]
  },
  {
   "cell_type": "markdown",
   "metadata": {},
   "source": [
    "### Q1: Sales Data Analysis: You have a NumPy array representing the daily sales of a product over a month. Each element in the array represents the sales for a particular day. Compute the total sales, average sales, and the day with the highest sales."
   ]
  },
  {
   "cell_type": "code",
   "execution_count": 3,
   "metadata": {},
   "outputs": [
    {
     "data": {
      "text/plain": [
       "array([4519,  654, 2893, 1811, 4975, 3590, 4175, 4217, 3103, 4934, 1778,\n",
       "        761, 3073, 3249, 3940, 4314, 2938, 4541, 4392, 4950, 4780, 3471,\n",
       "       2051,  859,  650, 2387,  739, 4890, 1168, 1097], dtype=int32)"
      ]
     },
     "execution_count": 3,
     "metadata": {},
     "output_type": "execute_result"
    }
   ],
   "source": [
    "daily_sales = np.random.randint(500, 5000, 30)\n",
    "\n",
    "daily_sales"
   ]
  },
  {
   "cell_type": "code",
   "execution_count": 5,
   "metadata": {},
   "outputs": [
    {
     "name": "stdout",
     "output_type": "stream",
     "text": [
      "Sales at day 10: 4934\n"
     ]
    }
   ],
   "source": [
    "# Sales at day 10\n",
    "print(\"Sales at day 10:\", daily_sales[9])"
   ]
  },
  {
   "cell_type": "code",
   "execution_count": 6,
   "metadata": {},
   "outputs": [
    {
     "name": "stdout",
     "output_type": "stream",
     "text": [
      "Total Sales: 90899\n",
      "Average Sale: 3029.9666666666667\n",
      "Highest Sale: 4975\n",
      "Highest Sale Day: 5\n"
     ]
    }
   ],
   "source": [
    "print(\"Total Sales:\", np.sum(daily_sales))\n",
    "print(\"Average Sale:\", np.average(daily_sales))\n",
    "print(\"Highest Sale:\", np.max(daily_sales))\n",
    "print(\"Highest Sale Day:\", np.where(daily_sales == np.max(daily_sales))[0][0] + 1)"
   ]
  },
  {
   "cell_type": "markdown",
   "metadata": {},
   "source": [
    "### Q2: Weather Data Processing: Given a 2D NumPy array where each row represents daily temperature readings for a week (7 days), find the average temperature for each day across all weeks."
   ]
  },
  {
   "cell_type": "code",
   "execution_count": 18,
   "metadata": {},
   "outputs": [
    {
     "data": {
      "text/plain": [
       "array([[34.53, 16.22, 33.65,  8.41, 19.83, 28.22, 25.98],\n",
       "       [45.95, 22.88, 30.78, 27.85, 21.09, 22.76, 12.83],\n",
       "       [11.78, 30.88, 32.37,  4.8 , 40.13, 46.26, 23.1 ],\n",
       "       [37.06, 34.34, 16.9 , 17.37, 32.55, 50.01, 46.93]])"
      ]
     },
     "execution_count": 18,
     "metadata": {},
     "output_type": "execute_result"
    }
   ],
   "source": [
    "month_temperatures_weekwise = np.array([\n",
    "    [34.53, 16.22, 33.65,  8.41 , 19.83, 28.22, 25.98],\n",
    "    [45.95, 22.88, 30.78, 27.85, 21.09, 22.76, 12.83],\n",
    "    [11.78, 30.88, 32.37,  4.80, 40.13, 46.26, 23.10],\n",
    "    [37.06, 34.34, 16.90, 17.37, 32.55, 50.01, 46.93]\n",
    "])\n",
    "\n",
    "month_temperatures_weekwise"
   ]
  },
  {
   "cell_type": "code",
   "execution_count": 82,
   "metadata": {},
   "outputs": [
    {
     "name": "stdout",
     "output_type": "stream",
     "text": [
      "Monday Average: 32.33\n",
      "Tuesday Average: 26.08\n",
      "Wednesday Average: 28.425000000000004\n",
      "Thursday Average: 14.607500000000002\n",
      "Friday Average: 28.400000000000002\n",
      "Saturday Average: 36.8125\n",
      "Sunday Average: 27.21\n"
     ]
    }
   ],
   "source": [
    "# axis=0 is for column and axis=1 is for row\n",
    "daywise_average = np.mean(month_temperatures_weekwise, axis=0)\n",
    "\n",
    "for i in range(daywise_average.size):\n",
    "    print(WEEK_DAY_NUMBER_TO_NAME[i], \"Average:\", daywise_average[i])"
   ]
  },
  {
   "cell_type": "markdown",
   "metadata": {},
   "source": [
    "### Q3: Financial Analysis: You have a NumPy array representing the daily closing prices of a stock for a month. Calculate the monthly return, which is the percentage change from the first to the last day of the month."
   ]
  },
  {
   "cell_type": "code",
   "execution_count": 25,
   "metadata": {},
   "outputs": [
    {
     "data": {
      "text/plain": [
       "array([1661, 1502, 2753, 2046, 2424, 2941, 2849, 2386, 1172, 1039, 1886,\n",
       "       1122, 1382, 2756, 2268, 1453, 2510, 1887, 1300, 1975, 2770, 2789,\n",
       "       1419, 1972, 2380, 1526, 2151, 1360, 1817, 2990])"
      ]
     },
     "execution_count": 25,
     "metadata": {},
     "output_type": "execute_result"
    }
   ],
   "source": [
    "stock_closing_arr = np.array([1661, 1502, 2753, 2046, 2424, 2941, 2849, 2386, 1172, 1039, 1886, 1122, 1382, 2756, 2268, 1453, 2510, 1887, 1300, 1975, 2770, 2789, 1419, 1972, 2380, 1526, 2151, 1360, 1817, 2990])\n",
    "\n",
    "stock_closing_arr"
   ]
  },
  {
   "cell_type": "code",
   "execution_count": 30,
   "metadata": {},
   "outputs": [
    {
     "name": "stdout",
     "output_type": "stream",
     "text": [
      "First day price: 1661\n",
      "Last day price: 2990\n",
      "Closing price percentage: 80.01204093919326\n"
     ]
    }
   ],
   "source": [
    "first_day_price = stock_closing_arr[0]\n",
    "last_day_price = stock_closing_arr[-1]\n",
    "\n",
    "closing_price_percentage = (last_day_price - first_day_price) / first_day_price * 100\n",
    "\n",
    "print(\"First day price:\", first_day_price)\n",
    "print(\"Last day price:\", last_day_price)\n",
    "print(\"Closing price percentage:\", closing_price_percentage)"
   ]
  },
  {
   "cell_type": "markdown",
   "metadata": {},
   "source": [
    "### Q4: Student Grades Analysis: You have a 2D NumPy array where each row represents a student and each column represents their grades in different subjects. Calculate the average grade for each student and the overall class average for each subject."
   ]
  },
  {
   "cell_type": "code",
   "execution_count": 35,
   "metadata": {},
   "outputs": [
    {
     "data": {
      "text/plain": [
       "array([[77, 48, 74, 59],\n",
       "       [62, 46, 73, 49],\n",
       "       [53, 83, 64, 89],\n",
       "       [38, 53, 46, 78],\n",
       "       [72, 54, 33, 71]])"
      ]
     },
     "execution_count": 35,
     "metadata": {},
     "output_type": "execute_result"
    }
   ],
   "source": [
    "students_grades = np.array([\n",
    "    [77, 48, 74, 59],\n",
    "    [62, 46, 73, 49],\n",
    "    [53, 83, 64, 89],\n",
    "    [38, 53, 46, 78],\n",
    "    [72, 54, 33, 71]\n",
    "])\n",
    "\n",
    "students_grades"
   ]
  },
  {
   "cell_type": "code",
   "execution_count": 37,
   "metadata": {},
   "outputs": [
    {
     "name": "stdout",
     "output_type": "stream",
     "text": [
      "Average of grades of all students: [64.5  57.5  72.25 53.75 57.5 ]\n"
     ]
    }
   ],
   "source": [
    "# Average of all students\n",
    "student_avg_grades = np.mean(students_grades, axis=1)\n",
    "\n",
    "print(\"Average of grades of all students:\", student_avg_grades)"
   ]
  },
  {
   "cell_type": "code",
   "execution_count": 38,
   "metadata": {},
   "outputs": [
    {
     "name": "stdout",
     "output_type": "stream",
     "text": [
      "Average grades of all subjects: [60.4 56.8 58.  69.2]\n"
     ]
    }
   ],
   "source": [
    "# Overall class average per subject\n",
    "avg_grades_per_subject = np.mean(students_grades, axis=0)\n",
    "\n",
    "print(\"Average grades of all subjects:\", avg_grades_per_subject)"
   ]
  },
  {
   "cell_type": "markdown",
   "metadata": {},
   "source": [
    "### Q5: Image Processing: You have a grayscale image represented as a 2D NumPy array of pixel intensities. Normalize the pixel values to a range of 0 to 1."
   ]
  },
  {
   "cell_type": "code",
   "execution_count": 40,
   "metadata": {},
   "outputs": [
    {
     "data": {
      "text/plain": [
       "array([[241, 201,  24,   6,  81, 190, 150, 189],\n",
       "       [218, 149, 119, 250,  56, 192, 125, 115],\n",
       "       [208,  18,   3, 191, 201,  61, 209, 226],\n",
       "       [  3, 210,   0,  95, 248, 173, 163, 120],\n",
       "       [223,   1,  77, 193, 239,  41, 186, 167],\n",
       "       [ 64, 157, 245, 247,  84, 202,  90,  93],\n",
       "       [220,  93,  87, 205,  54,  52, 244, 207],\n",
       "       [217,  82, 224, 110, 107, 247, 208, 194]], dtype=int32)"
      ]
     },
     "execution_count": 40,
     "metadata": {},
     "output_type": "execute_result"
    }
   ],
   "source": [
    "# 8x8 grayscale image\n",
    "image = np.random.randint(0, 255, (8, 8))\n",
    "\n",
    "image"
   ]
  },
  {
   "cell_type": "code",
   "execution_count": 41,
   "metadata": {},
   "outputs": [
    {
     "data": {
      "text/plain": [
       "array([[1, 1, 0, 0, 0, 1, 1, 1],\n",
       "       [1, 1, 0, 1, 0, 1, 0, 0],\n",
       "       [1, 0, 0, 1, 1, 0, 1, 1],\n",
       "       [0, 1, 0, 0, 1, 1, 1, 0],\n",
       "       [1, 0, 0, 1, 1, 0, 1, 1],\n",
       "       [0, 1, 1, 1, 0, 1, 0, 0],\n",
       "       [1, 0, 0, 1, 0, 0, 1, 1],\n",
       "       [1, 0, 1, 0, 0, 1, 1, 1]], dtype=int32)"
      ]
     },
     "execution_count": 41,
     "metadata": {},
     "output_type": "execute_result"
    }
   ],
   "source": [
    "image[image < 127] = 0\n",
    "image[image >= 127] = 1\n",
    "\n",
    "image"
   ]
  },
  {
   "cell_type": "markdown",
   "metadata": {},
   "source": [
    "### Q6: Population Growth Analysis: You have a NumPy array representing the population of a city over 10 years. Calculate the annual growth rate and identify the year with the highest growth."
   ]
  },
  {
   "cell_type": "code",
   "execution_count": 43,
   "metadata": {},
   "outputs": [
    {
     "data": {
      "text/plain": [
       "array([ 90703, 141118, 203737, 352764, 428163, 494867, 584870, 614585,\n",
       "       625397, 752756])"
      ]
     },
     "execution_count": 43,
     "metadata": {},
     "output_type": "execute_result"
    }
   ],
   "source": [
    "city_10_years_population = np.array([90_703, 141_118, 203_737, 352_764, 428_163, 494_867, 584_870, 614_585, 625_397, 752_756])\n",
    "\n",
    "city_10_years_population"
   ]
  },
  {
   "cell_type": "code",
   "execution_count": 45,
   "metadata": {},
   "outputs": [
    {
     "data": {
      "text/plain": [
       "array([0., 0., 0., 0., 0., 0., 0., 0., 0., 0.])"
      ]
     },
     "execution_count": 45,
     "metadata": {},
     "output_type": "execute_result"
    }
   ],
   "source": [
    "growth_rate_per_year = np.zeros(city_10_years_population.size)\n",
    "\n",
    "growth_rate_per_year"
   ]
  },
  {
   "cell_type": "code",
   "execution_count": 46,
   "metadata": {},
   "outputs": [
    {
     "data": {
      "text/plain": [
       "array([ 0.        , 55.58250554, 44.37350303, 73.14675292, 21.37377964,\n",
       "       15.57911356, 18.18731093,  5.08061621,  1.75923591, 20.36450447])"
      ]
     },
     "execution_count": 46,
     "metadata": {},
     "output_type": "execute_result"
    }
   ],
   "source": [
    "for i in range(1, city_10_years_population.size):\n",
    "    curr_population = city_10_years_population[i]\n",
    "    prev_populaiton = city_10_years_population[i - 1]\n",
    "    \n",
    "    growth_rate = (curr_population - prev_populaiton) / prev_populaiton * 100\n",
    "    growth_rate_per_year[i] = growth_rate\n",
    "\n",
    "growth_rate_per_year"
   ]
  },
  {
   "cell_type": "code",
   "execution_count": 47,
   "metadata": {},
   "outputs": [
    {
     "name": "stdout",
     "output_type": "stream",
     "text": [
      "Highest growth rate: 73.1467529216588\n",
      "Highest growth rate year: 4\n"
     ]
    }
   ],
   "source": [
    "highest_growth_rate = np.max(growth_rate_per_year)\n",
    "highest_growth_rate_index = np.where(growth_rate_per_year == highest_growth_rate)[0][0]\n",
    "\n",
    "print(\"Highest growth rate:\", highest_growth_rate)\n",
    "print(\"Highest growth rate year:\", highest_growth_rate_index+1)"
   ]
  },
  {
   "cell_type": "markdown",
   "metadata": {},
   "source": [
    "### Q7: Traffic Data Analysis: Given a 2D NumPy array where each row represents the number of vehicles passing through a checkpoint in different hours of the day over a week, calculate the total traffic for each day and the busiest hour of the week."
   ]
  },
  {
   "cell_type": "code",
   "execution_count": 50,
   "metadata": {},
   "outputs": [
    {
     "data": {
      "text/plain": [
       "array([[50, 88, 63, 67, 55, 30, 36, 84,  2, 19, 74, 49, 27, 21, 75,  7,\n",
       "        72, 92, 86, 98, 24, 53, 36, 11],\n",
       "       [89, 25,  4, 86, 32, 73, 39, 60, 84, 81, 81, 40, 98,  1, 64, 89,\n",
       "        52, 45, 51, 46, 71, 69, 54, 12],\n",
       "       [59, 83, 61, 10, 47,  1, 52, 80, 34, 29, 34, 21, 26, 46, 72, 59,\n",
       "        34, 24, 95, 91, 47, 82, 75, 39],\n",
       "       [94, 28, 93, 76, 91, 86, 68, 45,  4, 63, 96, 85,  4, 20, 23, 29,\n",
       "        47, 77, 13, 48, 15, 94, 77, 50],\n",
       "       [82,  1, 34, 70,  2, 80, 25, 66, 47, 69, 79, 36, 26, 70, 92, 37,\n",
       "        24,  6, 14, 97, 17, 73,  7, 73],\n",
       "       [60, 27, 10, 65, 44, 26, 82, 96, 18, 74, 69, 48, 92,  0,  4, 94,\n",
       "        97,  2, 80, 70, 99, 63, 88, 57],\n",
       "       [38, 70, 19, 53,  6, 80, 13, 94, 80, 12, 87, 88, 56, 98, 25, 30,\n",
       "        61, 22, 51, 37, 25, 49, 44, 67]])"
      ]
     },
     "execution_count": 50,
     "metadata": {},
     "output_type": "execute_result"
    }
   ],
   "source": [
    "# Week data about the number of vehicles passing through the checkpoint 24/7\n",
    "# Order of data: 7x24 (7 days, 24 hours)\n",
    "traffic_checkpoint_week_data = np.array([\n",
    "    [50, 88, 63, 67, 55, 30, 36, 84,  2, 19, 74, 49, 27, 21, 75,  7, 72, 92, 86, 98, 24, 53, 36, 11],\n",
    "    [89, 25,  4, 86, 32, 73, 39, 60, 84, 81, 81, 40, 98,  1, 64, 89, 52, 45, 51, 46, 71, 69, 54, 12],\n",
    "    [59, 83, 61, 10, 47,  1, 52, 80, 34, 29, 34, 21, 26, 46, 72, 59, 34, 24, 95, 91, 47, 82, 75, 39],\n",
    "    [94, 28, 93, 76, 91, 86, 68, 45,  4, 63, 96, 85,  4, 20, 23, 29, 47, 77, 13, 48, 15, 94, 77, 50],\n",
    "    [82,  1, 34, 70,  2, 80, 25, 66, 47, 69, 79, 36, 26, 70, 92, 37, 24,  6, 14, 97, 17, 73,  7, 73],\n",
    "    [60, 27, 10, 65, 44, 26, 82, 96, 18, 74, 69, 48, 92,  0,  4, 94, 97,  2, 80, 70, 99, 63, 88, 57],\n",
    "    [38, 70, 19, 53,  6, 80, 13, 94, 80, 12, 87, 88, 56, 98, 25, 30, 61, 22, 51, 37, 25, 49, 44, 67]\n",
    "])\n",
    "\n",
    "traffic_checkpoint_week_data"
   ]
  },
  {
   "cell_type": "code",
   "execution_count": 83,
   "metadata": {},
   "outputs": [
    {
     "name": "stdout",
     "output_type": "stream",
     "text": [
      "Total traffic on day Monday : 1219\n",
      "Total traffic on day Tuesday : 1346\n",
      "Total traffic on day Wednesday : 1201\n",
      "Total traffic on day Thursday : 1326\n",
      "Total traffic on day Friday : 1127\n",
      "Total traffic on day Saturday : 1365\n",
      "Total traffic on day Sunday : 1205\n"
     ]
    }
   ],
   "source": [
    "total_traffic_per_day = np.sum(traffic_checkpoint_week_data, axis=1)\n",
    "\n",
    "for i in range(traffic_checkpoint_week_data.shape[0]):\n",
    "    print(\"Total traffic on day\", WEEK_DAY_NUMBER_TO_NAME[i], \":\", total_traffic_per_day[i])"
   ]
  },
  {
   "cell_type": "code",
   "execution_count": 69,
   "metadata": {},
   "outputs": [
    {
     "name": "stdout",
     "output_type": "stream",
     "text": [
      "Highest traffic hour in the week: 99\n"
     ]
    }
   ],
   "source": [
    "highest_traffic = np.max(traffic_checkpoint_week_data)\n",
    "\n",
    "print(\"Highest traffic hour in the week:\", highest_traffic)"
   ]
  },
  {
   "cell_type": "code",
   "execution_count": 84,
   "metadata": {},
   "outputs": [
    {
     "name": "stdout",
     "output_type": "stream",
     "text": [
      "Day: Saturday\n",
      "Hour: 21\n"
     ]
    }
   ],
   "source": [
    "busiest_hour = np.where(traffic_checkpoint_week_data == highest_traffic)\n",
    "\n",
    "print(\"Day:\", WEEK_DAY_NUMBER_TO_NAME[busiest_hour[0][0]])\n",
    "print(\"Hour:\", busiest_hour[1][0]+1)"
   ]
  },
  {
   "cell_type": "markdown",
   "metadata": {},
   "source": [
    "### Q8: Product Inventory Management: You have a NumPy array representing the stock levels of different products in a warehouse. Reorder the products with stock levels below a threshold (e.g., 50 units)."
   ]
  },
  {
   "cell_type": "code",
   "execution_count": 86,
   "metadata": {},
   "outputs": [
    {
     "data": {
      "text/plain": [
       "array([46, 20, 31, 74, 29, 53,  6, 46, 34, 52], dtype=int32)"
      ]
     },
     "execution_count": 86,
     "metadata": {},
     "output_type": "execute_result"
    }
   ],
   "source": [
    "stock_levels_arr = np.random.randint(1, 100, size=10)\n",
    "\n",
    "stock_levels_arr"
   ]
  },
  {
   "cell_type": "code",
   "execution_count": 93,
   "metadata": {},
   "outputs": [
    {
     "name": "stdout",
     "output_type": "stream",
     "text": [
      "Stock below threshold: [46 20 31 29  6 46 34]\n",
      "Products that need to be reordered (stock levels below the threshold): [0 1 2 4 6 7 8]\n"
     ]
    }
   ],
   "source": [
    "THRESHOLD = 50\n",
    "\n",
    "products_stock_below_threshold = stock_levels_arr[stock_levels_arr < THRESHOLD]\n",
    "products_to_reorder = np.where(stock_levels_arr < THRESHOLD)[0]\n",
    "\n",
    "print(\"Stock below threshold:\", products_stock_below_threshold)\n",
    "print(\"Products that need to be reordered (stock levels below the threshold):\", products_to_reorder)"
   ]
  },
  {
   "cell_type": "markdown",
   "metadata": {},
   "source": [
    "### Q9: Game Score Analysis: You have a NumPy array representing the scores of different players in a game over multiple rounds. Identify the player with the highest average score and the round with the highest total score."
   ]
  },
  {
   "cell_type": "code",
   "execution_count": 103,
   "metadata": {},
   "outputs": [
    {
     "data": {
      "text/plain": [
       "array([[ 13,  98,  11,  34,  73],\n",
       "       [105,  73,  72,  53,  70],\n",
       "       [ 10,  16,  20, 109,  64],\n",
       "       [ 26, 113,  34, 103,   0],\n",
       "       [ 14,  58,   0,  72,   0]])"
      ]
     },
     "execution_count": 103,
     "metadata": {},
     "output_type": "execute_result"
    }
   ],
   "source": [
    "# axis=0, column is player\n",
    "# axis=1, row is round\n",
    "game_scores_in_rounds_per_player = np.array([\n",
    "    [ 13, 98,  11,  34,  73],\n",
    "    [105,  73,  72,  53,  70],\n",
    "    [ 10,  16,  20, 109,  64],\n",
    "    [ 26, 113,  34, 103,  0],\n",
    "    [ 14,  58, 0,  72,  0]\n",
    "])\n",
    "\n",
    "game_scores_in_rounds_per_player"
   ]
  },
  {
   "cell_type": "code",
   "execution_count": 99,
   "metadata": {},
   "outputs": [
    {
     "name": "stdout",
     "output_type": "stream",
     "text": [
      "Highest score: 113\n"
     ]
    }
   ],
   "source": [
    "highest_scores = np.max(game_scores_in_rounds_per_player)\n",
    "\n",
    "print(\"Highest score:\", highest_scores)"
   ]
  },
  {
   "cell_type": "code",
   "execution_count": 102,
   "metadata": {},
   "outputs": [
    {
     "name": "stdout",
     "output_type": "stream",
     "text": [
      "Player who got the highest score: 1\n",
      "Round: 4\n"
     ]
    }
   ],
   "source": [
    "highest_scores_index = np.where(game_scores_in_rounds_per_player == highest_scores)\n",
    "\n",
    "print(\"Player who got the highest score:\", highest_scores_index[1][0])\n",
    "print(\"Round:\", highest_scores_index[0][0]+1)"
   ]
  },
  {
   "cell_type": "markdown",
   "metadata": {},
   "source": [
    "### Q10: Financial Portfolio Analysis: You have a NumPy array representing the daily returns of different assets in a financial portfolio over a month. Calculate the portfolio's overall daily return, and identify the asset with the highest volatility."
   ]
  },
  {
   "cell_type": "code",
   "execution_count": 112,
   "metadata": {},
   "outputs": [
    {
     "data": {
      "text/plain": [
       "array([[3800, 8400, 5400, 1700, 5600],\n",
       "       [4500, 2800, 2400,  800, 5500],\n",
       "       [4400,  900, 1600, 1500, 4800],\n",
       "       [5400, 2100, 9200, 5600, 6600],\n",
       "       [6900, 3700, 1400, 9200, 6600],\n",
       "       [1500, 3500, 3000, 5900, 7600],\n",
       "       [4800, 5900,  700, 2800, 7400],\n",
       "       [3900, 1900, 6700, 7900, 2000],\n",
       "       [1900, 9700,  100, 8100, 7900],\n",
       "       [7300, 8400, 9500, 8800, 1600],\n",
       "       [2000, 4500, 1700, 4900, 1000],\n",
       "       [9900, 5500, 7600, 6100, 6900],\n",
       "       [7300, 9800, 7700, 9700, 6800],\n",
       "       [2500, 4400, 3600, 6300, 1300],\n",
       "       [5800, 1700, 9200, 4400, 1800],\n",
       "       [7800, 5300,  700, 1300, 7100],\n",
       "       [7800, 2000, 7600,  800, 3100],\n",
       "       [8300, 1700, 2800, 5000,  100],\n",
       "       [3800, 6000, 7200, 5200, 1300],\n",
       "       [4800, 6700, 5200, 2400, 2900],\n",
       "       [1000, 7900, 9200, 3800, 8600],\n",
       "       [2200, 9700, 5600, 1500, 2700],\n",
       "       [6900, 6700, 5400, 3800, 3500],\n",
       "       [9300, 7000,  600, 3500, 6100],\n",
       "       [7800, 8600, 7300, 4800, 2800],\n",
       "       [1700, 9900, 9700, 8800, 9500],\n",
       "       [7200,  800, 1900, 7000, 7200],\n",
       "       [6400, 9500, 5200, 7800, 1700],\n",
       "       [6500, 7400, 3100, 8200, 7900],\n",
       "       [6100, 9800, 5100, 9500, 7300]])"
      ]
     },
     "execution_count": 112,
     "metadata": {},
     "output_type": "execute_result"
    }
   ],
   "source": [
    "# Array of order 30x5\n",
    "# 30 days, 5 assets\n",
    "daily_returns_arr = np.array([\n",
    "    [3800, 8400, 5400, 1700, 5600],\n",
    "    [4500, 2800, 2400,  800, 5500],\n",
    "    [4400,  900, 1600, 1500, 4800],\n",
    "    [5400, 2100, 9200, 5600, 6600],\n",
    "    [6900, 3700, 1400, 9200, 6600],\n",
    "    [1500, 3500, 3000, 5900, 7600],\n",
    "    [4800, 5900,  700, 2800, 7400],\n",
    "    [3900, 1900, 6700, 7900, 2000],\n",
    "    [1900, 9700,  100, 8100, 7900],\n",
    "    [7300, 8400, 9500, 8800, 1600],\n",
    "    [2000, 4500, 1700, 4900, 1000],\n",
    "    [9900, 5500, 7600, 6100, 6900],\n",
    "    [7300, 9800, 7700, 9700, 6800],\n",
    "    [2500, 4400, 3600, 6300, 1300],\n",
    "    [5800, 1700, 9200, 4400, 1800],\n",
    "    [7800, 5300,  700, 1300, 7100],\n",
    "    [7800, 2000, 7600,  800, 3100],\n",
    "    [8300, 1700, 2800, 5000,  100],\n",
    "    [3800, 6000, 7200, 5200, 1300],\n",
    "    [4800, 6700, 5200, 2400, 2900],\n",
    "    [1000, 7900, 9200, 3800, 8600],\n",
    "    [2200, 9700, 5600, 1500, 2700],\n",
    "    [6900, 6700, 5400, 3800, 3500],\n",
    "    [9300, 7000,  600, 3500, 6100],\n",
    "    [7800, 8600, 7300, 4800, 2800],\n",
    "    [1700, 9900, 9700, 8800, 9500],\n",
    "    [7200,  800, 1900, 7000, 7200],\n",
    "    [6400, 9500, 5200, 7800, 1700],\n",
    "    [6500, 7400, 3100, 8200, 7900],\n",
    "    [6100, 9800, 5100, 9500, 7300]\n",
    "])\n",
    "\n",
    "daily_returns_arr"
   ]
  },
  {
   "cell_type": "code",
   "execution_count": 117,
   "metadata": {},
   "outputs": [
    {
     "name": "stdout",
     "output_type": "stream",
     "text": [
      "Overall Daily Return for the Portfolio:\n",
      "[4980. 3200. 2640. 5780. 5560. 4300. 4320. 4480. 5540. 7120. 2820. 7200.\n",
      " 8260. 3620. 4580. 4440. 4260. 3580. 4700. 4400. 6100. 4340. 5260. 5300.\n",
      " 6260. 7920. 4820. 6120. 6620. 7560.]\n",
      "\n",
      "Volatility of each asset:\n",
      "[2445.27889798 3016.13439135 3032.97433773 2786.21407808 2705.74697019]\n",
      "\n",
      "Asset with the highest volatility is Asset 3 with a volatility of 3032.97\n"
     ]
    }
   ],
   "source": [
    "# 1. Calculate the overall daily return for the portfolio\n",
    "overall_daily_return = np.mean(daily_returns_arr, axis=1)\n",
    "\n",
    "# 2. Calculate the volatility (standard deviation) for each asset's returns\n",
    "volatility = np.std(daily_returns_arr, axis=0)\n",
    "\n",
    "# 3. Identify the asset with the highest volatility\n",
    "highest_volatility_index = np.argmax(volatility)\n",
    "highest_volatility_value = volatility[highest_volatility_index]\n",
    "\n",
    "# Print results\n",
    "print(\"Overall Daily Return for the Portfolio:\")\n",
    "print(overall_daily_return)\n",
    "\n",
    "print(\"\\nVolatility of each asset:\")\n",
    "print(volatility)\n",
    "\n",
    "print(f\"\\nAsset with the highest volatility is Asset {highest_volatility_index + 1} with a volatility of {highest_volatility_value:.2f}\")"
   ]
  },
  {
   "cell_type": "markdown",
   "metadata": {},
   "source": [
    "---\n",
    "\n",
    "<h2 style=\"text-align: center;\">Status: <span style=\"color: green;\">Task Completed</span></h2>"
   ]
  }
 ],
 "metadata": {
  "kernelspec": {
   "display_name": "Python 3",
   "language": "python",
   "name": "python3"
  },
  "language_info": {
   "codemirror_mode": {
    "name": "ipython",
    "version": 3
   },
   "file_extension": ".py",
   "mimetype": "text/x-python",
   "name": "python",
   "nbconvert_exporter": "python",
   "pygments_lexer": "ipython3",
   "version": "3.12.1"
  }
 },
 "nbformat": 4,
 "nbformat_minor": 2
}
