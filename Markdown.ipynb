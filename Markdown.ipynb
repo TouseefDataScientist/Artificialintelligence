{
 "cells": [
  {
   "cell_type": "markdown",
   "metadata": {},
   "source": [
    "# Markdown Language Practice"
   ]
  },
  {
   "cell_type": "markdown",
   "metadata": {},
   "source": [
    "### My name is **Muhammad Muzammil**"
   ]
  },
  {
   "cell_type": "markdown",
   "metadata": {},
   "source": [
    "> I recently graduated from *Hazara University* whith a degree in ***Software Engineering*** with a CGPA of **3.88**\n",
    ">\n",
    "> > - During my Bachelors I completed a course on **Unity 3D Game Development** by **KPIT Board**\n",
    "> > - After graduation I was enrolled in a course on **Python Programming** by  **NAVTTC**\n",
    "> > - Currently I am enrolled in a course in **AI & ML** by **TEVTA**"
   ]
  },
  {
   "cell_type": "markdown",
   "metadata": {},
   "source": [
    "> ### Online Certifications\n",
    ">\n",
    "> > I have several other online certifications on:\n",
    "> > 1. **AI for Social Impact** by **ADBI**\n",
    "> > 2. **Data Science & Analytics** by **HP Life**\n",
    "> > 3. **National Digital Empoverment** by **Digital Institute of Pakistan**\n"
   ]
  },
  {
   "cell_type": "markdown",
   "metadata": {},
   "source": [
    ">### Achievements\n",
    ">\n",
    ">My Achievements include:\n",
    "> > 1. Secured *Second Position* in **National Photography Competition** by **Youth for Pakistan**\n",
    "> > 2. Awarded with a **Laptop** by ***PM Laptop Scheme***\n",
    "> > 3. I was in top **3** among my Batch in my Bachelors"
   ]
  }
 ],
 "metadata": {
  "kernelspec": {
   "display_name": "Python 3",
   "language": "python",
   "name": "python3"
  },
  "language_info": {
   "name": "python",
   "version": "3.11.7"
  }
 },
 "nbformat": 4,
 "nbformat_minor": 2
}
