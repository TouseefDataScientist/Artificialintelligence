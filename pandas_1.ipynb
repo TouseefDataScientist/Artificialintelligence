{
 "cells": [
  {
   "cell_type": "markdown",
   "metadata": {},
   "source": [
    "Name: Minhas Ahmed"
   ]
  },
  {
   "cell_type": "markdown",
   "metadata": {},
   "source": [
    "# we import as follows:"
   ]
  },
  {
   "cell_type": "code",
   "execution_count": 2,
   "metadata": {},
   "outputs": [],
   "source": [
    "import pandas as pd"
   ]
  },
  {
   "cell_type": "code",
   "execution_count": 3,
   "metadata": {},
   "outputs": [],
   "source": [
    "import numpy as np"
   ]
  },
  {
   "cell_type": "markdown",
   "metadata": {},
   "source": [
    "# Import data set\"Laptop-Price.csv\""
   ]
  },
  {
   "cell_type": "code",
   "execution_count": 4,
   "metadata": {},
   "outputs": [
    {
     "name": "stdout",
     "output_type": "stream",
     "text": [
      "     Company                                    Product            TypeName  \\\n",
      "0         HP                                     250 G6            Notebook   \n",
      "1       Acer                                   Aspire 3            Notebook   \n",
      "2       Asus                            ZenBook UX430UN           Ultrabook   \n",
      "3       Acer                                    Swift 3           Ultrabook   \n",
      "4         HP                                     250 G6            Notebook   \n",
      "...      ...                                        ...                 ...   \n",
      "1141    Dell                              Inspiron 3567            Notebook   \n",
      "1142    Asus  X556UJ-XO044T (i7-6500U/4GB/500GB/GeForce            Notebook   \n",
      "1143  Lenovo                             Yoga 500-14ISK  2 in 1 Convertible   \n",
      "1144  Lenovo                             Yoga 900-13ISK  2 in 1 Convertible   \n",
      "1145      HP        15-AC110nv (i7-6500U/6GB/1TB/Radeon            Notebook   \n",
      "\n",
      "      Inches                            ScreenResolution   Ram       OpSys  \\\n",
      "0       15.6                           Full HD 1920x1080   8GB       No OS   \n",
      "1       15.6                                    1366x768   4GB  Windows 10   \n",
      "2       14.0                           Full HD 1920x1080  16GB  Windows 10   \n",
      "3       14.0                 IPS Panel Full HD 1920x1080   8GB  Windows 10   \n",
      "4       15.6                                    1366x768   4GB       No OS   \n",
      "...      ...                                         ...   ...         ...   \n",
      "1141    15.6                                    1366x768   8GB       Linux   \n",
      "1142    15.6                                    1366x768   4GB  Windows 10   \n",
      "1143    14.0   IPS Panel Full HD / Touchscreen 1920x1080   4GB  Windows 10   \n",
      "1144    13.3  IPS Panel Quad HD+ / Touchscreen 3200x1800  16GB  Windows 10   \n",
      "1145    15.6                                    1366x768   6GB  Windows 10   \n",
      "\n",
      "     Cpu Brand       Cpu Model Cpu Rate  SSD  HDD  Flash Storage  Hybrid  \\\n",
      "0        Intel   Core i5 7200U   2.5GHz  256    0              0       0   \n",
      "1          AMD  A9-Series 9420     3GHz    0  500              0       0   \n",
      "2        Intel   Core i7 8550U   1.8GHz  512    0              0       0   \n",
      "3        Intel   Core i5 8250U   1.6GHz  256    0              0       0   \n",
      "4        Intel   Core i5 7200U   2.5GHz    0  500              0       0   \n",
      "...        ...             ...      ...  ...  ...            ...     ...   \n",
      "1141     Intel   Core i7 7500U   2.7GHz    0    1              0       0   \n",
      "1142     Intel   Core i7 6500U   2.5GHz    0  500              0       0   \n",
      "1143     Intel   Core i7 6500U   2.5GHz  128    0              0       0   \n",
      "1144     Intel   Core i7 6500U   2.5GHz  512    0              0       0   \n",
      "1145     Intel   Core i7 6500U   2.5GHz    0    1              0       0   \n",
      "\n",
      "     Gpu Brand         Gpu Model  Unnamed: 16  Price_euros  \n",
      "0        Intel   HD Graphics 620          NaN       575.00  \n",
      "1          AMD         Radeon R5          NaN       400.00  \n",
      "2       Nvidia     GeForce MX150          NaN      1495.00  \n",
      "3        Intel  UHD Graphics 620          NaN       770.00  \n",
      "4        Intel   HD Graphics 620          NaN       393.90  \n",
      "...        ...               ...          ...          ...  \n",
      "1141       AMD    Radeon R5 M430          NaN       805.99  \n",
      "1142    Nvidia      GeForce 920M          NaN       720.32  \n",
      "1143     Intel   HD Graphics 520          NaN       638.00  \n",
      "1144     Intel   HD Graphics 520          NaN      1499.00  \n",
      "1145       AMD    Radeon R5 M330          NaN       764.00  \n",
      "\n",
      "[1146 rows x 18 columns]\n"
     ]
    }
   ],
   "source": [
    "df = pd.read_csv(\"Laptop-Price.csv\")\n",
    "print(df)"
   ]
  },
  {
   "cell_type": "markdown",
   "metadata": {},
   "source": []
  },
  {
   "cell_type": "markdown",
   "metadata": {},
   "source": [
    "# Creating a series:"
   ]
  },
  {
   "cell_type": "code",
   "execution_count": 5,
   "metadata": {},
   "outputs": [
    {
     "name": "stdout",
     "output_type": "stream",
     "text": [
      "0    1.0\n",
      "1    3.0\n",
      "2    5.0\n",
      "3    NaN\n",
      "4    6.0\n",
      "5    8.0\n",
      "dtype: float64\n"
     ]
    }
   ],
   "source": [
    "k = pd.Series([1, 3, 5, np.nan, 6, 8])\n",
    "print(k)\n"
   ]
  },
  {
   "cell_type": "markdown",
   "metadata": {},
   "source": [
    "# Datetime index using date_range and labeled columns:"
   ]
  },
  {
   "cell_type": "code",
   "execution_count": 6,
   "metadata": {},
   "outputs": [
    {
     "name": "stdout",
     "output_type": "stream",
     "text": [
      "DatetimeIndex(['2013-01-01', '2013-01-02', '2013-01-03', '2013-01-04',\n",
      "               '2013-01-05', '2013-01-06'],\n",
      "              dtype='datetime64[ns]', freq='D')\n"
     ]
    }
   ],
   "source": [
    "dates = pd.date_range(\"20130101\", periods=6)\n",
    "print(dates)"
   ]
  },
  {
   "cell_type": "markdown",
   "metadata": {},
   "source": [
    "# Creating a DataFrame by passing a dictionary of objects:"
   ]
  },
  {
   "cell_type": "code",
   "execution_count": 7,
   "metadata": {},
   "outputs": [
    {
     "name": "stdout",
     "output_type": "stream",
     "text": [
      "     A          B    C  D       E     F\n",
      "0  1.0 2013-01-02  1.0  3      HP  full\n",
      "1  1.0 2013-01-02  1.0  3    Acer  full\n",
      "2  1.0 2013-01-02  1.0  3    Dell  full\n",
      "3  1.0 2013-01-02  1.0  3  Lenovo  full\n"
     ]
    }
   ],
   "source": [
    "df = pd.DataFrame(\n",
    "    {\n",
    "        \"A\": 1.0,\n",
    "        \"B\": pd.Timestamp(\"20130102\"),\n",
    "        \"C\": pd.Series(1, index=list(range(4)), dtype=\"float32\"),\n",
    "        \"D\": np.array([3] * 4, dtype=\"int32\"),\n",
    "        \"E\": pd.Categorical([\"HP\", \"Acer\", \"Dell\", \"Lenovo\"]),\n",
    "        \"F\": \"full\",\n",
    "    }\n",
    ")\n",
    "print(df)"
   ]
  },
  {
   "cell_type": "markdown",
   "metadata": {},
   "source": [
    "# columns of the resulting DataFrame:"
   ]
  },
  {
   "cell_type": "code",
   "execution_count": 8,
   "metadata": {},
   "outputs": [
    {
     "data": {
      "text/plain": [
       "A          float64\n",
       "B    datetime64[s]\n",
       "C          float32\n",
       "D            int32\n",
       "E         category\n",
       "F           object\n",
       "dtype: object"
      ]
     },
     "execution_count": 8,
     "metadata": {},
     "output_type": "execute_result"
    }
   ],
   "source": [
    "df.dtypes"
   ]
  },
  {
   "cell_type": "code",
   "execution_count": 9,
   "metadata": {},
   "outputs": [
    {
     "data": {
      "text/html": [
       "<div>\n",
       "<style scoped>\n",
       "    .dataframe tbody tr th:only-of-type {\n",
       "        vertical-align: middle;\n",
       "    }\n",
       "\n",
       "    .dataframe tbody tr th {\n",
       "        vertical-align: top;\n",
       "    }\n",
       "\n",
       "    .dataframe thead th {\n",
       "        text-align: right;\n",
       "    }\n",
       "</style>\n",
       "<table border=\"1\" class=\"dataframe\">\n",
       "  <thead>\n",
       "    <tr style=\"text-align: right;\">\n",
       "      <th></th>\n",
       "      <th>A</th>\n",
       "      <th>B</th>\n",
       "      <th>C</th>\n",
       "      <th>D</th>\n",
       "      <th>E</th>\n",
       "      <th>F</th>\n",
       "    </tr>\n",
       "  </thead>\n",
       "  <tbody>\n",
       "    <tr>\n",
       "      <th>0</th>\n",
       "      <td>1.0</td>\n",
       "      <td>2013-01-02</td>\n",
       "      <td>1.0</td>\n",
       "      <td>3</td>\n",
       "      <td>HP</td>\n",
       "      <td>full</td>\n",
       "    </tr>\n",
       "    <tr>\n",
       "      <th>1</th>\n",
       "      <td>1.0</td>\n",
       "      <td>2013-01-02</td>\n",
       "      <td>1.0</td>\n",
       "      <td>3</td>\n",
       "      <td>Acer</td>\n",
       "      <td>full</td>\n",
       "    </tr>\n",
       "    <tr>\n",
       "      <th>2</th>\n",
       "      <td>1.0</td>\n",
       "      <td>2013-01-02</td>\n",
       "      <td>1.0</td>\n",
       "      <td>3</td>\n",
       "      <td>Dell</td>\n",
       "      <td>full</td>\n",
       "    </tr>\n",
       "    <tr>\n",
       "      <th>3</th>\n",
       "      <td>1.0</td>\n",
       "      <td>2013-01-02</td>\n",
       "      <td>1.0</td>\n",
       "      <td>3</td>\n",
       "      <td>Lenovo</td>\n",
       "      <td>full</td>\n",
       "    </tr>\n",
       "  </tbody>\n",
       "</table>\n",
       "</div>"
      ],
      "text/plain": [
       "     A          B    C  D       E     F\n",
       "0  1.0 2013-01-02  1.0  3      HP  full\n",
       "1  1.0 2013-01-02  1.0  3    Acer  full\n",
       "2  1.0 2013-01-02  1.0  3    Dell  full\n",
       "3  1.0 2013-01-02  1.0  3  Lenovo  full"
      ]
     },
     "execution_count": 9,
     "metadata": {},
     "output_type": "execute_result"
    }
   ],
   "source": [
    "df.head()"
   ]
  },
  {
   "cell_type": "code",
   "execution_count": 10,
   "metadata": {},
   "outputs": [
    {
     "data": {
      "text/plain": [
       "Index([0, 1, 2, 3], dtype='int64')"
      ]
     },
     "execution_count": 10,
     "metadata": {},
     "output_type": "execute_result"
    }
   ],
   "source": [
    "df.index\n"
   ]
  },
  {
   "cell_type": "code",
   "execution_count": 11,
   "metadata": {},
   "outputs": [
    {
     "data": {
      "text/plain": [
       "array([[1.0, Timestamp('2013-01-02 00:00:00'), 1.0, 3, 'HP', 'full'],\n",
       "       [1.0, Timestamp('2013-01-02 00:00:00'), 1.0, 3, 'Acer', 'full'],\n",
       "       [1.0, Timestamp('2013-01-02 00:00:00'), 1.0, 3, 'Dell', 'full'],\n",
       "       [1.0, Timestamp('2013-01-02 00:00:00'), 1.0, 3, 'Lenovo', 'full']],\n",
       "      dtype=object)"
      ]
     },
     "execution_count": 11,
     "metadata": {},
     "output_type": "execute_result"
    }
   ],
   "source": [
    "df.to_numpy()"
   ]
  },
  {
   "cell_type": "code",
   "execution_count": 12,
   "metadata": {},
   "outputs": [
    {
     "data": {
      "text/plain": [
       "A          float64\n",
       "B    datetime64[s]\n",
       "C          float32\n",
       "D            int32\n",
       "E         category\n",
       "F           object\n",
       "dtype: object"
      ]
     },
     "execution_count": 12,
     "metadata": {},
     "output_type": "execute_result"
    }
   ],
   "source": [
    "df.dtypes"
   ]
  },
  {
   "cell_type": "code",
   "execution_count": 13,
   "metadata": {},
   "outputs": [
    {
     "data": {
      "text/html": [
       "<div>\n",
       "<style scoped>\n",
       "    .dataframe tbody tr th:only-of-type {\n",
       "        vertical-align: middle;\n",
       "    }\n",
       "\n",
       "    .dataframe tbody tr th {\n",
       "        vertical-align: top;\n",
       "    }\n",
       "\n",
       "    .dataframe thead th {\n",
       "        text-align: right;\n",
       "    }\n",
       "</style>\n",
       "<table border=\"1\" class=\"dataframe\">\n",
       "  <thead>\n",
       "    <tr style=\"text-align: right;\">\n",
       "      <th></th>\n",
       "      <th>A</th>\n",
       "      <th>B</th>\n",
       "      <th>C</th>\n",
       "      <th>D</th>\n",
       "    </tr>\n",
       "  </thead>\n",
       "  <tbody>\n",
       "    <tr>\n",
       "      <th>count</th>\n",
       "      <td>4.0</td>\n",
       "      <td>4</td>\n",
       "      <td>4.0</td>\n",
       "      <td>4.0</td>\n",
       "    </tr>\n",
       "    <tr>\n",
       "      <th>mean</th>\n",
       "      <td>1.0</td>\n",
       "      <td>2013-01-02 00:00:00</td>\n",
       "      <td>1.0</td>\n",
       "      <td>3.0</td>\n",
       "    </tr>\n",
       "    <tr>\n",
       "      <th>min</th>\n",
       "      <td>1.0</td>\n",
       "      <td>2013-01-02 00:00:00</td>\n",
       "      <td>1.0</td>\n",
       "      <td>3.0</td>\n",
       "    </tr>\n",
       "    <tr>\n",
       "      <th>25%</th>\n",
       "      <td>1.0</td>\n",
       "      <td>2013-01-02 00:00:00</td>\n",
       "      <td>1.0</td>\n",
       "      <td>3.0</td>\n",
       "    </tr>\n",
       "    <tr>\n",
       "      <th>50%</th>\n",
       "      <td>1.0</td>\n",
       "      <td>2013-01-02 00:00:00</td>\n",
       "      <td>1.0</td>\n",
       "      <td>3.0</td>\n",
       "    </tr>\n",
       "    <tr>\n",
       "      <th>75%</th>\n",
       "      <td>1.0</td>\n",
       "      <td>2013-01-02 00:00:00</td>\n",
       "      <td>1.0</td>\n",
       "      <td>3.0</td>\n",
       "    </tr>\n",
       "    <tr>\n",
       "      <th>max</th>\n",
       "      <td>1.0</td>\n",
       "      <td>2013-01-02 00:00:00</td>\n",
       "      <td>1.0</td>\n",
       "      <td>3.0</td>\n",
       "    </tr>\n",
       "    <tr>\n",
       "      <th>std</th>\n",
       "      <td>0.0</td>\n",
       "      <td>NaN</td>\n",
       "      <td>0.0</td>\n",
       "      <td>0.0</td>\n",
       "    </tr>\n",
       "  </tbody>\n",
       "</table>\n",
       "</div>"
      ],
      "text/plain": [
       "         A                    B    C    D\n",
       "count  4.0                    4  4.0  4.0\n",
       "mean   1.0  2013-01-02 00:00:00  1.0  3.0\n",
       "min    1.0  2013-01-02 00:00:00  1.0  3.0\n",
       "25%    1.0  2013-01-02 00:00:00  1.0  3.0\n",
       "50%    1.0  2013-01-02 00:00:00  1.0  3.0\n",
       "75%    1.0  2013-01-02 00:00:00  1.0  3.0\n",
       "max    1.0  2013-01-02 00:00:00  1.0  3.0\n",
       "std    0.0                  NaN  0.0  0.0"
      ]
     },
     "execution_count": 13,
     "metadata": {},
     "output_type": "execute_result"
    }
   ],
   "source": [
    "df.describe()"
   ]
  },
  {
   "cell_type": "code",
   "execution_count": 14,
   "metadata": {},
   "outputs": [
    {
     "data": {
      "text/html": [
       "<div>\n",
       "<style scoped>\n",
       "    .dataframe tbody tr th:only-of-type {\n",
       "        vertical-align: middle;\n",
       "    }\n",
       "\n",
       "    .dataframe tbody tr th {\n",
       "        vertical-align: top;\n",
       "    }\n",
       "\n",
       "    .dataframe thead th {\n",
       "        text-align: right;\n",
       "    }\n",
       "</style>\n",
       "<table border=\"1\" class=\"dataframe\">\n",
       "  <thead>\n",
       "    <tr style=\"text-align: right;\">\n",
       "      <th></th>\n",
       "      <th>0</th>\n",
       "      <th>1</th>\n",
       "      <th>2</th>\n",
       "      <th>3</th>\n",
       "    </tr>\n",
       "  </thead>\n",
       "  <tbody>\n",
       "    <tr>\n",
       "      <th>A</th>\n",
       "      <td>1.0</td>\n",
       "      <td>1.0</td>\n",
       "      <td>1.0</td>\n",
       "      <td>1.0</td>\n",
       "    </tr>\n",
       "    <tr>\n",
       "      <th>B</th>\n",
       "      <td>2013-01-02 00:00:00</td>\n",
       "      <td>2013-01-02 00:00:00</td>\n",
       "      <td>2013-01-02 00:00:00</td>\n",
       "      <td>2013-01-02 00:00:00</td>\n",
       "    </tr>\n",
       "    <tr>\n",
       "      <th>C</th>\n",
       "      <td>1.0</td>\n",
       "      <td>1.0</td>\n",
       "      <td>1.0</td>\n",
       "      <td>1.0</td>\n",
       "    </tr>\n",
       "    <tr>\n",
       "      <th>D</th>\n",
       "      <td>3</td>\n",
       "      <td>3</td>\n",
       "      <td>3</td>\n",
       "      <td>3</td>\n",
       "    </tr>\n",
       "    <tr>\n",
       "      <th>E</th>\n",
       "      <td>HP</td>\n",
       "      <td>Acer</td>\n",
       "      <td>Dell</td>\n",
       "      <td>Lenovo</td>\n",
       "    </tr>\n",
       "    <tr>\n",
       "      <th>F</th>\n",
       "      <td>full</td>\n",
       "      <td>full</td>\n",
       "      <td>full</td>\n",
       "      <td>full</td>\n",
       "    </tr>\n",
       "  </tbody>\n",
       "</table>\n",
       "</div>"
      ],
      "text/plain": [
       "                     0                    1                    2  \\\n",
       "A                  1.0                  1.0                  1.0   \n",
       "B  2013-01-02 00:00:00  2013-01-02 00:00:00  2013-01-02 00:00:00   \n",
       "C                  1.0                  1.0                  1.0   \n",
       "D                    3                    3                    3   \n",
       "E                   HP                 Acer                 Dell   \n",
       "F                 full                 full                 full   \n",
       "\n",
       "                     3  \n",
       "A                  1.0  \n",
       "B  2013-01-02 00:00:00  \n",
       "C                  1.0  \n",
       "D                    3  \n",
       "E               Lenovo  \n",
       "F                 full  "
      ]
     },
     "execution_count": 14,
     "metadata": {},
     "output_type": "execute_result"
    }
   ],
   "source": [
    "df.T"
   ]
  },
  {
   "cell_type": "code",
   "execution_count": 15,
   "metadata": {},
   "outputs": [
    {
     "data": {
      "text/html": [
       "<div>\n",
       "<style scoped>\n",
       "    .dataframe tbody tr th:only-of-type {\n",
       "        vertical-align: middle;\n",
       "    }\n",
       "\n",
       "    .dataframe tbody tr th {\n",
       "        vertical-align: top;\n",
       "    }\n",
       "\n",
       "    .dataframe thead th {\n",
       "        text-align: right;\n",
       "    }\n",
       "</style>\n",
       "<table border=\"1\" class=\"dataframe\">\n",
       "  <thead>\n",
       "    <tr style=\"text-align: right;\">\n",
       "      <th></th>\n",
       "      <th>F</th>\n",
       "      <th>E</th>\n",
       "      <th>D</th>\n",
       "      <th>C</th>\n",
       "      <th>B</th>\n",
       "      <th>A</th>\n",
       "    </tr>\n",
       "  </thead>\n",
       "  <tbody>\n",
       "    <tr>\n",
       "      <th>0</th>\n",
       "      <td>full</td>\n",
       "      <td>HP</td>\n",
       "      <td>3</td>\n",
       "      <td>1.0</td>\n",
       "      <td>2013-01-02</td>\n",
       "      <td>1.0</td>\n",
       "    </tr>\n",
       "    <tr>\n",
       "      <th>1</th>\n",
       "      <td>full</td>\n",
       "      <td>Acer</td>\n",
       "      <td>3</td>\n",
       "      <td>1.0</td>\n",
       "      <td>2013-01-02</td>\n",
       "      <td>1.0</td>\n",
       "    </tr>\n",
       "    <tr>\n",
       "      <th>2</th>\n",
       "      <td>full</td>\n",
       "      <td>Dell</td>\n",
       "      <td>3</td>\n",
       "      <td>1.0</td>\n",
       "      <td>2013-01-02</td>\n",
       "      <td>1.0</td>\n",
       "    </tr>\n",
       "    <tr>\n",
       "      <th>3</th>\n",
       "      <td>full</td>\n",
       "      <td>Lenovo</td>\n",
       "      <td>3</td>\n",
       "      <td>1.0</td>\n",
       "      <td>2013-01-02</td>\n",
       "      <td>1.0</td>\n",
       "    </tr>\n",
       "  </tbody>\n",
       "</table>\n",
       "</div>"
      ],
      "text/plain": [
       "      F       E  D    C          B    A\n",
       "0  full      HP  3  1.0 2013-01-02  1.0\n",
       "1  full    Acer  3  1.0 2013-01-02  1.0\n",
       "2  full    Dell  3  1.0 2013-01-02  1.0\n",
       "3  full  Lenovo  3  1.0 2013-01-02  1.0"
      ]
     },
     "execution_count": 15,
     "metadata": {},
     "output_type": "execute_result"
    }
   ],
   "source": [
    "df.sort_index(axis=1, ascending=False)"
   ]
  },
  {
   "cell_type": "code",
   "execution_count": 16,
   "metadata": {},
   "outputs": [
    {
     "data": {
      "text/html": [
       "<div>\n",
       "<style scoped>\n",
       "    .dataframe tbody tr th:only-of-type {\n",
       "        vertical-align: middle;\n",
       "    }\n",
       "\n",
       "    .dataframe tbody tr th {\n",
       "        vertical-align: top;\n",
       "    }\n",
       "\n",
       "    .dataframe thead th {\n",
       "        text-align: right;\n",
       "    }\n",
       "</style>\n",
       "<table border=\"1\" class=\"dataframe\">\n",
       "  <thead>\n",
       "    <tr style=\"text-align: right;\">\n",
       "      <th></th>\n",
       "      <th>A</th>\n",
       "      <th>B</th>\n",
       "      <th>C</th>\n",
       "      <th>D</th>\n",
       "      <th>E</th>\n",
       "      <th>F</th>\n",
       "    </tr>\n",
       "  </thead>\n",
       "  <tbody>\n",
       "    <tr>\n",
       "      <th>0</th>\n",
       "      <td>1.0</td>\n",
       "      <td>2013-01-02</td>\n",
       "      <td>1.0</td>\n",
       "      <td>3</td>\n",
       "      <td>HP</td>\n",
       "      <td>full</td>\n",
       "    </tr>\n",
       "    <tr>\n",
       "      <th>1</th>\n",
       "      <td>1.0</td>\n",
       "      <td>2013-01-02</td>\n",
       "      <td>1.0</td>\n",
       "      <td>3</td>\n",
       "      <td>Acer</td>\n",
       "      <td>full</td>\n",
       "    </tr>\n",
       "    <tr>\n",
       "      <th>2</th>\n",
       "      <td>1.0</td>\n",
       "      <td>2013-01-02</td>\n",
       "      <td>1.0</td>\n",
       "      <td>3</td>\n",
       "      <td>Dell</td>\n",
       "      <td>full</td>\n",
       "    </tr>\n",
       "    <tr>\n",
       "      <th>3</th>\n",
       "      <td>1.0</td>\n",
       "      <td>2013-01-02</td>\n",
       "      <td>1.0</td>\n",
       "      <td>3</td>\n",
       "      <td>Lenovo</td>\n",
       "      <td>full</td>\n",
       "    </tr>\n",
       "  </tbody>\n",
       "</table>\n",
       "</div>"
      ],
      "text/plain": [
       "     A          B    C  D       E     F\n",
       "0  1.0 2013-01-02  1.0  3      HP  full\n",
       "1  1.0 2013-01-02  1.0  3    Acer  full\n",
       "2  1.0 2013-01-02  1.0  3    Dell  full\n",
       "3  1.0 2013-01-02  1.0  3  Lenovo  full"
      ]
     },
     "execution_count": 16,
     "metadata": {},
     "output_type": "execute_result"
    }
   ],
   "source": [
    "df.sort_values(by=\"B\")"
   ]
  },
  {
   "cell_type": "code",
   "execution_count": 17,
   "metadata": {},
   "outputs": [
    {
     "name": "stdout",
     "output_type": "stream",
     "text": [
      "2013-01-02    1\n",
      "2013-01-03    2\n",
      "2013-01-04    3\n",
      "2013-01-05    4\n",
      "2013-01-06    5\n",
      "2013-01-07    6\n",
      "Freq: D, dtype: int64\n"
     ]
    }
   ],
   "source": [
    "m = pd.Series([1, 2, 3, 4, 5, 6], index=pd.date_range(\"20130102\", periods=6))\n",
    "print(m)"
   ]
  },
  {
   "cell_type": "code",
   "execution_count": 18,
   "metadata": {},
   "outputs": [
    {
     "name": "stdout",
     "output_type": "stream",
     "text": [
      "2013-01-01    NaN\n",
      "2013-01-02    NaN\n",
      "2013-01-03    1.0\n",
      "2013-01-04    3.0\n",
      "2013-01-05    5.0\n",
      "2013-01-06    NaN\n",
      "Freq: D, dtype: float64\n"
     ]
    }
   ],
   "source": [
    "s = pd.Series([1, 3, 5, np.nan, 6, 8], index=dates).shift(2)\n",
    "print(s)"
   ]
  },
  {
   "cell_type": "code",
   "execution_count": 19,
   "metadata": {},
   "outputs": [
    {
     "name": "stdout",
     "output_type": "stream",
     "text": [
      "0    5\n",
      "1    5\n",
      "2    6\n",
      "3    2\n",
      "4    2\n",
      "5    0\n",
      "6    0\n",
      "7    1\n",
      "8    6\n",
      "9    3\n",
      "dtype: int32\n"
     ]
    }
   ],
   "source": [
    "s = pd.Series(np.random.randint(0, 7, size=10))\n",
    "print(s)"
   ]
  },
  {
   "cell_type": "code",
   "execution_count": 20,
   "metadata": {},
   "outputs": [
    {
     "name": "stdout",
     "output_type": "stream",
     "text": [
      "0           Dell\n",
      "1             HP\n",
      "2         Lenovo\n",
      "3           Acer\n",
      "4         Huawei\n",
      "5            NaN\n",
      "6        Samsung\n",
      "7          Apple\n",
      "8    Google Book\n",
      "dtype: object\n"
     ]
    }
   ],
   "source": [
    "s = pd.Series([\"Dell\", \"HP\", \"Lenovo\", \"Acer\", \"Huawei\", np.nan, \"Samsung\", \"Apple\", \"Google Book\"])\n",
    "print(s)"
   ]
  },
  {
   "cell_type": "code",
   "execution_count": 21,
   "metadata": {},
   "outputs": [
    {
     "name": "stdout",
     "output_type": "stream",
     "text": [
      "          0         1         2         3\n",
      "0  0.745676  1.495334  1.059748 -0.364002\n",
      "1 -0.881053 -1.659168 -1.547026  0.151399\n",
      "2  0.426442  0.138596 -0.854912 -1.663440\n",
      "3  0.613922  0.682541  0.212064 -0.760336\n",
      "4  1.576991  0.212344  1.704871  0.032613\n",
      "5 -0.582215  0.359230  0.454113 -0.844440\n",
      "6  0.952587  0.246296  0.055492  0.524542\n",
      "7 -2.764537 -0.318605 -0.666698 -0.631475\n",
      "8  1.352836 -0.913439  1.046807 -0.282465\n",
      "9  0.417815  0.034888  0.383150  1.913007\n"
     ]
    }
   ],
   "source": [
    "df = pd.DataFrame(np.random.randn(10, 4))\n",
    "print(df)"
   ]
  },
  {
   "cell_type": "code",
   "execution_count": 22,
   "metadata": {},
   "outputs": [
    {
     "name": "stdout",
     "output_type": "stream",
     "text": [
      "0  0    0.745676\n",
      "   1    1.495334\n",
      "   2    1.059748\n",
      "   3   -0.364002\n",
      "1  0   -0.881053\n",
      "   1   -1.659168\n",
      "   2   -1.547026\n",
      "   3    0.151399\n",
      "2  0    0.426442\n",
      "   1    0.138596\n",
      "   2   -0.854912\n",
      "   3   -1.663440\n",
      "3  0    0.613922\n",
      "   1    0.682541\n",
      "   2    0.212064\n",
      "   3   -0.760336\n",
      "4  0    1.576991\n",
      "   1    0.212344\n",
      "   2    1.704871\n",
      "   3    0.032613\n",
      "5  0   -0.582215\n",
      "   1    0.359230\n",
      "   2    0.454113\n",
      "   3   -0.844440\n",
      "6  0    0.952587\n",
      "   1    0.246296\n",
      "   2    0.055492\n",
      "   3    0.524542\n",
      "7  0   -2.764537\n",
      "   1   -0.318605\n",
      "   2   -0.666698\n",
      "   3   -0.631475\n",
      "8  0    1.352836\n",
      "   1   -0.913439\n",
      "   2    1.046807\n",
      "   3   -0.282465\n",
      "9  0    0.417815\n",
      "   1    0.034888\n",
      "   2    0.383150\n",
      "   3    1.913007\n",
      "dtype: float64\n"
     ]
    }
   ],
   "source": [
    "stacked = df.stack(future_stack=True)\n",
    "print(stacked)\n"
   ]
  },
  {
   "cell_type": "code",
   "execution_count": 23,
   "metadata": {},
   "outputs": [
    {
     "data": {
      "text/html": [
       "<div>\n",
       "<style scoped>\n",
       "    .dataframe tbody tr th:only-of-type {\n",
       "        vertical-align: middle;\n",
       "    }\n",
       "\n",
       "    .dataframe tbody tr th {\n",
       "        vertical-align: top;\n",
       "    }\n",
       "\n",
       "    .dataframe thead th {\n",
       "        text-align: right;\n",
       "    }\n",
       "</style>\n",
       "<table border=\"1\" class=\"dataframe\">\n",
       "  <thead>\n",
       "    <tr style=\"text-align: right;\">\n",
       "      <th></th>\n",
       "      <th>0</th>\n",
       "      <th>1</th>\n",
       "      <th>2</th>\n",
       "      <th>3</th>\n",
       "    </tr>\n",
       "  </thead>\n",
       "  <tbody>\n",
       "    <tr>\n",
       "      <th>0</th>\n",
       "      <td>0.745676</td>\n",
       "      <td>1.495334</td>\n",
       "      <td>1.059748</td>\n",
       "      <td>-0.364002</td>\n",
       "    </tr>\n",
       "    <tr>\n",
       "      <th>1</th>\n",
       "      <td>-0.881053</td>\n",
       "      <td>-1.659168</td>\n",
       "      <td>-1.547026</td>\n",
       "      <td>0.151399</td>\n",
       "    </tr>\n",
       "    <tr>\n",
       "      <th>2</th>\n",
       "      <td>0.426442</td>\n",
       "      <td>0.138596</td>\n",
       "      <td>-0.854912</td>\n",
       "      <td>-1.663440</td>\n",
       "    </tr>\n",
       "    <tr>\n",
       "      <th>3</th>\n",
       "      <td>0.613922</td>\n",
       "      <td>0.682541</td>\n",
       "      <td>0.212064</td>\n",
       "      <td>-0.760336</td>\n",
       "    </tr>\n",
       "    <tr>\n",
       "      <th>4</th>\n",
       "      <td>1.576991</td>\n",
       "      <td>0.212344</td>\n",
       "      <td>1.704871</td>\n",
       "      <td>0.032613</td>\n",
       "    </tr>\n",
       "    <tr>\n",
       "      <th>5</th>\n",
       "      <td>-0.582215</td>\n",
       "      <td>0.359230</td>\n",
       "      <td>0.454113</td>\n",
       "      <td>-0.844440</td>\n",
       "    </tr>\n",
       "    <tr>\n",
       "      <th>6</th>\n",
       "      <td>0.952587</td>\n",
       "      <td>0.246296</td>\n",
       "      <td>0.055492</td>\n",
       "      <td>0.524542</td>\n",
       "    </tr>\n",
       "    <tr>\n",
       "      <th>7</th>\n",
       "      <td>-2.764537</td>\n",
       "      <td>-0.318605</td>\n",
       "      <td>-0.666698</td>\n",
       "      <td>-0.631475</td>\n",
       "    </tr>\n",
       "    <tr>\n",
       "      <th>8</th>\n",
       "      <td>1.352836</td>\n",
       "      <td>-0.913439</td>\n",
       "      <td>1.046807</td>\n",
       "      <td>-0.282465</td>\n",
       "    </tr>\n",
       "    <tr>\n",
       "      <th>9</th>\n",
       "      <td>0.417815</td>\n",
       "      <td>0.034888</td>\n",
       "      <td>0.383150</td>\n",
       "      <td>1.913007</td>\n",
       "    </tr>\n",
       "  </tbody>\n",
       "</table>\n",
       "</div>"
      ],
      "text/plain": [
       "          0         1         2         3\n",
       "0  0.745676  1.495334  1.059748 -0.364002\n",
       "1 -0.881053 -1.659168 -1.547026  0.151399\n",
       "2  0.426442  0.138596 -0.854912 -1.663440\n",
       "3  0.613922  0.682541  0.212064 -0.760336\n",
       "4  1.576991  0.212344  1.704871  0.032613\n",
       "5 -0.582215  0.359230  0.454113 -0.844440\n",
       "6  0.952587  0.246296  0.055492  0.524542\n",
       "7 -2.764537 -0.318605 -0.666698 -0.631475\n",
       "8  1.352836 -0.913439  1.046807 -0.282465\n",
       "9  0.417815  0.034888  0.383150  1.913007"
      ]
     },
     "execution_count": 23,
     "metadata": {},
     "output_type": "execute_result"
    }
   ],
   "source": [
    "stacked.unstack()\n"
   ]
  },
  {
   "cell_type": "code",
   "execution_count": 24,
   "metadata": {},
   "outputs": [
    {
     "name": "stdout",
     "output_type": "stream",
     "text": [
      "           A       B          C         D         E\n",
      "0    Company    Dell  Note Book -0.607710 -0.745411\n",
      "1    Product  Lenovo  Note Book -0.136599 -0.288973\n",
      "2       Type      HP  Note Book  1.664244 -0.509543\n",
      "3   Quantity    Dell         HD -2.215091  0.795762\n",
      "4    Company  Lenovo         HD  1.096162 -1.863221\n",
      "5    Product      HP         HD -0.078853  0.846207\n",
      "6       Type    Dell  Note Book -0.661272 -0.722492\n",
      "7   Quantity  Lenovo  Note Book -1.385481 -0.220839\n",
      "8    Company      HP  Note Book  0.407332  1.618105\n",
      "9    Product    Dell         HD  2.116897 -0.211085\n",
      "10      Type  Lenovo         HD -0.666505  0.783269\n",
      "11  Quantity      HP         HD  0.181915 -0.477576\n"
     ]
    }
   ],
   "source": [
    "df = pd.DataFrame(\n",
    "    {\n",
    "        \"A\": [\"Company\", \"Product\", \"Type\", \"Quantity\"] * 3,\n",
    "        \"B\": [\"Dell\", \"Lenovo\", \"HP\"] * 4,\n",
    "        \"C\": [\"Note Book\", \"Note Book\", \"Note Book\", \"HD\", \"HD\", \"HD\"] * 2,\n",
    "        \"D\": np.random.randn(12),\n",
    "        \"E\": np.random.randn(12),\n",
    "    }\n",
    ")\n",
    "print(df)"
   ]
  },
  {
   "cell_type": "code",
   "execution_count": 25,
   "metadata": {},
   "outputs": [
    {
     "data": {
      "text/html": [
       "<div>\n",
       "<style scoped>\n",
       "    .dataframe tbody tr th:only-of-type {\n",
       "        vertical-align: middle;\n",
       "    }\n",
       "\n",
       "    .dataframe tbody tr th {\n",
       "        vertical-align: top;\n",
       "    }\n",
       "\n",
       "    .dataframe thead th {\n",
       "        text-align: right;\n",
       "    }\n",
       "</style>\n",
       "<table border=\"1\" class=\"dataframe\">\n",
       "  <thead>\n",
       "    <tr style=\"text-align: right;\">\n",
       "      <th></th>\n",
       "      <th>C</th>\n",
       "      <th>HD</th>\n",
       "      <th>Note Book</th>\n",
       "    </tr>\n",
       "    <tr>\n",
       "      <th>A</th>\n",
       "      <th>B</th>\n",
       "      <th></th>\n",
       "      <th></th>\n",
       "    </tr>\n",
       "  </thead>\n",
       "  <tbody>\n",
       "    <tr>\n",
       "      <th rowspan=\"3\" valign=\"top\">Company</th>\n",
       "      <th>Dell</th>\n",
       "      <td>NaN</td>\n",
       "      <td>-0.607710</td>\n",
       "    </tr>\n",
       "    <tr>\n",
       "      <th>HP</th>\n",
       "      <td>NaN</td>\n",
       "      <td>0.407332</td>\n",
       "    </tr>\n",
       "    <tr>\n",
       "      <th>Lenovo</th>\n",
       "      <td>1.096162</td>\n",
       "      <td>NaN</td>\n",
       "    </tr>\n",
       "    <tr>\n",
       "      <th rowspan=\"3\" valign=\"top\">Product</th>\n",
       "      <th>Dell</th>\n",
       "      <td>2.116897</td>\n",
       "      <td>NaN</td>\n",
       "    </tr>\n",
       "    <tr>\n",
       "      <th>HP</th>\n",
       "      <td>-0.078853</td>\n",
       "      <td>NaN</td>\n",
       "    </tr>\n",
       "    <tr>\n",
       "      <th>Lenovo</th>\n",
       "      <td>NaN</td>\n",
       "      <td>-0.136599</td>\n",
       "    </tr>\n",
       "    <tr>\n",
       "      <th rowspan=\"3\" valign=\"top\">Quantity</th>\n",
       "      <th>Dell</th>\n",
       "      <td>-2.215091</td>\n",
       "      <td>NaN</td>\n",
       "    </tr>\n",
       "    <tr>\n",
       "      <th>HP</th>\n",
       "      <td>0.181915</td>\n",
       "      <td>NaN</td>\n",
       "    </tr>\n",
       "    <tr>\n",
       "      <th>Lenovo</th>\n",
       "      <td>NaN</td>\n",
       "      <td>-1.385481</td>\n",
       "    </tr>\n",
       "    <tr>\n",
       "      <th rowspan=\"3\" valign=\"top\">Type</th>\n",
       "      <th>Dell</th>\n",
       "      <td>NaN</td>\n",
       "      <td>-0.661272</td>\n",
       "    </tr>\n",
       "    <tr>\n",
       "      <th>HP</th>\n",
       "      <td>NaN</td>\n",
       "      <td>1.664244</td>\n",
       "    </tr>\n",
       "    <tr>\n",
       "      <th>Lenovo</th>\n",
       "      <td>-0.666505</td>\n",
       "      <td>NaN</td>\n",
       "    </tr>\n",
       "  </tbody>\n",
       "</table>\n",
       "</div>"
      ],
      "text/plain": [
       "C                      HD  Note Book\n",
       "A        B                          \n",
       "Company  Dell         NaN  -0.607710\n",
       "         HP           NaN   0.407332\n",
       "         Lenovo  1.096162        NaN\n",
       "Product  Dell    2.116897        NaN\n",
       "         HP     -0.078853        NaN\n",
       "         Lenovo       NaN  -0.136599\n",
       "Quantity Dell   -2.215091        NaN\n",
       "         HP      0.181915        NaN\n",
       "         Lenovo       NaN  -1.385481\n",
       "Type     Dell         NaN  -0.661272\n",
       "         HP           NaN   1.664244\n",
       "         Lenovo -0.666505        NaN"
      ]
     },
     "execution_count": 25,
     "metadata": {},
     "output_type": "execute_result"
    }
   ],
   "source": [
    "pd.pivot_table(df, values=\"D\", index=[\"A\", \"B\"], columns=[\"C\"])\n"
   ]
  },
  {
   "cell_type": "code",
   "execution_count": 26,
   "metadata": {},
   "outputs": [
    {
     "data": {
      "text/plain": [
       "2012-01-01    24426\n",
       "Freq: 5min, dtype: int32"
      ]
     },
     "execution_count": 26,
     "metadata": {},
     "output_type": "execute_result"
    }
   ],
   "source": [
    "rng = pd.date_range(\"1/1/2012\", periods=100, freq=\"s\")\n",
    "\n",
    "ts = pd.Series(np.random.randint(0, 500, len(rng)), index=rng)\n",
    "\n",
    "ts.resample(\"5Min\").sum()"
   ]
  },
  {
   "cell_type": "code",
   "execution_count": 27,
   "metadata": {},
   "outputs": [
    {
     "data": {
      "text/plain": [
       "2012-03-06   -1.402274\n",
       "2012-03-07   -0.091396\n",
       "2012-03-08   -0.541617\n",
       "2012-03-09   -0.572750\n",
       "2012-03-10    0.901801\n",
       "Freq: D, dtype: float64"
      ]
     },
     "execution_count": 27,
     "metadata": {},
     "output_type": "execute_result"
    }
   ],
   "source": [
    "rng = pd.date_range(\"3/6/2012 00:00\", periods=5, freq=\"D\")\n",
    "\n",
    "ts = pd.Series(np.random.randn(len(rng)), rng)\n",
    "\n",
    "ts"
   ]
  },
  {
   "cell_type": "code",
   "execution_count": 28,
   "metadata": {},
   "outputs": [
    {
     "name": "stdout",
     "output_type": "stream",
     "text": [
      "           A       B          C         D         E\n",
      "0    Company    Dell  Note Book -0.607710 -0.745411\n",
      "1    Product  Lenovo  Note Book -0.136599 -0.288973\n",
      "2       Type      HP  Note Book  1.664244 -0.509543\n",
      "3   Quantity    Dell         HD -2.215091  0.795762\n",
      "4    Company  Lenovo         HD  1.096162 -1.863221\n",
      "5    Product      HP         HD -0.078853  0.846207\n",
      "6       Type    Dell  Note Book -0.661272 -0.722492\n",
      "7   Quantity  Lenovo  Note Book -1.385481 -0.220839\n",
      "8    Company      HP  Note Book  0.407332  1.618105\n",
      "9    Product    Dell         HD  2.116897 -0.211085\n",
      "10      Type  Lenovo         HD -0.666505  0.783269\n",
      "11  Quantity      HP         HD  0.181915 -0.477576\n"
     ]
    }
   ],
   "source": [
    "print(df)"
   ]
  },
  {
   "cell_type": "code",
   "execution_count": null,
   "metadata": {},
   "outputs": [],
   "source": []
  },
  {
   "cell_type": "code",
   "execution_count": 29,
   "metadata": {},
   "outputs": [
    {
     "name": "stdout",
     "output_type": "stream",
     "text": [
      "           A       B          C         D         E\n",
      "0    Company    Dell  Note Book -0.607710 -0.745411\n",
      "1    Product  Lenovo  Note Book -0.136599 -0.288973\n",
      "2       Type      HP  Note Book  1.664244 -0.509543\n",
      "3   Quantity    Dell         HD -2.215091  0.795762\n",
      "4    Company  Lenovo         HD  1.096162 -1.863221\n",
      "5    Product      HP         HD -0.078853  0.846207\n",
      "6       Type    Dell  Note Book -0.661272 -0.722492\n",
      "7   Quantity  Lenovo  Note Book -1.385481 -0.220839\n",
      "8    Company      HP  Note Book  0.407332  1.618105\n",
      "9    Product    Dell         HD  2.116897 -0.211085\n",
      "10      Type  Lenovo         HD -0.666505  0.783269\n",
      "11  Quantity      HP         HD  0.181915 -0.477576\n"
     ]
    }
   ],
   "source": [
    "print(df)"
   ]
  },
  {
   "cell_type": "code",
   "execution_count": null,
   "metadata": {},
   "outputs": [],
   "source": []
  },
  {
   "cell_type": "code",
   "execution_count": null,
   "metadata": {},
   "outputs": [],
   "source": []
  },
  {
   "cell_type": "code",
   "execution_count": null,
   "metadata": {},
   "outputs": [],
   "source": []
  },
  {
   "cell_type": "code",
   "execution_count": null,
   "metadata": {},
   "outputs": [],
   "source": []
  },
  {
   "cell_type": "code",
   "execution_count": null,
   "metadata": {},
   "outputs": [],
   "source": []
  },
  {
   "cell_type": "code",
   "execution_count": null,
   "metadata": {},
   "outputs": [],
   "source": []
  },
  {
   "cell_type": "code",
   "execution_count": null,
   "metadata": {},
   "outputs": [],
   "source": []
  },
  {
   "cell_type": "code",
   "execution_count": null,
   "metadata": {},
   "outputs": [],
   "source": []
  },
  {
   "cell_type": "code",
   "execution_count": null,
   "metadata": {},
   "outputs": [],
   "source": []
  },
  {
   "cell_type": "code",
   "execution_count": null,
   "metadata": {},
   "outputs": [],
   "source": []
  },
  {
   "cell_type": "code",
   "execution_count": null,
   "metadata": {},
   "outputs": [],
   "source": []
  },
  {
   "cell_type": "code",
   "execution_count": null,
   "metadata": {},
   "outputs": [],
   "source": []
  },
  {
   "cell_type": "code",
   "execution_count": null,
   "metadata": {},
   "outputs": [],
   "source": []
  },
  {
   "cell_type": "code",
   "execution_count": null,
   "metadata": {},
   "outputs": [],
   "source": []
  },
  {
   "cell_type": "code",
   "execution_count": null,
   "metadata": {},
   "outputs": [],
   "source": []
  }
 ],
 "metadata": {
  "kernelspec": {
   "display_name": "Python 3",
   "language": "python",
   "name": "python3"
  },
  "language_info": {
   "codemirror_mode": {
    "name": "ipython",
    "version": 3
   },
   "file_extension": ".py",
   "mimetype": "text/x-python",
   "name": "python",
   "nbconvert_exporter": "python",
   "pygments_lexer": "ipython3",
   "version": "3.12.5"
  }
 },
 "nbformat": 4,
 "nbformat_minor": 2
}
