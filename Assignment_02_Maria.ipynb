{
 "cells": [
  {
   "cell_type": "markdown",
   "metadata": {},
   "source": [
    "# Problem 01: “Understanding NumPy Arrays and Operations”\n",
    "\n",
    "<h5>Part (A) </h5>\n"
   ]
  },
  {
   "cell_type": "code",
   "execution_count": null,
   "metadata": {},
   "outputs": [],
   "source": [
    "import numpy as np\n",
    "\n",
    "array = np.random.randint(1,101, size=(4,5))\n",
    "#print(array)\n",
    "print(\"Original array (4x5):\\n\", array)"
   ]
  },
  {
   "cell_type": "code",
   "execution_count": null,
   "metadata": {},
   "outputs": [],
   "source": [
    "<h5> Part (B) </h5>"
   ]
  },
  {
   "cell_type": "code",
   "execution_count": null,
   "metadata": {},
   "outputs": [],
   "source": [
    "reshape_array = array.reshape(2, 10)\n",
    "print(\"Reshaping array(2x10): \\n\", reshape_array)"
   ]
  },
  {
   "cell_type": "markdown",
   "metadata": {},
   "source": [
    "<h5> Part (C) </h5>"
   ]
  },
  {
   "cell_type": "code",
   "execution_count": null,
   "metadata": {},
   "outputs": [],
   "source": [
    "array_one = np.random.randint(1,101, size=(2,10))\n",
    "added_array = array_one + reshape_array\n",
    "print(\"Element-wise addition array:\", added_array)"
   ]
  },
  {
   "cell_type": "markdown",
   "metadata": {},
   "source": [
    "<h5> Part (D) </h5>"
   ]
  },
  {
   "cell_type": "code",
   "execution_count": null,
   "metadata": {},
   "outputs": [],
   "source": [
    "array_a = np.array([1, 2, 3])\n",
    "array_b = np.array([4, 5, 6])\n",
    "\n",
    "dot_product = np.dot(array_a, array_b)\n",
    "print(\"Dot product of array_a and array_b:\" ,dot_product)"
   ]
  },
  {
   "cell_type": "code",
   "execution_count": null,
   "metadata": {},
   "outputs": [],
   "source": [
    "<h5> Part (E) </h5>"
   ]
  },
  {
   "cell_type": "code",
   "execution_count": null,
   "metadata": {},
   "outputs": [],
   "source": [
    "median_value = np.median(array)\n",
    "\n",
    "masked_array = np.ma.masked_less(array, median_value)\n",
    "\n",
    "print(\"\\nMasked array with values below the median masked:\\n\", masked_array)"
   ]
  },
  {
   "cell_type": "markdown",
   "metadata": {},
   "source": [
    "# Problem 02: “Exploring NumPy Broadcasting and Strides”\n",
    "\n",
    "<h5> Part (A) </h5>"
   ]
  },
  {
   "cell_type": "code",
   "execution_count": null,
   "metadata": {},
   "outputs": [],
   "source": [
    "array1 = np.array([[1], [2], [3]])\n",
    "array2 = np.array([10, 20, 30, 40])\n",
    "\n",
    "addition_array = array1 + array2\n",
    "print(\"Broadcasted addition result: \\n\", addition_array)"
   ]
  },
  {
   "cell_type": "markdown",
   "metadata": {},
   "source": [
    "<h5> Part (B) </h5>"
   ]
  },
  {
   "cell_type": "code",
   "execution_count": null,
   "metadata": {},
   "outputs": [],
   "source": [
    "array_b1 = np.array([[5], [4]])\n",
    "array_b2 = np.array([1, 2, 3])\n",
    "\n",
    "broadcast_result =  array_b1 * array_b2\n",
    "print(\"Broadcasted multiplication result: \\n\", broadcast_result)"
   ]
  },
  {
   "cell_type": "markdown",
   "metadata": {},
   "source": [
    "<h5> Part (C) </h5>"
   ]
  },
  {
   "cell_type": "code",
   "execution_count": null,
   "metadata": {},
   "outputs": [],
   "source": []
  },
  {
   "cell_type": "markdown",
   "metadata": {},
   "source": [
    "<h5> Part (D) </h5>"
   ]
  },
  {
   "cell_type": "code",
   "execution_count": null,
   "metadata": {},
   "outputs": [],
   "source": [
    "# Create a NumPy array of shape (4, 5)\n",
    "original_array = np.arange(20).reshape(4, 5)\n",
    "\n",
    "# Slice the array with a regular pattern\n",
    "sliced_array_1 = original_array[:, ::2]  # Every 2nd column\n",
    "\n",
    "# Slice the array with a different pattern\n",
    "sliced_array_2 = original_array[::2, :]  # Every 2nd row\n",
    "\n",
    "print(\"\\nOriginal array strides:\", original_array.strides)\n",
    "print(\"Sliced array 1 strides (every 2nd column):\", sliced_array_1.strides)\n",
    "print(\"Sliced array 2 strides (every 2nd row):\", sliced_array_2.strides)\n"
   ]
  },
  {
   "cell_type": "markdown",
   "metadata": {},
   "source": [
    "<h5> Part (E) </h5>"
   ]
  },
  {
   "cell_type": "code",
   "execution_count": null,
   "metadata": {},
   "outputs": [],
   "source": [
    "# Define two arrays with different shapes\n",
    "array_c = np.array([[1], [2]])  # Shape (2, 1)\n",
    "array_d = np.array([10, 20, 30])  # Shape (3,)\n",
    "\n",
    "# Attempt to add array_c and array_d (this will broadcast correctly)\n",
    "try:\n",
    "    result_1 = array_c + array_d\n",
    "    print(\"\\nResult of broadcasting with shape (2, 1) + (3,):\\n\", result_1)\n",
    "except ValueError as e:\n",
    "    print(\"\\nBroadcasting error with shape (2, 1) + (3,):\", e)\n",
    "\n",
    "# Swap dimensions of array_c\n",
    "array_c_swapped = array_c.T  # Shape becomes (1, 2)\n",
    "\n",
    "# Attempt to add the swapped array with array_d (this may cause an error)\n",
    "try:\n",
    "    result_2 = array_c_swapped + array_d\n",
    "    print(\"\\nResult of broadcasting with shape (1, 2) + (3,):\\n\", result_2)\n",
    "except ValueError as e:\n",
    "    print(\"\\nBroadcasting error with shape (1, 2) + (3,):\", e)\n"
   ]
  },
  {
   "cell_type": "markdown",
   "metadata": {},
   "source": [
    "# Problem 03: “Advanced Array Manipulation with NumPy”\n",
    "<h5> Part (A) </h5>"
   ]
  },
  {
   "cell_type": "code",
   "execution_count": null,
   "metadata": {},
   "outputs": [],
   "source": [
    "\n",
    "# Create a 3D NumPy array representing a 4x4 RGB image with random pixel values between 0 and 255.\n",
    "# The shape of the array is (4, 4, 3), representing a 4x4 image with 3 color channels (RGB).\n",
    "rgb_image = np.random.randint(0, 256, size=(4, 4, 3))\n",
    "print(\"3D RGB image array:\\n\", rgb_image)\n"
   ]
  },
  {
   "cell_type": "markdown",
   "metadata": {},
   "source": [
    "<h5> Part (B) </h5>"
   ]
  },
  {
   "cell_type": "code",
   "execution_count": null,
   "metadata": {},
   "outputs": [],
   "source": [
    "# Flatten the 3D RGB image array into a 1D array\n",
    "flattened_array = rgb_image.flatten()\n",
    "print(\"\\nFlattened 1D array:\\n\", flattened_array)\n",
    "print(\"Shape of flattened array:\", flattened_array.shape)\n"
   ]
  },
  {
   "cell_type": "markdown",
   "metadata": {},
   "source": [
    "<h5> Part (C) </h5>"
   ]
  },
  {
   "cell_type": "code",
   "execution_count": null,
   "metadata": {},
   "outputs": [],
   "source": [
    "# Extract a 2x2 section of the image (top-left corner)\n",
    "sub_array = rgb_image[:2, :2, :]\n",
    "print(\"\\nSub-array (2x2 section of the image):\\n\", sub_array)\n"
   ]
  },
  {
   "cell_type": "code",
   "execution_count": null,
   "metadata": {},
   "outputs": [],
   "source": [
    "# Modify an element in the sub-array\n",
    "sub_array[0, 0, 0] = 999  # Change the Red value of the first pixel in the sub-array\n",
    "print(\"\\nModified sub-array:\\n\", sub_array)\n",
    "print(\"\\nOriginal array after modifying sub-array:\\n\", rgb_image)\n"
   ]
  },
  {
   "cell_type": "code",
   "execution_count": null,
   "metadata": {},
   "outputs": [],
   "source": [
    "# Create a copy of the sub-array\n",
    "sub_array_copy = rgb_image[:2, :2, :].copy()\n",
    "sub_array_copy[0, 0, 0] = 888\n",
    "print(\"\\nOriginal array after modifying sub-array copy:\\n\", rgb_image)\n"
   ]
  },
  {
   "cell_type": "markdown",
   "metadata": {},
   "source": [
    "<h5> Part (D) </h5>"
   ]
  },
  {
   "cell_type": "code",
   "execution_count": null,
   "metadata": {},
   "outputs": [],
   "source": []
  },
  {
   "cell_type": "markdown",
   "metadata": {},
   "source": [
    "<h5> Part (E) </h5>"
   ]
  },
  {
   "cell_type": "code",
   "execution_count": null,
   "metadata": {},
   "outputs": [],
   "source": [
    "# Define a function to normalize the RGB image array to the range [0, 1]\n",
    "def normalize_image(image):\n",
    "    # Convert the image to float type to avoid integer division issues\n",
    "    normalized_image = image.astype(np.float32) / 255.0\n",
    "    return normalized_image\n",
    "\n",
    "# Normalize the RGB image\n",
    "normalized_image = normalize_image(rgb_image)\n",
    "print(\"\\nNormalized RGB image array:\\n\", normalized_image)\n",
    "print(\"Range of normalized values:\", normalized_image.min(), \"to\", normalized_image.max())\n"
   ]
  },
  {
   "cell_type": "markdown",
   "metadata": {},
   "source": [
    "# Problem 04: “NumPy for Statistical Analysis”\n",
    "<h5> Part (A) </h5>"
   ]
  },
  {
   "cell_type": "code",
   "execution_count": null,
   "metadata": {},
   "outputs": [],
   "source": [
    "random_numbers = np.random.randn(1000)\n",
    "#print(random_numbers)\n",
    "\n",
    "mean = np.mean(random_numbers)\n",
    "print(\"Mean: \", mean)\n",
    "\n",
    "median = np.median(random_numbers)\n",
    "print(\"media:\", random_numbers)\n",
    "\n",
    "variance = np.var(random_numbers)\n",
    "print(\"Variance:\", variance)"
   ]
  },
  {
   "cell_type": "markdown",
   "metadata": {},
   "source": [
    "<h5> Part (B) </h5>"
   ]
  },
  {
   "cell_type": "code",
   "execution_count": null,
   "metadata": {},
   "outputs": [],
   "source": [
    "# Calculate population variance (using ddof=0)\n",
    "population_variance = np.var(random_numbers, ddof=0)\n",
    "\n",
    "# Calculate sample variance (using ddof=1)\n",
    "sample_variance = np.var(random_numbers, ddof=1)\n",
    "\n",
    "print(f\"Population Variance: {population_variance}\")\n",
    "print(f\"Sample Variance: {sample_variance}\")\n"
   ]
  },
  {
   "cell_type": "markdown",
   "metadata": {},
   "source": [
    "<h5> Part (C) </h5>"
   ]
  },
  {
   "cell_type": "code",
   "execution_count": null,
   "metadata": {},
   "outputs": [],
   "source": [
    "import matplotlib.pyplot as plt\n",
    "\n",
    "# Create a histogram of the random numbers\n",
    "plt.hist(random_numbers, bins=30, edgecolor='black', alpha=0.7)\n",
    "plt.title(\"Histogram of Random Numbers\")\n",
    "plt.xlabel(\"Value\")\n",
    "plt.ylabel(\"Frequency\")\n",
    "plt.grid(True)\n",
    "plt.show()\n"
   ]
  },
  {
   "cell_type": "markdown",
   "metadata": {},
   "source": [
    "<h5>Part (D) </h5>"
   ]
  },
  {
   "cell_type": "code",
   "execution_count": null,
   "metadata": {},
   "outputs": [],
   "source": [
    "# Calculate Q1 (25th percentile) and Q3 (75th percentile)\n",
    "Q1 = np.percentile(random_numbers, 25)\n",
    "Q3 = np.percentile(random_numbers, 75)\n",
    "IQR = Q3 - Q1\n",
    "\n",
    "# Define the lower and upper bounds for detecting outliers\n",
    "lower_bound = Q1 - 1.5 * IQR\n",
    "upper_bound = Q3 + 1.5 * IQR\n",
    "\n",
    "# Identify outliers\n",
    "outliers = random_numbers[(random_numbers < lower_bound) | (random_numbers > upper_bound)]\n",
    "\n",
    "print(f\"Number of outliers: {len(outliers)}\")\n",
    "print(f\"Outliers:\\n{outliers}\")\n"
   ]
  },
  {
   "cell_type": "markdown",
   "metadata": {},
   "source": [
    "# Problem 05: “Advanced NumPy Operations Challenge\"\n",
    "<h5> Part (A) </h5>"
   ]
  },
  {
   "cell_type": "code",
   "execution_count": null,
   "metadata": {},
   "outputs": [],
   "source": [
    "import numpy as np\n",
    "\n",
    "# Example shapes for X and Y\n",
    "n, m, d = 5, 4, 3  # n: rows in X, m: rows in Y, d: dimensions\n",
    "X = np.random.rand(n, d)\n",
    "Y = np.random.rand(m, d)\n",
    "\n",
    "# Compute the pairwise Euclidean distance matrix D of shape (n, m)\n",
    "D = np.sqrt(((X[:, np.newaxis, :] - Y[np.newaxis, :, :]) ** 2).sum(axis=2))\n",
    "\n",
    "print(\"Pairwise Euclidean Distance Matrix D:\\n\", D)\n",
    "print(\"Shape of D:\", D.shape)\n"
   ]
  },
  {
   "cell_type": "markdown",
   "metadata": {},
   "source": [
    "<h5> Part (B) </h5>"
   ]
  },
  {
   "cell_type": "code",
   "execution_count": null,
   "metadata": {},
   "outputs": [],
   "source": [
    "def sliding_window_mean(arr, window_size):\n",
    "    # Use NumPy's stride tricks to create the sliding window\n",
    "    shape = (arr.size - window_size + 1, window_size)\n",
    "    strides = (arr.strides[0], arr.strides[0])\n",
    "    windows = np.lib.stride_tricks.as_strided(arr, shape=shape, strides=strides)\n",
    "    \n",
    "    # Calculate the mean for each window\n",
    "    return windows.mean(axis=1)\n",
    "\n",
    "# Example usage\n",
    "arr = np.array([1, 2, 3, 4, 5, 6, 7])\n",
    "window_size = 3\n",
    "print(\"Sliding Window Means:\", sliding_window_mean(arr, window_size))\n"
   ]
  },
  {
   "cell_type": "markdown",
   "metadata": {},
   "source": [
    "<h5> Part (C) </h5>"
   ]
  },
  {
   "cell_type": "code",
   "execution_count": null,
   "metadata": {},
   "outputs": [],
   "source": [
    "# Perform SVD on D\n",
    "U, Sigma, VT = np.linalg.svd(D, full_matrices=False)\n",
    "\n",
    "# Reconstruct D using only the top 2 singular values\n",
    "Sigma_2 = np.zeros_like(Sigma)\n",
    "Sigma_2[:2] = Sigma[:2]\n",
    "D_reconstructed = U @ np.diag(Sigma_2) @ VT\n",
    "\n",
    "# Calculate the Frobenius norm between the original D and the reconstructed D\n",
    "frobenius_norm = np.linalg.norm(D - D_reconstructed, 'fro')\n",
    "\n",
    "print(\"Frobenius norm between the original D and the reconstructed D:\", frobenius_norm)\n"
   ]
  },
  {
   "cell_type": "markdown",
   "metadata": {},
   "source": [
    "<h5> Part (D) </h5>"
   ]
  },
  {
   "cell_type": "code",
   "execution_count": null,
   "metadata": {},
   "outputs": [],
   "source": [
    "# Replace distances according to conditions\n",
    "D_modified = np.where(D < 5, 0, D)\n",
    "D_modified = np.where(D_modified > 100, 1, D_modified)\n",
    "\n",
    "# Count values between 5 and 100\n",
    "count_between_5_and_100 = np.sum((D_modified > 5) & (D_modified < 100))\n",
    "\n",
    "print(\"Modified D:\\n\", D_modified)\n",
    "print(\"Number of values between 5 and 100:\", count_between_5_and_100)\n"
   ]
  },
  {
   "cell_type": "markdown",
   "metadata": {},
   "source": [
    "<h5> Part (E) </h5>"
   ]
  },
  {
   "cell_type": "code",
   "execution_count": null,
   "metadata": {},
   "outputs": [],
   "source": [
    "# Create a 3x3 sliding window over the first row of D using strides\n",
    "first_row = D[0, :]\n",
    "window_shape = (3, 3)\n",
    "strides = (first_row.strides[0], first_row.strides[0])\n",
    "sliding_windows = np.lib.stride_tricks.as_strided(first_row, shape=window_shape, strides=strides)\n",
    "\n",
    "print(\"3x3 sliding window using strides:\\n\", sliding_windows)\n"
   ]
  },
  {
   "cell_type": "code",
   "execution_count": 83,
   "metadata": {},
   "outputs": [
    {
     "ename": "NameError",
     "evalue": "name 'first_row' is not defined",
     "output_type": "error",
     "traceback": [
      "\u001b[1;31m---------------------------------------------------------------------------\u001b[0m",
      "\u001b[1;31mNameError\u001b[0m                                 Traceback (most recent call last)",
      "Cell \u001b[1;32mIn[83], line 11\u001b[0m\n\u001b[0;32m      9\u001b[0m \u001b[38;5;66;03m# Compare execution times\u001b[39;00m\n\u001b[0;32m     10\u001b[0m start_time \u001b[38;5;241m=\u001b[39m time\u001b[38;5;241m.\u001b[39mtime()\n\u001b[1;32m---> 11\u001b[0m stride_result \u001b[38;5;241m=\u001b[39m np\u001b[38;5;241m.\u001b[39mlib\u001b[38;5;241m.\u001b[39mstride_tricks\u001b[38;5;241m.\u001b[39mas_strided(\u001b[43mfirst_row\u001b[49m, shape\u001b[38;5;241m=\u001b[39mwindow_shape, strides\u001b[38;5;241m=\u001b[39mstrides)\n\u001b[0;32m     12\u001b[0m stride_time \u001b[38;5;241m=\u001b[39m time\u001b[38;5;241m.\u001b[39mtime() \u001b[38;5;241m-\u001b[39m start_time\n\u001b[0;32m     14\u001b[0m start_time \u001b[38;5;241m=\u001b[39m time\u001b[38;5;241m.\u001b[39mtime()\n",
      "\u001b[1;31mNameError\u001b[0m: name 'first_row' is not defined"
     ]
    }
   ],
   "source": [
    "import time\n",
    "\n",
    "# Loop-based approach for sliding window\n",
    "def loop_based_sliding_window(arr, window_shape):\n",
    "    n = len(arr)\n",
    "    windows = [arr[i:i + window_shape[1]] for i in range(n - window_shape[1] + 1)]\n",
    "    return np.array(windows)\n",
    "\n",
    "# Compare execution times\n",
    "start_time = time.time()\n",
    "stride_result = np.lib.stride_tricks.as_strided(first_row, shape=window_shape, strides=strides)\n",
    "stride_time = time.time() - start_time\n",
    "\n",
    "start_time = time.time()\n",
    "loop_result = loop_based_sliding_window(first_row, window_shape)\n",
    "loop_time = time.time() - start_time\n",
    "\n",
    "print(f\"Stride-based execution time: {stride_time:.6f} seconds\")\n",
    "print(f\"Loop-based execution time: {loop_time:.6f} seconds\")\n",
    "print(\"Is the stride-based result equal to the loop-based result?\", np.array_equal(stride_result, loop_result))\n"
   ]
  }
 ],
 "metadata": {
  "kernelspec": {
   "display_name": "Python 3",
   "language": "python",
   "name": "python3"
  },
  "language_info": {
   "codemirror_mode": {
    "name": "ipython",
    "version": 3
   },
   "file_extension": ".py",
   "mimetype": "text/x-python",
   "name": "python",
   "nbconvert_exporter": "python",
   "pygments_lexer": "ipython3",
   "version": "3.12.7"
  }
 },
 "nbformat": 4,
 "nbformat_minor": 2
}
