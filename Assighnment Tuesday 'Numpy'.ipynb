{
 "cells": [
  {
   "cell_type": "markdown",
   "metadata": {},
   "source": [
    "#### Numpy Assignment\n",
    "##### Name:Ambreen\n",
    "##### Email:Ambreen.shamsurRehman@gmail.com"
   ]
  },
  {
   "cell_type": "code",
   "execution_count": 2,
   "metadata": {},
   "outputs": [],
   "source": [
    "\n",
    "import numpy as np"
   ]
  },
  {
   "cell_type": "markdown",
   "metadata": {},
   "source": [
    "### Problem 01: “Understanding NumPy Arrays and Operations”"
   ]
  },
  {
   "cell_type": "markdown",
   "metadata": {},
   "source": [
    "##### a. Create a NumPy array of shape (4, 5) filled with random integers between 1 and 100.\n"
   ]
  },
  {
   "cell_type": "code",
   "execution_count": 3,
   "metadata": {},
   "outputs": [
    {
     "data": {
      "text/plain": [
       "array([[ 87,  89,  13,  21,  71],\n",
       "       [ 65,  36,  24,  21,   1],\n",
       "       [ 28,  80,  95,  75,  61],\n",
       "       [ 67,   7, 100,  98,   3]], dtype=int32)"
      ]
     },
     "execution_count": 3,
     "metadata": {},
     "output_type": "execute_result"
    }
   ],
   "source": [
    "array1=np.random.randint(1,101,size=(4,5))\n",
    "array1"
   ]
  },
  {
   "cell_type": "markdown",
   "metadata": {},
   "source": [
    "##### b. Reshape the array into a shape of (2, 10) and explain how reshaping works in NumPy."
   ]
  },
  {
   "cell_type": "code",
   "execution_count": 5,
   "metadata": {},
   "outputs": [
    {
     "data": {
      "text/plain": [
       "array([[ 87,  89,  13,  21,  71,  65,  36,  24,  21,   1],\n",
       "       [ 28,  80,  95,  75,  61,  67,   7, 100,  98,   3]], dtype=int32)"
      ]
     },
     "execution_count": 5,
     "metadata": {},
     "output_type": "execute_result"
    }
   ],
   "source": [
    "reshaped_array=array1.reshape(2,10)\n",
    "reshaped_array"
   ]
  },
  {
   "cell_type": "markdown",
   "metadata": {},
   "source": [
    "##### c. Perform element-wise addition with another array of shape (2, 10) and discuss broadcasting rules.\n"
   ]
  },
  {
   "cell_type": "code",
   "execution_count": 6,
   "metadata": {},
   "outputs": [
    {
     "data": {
      "text/plain": [
       "array([[157,  96,  22,  35,  80,  67, 116,  55,  92,  59],\n",
       "       [ 51,  96, 156, 171, 161,  86,  10, 137, 117,  30]], dtype=int32)"
      ]
     },
     "execution_count": 6,
     "metadata": {},
     "output_type": "execute_result"
    }
   ],
   "source": [
    "array2=np.random.randint(1,101,size=(2,10))\n",
    "add_arr=reshaped_array+array2\n",
    "add_arr"
   ]
  },
  {
   "cell_type": "markdown",
   "metadata": {},
   "source": [
    "##### d. Calculate the dot product of two compatible arrays and explain the significance of dot product in \n",
    "linear algebra."
   ]
  },
  {
   "cell_type": "code",
   "execution_count": 8,
   "metadata": {},
   "outputs": [
    {
     "data": {
      "text/plain": [
       "array([[41, 73, 49, 95],\n",
       "       [77, 59, 39,  8],\n",
       "       [69, 78, 11, 99],\n",
       "       [11, 42, 39, 44],\n",
       "       [13, 22, 13, 48]], dtype=int32)"
      ]
     },
     "execution_count": 8,
     "metadata": {},
     "output_type": "execute_result"
    }
   ],
   "source": [
    "array3=np.random.randint(1,101,size=(5,4))\n",
    "dot_product=np.dot(array1,array3)\n",
    "array3\n"
   ]
  },
  {
   "cell_type": "markdown",
   "metadata": {},
   "source": [
    "##### Create a masked array from the original array, masking all values below the median\n"
   ]
  },
  {
   "cell_type": "code",
   "execution_count": 10,
   "metadata": {},
   "outputs": [
    {
     "data": {
      "text/plain": [
       "masked_array(\n",
       "  data=[[87, 89, --, --, 71],\n",
       "        [65, --, --, --, --],\n",
       "        [--, 80, 95, 75, --],\n",
       "        [67, --, 100, 98, --]],\n",
       "  mask=[[False, False,  True,  True, False],\n",
       "        [False,  True,  True,  True,  True],\n",
       "        [ True, False, False, False,  True],\n",
       "        [False,  True, False, False,  True]],\n",
       "  fill_value=np.int64(999999),\n",
       "  dtype=int32)"
      ]
     },
     "execution_count": 10,
     "metadata": {},
     "output_type": "execute_result"
    }
   ],
   "source": [
    "median_value=np.median(array1)\n",
    "masked_array=np.ma.masked_less(array1,median_value)\n",
    "masked_array\n"
   ]
  },
  {
   "cell_type": "markdown",
   "metadata": {},
   "source": [
    "### Problem 02: “Exploring NumPy Broadcasting and Strides”\n"
   ]
  },
  {
   "cell_type": "markdown",
   "metadata": {},
   "source": [
    "##### a. Explain the concept of broadcasting in NumPy and provide an example involving arrays of different shapes"
   ]
  },
  {
   "cell_type": "code",
   "execution_count": 11,
   "metadata": {},
   "outputs": [
    {
     "data": {
      "text/plain": [
       "array([[11, 22, 33],\n",
       "       [14, 25, 36]])"
      ]
     },
     "execution_count": 11,
     "metadata": {},
     "output_type": "execute_result"
    }
   ],
   "source": [
    "array4=np.array([[1,2,3],[4,5,6]])\n",
    "array5=np.array([10,20,30])\n",
    "add=array4+array5\n",
    "add"
   ]
  },
  {
   "cell_type": "markdown",
   "metadata": {},
   "source": [
    "##### Create two arrays with different shapes that can be broadcasted together and perform an arithmetic operation on them.\n"
   ]
  },
  {
   "cell_type": "code",
   "execution_count": 13,
   "metadata": {},
   "outputs": [
    {
     "data": {
      "text/plain": [
       "array([[ 3,  6,  8],\n",
       "       [ 4,  7,  9],\n",
       "       [ 5,  8, 10]])"
      ]
     },
     "execution_count": 13,
     "metadata": {},
     "output_type": "execute_result"
    }
   ],
   "source": [
    "a=np.array([[1],[2],[3]])\n",
    "b=np.array([[2,5,7]])\n",
    "c=a+b\n",
    "c"
   ]
  },
  {
   "cell_type": "code",
   "execution_count": 14,
   "metadata": {},
   "outputs": [
    {
     "data": {
      "text/plain": [
       "array([[ 2,  5,  7],\n",
       "       [ 4, 10, 14],\n",
       "       [ 6, 15, 21]])"
      ]
     },
     "execution_count": 14,
     "metadata": {},
     "output_type": "execute_result"
    }
   ],
   "source": [
    "d=a*b\n",
    "d"
   ]
  },
  {
   "cell_type": "markdown",
   "metadata": {},
   "source": [
    "##### Create an example to demonstrate the impact of strides on array slicing and performance.\n"
   ]
  },
  {
   "cell_type": "code",
   "execution_count": 15,
   "metadata": {},
   "outputs": [
    {
     "data": {
      "text/plain": [
       "((8000, 8), (80000, 80))"
      ]
     },
     "execution_count": 15,
     "metadata": {},
     "output_type": "execute_result"
    }
   ],
   "source": [
    "largearray=np.arange(1000000).reshape(1000,1000)\n",
    "s_arr=largearray[::10,::10]\n",
    "strides=largearray.strides\n",
    "sliced_strides=s_arr.strides\n",
    "strides,sliced_strides"
   ]
  },
  {
   "cell_type": "markdown",
   "metadata": {},
   "source": [
    "##### Analyze how changing the order of dimensions’ affects broadcasting"
   ]
  },
  {
   "cell_type": "code",
   "execution_count": 17,
   "metadata": {},
   "outputs": [
    {
     "data": {
      "text/plain": [
       "array([[11,  6,  3, 31],\n",
       "       [22, 10,  8, 52],\n",
       "       [33, 15,  8, 23]])"
      ]
     },
     "execution_count": 17,
     "metadata": {},
     "output_type": "execute_result"
    }
   ],
   "source": [
    "e=np.array([[1],[2],[3]])\n",
    "f=np.array([[10,20,30],[5,8,12],[2,6,5],[30,50,20]])\n",
    "t=f.T\n",
    "broadcast_result=e+t\n",
    "broadcast_result"
   ]
  },
  {
   "cell_type": "markdown",
   "metadata": {},
   "source": [
    "### Problem 03: “Advanced Array Manipulation with NumPy”\n"
   ]
  },
  {
   "cell_type": "markdown",
   "metadata": {},
   "source": [
    "##### a. Create a 3D NumPy array representing an RGB image and explain how to access individual color channels.\n"
   ]
  },
  {
   "cell_type": "code",
   "execution_count": 20,
   "metadata": {},
   "outputs": [
    {
     "data": {
      "text/plain": [
       "array([[[155,  46,  62],\n",
       "        [ 94,  52,  90],\n",
       "        [183,  93,  41],\n",
       "        [ 48, 238, 133]],\n",
       "\n",
       "       [[205, 124, 102],\n",
       "        [239, 163,  99],\n",
       "        [176,  49, 194],\n",
       "        [224,  37,  92]],\n",
       "\n",
       "       [[ 41,  48, 139],\n",
       "        [248, 242, 239],\n",
       "        [155, 223, 128],\n",
       "        [ 45, 201,  55]],\n",
       "\n",
       "       [[ 21,   6, 132],\n",
       "        [112, 108, 174],\n",
       "        [129, 232, 106],\n",
       "        [ 72, 182,  53]]], dtype=int32)"
      ]
     },
     "execution_count": 20,
     "metadata": {},
     "output_type": "execute_result"
    }
   ],
   "source": [
    "image=np.random.randint(0,256,size=(4,4,3))\n",
    "image"
   ]
  },
  {
   "cell_type": "code",
   "execution_count": 23,
   "metadata": {},
   "outputs": [
    {
     "data": {
      "text/plain": [
       "array([[155,  94, 183,  48],\n",
       "       [205, 239, 176, 224],\n",
       "       [ 41, 248, 155,  45],\n",
       "       [ 21, 112, 129,  72]], dtype=int32)"
      ]
     },
     "execution_count": 23,
     "metadata": {},
     "output_type": "execute_result"
    }
   ],
   "source": [
    "red_channel=image[:,:,0]\n",
    "red_channel"
   ]
  },
  {
   "cell_type": "markdown",
   "metadata": {},
   "source": [
    "##### b. Demonstrate how to flatten this 3D array into a 1D array and discuss the implications for image processing"
   ]
  },
  {
   "cell_type": "code",
   "execution_count": 24,
   "metadata": {},
   "outputs": [
    {
     "data": {
      "text/plain": [
       "array([155,  46,  62,  94,  52,  90, 183,  93,  41,  48, 238, 133, 205,\n",
       "       124, 102, 239, 163,  99, 176,  49, 194, 224,  37,  92,  41,  48,\n",
       "       139, 248, 242, 239, 155, 223, 128,  45, 201,  55,  21,   6, 132,\n",
       "       112, 108, 174, 129, 232, 106,  72, 182,  53], dtype=int32)"
      ]
     },
     "execution_count": 24,
     "metadata": {},
     "output_type": "execute_result"
    }
   ],
   "source": [
    "flatten_array=image.flatten()\n",
    "flatten_array"
   ]
  },
  {
   "cell_type": "markdown",
   "metadata": {},
   "source": [
    "##### c. Use array slicing to extract a sub-array from the 3D array"
   ]
  },
  {
   "cell_type": "code",
   "execution_count": 26,
   "metadata": {},
   "outputs": [
    {
     "data": {
      "text/plain": [
       "array([[[239, 163,  99],\n",
       "        [176,  49, 194]],\n",
       "\n",
       "       [[248, 242, 239],\n",
       "        [155, 223, 128]]], dtype=int32)"
      ]
     },
     "execution_count": 26,
     "metadata": {},
     "output_type": "execute_result"
    }
   ],
   "source": [
    "sub_image=image[1:3,1:3,:]\n",
    "sub_image"
   ]
  },
  {
   "cell_type": "markdown",
   "metadata": {},
   "source": [
    "##### Create a function that normalizes the pixel values of the RGB image array to the range [0, 1]"
   ]
  },
  {
   "cell_type": "code",
   "execution_count": 29,
   "metadata": {},
   "outputs": [
    {
     "data": {
      "text/plain": [
       "array([[[0.60784314, 0.18039216, 0.24313725],\n",
       "        [0.36862745, 0.20392157, 0.35294118],\n",
       "        [0.71764706, 0.36470588, 0.16078431],\n",
       "        [0.18823529, 0.93333333, 0.52156863]],\n",
       "\n",
       "       [[0.80392157, 0.48627451, 0.4       ],\n",
       "        [0.9372549 , 0.63921569, 0.38823529],\n",
       "        [0.69019608, 0.19215686, 0.76078431],\n",
       "        [0.87843137, 0.14509804, 0.36078431]],\n",
       "\n",
       "       [[0.16078431, 0.18823529, 0.54509804],\n",
       "        [0.97254902, 0.94901961, 0.9372549 ],\n",
       "        [0.60784314, 0.8745098 , 0.50196078],\n",
       "        [0.17647059, 0.78823529, 0.21568627]],\n",
       "\n",
       "       [[0.08235294, 0.02352941, 0.51764706],\n",
       "        [0.43921569, 0.42352941, 0.68235294],\n",
       "        [0.50588235, 0.90980392, 0.41568627],\n",
       "        [0.28235294, 0.71372549, 0.20784314]]])"
      ]
     },
     "execution_count": 29,
     "metadata": {},
     "output_type": "execute_result"
    }
   ],
   "source": [
    "def normalize(image):\n",
    "    return image/255.0\n",
    "normalized_image=normalize(image)\n",
    "normalized_image"
   ]
  },
  {
   "cell_type": "markdown",
   "metadata": {},
   "source": [
    "### Problem 04: “NumPy for Statistical Analysis”\n",
    "a. Generate a NumPy array of 1000 random numbers and calculate basic statistics"
   ]
  },
  {
   "cell_type": "code",
   "execution_count": 32,
   "metadata": {},
   "outputs": [
    {
     "name": "stdout",
     "output_type": "stream",
     "text": [
      "Mean: 0.020920496805634556\n",
      "Median: 0.013766981805322662\n",
      "variance: 0.9906662730238707\n"
     ]
    }
   ],
   "source": [
    "random_array=np.random.randn(1000)\n",
    "mean=np.mean(random_array)\n",
    "print(\"Mean:\",mean)\n",
    "median=np.median(random_array)\n",
    "print(\"Median:\",median)\n",
    "variance=np.var(random_array)\n",
    "print(\"variance:\",variance)"
   ]
  },
  {
   "cell_type": "markdown",
   "metadata": {},
   "source": [
    "##### Discuss the differences between population and sample statistics, and calculate both for your generated data."
   ]
  },
  {
   "cell_type": "code",
   "execution_count": 38,
   "metadata": {},
   "outputs": [
    {
     "name": "stdout",
     "output_type": "stream",
     "text": [
      "population variance is: 0.9906662730238707\n",
      "sample variance is: 0.9916579309548255\n"
     ]
    }
   ],
   "source": [
    "population_v=np.var(random_array)\n",
    "print(\"population variance is:\",population_v)\n",
    "sample_var=np.var(random_array,ddof=1)\n",
    "print(\"sample variance is:\",sample_var)"
   ]
  },
  {
   "cell_type": "markdown",
   "metadata": {},
   "source": [
    "##### Create a histogram of the random numbers using NumPy, and explain how histograms can be useful for data visualization"
   ]
  },
  {
   "cell_type": "code",
   "execution_count": 33,
   "metadata": {},
   "outputs": [],
   "source": [
    "import matplotlib.pyplot as plt"
   ]
  },
  {
   "cell_type": "code",
   "execution_count": 37,
   "metadata": {},
   "outputs": [
    {
     "data": {
      "image/png": "[encoded data removed]",
      "text/plain": [
       "<Figure size 640x480 with 1 Axes>"
      ]
     },
     "metadata": {},
     "output_type": "display_data"
    }
   ],
   "source": [
    "plt.hist(random_array,edgecolor='black')\n",
    "plt.title('Histogram of random numbers')\n",
    "plt.xlabel('Numbers')\n",
    "plt.ylabel('Frequency')\n",
    "plt.show()"
   ]
  },
  {
   "cell_type": "markdown",
   "metadata": {},
   "source": [
    "##### Implement a method to identify outliers in your dataset using the IQR (Interquartile Range) method."
   ]
  },
  {
   "cell_type": "code",
   "execution_count": 41,
   "metadata": {},
   "outputs": [
    {
     "name": "stdout",
     "output_type": "stream",
     "text": [
      "Outliers in data are: [ 3.22569025  2.8489891  -2.80607144  2.94040719  2.8799308 ]\n"
     ]
    }
   ],
   "source": [
    "Q1=np.percentile(random_array,25)\n",
    "Q3=np.percentile(random_array,75)\n",
    "IQR=Q3-Q1\n",
    "lower_bound=Q1-1.5*IQR\n",
    "upper_bound=Q3+1.5*IQR\n",
    "outliers=random_array[(random_array<lower_bound)|(random_array>upper_bound)]\n",
    "print(\"Outliers in data are:\",outliers)"
   ]
  },
  {
   "cell_type": "markdown",
   "metadata": {},
   "source": [
    "### Problem 05: “Advanced NumPy Operations Challenge”"
   ]
  },
  {
   "cell_type": "markdown",
   "metadata": {},
   "source": [
    "##### Compute the pairwise Euclidean distance between each row in X and each row in Y"
   ]
  },
  {
   "cell_type": "code",
   "execution_count": 52,
   "metadata": {},
   "outputs": [
    {
     "data": {
      "text/plain": [
       "array([0.93430247, 0.89938083])"
      ]
     },
     "execution_count": 52,
     "metadata": {},
     "output_type": "execute_result"
    }
   ],
   "source": [
    "A=np.random.rand(1,5)\n",
    "B=np.random.rand(2,5)\n",
    "D=np.sqrt(np.sum((A-B)**2,axis=-1))\n",
    "D"
   ]
  },
  {
   "cell_type": "markdown",
   "metadata": {},
   "source": [
    "##### Perform Singular Value Decomposition (SVD)"
   ]
  },
  {
   "cell_type": "code",
   "execution_count": 55,
   "metadata": {},
   "outputs": [
    {
     "data": {
      "text/plain": [
       "SVDResult(U=array([[-1.]]), S=array([0.9971206]), Vh=array([[-0.06156757, -0.73349702, -0.30604038, -0.60000337, -0.06728148]]))"
      ]
     },
     "execution_count": 55,
     "metadata": {},
     "output_type": "execute_result"
    }
   ],
   "source": [
    "vt=np.linalg.svd(A,full_matrices=False)\n",
    "vt"
   ]
  },
  {
   "cell_type": "markdown",
   "metadata": {},
   "source": [
    "##### Modify D such that:\n",
    "* Replace all distances less than 5 with 0.\n",
    "* Replace all distances greater than 100 with 1.\n",
    " * Count how many values remain between 5 and 100 after this transformation.\n"
   ]
  },
  {
   "cell_type": "code",
   "execution_count": 58,
   "metadata": {},
   "outputs": [
    {
     "data": {
      "text/plain": [
       "np.int64(0)"
      ]
     },
     "execution_count": 58,
     "metadata": {},
     "output_type": "execute_result"
    }
   ],
   "source": [
    "D_modified=np.where(D<5,0,D)\n",
    "D_modified=np.where(D_modified>100,1,D_modified)\n",
    "count=np.sum((D_modified>5)&(D_modified<100))\n",
    "count"
   ]
  },
  {
   "cell_type": "code",
   "execution_count": null,
   "metadata": {},
   "outputs": [],
   "source": []
  }
 ],
 "metadata": {
  "kernelspec": {
   "display_name": "Python 3",
   "language": "python",
   "name": "python3"
  },
  "language_info": {
   "codemirror_mode": {
    "name": "ipython",
    "version": 3
   },
   "file_extension": ".py",
   "mimetype": "text/x-python",
   "name": "python",
   "nbconvert_exporter": "python",
   "pygments_lexer": "ipython3",
   "version": "3.12.7"
  }
 },
 "nbformat": 4,
 "nbformat_minor": 2
}
