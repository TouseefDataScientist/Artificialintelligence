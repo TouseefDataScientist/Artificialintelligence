{
  "nbformat": 4,
  "nbformat_minor": 0,
  "metadata": {
    "colab": {
      "provenance": []
    },
    "kernelspec": {
      "name": "python3",
      "display_name": "Python 3"
    },
    "language_info": {
      "name": "python"
    }
  },
  "cells": [
    {
      "cell_type": "code",
      "execution_count": null,
      "metadata": {
        "id": "GX4XVUXfBquv"
      },
      "outputs": [],
      "source": []
    },
    {
      "cell_type": "markdown",
      "source": [
        "# problem 1"
      ],
      "metadata": {
        "id": "MU-voLQjBvSr"
      }
    },
    {
      "cell_type": "code",
      "source": [
        "import numpy as np"
      ],
      "metadata": {
        "id": "fTz0QhN2ByEZ"
      },
      "execution_count": 1,
      "outputs": []
    },
    {
      "cell_type": "markdown",
      "source": [
        "# a. Create a NumPy array of shape (4, 5)"
      ],
      "metadata": {
        "id": "YbPK_9QECF9X"
      }
    },
    {
      "cell_type": "code",
      "source": [
        "array_1 = np.random.randint(1, 101, size=(4, 5))\n",
        "print(\"Original Array (4x5):\\n\", array_1)"
      ],
      "metadata": {
        "colab": {
          "base_uri": "https://localhost:8080/"
        },
        "id": "td6xDIuRCIK9",
        "outputId": "ae4a1370-7dc9-43b9-93cf-a9610ce44034"
      },
      "execution_count": 2,
      "outputs": [
        {
          "output_type": "stream",
          "name": "stdout",
          "text": [
            "Original Array (4x5):\n",
            " [[ 35  39  27 100   3]\n",
            " [ 69  77   4   4  54]\n",
            " [ 56  75  88  44  74]\n",
            " [ 67  81  35  70   3]]\n"
          ]
        }
      ]
    },
    {
      "cell_type": "markdown",
      "source": [
        "# b. Reshape the array into a shape of (2, 10) and explain how reshaping works in NumPy"
      ],
      "metadata": {
        "id": "CDD_Dix8CQ-H"
      }
    },
    {
      "cell_type": "code",
      "source": [
        "reshaped_array = array_1.reshape(2, 10)\n",
        "print(\"\\nReshaped Array (2x10):\\n\", reshaped_array)"
      ],
      "metadata": {
        "colab": {
          "base_uri": "https://localhost:8080/"
        },
        "id": "muZJ_bxjCSj1",
        "outputId": "48832a2d-4275-4803-a9f5-2174594f8c00"
      },
      "execution_count": 3,
      "outputs": [
        {
          "output_type": "stream",
          "name": "stdout",
          "text": [
            "\n",
            "Reshaped Array (2x10):\n",
            " [[ 35  39  27 100   3  69  77   4   4  54]\n",
            " [ 56  75  88  44  74  67  81  35  70   3]]\n"
          ]
        }
      ]
    },
    {
      "cell_type": "markdown",
      "source": [
        "# c. Perform element-wise addition with another array of shape (2, 10)"
      ],
      "metadata": {
        "id": "p0PZdTaQCcJ2"
      }
    },
    {
      "cell_type": "code",
      "source": [
        "array_2 = np.random.randint(1, 101, size=(2, 10))\n",
        "added_array = reshaped_array + array_2\n",
        "print(\"\\nElement-wise Addition with another Array (2x10):\\n\", added_array)"
      ],
      "metadata": {
        "colab": {
          "base_uri": "https://localhost:8080/"
        },
        "id": "jOnVyi2YCdUC",
        "outputId": "6ce29a30-9d9b-4f9f-f309-89c86fb7ba90"
      },
      "execution_count": 4,
      "outputs": [
        {
          "output_type": "stream",
          "name": "stdout",
          "text": [
            "\n",
            "Element-wise Addition with another Array (2x10):\n",
            " [[ 73  91 116 132  56 164 169  68  56 109]\n",
            " [ 73 167  95  79  94 163 148  47 119  13]]\n"
          ]
        }
      ]
    },
    {
      "cell_type": "code",
      "source": [],
      "metadata": {
        "id": "w8ewxC1tChGN"
      },
      "execution_count": null,
      "outputs": []
    },
    {
      "cell_type": "markdown",
      "source": [
        "# d. Calculate the dot product of two compatible arrays"
      ],
      "metadata": {
        "id": "-D1aSk2JClFg"
      }
    },
    {
      "cell_type": "code",
      "source": [
        "array_3 = np.random.randint(1, 101, size=(5, 4))\n",
        "dot_product = np.dot(array_1, array_3)\n",
        "print(\"\\nDot Product of two Arrays (4x5) . (5x4):\\n\", dot_product)"
      ],
      "metadata": {
        "colab": {
          "base_uri": "https://localhost:8080/"
        },
        "id": "oK483bYpCmCN",
        "outputId": "e4f1d9f3-47eb-4423-a90b-e9b0bde51fbe"
      },
      "execution_count": 5,
      "outputs": [
        {
          "output_type": "stream",
          "name": "stdout",
          "text": [
            "\n",
            "Dot Product of two Arrays (4x5) . (5x4):\n",
            " [[12593  4737 13277  7516]\n",
            " [ 8106  6772 12745 12737]\n",
            " [17474 15699 16345 14369]\n",
            " [12435  7177 15399 11696]]\n"
          ]
        }
      ]
    },
    {
      "cell_type": "code",
      "source": [],
      "metadata": {
        "id": "zKbd9R9GCpUq"
      },
      "execution_count": null,
      "outputs": []
    },
    {
      "cell_type": "markdown",
      "source": [
        "# e. Create a masked array from the original array, masking all values below the median"
      ],
      "metadata": {
        "id": "iWeI-cBLCqU4"
      }
    },
    {
      "cell_type": "code",
      "source": [
        "median_value = np.median(array_1)\n",
        "masked_array = np.ma.masked_less(array_1, median_value)\n",
        "print(\"\\nMasked Array (Values below Median are masked):\\n\", masked_array)"
      ],
      "metadata": {
        "colab": {
          "base_uri": "https://localhost:8080/"
        },
        "id": "0TzFpQwACzw_",
        "outputId": "124c4dde-8f4e-4edc-b870-d2e31df86963"
      },
      "execution_count": 6,
      "outputs": [
        {
          "output_type": "stream",
          "name": "stdout",
          "text": [
            "\n",
            "Masked Array (Values below Median are masked):\n",
            " [[-- -- -- 100 --]\n",
            " [69 77 -- -- --]\n",
            " [56 75 88 -- 74]\n",
            " [67 81 -- 70 --]]\n"
          ]
        }
      ]
    },
    {
      "cell_type": "code",
      "source": [],
      "metadata": {
        "id": "QZyx5SLKC18P"
      },
      "execution_count": null,
      "outputs": []
    },
    {
      "cell_type": "markdown",
      "source": [
        "**# problem 2**"
      ],
      "metadata": {
        "id": "Ex33lYKiC9D-"
      }
    },
    {
      "cell_type": "code",
      "source": [],
      "metadata": {
        "id": "6JJiO7I6DAxy"
      },
      "execution_count": null,
      "outputs": []
    },
    {
      "cell_type": "markdown",
      "source": [
        "***# A***"
      ],
      "metadata": {
        "id": "xDN34lc6DLZ0"
      }
    },
    {
      "cell_type": "code",
      "source": [
        "import numpy as np\n",
        "\n",
        "\n",
        "array_1 = np.array([1, 2, 3])  # Shape (3,)\n",
        "array_2 = np.array([[10, 20, 30], [40, 50, 60], [70, 80, 90]])  # Shape (3, 3)\n",
        "\n",
        "result = array_1 + array_2\n",
        "print(\"Broadcasting Result:\\n\", result)\n",
        "\n",
        "\n"
      ],
      "metadata": {
        "colab": {
          "base_uri": "https://localhost:8080/"
        },
        "id": "pa5DKCWnDPuh",
        "outputId": "7a1a476b-12c7-4351-8b5a-0c38ec9f43b4"
      },
      "execution_count": 7,
      "outputs": [
        {
          "output_type": "stream",
          "name": "stdout",
          "text": [
            "Broadcasting Result:\n",
            " [[11 22 33]\n",
            " [41 52 63]\n",
            " [71 82 93]]\n"
          ]
        }
      ]
    },
    {
      "cell_type": "code",
      "source": [],
      "metadata": {
        "id": "05YRc4_zDW9g"
      },
      "execution_count": null,
      "outputs": []
    },
    {
      "cell_type": "markdown",
      "source": [
        "# b. Create two arrays with different shapes that can be broadcasted together and perform an arithmetic\n"
      ],
      "metadata": {
        "id": "HBFWjgV6DZ6t"
      }
    },
    {
      "cell_type": "code",
      "source": [
        "\n",
        "array_1 = np.array([[5], [10]])\n",
        "\n",
        "\n",
        "array_2 = np.array([[1, 2, 3]])\n",
        "\n",
        "\n",
        "result = array_1 + array_2\n",
        "print(\"\\nBroadcasted Arrays Addition Result:\\n\", result)\n",
        "\n",
        "\n"
      ],
      "metadata": {
        "colab": {
          "base_uri": "https://localhost:8080/"
        },
        "id": "MQ4ueq8ADdd2",
        "outputId": "15b48f1f-5dab-41d6-82b9-9c4900e31beb"
      },
      "execution_count": 8,
      "outputs": [
        {
          "output_type": "stream",
          "name": "stdout",
          "text": [
            "\n",
            "Broadcasted Arrays Addition Result:\n",
            " [[ 6  7  8]\n",
            " [11 12 13]]\n"
          ]
        }
      ]
    },
    {
      "cell_type": "code",
      "source": [],
      "metadata": {
        "id": "jb9C9iqjD17u"
      },
      "execution_count": null,
      "outputs": []
    },
    {
      "cell_type": "markdown",
      "source": [
        "# c. Discuss how strides in NumPy arrays affect memory access patterns when slicing an array.\n"
      ],
      "metadata": {
        "id": "0j4pCWmyEDLB"
      }
    },
    {
      "cell_type": "code",
      "source": [
        "#Strides define how many bytes the NumPy array should move in memory to access the next element along each dimension. Strides impact how the array slices and how efficiently data is accessed in memory."
      ],
      "metadata": {
        "id": "I4osFahOEE84"
      },
      "execution_count": null,
      "outputs": []
    },
    {
      "cell_type": "markdown",
      "source": [
        "# d. Create an example to demonstrate the impact of strides on array slicing and performance."
      ],
      "metadata": {
        "id": "ovNkbEfDENbK"
      }
    },
    {
      "cell_type": "code",
      "source": [
        "\n",
        "large_array = np.arange(100).reshape(10, 10)\n",
        "\n",
        "\n",
        "normal_slice = large_array[::2, ::2]\n",
        "print(\"\\nNormal Slice Result:\\n\", normal_slice)\n",
        "\n",
        "\n",
        "from numpy.lib.stride_tricks import as_strided\n",
        "\n",
        "strided_slice = as_strided(large_array, shape=(5, 5), strides=(20, 8))\n",
        "print(\"\\nStrided Slice Result:\\n\", strided_slice)\n",
        "\n",
        "\n",
        "\n"
      ],
      "metadata": {
        "colab": {
          "base_uri": "https://localhost:8080/"
        },
        "id": "cauOY_HLERuO",
        "outputId": "be8d22ee-a2bd-4ff5-f0f9-4a3d016f3a99"
      },
      "execution_count": 9,
      "outputs": [
        {
          "output_type": "stream",
          "name": "stdout",
          "text": [
            "\n",
            "Normal Slice Result:\n",
            " [[ 0  2  4  6  8]\n",
            " [20 22 24 26 28]\n",
            " [40 42 44 46 48]\n",
            " [60 62 64 66 68]\n",
            " [80 82 84 86 88]]\n",
            "\n",
            "Strided Slice Result:\n",
            " [[          0           1           2           3           4]\n",
            " [12884901888 17179869184 21474836480 25769803776 30064771072]\n",
            " [          5           6           7           8           9]\n",
            " [34359738368 38654705664 42949672960 47244640256 51539607552]\n",
            " [         10          11          12          13          14]]\n"
          ]
        }
      ]
    },
    {
      "cell_type": "code",
      "source": [],
      "metadata": {
        "id": "lfMliSo-EcWT"
      },
      "execution_count": null,
      "outputs": []
    },
    {
      "cell_type": "markdown",
      "source": [
        "# e. Analyze how changing the order of dimensions’ affects broadcasting and provide a scenario\n"
      ],
      "metadata": {
        "id": "x-Cn0NwoEfSZ"
      }
    },
    {
      "cell_type": "code",
      "source": [
        "\n",
        "array_1 = np.array([[1, 2, 3], [4, 5, 6]])  # Shape (2, 3)\n",
        "array_2 = np.array([10, 20, 30])  # Shape (3,)\n",
        "result = array_1 + array_2\n",
        "print(\"\\nBroadcasting with Matching Last Dimension:\\n\", result)\n",
        "array_1_transposed = array_1.T  # Now array_1 has shape (3, 2)\n",
        "try:\n",
        "    result = array_1_transposed + array_2\n",
        "    print(\"\\nBroadcasting with Transposed Array:\\n\", result)\n",
        "except ValueError as e:\n",
        "    print(\"\\nBroadcasting Error with Transposed Array:\", e)\n",
        "\n",
        "\n"
      ],
      "metadata": {
        "colab": {
          "base_uri": "https://localhost:8080/"
        },
        "id": "adLruZtzEiLf",
        "outputId": "16db4b35-1aff-4435-bd36-57ca73d3ff5d"
      },
      "execution_count": 10,
      "outputs": [
        {
          "output_type": "stream",
          "name": "stdout",
          "text": [
            "\n",
            "Broadcasting with Matching Last Dimension:\n",
            " [[11 22 33]\n",
            " [14 25 36]]\n",
            "\n",
            "Broadcasting Error with Transposed Array: operands could not be broadcast together with shapes (3,2) (3,) \n"
          ]
        }
      ]
    },
    {
      "cell_type": "code",
      "source": [],
      "metadata": {
        "id": "WMjLPi-8E0Bx"
      },
      "execution_count": null,
      "outputs": []
    },
    {
      "cell_type": "markdown",
      "source": [
        "## ***problem*** 3"
      ],
      "metadata": {
        "id": "FF4BWOwRE-jo"
      }
    },
    {
      "cell_type": "markdown",
      "source": [
        "# A"
      ],
      "metadata": {
        "id": "S4oF_zs1FL5X"
      }
    },
    {
      "cell_type": "code",
      "source": [
        "\n",
        "image = np.random.randint(0, 256, size=(4, 4, 3), dtype=np.uint8)\n",
        "print(\"RGB Image Array:\\n\", image)\n",
        "\n",
        "\n",
        "red_channel = image[:, :, 0]\n",
        "green_channel = image[:, :, 1]\n",
        "blue_channel = image[:, :, 2]\n",
        "\n",
        "print(\"\\nRed Channel:\\n\", red_channel)\n",
        "print(\"\\nGreen Channel:\\n\", green_channel)\n",
        "print(\"\\nBlue Channel:\\n\", blue_channel)\n",
        "\n",
        "\n"
      ],
      "metadata": {
        "colab": {
          "base_uri": "https://localhost:8080/"
        },
        "id": "51z54MmdFN8A",
        "outputId": "d30ff365-b46f-4598-d835-9a73c4f24993"
      },
      "execution_count": 11,
      "outputs": [
        {
          "output_type": "stream",
          "name": "stdout",
          "text": [
            "RGB Image Array:\n",
            " [[[ 98  13 149]\n",
            "  [185 234  13]\n",
            "  [ 73 195 255]\n",
            "  [123 213   3]]\n",
            "\n",
            " [[206 120 121]\n",
            "  [122  25 119]\n",
            "  [ 38 194  27]\n",
            "  [183  39 219]]\n",
            "\n",
            " [[108  11 186]\n",
            "  [ 55 189  13]\n",
            "  [163 229 212]\n",
            "  [173  32 242]]\n",
            "\n",
            " [[ 43  86 218]\n",
            "  [183  26 162]\n",
            "  [ 46 240 202]\n",
            "  [ 38  13  39]]]\n",
            "\n",
            "Red Channel:\n",
            " [[ 98 185  73 123]\n",
            " [206 122  38 183]\n",
            " [108  55 163 173]\n",
            " [ 43 183  46  38]]\n",
            "\n",
            "Green Channel:\n",
            " [[ 13 234 195 213]\n",
            " [120  25 194  39]\n",
            " [ 11 189 229  32]\n",
            " [ 86  26 240  13]]\n",
            "\n",
            "Blue Channel:\n",
            " [[149  13 255   3]\n",
            " [121 119  27 219]\n",
            " [186  13 212 242]\n",
            " [218 162 202  39]]\n"
          ]
        }
      ]
    },
    {
      "cell_type": "code",
      "source": [],
      "metadata": {
        "id": "zQNV2-NHFaT5"
      },
      "execution_count": null,
      "outputs": []
    },
    {
      "cell_type": "markdown",
      "source": [
        "# B"
      ],
      "metadata": {
        "id": "DVvGLhSlFel-"
      }
    },
    {
      "cell_type": "code",
      "source": [
        "\n",
        "flattened_image = image.flatten()\n",
        "print(\"\\nFlattened Image Array (1D):\\n\", flattened_image)\n",
        "\n"
      ],
      "metadata": {
        "colab": {
          "base_uri": "https://localhost:8080/"
        },
        "id": "E6ITG3ndFfx0",
        "outputId": "0f014fd8-f643-4016-9e33-440ce00ca46c"
      },
      "execution_count": 12,
      "outputs": [
        {
          "output_type": "stream",
          "name": "stdout",
          "text": [
            "\n",
            "Flattened Image Array (1D):\n",
            " [ 98  13 149 185 234  13  73 195 255 123 213   3 206 120 121 122  25 119\n",
            "  38 194  27 183  39 219 108  11 186  55 189  13 163 229 212 173  32 242\n",
            "  43  86 218 183  26 162  46 240 202  38  13  39]\n"
          ]
        }
      ]
    },
    {
      "cell_type": "markdown",
      "source": [
        "# c"
      ],
      "metadata": {
        "id": "URzwIMmhFjYX"
      }
    },
    {
      "cell_type": "code",
      "source": [
        "\n",
        "sub_array = image[1:3, 1:3, :]\n",
        "print(\"\\nSub-array (2x2 section):\\n\", sub_array)\n",
        "\n",
        "\n",
        "sub_array[:, :, 0] = 255\n",
        "\n",
        "print(\"\\nModified Sub-array:\\n\", sub_array)\n",
        "print(\"\\nOriginal Image after Modifying Sub-array:\\n\", image)\n",
        "\n",
        "\n"
      ],
      "metadata": {
        "colab": {
          "base_uri": "https://localhost:8080/"
        },
        "id": "GemPpi7DFmqj",
        "outputId": "d8ea8707-1d86-42a8-ce8c-53845e21bbf4"
      },
      "execution_count": 13,
      "outputs": [
        {
          "output_type": "stream",
          "name": "stdout",
          "text": [
            "\n",
            "Sub-array (2x2 section):\n",
            " [[[122  25 119]\n",
            "  [ 38 194  27]]\n",
            "\n",
            " [[ 55 189  13]\n",
            "  [163 229 212]]]\n",
            "\n",
            "Modified Sub-array:\n",
            " [[[255  25 119]\n",
            "  [255 194  27]]\n",
            "\n",
            " [[255 189  13]\n",
            "  [255 229 212]]]\n",
            "\n",
            "Original Image after Modifying Sub-array:\n",
            " [[[ 98  13 149]\n",
            "  [185 234  13]\n",
            "  [ 73 195 255]\n",
            "  [123 213   3]]\n",
            "\n",
            " [[206 120 121]\n",
            "  [255  25 119]\n",
            "  [255 194  27]\n",
            "  [183  39 219]]\n",
            "\n",
            " [[108  11 186]\n",
            "  [255 189  13]\n",
            "  [255 229 212]\n",
            "  [173  32 242]]\n",
            "\n",
            " [[ 43  86 218]\n",
            "  [183  26 162]\n",
            "  [ 46 240 202]\n",
            "  [ 38  13  39]]]\n"
          ]
        }
      ]
    },
    {
      "cell_type": "markdown",
      "source": [
        "# D"
      ],
      "metadata": {
        "id": "cky7b641FwXe"
      }
    },
    {
      "cell_type": "code",
      "source": [
        "import time\n",
        "\n",
        "\n",
        "list_data = list(range(1000000))\n",
        "array_data = np.arange(1000000)\n",
        "\n",
        "\n",
        "start = time.time()\n",
        "sum(list_data)\n",
        "print(\"Sum using lists:\", time.time() - start, \"seconds\")\n",
        "\n",
        "\n",
        "start = time.time()\n",
        "np.sum(array_data)\n",
        "print(\"Sum using NumPy:\", time.time() - start, \"seconds\")\n"
      ],
      "metadata": {
        "colab": {
          "base_uri": "https://localhost:8080/"
        },
        "id": "7IQ7hoCqFxl6",
        "outputId": "8af59897-05a6-4d54-eb44-c14456e3eeb8"
      },
      "execution_count": 14,
      "outputs": [
        {
          "output_type": "stream",
          "name": "stdout",
          "text": [
            "Sum using lists: 0.010526895523071289 seconds\n",
            "Sum using NumPy: 0.001245737075805664 seconds\n"
          ]
        }
      ]
    },
    {
      "cell_type": "code",
      "source": [],
      "metadata": {
        "id": "zgBtZjk9F4us"
      },
      "execution_count": null,
      "outputs": []
    },
    {
      "cell_type": "markdown",
      "source": [
        "# E"
      ],
      "metadata": {
        "id": "zjCjhakpF6G-"
      }
    },
    {
      "cell_type": "code",
      "source": [
        "def normalize_image(image):\n",
        "    \"\"\"\n",
        "    Normalize pixel values of the image to the range [0, 1].\n",
        "    \"\"\"\n",
        "    normalized_image = image / 255.0\n",
        "    return normalized_image\n",
        "\n",
        "\n",
        "normalized_image = normalize_image(image)\n",
        "print(\"\\nNormalized Image Array (Values between 0 and 1):\\n\", normalized_image)\n",
        "\n",
        "\n"
      ],
      "metadata": {
        "colab": {
          "base_uri": "https://localhost:8080/"
        },
        "id": "L0YPDlS9F7Hl",
        "outputId": "659cce56-22db-439c-ce30-03ada2d7a647"
      },
      "execution_count": 15,
      "outputs": [
        {
          "output_type": "stream",
          "name": "stdout",
          "text": [
            "\n",
            "Normalized Image Array (Values between 0 and 1):\n",
            " [[[0.38431373 0.05098039 0.58431373]\n",
            "  [0.7254902  0.91764706 0.05098039]\n",
            "  [0.28627451 0.76470588 1.        ]\n",
            "  [0.48235294 0.83529412 0.01176471]]\n",
            "\n",
            " [[0.80784314 0.47058824 0.4745098 ]\n",
            "  [1.         0.09803922 0.46666667]\n",
            "  [1.         0.76078431 0.10588235]\n",
            "  [0.71764706 0.15294118 0.85882353]]\n",
            "\n",
            " [[0.42352941 0.04313725 0.72941176]\n",
            "  [1.         0.74117647 0.05098039]\n",
            "  [1.         0.89803922 0.83137255]\n",
            "  [0.67843137 0.1254902  0.94901961]]\n",
            "\n",
            " [[0.16862745 0.3372549  0.85490196]\n",
            "  [0.71764706 0.10196078 0.63529412]\n",
            "  [0.18039216 0.94117647 0.79215686]\n",
            "  [0.14901961 0.05098039 0.15294118]]]\n"
          ]
        }
      ]
    },
    {
      "cell_type": "code",
      "source": [],
      "metadata": {
        "id": "QbvUGLGsGI3t"
      },
      "execution_count": null,
      "outputs": []
    },
    {
      "cell_type": "markdown",
      "source": [
        "## problem **4** *italicized text*"
      ],
      "metadata": {
        "id": "G18RnVyyGRTX"
      }
    },
    {
      "cell_type": "markdown",
      "source": [
        "#a"
      ],
      "metadata": {
        "id": "WdX6GGHSGXAR"
      }
    },
    {
      "cell_type": "code",
      "source": [
        "\n",
        "data = np.random.randn(1000)\n",
        "\n",
        "\n",
        "mean_value = np.mean(data)\n",
        "median_value = np.median(data)\n",
        "variance_value = np.var(data)\n",
        "\n",
        "print(f\"Mean: {mean_value}\")\n",
        "print(f\"Median: {median_value}\")\n",
        "print(f\"Variance: {variance_value}\")\n",
        "\n",
        "\n"
      ],
      "metadata": {
        "colab": {
          "base_uri": "https://localhost:8080/"
        },
        "id": "Yu1w5E19GYVh",
        "outputId": "7f713016-6967-4eaf-c4c4-02f79c85a4a8"
      },
      "execution_count": 16,
      "outputs": [
        {
          "output_type": "stream",
          "name": "stdout",
          "text": [
            "Mean: -0.0033194490640080796\n",
            "Median: 0.03841451236806097\n",
            "Variance: 0.9882090124972832\n"
          ]
        }
      ]
    },
    {
      "cell_type": "markdown",
      "source": [
        "# B"
      ],
      "metadata": {
        "id": "HKEGKutJGhBM"
      }
    },
    {
      "cell_type": "code",
      "source": [
        "\n",
        "population_variance = np.var(data)\n",
        "\n",
        "\n",
        "sample_variance = np.var(data, ddof=1)\n",
        "\n",
        "print(f\"Population Variance: {population_variance}\")\n",
        "print(f\"Sample Variance: {sample_variance}\")\n",
        "\n",
        "\n"
      ],
      "metadata": {
        "colab": {
          "base_uri": "https://localhost:8080/"
        },
        "id": "cOurwe1mGiow",
        "outputId": "c12bd5b9-40b9-40ad-ab12-e91f05b2adc4"
      },
      "execution_count": 17,
      "outputs": [
        {
          "output_type": "stream",
          "name": "stdout",
          "text": [
            "Population Variance: 0.9882090124972832\n",
            "Sample Variance: 0.9891982107079912\n"
          ]
        }
      ]
    },
    {
      "cell_type": "code",
      "source": [],
      "metadata": {
        "id": "P_3yCUfkGpo1"
      },
      "execution_count": null,
      "outputs": []
    },
    {
      "cell_type": "markdown",
      "source": [
        "#C"
      ],
      "metadata": {
        "id": "0LgTM71cGqau"
      }
    },
    {
      "cell_type": "code",
      "source": [
        "import matplotlib.pyplot as plt\n",
        "\n",
        "\n",
        "plt.hist(data, bins=30, edgecolor='black')\n",
        "plt.title(\"Histogram of Random Numbers\")\n",
        "plt.xlabel(\"Value\")\n",
        "plt.ylabel(\"Frequency\")\n",
        "plt.show()\n",
        "\n",
        "\n"
      ],
      "metadata": {
        "colab": {
          "base_uri": "https://localhost:8080/",
          "height": 472
        },
        "id": "5ermYNeuGrm2",
        "outputId": "8ecf3d9d-c8d3-4a69-f3f7-0a441a27e1ba"
      },
      "execution_count": 18,
      "outputs": [
        {
          "output_type": "display_data",
          "data": {
            "text/plain": [
              "<Figure size 640x480 with 1 Axes>"
            ],
            "image/png": "[encoded data removed]"
          },
          "metadata": {}
        }
      ]
    },
    {
      "cell_type": "code",
      "source": [],
      "metadata": {
        "id": "3lWlfpnSGwCn"
      },
      "execution_count": null,
      "outputs": []
    },
    {
      "cell_type": "markdown",
      "source": [
        "#d"
      ],
      "metadata": {
        "id": "Lwb1GshgG1A9"
      }
    },
    {
      "cell_type": "code",
      "source": [
        "\n",
        "Q1 = np.percentile(data, 25)\n",
        "Q3 = np.percentile(data, 75)\n",
        "\n",
        "\n",
        "IQR = Q3 - Q1\n",
        "\n",
        "lower_bound = Q1 - 1.5 * IQR\n",
        "upper_bound = Q3 + 1.5 * IQR\n",
        "\n",
        "\n",
        "outliers = data[(data < lower_bound) | (data > upper_bound)]\n",
        "\n",
        "print(f\"Number of Outliers: {len(outliers)}\")\n",
        "print(\"Outliers:\\n\", outliers)\n",
        "\n"
      ],
      "metadata": {
        "colab": {
          "base_uri": "https://localhost:8080/"
        },
        "id": "dVuT9L8tG2aJ",
        "outputId": "d170548a-673e-48d9-86e1-d222a5e5d399"
      },
      "execution_count": 19,
      "outputs": [
        {
          "output_type": "stream",
          "name": "stdout",
          "text": [
            "Number of Outliers: 5\n",
            "Outliers:\n",
            " [ 2.66709864  2.83564592 -2.8897859  -3.38671861 -2.65757629]\n"
          ]
        }
      ]
    },
    {
      "cell_type": "markdown",
      "source": [
        "## ***problem 5***"
      ],
      "metadata": {
        "id": "Ua2sK5Y4HB8G"
      }
    },
    {
      "cell_type": "code",
      "source": [],
      "metadata": {
        "id": "yb4LqrVgHE37"
      },
      "execution_count": null,
      "outputs": []
    },
    {
      "cell_type": "markdown",
      "source": [
        "#A"
      ],
      "metadata": {
        "id": "4xuVcDExHPFN"
      }
    },
    {
      "cell_type": "code",
      "source": [
        "import numpy as np\n",
        "\n",
        "\n",
        "n, d = 5, 3\n",
        "m = 4\n",
        "\n",
        "\n",
        "X = np.random.rand(n, d)\n",
        "Y = np.random.rand(m, d)\n",
        "\n",
        "\n",
        "D = np.sqrt(np.sum((X[:, np.newaxis, :] - Y[np.newaxis, :, :]) ** 2, axis=2))\n",
        "\n",
        "print(\"Pairwise Euclidean Distance Matrix D:\\n\", D)\n",
        "\n",
        "\n"
      ],
      "metadata": {
        "colab": {
          "base_uri": "https://localhost:8080/"
        },
        "id": "AovaQXrpHQjK",
        "outputId": "dc04bcda-bc64-4788-dae0-3e688cad7dc0"
      },
      "execution_count": 20,
      "outputs": [
        {
          "output_type": "stream",
          "name": "stdout",
          "text": [
            "Pairwise Euclidean Distance Matrix D:\n",
            " [[0.58933311 0.33234042 0.83176523 0.78129521]\n",
            " [0.86787531 0.66440253 0.7396835  0.24344764]\n",
            " [0.82100384 0.7178939  0.61705854 0.38410867]\n",
            " [0.87255198 0.77884663 0.27881826 0.47360226]\n",
            " [0.78360264 0.74284418 0.44204504 0.99223469]]\n"
          ]
        }
      ]
    },
    {
      "cell_type": "markdown",
      "source": [
        "#B"
      ],
      "metadata": {
        "id": "GdKeXR82Habn"
      }
    },
    {
      "cell_type": "code",
      "source": [
        "def sliding_window_mean(arr, window_size):\n",
        "\n",
        "    shape = arr.shape[0] - window_size + 1, window_size\n",
        "    strides = arr.strides[0], arr.strides[0]\n",
        "\n",
        "    windows = np.lib.stride_tricks.as_strided(arr, shape=shape, strides=strides)\n",
        "    return np.mean(windows, axis=1)\n",
        "\n",
        "\n",
        "arr = np.random.rand(10)\n",
        "window_size = 3\n",
        "means = sliding_window_mean(arr, window_size)\n",
        "\n",
        "print(f\"Array: {arr}\")\n",
        "print(f\"Sliding Window Means (Window Size {window_size}): {means}\")\n",
        "\n",
        "\n"
      ],
      "metadata": {
        "colab": {
          "base_uri": "https://localhost:8080/"
        },
        "id": "lp3inuuHHbt9",
        "outputId": "25a399a6-0b10-4e04-8531-f6638b92d965"
      },
      "execution_count": 21,
      "outputs": [
        {
          "output_type": "stream",
          "name": "stdout",
          "text": [
            "Array: [0.56158021 0.86681881 0.50893923 0.40467518 0.37685235 0.51778138\n",
            " 0.50966879 0.08623135 0.17192641 0.59402982]\n",
            "Sliding Window Means (Window Size 3): [0.64577942 0.59347774 0.43015559 0.43310297 0.46810084 0.37122717\n",
            " 0.25594218 0.28406253]\n"
          ]
        }
      ]
    },
    {
      "cell_type": "markdown",
      "source": [
        "#D"
      ],
      "metadata": {
        "id": "Ot7IeLL9Hkjk"
      }
    },
    {
      "cell_type": "code",
      "source": [
        "\n",
        "D_modified = np.copy(D)\n",
        "D_modified[D_modified < 5] = 0\n",
        "D_modified[D_modified > 100] = 1\n",
        "\n",
        "count_values_between_5_and_100 = np.sum((D_modified > 0) & (D_modified < 1))\n",
        "\n",
        "print(f\"Number of values between 5 and 100: {count_values_between_5_and_100}\")\n",
        "\n",
        "\n"
      ],
      "metadata": {
        "colab": {
          "base_uri": "https://localhost:8080/"
        },
        "id": "_yufRng9Hr-6",
        "outputId": "cdd13fec-bfc9-43d1-e79f-d4a82e2cbe40"
      },
      "execution_count": 22,
      "outputs": [
        {
          "output_type": "stream",
          "name": "stdout",
          "text": [
            "Number of values between 5 and 100: 0\n"
          ]
        }
      ]
    },
    {
      "cell_type": "code",
      "source": [],
      "metadata": {
        "id": "Fa4KX17MH2ZV"
      },
      "execution_count": null,
      "outputs": []
    }
  ]
}