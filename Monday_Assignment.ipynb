{
 "cells": [
  {
   "cell_type": "markdown",
   "metadata": {},
   "source": [
    "### Muhammad Muzammil\n",
    "###### m.muzammil8691@gmail.com\n",
    "\n",
    "#### Monday Assignment "
   ]
  },
  {
   "cell_type": "markdown",
   "metadata": {},
   "source": [
    "### **Problem 01: “Advanced Pandas Data Manipulation with Kaggle Housing Dataset”**"
   ]
  },
  {
   "cell_type": "code",
   "execution_count": 1,
   "metadata": {},
   "outputs": [],
   "source": [
    "import pandas as pd"
   ]
  },
  {
   "cell_type": "markdown",
   "metadata": {},
   "source": [
    "a. Load the Kaggle housing dataset\n"
   ]
  },
  {
   "cell_type": "code",
   "execution_count": 3,
   "metadata": {},
   "outputs": [
    {
     "data": {
      "text/html": [
       "<div>\n",
       "<style scoped>\n",
       "    .dataframe tbody tr th:only-of-type {\n",
       "        vertical-align: middle;\n",
       "    }\n",
       "\n",
       "    .dataframe tbody tr th {\n",
       "        vertical-align: top;\n",
       "    }\n",
       "\n",
       "    .dataframe thead th {\n",
       "        text-align: right;\n",
       "    }\n",
       "</style>\n",
       "<table border=\"1\" class=\"dataframe\">\n",
       "  <thead>\n",
       "    <tr style=\"text-align: right;\">\n",
       "      <th></th>\n",
       "      <th>price</th>\n",
       "      <th>area</th>\n",
       "      <th>bedrooms</th>\n",
       "      <th>bathrooms</th>\n",
       "      <th>stories</th>\n",
       "      <th>mainroad</th>\n",
       "      <th>guestroom</th>\n",
       "      <th>basement</th>\n",
       "      <th>hotwaterheating</th>\n",
       "      <th>airconditioning</th>\n",
       "      <th>parking</th>\n",
       "      <th>prefarea</th>\n",
       "      <th>furnishingstatus</th>\n",
       "    </tr>\n",
       "  </thead>\n",
       "  <tbody>\n",
       "    <tr>\n",
       "      <th>0</th>\n",
       "      <td>13300000</td>\n",
       "      <td>7420</td>\n",
       "      <td>4</td>\n",
       "      <td>2</td>\n",
       "      <td>3</td>\n",
       "      <td>yes</td>\n",
       "      <td>no</td>\n",
       "      <td>no</td>\n",
       "      <td>no</td>\n",
       "      <td>yes</td>\n",
       "      <td>2</td>\n",
       "      <td>yes</td>\n",
       "      <td>furnished</td>\n",
       "    </tr>\n",
       "    <tr>\n",
       "      <th>1</th>\n",
       "      <td>12250000</td>\n",
       "      <td>8960</td>\n",
       "      <td>4</td>\n",
       "      <td>4</td>\n",
       "      <td>4</td>\n",
       "      <td>yes</td>\n",
       "      <td>no</td>\n",
       "      <td>no</td>\n",
       "      <td>no</td>\n",
       "      <td>yes</td>\n",
       "      <td>3</td>\n",
       "      <td>no</td>\n",
       "      <td>furnished</td>\n",
       "    </tr>\n",
       "    <tr>\n",
       "      <th>2</th>\n",
       "      <td>12250000</td>\n",
       "      <td>9960</td>\n",
       "      <td>3</td>\n",
       "      <td>2</td>\n",
       "      <td>2</td>\n",
       "      <td>yes</td>\n",
       "      <td>no</td>\n",
       "      <td>yes</td>\n",
       "      <td>no</td>\n",
       "      <td>no</td>\n",
       "      <td>2</td>\n",
       "      <td>yes</td>\n",
       "      <td>semi-furnished</td>\n",
       "    </tr>\n",
       "    <tr>\n",
       "      <th>3</th>\n",
       "      <td>12215000</td>\n",
       "      <td>7500</td>\n",
       "      <td>4</td>\n",
       "      <td>2</td>\n",
       "      <td>2</td>\n",
       "      <td>yes</td>\n",
       "      <td>no</td>\n",
       "      <td>yes</td>\n",
       "      <td>no</td>\n",
       "      <td>yes</td>\n",
       "      <td>3</td>\n",
       "      <td>yes</td>\n",
       "      <td>furnished</td>\n",
       "    </tr>\n",
       "    <tr>\n",
       "      <th>4</th>\n",
       "      <td>11410000</td>\n",
       "      <td>7420</td>\n",
       "      <td>4</td>\n",
       "      <td>1</td>\n",
       "      <td>2</td>\n",
       "      <td>yes</td>\n",
       "      <td>yes</td>\n",
       "      <td>yes</td>\n",
       "      <td>no</td>\n",
       "      <td>yes</td>\n",
       "      <td>2</td>\n",
       "      <td>no</td>\n",
       "      <td>furnished</td>\n",
       "    </tr>\n",
       "    <tr>\n",
       "      <th>...</th>\n",
       "      <td>...</td>\n",
       "      <td>...</td>\n",
       "      <td>...</td>\n",
       "      <td>...</td>\n",
       "      <td>...</td>\n",
       "      <td>...</td>\n",
       "      <td>...</td>\n",
       "      <td>...</td>\n",
       "      <td>...</td>\n",
       "      <td>...</td>\n",
       "      <td>...</td>\n",
       "      <td>...</td>\n",
       "      <td>...</td>\n",
       "    </tr>\n",
       "    <tr>\n",
       "      <th>540</th>\n",
       "      <td>1820000</td>\n",
       "      <td>3000</td>\n",
       "      <td>2</td>\n",
       "      <td>1</td>\n",
       "      <td>1</td>\n",
       "      <td>yes</td>\n",
       "      <td>no</td>\n",
       "      <td>yes</td>\n",
       "      <td>no</td>\n",
       "      <td>no</td>\n",
       "      <td>2</td>\n",
       "      <td>no</td>\n",
       "      <td>unfurnished</td>\n",
       "    </tr>\n",
       "    <tr>\n",
       "      <th>541</th>\n",
       "      <td>1767150</td>\n",
       "      <td>2400</td>\n",
       "      <td>3</td>\n",
       "      <td>1</td>\n",
       "      <td>1</td>\n",
       "      <td>no</td>\n",
       "      <td>no</td>\n",
       "      <td>no</td>\n",
       "      <td>no</td>\n",
       "      <td>no</td>\n",
       "      <td>0</td>\n",
       "      <td>no</td>\n",
       "      <td>semi-furnished</td>\n",
       "    </tr>\n",
       "    <tr>\n",
       "      <th>542</th>\n",
       "      <td>1750000</td>\n",
       "      <td>3620</td>\n",
       "      <td>2</td>\n",
       "      <td>1</td>\n",
       "      <td>1</td>\n",
       "      <td>yes</td>\n",
       "      <td>no</td>\n",
       "      <td>no</td>\n",
       "      <td>no</td>\n",
       "      <td>no</td>\n",
       "      <td>0</td>\n",
       "      <td>no</td>\n",
       "      <td>unfurnished</td>\n",
       "    </tr>\n",
       "    <tr>\n",
       "      <th>543</th>\n",
       "      <td>1750000</td>\n",
       "      <td>2910</td>\n",
       "      <td>3</td>\n",
       "      <td>1</td>\n",
       "      <td>1</td>\n",
       "      <td>no</td>\n",
       "      <td>no</td>\n",
       "      <td>no</td>\n",
       "      <td>no</td>\n",
       "      <td>no</td>\n",
       "      <td>0</td>\n",
       "      <td>no</td>\n",
       "      <td>furnished</td>\n",
       "    </tr>\n",
       "    <tr>\n",
       "      <th>544</th>\n",
       "      <td>1750000</td>\n",
       "      <td>3850</td>\n",
       "      <td>3</td>\n",
       "      <td>1</td>\n",
       "      <td>2</td>\n",
       "      <td>yes</td>\n",
       "      <td>no</td>\n",
       "      <td>no</td>\n",
       "      <td>no</td>\n",
       "      <td>no</td>\n",
       "      <td>0</td>\n",
       "      <td>no</td>\n",
       "      <td>unfurnished</td>\n",
       "    </tr>\n",
       "  </tbody>\n",
       "</table>\n",
       "<p>545 rows × 13 columns</p>\n",
       "</div>"
      ],
      "text/plain": [
       "        price  area  bedrooms  bathrooms  stories mainroad guestroom basement  \\\n",
       "0    13300000  7420         4          2        3      yes        no       no   \n",
       "1    12250000  8960         4          4        4      yes        no       no   \n",
       "2    12250000  9960         3          2        2      yes        no      yes   \n",
       "3    12215000  7500         4          2        2      yes        no      yes   \n",
       "4    11410000  7420         4          1        2      yes       yes      yes   \n",
       "..        ...   ...       ...        ...      ...      ...       ...      ...   \n",
       "540   1820000  3000         2          1        1      yes        no      yes   \n",
       "541   1767150  2400         3          1        1       no        no       no   \n",
       "542   1750000  3620         2          1        1      yes        no       no   \n",
       "543   1750000  2910         3          1        1       no        no       no   \n",
       "544   1750000  3850         3          1        2      yes        no       no   \n",
       "\n",
       "    hotwaterheating airconditioning  parking prefarea furnishingstatus  \n",
       "0                no             yes        2      yes        furnished  \n",
       "1                no             yes        3       no        furnished  \n",
       "2                no              no        2      yes   semi-furnished  \n",
       "3                no             yes        3      yes        furnished  \n",
       "4                no             yes        2       no        furnished  \n",
       "..              ...             ...      ...      ...              ...  \n",
       "540              no              no        2       no      unfurnished  \n",
       "541              no              no        0       no   semi-furnished  \n",
       "542              no              no        0       no      unfurnished  \n",
       "543              no              no        0       no        furnished  \n",
       "544              no              no        0       no      unfurnished  \n",
       "\n",
       "[545 rows x 13 columns]"
      ]
     },
     "execution_count": 3,
     "metadata": {},
     "output_type": "execute_result"
    }
   ],
   "source": [
    "df = pd.read_csv('housing.csv')\n",
    "df"
   ]
  },
  {
   "cell_type": "markdown",
   "metadata": {},
   "source": [
    "b. Filter houses priced above the median, with more than 2 bedrooms and 2000 sqft living area\n"
   ]
  },
  {
   "cell_type": "code",
   "execution_count": 6,
   "metadata": {},
   "outputs": [
    {
     "data": {
      "text/plain": [
       "(np.float64(4340000.0),\n",
       "         price  area  bedrooms  bathrooms  stories mainroad guestroom basement  \\\n",
       " 0    13300000  7420         4          2        3      yes        no       no   \n",
       " 1    12250000  8960         4          4        4      yes        no       no   \n",
       " 2    12250000  9960         3          2        2      yes        no      yes   \n",
       " 3    12215000  7500         4          2        2      yes        no      yes   \n",
       " 4    11410000  7420         4          1        2      yes       yes      yes   \n",
       " ..        ...   ...       ...        ...      ...      ...       ...      ...   \n",
       " 265   4403000  2880         3          1        2      yes        no       no   \n",
       " 266   4403000  4880         3          1        1      yes        no       no   \n",
       " 267   4403000  4920         3          1        2      yes        no       no   \n",
       " 268   4382000  4950         4          1        2      yes        no       no   \n",
       " 269   4375000  3900         3          1        2      yes        no       no   \n",
       " \n",
       "     hotwaterheating airconditioning  parking prefarea furnishingstatus  \n",
       " 0                no             yes        2      yes        furnished  \n",
       " 1                no             yes        3       no        furnished  \n",
       " 2                no              no        2      yes   semi-furnished  \n",
       " 3                no             yes        3      yes        furnished  \n",
       " 4                no             yes        2       no        furnished  \n",
       " ..              ...             ...      ...      ...              ...  \n",
       " 265              no              no        0      yes   semi-furnished  \n",
       " 266              no              no        2      yes      unfurnished  \n",
       " 267              no              no        1       no   semi-furnished  \n",
       " 268              no             yes        0       no   semi-furnished  \n",
       " 269              no              no        0       no      unfurnished  \n",
       " \n",
       " [243 rows x 13 columns])"
      ]
     },
     "execution_count": 6,
     "metadata": {},
     "output_type": "execute_result"
    }
   ],
   "source": [
    "median_price = df['price'].median()\n",
    "filtered_df = df[(df['price'] > median_price) & \n",
    "                 (df['bedrooms'] > 2) & \n",
    "                 (df['area'] > 2000)]\n",
    "median_price, filtered_df"
   ]
  },
  {
   "cell_type": "markdown",
   "metadata": {},
   "source": [
    "c. Group by bedrooms and calculate the average price and median living area\n"
   ]
  },
  {
   "cell_type": "code",
   "execution_count": 8,
   "metadata": {},
   "outputs": [
    {
     "data": {
      "text/html": [
       "<div>\n",
       "<style scoped>\n",
       "    .dataframe tbody tr th:only-of-type {\n",
       "        vertical-align: middle;\n",
       "    }\n",
       "\n",
       "    .dataframe tbody tr th {\n",
       "        vertical-align: top;\n",
       "    }\n",
       "\n",
       "    .dataframe thead th {\n",
       "        text-align: right;\n",
       "    }\n",
       "</style>\n",
       "<table border=\"1\" class=\"dataframe\">\n",
       "  <thead>\n",
       "    <tr style=\"text-align: right;\">\n",
       "      <th></th>\n",
       "      <th>bedrooms</th>\n",
       "      <th>price</th>\n",
       "      <th>area</th>\n",
       "    </tr>\n",
       "  </thead>\n",
       "  <tbody>\n",
       "    <tr>\n",
       "      <th>0</th>\n",
       "      <td>3</td>\n",
       "      <td>6.084991e+06</td>\n",
       "      <td>6000.0</td>\n",
       "    </tr>\n",
       "    <tr>\n",
       "      <th>1</th>\n",
       "      <td>4</td>\n",
       "      <td>6.776328e+06</td>\n",
       "      <td>6000.0</td>\n",
       "    </tr>\n",
       "    <tr>\n",
       "      <th>2</th>\n",
       "      <td>5</td>\n",
       "      <td>7.379167e+06</td>\n",
       "      <td>7395.0</td>\n",
       "    </tr>\n",
       "    <tr>\n",
       "      <th>3</th>\n",
       "      <td>6</td>\n",
       "      <td>6.083000e+06</td>\n",
       "      <td>4300.0</td>\n",
       "    </tr>\n",
       "  </tbody>\n",
       "</table>\n",
       "</div>"
      ],
      "text/plain": [
       "   bedrooms         price    area\n",
       "0         3  6.084991e+06  6000.0\n",
       "1         4  6.776328e+06  6000.0\n",
       "2         5  7.379167e+06  7395.0\n",
       "3         6  6.083000e+06  4300.0"
      ]
     },
     "execution_count": 8,
     "metadata": {},
     "output_type": "execute_result"
    }
   ],
   "source": [
    "grouped_df = filtered_df.groupby('bedrooms').agg({\n",
    "    'price': 'mean',\n",
    "    'area': 'median'\n",
    "}).reset_index()\n",
    "grouped_df"
   ]
  },
  {
   "cell_type": "markdown",
   "metadata": {},
   "source": [
    "d. Sort by price and rank the top 5% most expensive houses\n"
   ]
  },
  {
   "cell_type": "code",
   "execution_count": 12,
   "metadata": {},
   "outputs": [
    {
     "name": "stdout",
     "output_type": "stream",
     "text": [
      " Sorted \n",
      "        price  area  bedrooms  bathrooms  stories mainroad guestroom basement  \\\n",
      "0    13300000  7420         4          2        3      yes        no       no   \n",
      "2    12250000  9960         3          2        2      yes        no      yes   \n",
      "1    12250000  8960         4          4        4      yes        no       no   \n",
      "3    12215000  7500         4          2        2      yes        no      yes   \n",
      "4    11410000  7420         4          1        2      yes       yes      yes   \n",
      "..        ...   ...       ...        ...      ...      ...       ...      ...   \n",
      "540   1820000  3000         2          1        1      yes        no      yes   \n",
      "541   1767150  2400         3          1        1       no        no       no   \n",
      "543   1750000  2910         3          1        1       no        no       no   \n",
      "542   1750000  3620         2          1        1      yes        no       no   \n",
      "544   1750000  3850         3          1        2      yes        no       no   \n",
      "\n",
      "    hotwaterheating airconditioning  parking prefarea furnishingstatus  \n",
      "0                no             yes        2      yes        furnished  \n",
      "2                no              no        2      yes   semi-furnished  \n",
      "1                no             yes        3       no        furnished  \n",
      "3                no             yes        3      yes        furnished  \n",
      "4                no             yes        2       no        furnished  \n",
      "..              ...             ...      ...      ...              ...  \n",
      "540              no              no        2       no      unfurnished  \n",
      "541              no              no        0       no   semi-furnished  \n",
      "543              no              no        0       no        furnished  \n",
      "542              no              no        0       no      unfurnished  \n",
      "544              no              no        0       no      unfurnished  \n",
      "\n",
      "[545 rows x 13 columns]\n",
      " Top 5 Percent index \n",
      "27\n",
      " Top 5 Percent houses \n",
      "       price   area  bedrooms  bathrooms  stories mainroad guestroom basement  \\\n",
      "0   13300000   7420         4          2        3      yes        no       no   \n",
      "2   12250000   9960         3          2        2      yes        no      yes   \n",
      "1   12250000   8960         4          4        4      yes        no       no   \n",
      "3   12215000   7500         4          2        2      yes        no      yes   \n",
      "4   11410000   7420         4          1        2      yes       yes      yes   \n",
      "5   10850000   7500         3          3        1      yes        no      yes   \n",
      "7   10150000  16200         5          3        2      yes        no       no   \n",
      "6   10150000   8580         4          3        4      yes        no       no   \n",
      "8    9870000   8100         4          1        2      yes       yes      yes   \n",
      "10   9800000  13200         3          1        2      yes        no      yes   \n",
      "9    9800000   5750         3          2        4      yes       yes       no   \n",
      "11   9681000   6000         4          3        2      yes       yes      yes   \n",
      "12   9310000   6550         4          2        2      yes        no       no   \n",
      "13   9240000   3500         4          2        2      yes        no       no   \n",
      "14   9240000   7800         3          2        2      yes        no       no   \n",
      "15   9100000   6000         4          1        2      yes        no      yes   \n",
      "16   9100000   6600         4          2        2      yes       yes      yes   \n",
      "17   8960000   8500         3          2        4      yes        no       no   \n",
      "18   8890000   4600         3          2        2      yes       yes       no   \n",
      "19   8855000   6420         3          2        2      yes        no       no   \n",
      "20   8750000   4320         3          1        2      yes        no      yes   \n",
      "21   8680000   7155         3          2        1      yes       yes      yes   \n",
      "22   8645000   8050         3          1        1      yes       yes      yes   \n",
      "23   8645000   4560         3          2        2      yes       yes      yes   \n",
      "24   8575000   8800         3          2        2      yes        no       no   \n",
      "25   8540000   6540         4          2        2      yes       yes      yes   \n",
      "26   8463000   6000         3          2        4      yes       yes      yes   \n",
      "\n",
      "   hotwaterheating airconditioning  parking prefarea furnishingstatus  \n",
      "0               no             yes        2      yes        furnished  \n",
      "2               no              no        2      yes   semi-furnished  \n",
      "1               no             yes        3       no        furnished  \n",
      "3               no             yes        3      yes        furnished  \n",
      "4               no             yes        2       no        furnished  \n",
      "5               no             yes        2      yes   semi-furnished  \n",
      "7               no              no        0       no      unfurnished  \n",
      "6               no             yes        2      yes   semi-furnished  \n",
      "8               no             yes        2      yes        furnished  \n",
      "10              no             yes        2      yes        furnished  \n",
      "9               no             yes        1      yes      unfurnished  \n",
      "11             yes              no        2       no   semi-furnished  \n",
      "12              no             yes        1      yes   semi-furnished  \n",
      "13             yes              no        2       no        furnished  \n",
      "14              no              no        0      yes   semi-furnished  \n",
      "15              no              no        2       no   semi-furnished  \n",
      "16              no             yes        1      yes      unfurnished  \n",
      "17              no             yes        2       no        furnished  \n",
      "18              no             yes        2       no        furnished  \n",
      "19              no             yes        1      yes   semi-furnished  \n",
      "20             yes              no        2       no   semi-furnished  \n",
      "21              no             yes        2       no      unfurnished  \n",
      "22              no             yes        1       no        furnished  \n",
      "23              no             yes        1       no        furnished  \n",
      "24              no             yes        2       no        furnished  \n",
      "25              no             yes        2      yes        furnished  \n",
      "26              no             yes        0      yes   semi-furnished  \n"
     ]
    }
   ],
   "source": [
    "sorted_df = df.sort_values(by='price', ascending=False)\n",
    "top_5_percent_index = int(0.05 * len(df))\n",
    "top_5_percent_houses = sorted_df.head(top_5_percent_index)\n",
    "\n",
    "print(f\" Sorted \\n{sorted_df}\") \n",
    "\n",
    "print(f\" Top 5 Percent index \\n{top_5_percent_index}\")\n",
    "\n",
    "print(f\" Top 5 Percent houses \\n{top_5_percent_houses}\")\n"
   ]
  },
  {
   "cell_type": "markdown",
   "metadata": {},
   "source": [
    "e. Calculate correlations between price, living area, and bedrooms\n"
   ]
  },
  {
   "cell_type": "code",
   "execution_count": 14,
   "metadata": {},
   "outputs": [
    {
     "data": {
      "text/html": [
       "<div>\n",
       "<style scoped>\n",
       "    .dataframe tbody tr th:only-of-type {\n",
       "        vertical-align: middle;\n",
       "    }\n",
       "\n",
       "    .dataframe tbody tr th {\n",
       "        vertical-align: top;\n",
       "    }\n",
       "\n",
       "    .dataframe thead th {\n",
       "        text-align: right;\n",
       "    }\n",
       "</style>\n",
       "<table border=\"1\" class=\"dataframe\">\n",
       "  <thead>\n",
       "    <tr style=\"text-align: right;\">\n",
       "      <th></th>\n",
       "      <th>price</th>\n",
       "      <th>area</th>\n",
       "      <th>bedrooms</th>\n",
       "    </tr>\n",
       "  </thead>\n",
       "  <tbody>\n",
       "    <tr>\n",
       "      <th>price</th>\n",
       "      <td>1.000000</td>\n",
       "      <td>0.535997</td>\n",
       "      <td>0.366494</td>\n",
       "    </tr>\n",
       "    <tr>\n",
       "      <th>area</th>\n",
       "      <td>0.535997</td>\n",
       "      <td>1.000000</td>\n",
       "      <td>0.151858</td>\n",
       "    </tr>\n",
       "    <tr>\n",
       "      <th>bedrooms</th>\n",
       "      <td>0.366494</td>\n",
       "      <td>0.151858</td>\n",
       "      <td>1.000000</td>\n",
       "    </tr>\n",
       "  </tbody>\n",
       "</table>\n",
       "</div>"
      ],
      "text/plain": [
       "             price      area  bedrooms\n",
       "price     1.000000  0.535997  0.366494\n",
       "area      0.535997  1.000000  0.151858\n",
       "bedrooms  0.366494  0.151858  1.000000"
      ]
     },
     "execution_count": 14,
     "metadata": {},
     "output_type": "execute_result"
    }
   ],
   "source": [
    "correlations = df[['price', 'area', 'bedrooms']].corr()\n",
    "correlations"
   ]
  },
  {
   "cell_type": "markdown",
   "metadata": {},
   "source": [
    "f. Generate descriptive statistics for price, bedrooms, living area, and lot size\n"
   ]
  },
  {
   "cell_type": "code",
   "execution_count": 17,
   "metadata": {},
   "outputs": [
    {
     "data": {
      "text/html": [
       "<div>\n",
       "<style scoped>\n",
       "    .dataframe tbody tr th:only-of-type {\n",
       "        vertical-align: middle;\n",
       "    }\n",
       "\n",
       "    .dataframe tbody tr th {\n",
       "        vertical-align: top;\n",
       "    }\n",
       "\n",
       "    .dataframe thead th {\n",
       "        text-align: right;\n",
       "    }\n",
       "</style>\n",
       "<table border=\"1\" class=\"dataframe\">\n",
       "  <thead>\n",
       "    <tr style=\"text-align: right;\">\n",
       "      <th></th>\n",
       "      <th>price</th>\n",
       "      <th>bedrooms</th>\n",
       "      <th>area</th>\n",
       "      <th>parking</th>\n",
       "    </tr>\n",
       "  </thead>\n",
       "  <tbody>\n",
       "    <tr>\n",
       "      <th>count</th>\n",
       "      <td>5.450000e+02</td>\n",
       "      <td>545.000000</td>\n",
       "      <td>545.000000</td>\n",
       "      <td>545.000000</td>\n",
       "    </tr>\n",
       "    <tr>\n",
       "      <th>mean</th>\n",
       "      <td>4.766729e+06</td>\n",
       "      <td>2.965138</td>\n",
       "      <td>5150.541284</td>\n",
       "      <td>0.693578</td>\n",
       "    </tr>\n",
       "    <tr>\n",
       "      <th>std</th>\n",
       "      <td>1.870440e+06</td>\n",
       "      <td>0.738064</td>\n",
       "      <td>2170.141023</td>\n",
       "      <td>0.861586</td>\n",
       "    </tr>\n",
       "    <tr>\n",
       "      <th>min</th>\n",
       "      <td>1.750000e+06</td>\n",
       "      <td>1.000000</td>\n",
       "      <td>1650.000000</td>\n",
       "      <td>0.000000</td>\n",
       "    </tr>\n",
       "    <tr>\n",
       "      <th>25%</th>\n",
       "      <td>3.430000e+06</td>\n",
       "      <td>2.000000</td>\n",
       "      <td>3600.000000</td>\n",
       "      <td>0.000000</td>\n",
       "    </tr>\n",
       "    <tr>\n",
       "      <th>50%</th>\n",
       "      <td>4.340000e+06</td>\n",
       "      <td>3.000000</td>\n",
       "      <td>4600.000000</td>\n",
       "      <td>0.000000</td>\n",
       "    </tr>\n",
       "    <tr>\n",
       "      <th>75%</th>\n",
       "      <td>5.740000e+06</td>\n",
       "      <td>3.000000</td>\n",
       "      <td>6360.000000</td>\n",
       "      <td>1.000000</td>\n",
       "    </tr>\n",
       "    <tr>\n",
       "      <th>max</th>\n",
       "      <td>1.330000e+07</td>\n",
       "      <td>6.000000</td>\n",
       "      <td>16200.000000</td>\n",
       "      <td>3.000000</td>\n",
       "    </tr>\n",
       "  </tbody>\n",
       "</table>\n",
       "</div>"
      ],
      "text/plain": [
       "              price    bedrooms          area     parking\n",
       "count  5.450000e+02  545.000000    545.000000  545.000000\n",
       "mean   4.766729e+06    2.965138   5150.541284    0.693578\n",
       "std    1.870440e+06    0.738064   2170.141023    0.861586\n",
       "min    1.750000e+06    1.000000   1650.000000    0.000000\n",
       "25%    3.430000e+06    2.000000   3600.000000    0.000000\n",
       "50%    4.340000e+06    3.000000   4600.000000    0.000000\n",
       "75%    5.740000e+06    3.000000   6360.000000    1.000000\n",
       "max    1.330000e+07    6.000000  16200.000000    3.000000"
      ]
     },
     "execution_count": 17,
     "metadata": {},
     "output_type": "execute_result"
    }
   ],
   "source": [
    "descriptive_stats = df[['price', 'bedrooms', 'area', 'parking']].describe()\n",
    "descriptive_stats"
   ]
  },
  {
   "cell_type": "markdown",
   "metadata": {},
   "source": [
    "g. Create a price_per_sqft column and classify houses as \"Low,\" \"Medium,\" or \"High\"\n"
   ]
  },
  {
   "cell_type": "code",
   "execution_count": 21,
   "metadata": {},
   "outputs": [
    {
     "name": "stdout",
     "output_type": "stream",
     "text": [
      "Price PSFB [0, np.float64(822.9364151323167), np.float64(1096.9933333333336), np.float64(2640.0)]\n",
      "Price Labels ['Low', 'Medium', 'High']\n"
     ]
    }
   ],
   "source": [
    "df['price_per_sqft'] = df['price'] / df['area']\n",
    "price_per_sqft_bins = [0, df['price_per_sqft'].quantile(0.33), df['price_per_sqft'].quantile(0.66), df['price_per_sqft'].max()]\n",
    "price_labels = ['Low', 'Medium', 'High']\n",
    "df['price_class'] = pd.cut(df['price_per_sqft'], bins=price_per_sqft_bins, labels=price_labels)\n",
    "\n",
    "print(f\"Price PSFB {price_per_sqft_bins}\")\n",
    "print(f\"Price Labels {price_labels}\")"
   ]
  },
  {
   "cell_type": "markdown",
   "metadata": {},
   "source": [
    "h. Handle missing values in bathrooms and lot size, and fill missing prices with the mean\n"
   ]
  },
  {
   "cell_type": "code",
   "execution_count": 26,
   "metadata": {},
   "outputs": [],
   "source": [
    "df.loc[:, 'bathrooms'] = df['bathrooms'].fillna(df['bathrooms'].median())\n",
    "df.loc[:, 'parking'] = df['parking'].fillna(df['parking'].median())\n",
    "df.loc[:, 'price'] = df['price'].fillna(df['price'].mean())\n"
   ]
  },
  {
   "cell_type": "code",
   "execution_count": 27,
   "metadata": {},
   "outputs": [],
   "source": [
    "df = df.copy()\n",
    "\n",
    "# Now apply the fillna operations\n",
    "df['bathrooms'] = df['bathrooms'].fillna(df['bathrooms'].median())\n",
    "df['parking'] = df['parking'].fillna(df['parking'].median())\n",
    "df['price'] = df['price'].fillna(df['price'].mean())\n"
   ]
  },
  {
   "cell_type": "markdown",
   "metadata": {},
   "source": [
    "### Problem 02: “Student Performance Analysis” \n"
   ]
  },
  {
   "cell_type": "markdown",
   "metadata": {},
   "source": [
    "a. Create a DataFrame with synthetic data for students' grades, attendance, and extracurricular \n",
    "activities; filter for students with an average grade above 85% and at least 90% attendance, as well \n",
    "as those participating in extracurricular activities despite having failing grades in any subject. "
   ]
  },
  {
   "cell_type": "code",
   "execution_count": 28,
   "metadata": {},
   "outputs": [
    {
     "name": "stdout",
     "output_type": "stream",
     "text": [
      "Students with average grade > 85% and attendance >= 90%:\n",
      "    student_id  grade  attendance extracurricular_activity\n",
      "1            2     87          98                    Music\n",
      "3            4     97          98                   Sports\n",
      "4            5     87          98                   Sports\n",
      "5            6     93          98                   Sports\n",
      "8            9     88          98                     None\n",
      "19          20     96          92                   Sports\n",
      "\n",
      "Students with extracurricular activities and failing grades:\n",
      "    student_id  grade  attendance extracurricular_activity\n",
      "14          15     53          92                    Music\n"
     ]
    }
   ],
   "source": [
    "import pandas as pd\n",
    "import numpy as np\n",
    "\n",
    "# Create synthetic data for students\n",
    "data = {\n",
    "    'student_id': range(1, 21),\n",
    "    'grade': np.random.randint(50, 100, size=20),  # Grades between 50 and 100\n",
    "    'attendance': np.random.randint(80, 100, size=20),  # Attendance percentage between 80 and 100\n",
    "    'extracurricular_activity': np.random.choice(['Sports', 'Music', 'Drama', 'None'], size=20)\n",
    "}\n",
    "\n",
    "# Convert to DataFrame\n",
    "df = pd.DataFrame(data)\n",
    "\n",
    "# Filter students with average grade > 85% and attendance >= 90%\n",
    "filtered_students = df[(df['grade'] > 85) & (df['attendance'] >= 90)]\n",
    "\n",
    "# Filter students who participate in extracurricular activities and have failing grades (<60)\n",
    "failing_students_with_activities = df[(df['grade'] < 60) & (df['extracurricular_activity'] != 'None')]\n",
    "\n",
    "# Display both filtered sets\n",
    "print(\"Students with average grade > 85% and attendance >= 90%:\")\n",
    "print(filtered_students)\n",
    "print(\"\\nStudents with extracurricular activities and failing grades:\")\n",
    "print(failing_students_with_activities)\n"
   ]
  },
  {
   "cell_type": "markdown",
   "metadata": {},
   "source": [
    "b. Group the DataFrame by extracurricular_activity to calculate average grades and total attendance \n",
    "for each activity, then identify which activity has the highest average grade. "
   ]
  },
  {
   "cell_type": "code",
   "execution_count": 29,
   "metadata": {},
   "outputs": [
    {
     "name": "stdout",
     "output_type": "stream",
     "text": [
      "\n",
      "Grouped Data:\n",
      "  extracurricular_activity  avg_grade  total_attendance\n",
      "0                    Drama  60.000000                89\n",
      "1                    Music  73.666667               530\n",
      "2                     None  78.500000               383\n",
      "3                   Sports  84.111111               819\n",
      "\n",
      "Activity with the highest average grade:\n",
      "extracurricular_activity       Sports\n",
      "avg_grade                   84.111111\n",
      "total_attendance                  819\n",
      "Name: 3, dtype: object\n"
     ]
    }
   ],
   "source": [
    "# Group by extracurricular activity and calculate average grades and total attendance\n",
    "grouped = df.groupby('extracurricular_activity').agg(\n",
    "    avg_grade=('grade', 'mean'),\n",
    "    total_attendance=('attendance', 'sum')\n",
    ").reset_index()\n",
    "\n",
    "# Identify the activity with the highest average grade\n",
    "highest_avg_grade_activity = grouped.loc[grouped['avg_grade'].idxmax()]\n",
    "\n",
    "print(\"\\nGrouped Data:\")\n",
    "print(grouped)\n",
    "print(\"\\nActivity with the highest average grade:\")\n",
    "print(highest_avg_grade_activity)\n"
   ]
  },
  {
   "cell_type": "markdown",
   "metadata": {},
   "source": [
    "c. Sort the DataFrame by grades and create a pass_fail column using a lambda function to indicate \n",
    "passing or failing status, then count the total number of passes and fails. "
   ]
  },
  {
   "cell_type": "code",
   "execution_count": 30,
   "metadata": {},
   "outputs": [
    {
     "name": "stdout",
     "output_type": "stream",
     "text": [
      "\n",
      "Sorted DataFrame with Pass/Fail Status:\n",
      "    student_id  grade  attendance extracurricular_activity pass_fail\n",
      "3            4     97          98                   Sports      Pass\n",
      "19          20     96          92                   Sports      Pass\n",
      "5            6     93          98                   Sports      Pass\n",
      "17          18     92          89                     None      Pass\n",
      "6            7     89          80                    Music      Pass\n",
      "8            9     88          98                     None      Pass\n",
      "1            2     87          98                    Music      Pass\n",
      "4            5     87          98                   Sports      Pass\n",
      "15          16     83          89                   Sports      Pass\n",
      "10          11     82          99                     None      Pass\n",
      "18          19     82          91                   Sports      Pass\n",
      "16          17     80          91                   Sports      Pass\n",
      "12          13     75          82                    Music      Pass\n",
      "0            1     73          80                   Sports      Pass\n",
      "11          12     70          83                    Music      Pass\n",
      "9           10     68          95                    Music      Pass\n",
      "13          14     66          82                   Sports      Pass\n",
      "2            3     60          89                    Drama      Pass\n",
      "14          15     53          92                    Music      Fail\n",
      "7            8     52          97                     None      Fail\n",
      "\n",
      "Pass/Fail Count:\n",
      "pass_fail\n",
      "Pass    18\n",
      "Fail     2\n",
      "Name: count, dtype: int64\n"
     ]
    }
   ],
   "source": [
    "# Sort by grades\n",
    "df_sorted = df.sort_values(by='grade', ascending=False)\n",
    "\n",
    "# Create pass/fail column\n",
    "df_sorted['pass_fail'] = df_sorted['grade'].apply(lambda x: 'Pass' if x >= 60 else 'Fail')\n",
    "\n",
    "# Count the number of passes and fails\n",
    "pass_fail_count = df_sorted['pass_fail'].value_counts()\n",
    "\n",
    "print(\"\\nSorted DataFrame with Pass/Fail Status:\")\n",
    "print(df_sorted)\n",
    "print(\"\\nPass/Fail Count:\")\n",
    "print(pass_fail_count)\n"
   ]
  },
  {
   "cell_type": "markdown",
   "metadata": {},
   "source": [
    "d. Create a second DataFrame containing parent income levels and merge it with the first DataFrame; \n",
    "analyze how these income levels impact the average grades of students"
   ]
  },
  {
   "cell_type": "code",
   "execution_count": 31,
   "metadata": {},
   "outputs": [
    {
     "name": "stdout",
     "output_type": "stream",
     "text": [
      "\n",
      "Merged DataFrame with Parent Income Levels:\n",
      "    student_id  grade  attendance extracurricular_activity  parent_income\n",
      "0            1     73          80                   Sports          91838\n",
      "1            2     87          98                    Music          70322\n",
      "2            3     60          89                    Drama          26884\n",
      "3            4     97          98                   Sports          95354\n",
      "4            5     87          98                   Sports          68547\n",
      "5            6     93          98                   Sports          49642\n",
      "6            7     89          80                    Music          74979\n",
      "7            8     52          97                     None          78390\n",
      "8            9     88          98                     None          60444\n",
      "9           10     68          95                    Music          55951\n",
      "10          11     82          99                     None          45348\n",
      "11          12     70          83                    Music          54257\n",
      "12          13     75          82                    Music          99629\n",
      "13          14     66          82                   Sports          22744\n",
      "14          15     53          92                    Music          26907\n",
      "15          16     83          89                   Sports          40024\n",
      "16          17     80          91                   Sports          32843\n",
      "17          18     92          89                     None          56738\n",
      "18          19     82          91                   Sports          97709\n",
      "19          20     96          92                   Sports          84438\n",
      "\n",
      "Impact of Parent Income on Average Grades:\n",
      "    parent_income  avg_grade\n",
      "0           22744       66.0\n",
      "1           26884       60.0\n",
      "2           26907       53.0\n",
      "3           32843       80.0\n",
      "4           40024       83.0\n",
      "5           45348       82.0\n",
      "6           49642       93.0\n",
      "7           54257       70.0\n",
      "8           55951       68.0\n",
      "9           56738       92.0\n",
      "10          60444       88.0\n",
      "11          68547       87.0\n",
      "12          70322       87.0\n",
      "13          74979       89.0\n",
      "14          78390       52.0\n",
      "15          84438       96.0\n",
      "16          91838       73.0\n",
      "17          95354       97.0\n",
      "18          97709       82.0\n",
      "19          99629       75.0\n"
     ]
    }
   ],
   "source": [
    "# Create synthetic data for parent income levels\n",
    "parent_income_data = {\n",
    "    'student_id': range(1, 21),\n",
    "    'parent_income': np.random.randint(20000, 100000, size=20)  # Income in some range\n",
    "}\n",
    "\n",
    "# Convert to DataFrame\n",
    "income_df = pd.DataFrame(parent_income_data)\n",
    "\n",
    "# Merge with the original DataFrame\n",
    "merged_df = pd.merge(df, income_df, on='student_id')\n",
    "\n",
    "# Analyze how income impacts grades\n",
    "income_impact = merged_df.groupby('parent_income').agg(\n",
    "    avg_grade=('grade', 'mean')\n",
    ").reset_index()\n",
    "\n",
    "print(\"\\nMerged DataFrame with Parent Income Levels:\")\n",
    "print(merged_df)\n",
    "print(\"\\nImpact of Parent Income on Average Grades:\")\n",
    "print(income_impact)\n"
   ]
  },
  {
   "cell_type": "markdown",
   "metadata": {},
   "source": [
    "e. Segment students into quartiles based on their grades, then analyze and discuss the correlations \n",
    "between attendance and grades within each quartile to identify any patterns or trends."
   ]
  },
  {
   "cell_type": "code",
   "execution_count": 35,
   "metadata": {},
   "outputs": [
    {
     "name": "stdout",
     "output_type": "stream",
     "text": [
      "\n",
      "Correlation between attendance and grades within each quartile:\n",
      "                   student_id  grade  attendance extracurricular_activity  \\\n",
      "grade_quartile                                                              \n",
      "Q1             2            3     60          89                    Drama   \n",
      "               7            8     52          97                     None   \n",
      "               9           10     68          95                    Music   \n",
      "               13          14     66          82                   Sports   \n",
      "               14          15     53          92                    Music   \n",
      "Q2             0            1     73          80                   Sports   \n",
      "               10          11     82          99                     None   \n",
      "               11          12     70          83                    Music   \n",
      "               12          13     75          82                    Music   \n",
      "               16          17     80          91                   Sports   \n",
      "               18          19     82          91                   Sports   \n",
      "Q3             1            2     87          98                    Music   \n",
      "               4            5     87          98                   Sports   \n",
      "               8            9     88          98                     None   \n",
      "               15          16     83          89                   Sports   \n",
      "Q4             3            4     97          98                   Sports   \n",
      "               5            6     93          98                   Sports   \n",
      "               6            7     89          80                    Music   \n",
      "               17          18     92          89                     None   \n",
      "               19          20     96          92                   Sports   \n",
      "\n",
      "                   performance_score  \n",
      "grade_quartile                        \n",
      "Q1             2                76.7  \n",
      "               7                55.1  \n",
      "               9                82.5  \n",
      "               13               77.6  \n",
      "               14               74.1  \n",
      "Q2             0                80.5  \n",
      "               10               70.7  \n",
      "               11               79.9  \n",
      "               12               82.1  \n",
      "               16               87.3  \n",
      "               18               88.3  \n",
      "Q3             1                92.9  \n",
      "               4                92.9  \n",
      "               8                73.4  \n",
      "               15               88.2  \n",
      "Q4             3                97.9  \n",
      "               5                95.9  \n",
      "               6                88.5  \n",
      "               17               72.7  \n",
      "               19               95.6  \n"
     ]
    },
    {
     "name": "stderr",
     "output_type": "stream",
     "text": [
      "C:\\Users\\PMYLS\\AppData\\Local\\Temp\\ipykernel_8704\\2365405523.py:5: DeprecationWarning: DataFrameGroupBy.apply operated on the grouping columns. This behavior is deprecated, and in a future version of pandas the grouping columns will be excluded from the operation. Either pass `include_groups=False` to exclude the groupings or explicitly select the grouping columns after groupby to silence this warning.\n",
      "  correlation_within_quartiles = df.groupby('grade_quartile', observed=False).apply(\n"
     ]
    }
   ],
   "source": [
    "# Segment students into quartiles based on their grades\n",
    "df['grade_quartile'] = pd.qcut(df['grade'], 4, labels=['Q1', 'Q2', 'Q3', 'Q4'])\n",
    "\n",
    "# Analyze the correlation between attendance and grades within each quartile\n",
    "correlation_within_quartiles = df.groupby('grade_quartile', observed=False).apply(\n",
    "    lambda group: group.drop(columns=['grade_quartile'])  # Adjust as needed\n",
    ")\n",
    "\n",
    "print(\"\\nCorrelation between attendance and grades within each quartile:\")\n",
    "print(correlation_within_quartiles)\n"
   ]
  },
  {
   "cell_type": "markdown",
   "metadata": {},
   "source": [
    "f. Create a performance_score that combines grades, attendance, and extracurricular participation, \n",
    "then justify the chosen weightings based on their perceived impact on overall student performance, \n",
    "considering factors such as the importance of academic achievement, consistent attendance, and \n",
    "involvement in activities for holistic development. "
   ]
  },
  {
   "cell_type": "code",
   "execution_count": 36,
   "metadata": {},
   "outputs": [
    {
     "name": "stdout",
     "output_type": "stream",
     "text": [
      "\n",
      "DataFrame with Performance Scores:\n",
      "    student_id  grade  attendance extracurricular_activity  performance_score\n",
      "0            1     73          80                   Sports               80.5\n",
      "1            2     87          98                    Music               92.9\n",
      "2            3     60          89                    Drama               76.7\n",
      "3            4     97          98                   Sports               97.9\n",
      "4            5     87          98                   Sports               92.9\n",
      "5            6     93          98                   Sports               95.9\n",
      "6            7     89          80                    Music               88.5\n",
      "7            8     52          97                     None               55.1\n",
      "8            9     88          98                     None               73.4\n",
      "9           10     68          95                    Music               82.5\n",
      "10          11     82          99                     None               70.7\n",
      "11          12     70          83                    Music               79.9\n",
      "12          13     75          82                    Music               82.1\n",
      "13          14     66          82                   Sports               77.6\n",
      "14          15     53          92                    Music               74.1\n",
      "15          16     83          89                   Sports               88.2\n",
      "16          17     80          91                   Sports               87.3\n",
      "17          18     92          89                     None               72.7\n",
      "18          19     82          91                   Sports               88.3\n",
      "19          20     96          92                   Sports               95.6\n"
     ]
    }
   ],
   "source": [
    "# Define weightings for the performance score (for example: 50% grades, 30% attendance, 20% extracurricular)\n",
    "def calculate_performance_score(row):\n",
    "    grade_weight = 0.5\n",
    "    attendance_weight = 0.3\n",
    "    activity_weight = 0.2\n",
    "    activity_bonus = 1 if row['extracurricular_activity'] != 'None' else 0\n",
    "    \n",
    "    score = (row['grade'] * grade_weight) + (row['attendance'] * attendance_weight) + (activity_bonus * 100 * activity_weight)\n",
    "    return score\n",
    "\n",
    "df['performance_score'] = df.apply(calculate_performance_score, axis=1)\n",
    "\n",
    "print(\"\\nDataFrame with Performance Scores:\")\n",
    "print(df[['student_id', 'grade', 'attendance', 'extracurricular_activity', 'performance_score']])\n"
   ]
  },
  {
   "cell_type": "markdown",
   "metadata": {},
   "source": [
    "### Problem 03: “Movie Ratings and Trends Analysis” \n"
   ]
  },
  {
   "cell_type": "markdown",
   "metadata": {},
   "source": [
    "\n",
    "\n",
    "\n",
    "a. Load a dataset containing movie ratings, genres, release years, and box office earnings. Filter the dataset to include only movies released after 2000 with at least 100 ratings."
   ]
  },
  {
   "cell_type": "code",
   "execution_count": 38,
   "metadata": {},
   "outputs": [
    {
     "data": {
      "text/html": [
       "<div>\n",
       "<style scoped>\n",
       "    .dataframe tbody tr th:only-of-type {\n",
       "        vertical-align: middle;\n",
       "    }\n",
       "\n",
       "    .dataframe tbody tr th {\n",
       "        vertical-align: top;\n",
       "    }\n",
       "\n",
       "    .dataframe thead th {\n",
       "        text-align: right;\n",
       "    }\n",
       "</style>\n",
       "<table border=\"1\" class=\"dataframe\">\n",
       "  <thead>\n",
       "    <tr style=\"text-align: right;\">\n",
       "      <th></th>\n",
       "      <th>movie_id</th>\n",
       "      <th>title</th>\n",
       "      <th>genre</th>\n",
       "      <th>release_year</th>\n",
       "      <th>rating</th>\n",
       "      <th>num_ratings</th>\n",
       "      <th>box_office_earnings</th>\n",
       "    </tr>\n",
       "  </thead>\n",
       "  <tbody>\n",
       "    <tr>\n",
       "      <th>0</th>\n",
       "      <td>1</td>\n",
       "      <td>Inception</td>\n",
       "      <td>Action</td>\n",
       "      <td>2010</td>\n",
       "      <td>8.8</td>\n",
       "      <td>150000</td>\n",
       "      <td>829895144</td>\n",
       "    </tr>\n",
       "    <tr>\n",
       "      <th>1</th>\n",
       "      <td>2</td>\n",
       "      <td>Toy Story 3</td>\n",
       "      <td>Animation</td>\n",
       "      <td>2010</td>\n",
       "      <td>8.2</td>\n",
       "      <td>200000</td>\n",
       "      <td>1068252622</td>\n",
       "    </tr>\n",
       "    <tr>\n",
       "      <th>2</th>\n",
       "      <td>3</td>\n",
       "      <td>The Dark Knight</td>\n",
       "      <td>Action</td>\n",
       "      <td>2008</td>\n",
       "      <td>9.0</td>\n",
       "      <td>300000</td>\n",
       "      <td>1004558444</td>\n",
       "    </tr>\n",
       "    <tr>\n",
       "      <th>3</th>\n",
       "      <td>4</td>\n",
       "      <td>The Social Network</td>\n",
       "      <td>Drama</td>\n",
       "      <td>2010</td>\n",
       "      <td>7.7</td>\n",
       "      <td>120000</td>\n",
       "      <td>224054848</td>\n",
       "    </tr>\n",
       "    <tr>\n",
       "      <th>4</th>\n",
       "      <td>5</td>\n",
       "      <td>Avatar</td>\n",
       "      <td>Sci-Fi</td>\n",
       "      <td>2009</td>\n",
       "      <td>7.8</td>\n",
       "      <td>1000000</td>\n",
       "      <td>2787965087</td>\n",
       "    </tr>\n",
       "    <tr>\n",
       "      <th>5</th>\n",
       "      <td>6</td>\n",
       "      <td>The Avengers</td>\n",
       "      <td>Action</td>\n",
       "      <td>2012</td>\n",
       "      <td>8.0</td>\n",
       "      <td>500000</td>\n",
       "      <td>1518812988</td>\n",
       "    </tr>\n",
       "    <tr>\n",
       "      <th>6</th>\n",
       "      <td>7</td>\n",
       "      <td>The King's Speech</td>\n",
       "      <td>Drama</td>\n",
       "      <td>2010</td>\n",
       "      <td>8.0</td>\n",
       "      <td>70000</td>\n",
       "      <td>41421154</td>\n",
       "    </tr>\n",
       "    <tr>\n",
       "      <th>7</th>\n",
       "      <td>8</td>\n",
       "      <td>Jurassic World</td>\n",
       "      <td>Sci-Fi</td>\n",
       "      <td>2015</td>\n",
       "      <td>7.0</td>\n",
       "      <td>500000</td>\n",
       "      <td>1671713208</td>\n",
       "    </tr>\n",
       "    <tr>\n",
       "      <th>8</th>\n",
       "      <td>9</td>\n",
       "      <td>Deadpool</td>\n",
       "      <td>Action</td>\n",
       "      <td>2016</td>\n",
       "      <td>8.0</td>\n",
       "      <td>450000</td>\n",
       "      <td>783112979</td>\n",
       "    </tr>\n",
       "    <tr>\n",
       "      <th>9</th>\n",
       "      <td>10</td>\n",
       "      <td>Black Panther</td>\n",
       "      <td>Action</td>\n",
       "      <td>2018</td>\n",
       "      <td>7.3</td>\n",
       "      <td>800000</td>\n",
       "      <td>1346913161</td>\n",
       "    </tr>\n",
       "  </tbody>\n",
       "</table>\n",
       "</div>"
      ],
      "text/plain": [
       "   movie_id               title      genre  release_year  rating  num_ratings  \\\n",
       "0         1           Inception     Action          2010     8.8       150000   \n",
       "1         2         Toy Story 3  Animation          2010     8.2       200000   \n",
       "2         3     The Dark Knight     Action          2008     9.0       300000   \n",
       "3         4  The Social Network      Drama          2010     7.7       120000   \n",
       "4         5              Avatar     Sci-Fi          2009     7.8      1000000   \n",
       "5         6        The Avengers     Action          2012     8.0       500000   \n",
       "6         7   The King's Speech      Drama          2010     8.0        70000   \n",
       "7         8      Jurassic World     Sci-Fi          2015     7.0       500000   \n",
       "8         9            Deadpool     Action          2016     8.0       450000   \n",
       "9        10       Black Panther     Action          2018     7.3       800000   \n",
       "\n",
       "   box_office_earnings  \n",
       "0            829895144  \n",
       "1           1068252622  \n",
       "2           1004558444  \n",
       "3            224054848  \n",
       "4           2787965087  \n",
       "5           1518812988  \n",
       "6             41421154  \n",
       "7           1671713208  \n",
       "8            783112979  \n",
       "9           1346913161  "
      ]
     },
     "execution_count": 38,
     "metadata": {},
     "output_type": "execute_result"
    }
   ],
   "source": [
    "import pandas as pd\n",
    "\n",
    "# Load dataset (replace 'movies.csv' with the actual dataset path)\n",
    "df = pd.read_csv('movies_dataset.csv')\n",
    "\n",
    "# Filter to include only movies released after 2000 with at least 100 ratings\n",
    "filtered_df = df[(df['release_year'] > 2000) & (df['num_ratings'] >= 100)]\n",
    "\n",
    "filtered_df"
   ]
  },
  {
   "cell_type": "markdown",
   "metadata": {},
   "source": [
    "b. Create a new column to classify movies as \"Blockbuster\" (box office earnings above $100 million) or \"Flop.\" Group the data by genre to calculate the average rating and total earnings for each genre."
   ]
  },
  {
   "cell_type": "code",
   "execution_count": 39,
   "metadata": {},
   "outputs": [
    {
     "name": "stdout",
     "output_type": "stream",
     "text": [
      "       genre  average_rating  total_earnings\n",
      "0     Action            8.22      5483292716\n",
      "1  Animation            8.20      1068252622\n",
      "2      Drama            7.85       265476002\n",
      "3     Sci-Fi            7.40      4459678295\n"
     ]
    }
   ],
   "source": [
    "# Create a new column 'movie_status' for classification\n",
    "df['movie_status'] = df['box_office_earnings'].apply(lambda x: 'Blockbuster' if x > 100_000_000 else 'Flop')\n",
    "\n",
    "# Group by genre to calculate the average rating and total earnings for each genre\n",
    "genre_grouped = filtered_df.groupby('genre').agg(\n",
    "    average_rating=('rating', 'mean'),\n",
    "    total_earnings=('box_office_earnings', 'sum')\n",
    ").reset_index()\n",
    "\n",
    "print(genre_grouped)\n"
   ]
  },
  {
   "cell_type": "markdown",
   "metadata": {},
   "source": [
    "c. Calculate the average movie rating over the years and visualize the trend using a line plot. Discuss any observable patterns.\n"
   ]
  },
  {
   "cell_type": "code",
   "execution_count": 40,
   "metadata": {},
   "outputs": [
    {
     "data": {
      "image/png": "[encoded data removed]",
      "text/plain": [
       "<Figure size 640x480 with 1 Axes>"
      ]
     },
     "metadata": {},
     "output_type": "display_data"
    }
   ],
   "source": [
    "import matplotlib.pyplot as plt\n",
    "\n",
    "# Group by release year to calculate average movie rating per year\n",
    "rating_trend = filtered_df.groupby('release_year')['rating'].mean().reset_index()\n",
    "\n",
    "# Plot the rating trend\n",
    "plt.plot(rating_trend['release_year'], rating_trend['rating'], marker='o')\n",
    "plt.title('Average Movie Ratings Over the Years')\n",
    "plt.xlabel('Release Year')\n",
    "plt.ylabel('Average Rating')\n",
    "plt.grid(True)\n",
    "plt.show()\n"
   ]
  },
  {
   "cell_type": "markdown",
   "metadata": {},
   "source": [
    "d. Analyze the correlation between ratings and box office earnings, and discuss possible reasons for the correlation.\n"
   ]
  },
  {
   "cell_type": "code",
   "execution_count": 41,
   "metadata": {},
   "outputs": [
    {
     "name": "stdout",
     "output_type": "stream",
     "text": [
      "Correlation between ratings and box office earnings: -0.27\n"
     ]
    }
   ],
   "source": [
    "# Calculate the correlation between ratings and box office earnings\n",
    "correlation = filtered_df['rating'].corr(filtered_df['box_office_earnings'])\n",
    "\n",
    "print(f\"Correlation between ratings and box office earnings: {correlation:.2f}\")\n"
   ]
  },
  {
   "cell_type": "markdown",
   "metadata": {},
   "source": [
    "### Problem 04: “Data Detective” \n"
   ]
  },
  {
   "cell_type": "code",
   "execution_count": 48,
   "metadata": {},
   "outputs": [
    {
     "name": "stdout",
     "output_type": "stream",
     "text": [
      "Suspect Data \n",
      "   suspect_id     name  suspicion_level\n",
      "0           1    Alice                4\n",
      "1           2      Bob                2\n",
      "2           3  Charlie                5\n",
      "3           4    David                1\n",
      "4           5      Eve                3\n",
      "____________________________________\n",
      "Evidence Data \n",
      "   evidence_id  suspect_id\n",
      "0          101           1\n",
      "1          102           2\n",
      "2          103           1\n",
      "3          104           3\n"
     ]
    }
   ],
   "source": [
    "# Sample DataFrame for suspects\n",
    "suspects_data = {\n",
    "    'suspect_id': [1, 2, 3, 4, 5],\n",
    "    'name': ['Alice', 'Bob', 'Charlie', 'David', 'Eve'],\n",
    "    'suspicion_level': [4, 2, 5, 1, 3]\n",
    "}\n",
    "\n",
    "suspects_df = pd.DataFrame(suspects_data)\n",
    "\n",
    "# Sample DataFrame for evidence\n",
    "evidence_data = {\n",
    "    'evidence_id': [101, 102, 103, 104],\n",
    "    'suspect_id': [1, 2, 1, 3]  # Connecting evidence to suspects\n",
    "}\n",
    "\n",
    "evidence_df = pd.DataFrame(evidence_data)\n",
    "\n",
    "print(f\"Suspect Data \\n{suspects_df}\")\n",
    "print(\"____________________________________\")\n",
    "print(f\"Evidence Data \\n{evidence_df}\")\n"
   ]
  },
  {
   "cell_type": "markdown",
   "metadata": {},
   "source": [
    "a. Identify suspects with a suspicion level above 3\n"
   ]
  },
  {
   "cell_type": "code",
   "execution_count": 49,
   "metadata": {},
   "outputs": [
    {
     "name": "stdout",
     "output_type": "stream",
     "text": [
      "Suspects with suspicion level above 3:\n",
      "   suspect_id     name  suspicion_level\n",
      "0           1    Alice                4\n",
      "2           3  Charlie                5\n"
     ]
    }
   ],
   "source": [
    "suspects_above_threshold = suspects_df[suspects_df['suspicion_level'] > 3]\n",
    "print(\"Suspects with suspicion level above 3:\")\n",
    "print(suspects_above_threshold)"
   ]
  },
  {
   "cell_type": "markdown",
   "metadata": {},
   "source": [
    " b. Merge the suspects and evidence DataFrames to discover connections\n"
   ]
  },
  {
   "cell_type": "code",
   "execution_count": 50,
   "metadata": {},
   "outputs": [
    {
     "name": "stdout",
     "output_type": "stream",
     "text": [
      "\n",
      "Merged DataFrame of suspects and evidence:\n",
      "   suspect_id     name  suspicion_level  evidence_id\n",
      "0           1    Alice                4        101.0\n",
      "1           1    Alice                4        103.0\n",
      "2           2      Bob                2        102.0\n",
      "3           3  Charlie                5        104.0\n",
      "4           4    David                1          NaN\n",
      "5           5      Eve                3          NaN\n"
     ]
    }
   ],
   "source": [
    "merged_df = pd.merge(suspects_df, evidence_df, on='suspect_id', how='left')\n",
    "print(\"\\nMerged DataFrame of suspects and evidence:\")\n",
    "print(merged_df)"
   ]
  },
  {
   "cell_type": "markdown",
   "metadata": {},
   "source": [
    "c. Group suspects by suspicion level and count the number of suspects in each group\n"
   ]
  },
  {
   "cell_type": "code",
   "execution_count": 51,
   "metadata": {},
   "outputs": [
    {
     "name": "stdout",
     "output_type": "stream",
     "text": [
      "\n",
      "Count of suspects by suspicion level:\n",
      "   suspicion_level  count\n",
      "0                1      1\n",
      "1                2      1\n",
      "2                3      1\n",
      "3                4      1\n",
      "4                5      1\n"
     ]
    }
   ],
   "source": [
    "grouped_suspects_count = suspects_df.groupby('suspicion_level').size().reset_index(name='count')\n",
    "print(\"\\nCount of suspects by suspicion level:\")\n",
    "print(grouped_suspects_count)"
   ]
  },
  {
   "cell_type": "markdown",
   "metadata": {},
   "source": [
    "d. Calculate the average suspicion level among suspects\n"
   ]
  },
  {
   "cell_type": "code",
   "execution_count": 52,
   "metadata": {},
   "outputs": [
    {
     "name": "stdout",
     "output_type": "stream",
     "text": [
      "\n",
      "Average suspicion level among suspects:\n",
      "3.0\n"
     ]
    }
   ],
   "source": [
    "average_suspicion_level = suspects_df['suspicion_level'].mean()\n",
    "print(\"\\nAverage suspicion level among suspects:\")\n",
    "print(average_suspicion_level)"
   ]
  },
  {
   "cell_type": "markdown",
   "metadata": {},
   "source": [
    "### Problem 05: “Advanced Data Analysis with Pandas” \n"
   ]
  },
  {
   "cell_type": "code",
   "execution_count": 54,
   "metadata": {},
   "outputs": [
    {
     "data": {
      "text/html": [
       "<div>\n",
       "<style scoped>\n",
       "    .dataframe tbody tr th:only-of-type {\n",
       "        vertical-align: middle;\n",
       "    }\n",
       "\n",
       "    .dataframe tbody tr th {\n",
       "        vertical-align: top;\n",
       "    }\n",
       "\n",
       "    .dataframe thead th {\n",
       "        text-align: right;\n",
       "    }\n",
       "</style>\n",
       "<table border=\"1\" class=\"dataframe\">\n",
       "  <thead>\n",
       "    <tr style=\"text-align: right;\">\n",
       "      <th></th>\n",
       "      <th>transaction_id</th>\n",
       "      <th>date</th>\n",
       "      <th>category</th>\n",
       "      <th>amount</th>\n",
       "      <th>customer_id</th>\n",
       "    </tr>\n",
       "  </thead>\n",
       "  <tbody>\n",
       "    <tr>\n",
       "      <th>0</th>\n",
       "      <td>1</td>\n",
       "      <td>2024-01-01</td>\n",
       "      <td>Electronics</td>\n",
       "      <td>200</td>\n",
       "      <td>1</td>\n",
       "    </tr>\n",
       "    <tr>\n",
       "      <th>1</th>\n",
       "      <td>2</td>\n",
       "      <td>2024-01-02</td>\n",
       "      <td>Clothing</td>\n",
       "      <td>150</td>\n",
       "      <td>2</td>\n",
       "    </tr>\n",
       "    <tr>\n",
       "      <th>2</th>\n",
       "      <td>3</td>\n",
       "      <td>2024-01-03</td>\n",
       "      <td>Electronics</td>\n",
       "      <td>300</td>\n",
       "      <td>1</td>\n",
       "    </tr>\n",
       "    <tr>\n",
       "      <th>3</th>\n",
       "      <td>4</td>\n",
       "      <td>2024-01-04</td>\n",
       "      <td>Groceries</td>\n",
       "      <td>100</td>\n",
       "      <td>3</td>\n",
       "    </tr>\n",
       "    <tr>\n",
       "      <th>4</th>\n",
       "      <td>5</td>\n",
       "      <td>2024-01-05</td>\n",
       "      <td>Clothing</td>\n",
       "      <td>200</td>\n",
       "      <td>2</td>\n",
       "    </tr>\n",
       "    <tr>\n",
       "      <th>5</th>\n",
       "      <td>6</td>\n",
       "      <td>2024-01-06</td>\n",
       "      <td>Electronics</td>\n",
       "      <td>250</td>\n",
       "      <td>1</td>\n",
       "    </tr>\n",
       "    <tr>\n",
       "      <th>6</th>\n",
       "      <td>7</td>\n",
       "      <td>2024-01-07</td>\n",
       "      <td>Groceries</td>\n",
       "      <td>50</td>\n",
       "      <td>3</td>\n",
       "    </tr>\n",
       "    <tr>\n",
       "      <th>7</th>\n",
       "      <td>8</td>\n",
       "      <td>2024-01-08</td>\n",
       "      <td>Clothing</td>\n",
       "      <td>80</td>\n",
       "      <td>2</td>\n",
       "    </tr>\n",
       "    <tr>\n",
       "      <th>8</th>\n",
       "      <td>9</td>\n",
       "      <td>2024-01-09</td>\n",
       "      <td>Electronics</td>\n",
       "      <td>400</td>\n",
       "      <td>1</td>\n",
       "    </tr>\n",
       "    <tr>\n",
       "      <th>9</th>\n",
       "      <td>10</td>\n",
       "      <td>2024-01-10</td>\n",
       "      <td>Groceries</td>\n",
       "      <td>120</td>\n",
       "      <td>3</td>\n",
       "    </tr>\n",
       "  </tbody>\n",
       "</table>\n",
       "</div>"
      ],
      "text/plain": [
       "   transaction_id       date     category  amount  customer_id\n",
       "0               1 2024-01-01  Electronics     200            1\n",
       "1               2 2024-01-02     Clothing     150            2\n",
       "2               3 2024-01-03  Electronics     300            1\n",
       "3               4 2024-01-04    Groceries     100            3\n",
       "4               5 2024-01-05     Clothing     200            2\n",
       "5               6 2024-01-06  Electronics     250            1\n",
       "6               7 2024-01-07    Groceries      50            3\n",
       "7               8 2024-01-08     Clothing      80            2\n",
       "8               9 2024-01-09  Electronics     400            1\n",
       "9              10 2024-01-10    Groceries     120            3"
      ]
     },
     "execution_count": 54,
     "metadata": {},
     "output_type": "execute_result"
    }
   ],
   "source": [
    "# Sample data creation\n",
    "data = {\n",
    "    'transaction_id': range(1, 11),\n",
    "    'date': pd.date_range(start='2024-01-01', periods=10, freq='D'),\n",
    "    'category': ['Electronics', 'Clothing', 'Electronics', 'Groceries', 'Clothing', \n",
    "                 'Electronics', 'Groceries', 'Clothing', 'Electronics', 'Groceries'],\n",
    "    'amount': [200, 150, 300, 100, 200, 250, 50, 80, 400, 120],\n",
    "    'customer_id': [1, 2, 1, 3, 2, 1, 3, 2, 1, 3]\n",
    "}\n",
    "\n",
    "df = pd.DataFrame(data)\n",
    "df"
   ]
  },
  {
   "cell_type": "markdown",
   "metadata": {},
   "source": [
    " Step 2: GroupBy Function\n"
   ]
  },
  {
   "cell_type": "code",
   "execution_count": 55,
   "metadata": {},
   "outputs": [
    {
     "name": "stdout",
     "output_type": "stream",
     "text": [
      "Grouped DataFrame:\n",
      "      category  mean_amount  transaction_count  total_amount\n",
      "0     Clothing   143.333333                  3           430\n",
      "1  Electronics   287.500000                  4          1150\n",
      "2    Groceries    90.000000                  3           270\n"
     ]
    }
   ],
   "source": [
    "grouped = df.groupby('category').agg({'amount': ['mean', 'count', 'sum']}).reset_index()\n",
    "grouped.columns = ['category', 'mean_amount', 'transaction_count', 'total_amount']\n",
    "print(\"Grouped DataFrame:\")\n",
    "print(grouped)"
   ]
  },
  {
   "cell_type": "markdown",
   "metadata": {},
   "source": [
    "Step 3: Pivot Table Creation\n"
   ]
  },
  {
   "cell_type": "code",
   "execution_count": 56,
   "metadata": {},
   "outputs": [
    {
     "name": "stdout",
     "output_type": "stream",
     "text": [
      "\n",
      "Pivot Table:\n",
      "category    Clothing  Electronics  Groceries\n",
      "date                                        \n",
      "2024-01-01         0          200          0\n",
      "2024-01-02       150            0          0\n",
      "2024-01-03         0          300          0\n",
      "2024-01-04         0            0        100\n",
      "2024-01-05       200            0          0\n",
      "2024-01-06         0          250          0\n",
      "2024-01-07         0            0         50\n",
      "2024-01-08        80            0          0\n",
      "2024-01-09         0          400          0\n",
      "2024-01-10         0            0        120\n"
     ]
    }
   ],
   "source": [
    "pivot_table = pd.pivot_table(df, values='amount', index='date', columns='category', aggfunc='sum', fill_value=0)\n",
    "print(\"\\nPivot Table:\")\n",
    "print(pivot_table)"
   ]
  },
  {
   "cell_type": "markdown",
   "metadata": {},
   "source": [
    "Step 4: Merging with Another Dataset\n"
   ]
  },
  {
   "cell_type": "code",
   "execution_count": 57,
   "metadata": {},
   "outputs": [
    {
     "name": "stdout",
     "output_type": "stream",
     "text": [
      "\n",
      "Merged DataFrame:\n",
      "   transaction_id       date     category  amount  customer_id customer_name  \\\n",
      "0               1 2024-01-01  Electronics     200            1         Alice   \n",
      "1               2 2024-01-02     Clothing     150            2           Bob   \n",
      "2               3 2024-01-03  Electronics     300            1         Alice   \n",
      "3               4 2024-01-04    Groceries     100            3       Charlie   \n",
      "4               5 2024-01-05     Clothing     200            2           Bob   \n",
      "5               6 2024-01-06  Electronics     250            1         Alice   \n",
      "6               7 2024-01-07    Groceries      50            3       Charlie   \n",
      "7               8 2024-01-08     Clothing      80            2           Bob   \n",
      "8               9 2024-01-09  Electronics     400            1         Alice   \n",
      "9              10 2024-01-10    Groceries     120            3       Charlie   \n",
      "\n",
      "  loyalty_level  \n",
      "0          Gold  \n",
      "1        Silver  \n",
      "2          Gold  \n",
      "3          Gold  \n",
      "4        Silver  \n",
      "5          Gold  \n",
      "6          Gold  \n",
      "7        Silver  \n",
      "8          Gold  \n",
      "9          Gold  \n"
     ]
    }
   ],
   "source": [
    "customer_data = {\n",
    "    'customer_id': [1, 2, 3],\n",
    "    'customer_name': ['Alice', 'Bob', 'Charlie'],\n",
    "    'loyalty_level': ['Gold', 'Silver', 'Gold']\n",
    "}\n",
    "customer_df = pd.DataFrame(customer_data)\n",
    "\n",
    "# Merging datasets\n",
    "merged_df = pd.merge(df, customer_df, on='customer_id', how='left')\n",
    "print(\"\\nMerged DataFrame:\")\n",
    "print(merged_df)"
   ]
  },
  {
   "cell_type": "markdown",
   "metadata": {},
   "source": [
    "Step 5: Time Series Analysis\n"
   ]
  },
  {
   "cell_type": "code",
   "execution_count": 58,
   "metadata": {},
   "outputs": [
    {
     "name": "stdout",
     "output_type": "stream",
     "text": [
      "\n",
      "Monthly Sales Data:\n",
      "        date  transaction_id  \\\n",
      "0 2024-01-31              55   \n",
      "\n",
      "                                            category  amount  customer_id  \n",
      "0  ElectronicsClothingElectronicsGroceriesClothin...    1850           19  \n"
     ]
    },
    {
     "name": "stderr",
     "output_type": "stream",
     "text": [
      "C:\\Users\\PMYLS\\AppData\\Local\\Temp\\ipykernel_8704\\293742763.py:1: FutureWarning: 'M' is deprecated and will be removed in a future version, please use 'ME' instead.\n",
      "  monthly_sales = df.resample('M', on='date').sum().reset_index()\n"
     ]
    }
   ],
   "source": [
    "monthly_sales = df.resample('M', on='date').sum().reset_index()\n",
    "print(\"\\nMonthly Sales Data:\")\n",
    "print(monthly_sales)"
   ]
  },
  {
   "cell_type": "markdown",
   "metadata": {},
   "source": [
    "Step 6: Using the apply() Function\n"
   ]
  },
  {
   "cell_type": "code",
   "execution_count": 59,
   "metadata": {},
   "outputs": [
    {
     "name": "stdout",
     "output_type": "stream",
     "text": [
      "\n",
      "DataFrame with New Transaction Category Column:\n",
      "   transaction_id       date     category  amount  customer_id customer_name  \\\n",
      "0               1 2024-01-01  Electronics     200            1         Alice   \n",
      "1               2 2024-01-02     Clothing     150            2           Bob   \n",
      "2               3 2024-01-03  Electronics     300            1         Alice   \n",
      "3               4 2024-01-04    Groceries     100            3       Charlie   \n",
      "4               5 2024-01-05     Clothing     200            2           Bob   \n",
      "5               6 2024-01-06  Electronics     250            1         Alice   \n",
      "6               7 2024-01-07    Groceries      50            3       Charlie   \n",
      "7               8 2024-01-08     Clothing      80            2           Bob   \n",
      "8               9 2024-01-09  Electronics     400            1         Alice   \n",
      "9              10 2024-01-10    Groceries     120            3       Charlie   \n",
      "\n",
      "  loyalty_level transaction_category  \n",
      "0          Gold               Medium  \n",
      "1        Silver               Medium  \n",
      "2          Gold                 High  \n",
      "3          Gold               Medium  \n",
      "4        Silver               Medium  \n",
      "5          Gold               Medium  \n",
      "6          Gold                  Low  \n",
      "7        Silver                  Low  \n",
      "8          Gold                 High  \n",
      "9          Gold               Medium  \n"
     ]
    }
   ],
   "source": [
    "def categorize_transaction(amount):\n",
    "    if amount < 100:\n",
    "        return 'Low'\n",
    "    elif 100 <= amount < 300:\n",
    "        return 'Medium'\n",
    "    else:\n",
    "        return 'High'\n",
    "\n",
    "merged_df['transaction_category'] = merged_df['amount'].apply(categorize_transaction)\n",
    "print(\"\\nDataFrame with New Transaction Category Column:\")\n",
    "print(merged_df)"
   ]
  },
  {
   "cell_type": "markdown",
   "metadata": {},
   "source": [
    "Step 7: Summarizing Findings\n"
   ]
  },
  {
   "cell_type": "code",
   "execution_count": 60,
   "metadata": {},
   "outputs": [
    {
     "name": "stdout",
     "output_type": "stream",
     "text": [
      "\n",
      "Summary of Findings:\n",
      "Total Transactions: 10\n",
      "Total Revenue: 1850\n",
      "Unique Customers: 3\n",
      "Average Transaction Amount: 185.0\n"
     ]
    }
   ],
   "source": [
    "summary = {\n",
    "    'Total Transactions': df['transaction_id'].count(),\n",
    "    'Total Revenue': df['amount'].sum(),\n",
    "    'Unique Customers': df['customer_id'].nunique(),\n",
    "    'Average Transaction Amount': df['amount'].mean()\n",
    "}\n",
    "\n",
    "print(\"\\nSummary of Findings:\")\n",
    "for key, value in summary.items():\n",
    "    print(f\"{key}: {value}\")"
   ]
  },
  {
   "cell_type": "markdown",
   "metadata": {},
   "source": [
    "_______________________\n",
    "The End of Monday Assignment\n",
    "_____________________"
   ]
  }
 ],
 "metadata": {
  "kernelspec": {
   "display_name": "Python 3",
   "language": "python",
   "name": "python3"
  },
  "language_info": {
   "codemirror_mode": {
    "name": "ipython",
    "version": 3
   },
   "file_extension": ".py",
   "mimetype": "text/x-python",
   "name": "python",
   "nbconvert_exporter": "python",
   "pygments_lexer": "ipython3",
   "version": "3.11.7"
  }
 },
 "nbformat": 4,
 "nbformat_minor": 2
}
