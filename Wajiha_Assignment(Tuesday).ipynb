{
 "cells": [
  {
   "cell_type": "markdown",
   "metadata": {},
   "source": [
    "<div style=\"text-align: center; font-size: 30px;\">\n",
    "<strong>Name: Wajiha</strong><br>\n",
    "<strong>E-mail: wajihachangez@gmail.com</strong>\n",
    "</div>"
   ]
  },
  {
   "cell_type": "markdown",
   "metadata": {},
   "source": [
    "### ***Assignment Questions:-***\n",
    "##### Problem 1: “Understanding NumPy Arrays and Operations”\n",
    "a. Create a NumPy array of shape (4, 5) filled with random integers between 1 and 100. <br>\n",
    "b. Reshape the array into a shape of (2, 10) and explain how reshaping works in NumPy. <br>\n",
    "c. Perform element-wise addition with another array of shape (2, 10) and discuss broadcasting rules.<br>\n",
    "d. Calculate the dot product of two compatible arrays and explain the significance of dot product in \n",
    "linear algebra. <br>\n",
    "e. Create a masked array from the original array, masking all values below the median; explain the \n",
    "concept and use cases of masked arrays. <br>"
   ]
  },
  {
   "cell_type": "code",
   "execution_count": 55,
   "metadata": {},
   "outputs": [
    {
     "name": "stdout",
     "output_type": "stream",
     "text": [
      "Original Array:\n",
      " [[ 15  13  71  83  79]\n",
      " [ 13  99  30  11  51]\n",
      " [ 35  91   1 100  44]\n",
      " [ 25  76  86  36  40]]\n",
      "Reshaped Array:\n",
      " [[ 15  13  71  83  79  13  99  30  11  51]\n",
      " [ 35  91   1 100  44  25  76  86  36  40]]\n",
      "Element-wise Added Array:\n",
      " [[ 70 103 106  97 117  23 154  62  29  54]\n",
      " [ 82 142  58 118  53  61  78 184 130  46]]\n",
      "Dot Product of Arrays:\n",
      " [[15530 12566]\n",
      " [21172 21643]]\n",
      "Masked Array (values below median masked):\n",
      " [[-- -- 71 83 79]\n",
      " [-- 99 -- -- 51]\n",
      " [-- 91 -- 100 44]\n",
      " [-- 76 86 -- --]]\n"
     ]
    }
   ],
   "source": [
    "#Loading Library.\n",
    "import numpy as np\n",
    "# Part a: Create a NumPy array accrdingly.\n",
    "a = np.random.randint(1, 101, size=(4, 5))\n",
    "# Part b: Reshape the array accordingly.\n",
    "reshaped_a = a.reshape(2, 10)\n",
    "#Explaination: Reshaping in NumPy rearranges the elements of an array into a new shape without changing the total number of elements, as long as the new shape is compatible with the original.\n",
    "# Part c: Perform element-wise addition accrding to given criteria.\n",
    "a2 = np.random.randint(1, 101, size=(2, 10))\n",
    "additiion_a = reshaped_a + a2\n",
    "#Explaination: Broadcasting in NumPy allows arrays of different shapes to be combined in operations by automatically expanding the smaller array's dimensions to match the larger one, as long as their shapes are compatible.\n",
    "# Part d: Calculating the dot product of two compatible arrays.\n",
    "dot_product = np.dot(reshaped_a, a2.T)\n",
    "#Explaination: The dot product in linear algebra measures the projection of one vector onto another and is essential for computations involving angles, distances and orthogonality in vector spaces.\n",
    "# Part e: Creating a masked array accordingly.\n",
    "median_value = np.median(a)\n",
    "masked_a = np.ma.masked_less(a, median_value)\n",
    "#Explaination: Masked arrays in NumPy allow you to hide certain elements based on conditions (e.g., invalid or unwanted data) without removing them, making them useful for data analysis, handling missing values and ignoring specific elements in calculations.\n",
    "# Displaying Results:\n",
    "print(\"Original Array:\\n\", a)\n",
    "print(\"Reshaped Array:\\n\", reshaped_a)\n",
    "print(\"Element-wise Added Array:\\n\", additiion_a)\n",
    "print(\"Dot Product of Arrays:\\n\", dot_product)\n",
    "print(\"Masked Array (values below median masked):\\n\", masked_a)"
   ]
  },
  {
   "cell_type": "markdown",
   "metadata": {},
   "source": [
    "##### Problem 2:  “Exploring NumPy Broadcasting and Strides”\n",
    "a. Explain the concept of broadcasting in NumPy and provide an example involving arrays of different \n",
    "shapes.  <br>\n",
    "b. Create two arrays with different shapes that can be broadcasted together and perform an arithmetic \n",
    "operation on them. <br>\n",
    "c. Discuss how strides in NumPy arrays affect memory access patterns when slicing an array. <br>\n",
    "d. Create an example to demonstrate the impact of strides on array slicing and performance.  <br>\n",
    "e. Analyze how changing the order of dimensions’ affects broadcasting and provide a scenario \n",
    "illustrating this. <br>"
   ]
  },
  {
   "cell_type": "code",
   "execution_count": 56,
   "metadata": {},
   "outputs": [
    {
     "name": "stdout",
     "output_type": "stream",
     "text": [
      "Broadcasting the two arrays:\n",
      " [[11 21 31 41]\n",
      " [12 22 32 42]\n",
      " [13 23 33 43]]\n",
      "Broadcasting on two differently shaped arrays:\n",
      " [[11 22 33]\n",
      " [14 25 36]]\n",
      "Slicing with default strides:\n",
      " [[0 1 2]\n",
      " [4 5 6]]\n",
      "Slicing with different strides:\n",
      " [[ 0  2]\n",
      " [ 8 10]]\n",
      "Original arrays:\n",
      " [[11 12 13]\n",
      " [21 22 23]]\n"
     ]
    }
   ],
   "source": [
    "#Part a: Broadcasting in NumPy: \"Broadcasting allows NumPy to perform arithmetic operations on arrays of different shapes by automatically expanding the smaller array to match the larger array's shape.\"\n",
    "# Creating Two Arrays:\n",
    "a = np.array([[1], [2], [3]])\n",
    "b = np.array([[10, 20, 30, 40]])\n",
    "result = a + b  \n",
    "print(\"Broadcasting the two arrays:\\n\",result)\n",
    "#Part b: Perform arithmetic operation on differently shaped arrays.\n",
    "a1 = np.array([[1, 2, 3], [4, 5, 6]])\n",
    "a2 = np.array([10, 20, 30])\n",
    "result1 = a1 + a2 \n",
    "print(\"Broadcasting on two differently shaped arrays:\\n\",result1)\n",
    "#Part c: Strides in NumPy Arrays\n",
    "#Definition: Strides represent the number of bytes that need to be skipped in memory to move to the next element along each dimension.\n",
    "#Memory Access Patterns: Efficient strides lead to better cache utilization and performance. Poor stride configuration can result in slower memory access and performance degradation during slicing. \n",
    "#Part d: Impact of Strides on Slicing\n",
    "arr = np.arange(12).reshape(3, 4) \n",
    "#Slicing with default strides\n",
    "slice1 = arr[0:2, 0:3] \n",
    "print(\"Slicing with default strides:\\n\",slice1)\n",
    "#Slicing with different strides\n",
    "slice2 = arr[::2, ::2]\n",
    "print(\"Slicing with different strides:\\n\",slice2)\n",
    "#Part e: Changing Order of Dimensions and Broadcasting\n",
    "#Changing the order of dimensions affects how broadcasting occurs, potentially leading to incompatible shapes.\n",
    "# Original arrays\n",
    "A= np.array([[1, 2, 3]])  \n",
    "B = np.array([[10], [20]])\n",
    "result_1 = A + B \n",
    "print(\"Original arrays:\\n\",result_1)\n",
    "#Changing order of dimensions (will not broadcast)\n",
    "a2 = np.array([[1], [2], [3]])\n",
    "b2 = np.array([[10, 20, 30]]) \n",
    "# This will raise an error\n",
    "# result2 = a2 + b2.T  # Shape mismatch\n"
   ]
  },
  {
   "cell_type": "markdown",
   "metadata": {},
   "source": [
    "##### Problem 3:  “Advanced Array Manipulation with NumPy”\n",
    "a. Create a 3D NumPy array representing an RGB image and explain how to access individual color \n",
    "channels.  <br>\n",
    "b. Demonstrate how to flatten this 3D array into a 1D array and discuss the implications for image \n",
    "processing. <br>\n",
    "c. Use array slicing to extract a sub-array from the 3D array and explain the concept of views versus \n",
    "copies in NumPy. <br>\n",
    "d. Discuss the advantages of using NumPy arrays over Python lists for large datasets, particularly in \n",
    "terms of performance and memory efficiency. <br>\n",
    "e. Create a function that normalizes the pixel values of the RGB image array to the range [0, 1] and \n",
    "explain the importance of normalization in machine learning.  <br>"
   ]
  },
  {
   "cell_type": "code",
   "execution_count": 57,
   "metadata": {},
   "outputs": [
    {
     "name": "stdout",
     "output_type": "stream",
     "text": [
      "3D RGB Image Array:\n",
      " [[[204 241 255]\n",
      "  [ 23  62 188]\n",
      "  [ 90 255 232]\n",
      "  [ 25 182 242]]\n",
      "\n",
      " [[175 120  14]\n",
      "  [120 114 183]\n",
      "  [252  79 233]\n",
      "  [236 188 127]]\n",
      "\n",
      " [[182  19 112]\n",
      "  [ 54  10 145]\n",
      "  [127  23  88]\n",
      "  [111  66 233]]\n",
      "\n",
      " [[ 81 144 157]\n",
      "  [236  42 106]\n",
      "  [229  41 224]\n",
      "  [ 43  83 152]]]\n",
      "Red Channel:\n",
      " [[204  23  90  25]\n",
      " [175 120 252 236]\n",
      " [182  54 127 111]\n",
      " [ 81 236 229  43]]\n",
      "Flattened Image Array:\n",
      " [204 241 255  23  62 188  90 255 232  25 182 242 175 120  14 120 114 183\n",
      " 252  79 233 236 188 127 182  19 112  54  10 145 127  23  88 111  66 233\n",
      "  81 144 157 236  42 106 229  41 224  43  83 152]\n",
      "Sub-array:\n",
      " [[[120 114 183]\n",
      "  [252  79 233]]\n",
      "\n",
      " [[ 54  10 145]\n",
      "  [127  23  88]]]\n",
      "Normalized Image Array:\n",
      " [[[0.8        0.94509804 1.        ]\n",
      "  [0.09019608 0.24313726 0.7372549 ]\n",
      "  [0.3529412  1.         0.9098039 ]\n",
      "  [0.09803922 0.7137255  0.9490196 ]]\n",
      "\n",
      " [[0.6862745  0.47058824 0.05490196]\n",
      "  [0.47058824 0.44705883 0.7176471 ]\n",
      "  [0.9882353  0.30980393 0.9137255 ]\n",
      "  [0.9254902  0.7372549  0.49803922]]\n",
      "\n",
      " [[0.7137255  0.07450981 0.4392157 ]\n",
      "  [0.21176471 0.03921569 0.5686275 ]\n",
      "  [0.49803922 0.09019608 0.34509805]\n",
      "  [0.43529412 0.25882354 0.9137255 ]]\n",
      "\n",
      " [[0.31764707 0.5647059  0.6156863 ]\n",
      "  [0.9254902  0.16470589 0.41568628]\n",
      "  [0.8980392  0.16078432 0.8784314 ]\n",
      "  [0.16862746 0.3254902  0.59607846]]]\n"
     ]
    }
   ],
   "source": [
    "#Part a: Creating a 3D array \n",
    "height, width = 4, 4\n",
    "rgb_image = np.random.randint(0, 256, size=(height, width, 3), dtype=np.uint8)  \n",
    "print(\"3D RGB Image Array:\\n\", rgb_image)\n",
    "#Acessing Indiviual color channels\n",
    "red_channel = rgb_image[:, :, 0]\n",
    "green_channel = rgb_image[:, :, 1]\n",
    "blue_channel = rgb_image[:, :, 2]\n",
    "print(\"Red Channel:\\n\", red_channel)\n",
    "#Part b: Flattening the 3D Array into a 1D Array\n",
    "flat_image = rgb_image.flatten()  \n",
    "print(\"Flattened Image Array:\\n\", flat_image)\n",
    "#Part c: Extracting a Sub-array\n",
    "sub_array = rgb_image[1:3, 1:3] \n",
    "print(\"Sub-array:\\n\", sub_array)\n",
    "#Part d: Advantages of Using NumPy Arrays over Python Lists\n",
    "#Performance: 1. NumPy is optimized for performance, allowing for faster operations on large datasets through vectorization.\n",
    "# 2. Element-wise operations on NumPy arrays are generally much faster than equivalent operations on Python lists.\n",
    "#Memory Efficiency: 1. NumPy arrays require less memory than Python lists. They store elements of the same type, which is more efficient than lists that can store mixed types.\n",
    "# 2. NumPy uses contiguous blocks of memory, leading to better cache performance and less overhead.\n",
    "def normalize_image(image):\n",
    "    return image.astype(np.float32) / 255.0  \n",
    "normalized_image = normalize_image(rgb_image)\n",
    "print(\"Normalized Image Array:\\n\", normalized_image)\n",
    "# Importance of Normalization in Machine Learning: 1. Improves Convergence. 2. Prevents Bias."
   ]
  },
  {
   "cell_type": "markdown",
   "metadata": {},
   "source": [
    "##### Problem 4:  “NumPy for Statistical Analysis” \n",
    "a. Generate a NumPy array of 1000 random numbers and calculate basic statistics (mean, median, \n",
    "variance).  <br>\n",
    "b. Discuss the differences between population and sample statistics, and calculate both for your \n",
    "generated data.  <br>\n",
    "c. Create a histogram of the random numbers using NumPy, and explain how histograms can be useful \n",
    "for data visualization.  <br>\n",
    "d. Implement a method to identify outliers in your dataset using the IQR (Interquartile Range) method.  <br>\n",
    "e. Explain how NumPy’s statistical functions can be utilized for data analysis in scientific \n",
    "research. <br>"
   ]
  },
  {
   "cell_type": "code",
   "execution_count": 58,
   "metadata": {},
   "outputs": [
    {
     "name": "stdout",
     "output_type": "stream",
     "text": [
      "Mean: 0.016034536212489216\n",
      "Median: 0.009951519032900941\n",
      "Variance: 1.023124048922342\n",
      "Population Variance:\n",
      " 1.023124048922342\n",
      "Sample Variance:\n",
      " 1.0241481971194615\n"
     ]
    },
    {
     "data": {
      "image/png": "[encoded data removed]",
      "text/plain": [
       "<Figure size 640x480 with 1 Axes>"
      ]
     },
     "metadata": {},
     "output_type": "display_data"
    },
    {
     "name": "stdout",
     "output_type": "stream",
     "text": [
      "Identified Outliers: [ 3.01156232  3.00723355  2.85459392 -3.02678067  3.02411154]\n"
     ]
    }
   ],
   "source": [
    "#Part a: Generating an array of 1000 random numbers and calculating basic statistics.\n",
    "data_01 = np.random.randn(1000)\n",
    "mean = np.mean(data_01)\n",
    "median = np.median(data_01)\n",
    "variance = np.var(data_01)\n",
    "print(\"Mean:\", mean)\n",
    "print(\"Median:\", median)\n",
    "print(\"Variance:\", variance)\n",
    "#Part b: Differences Between Population and Sample Statistics\n",
    "sample_variance = np.var(data_01, ddof=1)\n",
    "print(\"Population Variance:\\n\", variance)\n",
    "print(\"Sample Variance:\\n\", sample_variance)\n",
    "#Part c: Creating a Histogram of the Random Numbers\n",
    "#Loading library for histogram\n",
    "import matplotlib.pyplot as plt\n",
    "plt.hist(data_01, bins=30, alpha=0.7, color='orange')\n",
    "plt.title('Histogram of Random Numbers')\n",
    "plt.xlabel('Value')\n",
    "plt.ylabel('Frequency')\n",
    "plt.grid(axis='y')\n",
    "plt.show()\n",
    "#Usefulness of Histograms: 1. Data Distribution 2. Skewness and Kurtosis\n",
    "#Part d: Identifying Outliers Using the IQR Method\n",
    "Q1 = np.percentile(data_01, 25)\n",
    "Q3 = np.percentile(data_01, 75)\n",
    "IQR = Q3 - Q1\n",
    "lower_bound = Q1 - 1.5 * IQR\n",
    "upper_bound = Q3 + 1.5 * IQR\n",
    "outliers = data_01[(data_01 < lower_bound) | (data_01 > upper_bound)]\n",
    "print(\"Identified Outliers:\", outliers)\n",
    "#Part e: Utilizing NumPy’s Statistical Functions in Scientific Research\n",
    "# 1. Efficiency. 2. Versatility. 3. Data Analysis. 4. Integration with Other Libraries."
   ]
  },
  {
   "cell_type": "markdown",
   "metadata": {},
   "source": [
    "##### Problem 5:   “Advanced NumPy Operations Challenge” \n",
    "You are given two 2D NumPy arrays X of shape (n, d) and Y of shape (m, d) containing random \n",
    "floating-point numbers. Your task is to solve the following using NumPy's broadcasting, strides \n",
    "and advanced functions, without using explicit loops: <br>\n",
    "a. Compute the pairwise Euclidean distance between each row in X and each row in Y, returning a \n",
    "matrix D of shape (n, m) where each element D[i, j] represents the distance between X[i] and Y[j]. <br>\n",
    "b. Write a function sliding_window_mean(arr, window_size) that takes a 1D NumPy array arr (a \n",
    "single row from X) and a window size window_size, returning the mean values for each sliding \n",
    "window of the specified size. <br>\n",
    "c. Perform Singular Value Decomposition (SVD) on D to decompose it into U, Σ, and V. Then, \n",
    "reconstruct D using only the top 2 singular values. Compute the Frobenius norm between \n",
    "the original D and the reconstructed matrix. <br>\n",
    "d. Modify D such that: <br>\n",
    "* Replace all distances less than 5 with 0. <br>\n",
    "* Replace all distances greater than 100 with 1. <br>\n",
    "* Count how many values remain between 5 and 100 after this transformation.<br> \n",
    "  \n",
    "e. Create a new array from D using strides that represents a 3x3 sliding window over the first row of \n",
    "D. Compare the execution time of this operation with a regular loop-based approach, ensuring that \n",
    "the stride-based solution is more efficient. <br>"
   ]
  },
  {
   "cell_type": "code",
   "execution_count": 59,
   "metadata": {},
   "outputs": [
    {
     "name": "stdout",
     "output_type": "stream",
     "text": [
      "Pairwise Distance Matrix D:\n",
      " [[1.12469103 1.1459526  1.54949067 ... 1.4706581  1.07694987 1.3564195 ]\n",
      " [1.31336644 1.28115545 1.51872659 ... 1.11242619 1.31208954 1.67319327]\n",
      " [1.20330681 1.06059024 1.22840588 ... 1.3886589  1.0588605  1.03895824]\n",
      " ...\n",
      " [1.25179925 1.28092608 1.38408763 ... 1.17005843 0.82772605 1.60660029]\n",
      " [1.42845678 1.0959771  1.38165337 ... 1.2322822  1.40319743 1.37195859]\n",
      " [1.26104316 1.00686408 1.14715287 ... 1.39726134 0.95174933 1.18318755]]\n",
      "Sliding Window Mean for First Row of X:\n",
      " [0.52176436 0.53205319 0.61311899 0.54936122 0.56458377 0.41351438]\n",
      "Frobenius Norm between D and Reconstructed D: 13.385332560161709\n",
      "Count of values between 5 and 100 after modification: 0\n",
      "Stride-based execution time: 0.000998 seconds\n",
      "Loop-based execution time: 0.001001 seconds\n"
     ]
    }
   ],
   "source": [
    "# Part a:  Compute Pairwise Euclidean Distance\n",
    "# Generating random 2D arrays X and Y\n",
    "X = np.random.rand(100, 10)\n",
    "Y = np.random.rand(50, 10)\n",
    "# Compute pairwise Euclidean distances using broadcasting\n",
    "D = np.sqrt(np.sum(X**2, axis=1, keepdims=True) + np.sum(Y**2, axis=1) - 2 * np.dot(X, Y.T))\n",
    "print(\"Pairwise Distance Matrix D:\\n\", D)\n",
    "# Part b: Calculate the sliding window mean using strides\n",
    "def sliding_window_mean(arr, window_size):\n",
    "    shape = (arr.size - window_size + 1, window_size)\n",
    "    strides = (arr.strides[0], arr.strides[0])\n",
    "    windows = np.lib.stride_tricks.as_strided(arr, shape=shape, strides=strides)\n",
    "    return np.mean(windows, axis=1)\n",
    "window_size = 5\n",
    "row_mean = sliding_window_mean(X[0], window_size)\n",
    "print(\"Sliding Window Mean for First Row of X:\\n\", row_mean)\n",
    "#Part c: Singular Value Decomposition (SVD) and Reconstruction\n",
    "U, S, Vt = np.linalg.svd(D)\n",
    "k = 2\n",
    "D_reconstructed = U[:, :k] @ np.diag(S[:k]) @ Vt[:k, :]\n",
    "frobenius_norm = np.linalg.norm(D - D_reconstructed, 'fro')\n",
    "print(\"Frobenius Norm between D and Reconstructed D:\", frobenius_norm)\n",
    "# Part d: Modify D and Count Values in Range\n",
    "D_modified = np.where(D < 5, 0, D) \n",
    "D_modified = np.where(D_modified > 100, 1, D_modified)\n",
    "count_values_in_range = np.sum((D_modified > 0) & (D_modified < 1))\n",
    "print(\"Count of values between 5 and 100 after modification:\", count_values_in_range)\n",
    "#Part e: Stride-Based Sliding Window vs. Loop-Based Approach\n",
    "import time #Loading library of time\n",
    "window_size = 3\n",
    "start_time_stride = time.time()\n",
    "shape = (D.shape[1] - window_size + 1, window_size)\n",
    "strides = (D.strides[1], D.strides[1])\n",
    "windows_stride = np.lib.stride_tricks.as_strided(D[0], shape=shape, strides=strides)\n",
    "end_time_stride = time.time()\n",
    "start_time_loop = time.time()\n",
    "windows_loop = []\n",
    "for i in range(D.shape[1] - window_size + 1):\n",
    "    windows_loop.append(D[0, i:i + window_size])\n",
    "end_time_loop = time.time()\n",
    "windows_loop = np.array(windows_loop)\n",
    "print(f\"Stride-based execution time: {end_time_stride - start_time_stride:.6f} seconds\")\n",
    "print(f\"Loop-based execution time: {end_time_loop - start_time_loop:.6f} seconds\")"
   ]
  },
  {
   "cell_type": "markdown",
   "metadata": {},
   "source": [
    "***"
   ]
  }
 ],
 "metadata": {
  "kernelspec": {
   "display_name": "Python 3",
   "language": "python",
   "name": "python3"
  },
  "language_info": {
   "codemirror_mode": {
    "name": "ipython",
    "version": 3
   },
   "file_extension": ".py",
   "mimetype": "text/x-python",
   "name": "python",
   "nbconvert_exporter": "python",
   "pygments_lexer": "ipython3",
   "version": "3.12.6"
  }
 },
 "nbformat": 4,
 "nbformat_minor": 2
}
