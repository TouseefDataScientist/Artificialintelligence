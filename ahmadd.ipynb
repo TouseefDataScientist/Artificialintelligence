{
 "cells": [
  {
   "cell_type": "code",
   "execution_count": null,
   "metadata": {},
   "outputs": [],
   "source": []
  },
  {
   "cell_type": "markdown",
   "metadata": {},
   "source": [
    " # **Ahmad**\n",
    " "
   ]
  },
  {
   "cell_type": "markdown",
   "metadata": {},
   "source": [
    "*i really like markdown and do somthing different in markdown*"
   ]
  },
  {
   "cell_type": "markdown",
   "metadata": {},
   "source": [
    "*don,t put spaces and tabs in front of  paragraph*"
   ]
  },
  {
   "cell_type": "markdown",
   "metadata": {},
   "source": [
    " i just love **bold text** \n"
   ]
  },
  {
   "cell_type": "markdown",
   "metadata": {},
   "source": [
    " i just love ***bold text***"
   ]
  },
  {
   "cell_type": "markdown",
   "metadata": {},
   "source": [
    "italicized text is *cat meow*"
   ]
  },
  {
   "cell_type": "markdown",
   "metadata": {},
   "source": [
    ">Dorothy followed her through many of the beautiful rooms in her castle"
   ]
  },
  {
   "cell_type": "markdown",
   "metadata": {},
   "source": [
    ">Adeel followed her through many of th beautiful room in her castle\n",
    ">\n",
    ">sweep and clean the room and burn the woods for heat and also make a tea in kettle"
   ]
  },
  {
   "cell_type": "markdown",
   "metadata": {},
   "source": [
    ">Adeel followed her through many of th beautiful room in her castle to\n",
    ">\n",
    ">>sweep and clean the room and burn the woods for heat and also make a tea in kettle\n",
    ">\n",
    ">> also make it a peaceful and comfort zone"
   ]
  },
  {
   "cell_type": "markdown",
   "metadata": {},
   "source": [
    "### Quarterly sales greater \n",
    ">\n",
    "> - revenue was off the chart.\n",
    "> - profit was higher then previous month."
   ]
  },
  {
   "cell_type": "markdown",
   "metadata": {},
   "source": [
    "#### list\n",
    "> 1. item\n",
    "> 2. item\n",
    "> 3. salt\n",
    "> 4. cheese"
   ]
  },
  {
   "cell_type": "markdown",
   "metadata": {},
   "source": [
    "1. Open the file.\n",
    "2. Find the following code block on line 21:\n",
    "\n",
    "        <html>\n",
    "          <head>\n",
    "            <title>Test</title>\n",
    "          </head>\n",
    "\n",
    "3. Update the title to match the name of your website.\n",
    "The rendered output looks like this:\n",
    "\n",
    "Open the file.\n",
    "Find the following code block on line 21:\n",
    "\n",
    " <html>\n",
    "   <head>\n",
    "     <title>Test</title>\n",
    "   </head>"
   ]
  },
  {
   "cell_type": "markdown",
   "metadata": {},
   "source": [
    "My favorite search engine is [Duck Duck Go](https://duckduckgo.com)."
   ]
  },
  {
   "cell_type": "markdown",
   "metadata": {},
   "source": [
    "\n",
    "https://www.markdownguide.org\n",
    "\n",
    "<adeel@gmail.com>"
   ]
  }
 ],
 "metadata": {
  "language_info": {
   "name": "python"
  }
 },
 "nbformat": 4,
 "nbformat_minor": 2
}
