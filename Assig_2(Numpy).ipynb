{
 "cells": [
  {
   "cell_type": "markdown",
   "metadata": {},
   "source": [
    "# Assigment No. 02"
   ]
  },
  {
   "cell_type": "markdown",
   "metadata": {},
   "source": [
    "## Name: Hira Arif"
   ]
  },
  {
   "cell_type": "markdown",
   "metadata": {},
   "source": [
    "## Email: hiraarif077@gmail.com"
   ]
  },
  {
   "cell_type": "code",
   "execution_count": 240,
   "metadata": {},
   "outputs": [
    {
     "name": "stdout",
     "output_type": "stream",
     "text": [
      "Requirement already satisfied: pandas in c:\\users\\home\\appdata\\local\\programs\\python\\python312\\lib\\site-packages (2.2.2)\n",
      "Requirement already satisfied: numpy>=1.26.0 in c:\\users\\home\\appdata\\local\\programs\\python\\python312\\lib\\site-packages (from pandas) (2.1.1)\n",
      "Requirement already satisfied: python-dateutil>=2.8.2 in c:\\users\\home\\appdata\\roaming\\python\\python312\\site-packages (from pandas) (2.9.0.post0)\n",
      "Requirement already satisfied: pytz>=2020.1 in c:\\users\\home\\appdata\\local\\programs\\python\\python312\\lib\\site-packages (from pandas) (2024.2)\n",
      "Requirement already satisfied: tzdata>=2022.7 in c:\\users\\home\\appdata\\local\\programs\\python\\python312\\lib\\site-packages (from pandas) (2024.1)\n",
      "Requirement already satisfied: six>=1.5 in c:\\users\\home\\appdata\\roaming\\python\\python312\\site-packages (from python-dateutil>=2.8.2->pandas) (1.16.0)\n",
      "Note: you may need to restart the kernel to use updated packages.\n",
      "Requirement already satisfied: numpy in c:\\users\\home\\appdata\\local\\programs\\python\\python312\\lib\\site-packages (2.1.1)\n",
      "Note: you may need to restart the kernel to use updated packages.\n"
     ]
    }
   ],
   "source": [
    "%pip install pandas\n",
    "%pip install numpy"
   ]
  },
  {
   "cell_type": "code",
   "execution_count": 241,
   "metadata": {},
   "outputs": [],
   "source": [
    "import pandas as pd"
   ]
  },
  {
   "cell_type": "code",
   "execution_count": 242,
   "metadata": {},
   "outputs": [],
   "source": [
    "import numpy as np"
   ]
  },
  {
   "cell_type": "markdown",
   "metadata": {},
   "source": [
    "# Problem 01: “Understanding NumPy Arrays and Operations”\n"
   ]
  },
  {
   "cell_type": "markdown",
   "metadata": {},
   "source": [
    "### a. Create a NumPy array of shape (4, 5) filled with random integers between 1 and 100.\n"
   ]
  },
  {
   "cell_type": "code",
   "execution_count": 243,
   "metadata": {},
   "outputs": [
    {
     "data": {
      "text/plain": [
       "array([[55, 81, 27, 31, 29],\n",
       "       [67, 39, 23, 16,  8],\n",
       "       [24, 12, 95, 93, 48],\n",
       "       [85, 60, 35, 93, 66]], dtype=int32)"
      ]
     },
     "execution_count": 243,
     "metadata": {},
     "output_type": "execute_result"
    }
   ],
   "source": [
    "a=np.random.randint(1,101,size=(4,5))\n",
    "a"
   ]
  },
  {
   "cell_type": "markdown",
   "metadata": {},
   "source": [
    "### b. Reshape the array into a shape of (2, 10) and explain how reshaping works in NumPy.\n"
   ]
  },
  {
   "cell_type": "code",
   "execution_count": 244,
   "metadata": {},
   "outputs": [
    {
     "data": {
      "text/plain": [
       "array([[55, 81, 27, 31, 29, 67, 39, 23, 16,  8],\n",
       "       [24, 12, 95, 93, 48, 85, 60, 35, 93, 66]], dtype=int32)"
      ]
     },
     "execution_count": 244,
     "metadata": {},
     "output_type": "execute_result"
    }
   ],
   "source": [
    "b=a.reshape(2,10)\n",
    "b"
   ]
  },
  {
   "cell_type": "markdown",
   "metadata": {},
   "source": [
    "### c. Perform element-wise addition with another array of shape (2, 10) and discuss broadcasting rules.\n"
   ]
  },
  {
   "cell_type": "code",
   "execution_count": 245,
   "metadata": {},
   "outputs": [
    {
     "data": {
      "text/plain": [
       "array([[19,  7, 38, 79, 11, 47, 17, 71, 20, 39]], dtype=int32)"
      ]
     },
     "execution_count": 245,
     "metadata": {},
     "output_type": "execute_result"
    }
   ],
   "source": [
    "c=np.random.randint(1,101,size=(1,10))\n",
    "c"
   ]
  },
  {
   "cell_type": "code",
   "execution_count": 246,
   "metadata": {},
   "outputs": [
    {
     "data": {
      "text/plain": [
       "array([[ 74,  88,  65, 110,  40, 114,  56,  94,  36,  47],\n",
       "       [ 43,  19, 133, 172,  59, 132,  77, 106, 113, 105]], dtype=int32)"
      ]
     },
     "execution_count": 246,
     "metadata": {},
     "output_type": "execute_result"
    }
   ],
   "source": [
    "d=b+c\n",
    "d"
   ]
  },
  {
   "cell_type": "markdown",
   "metadata": {},
   "source": [
    "### d. Calculate the dot product of two compatible arrays and explain the significance of dot product in linear algebra."
   ]
  },
  {
   "cell_type": "code",
   "execution_count": 247,
   "metadata": {},
   "outputs": [
    {
     "data": {
      "text/plain": [
       "array([[ 4, 23, 21, 36, 41],\n",
       "       [45, 27, 29, 44, 24],\n",
       "       [ 7,  3, 29, 18, 12]], dtype=int32)"
      ]
     },
     "execution_count": 247,
     "metadata": {},
     "output_type": "execute_result"
    }
   ],
   "source": [
    "array1=np.random.randint(1,51,size=(3,5))\n",
    "array1"
   ]
  },
  {
   "cell_type": "code",
   "execution_count": 248,
   "metadata": {},
   "outputs": [
    {
     "data": {
      "text/plain": [
       "array([[17, 13, 43],\n",
       "       [25, 39, 33],\n",
       "       [22,  2, 45],\n",
       "       [20, 13, 28],\n",
       "       [50, 21, 27]], dtype=int32)"
      ]
     },
     "execution_count": 248,
     "metadata": {},
     "output_type": "execute_result"
    }
   ],
   "source": [
    "array2=np.random.randint(1,51,size=(5,3))\n",
    "array2"
   ]
  },
  {
   "cell_type": "code",
   "execution_count": 249,
   "metadata": {},
   "outputs": [
    {
     "data": {
      "text/plain": [
       "array([[3875, 2320, 3991],\n",
       "       [4158, 2772, 6011],\n",
       "       [1792,  752, 2533]], dtype=int32)"
      ]
     },
     "execution_count": 249,
     "metadata": {},
     "output_type": "execute_result"
    }
   ],
   "source": [
    "dot_product=np.dot(array1,array2)\n",
    "dot_product"
   ]
  },
  {
   "cell_type": "markdown",
   "metadata": {},
   "source": [
    "### e. Create a masked array from the original array, masking all values below the median; explain the concept and use cases of masked arrays."
   ]
  },
  {
   "cell_type": "code",
   "execution_count": 250,
   "metadata": {},
   "outputs": [
    {
     "data": {
      "text/plain": [
       "array([[55, 81, 27, 31, 29],\n",
       "       [67, 39, 23, 16,  8],\n",
       "       [24, 12, 95, 93, 48],\n",
       "       [85, 60, 35, 93, 66]], dtype=int32)"
      ]
     },
     "execution_count": 250,
     "metadata": {},
     "output_type": "execute_result"
    }
   ],
   "source": [
    "a"
   ]
  },
  {
   "cell_type": "code",
   "execution_count": 251,
   "metadata": {},
   "outputs": [
    {
     "data": {
      "text/plain": [
       "np.float64(43.5)"
      ]
     },
     "execution_count": 251,
     "metadata": {},
     "output_type": "execute_result"
    }
   ],
   "source": [
    "Median_Value=np.median(a)\n",
    "Median_Value"
   ]
  },
  {
   "cell_type": "code",
   "execution_count": 252,
   "metadata": {},
   "outputs": [
    {
     "data": {
      "text/plain": [
       "array([[False, False,  True,  True,  True],\n",
       "       [False,  True,  True,  True,  True],\n",
       "       [ True,  True, False, False, False],\n",
       "       [False, False,  True, False, False]])"
      ]
     },
     "execution_count": 252,
     "metadata": {},
     "output_type": "execute_result"
    }
   ],
   "source": [
    "mask=a<Median_Value\n",
    "mask"
   ]
  },
  {
   "cell_type": "code",
   "execution_count": 253,
   "metadata": {},
   "outputs": [],
   "source": [
    "import numpy.ma as ma"
   ]
  },
  {
   "cell_type": "code",
   "execution_count": 254,
   "metadata": {},
   "outputs": [
    {
     "data": {
      "text/plain": [
       "masked_array(\n",
       "  data=[[55, 81, --, --, --],\n",
       "        [67, --, --, --, --],\n",
       "        [--, --, 95, 93, 48],\n",
       "        [85, 60, --, 93, 66]],\n",
       "  mask=[[False, False,  True,  True,  True],\n",
       "        [False,  True,  True,  True,  True],\n",
       "        [ True,  True, False, False, False],\n",
       "        [False, False,  True, False, False]],\n",
       "  fill_value=np.int64(999999),\n",
       "  dtype=int32)"
      ]
     },
     "execution_count": 254,
     "metadata": {},
     "output_type": "execute_result"
    }
   ],
   "source": [
    "Masked_Array=ma.masked_array(a,mask)\n",
    "Masked_Array\n"
   ]
  },
  {
   "cell_type": "markdown",
   "metadata": {},
   "source": [
    "# Problem 02: “Exploring NumPy Broadcasting and Strides”\n"
   ]
  },
  {
   "cell_type": "markdown",
   "metadata": {},
   "source": [
    "### a. Explain the concept of broadcasting in NumPy and provide an example involving arrays of different shapes.\n"
   ]
  },
  {
   "cell_type": "markdown",
   "metadata": {},
   "source": [
    "A useful feature of NumPy is broadcasting, which enables element-wise operations without explicit data replication, making operations more memory-efficient and easier to write. Broadcasting works on arrays of different shapes by automatically expanding the smaller array along the dimensions of the larger array, rather than requiring the arrays to have the same shape.\n"
   ]
  },
  {
   "cell_type": "markdown",
   "metadata": {},
   "source": [
    "##### Rules for Broadcasting: NumPy follows these guidelines when it comes to broadcasting:\n",
    "\n",
    "The arrays are compared element-wise if they share the same number of dimensions. Either all of the measurements must be the same size, or only one must be 1.\n",
    "\n",
    "The smaller array's shape is padded with ones on the left side until both forms are the same if the arrays have different numbers of dimensions. The broadcasting regulations then take effect.\n",
    "\n",
    "The process can continue if the dimensions are equal or if one of them is 1. Broadcasting fails and an exception is raised if they disagree and neither is 1."
   ]
  },
  {
   "cell_type": "code",
   "execution_count": 255,
   "metadata": {},
   "outputs": [
    {
     "data": {
      "text/plain": [
       "array([[11, 16,  8,  7,  2, 21],\n",
       "       [22,  7,  1,  4,  8, 24],\n",
       "       [13, 14, 23,  1,  9,  2],\n",
       "       [23,  7, 15,  8,  8, 10],\n",
       "       [ 6, 11,  3, 24,  6, 24]], dtype=int32)"
      ]
     },
     "execution_count": 255,
     "metadata": {},
     "output_type": "execute_result"
    }
   ],
   "source": [
    "A=np.random.randint(1,25,size=(5,6))\n",
    "A"
   ]
  },
  {
   "cell_type": "code",
   "execution_count": 256,
   "metadata": {},
   "outputs": [
    {
     "data": {
      "text/plain": [
       "array([20,  7, 21,  1,  4, 20], dtype=int32)"
      ]
     },
     "execution_count": 256,
     "metadata": {},
     "output_type": "execute_result"
    }
   ],
   "source": [
    "B=np.random.randint(1,25,size=(6))\n",
    "B"
   ]
  },
  {
   "cell_type": "code",
   "execution_count": 257,
   "metadata": {},
   "outputs": [
    {
     "data": {
      "text/plain": [
       "array([[31, 23, 29,  8,  6, 41],\n",
       "       [42, 14, 22,  5, 12, 44],\n",
       "       [33, 21, 44,  2, 13, 22],\n",
       "       [43, 14, 36,  9, 12, 30],\n",
       "       [26, 18, 24, 25, 10, 44]], dtype=int32)"
      ]
     },
     "execution_count": 257,
     "metadata": {},
     "output_type": "execute_result"
    }
   ],
   "source": [
    "C=B+A\n",
    "C"
   ]
  },
  {
   "cell_type": "markdown",
   "metadata": {},
   "source": [
    "### b.  Create two arrays with different shapes that can be broadcasted together and perform an arithmetic operation on them.\n"
   ]
  },
  {
   "cell_type": "code",
   "execution_count": 258,
   "metadata": {},
   "outputs": [
    {
     "data": {
      "text/plain": [
       "array([[23,  1, 20,  3, 17],\n",
       "       [ 1,  5,  8, 24, 16],\n",
       "       [23, 24, 24, 17,  1],\n",
       "       [10, 24, 20,  9,  1],\n",
       "       [ 9, 23, 16, 23, 18],\n",
       "       [16,  1, 13,  5, 18],\n",
       "       [12, 15, 11, 11, 12]], dtype=int32)"
      ]
     },
     "execution_count": 258,
     "metadata": {},
     "output_type": "execute_result"
    }
   ],
   "source": [
    "C=np.random.randint(1,25,size=(7,5))\n",
    "C"
   ]
  },
  {
   "cell_type": "code",
   "execution_count": 259,
   "metadata": {},
   "outputs": [
    {
     "data": {
      "text/plain": [
       "array([18, 10, 13, 14, 11], dtype=int32)"
      ]
     },
     "execution_count": 259,
     "metadata": {},
     "output_type": "execute_result"
    }
   ],
   "source": [
    "D=np.random.randint(1,25,size=(5))\n",
    "D"
   ]
  },
  {
   "cell_type": "code",
   "execution_count": 260,
   "metadata": {},
   "outputs": [
    {
     "data": {
      "text/plain": [
       "array([[414,  10, 260,  42, 187],\n",
       "       [ 18,  50, 104, 336, 176],\n",
       "       [414, 240, 312, 238,  11],\n",
       "       [180, 240, 260, 126,  11],\n",
       "       [162, 230, 208, 322, 198],\n",
       "       [288,  10, 169,  70, 198],\n",
       "       [216, 150, 143, 154, 132]], dtype=int32)"
      ]
     },
     "execution_count": 260,
     "metadata": {},
     "output_type": "execute_result"
    }
   ],
   "source": [
    "E=C*D\n",
    "E"
   ]
  },
  {
   "cell_type": "markdown",
   "metadata": {},
   "source": [
    "### c. Discuss how strides in NumPy arrays affect memory access patterns when slicing an array.\n"
   ]
  },
  {
   "cell_type": "code",
   "execution_count": 261,
   "metadata": {},
   "outputs": [
    {
     "data": {
      "text/plain": [
       "(20, 4)"
      ]
     },
     "execution_count": 261,
     "metadata": {},
     "output_type": "execute_result"
    }
   ],
   "source": [
    "array=a.strides\n",
    "array"
   ]
  },
  {
   "cell_type": "code",
   "execution_count": 262,
   "metadata": {},
   "outputs": [
    {
     "data": {
      "text/plain": [
       "array([[55, 81, 27, 31, 29],\n",
       "       [67, 39, 23, 16,  8],\n",
       "       [24, 12, 95, 93, 48],\n",
       "       [85, 60, 35, 93, 66]], dtype=int32)"
      ]
     },
     "execution_count": 262,
     "metadata": {},
     "output_type": "execute_result"
    }
   ],
   "source": [
    "a"
   ]
  },
  {
   "cell_type": "markdown",
   "metadata": {},
   "source": [
    "### d. Create an example to demonstrate the impact of strides on array slicing and performance.\n"
   ]
  },
  {
   "cell_type": "code",
   "execution_count": 263,
   "metadata": {},
   "outputs": [],
   "source": [
    "import time"
   ]
  },
  {
   "cell_type": "code",
   "execution_count": 264,
   "metadata": {},
   "outputs": [
    {
     "data": {
      "text/plain": [
       "array([[   0,    1,    2, ...,   97,   98,   99],\n",
       "       [ 100,  101,  102, ...,  197,  198,  199],\n",
       "       [ 200,  201,  202, ...,  297,  298,  299],\n",
       "       ...,\n",
       "       [9700, 9701, 9702, ..., 9797, 9798, 9799],\n",
       "       [9800, 9801, 9802, ..., 9897, 9898, 9899],\n",
       "       [9900, 9901, 9902, ..., 9997, 9998, 9999]])"
      ]
     },
     "execution_count": 264,
     "metadata": {},
     "output_type": "execute_result"
    }
   ],
   "source": [
    "Array=np.arange(10000).reshape(100,100)\n",
    "Array"
   ]
  },
  {
   "cell_type": "markdown",
   "metadata": {},
   "source": [
    "#### Contiguous Access"
   ]
  },
  {
   "cell_type": "code",
   "execution_count": 265,
   "metadata": {},
   "outputs": [
    {
     "data": {
      "text/plain": [
       "1728968100.6241975"
      ]
     },
     "execution_count": 265,
     "metadata": {},
     "output_type": "execute_result"
    }
   ],
   "source": [
    "Start_time_contiguous=time.time()\n",
    "Start_time_contiguous"
   ]
  },
  {
   "cell_type": "code",
   "execution_count": 266,
   "metadata": {},
   "outputs": [
    {
     "data": {
      "text/plain": [
       "1728968100.6451328"
      ]
     },
     "execution_count": 266,
     "metadata": {},
     "output_type": "execute_result"
    }
   ],
   "source": [
    "End_time_contiguous=time.time()\n",
    "End_time_contiguous"
   ]
  },
  {
   "cell_type": "code",
   "execution_count": 267,
   "metadata": {},
   "outputs": [
    {
     "data": {
      "text/plain": [
       "0.0209352970123291"
      ]
     },
     "execution_count": 267,
     "metadata": {},
     "output_type": "execute_result"
    }
   ],
   "source": [
    "contiguous_Time=End_time_contiguous-Start_time_contiguous\n",
    "contiguous_Time\n"
   ]
  },
  {
   "cell_type": "code",
   "execution_count": 268,
   "metadata": {},
   "outputs": [
    {
     "data": {
      "text/plain": [
       "array([[  0,   1,   2,   3,   4,   5,   6,   7,   8,   9,  10,  11,  12,\n",
       "         13,  14,  15,  16,  17,  18,  19,  20,  21,  22,  23,  24,  25,\n",
       "         26,  27,  28,  29,  30,  31,  32,  33,  34,  35,  36,  37,  38,\n",
       "         39,  40,  41,  42,  43,  44,  45,  46,  47,  48,  49,  50,  51,\n",
       "         52,  53,  54,  55,  56,  57,  58,  59,  60,  61,  62,  63,  64,\n",
       "         65,  66,  67,  68,  69,  70,  71,  72,  73,  74,  75,  76,  77,\n",
       "         78,  79,  80,  81,  82,  83,  84,  85,  86,  87,  88,  89,  90,\n",
       "         91,  92,  93,  94,  95,  96,  97,  98,  99],\n",
       "       [100, 101, 102, 103, 104, 105, 106, 107, 108, 109, 110, 111, 112,\n",
       "        113, 114, 115, 116, 117, 118, 119, 120, 121, 122, 123, 124, 125,\n",
       "        126, 127, 128, 129, 130, 131, 132, 133, 134, 135, 136, 137, 138,\n",
       "        139, 140, 141, 142, 143, 144, 145, 146, 147, 148, 149, 150, 151,\n",
       "        152, 153, 154, 155, 156, 157, 158, 159, 160, 161, 162, 163, 164,\n",
       "        165, 166, 167, 168, 169, 170, 171, 172, 173, 174, 175, 176, 177,\n",
       "        178, 179, 180, 181, 182, 183, 184, 185, 186, 187, 188, 189, 190,\n",
       "        191, 192, 193, 194, 195, 196, 197, 198, 199],\n",
       "       [200, 201, 202, 203, 204, 205, 206, 207, 208, 209, 210, 211, 212,\n",
       "        213, 214, 215, 216, 217, 218, 219, 220, 221, 222, 223, 224, 225,\n",
       "        226, 227, 228, 229, 230, 231, 232, 233, 234, 235, 236, 237, 238,\n",
       "        239, 240, 241, 242, 243, 244, 245, 246, 247, 248, 249, 250, 251,\n",
       "        252, 253, 254, 255, 256, 257, 258, 259, 260, 261, 262, 263, 264,\n",
       "        265, 266, 267, 268, 269, 270, 271, 272, 273, 274, 275, 276, 277,\n",
       "        278, 279, 280, 281, 282, 283, 284, 285, 286, 287, 288, 289, 290,\n",
       "        291, 292, 293, 294, 295, 296, 297, 298, 299],\n",
       "       [300, 301, 302, 303, 304, 305, 306, 307, 308, 309, 310, 311, 312,\n",
       "        313, 314, 315, 316, 317, 318, 319, 320, 321, 322, 323, 324, 325,\n",
       "        326, 327, 328, 329, 330, 331, 332, 333, 334, 335, 336, 337, 338,\n",
       "        339, 340, 341, 342, 343, 344, 345, 346, 347, 348, 349, 350, 351,\n",
       "        352, 353, 354, 355, 356, 357, 358, 359, 360, 361, 362, 363, 364,\n",
       "        365, 366, 367, 368, 369, 370, 371, 372, 373, 374, 375, 376, 377,\n",
       "        378, 379, 380, 381, 382, 383, 384, 385, 386, 387, 388, 389, 390,\n",
       "        391, 392, 393, 394, 395, 396, 397, 398, 399],\n",
       "       [400, 401, 402, 403, 404, 405, 406, 407, 408, 409, 410, 411, 412,\n",
       "        413, 414, 415, 416, 417, 418, 419, 420, 421, 422, 423, 424, 425,\n",
       "        426, 427, 428, 429, 430, 431, 432, 433, 434, 435, 436, 437, 438,\n",
       "        439, 440, 441, 442, 443, 444, 445, 446, 447, 448, 449, 450, 451,\n",
       "        452, 453, 454, 455, 456, 457, 458, 459, 460, 461, 462, 463, 464,\n",
       "        465, 466, 467, 468, 469, 470, 471, 472, 473, 474, 475, 476, 477,\n",
       "        478, 479, 480, 481, 482, 483, 484, 485, 486, 487, 488, 489, 490,\n",
       "        491, 492, 493, 494, 495, 496, 497, 498, 499],\n",
       "       [500, 501, 502, 503, 504, 505, 506, 507, 508, 509, 510, 511, 512,\n",
       "        513, 514, 515, 516, 517, 518, 519, 520, 521, 522, 523, 524, 525,\n",
       "        526, 527, 528, 529, 530, 531, 532, 533, 534, 535, 536, 537, 538,\n",
       "        539, 540, 541, 542, 543, 544, 545, 546, 547, 548, 549, 550, 551,\n",
       "        552, 553, 554, 555, 556, 557, 558, 559, 560, 561, 562, 563, 564,\n",
       "        565, 566, 567, 568, 569, 570, 571, 572, 573, 574, 575, 576, 577,\n",
       "        578, 579, 580, 581, 582, 583, 584, 585, 586, 587, 588, 589, 590,\n",
       "        591, 592, 593, 594, 595, 596, 597, 598, 599],\n",
       "       [600, 601, 602, 603, 604, 605, 606, 607, 608, 609, 610, 611, 612,\n",
       "        613, 614, 615, 616, 617, 618, 619, 620, 621, 622, 623, 624, 625,\n",
       "        626, 627, 628, 629, 630, 631, 632, 633, 634, 635, 636, 637, 638,\n",
       "        639, 640, 641, 642, 643, 644, 645, 646, 647, 648, 649, 650, 651,\n",
       "        652, 653, 654, 655, 656, 657, 658, 659, 660, 661, 662, 663, 664,\n",
       "        665, 666, 667, 668, 669, 670, 671, 672, 673, 674, 675, 676, 677,\n",
       "        678, 679, 680, 681, 682, 683, 684, 685, 686, 687, 688, 689, 690,\n",
       "        691, 692, 693, 694, 695, 696, 697, 698, 699],\n",
       "       [700, 701, 702, 703, 704, 705, 706, 707, 708, 709, 710, 711, 712,\n",
       "        713, 714, 715, 716, 717, 718, 719, 720, 721, 722, 723, 724, 725,\n",
       "        726, 727, 728, 729, 730, 731, 732, 733, 734, 735, 736, 737, 738,\n",
       "        739, 740, 741, 742, 743, 744, 745, 746, 747, 748, 749, 750, 751,\n",
       "        752, 753, 754, 755, 756, 757, 758, 759, 760, 761, 762, 763, 764,\n",
       "        765, 766, 767, 768, 769, 770, 771, 772, 773, 774, 775, 776, 777,\n",
       "        778, 779, 780, 781, 782, 783, 784, 785, 786, 787, 788, 789, 790,\n",
       "        791, 792, 793, 794, 795, 796, 797, 798, 799],\n",
       "       [800, 801, 802, 803, 804, 805, 806, 807, 808, 809, 810, 811, 812,\n",
       "        813, 814, 815, 816, 817, 818, 819, 820, 821, 822, 823, 824, 825,\n",
       "        826, 827, 828, 829, 830, 831, 832, 833, 834, 835, 836, 837, 838,\n",
       "        839, 840, 841, 842, 843, 844, 845, 846, 847, 848, 849, 850, 851,\n",
       "        852, 853, 854, 855, 856, 857, 858, 859, 860, 861, 862, 863, 864,\n",
       "        865, 866, 867, 868, 869, 870, 871, 872, 873, 874, 875, 876, 877,\n",
       "        878, 879, 880, 881, 882, 883, 884, 885, 886, 887, 888, 889, 890,\n",
       "        891, 892, 893, 894, 895, 896, 897, 898, 899],\n",
       "       [900, 901, 902, 903, 904, 905, 906, 907, 908, 909, 910, 911, 912,\n",
       "        913, 914, 915, 916, 917, 918, 919, 920, 921, 922, 923, 924, 925,\n",
       "        926, 927, 928, 929, 930, 931, 932, 933, 934, 935, 936, 937, 938,\n",
       "        939, 940, 941, 942, 943, 944, 945, 946, 947, 948, 949, 950, 951,\n",
       "        952, 953, 954, 955, 956, 957, 958, 959, 960, 961, 962, 963, 964,\n",
       "        965, 966, 967, 968, 969, 970, 971, 972, 973, 974, 975, 976, 977,\n",
       "        978, 979, 980, 981, 982, 983, 984, 985, 986, 987, 988, 989, 990,\n",
       "        991, 992, 993, 994, 995, 996, 997, 998, 999]])"
      ]
     },
     "execution_count": 268,
     "metadata": {},
     "output_type": "execute_result"
    }
   ],
   "source": [
    "contiguous_Slice=Array[:10,:]\n",
    "contiguous_Slice"
   ]
  },
  {
   "cell_type": "code",
   "execution_count": 269,
   "metadata": {},
   "outputs": [
    {
     "data": {
      "text/plain": [
       "(800, 8)"
      ]
     },
     "execution_count": 269,
     "metadata": {},
     "output_type": "execute_result"
    }
   ],
   "source": [
    "contiguous_Slice.strides"
   ]
  },
  {
   "cell_type": "markdown",
   "metadata": {},
   "source": [
    "#### Non-Contiguous Access"
   ]
  },
  {
   "cell_type": "code",
   "execution_count": 270,
   "metadata": {},
   "outputs": [
    {
     "data": {
      "text/plain": [
       "1728968100.7409813"
      ]
     },
     "execution_count": 270,
     "metadata": {},
     "output_type": "execute_result"
    }
   ],
   "source": [
    "Start_time_non_contiguous=time.time()\n",
    "Start_time_non_contiguous"
   ]
  },
  {
   "cell_type": "code",
   "execution_count": 271,
   "metadata": {},
   "outputs": [
    {
     "data": {
      "text/plain": [
       "1728968100.757708"
      ]
     },
     "execution_count": 271,
     "metadata": {},
     "output_type": "execute_result"
    }
   ],
   "source": [
    "End_time_non_contiguous=time.time()\n",
    "End_time_non_contiguous"
   ]
  },
  {
   "cell_type": "code",
   "execution_count": 272,
   "metadata": {},
   "outputs": [
    {
     "data": {
      "text/plain": [
       "0.01672673225402832"
      ]
     },
     "execution_count": 272,
     "metadata": {},
     "output_type": "execute_result"
    }
   ],
   "source": [
    "Non_contiguous_Time=End_time_non_contiguous-Start_time_non_contiguous\n",
    "Non_contiguous_Time\n"
   ]
  },
  {
   "cell_type": "code",
   "execution_count": 273,
   "metadata": {},
   "outputs": [
    {
     "data": {
      "text/plain": [
       "array([[   0,    1,    2, ...,   97,   98,   99],\n",
       "       [ 300,  301,  302, ...,  397,  398,  399],\n",
       "       [ 600,  601,  602, ...,  697,  698,  699],\n",
       "       ...,\n",
       "       [9300, 9301, 9302, ..., 9397, 9398, 9399],\n",
       "       [9600, 9601, 9602, ..., 9697, 9698, 9699],\n",
       "       [9900, 9901, 9902, ..., 9997, 9998, 9999]])"
      ]
     },
     "execution_count": 273,
     "metadata": {},
     "output_type": "execute_result"
    }
   ],
   "source": [
    "Non_contiguous_Slice=Array[::3,:]\n",
    "Non_contiguous_Slice"
   ]
  },
  {
   "cell_type": "code",
   "execution_count": 274,
   "metadata": {},
   "outputs": [
    {
     "data": {
      "text/plain": [
       "(2400, 8)"
      ]
     },
     "execution_count": 274,
     "metadata": {},
     "output_type": "execute_result"
    }
   ],
   "source": [
    "Non_contiguous_Slice.strides"
   ]
  },
  {
   "cell_type": "markdown",
   "metadata": {},
   "source": [
    "### e. Analyze how changing the order of dimensions’ affects broadcasting and provide a scenario illustrating this."
   ]
  },
  {
   "cell_type": "code",
   "execution_count": 275,
   "metadata": {},
   "outputs": [
    {
     "data": {
      "text/plain": [
       "array([[[0.40949258, 0.35913944, 0.89529432, 0.57174457, 0.79624256],\n",
       "        [0.17332043, 0.22604443, 0.15050263, 0.77429515, 0.06218391],\n",
       "        [0.00823793, 0.68268307, 0.40750699, 0.45137894, 0.07343415],\n",
       "        [0.79809438, 0.22418527, 0.38853002, 0.35208151, 0.81440326]],\n",
       "\n",
       "       [[0.56710143, 0.77951239, 0.48107085, 0.52239507, 0.31824517],\n",
       "        [0.16001717, 0.80162216, 0.88576687, 0.8245725 , 0.01572927],\n",
       "        [0.82016735, 0.38495862, 0.36082839, 0.59092566, 0.95211641],\n",
       "        [0.02376714, 0.08290288, 0.97662851, 0.69176819, 0.82005187]],\n",
       "\n",
       "       [[0.00216056, 0.80863588, 0.35022112, 0.66242113, 0.74961362],\n",
       "        [0.42958267, 0.97854756, 0.09986722, 0.82455963, 0.7992171 ],\n",
       "        [0.71589482, 0.07524251, 0.82716742, 0.85202886, 0.37564592],\n",
       "        [0.19456752, 0.06888614, 0.64613132, 0.01856945, 0.38973774]]])"
      ]
     },
     "execution_count": 275,
     "metadata": {},
     "output_type": "execute_result"
    }
   ],
   "source": [
    "arr1=np.random.rand(3,4,5)\n",
    "arr1"
   ]
  },
  {
   "cell_type": "code",
   "execution_count": 276,
   "metadata": {},
   "outputs": [
    {
     "data": {
      "text/plain": [
       "array([[0.49400016, 0.31825551, 0.4922571 , 0.63764167, 0.2239606 ]])"
      ]
     },
     "execution_count": 276,
     "metadata": {},
     "output_type": "execute_result"
    }
   ],
   "source": [
    "arr2=np.random.rand(1,5)\n",
    "arr2"
   ]
  },
  {
   "cell_type": "code",
   "execution_count": 277,
   "metadata": {},
   "outputs": [
    {
     "data": {
      "text/plain": [
       "array([[[0.90349274, 0.67739495, 1.38755143, 1.20938623, 1.02020316],\n",
       "        [0.66732059, 0.54429993, 0.64275974, 1.41193682, 0.28614451],\n",
       "        [0.50223809, 1.00093858, 0.89976409, 1.08902061, 0.29739475],\n",
       "        [1.29209454, 0.54244078, 0.88078712, 0.98972317, 1.03836386]],\n",
       "\n",
       "       [[1.06110159, 1.0977679 , 0.97332795, 1.16003674, 0.54220577],\n",
       "        [0.65401733, 1.11987767, 1.37802397, 1.46221417, 0.23968987],\n",
       "        [1.31416751, 0.70321413, 0.85308549, 1.22856733, 1.176077  ],\n",
       "        [0.5177673 , 0.40115839, 1.46888561, 1.32940986, 1.04401247]],\n",
       "\n",
       "       [[0.49616073, 1.12689139, 0.84247822, 1.3000628 , 0.97357422],\n",
       "        [0.92358283, 1.29680307, 0.59212432, 1.4622013 , 1.0231777 ],\n",
       "        [1.20989498, 0.39349802, 1.31942452, 1.48967053, 0.59960652],\n",
       "        [0.68856768, 0.38714165, 1.13838842, 0.65621112, 0.61369833]]])"
      ]
     },
     "execution_count": 277,
     "metadata": {},
     "output_type": "execute_result"
    }
   ],
   "source": [
    "Result_1=arr1+arr2\n",
    "Result_1"
   ]
  },
  {
   "cell_type": "code",
   "execution_count": 278,
   "metadata": {},
   "outputs": [
    {
     "data": {
      "text/plain": [
       "array([[[0.77047916],\n",
       "        [0.21069003],\n",
       "        [0.70291174],\n",
       "        [0.74138267]]])"
      ]
     },
     "execution_count": 278,
     "metadata": {},
     "output_type": "execute_result"
    }
   ],
   "source": [
    "arr3=np.random.rand(1,4,1)\n",
    "arr3"
   ]
  },
  {
   "cell_type": "code",
   "execution_count": 279,
   "metadata": {},
   "outputs": [
    {
     "data": {
      "text/plain": [
       "array([[[1.17997174, 1.1296186 , 1.66577348, 1.34222372, 1.56672172],\n",
       "        [0.38401045, 0.43673445, 0.36119266, 0.98498517, 0.27287394],\n",
       "        [0.71114968, 1.38559482, 1.11041874, 1.15429069, 0.7763459 ],\n",
       "        [1.53947705, 0.96556795, 1.12991269, 1.09346418, 1.55578594]],\n",
       "\n",
       "       [[1.33758059, 1.54999155, 1.25155   , 1.29287422, 1.08872433],\n",
       "        [0.37070719, 1.01231219, 1.0964569 , 1.03526253, 0.22641929],\n",
       "        [1.52307909, 1.08787036, 1.06374013, 1.2938374 , 1.65502815],\n",
       "        [0.76514981, 0.82428556, 1.71801118, 1.43315086, 1.56143455]],\n",
       "\n",
       "       [[0.77263972, 1.57911503, 1.12070028, 1.43290029, 1.52009278],\n",
       "        [0.64027269, 1.18923759, 0.31055725, 1.03524966, 1.00990713],\n",
       "        [1.41880656, 0.77815425, 1.53007916, 1.55494061, 1.07855767],\n",
       "        [0.93595019, 0.81026882, 1.38751399, 0.75995213, 1.13112041]]])"
      ]
     },
     "execution_count": 279,
     "metadata": {},
     "output_type": "execute_result"
    }
   ],
   "source": [
    "Result_2=arr1+arr3\n",
    "Result_2"
   ]
  },
  {
   "cell_type": "markdown",
   "metadata": {},
   "source": [
    "# Problem 03: “Advanced Array Manipulation with NumPy”\n"
   ]
  },
  {
   "cell_type": "markdown",
   "metadata": {},
   "source": [
    "### a. Create a 3D NumPy array representing an RGB image and explain how to access individual color channels."
   ]
  },
  {
   "cell_type": "code",
   "execution_count": 280,
   "metadata": {},
   "outputs": [
    {
     "data": {
      "text/plain": [
       "array([[[0.50801503, 0.06940111, 0.54739097],\n",
       "        [0.78481044, 0.08322574, 0.63206241],\n",
       "        [0.08562697, 0.547107  , 0.65728685],\n",
       "        [0.03466167, 0.42512154, 0.70437036]],\n",
       "\n",
       "       [[0.75019937, 0.57365919, 0.75458286],\n",
       "        [0.40001865, 0.32957242, 0.60432677],\n",
       "        [0.6542482 , 0.7488933 , 0.37616495],\n",
       "        [0.69481548, 0.84470042, 0.33709   ]],\n",
       "\n",
       "       [[0.84723865, 0.68555541, 0.9684275 ],\n",
       "        [0.55862381, 0.18076181, 0.69935602],\n",
       "        [0.47946874, 0.76678786, 0.55521963],\n",
       "        [0.49110156, 0.66479042, 0.29813464]]])"
      ]
     },
     "execution_count": 280,
     "metadata": {},
     "output_type": "execute_result"
    }
   ],
   "source": [
    "RGB_image=np.random.rand(3,4,3)\n",
    "RGB_image"
   ]
  },
  {
   "cell_type": "markdown",
   "metadata": {},
   "source": [
    "#### Red Channel"
   ]
  },
  {
   "cell_type": "code",
   "execution_count": 281,
   "metadata": {},
   "outputs": [
    {
     "data": {
      "text/plain": [
       "array([[0.50801503, 0.78481044, 0.08562697, 0.03466167],\n",
       "       [0.75019937, 0.40001865, 0.6542482 , 0.69481548],\n",
       "       [0.84723865, 0.55862381, 0.47946874, 0.49110156]])"
      ]
     },
     "execution_count": 281,
     "metadata": {},
     "output_type": "execute_result"
    }
   ],
   "source": [
    "Red_image=RGB_image[:,:,0]\n",
    "Red_image"
   ]
  },
  {
   "cell_type": "markdown",
   "metadata": {},
   "source": [
    "#### Green Channel"
   ]
  },
  {
   "cell_type": "code",
   "execution_count": 282,
   "metadata": {},
   "outputs": [
    {
     "data": {
      "text/plain": [
       "array([[0.06940111, 0.08322574, 0.547107  , 0.42512154],\n",
       "       [0.57365919, 0.32957242, 0.7488933 , 0.84470042],\n",
       "       [0.68555541, 0.18076181, 0.76678786, 0.66479042]])"
      ]
     },
     "execution_count": 282,
     "metadata": {},
     "output_type": "execute_result"
    }
   ],
   "source": [
    "Green_image=RGB_image[:,:,1]\n",
    "Green_image"
   ]
  },
  {
   "cell_type": "markdown",
   "metadata": {},
   "source": [
    "#### Blue Channel"
   ]
  },
  {
   "cell_type": "code",
   "execution_count": 283,
   "metadata": {},
   "outputs": [
    {
     "data": {
      "text/plain": [
       "array([[0.54739097, 0.63206241, 0.65728685, 0.70437036],\n",
       "       [0.75458286, 0.60432677, 0.37616495, 0.33709   ],\n",
       "       [0.9684275 , 0.69935602, 0.55521963, 0.29813464]])"
      ]
     },
     "execution_count": 283,
     "metadata": {},
     "output_type": "execute_result"
    }
   ],
   "source": [
    "Blue_image=RGB_image[:,:,2]\n",
    "Blue_image"
   ]
  },
  {
   "cell_type": "markdown",
   "metadata": {},
   "source": [
    "### b. Demonstrate how to flatten this 3D array into a 1D array and discuss the implications for image processing."
   ]
  },
  {
   "cell_type": "code",
   "execution_count": 284,
   "metadata": {},
   "outputs": [
    {
     "data": {
      "text/plain": [
       "array([0.50801503, 0.06940111, 0.54739097, 0.78481044, 0.08322574,\n",
       "       0.63206241, 0.08562697, 0.547107  , 0.65728685, 0.03466167,\n",
       "       0.42512154, 0.70437036, 0.75019937, 0.57365919, 0.75458286,\n",
       "       0.40001865, 0.32957242, 0.60432677, 0.6542482 , 0.7488933 ,\n",
       "       0.37616495, 0.69481548, 0.84470042, 0.33709   , 0.84723865,\n",
       "       0.68555541, 0.9684275 , 0.55862381, 0.18076181, 0.69935602,\n",
       "       0.47946874, 0.76678786, 0.55521963, 0.49110156, 0.66479042,\n",
       "       0.29813464])"
      ]
     },
     "execution_count": 284,
     "metadata": {},
     "output_type": "execute_result"
    }
   ],
   "source": [
    "Flattened_Image=RGB_image.flatten()\n",
    "Flattened_Image"
   ]
  },
  {
   "cell_type": "markdown",
   "metadata": {},
   "source": [
    "### c. Use array slicing to extract a sub-array from the 3D array and explain the concept of views versus copies in NumPy."
   ]
  },
  {
   "cell_type": "code",
   "execution_count": 285,
   "metadata": {},
   "outputs": [
    {
     "data": {
      "text/plain": [
       "array([[[0.50801503, 0.06940111, 0.54739097],\n",
       "        [0.78481044, 0.08322574, 0.63206241]],\n",
       "\n",
       "       [[0.75019937, 0.57365919, 0.75458286],\n",
       "        [0.40001865, 0.32957242, 0.60432677]]])"
      ]
     },
     "execution_count": 285,
     "metadata": {},
     "output_type": "execute_result"
    }
   ],
   "source": [
    "sub_array=RGB_image[0:2,0:2,:]\n",
    "sub_array"
   ]
  },
  {
   "cell_type": "markdown",
   "metadata": {},
   "source": [
    "### d. Discuss the advantages of using NumPy arrays over Python lists for large datasets, particularly in terms of performance and memory efficiency."
   ]
  },
  {
   "cell_type": "code",
   "execution_count": null,
   "metadata": {},
   "outputs": [],
   "source": []
  },
  {
   "cell_type": "markdown",
   "metadata": {},
   "source": [
    "### e.Create a function that normalizes the pixel values of the RGB image array to the range [0, 1] and explain the importance of normalization in machine learning."
   ]
  },
  {
   "cell_type": "code",
   "execution_count": 286,
   "metadata": {},
   "outputs": [
    {
     "data": {
      "text/plain": [
       "array([[[0.00199222, 0.00027216, 0.00214663],\n",
       "        [0.00307769, 0.00032638, 0.00247868],\n",
       "        [0.00033579, 0.00214552, 0.0025776 ],\n",
       "        [0.00013593, 0.00166714, 0.00276224]],\n",
       "\n",
       "       [[0.00294196, 0.00224964, 0.00295915],\n",
       "        [0.0015687 , 0.00129244, 0.00236991],\n",
       "        [0.00256568, 0.00293684, 0.00147516],\n",
       "        [0.00272477, 0.00331255, 0.00132192]],\n",
       "\n",
       "       [[0.0033225 , 0.00268845, 0.00379775],\n",
       "        [0.00219068, 0.00070887, 0.00274257],\n",
       "        [0.00188027, 0.00300701, 0.00217733],\n",
       "        [0.00192589, 0.00260702, 0.00116916]]])"
      ]
     },
     "execution_count": 286,
     "metadata": {},
     "output_type": "execute_result"
    }
   ],
   "source": [
    "normalized_image=RGB_image/255\n",
    "normalized_image"
   ]
  },
  {
   "cell_type": "markdown",
   "metadata": {},
   "source": [
    "# Problem 04: “NumPy for Statistical Analysis”\n"
   ]
  },
  {
   "cell_type": "markdown",
   "metadata": {},
   "source": [
    "### a.Generate a NumPy array of 1000 random numbers and calculate basic statistics (mean, median, variance)."
   ]
  },
  {
   "cell_type": "code",
   "execution_count": 287,
   "metadata": {},
   "outputs": [
    {
     "data": {
      "text/plain": [
       "array([[[0.00196572, 0.83816228, 0.60534251, 0.23814482],\n",
       "        [0.37797597, 0.78844743, 0.59847165, 0.51468711],\n",
       "        [0.16373151, 0.39015615, 0.58372834, 0.60395812]],\n",
       "\n",
       "       [[0.44359483, 0.97399825, 0.68190259, 0.25251799],\n",
       "        [0.50639767, 0.68666917, 0.06433434, 0.69677509],\n",
       "        [0.54365575, 0.5602669 , 0.02877041, 0.54910701]],\n",
       "\n",
       "       [[0.99925372, 0.18199995, 0.9881693 , 0.93497863],\n",
       "        [0.03641892, 0.75566553, 0.53965474, 0.2931348 ],\n",
       "        [0.79886735, 0.82438909, 0.85830537, 0.4315866 ]]])"
      ]
     },
     "execution_count": 287,
     "metadata": {},
     "output_type": "execute_result"
    }
   ],
   "source": [
    "Random_arry=np.random.rand(3,3,4)\n",
    "Random_arry"
   ]
  },
  {
   "cell_type": "code",
   "execution_count": 288,
   "metadata": {},
   "outputs": [
    {
     "data": {
      "text/plain": [
       "np.float64(0.5370884891850393)"
      ]
     },
     "execution_count": 288,
     "metadata": {},
     "output_type": "execute_result"
    }
   ],
   "source": [
    "Mean=np.mean(Random_arry)\n",
    "Mean"
   ]
  },
  {
   "cell_type": "code",
   "execution_count": 289,
   "metadata": {},
   "outputs": [
    {
     "data": {
      "text/plain": [
       "np.float64(0.5546869522867341)"
      ]
     },
     "execution_count": 289,
     "metadata": {},
     "output_type": "execute_result"
    }
   ],
   "source": [
    "Median=np.median(Random_arry)\n",
    "Median"
   ]
  },
  {
   "cell_type": "code",
   "execution_count": 290,
   "metadata": {},
   "outputs": [
    {
     "data": {
      "text/plain": [
       "np.float64(0.08025711142341853)"
      ]
     },
     "execution_count": 290,
     "metadata": {},
     "output_type": "execute_result"
    }
   ],
   "source": [
    "variance=np.var(Random_arry)\n",
    "variance"
   ]
  },
  {
   "cell_type": "markdown",
   "metadata": {},
   "source": [
    "### b. Discuss the differences between population and sample statistics, and calculate both for your generated data."
   ]
  },
  {
   "cell_type": "markdown",
   "metadata": {},
   "source": [
    "### Population Statistic"
   ]
  },
  {
   "cell_type": "code",
   "execution_count": 291,
   "metadata": {},
   "outputs": [
    {
     "data": {
      "text/plain": [
       "array([0.94502772, 0.29890677, 0.98077657, 0.35752889, 0.08365241,\n",
       "       0.61669957, 0.92281263, 0.94242634, 0.32946332, 0.5060844 ,\n",
       "       0.41870484, 0.35380593, 0.51210464, 0.22238137, 0.65580998,\n",
       "       0.34268368, 0.71310798, 0.98037464, 0.69585786, 0.90296972,\n",
       "       0.04511034, 0.20390172, 0.91263103, 0.29538294, 0.35655113,\n",
       "       0.39958459, 0.8622172 , 0.41853563, 0.35897843, 0.56770213,\n",
       "       0.29845345, 0.74678284, 0.78142716, 0.70849061, 0.827702  ,\n",
       "       0.48435544, 0.38373959, 0.96193043, 0.82550176, 0.8008506 ,\n",
       "       0.7010603 , 0.73984554, 0.72413732, 0.67105802, 0.10546295,\n",
       "       0.24704225, 0.70661684, 0.0967278 , 0.22802195, 0.8989997 ])"
      ]
     },
     "execution_count": 291,
     "metadata": {},
     "output_type": "execute_result"
    }
   ],
   "source": [
    "population_arry=np.random.rand(50)\n",
    "population_arry"
   ]
  },
  {
   "cell_type": "code",
   "execution_count": 292,
   "metadata": {},
   "outputs": [
    {
     "data": {
      "text/plain": [
       "np.float64(0.5627996186577149)"
      ]
     },
     "execution_count": 292,
     "metadata": {},
     "output_type": "execute_result"
    }
   ],
   "source": [
    "population_mean=np.mean(population_arry)\n",
    "population_mean"
   ]
  },
  {
   "cell_type": "code",
   "execution_count": 293,
   "metadata": {},
   "outputs": [
    {
     "data": {
      "text/plain": [
       "np.float64(0.0760991323887476)"
      ]
     },
     "execution_count": 293,
     "metadata": {},
     "output_type": "execute_result"
    }
   ],
   "source": [
    "population_variance=np.var(population_arry)\n",
    "population_variance"
   ]
  },
  {
   "cell_type": "markdown",
   "metadata": {},
   "source": [
    "### Sample Statistic"
   ]
  },
  {
   "cell_type": "code",
   "execution_count": 294,
   "metadata": {},
   "outputs": [
    {
     "data": {
      "text/plain": [
       "np.float64(0.5627996186577149)"
      ]
     },
     "execution_count": 294,
     "metadata": {},
     "output_type": "execute_result"
    }
   ],
   "source": [
    "sample_mean=np.mean(population_arry)\n",
    "sample_mean"
   ]
  },
  {
   "cell_type": "code",
   "execution_count": 295,
   "metadata": {},
   "outputs": [
    {
     "data": {
      "text/plain": [
       "np.float64(0.0776521759068853)"
      ]
     },
     "execution_count": 295,
     "metadata": {},
     "output_type": "execute_result"
    }
   ],
   "source": [
    "sample_variance=np.var(population_arry,ddof=1)\n",
    "sample_variance"
   ]
  },
  {
   "cell_type": "markdown",
   "metadata": {},
   "source": [
    "### c. Create a histogram of the random numbers using NumPy, and explain how histograms can be useful for data visualization."
   ]
  },
  {
   "cell_type": "code",
   "execution_count": 296,
   "metadata": {},
   "outputs": [],
   "source": [
    "import matplotlib.pyplot as plt"
   ]
  },
  {
   "cell_type": "code",
   "execution_count": 298,
   "metadata": {},
   "outputs": [
    {
     "data": {
      "text/plain": [
       "array([0.92439829, 0.94255421, 0.07958473, 0.04065571, 0.25410686,\n",
       "       0.0988206 , 0.37806732, 0.39391844, 0.52711848, 0.38376424,\n",
       "       0.5618162 , 0.68664616, 0.40799971, 0.67600603, 0.47596622,\n",
       "       0.76009172, 0.41714111, 0.39409843, 0.38404715, 0.77039264,\n",
       "       0.05324178, 0.32484926, 0.50784445, 0.3564741 , 0.53486155,\n",
       "       0.13681353, 0.50708304, 0.02937526, 0.93389344, 0.75071106,\n",
       "       0.40935511, 0.37634464, 0.16569694, 0.46765441, 0.32976542,\n",
       "       0.53323666, 0.06260125, 0.21196289, 0.79899538, 0.71759576,\n",
       "       0.77269976, 0.34324496, 0.00958638, 0.9138189 , 0.92414172,\n",
       "       0.60784516, 0.00995081, 0.04704225, 0.88961747, 0.75252398,\n",
       "       0.30325006, 0.46984441, 0.82160601, 0.89498141, 0.53952302,\n",
       "       0.01516132, 0.83243784, 0.87993652, 0.66521928, 0.60556327,\n",
       "       0.80935956, 0.53630834, 0.80756051, 0.76376802, 0.16603488,\n",
       "       0.29107929, 0.18670023, 0.68807384, 0.99574427, 0.22159362,\n",
       "       0.13475952, 0.78484197, 0.89307257, 0.22804909, 0.99520015,\n",
       "       0.26772246, 0.5044486 , 0.22253977, 0.78426809, 0.68271295])"
      ]
     },
     "execution_count": 298,
     "metadata": {},
     "output_type": "execute_result"
    }
   ],
   "source": [
    "ARRAY=np.random.rand(80)\n",
    "ARRAY"
   ]
  },
  {
   "cell_type": "code",
   "execution_count": 299,
   "metadata": {},
   "outputs": [
    {
     "data": {
      "image/png": "[encoded data removed]",
      "text/plain": [
       "<Figure size 640x480 with 1 Axes>"
      ]
     },
     "metadata": {},
     "output_type": "display_data"
    }
   ],
   "source": [
    "plt.hist(ARRAY, bins=20,color=\"red\",alpha=0.7,edgecolor=\"black\")\n",
    "plt.title(\" Histogram of ARRAY\")\n",
    "plt.xlabel(\"Values\")\n",
    "plt.ylabel(\"Frequency\")\n",
    "plt.grid(axis=\"y\",alpha=0.75)\n",
    "plt.show()\n"
   ]
  },
  {
   "cell_type": "markdown",
   "metadata": {},
   "source": [
    "### d. Implement a method to identify outliers in your dataset using the IQR (Interquartile Range) method.\n"
   ]
  },
  {
   "cell_type": "code",
   "execution_count": 300,
   "metadata": {},
   "outputs": [
    {
     "data": {
      "text/plain": [
       "array([0.95679598, 0.10771942, 0.32803412, 0.71524483, 0.70036439,\n",
       "       0.79924822, 0.82534183, 0.62264723, 0.83196581, 0.02845247,\n",
       "       0.2517276 , 0.69478904, 0.9432978 , 0.3243043 , 0.29524099,\n",
       "       0.18465924, 0.45038116, 0.15770217, 0.00318856, 0.70725459,\n",
       "       0.36667517, 0.54372549, 0.6014125 , 0.12240421, 0.25818984,\n",
       "       0.49700163, 0.72060774, 0.99535028, 0.98750181, 0.4998241 ,\n",
       "       0.18496753, 0.65952897, 0.91125439, 0.74244702, 0.31472444,\n",
       "       0.40435361, 0.54668578, 0.08507698, 0.83817007, 0.5006371 ,\n",
       "       0.76817857, 0.28991523, 0.39418545, 0.79373097, 0.67715975,\n",
       "       0.06425843, 0.57043342, 0.09969709, 0.56001047, 0.54667289])"
      ]
     },
     "execution_count": 300,
     "metadata": {},
     "output_type": "execute_result"
    }
   ],
   "source": [
    "data=np.random.rand(50)\n",
    "data"
   ]
  },
  {
   "cell_type": "markdown",
   "metadata": {},
   "source": [
    "### 25% Percentile"
   ]
  },
  {
   "cell_type": "code",
   "execution_count": 301,
   "metadata": {},
   "outputs": [
    {
     "data": {
      "text/plain": [
       "np.float64(0.2912466670945504)"
      ]
     },
     "execution_count": 301,
     "metadata": {},
     "output_type": "execute_result"
    }
   ],
   "source": [
    "Q1=np.percentile(data,25)\n",
    "Q1"
   ]
  },
  {
   "cell_type": "markdown",
   "metadata": {},
   "source": [
    "### 75% Percentile"
   ]
  },
  {
   "cell_type": "code",
   "execution_count": 302,
   "metadata": {},
   "outputs": [
    {
     "data": {
      "text/plain": [
       "np.float64(0.7192670125173459)"
      ]
     },
     "execution_count": 302,
     "metadata": {},
     "output_type": "execute_result"
    }
   ],
   "source": [
    "Q3=np.percentile(data,75)\n",
    "Q3"
   ]
  },
  {
   "cell_type": "markdown",
   "metadata": {},
   "source": [
    "### IQR"
   ]
  },
  {
   "cell_type": "code",
   "execution_count": 303,
   "metadata": {},
   "outputs": [
    {
     "data": {
      "text/plain": [
       "np.float64(0.42802034542279555)"
      ]
     },
     "execution_count": 303,
     "metadata": {},
     "output_type": "execute_result"
    }
   ],
   "source": [
    "IQR=Q3-Q1\n",
    "IQR"
   ]
  },
  {
   "cell_type": "markdown",
   "metadata": {},
   "source": [
    "### Outliers"
   ]
  },
  {
   "cell_type": "code",
   "execution_count": 304,
   "metadata": {},
   "outputs": [
    {
     "data": {
      "text/plain": [
       "np.float64(-0.35078385103964294)"
      ]
     },
     "execution_count": 304,
     "metadata": {},
     "output_type": "execute_result"
    }
   ],
   "source": [
    "lower_bound=Q1-1.5*IQR\n",
    "lower_bound"
   ]
  },
  {
   "cell_type": "code",
   "execution_count": 305,
   "metadata": {},
   "outputs": [
    {
     "data": {
      "text/plain": [
       "np.float64(1.3612975306515391)"
      ]
     },
     "execution_count": 305,
     "metadata": {},
     "output_type": "execute_result"
    }
   ],
   "source": [
    "Upper_bound=Q3+1.5*IQR\n",
    "Upper_bound"
   ]
  },
  {
   "cell_type": "code",
   "execution_count": 307,
   "metadata": {},
   "outputs": [
    {
     "data": {
      "text/plain": [
       "array([], dtype=float64)"
      ]
     },
     "execution_count": 307,
     "metadata": {},
     "output_type": "execute_result"
    }
   ],
   "source": [
    "Outliers=data[(data<lower_bound)|(data>Upper_bound)]\n",
    "Outliers"
   ]
  },
  {
   "cell_type": "markdown",
   "metadata": {},
   "source": [
    "### e.Explain how NumPy’s statistical functions can be utilized for data analysis in scientific research."
   ]
  },
  {
   "cell_type": "code",
   "execution_count": null,
   "metadata": {},
   "outputs": [],
   "source": []
  },
  {
   "cell_type": "markdown",
   "metadata": {},
   "source": [
    "# Problem 05: “Advanced NumPy Operations Challenge”\n"
   ]
  },
  {
   "cell_type": "markdown",
   "metadata": {},
   "source": [
    "### You are given two 2D NumPy arrays X of shape (n, d) and Y of shape (m, d) containing random floating-point numbers. Your task is to solve the following using NumPy's broadcasting, strides and advanced functions, without using explicit loops:\n"
   ]
  },
  {
   "cell_type": "markdown",
   "metadata": {},
   "source": [
    "### a. Compute the pairwise Euclidean distance between each row in X and each row in Y, returning a matrix D of shape (n, m) where each element D[i, j] represents the distance between X[i] and Y[j]."
   ]
  },
  {
   "cell_type": "code",
   "execution_count": 313,
   "metadata": {},
   "outputs": [
    {
     "data": {
      "text/plain": [
       "array([[1, 2, 3],\n",
       "       [4, 5, 6],\n",
       "       [7, 8, 9]])"
      ]
     },
     "execution_count": 313,
     "metadata": {},
     "output_type": "execute_result"
    }
   ],
   "source": [
    "X=np.array([[1,2,3],[4,5,6],[7,8,9]])\n",
    "X"
   ]
  },
  {
   "cell_type": "code",
   "execution_count": 320,
   "metadata": {},
   "outputs": [
    {
     "data": {
      "text/plain": [
       "array([[32, 21],\n",
       "       [36, 41],\n",
       "       [38, 61]])"
      ]
     },
     "execution_count": 320,
     "metadata": {},
     "output_type": "execute_result"
    }
   ],
   "source": [
    "Y=np.array([[32,21],[36,41],[38,61]])\n",
    "Y"
   ]
  },
  {
   "cell_type": "code",
   "execution_count": 321,
   "metadata": {},
   "outputs": [
    {
     "data": {
      "text/plain": [
       "array([35.84689666, 47.42362281, 60.53924347])"
      ]
     },
     "execution_count": 321,
     "metadata": {},
     "output_type": "execute_result"
    }
   ],
   "source": [
    "Pairwise_euclidean_distance=np.sqrt(np.sum((X-Y)**2,axis=-1))\n",
    "Pairwise_euclidean_distance"
   ]
  },
  {
   "cell_type": "markdown",
   "metadata": {},
   "source": [
    "### b. b. Write a function sliding_window_mean(arr, window_size) that takes a 1D NumPy array arr (a single row from X) and a window size window_size, returning the mean values for each sliding window of the specified size"
   ]
  },
  {
   "cell_type": "code",
   "execution_count": null,
   "metadata": {},
   "outputs": [],
   "source": []
  },
  {
   "cell_type": "markdown",
   "metadata": {},
   "source": [
    "### c. Perform Singular Value Decomposition (SVD) on D to decompose it into U, Σ, and V. Then, reconstruct D using only the top 2 singular values. Comp"
   ]
  },
  {
   "cell_type": "code",
   "execution_count": 329,
   "metadata": {},
   "outputs": [
    {
     "data": {
      "text/plain": [
       "array([[ 2,  4,  6],\n",
       "       [ 3,  6,  9],\n",
       "       [ 4,  8, 12]])"
      ]
     },
     "execution_count": 329,
     "metadata": {},
     "output_type": "execute_result"
    }
   ],
   "source": [
    "Array_for_SVD=np.array([[2,4,6],[3,6,9],[4,8,12]])\n",
    "Array_for_SVD"
   ]
  },
  {
   "cell_type": "code",
   "execution_count": 330,
   "metadata": {},
   "outputs": [
    {
     "name": "stdout",
     "output_type": "stream",
     "text": [
      "U matrix:\n",
      " [[-3.71390676e-01  9.28476691e-01  3.17185542e-17]\n",
      " [-5.57086015e-01 -2.22834406e-01 -8.00000000e-01]\n",
      " [-7.42781353e-01 -2.97112541e-01  6.00000000e-01]]\n",
      "Singular values:\n",
      " [2.01494417e+01 6.03111790e-16 6.57595533e-32]\n",
      "Vt matrix:\n",
      " [[-0.26726124 -0.53452248 -0.80178373]\n",
      " [ 0.80283657  0.3366586  -0.49205125]\n",
      " [ 0.53293984 -0.77520752  0.3391584 ]]\n"
     ]
    }
   ],
   "source": [
    "U,sigma,Vt=np.linalg.svd(Array_for_SVD,full_matrices=False)\n",
    "print(\"U matrix:\\n\",U)\n",
    "print(\"Singular values:\\n\",sigma)\n",
    "print(\"Vt matrix:\\n\",Vt)"
   ]
  },
  {
   "cell_type": "code",
   "execution_count": 333,
   "metadata": {},
   "outputs": [
    {
     "data": {
      "text/plain": [
       "array([[-3.71390676e-01,  9.28476691e-01,  3.17185542e-17],\n",
       "       [-5.57086015e-01, -2.22834406e-01, -8.00000000e-01],\n",
       "       [-7.42781353e-01, -2.97112541e-01,  6.00000000e-01]])"
      ]
     },
     "execution_count": 333,
     "metadata": {},
     "output_type": "execute_result"
    }
   ],
   "source": [
    "k=4\n",
    "U_k=U[:, :k]\n",
    "U_k\n"
   ]
  },
  {
   "cell_type": "code",
   "execution_count": 334,
   "metadata": {},
   "outputs": [
    {
     "data": {
      "text/plain": [
       "array([[2.01494417e+01, 0.00000000e+00, 0.00000000e+00],\n",
       "       [0.00000000e+00, 6.03111790e-16, 0.00000000e+00],\n",
       "       [0.00000000e+00, 0.00000000e+00, 6.57595533e-32]])"
      ]
     },
     "execution_count": 334,
     "metadata": {},
     "output_type": "execute_result"
    }
   ],
   "source": [
    "sigma_k=np.diag(sigma[:k])\n",
    "sigma_k"
   ]
  },
  {
   "cell_type": "code",
   "execution_count": 335,
   "metadata": {},
   "outputs": [
    {
     "data": {
      "text/plain": [
       "array([[-3.71390676e-01,  9.28476691e-01,  3.17185542e-17],\n",
       "       [-5.57086015e-01, -2.22834406e-01, -8.00000000e-01],\n",
       "       [-7.42781353e-01, -2.97112541e-01,  6.00000000e-01]])"
      ]
     },
     "execution_count": 335,
     "metadata": {},
     "output_type": "execute_result"
    }
   ],
   "source": [
    "Vt_k=U[:k,:]\n",
    "Vt_k"
   ]
  },
  {
   "cell_type": "code",
   "execution_count": 337,
   "metadata": {},
   "outputs": [
    {
     "data": {
      "text/plain": [
       "array([[ 2.77923334e+00, -6.94808334e+00, -6.85340117e-16],\n",
       "       [ 4.16885000e+00, -1.04221250e+01, -2.48524642e-16],\n",
       "       [ 5.55846667e+00, -1.38961667e+01, -3.31366190e-16]])"
      ]
     },
     "execution_count": 337,
     "metadata": {},
     "output_type": "execute_result"
    }
   ],
   "source": [
    "Reconstructed_matric=U_k@ sigma_k@ Vt_k\n",
    "Reconstructed_matric"
   ]
  },
  {
   "cell_type": "markdown",
   "metadata": {},
   "source": [
    "### d. Modify D such that:\n",
    "i. Replace all distances less than 5 with 0.\n",
    "ii.Replace all distances greater than 100 with 1.\n",
    "iii. Count how many values remain between 5 and 100 after this transformation."
   ]
  },
  {
   "cell_type": "code",
   "execution_count": null,
   "metadata": {},
   "outputs": [],
   "source": [
    "D = np.array([[2, 15, 110],\n",
    "              [7, 5, 20],\n",
    "              [3, 95, 120]])\n",
    "\n",
    "# Step 1: Create a copy of D to apply transformations\n",
    "D_modified = np.copy(D)\n",
    "\n",
    "# Step 2: Apply transformations\n",
    "D_modified[D_modified < 5] = 0        # Replace values less than 5 with 0\n",
    "D_modified[D_modified > 100] = 1      # Replace values greater than 100 with 1\n",
    "\n",
    "# Step 3: Count how many values remain between 5 and 100\n",
    "count_between_5_and_100 = np.sum((D_modified >= 5) & (D_modified <= 100))"
   ]
  },
  {
   "cell_type": "code",
   "execution_count": 339,
   "metadata": {},
   "outputs": [
    {
     "data": {
      "text/plain": [
       "array([[1, 2, 3],\n",
       "       [1, 4, 7],\n",
       "       [5, 6, 9],\n",
       "       [7, 8, 9]])"
      ]
     },
     "execution_count": 339,
     "metadata": {},
     "output_type": "execute_result"
    }
   ],
   "source": [
    "E_Arr=np.array([[1,2,3],[1,4,7],[5,6,9],[7,8,9]])\n",
    "E_Arr"
   ]
  },
  {
   "cell_type": "code",
   "execution_count": 341,
   "metadata": {},
   "outputs": [
    {
     "data": {
      "text/plain": [
       "array([[1, 2, 3],\n",
       "       [1, 4, 7],\n",
       "       [5, 6, 9],\n",
       "       [7, 8, 9]])"
      ]
     },
     "execution_count": 341,
     "metadata": {},
     "output_type": "execute_result"
    }
   ],
   "source": [
    "Modified_E_Arr=np.copy(E_Arr)\n",
    "Modified_E_Arr"
   ]
  },
  {
   "cell_type": "code",
   "execution_count": 347,
   "metadata": {},
   "outputs": [
    {
     "data": {
      "text/plain": [
       "np.int64(7)"
      ]
     },
     "execution_count": 347,
     "metadata": {},
     "output_type": "execute_result"
    }
   ],
   "source": [
    "Modified_E_Arr[Modified_E_Arr<4]=0\n",
    "Modified_E_Arr[Modified_E_Arr>9]=1\n",
    "count_between_4_And_9=np.sum((Modified_E_Arr>=4)&(Modified_E_Arr<=9))\n",
    "count_between_4_And_9\n"
   ]
  },
  {
   "cell_type": "code",
   "execution_count": null,
   "metadata": {},
   "outputs": [],
   "source": []
  }
 ],
 "metadata": {
  "kernelspec": {
   "display_name": "Python 3",
   "language": "python",
   "name": "python3"
  },
  "language_info": {
   "codemirror_mode": {
    "name": "ipython",
    "version": 3
   },
   "file_extension": ".py",
   "mimetype": "text/x-python",
   "name": "python",
   "nbconvert_exporter": "python",
   "pygments_lexer": "ipython3",
   "version": "3.12.6"
  }
 },
 "nbformat": 4,
 "nbformat_minor": 2
}
