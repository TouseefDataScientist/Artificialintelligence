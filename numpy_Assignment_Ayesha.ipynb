{
 "cells": [
  {
   "cell_type": "markdown",
   "metadata": {},
   "source": [
    "## Assignment: Numpy"
   ]
  },
  {
   "cell_type": "markdown",
   "metadata": {},
   "source": [
    "### Submitted By: Ayesha"
   ]
  },
  {
   "cell_type": "code",
   "execution_count": 1,
   "metadata": {},
   "outputs": [],
   "source": [
    "import pandas as pd\n",
    "import numpy as np\n",
    "import matplotlib.pyplot as plt"
   ]
  },
  {
   "cell_type": "markdown",
   "metadata": {},
   "source": [
    "#### Problem 01: “Understanding NumPy Arrays and Operations” "
   ]
  },
  {
   "cell_type": "code",
   "execution_count": 22,
   "metadata": {},
   "outputs": [
    {
     "data": {
      "text/plain": [
       "array([[58, 79,  4, 58, 79],\n",
       "       [66, 50, 33, 20, 28],\n",
       "       [98,  6, 76, 51, 52],\n",
       "       [ 5, 82, 17, 31, 64]])"
      ]
     },
     "execution_count": 22,
     "metadata": {},
     "output_type": "execute_result"
    }
   ],
   "source": [
    "array=np.random.randint(1,101,size=(4,5))\n",
    "array"
   ]
  },
  {
   "cell_type": "code",
   "execution_count": 23,
   "metadata": {},
   "outputs": [
    {
     "data": {
      "text/plain": [
       "array([[58, 79,  4, 58, 79, 66, 50, 33, 20, 28],\n",
       "       [98,  6, 76, 51, 52,  5, 82, 17, 31, 64]])"
      ]
     },
     "execution_count": 23,
     "metadata": {},
     "output_type": "execute_result"
    }
   ],
   "source": [
    "r=array.reshape(2,10)\n",
    "r"
   ]
  },
  {
   "cell_type": "code",
   "execution_count": 26,
   "metadata": {},
   "outputs": [
    {
     "data": {
      "text/plain": [
       "array([[ 85, 153,  24, 113,  90, 149,  52,  65,  90, 113],\n",
       "       [167,  67, 152, 142, 102,  35, 150,  41, 117, 124]])"
      ]
     },
     "execution_count": 26,
     "metadata": {},
     "output_type": "execute_result"
    }
   ],
   "source": [
    "array2=np.random.randint(1,101,size=(2,10))\n",
    "result=r+array2\n",
    "result"
   ]
  },
  {
   "cell_type": "code",
   "execution_count": 28,
   "metadata": {},
   "outputs": [
    {
     "data": {
      "text/plain": [
       "array([[46003, 52611],\n",
       "       [17917, 24996]])"
      ]
     },
     "execution_count": 28,
     "metadata": {},
     "output_type": "execute_result"
    }
   ],
   "source": [
    "a=np.random.randint(1,101,size=(2,10))\n",
    "b=np.random.randint(1,101,size=(10,2))\n",
    "product=np.dot(a,b)\n",
    "product"
   ]
  },
  {
   "cell_type": "code",
   "execution_count": 31,
   "metadata": {},
   "outputs": [
    {
     "data": {
      "text/plain": [
       "masked_array(\n",
       "  data=[[58, 79, --, 58, 79],\n",
       "        [66, --, --, --, --],\n",
       "        [98, --, 76, --, 52],\n",
       "        [--, 82, --, --, 64]],\n",
       "  mask=[[False, False,  True, False, False],\n",
       "        [False,  True,  True,  True,  True],\n",
       "        [False,  True, False,  True, False],\n",
       "        [ True, False,  True,  True, False]],\n",
       "  fill_value=999999)"
      ]
     },
     "execution_count": 31,
     "metadata": {},
     "output_type": "execute_result"
    }
   ],
   "source": [
    "median=np.median(array)\n",
    "mask=np.ma.masked_less(array,median)\n",
    "mask"
   ]
  },
  {
   "cell_type": "markdown",
   "metadata": {},
   "source": [
    "#### Problem 02: “Exploring NumPy Broadcasting and Strides” "
   ]
  },
  {
   "cell_type": "code",
   "execution_count": 35,
   "metadata": {},
   "outputs": [
    {
     "data": {
      "text/plain": [
       "array([[ 3,  5,  8, 10],\n",
       "       [ 5,  7, 10, 12],\n",
       "       [ 7,  9, 12, 14]])"
      ]
     },
     "execution_count": 35,
     "metadata": {},
     "output_type": "execute_result"
    }
   ],
   "source": [
    "a=np.array([[1],[3],[5]])\n",
    "b=np.array([2,4,7,9])\n",
    "result=a+b\n",
    "result"
   ]
  },
  {
   "cell_type": "code",
   "execution_count": 39,
   "metadata": {},
   "outputs": [
    {
     "data": {
      "text/plain": [
       "array([[ 8, 24, 35],\n",
       "       [20, 48, 63],\n",
       "       [12, 36, 49]])"
      ]
     },
     "execution_count": 39,
     "metadata": {},
     "output_type": "execute_result"
    }
   ],
   "source": [
    "a=np.array([[2,4,5],[5,8,9],[3,6,7]])\n",
    "b=np.array([[4,6,7]])\n",
    "result=a*b\n",
    "result"
   ]
  },
  {
   "cell_type": "code",
   "execution_count": 40,
   "metadata": {},
   "outputs": [
    {
     "data": {
      "text/plain": [
       "((4000, 4), (4000, 4))"
      ]
     },
     "execution_count": 40,
     "metadata": {},
     "output_type": "execute_result"
    }
   ],
   "source": [
    "a=np.random.randint(1,100,(1000,1000))\n",
    "contiguous_slice=a[:,:500]\n",
    "noncontiguous_slice=a[:,::4]\n",
    "contiguous_stride=contiguous_slice.strides\n",
    "noncontiguous_stride=contiguous_slice.strides\n",
    "contiguous_stride,noncontiguous_stride"
   ]
  },
  {
   "cell_type": "code",
   "execution_count": 41,
   "metadata": {},
   "outputs": [
    {
     "data": {
      "text/plain": [
       "array([[11, 21, 31],\n",
       "       [12, 22, 32],\n",
       "       [13, 23, 33],\n",
       "       [14, 24, 34]])"
      ]
     },
     "execution_count": 41,
     "metadata": {},
     "output_type": "execute_result"
    }
   ],
   "source": [
    "A = np.array([[1], [2], [3], [4]])\n",
    "B = np.array([10, 20, 30])\n",
    "result = A + B\n",
    "result"
   ]
  },
  {
   "cell_type": "markdown",
   "metadata": {},
   "source": [
    "#### Problem 03: “Advanced Array Manipulation with NumPy”"
   ]
  },
  {
   "cell_type": "code",
   "execution_count": 48,
   "metadata": {},
   "outputs": [
    {
     "data": {
      "text/plain": [
       "array([[[ 11,  90, 226],\n",
       "        [ 40, 100,  73],\n",
       "        [ 31, 126, 244],\n",
       "        [  6, 126,  25]],\n",
       "\n",
       "       [[ 18,  28, 141],\n",
       "        [251,  47, 213],\n",
       "        [  8,   7, 113],\n",
       "        [ 79,  23,  52]],\n",
       "\n",
       "       [[160, 235, 215],\n",
       "        [ 50, 150,  63],\n",
       "        [ 30, 158, 100],\n",
       "        [127, 133,  47]],\n",
       "\n",
       "       [[230, 134, 145],\n",
       "        [ 96, 228, 110],\n",
       "        [128,  61, 187],\n",
       "        [ 70, 216,   0]]], dtype=uint8)"
      ]
     },
     "execution_count": 48,
     "metadata": {},
     "output_type": "execute_result"
    }
   ],
   "source": [
    "image = np.random.randint(0, 256, size=(4, 4, 3), dtype=np.uint8)\n",
    "image"
   ]
  },
  {
   "cell_type": "code",
   "execution_count": 49,
   "metadata": {},
   "outputs": [
    {
     "data": {
      "text/plain": [
       "(array([[ 11,  40,  31,   6],\n",
       "        [ 18, 251,   8,  79],\n",
       "        [160,  50,  30, 127],\n",
       "        [230,  96, 128,  70]], dtype=uint8),\n",
       " array([[ 90, 100, 126, 126],\n",
       "        [ 28,  47,   7,  23],\n",
       "        [235, 150, 158, 133],\n",
       "        [134, 228,  61, 216]], dtype=uint8),\n",
       " array([[226,  73, 244,  25],\n",
       "        [141, 213, 113,  52],\n",
       "        [215,  63, 100,  47],\n",
       "        [145, 110, 187,   0]], dtype=uint8))"
      ]
     },
     "execution_count": 49,
     "metadata": {},
     "output_type": "execute_result"
    }
   ],
   "source": [
    "red_channel = image[:, :, 0]   \n",
    "green_channel = image[:, :, 1]\n",
    "blue_channel = image[:, :, 2]\n",
    "red_channel, green_channel, blue_channel"
   ]
  },
  {
   "cell_type": "code",
   "execution_count": 50,
   "metadata": {},
   "outputs": [
    {
     "data": {
      "text/plain": [
       "array([ 11,  90, 226,  40, 100,  73,  31, 126, 244,   6, 126,  25,  18,\n",
       "        28, 141, 251,  47, 213,   8,   7, 113,  79,  23,  52, 160, 235,\n",
       "       215,  50, 150,  63,  30, 158, 100, 127, 133,  47, 230, 134, 145,\n",
       "        96, 228, 110, 128,  61, 187,  70, 216,   0], dtype=uint8)"
      ]
     },
     "execution_count": 50,
     "metadata": {},
     "output_type": "execute_result"
    }
   ],
   "source": [
    "i= image.flatten()\n",
    "i"
   ]
  },
  {
   "cell_type": "code",
   "execution_count": 51,
   "metadata": {},
   "outputs": [
    {
     "data": {
      "text/plain": [
       "(array([[[255,  90, 226],\n",
       "         [255, 100,  73]],\n",
       " \n",
       "        [[255,  28, 141],\n",
       "         [255,  47, 213]]], dtype=uint8),\n",
       " array([[[255,  90, 226],\n",
       "         [255, 100,  73],\n",
       "         [ 31, 126, 244],\n",
       "         [  6, 126,  25]],\n",
       " \n",
       "        [[255,  28, 141],\n",
       "         [255,  47, 213],\n",
       "         [  8,   7, 113],\n",
       "         [ 79,  23,  52]],\n",
       " \n",
       "        [[160, 235, 215],\n",
       "         [ 50, 150,  63],\n",
       "         [ 30, 158, 100],\n",
       "         [127, 133,  47]],\n",
       " \n",
       "        [[230, 134, 145],\n",
       "         [ 96, 228, 110],\n",
       "         [128,  61, 187],\n",
       "         [ 70, 216,   0]]], dtype=uint8))"
      ]
     },
     "execution_count": 51,
     "metadata": {},
     "output_type": "execute_result"
    }
   ],
   "source": [
    "sub_array = image[:2, :2, :]\n",
    "sub_array[:, :, 0] = 255\n",
    "sub_array, image"
   ]
  },
  {
   "cell_type": "code",
   "execution_count": 53,
   "metadata": {},
   "outputs": [
    {
     "data": {
      "text/plain": [
       "array([[[255,  90, 226],\n",
       "        [255, 100,  73]],\n",
       "\n",
       "       [[255,  28, 141],\n",
       "        [255,  47, 213]]], dtype=uint8)"
      ]
     },
     "execution_count": 53,
     "metadata": {},
     "output_type": "execute_result"
    }
   ],
   "source": [
    "sub_array_copy = np.copy(sub_array)\n",
    "sub_array_copy"
   ]
  },
  {
   "cell_type": "code",
   "execution_count": 58,
   "metadata": {},
   "outputs": [
    {
     "data": {
      "text/plain": [
       "array([[[1.        , 0.35294118, 0.88627451],\n",
       "        [1.        , 0.39215686, 0.28627451],\n",
       "        [0.12156863, 0.49411765, 0.95686275],\n",
       "        [0.02352941, 0.49411765, 0.09803922]],\n",
       "\n",
       "       [[1.        , 0.10980392, 0.55294118],\n",
       "        [1.        , 0.18431373, 0.83529412],\n",
       "        [0.03137255, 0.02745098, 0.44313725],\n",
       "        [0.30980392, 0.09019608, 0.20392157]],\n",
       "\n",
       "       [[0.62745098, 0.92156863, 0.84313725],\n",
       "        [0.19607843, 0.58823529, 0.24705882],\n",
       "        [0.11764706, 0.61960784, 0.39215686],\n",
       "        [0.49803922, 0.52156863, 0.18431373]],\n",
       "\n",
       "       [[0.90196078, 0.5254902 , 0.56862745],\n",
       "        [0.37647059, 0.89411765, 0.43137255],\n",
       "        [0.50196078, 0.23921569, 0.73333333],\n",
       "        [0.2745098 , 0.84705882, 0.        ]]])"
      ]
     },
     "execution_count": 58,
     "metadata": {},
     "output_type": "execute_result"
    }
   ],
   "source": [
    "normalize= image/ 255.0\n",
    "normalize"
   ]
  },
  {
   "cell_type": "markdown",
   "metadata": {},
   "source": [
    "#### Problem 04: “NumPy for Statistical Analysis” "
   ]
  },
  {
   "cell_type": "code",
   "execution_count": 3,
   "metadata": {},
   "outputs": [],
   "source": [
    "array=np.random.randn(1000)"
   ]
  },
  {
   "cell_type": "code",
   "execution_count": 7,
   "metadata": {},
   "outputs": [
    {
     "data": {
      "text/plain": [
       "0.025310368998314965"
      ]
     },
     "execution_count": 7,
     "metadata": {},
     "output_type": "execute_result"
    }
   ],
   "source": [
    "\n",
    "mean=np.mean(array)\n",
    "mean"
   ]
  },
  {
   "cell_type": "code",
   "execution_count": 8,
   "metadata": {},
   "outputs": [
    {
     "data": {
      "text/plain": [
       "0.020336530474327867"
      ]
     },
     "execution_count": 8,
     "metadata": {},
     "output_type": "execute_result"
    }
   ],
   "source": [
    "\n",
    "median=np.median(array)\n",
    "median"
   ]
  },
  {
   "cell_type": "code",
   "execution_count": 9,
   "metadata": {},
   "outputs": [
    {
     "data": {
      "text/plain": [
       "1.046683825827077"
      ]
     },
     "execution_count": 9,
     "metadata": {},
     "output_type": "execute_result"
    }
   ],
   "source": [
    "\n",
    "variance=np.var(array)\n",
    "variance"
   ]
  },
  {
   "cell_type": "code",
   "execution_count": 10,
   "metadata": {},
   "outputs": [
    {
     "data": {
      "text/plain": [
       "1.046683825827077"
      ]
     },
     "execution_count": 10,
     "metadata": {},
     "output_type": "execute_result"
    }
   ],
   "source": [
    "population_var=np.var(array)\n",
    "population_var"
   ]
  },
  {
   "cell_type": "code",
   "execution_count": 12,
   "metadata": {},
   "outputs": [
    {
     "data": {
      "text/plain": [
       "1.0477315573844614"
      ]
     },
     "execution_count": 12,
     "metadata": {},
     "output_type": "execute_result"
    }
   ],
   "source": [
    "sample_var=np.var(array,ddof=1)\n",
    "sample_var"
   ]
  },
  {
   "cell_type": "code",
   "execution_count": 15,
   "metadata": {},
   "outputs": [
    {
     "data": {
      "image/png": "[encoded data removed]",
      "text/plain": [
       "<Figure size 640x480 with 1 Axes>"
      ]
     },
     "metadata": {},
     "output_type": "display_data"
    }
   ],
   "source": [
    "plt.hist(array,bins=20,edgecolor='black')\n",
    "plt.title('Histogram of Random Numbers')\n",
    "plt.xlabel('Values')\n",
    "plt.ylabel('Frequency')\n",
    "plt.show()"
   ]
  },
  {
   "cell_type": "code",
   "execution_count": 18,
   "metadata": {},
   "outputs": [
    {
     "data": {
      "text/plain": [
       "(-0.6727882705694954, 0.6757237683889681)"
      ]
     },
     "execution_count": 18,
     "metadata": {},
     "output_type": "execute_result"
    }
   ],
   "source": [
    "Q1=np.percentile(array,25)\n",
    "Q3=np.percentile(array,75)\n",
    "Q1,Q3"
   ]
  },
  {
   "cell_type": "code",
   "execution_count": 19,
   "metadata": {},
   "outputs": [
    {
     "data": {
      "text/plain": [
       "1.3485120389584635"
      ]
     },
     "execution_count": 19,
     "metadata": {},
     "output_type": "execute_result"
    }
   ],
   "source": [
    "\n",
    "IQR=Q3-Q1\n",
    "IQR"
   ]
  },
  {
   "cell_type": "code",
   "execution_count": 20,
   "metadata": {},
   "outputs": [
    {
     "data": {
      "text/plain": [
       "array([ 3.00228286,  3.02277113, -2.84271576, -2.81573699,  2.71031361,\n",
       "       -2.91752987,  2.81688298,  2.69871242])"
      ]
     },
     "execution_count": 20,
     "metadata": {},
     "output_type": "execute_result"
    }
   ],
   "source": [
    "lower_bound=Q1-1.5*IQR\n",
    "upper_bound=Q3+1.5*IQR\n",
    "outliers=array[(array<lower_bound)|(array>upper_bound)]\n",
    "outliers"
   ]
  }
 ],
 "metadata": {
  "kernelspec": {
   "display_name": "Python 3",
   "language": "python",
   "name": "python3"
  },
  "language_info": {
   "codemirror_mode": {
    "name": "ipython",
    "version": 3
   },
   "file_extension": ".py",
   "mimetype": "text/x-python",
   "name": "python",
   "nbconvert_exporter": "python",
   "pygments_lexer": "ipython3",
   "version": "3.11.9"
  }
 },
 "nbformat": 4,
 "nbformat_minor": 2
}
